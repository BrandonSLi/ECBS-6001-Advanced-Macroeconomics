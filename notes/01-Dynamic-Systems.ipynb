{
 "cells": [
  {
   "cell_type": "markdown",
   "metadata": {},
   "source": [
    "# Dynamic Systems"
   ]
  },
  {
   "cell_type": "markdown",
   "metadata": {},
   "source": [
    "If you don't see Julia among the kernels: From the Julia promt, push `]`, then\n",
    "```\n",
    "add IJulia\n",
    "```\n",
    "The push backspace and\n",
    "```\n",
    "using IJulia\n",
    "jupyterlab()\n",
    "```"
   ]
  },
  {
   "cell_type": "markdown",
   "metadata": {},
   "source": [
    "## First-order difference equations\n",
    "$$\n",
    "x_t = F_t(x_{t-1})\n",
    "$$\n"
   ]
  },
  {
   "cell_type": "code",
   "execution_count": null,
   "metadata": {},
   "outputs": [],
   "source": []
  },
  {
   "cell_type": "markdown",
   "metadata": {},
   "source": [
    "### First-order linear difference equations\n"
   ]
  },
  {
   "cell_type": "markdown",
   "metadata": {},
   "source": [
    "$$\n",
    "x_t = a x_{t-1} + b\n",
    "$$\n",
    "Substract $b/(1-a)$:\n",
    "$$\n",
    "x_t - b/(1-a) = a x_{t-1} +b - b/(1-a) \n",
    "$$\n",
    "$$\n",
    "x_t - b/(1-a) = a (x_{t-1} - b/(1-a)) \n",
    "$$\n",
    "$$\n",
    "\\tilde x_t = a \\tilde x_{t-1}\n",
    "$$\n",
    "with $\\tilde x_t = x_t-b/(1-a)$\n"
   ]
  },
  {
   "cell_type": "markdown",
   "metadata": {},
   "source": [
    "Suppose $x_o = c$ and assume $b=0$\n",
    "$$\n",
    "x_t = ax_{t-1} = a^2 x_{t-2}=..\n",
    "$$\n",
    "$$\n",
    "x_t = a^t c\n",
    "$$"
   ]
  },
  {
   "cell_type": "markdown",
   "metadata": {},
   "source": []
  },
  {
   "cell_type": "code",
   "execution_count": null,
   "metadata": {},
   "outputs": [],
   "source": []
  },
  {
   "cell_type": "markdown",
   "metadata": {},
   "source": [
    "### Functions\n"
   ]
  },
  {
   "cell_type": "code",
   "execution_count": 2,
   "metadata": {},
   "outputs": [
    {
     "data": {
      "text/plain": [
       "AR1 (generic function with 1 method)"
      ]
     },
     "execution_count": 2,
     "metadata": {},
     "output_type": "execute_result"
    }
   ],
   "source": [
    "function AR1(x, a, b)\n",
    "    return a * x + b\n",
    "end"
   ]
  },
  {
   "cell_type": "code",
   "execution_count": 3,
   "metadata": {},
   "outputs": [
    {
     "data": {
      "text/plain": [
       "0.99"
      ]
     },
     "execution_count": 3,
     "metadata": {},
     "output_type": "execute_result"
    }
   ],
   "source": [
    "AR1(1.0, 0.99, 0.0)"
   ]
  },
  {
   "cell_type": "code",
   "execution_count": null,
   "metadata": {},
   "outputs": [],
   "source": []
  },
  {
   "cell_type": "code",
   "execution_count": null,
   "metadata": {},
   "outputs": [],
   "source": []
  },
  {
   "cell_type": "markdown",
   "metadata": {},
   "source": [
    "### For loops"
   ]
  },
  {
   "cell_type": "code",
   "execution_count": 4,
   "metadata": {},
   "outputs": [
    {
     "name": "stdout",
     "output_type": "stream",
     "text": [
      "2.5\n",
      "2.875\n",
      "3.15625\n",
      "3.3671875\n",
      "3.525390625\n",
      "3.64404296875\n",
      "3.7330322265625\n",
      "3.799774169921875\n",
      "3.8498306274414062\n",
      "3.8873729705810547\n",
      "3.915529727935791\n",
      "3.9366472959518433\n",
      "3.9524854719638824\n",
      "3.964364103972912\n",
      "3.973273077979684\n",
      "3.979954808484763\n",
      "3.984966106363572\n",
      "3.988724579772679\n",
      "3.9915434348295094\n",
      "3.993657576122132\n"
     ]
    },
    {
     "ename": "UndefVarError",
     "evalue": "UndefVarError: x_current not defined",
     "output_type": "error",
     "traceback": [
      "UndefVarError: x_current not defined",
      "",
      "Stacktrace:",
      " [1] top-level scope at In[4]:11"
     ]
    }
   ],
   "source": [
    "T = 20\n",
    "x_lag = 2.5\n",
    "a = 0.75\n",
    "b = 1.0\n",
    "\n",
    "for t = 1:T\n",
    "    println(x_lag)\n",
    "    x_current = AR1(x_lag, a, b)\n",
    "    x_lag = x_current\n",
    "end\n",
    "println(x_current)"
   ]
  },
  {
   "cell_type": "markdown",
   "metadata": {},
   "source": [
    "See the [docs on variable scope](https://docs.julialang.org/en/v1/manual/variables-and-scoping/#scope-of-variables), they are pretty complex."
   ]
  },
  {
   "cell_type": "markdown",
   "metadata": {},
   "source": [
    "# Exercise\n",
    "> Write a for loop that prints the first 5 square numbers."
   ]
  },
  {
   "cell_type": "code",
   "execution_count": 5,
   "metadata": {},
   "outputs": [
    {
     "name": "stdout",
     "output_type": "stream",
     "text": [
      "1\n",
      "4\n",
      "9\n",
      "16\n",
      "25\n"
     ]
    }
   ],
   "source": [
    "for t = 1:5\n",
    "    println(t^2)\n",
    "end"
   ]
  },
  {
   "cell_type": "code",
   "execution_count": 6,
   "metadata": {},
   "outputs": [
    {
     "ename": "UndefVarError",
     "evalue": "UndefVarError: i not defined",
     "output_type": "error",
     "traceback": [
      "UndefVarError: i not defined",
      "",
      "Stacktrace:",
      " [1] top-level scope at ./In[6]:3"
     ]
    }
   ],
   "source": [
    "T = 5\n",
    "for t = 1:T\n",
    "    println(i^2)\n",
    "    i = i + 1\n",
    "end"
   ]
  },
  {
   "cell_type": "code",
   "execution_count": 7,
   "metadata": {},
   "outputs": [
    {
     "ename": "UndefVarError",
     "evalue": "UndefVarError: i not defined",
     "output_type": "error",
     "traceback": [
      "UndefVarError: i not defined",
      "",
      "Stacktrace:",
      " [1] top-level scope at In[7]:1"
     ]
    }
   ],
   "source": [
    "i"
   ]
  },
  {
   "cell_type": "markdown",
   "metadata": {},
   "source": [
    "### Types and multiple dispatch"
   ]
  },
  {
   "cell_type": "code",
   "execution_count": 8,
   "metadata": {},
   "outputs": [
    {
     "data": {
      "text/plain": [
       "AR1 (generic function with 2 methods)"
      ]
     },
     "execution_count": 8,
     "metadata": {},
     "output_type": "execute_result"
    }
   ],
   "source": [
    "function AR1(x::Float64, a::Float64, b::Float64)\n",
    "    return a * x + b\n",
    "end"
   ]
  },
  {
   "cell_type": "code",
   "execution_count": null,
   "metadata": {},
   "outputs": [],
   "source": []
  },
  {
   "cell_type": "markdown",
   "metadata": {},
   "source": [
    "### Vectors and N-dimensional arrays"
   ]
  },
  {
   "cell_type": "code",
   "execution_count": 9,
   "metadata": {},
   "outputs": [
    {
     "data": {
      "text/plain": [
       "3-element Array{Int64,1}:\n",
       " 1\n",
       " 2\n",
       " 3"
      ]
     },
     "execution_count": 9,
     "metadata": {},
     "output_type": "execute_result"
    }
   ],
   "source": [
    "X = [1, 2, 3]"
   ]
  },
  {
   "cell_type": "code",
   "execution_count": 10,
   "metadata": {},
   "outputs": [
    {
     "data": {
      "text/plain": [
       "3-element Array{Float64,1}:\n",
       " 1.0\n",
       " 2.0\n",
       " 3.0"
      ]
     },
     "execution_count": 10,
     "metadata": {},
     "output_type": "execute_result"
    }
   ],
   "source": [
    "Z = [1.0, 2.0, 3.0]"
   ]
  },
  {
   "cell_type": "code",
   "execution_count": 11,
   "metadata": {},
   "outputs": [
    {
     "data": {
      "text/plain": [
       "Rational{Int64}"
      ]
     },
     "execution_count": 11,
     "metadata": {},
     "output_type": "execute_result"
    }
   ],
   "source": [
    "typeof(2//3)"
   ]
  },
  {
   "cell_type": "code",
   "execution_count": 12,
   "metadata": {},
   "outputs": [
    {
     "data": {
      "text/plain": [
       "Float64"
      ]
     },
     "execution_count": 12,
     "metadata": {},
     "output_type": "execute_result"
    }
   ],
   "source": [
    "typeof(2/3)"
   ]
  },
  {
   "cell_type": "code",
   "execution_count": 13,
   "metadata": {},
   "outputs": [
    {
     "data": {
      "text/plain": [
       "2//1"
      ]
     },
     "execution_count": 13,
     "metadata": {},
     "output_type": "execute_result"
    }
   ],
   "source": [
    "2//3 * 3"
   ]
  },
  {
   "cell_type": "code",
   "execution_count": 14,
   "metadata": {},
   "outputs": [
    {
     "data": {
      "text/plain": [
       "2.0"
      ]
     },
     "execution_count": 14,
     "metadata": {},
     "output_type": "execute_result"
    }
   ],
   "source": [
    "2/3 * 3"
   ]
  },
  {
   "cell_type": "code",
   "execution_count": 15,
   "metadata": {},
   "outputs": [
    {
     "data": {
      "text/plain": [
       "Complex{Float64}"
      ]
     },
     "execution_count": 15,
     "metadata": {},
     "output_type": "execute_result"
    }
   ],
   "source": [
    "typeof(1.0 + 2im)"
   ]
  },
  {
   "cell_type": "code",
   "execution_count": 16,
   "metadata": {},
   "outputs": [
    {
     "data": {
      "text/plain": [
       "-1 + 0im"
      ]
     },
     "execution_count": 16,
     "metadata": {},
     "output_type": "execute_result"
    }
   ],
   "source": [
    "(im)^2"
   ]
  },
  {
   "cell_type": "code",
   "execution_count": 17,
   "metadata": {},
   "outputs": [
    {
     "data": {
      "text/plain": [
       "2.0"
      ]
     },
     "execution_count": 17,
     "metadata": {},
     "output_type": "execute_result"
    }
   ],
   "source": [
    "sqrt(4.0)"
   ]
  },
  {
   "cell_type": "code",
   "execution_count": 18,
   "metadata": {},
   "outputs": [
    {
     "ename": "DomainError",
     "evalue": "DomainError with -1.0:\nsqrt will only return a complex result if called with a complex argument. Try sqrt(Complex(x)).",
     "output_type": "error",
     "traceback": [
      "DomainError with -1.0:\nsqrt will only return a complex result if called with a complex argument. Try sqrt(Complex(x)).",
      "",
      "Stacktrace:",
      " [1] throw_complex_domainerror(::Symbol, ::Float64) at ./math.jl:33",
      " [2] sqrt(::Float64) at ./math.jl:557",
      " [3] top-level scope at In[18]:1"
     ]
    }
   ],
   "source": [
    "sqrt(-1.0)"
   ]
  },
  {
   "cell_type": "code",
   "execution_count": 19,
   "metadata": {},
   "outputs": [
    {
     "data": {
      "text/plain": [
       "0.0 + 1.0im"
      ]
     },
     "execution_count": 19,
     "metadata": {},
     "output_type": "execute_result"
    }
   ],
   "source": [
    "sqrt(-1.0 + 0im)"
   ]
  },
  {
   "cell_type": "code",
   "execution_count": 20,
   "metadata": {},
   "outputs": [
    {
     "data": {
      "text/plain": [
       "2×2 Array{Int64,2}:\n",
       " 1  2\n",
       " 3  4"
      ]
     },
     "execution_count": 20,
     "metadata": {},
     "output_type": "execute_result"
    }
   ],
   "source": [
    "A = [1 2; 3 4]"
   ]
  },
  {
   "cell_type": "code",
   "execution_count": 21,
   "metadata": {},
   "outputs": [
    {
     "data": {
      "text/plain": [
       "1×2 Array{Int64,2}:\n",
       " 1  2"
      ]
     },
     "execution_count": 21,
     "metadata": {},
     "output_type": "execute_result"
    }
   ],
   "source": [
    "b_is_not_a_vector = [1 2]"
   ]
  },
  {
   "cell_type": "code",
   "execution_count": 22,
   "metadata": {},
   "outputs": [
    {
     "data": {
      "text/plain": [
       "2-element Array{Int64,1}:\n",
       " 1\n",
       " 2"
      ]
     },
     "execution_count": 22,
     "metadata": {},
     "output_type": "execute_result"
    }
   ],
   "source": [
    "c_is_a_vector = [1, 2]"
   ]
  },
  {
   "cell_type": "code",
   "execution_count": 23,
   "metadata": {},
   "outputs": [
    {
     "data": {
      "text/plain": [
       "2×2 Array{Int64,2}:\n",
       " 1  0\n",
       " 0  1"
      ]
     },
     "execution_count": 23,
     "metadata": {},
     "output_type": "execute_result"
    }
   ],
   "source": [
    "eye = [1 0; 0 1]"
   ]
  },
  {
   "cell_type": "code",
   "execution_count": 24,
   "metadata": {},
   "outputs": [
    {
     "data": {
      "text/plain": [
       "1×2 LinearAlgebra.Adjoint{Int64,Array{Int64,1}}:\n",
       " 1  2"
      ]
     },
     "execution_count": 24,
     "metadata": {},
     "output_type": "execute_result"
    }
   ],
   "source": [
    "c_is_a_vector' * eye "
   ]
  },
  {
   "cell_type": "code",
   "execution_count": 25,
   "metadata": {},
   "outputs": [
    {
     "data": {
      "text/plain": [
       "AR1 (generic function with 3 methods)"
      ]
     },
     "execution_count": 25,
     "metadata": {},
     "output_type": "execute_result"
    }
   ],
   "source": [
    "function AR1(x::Array{Float64, 1}, a::Float64, b::Float64)\n",
    "    return a .* x .+ b\n",
    "end"
   ]
  },
  {
   "cell_type": "code",
   "execution_count": 26,
   "metadata": {},
   "outputs": [
    {
     "data": {
      "text/plain": [
       "3-element Array{Float64,1}:\n",
       " 0.8\n",
       " 1.6\n",
       " 2.4000000000000004"
      ]
     },
     "execution_count": 26,
     "metadata": {},
     "output_type": "execute_result"
    }
   ],
   "source": [
    "AR1(Z, 0.8, 0.0)"
   ]
  },
  {
   "cell_type": "code",
   "execution_count": 27,
   "metadata": {},
   "outputs": [
    {
     "data": {
      "text/plain": [
       "Array{Int64,1}"
      ]
     },
     "execution_count": 27,
     "metadata": {},
     "output_type": "execute_result"
    }
   ],
   "source": [
    "typeof(X)"
   ]
  },
  {
   "cell_type": "code",
   "execution_count": 28,
   "metadata": {},
   "outputs": [
    {
     "data": {
      "text/plain": [
       "forecast_AR1! (generic function with 1 method)"
      ]
     },
     "execution_count": 28,
     "metadata": {},
     "output_type": "execute_result"
    }
   ],
   "source": [
    "function forecast_AR1!(x::Array{Float64, 1}, a::Float64)\n",
    "    T = length(x)\n",
    "    for t = 2:T\n",
    "        x[t] = a * x[t-1]\n",
    "    end\n",
    "end"
   ]
  },
  {
   "cell_type": "code",
   "execution_count": 29,
   "metadata": {},
   "outputs": [
    {
     "name": "stdout",
     "output_type": "stream",
     "text": [
      "[1.0, 0.7, 0.48999999999999994, 0.3429999999999999, 0.24009999999999992, 0.16806999999999994, 0.11764899999999995, 0.08235429999999996, 0.05764800999999997, 0.04035360699999998]\n"
     ]
    }
   ],
   "source": [
    "X = ones(10)\n",
    "forecast_AR1!(X, 0.7)\n",
    "println(X)"
   ]
  },
  {
   "cell_type": "markdown",
   "metadata": {},
   "source": [
    "### "
   ]
  },
  {
   "cell_type": "code",
   "execution_count": 30,
   "metadata": {},
   "outputs": [],
   "source": [
    "using Plots"
   ]
  },
  {
   "cell_type": "code",
   "execution_count": 31,
   "metadata": {},
   "outputs": [
    {
     "name": "stderr",
     "output_type": "stream",
     "text": [
      "\u001b[32m\u001b[1m   Updating\u001b[22m\u001b[39m registry at `~/.julia/registries/General`\n"
     ]
    },
    {
     "name": "stdout",
     "output_type": "stream",
     "text": [
      "\u001b[?25l    "
     ]
    },
    {
     "name": "stderr",
     "output_type": "stream",
     "text": [
      "\u001b[32m\u001b[1m   Updating\u001b[22m\u001b[39m git-repo `https://github.com/JuliaRegistries/General.git`\n"
     ]
    },
    {
     "name": "stdout",
     "output_type": "stream",
     "text": [
      "\u001b[2K\u001b[?25h[1mFetching:\u001b[22m\u001b[39m [========================================>]  100.0 %[============>                            ]  28.9 %>         ]  75.7 %\u001b[36m\u001b[1mFetching:\u001b[22m\u001b[39m [===================================>     ]  86.6 %"
     ]
    },
    {
     "name": "stderr",
     "output_type": "stream",
     "text": [
      "\u001b[32m\u001b[1m  Resolving\u001b[22m\u001b[39m package versions...\n",
      "\u001b[32m\u001b[1m   Updating\u001b[22m\u001b[39m `~/Tresorit/teaching/courses/2020/ECBS-6001-Advanced-Macroeconomics/Project.toml`\n",
      "\u001b[90m [no changes]\u001b[39m\n",
      "\u001b[32m\u001b[1m   Updating\u001b[22m\u001b[39m `~/Tresorit/teaching/courses/2020/ECBS-6001-Advanced-Macroeconomics/Manifest.toml`\n",
      "\u001b[90m [no changes]\u001b[39m\n"
     ]
    }
   ],
   "source": [
    "using Pkg\n",
    "Pkg.add(\"Plots\")"
   ]
  },
  {
   "cell_type": "code",
   "execution_count": 32,
   "metadata": {},
   "outputs": [
    {
     "data": {
      "image/svg+xml": [
       "<?xml version=\"1.0\" encoding=\"utf-8\"?>\n",
       "<svg xmlns=\"http://www.w3.org/2000/svg\" xmlns:xlink=\"http://www.w3.org/1999/xlink\" width=\"600\" height=\"400\" viewBox=\"0 0 2400 1600\">\n",
       "<defs>\n",
       "  <clipPath id=\"clip780\">\n",
       "    <rect x=\"0\" y=\"0\" width=\"2400\" height=\"1600\"/>\n",
       "  </clipPath>\n",
       "</defs>\n",
       "<path clip-path=\"url(#clip780)\" d=\"\n",
       "M0 1600 L2400 1600 L2400 0 L0 0  Z\n",
       "  \" fill=\"#ffffff\" fill-rule=\"evenodd\" fill-opacity=\"1\"/>\n",
       "<defs>\n",
       "  <clipPath id=\"clip781\">\n",
       "    <rect x=\"480\" y=\"0\" width=\"1681\" height=\"1600\"/>\n",
       "  </clipPath>\n",
       "</defs>\n",
       "<path clip-path=\"url(#clip780)\" d=\"\n",
       "M148.334 1486.45 L2352.76 1486.45 L2352.76 47.2441 L148.334 47.2441  Z\n",
       "  \" fill=\"#ffffff\" fill-rule=\"evenodd\" fill-opacity=\"1\"/>\n",
       "<defs>\n",
       "  <clipPath id=\"clip782\">\n",
       "    <rect x=\"148\" y=\"47\" width=\"2205\" height=\"1440\"/>\n",
       "  </clipPath>\n",
       "</defs>\n",
       "<polyline clip-path=\"url(#clip782)\" style=\"stroke:#000000; stroke-width:2; stroke-opacity:0.1; fill:none\" points=\"\n",
       "  441.795,1486.45 441.795,47.2441 \n",
       "  \"/>\n",
       "<polyline clip-path=\"url(#clip782)\" style=\"stroke:#000000; stroke-width:2; stroke-opacity:0.1; fill:none\" points=\"\n",
       "  903.938,1486.45 903.938,47.2441 \n",
       "  \"/>\n",
       "<polyline clip-path=\"url(#clip782)\" style=\"stroke:#000000; stroke-width:2; stroke-opacity:0.1; fill:none\" points=\"\n",
       "  1366.08,1486.45 1366.08,47.2441 \n",
       "  \"/>\n",
       "<polyline clip-path=\"url(#clip782)\" style=\"stroke:#000000; stroke-width:2; stroke-opacity:0.1; fill:none\" points=\"\n",
       "  1828.22,1486.45 1828.22,47.2441 \n",
       "  \"/>\n",
       "<polyline clip-path=\"url(#clip782)\" style=\"stroke:#000000; stroke-width:2; stroke-opacity:0.1; fill:none\" points=\"\n",
       "  2290.37,1486.45 2290.37,47.2441 \n",
       "  \"/>\n",
       "<polyline clip-path=\"url(#clip780)\" style=\"stroke:#000000; stroke-width:4; stroke-opacity:1; fill:none\" points=\"\n",
       "  148.334,1486.45 2352.76,1486.45 \n",
       "  \"/>\n",
       "<polyline clip-path=\"url(#clip780)\" style=\"stroke:#000000; stroke-width:4; stroke-opacity:1; fill:none\" points=\"\n",
       "  441.795,1486.45 441.795,1469.18 \n",
       "  \"/>\n",
       "<polyline clip-path=\"url(#clip780)\" style=\"stroke:#000000; stroke-width:4; stroke-opacity:1; fill:none\" points=\"\n",
       "  903.938,1486.45 903.938,1469.18 \n",
       "  \"/>\n",
       "<polyline clip-path=\"url(#clip780)\" style=\"stroke:#000000; stroke-width:4; stroke-opacity:1; fill:none\" points=\"\n",
       "  1366.08,1486.45 1366.08,1469.18 \n",
       "  \"/>\n",
       "<polyline clip-path=\"url(#clip780)\" style=\"stroke:#000000; stroke-width:4; stroke-opacity:1; fill:none\" points=\"\n",
       "  1828.22,1486.45 1828.22,1469.18 \n",
       "  \"/>\n",
       "<polyline clip-path=\"url(#clip780)\" style=\"stroke:#000000; stroke-width:4; stroke-opacity:1; fill:none\" points=\"\n",
       "  2290.37,1486.45 2290.37,1469.18 \n",
       "  \"/>\n",
       "<path clip-path=\"url(#clip780)\" d=\"M 0 0 M436.448 1543.18 L452.767 1543.18 L452.767 1547.12 L430.823 1547.12 L430.823 1543.18 Q433.485 1540.43 438.068 1535.8 Q442.675 1531.15 443.855 1529.81 Q446.101 1527.28 446.98 1525.55 Q447.883 1523.79 447.883 1522.1 Q447.883 1519.34 445.939 1517.61 Q444.017 1515.87 440.915 1515.87 Q438.716 1515.87 436.263 1516.63 Q433.832 1517.4 431.054 1518.95 L431.054 1514.23 Q433.878 1513.09 436.332 1512.51 Q438.786 1511.93 440.823 1511.93 Q446.193 1511.93 449.388 1514.62 Q452.582 1517.31 452.582 1521.8 Q452.582 1523.93 451.772 1525.85 Q450.985 1527.74 448.878 1530.34 Q448.3 1531.01 445.198 1534.23 Q442.096 1537.42 436.448 1543.18 Z\" fill=\"#000000\" fill-rule=\"evenodd\" fill-opacity=\"1\" /><path clip-path=\"url(#clip780)\" d=\"M 0 0 M906.947 1516.63 L895.142 1535.08 L906.947 1535.08 L906.947 1516.63 M905.72 1512.56 L911.6 1512.56 L911.6 1535.08 L916.531 1535.08 L916.531 1538.97 L911.6 1538.97 L911.6 1547.12 L906.947 1547.12 L906.947 1538.97 L891.345 1538.97 L891.345 1534.46 L905.72 1512.56 Z\" fill=\"#000000\" fill-rule=\"evenodd\" fill-opacity=\"1\" /><path clip-path=\"url(#clip780)\" d=\"M 0 0 M1366.49 1527.98 Q1363.34 1527.98 1361.49 1530.13 Q1359.66 1532.28 1359.66 1536.03 Q1359.66 1539.76 1361.49 1541.93 Q1363.34 1544.09 1366.49 1544.09 Q1369.63 1544.09 1371.46 1541.93 Q1373.31 1539.76 1373.31 1536.03 Q1373.31 1532.28 1371.46 1530.13 Q1369.63 1527.98 1366.49 1527.98 M1375.77 1513.32 L1375.77 1517.58 Q1374.01 1516.75 1372.2 1516.31 Q1370.42 1515.87 1368.66 1515.87 Q1364.03 1515.87 1361.58 1519 Q1359.15 1522.12 1358.8 1528.44 Q1360.17 1526.43 1362.23 1525.36 Q1364.29 1524.27 1366.76 1524.27 Q1371.97 1524.27 1374.98 1527.44 Q1378.01 1530.59 1378.01 1536.03 Q1378.01 1541.36 1374.87 1544.57 Q1371.72 1547.79 1366.49 1547.79 Q1360.49 1547.79 1357.32 1543.21 Q1354.15 1538.6 1354.15 1529.87 Q1354.15 1521.68 1358.04 1516.82 Q1361.93 1511.93 1368.48 1511.93 Q1370.24 1511.93 1372.02 1512.28 Q1373.82 1512.63 1375.77 1513.32 Z\" fill=\"#000000\" fill-rule=\"evenodd\" fill-opacity=\"1\" /><path clip-path=\"url(#clip780)\" d=\"M 0 0 M1828.22 1530.71 Q1824.89 1530.71 1822.97 1532.49 Q1821.07 1534.27 1821.07 1537.4 Q1821.07 1540.52 1822.97 1542.31 Q1824.89 1544.09 1828.22 1544.09 Q1831.56 1544.09 1833.48 1542.31 Q1835.4 1540.5 1835.4 1537.4 Q1835.4 1534.27 1833.48 1532.49 Q1831.58 1530.71 1828.22 1530.71 M1823.55 1528.72 Q1820.54 1527.98 1818.85 1525.92 Q1817.18 1523.86 1817.18 1520.89 Q1817.18 1516.75 1820.12 1514.34 Q1823.08 1511.93 1828.22 1511.93 Q1833.39 1511.93 1836.33 1514.34 Q1839.27 1516.75 1839.27 1520.89 Q1839.27 1523.86 1837.58 1525.92 Q1835.91 1527.98 1832.92 1528.72 Q1836.3 1529.5 1838.18 1531.8 Q1840.08 1534.09 1840.08 1537.4 Q1840.08 1542.42 1837 1545.11 Q1833.94 1547.79 1828.22 1547.79 Q1822.51 1547.79 1819.43 1545.11 Q1816.37 1542.42 1816.37 1537.4 Q1816.37 1534.09 1818.27 1531.8 Q1820.17 1529.5 1823.55 1528.72 M1821.83 1521.33 Q1821.83 1524.02 1823.5 1525.52 Q1825.19 1527.03 1828.22 1527.03 Q1831.23 1527.03 1832.92 1525.52 Q1834.64 1524.02 1834.64 1521.33 Q1834.64 1518.65 1832.92 1517.14 Q1831.23 1515.64 1828.22 1515.64 Q1825.19 1515.64 1823.5 1517.14 Q1821.83 1518.65 1821.83 1521.33 Z\" fill=\"#000000\" fill-rule=\"evenodd\" fill-opacity=\"1\" /><path clip-path=\"url(#clip780)\" d=\"M 0 0 M2267.24 1543.18 L2274.88 1543.18 L2274.88 1516.82 L2266.57 1518.49 L2266.57 1514.23 L2274.83 1512.56 L2279.51 1512.56 L2279.51 1543.18 L2287.15 1543.18 L2287.15 1547.12 L2267.24 1547.12 L2267.24 1543.18 Z\" fill=\"#000000\" fill-rule=\"evenodd\" fill-opacity=\"1\" /><path clip-path=\"url(#clip780)\" d=\"M 0 0 M2302.22 1515.64 Q2298.61 1515.64 2296.78 1519.2 Q2294.97 1522.75 2294.97 1529.87 Q2294.97 1536.98 2296.78 1540.55 Q2298.61 1544.09 2302.22 1544.09 Q2305.85 1544.09 2307.66 1540.55 Q2309.49 1536.98 2309.49 1529.87 Q2309.49 1522.75 2307.66 1519.2 Q2305.85 1515.64 2302.22 1515.64 M2302.22 1511.93 Q2308.03 1511.93 2311.08 1516.54 Q2314.16 1521.12 2314.16 1529.87 Q2314.16 1538.6 2311.08 1543.21 Q2308.03 1547.79 2302.22 1547.79 Q2296.41 1547.79 2293.33 1543.21 Q2290.27 1538.6 2290.27 1529.87 Q2290.27 1521.12 2293.33 1516.54 Q2296.41 1511.93 2302.22 1511.93 Z\" fill=\"#000000\" fill-rule=\"evenodd\" fill-opacity=\"1\" /><polyline clip-path=\"url(#clip782)\" style=\"stroke:#000000; stroke-width:2; stroke-opacity:0.1; fill:none\" points=\"\n",
       "  148.334,1219.84 2352.76,1219.84 \n",
       "  \"/>\n",
       "<polyline clip-path=\"url(#clip782)\" style=\"stroke:#000000; stroke-width:2; stroke-opacity:0.1; fill:none\" points=\"\n",
       "  148.334,936.876 2352.76,936.876 \n",
       "  \"/>\n",
       "<polyline clip-path=\"url(#clip782)\" style=\"stroke:#000000; stroke-width:2; stroke-opacity:0.1; fill:none\" points=\"\n",
       "  148.334,653.909 2352.76,653.909 \n",
       "  \"/>\n",
       "<polyline clip-path=\"url(#clip782)\" style=\"stroke:#000000; stroke-width:2; stroke-opacity:0.1; fill:none\" points=\"\n",
       "  148.334,370.943 2352.76,370.943 \n",
       "  \"/>\n",
       "<polyline clip-path=\"url(#clip782)\" style=\"stroke:#000000; stroke-width:2; stroke-opacity:0.1; fill:none\" points=\"\n",
       "  148.334,87.9763 2352.76,87.9763 \n",
       "  \"/>\n",
       "<polyline clip-path=\"url(#clip780)\" style=\"stroke:#000000; stroke-width:4; stroke-opacity:1; fill:none\" points=\"\n",
       "  148.334,1486.45 148.334,47.2441 \n",
       "  \"/>\n",
       "<polyline clip-path=\"url(#clip780)\" style=\"stroke:#000000; stroke-width:4; stroke-opacity:1; fill:none\" points=\"\n",
       "  148.334,1219.84 174.787,1219.84 \n",
       "  \"/>\n",
       "<polyline clip-path=\"url(#clip780)\" style=\"stroke:#000000; stroke-width:4; stroke-opacity:1; fill:none\" points=\"\n",
       "  148.334,936.876 174.787,936.876 \n",
       "  \"/>\n",
       "<polyline clip-path=\"url(#clip780)\" style=\"stroke:#000000; stroke-width:4; stroke-opacity:1; fill:none\" points=\"\n",
       "  148.334,653.909 174.787,653.909 \n",
       "  \"/>\n",
       "<polyline clip-path=\"url(#clip780)\" style=\"stroke:#000000; stroke-width:4; stroke-opacity:1; fill:none\" points=\"\n",
       "  148.334,370.943 174.787,370.943 \n",
       "  \"/>\n",
       "<polyline clip-path=\"url(#clip780)\" style=\"stroke:#000000; stroke-width:4; stroke-opacity:1; fill:none\" points=\"\n",
       "  148.334,87.9763 174.787,87.9763 \n",
       "  \"/>\n",
       "<path clip-path=\"url(#clip780)\" d=\"M 0 0 M65.0198 1205.64 Q61.4087 1205.64 59.58 1209.21 Q57.7745 1212.75 57.7745 1219.88 Q57.7745 1226.98 59.58 1230.55 Q61.4087 1234.09 65.0198 1234.09 Q68.6541 1234.09 70.4596 1230.55 Q72.2883 1226.98 72.2883 1219.88 Q72.2883 1212.75 70.4596 1209.21 Q68.6541 1205.64 65.0198 1205.64 M65.0198 1201.94 Q70.83 1201.94 73.8855 1206.54 Q76.9642 1211.13 76.9642 1219.88 Q76.9642 1228.6 73.8855 1233.21 Q70.83 1237.79 65.0198 1237.79 Q59.2097 1237.79 56.131 1233.21 Q53.0754 1228.6 53.0754 1219.88 Q53.0754 1211.13 56.131 1206.54 Q59.2097 1201.94 65.0198 1201.94 Z\" fill=\"#000000\" fill-rule=\"evenodd\" fill-opacity=\"1\" /><path clip-path=\"url(#clip780)\" d=\"M 0 0 M82.0336 1231.24 L86.9179 1231.24 L86.9179 1237.12 L82.0336 1237.12 L82.0336 1231.24 Z\" fill=\"#000000\" fill-rule=\"evenodd\" fill-opacity=\"1\" /><path clip-path=\"url(#clip780)\" d=\"M 0 0 M96.015 1233.19 L112.334 1233.19 L112.334 1237.12 L90.3901 1237.12 L90.3901 1233.19 Q93.0521 1230.43 97.6354 1225.8 Q102.242 1221.15 103.422 1219.81 Q105.668 1217.28 106.547 1215.55 Q107.45 1213.79 107.45 1212.1 Q107.45 1209.35 105.506 1207.61 Q103.584 1205.87 100.483 1205.87 Q98.2835 1205.87 95.8298 1206.64 Q93.3993 1207.4 90.6215 1208.95 L90.6215 1204.23 Q93.4456 1203.1 95.8993 1202.52 Q98.353 1201.94 100.39 1201.94 Q105.76 1201.94 108.955 1204.62 Q112.149 1207.31 112.149 1211.8 Q112.149 1213.93 111.339 1215.85 Q110.552 1217.75 108.446 1220.34 Q107.867 1221.01 104.765 1224.23 Q101.663 1227.42 96.015 1233.19 Z\" fill=\"#000000\" fill-rule=\"evenodd\" fill-opacity=\"1\" /><path clip-path=\"url(#clip780)\" d=\"M 0 0 M62.9365 922.675 Q59.3254 922.675 57.4967 926.24 Q55.6912 929.781 55.6912 936.911 Q55.6912 944.017 57.4967 947.582 Q59.3254 951.124 62.9365 951.124 Q66.5707 951.124 68.3763 947.582 Q70.205 944.017 70.205 936.911 Q70.205 929.781 68.3763 926.24 Q66.5707 922.675 62.9365 922.675 M62.9365 918.971 Q68.7467 918.971 71.8022 923.578 Q74.8809 928.161 74.8809 936.911 Q74.8809 945.638 71.8022 950.244 Q68.7467 954.827 62.9365 954.827 Q57.1264 954.827 54.0477 950.244 Q50.9921 945.638 50.9921 936.911 Q50.9921 928.161 54.0477 923.578 Q57.1264 918.971 62.9365 918.971 Z\" fill=\"#000000\" fill-rule=\"evenodd\" fill-opacity=\"1\" /><path clip-path=\"url(#clip780)\" d=\"M 0 0 M79.9503 948.276 L84.8345 948.276 L84.8345 954.156 L79.9503 954.156 L79.9503 948.276 Z\" fill=\"#000000\" fill-rule=\"evenodd\" fill-opacity=\"1\" /><path clip-path=\"url(#clip780)\" d=\"M 0 0 M102.751 923.67 L90.9456 942.119 L102.751 942.119 L102.751 923.67 M101.524 919.596 L107.404 919.596 L107.404 942.119 L112.334 942.119 L112.334 946.008 L107.404 946.008 L107.404 954.156 L102.751 954.156 L102.751 946.008 L87.1493 946.008 L87.1493 941.494 L101.524 919.596 Z\" fill=\"#000000\" fill-rule=\"evenodd\" fill-opacity=\"1\" /><path clip-path=\"url(#clip780)\" d=\"M 0 0 M63.2606 639.708 Q59.6495 639.708 57.8208 643.273 Q56.0152 646.815 56.0152 653.944 Q56.0152 661.051 57.8208 664.615 Q59.6495 668.157 63.2606 668.157 Q66.8948 668.157 68.7004 664.615 Q70.5291 661.051 70.5291 653.944 Q70.5291 646.815 68.7004 643.273 Q66.8948 639.708 63.2606 639.708 M63.2606 636.004 Q69.0707 636.004 72.1263 640.611 Q75.205 645.194 75.205 653.944 Q75.205 662.671 72.1263 667.277 Q69.0707 671.861 63.2606 671.861 Q57.4504 671.861 54.3717 667.277 Q51.3162 662.671 51.3162 653.944 Q51.3162 645.194 54.3717 640.611 Q57.4504 636.004 63.2606 636.004 Z\" fill=\"#000000\" fill-rule=\"evenodd\" fill-opacity=\"1\" /><path clip-path=\"url(#clip780)\" d=\"M 0 0 M80.2744 665.31 L85.1586 665.31 L85.1586 671.189 L80.2744 671.189 L80.2744 665.31 Z\" fill=\"#000000\" fill-rule=\"evenodd\" fill-opacity=\"1\" /><path clip-path=\"url(#clip780)\" d=\"M 0 0 M100.807 652.046 Q97.6585 652.046 95.8067 654.199 Q93.978 656.352 93.978 660.102 Q93.978 663.828 95.8067 666.004 Q97.6585 668.157 100.807 668.157 Q103.955 668.157 105.783 666.004 Q107.635 663.828 107.635 660.102 Q107.635 656.352 105.783 654.199 Q103.955 652.046 100.807 652.046 M110.089 637.393 L110.089 641.653 Q108.33 640.819 106.524 640.379 Q104.742 639.94 102.983 639.94 Q98.353 639.94 95.8993 643.065 Q93.4688 646.19 93.1215 652.509 Q94.4873 650.495 96.5474 649.43 Q98.6076 648.342 101.084 648.342 Q106.293 648.342 109.302 651.514 Q112.334 654.662 112.334 660.102 Q112.334 665.426 109.186 668.643 Q106.038 671.861 100.807 671.861 Q94.8113 671.861 91.6401 667.277 Q88.4688 662.671 88.4688 653.944 Q88.4688 645.75 92.3576 640.889 Q96.2465 636.004 102.797 636.004 Q104.557 636.004 106.339 636.352 Q108.145 636.699 110.089 637.393 Z\" fill=\"#000000\" fill-rule=\"evenodd\" fill-opacity=\"1\" /><path clip-path=\"url(#clip780)\" d=\"M 0 0 M63.5152 356.742 Q59.9041 356.742 58.0754 360.306 Q56.2699 363.848 56.2699 370.978 Q56.2699 378.084 58.0754 381.649 Q59.9041 385.19 63.5152 385.19 Q67.1494 385.19 68.955 381.649 Q70.7837 378.084 70.7837 370.978 Q70.7837 363.848 68.955 360.306 Q67.1494 356.742 63.5152 356.742 M63.5152 353.038 Q69.3254 353.038 72.3809 357.644 Q75.4596 362.228 75.4596 370.978 Q75.4596 379.704 72.3809 384.311 Q69.3254 388.894 63.5152 388.894 Q57.7051 388.894 54.6264 384.311 Q51.5708 379.704 51.5708 370.978 Q51.5708 362.228 54.6264 357.644 Q57.7051 353.038 63.5152 353.038 Z\" fill=\"#000000\" fill-rule=\"evenodd\" fill-opacity=\"1\" /><path clip-path=\"url(#clip780)\" d=\"M 0 0 M80.529 382.343 L85.4132 382.343 L85.4132 388.223 L80.529 388.223 L80.529 382.343 Z\" fill=\"#000000\" fill-rule=\"evenodd\" fill-opacity=\"1\" /><path clip-path=\"url(#clip780)\" d=\"M 0 0 M100.483 371.811 Q97.1493 371.811 95.228 373.593 Q93.3299 375.376 93.3299 378.501 Q93.3299 381.626 95.228 383.408 Q97.1493 385.19 100.483 385.19 Q103.816 385.19 105.737 383.408 Q107.658 381.603 107.658 378.501 Q107.658 375.376 105.737 373.593 Q103.839 371.811 100.483 371.811 M95.8067 369.82 Q92.7975 369.079 91.1077 367.019 Q89.441 364.959 89.441 361.996 Q89.441 357.853 92.3808 355.445 Q95.3437 353.038 100.483 353.038 Q105.645 353.038 108.584 355.445 Q111.524 357.853 111.524 361.996 Q111.524 364.959 109.834 367.019 Q108.168 369.079 105.182 369.82 Q108.561 370.607 110.436 372.899 Q112.334 375.191 112.334 378.501 Q112.334 383.524 109.256 386.209 Q106.2 388.894 100.483 388.894 Q94.765 388.894 91.6864 386.209 Q88.6308 383.524 88.6308 378.501 Q88.6308 375.191 90.529 372.899 Q92.4271 370.607 95.8067 369.82 M94.0937 362.436 Q94.0937 365.121 95.7604 366.626 Q97.4502 368.13 100.483 368.13 Q103.492 368.13 105.182 366.626 Q106.895 365.121 106.895 362.436 Q106.895 359.751 105.182 358.246 Q103.492 356.742 100.483 356.742 Q97.4502 356.742 95.7604 358.246 Q94.0937 359.751 94.0937 362.436 Z\" fill=\"#000000\" fill-rule=\"evenodd\" fill-opacity=\"1\" /><path clip-path=\"url(#clip780)\" d=\"M 0 0 M55.4597 101.321 L63.0985 101.321 L63.0985 74.9555 L54.7884 76.6222 L54.7884 72.3629 L63.0522 70.6963 L67.7281 70.6963 L67.7281 101.321 L75.367 101.321 L75.367 105.256 L55.4597 105.256 L55.4597 101.321 Z\" fill=\"#000000\" fill-rule=\"evenodd\" fill-opacity=\"1\" /><path clip-path=\"url(#clip780)\" d=\"M 0 0 M80.4364 99.3767 L85.3206 99.3767 L85.3206 105.256 L80.4364 105.256 L80.4364 99.3767 Z\" fill=\"#000000\" fill-rule=\"evenodd\" fill-opacity=\"1\" /><path clip-path=\"url(#clip780)\" d=\"M 0 0 M100.39 73.775 Q96.7789 73.775 94.9502 77.3398 Q93.1447 80.8814 93.1447 88.011 Q93.1447 95.1174 94.9502 98.6822 Q96.7789 102.224 100.39 102.224 Q104.024 102.224 105.83 98.6822 Q107.658 95.1174 107.658 88.011 Q107.658 80.8814 105.83 77.3398 Q104.024 73.775 100.39 73.775 M100.39 70.0713 Q106.2 70.0713 109.256 74.6777 Q112.334 79.261 112.334 88.011 Q112.334 96.7378 109.256 101.344 Q106.2 105.928 100.39 105.928 Q94.5799 105.928 91.5012 101.344 Q88.4456 96.7378 88.4456 88.011 Q88.4456 79.261 91.5012 74.6777 Q94.5799 70.0713 100.39 70.0713 Z\" fill=\"#000000\" fill-rule=\"evenodd\" fill-opacity=\"1\" /><polyline clip-path=\"url(#clip782)\" style=\"stroke:#009af9; stroke-width:4; stroke-opacity:1; fill:none\" points=\"\n",
       "  210.724,87.9763 441.795,512.426 672.867,809.541 903.938,1017.52 1135.01,1163.11 1366.08,1265.02 1597.15,1336.36 1828.22,1386.29 2059.3,1421.25 2290.37,1445.72 \n",
       "  \n",
       "  \"/>\n",
       "<path clip-path=\"url(#clip780)\" d=\"\n",
       "M1983.32 216.178 L2279.28 216.178 L2279.28 95.2176 L1983.32 95.2176  Z\n",
       "  \" fill=\"#ffffff\" fill-rule=\"evenodd\" fill-opacity=\"1\"/>\n",
       "<polyline clip-path=\"url(#clip780)\" style=\"stroke:#000000; stroke-width:4; stroke-opacity:1; fill:none\" points=\"\n",
       "  1983.32,216.178 2279.28,216.178 2279.28,95.2176 1983.32,95.2176 1983.32,216.178 \n",
       "  \"/>\n",
       "<polyline clip-path=\"url(#clip780)\" style=\"stroke:#009af9; stroke-width:4; stroke-opacity:1; fill:none\" points=\"\n",
       "  2007.81,155.698 2154.78,155.698 \n",
       "  \"/>\n",
       "<path clip-path=\"url(#clip780)\" d=\"M 0 0 M2193.11 175.385 Q2191.31 180.015 2189.59 181.427 Q2187.88 182.839 2185.01 182.839 L2181.61 182.839 L2181.61 179.274 L2184.11 179.274 Q2185.87 179.274 2186.84 178.44 Q2187.81 177.607 2188.99 174.505 L2189.76 172.561 L2179.27 147.052 L2183.78 147.052 L2191.89 167.329 L2199.99 147.052 L2204.5 147.052 L2193.11 175.385 Z\" fill=\"#000000\" fill-rule=\"evenodd\" fill-opacity=\"1\" /><path clip-path=\"url(#clip780)\" d=\"M 0 0 M2210.38 169.042 L2218.02 169.042 L2218.02 142.677 L2209.71 144.343 L2209.71 140.084 L2217.97 138.418 L2222.65 138.418 L2222.65 169.042 L2230.29 169.042 L2230.29 172.978 L2210.38 172.978 L2210.38 169.042 Z\" fill=\"#000000\" fill-rule=\"evenodd\" fill-opacity=\"1\" /></svg>\n"
      ]
     },
     "execution_count": 32,
     "metadata": {},
     "output_type": "execute_result"
    }
   ],
   "source": [
    "using Plots\n",
    "plot(X)"
   ]
  },
  {
   "cell_type": "code",
   "execution_count": 33,
   "metadata": {},
   "outputs": [
    {
     "data": {
      "text/plain": [
       "2×4 Array{Int64,2}:\n",
       " 1  2  3  4\n",
       " 2  4  6  8"
      ]
     },
     "execution_count": 33,
     "metadata": {},
     "output_type": "execute_result"
    }
   ],
   "source": [
    "A = [1 2 3 4; 2 4 6 8]"
   ]
  },
  {
   "cell_type": "code",
   "execution_count": 34,
   "metadata": {},
   "outputs": [
    {
     "data": {
      "text/plain": [
       "10-element Array{Float64,1}:\n",
       " 1.0\n",
       " 0.7\n",
       " 0.48999999999999994\n",
       " 0.3429999999999999\n",
       " 0.24009999999999992\n",
       " 0.16806999999999994\n",
       " 0.11764899999999995\n",
       " 0.08235429999999996\n",
       " 0.05764800999999997\n",
       " 0.04035360699999998"
      ]
     },
     "execution_count": 34,
     "metadata": {},
     "output_type": "execute_result"
    }
   ],
   "source": [
    "X"
   ]
  },
  {
   "cell_type": "code",
   "execution_count": null,
   "metadata": {},
   "outputs": [],
   "source": [
    "\n"
   ]
  },
  {
   "cell_type": "code",
   "execution_count": null,
   "metadata": {},
   "outputs": [],
   "source": []
  },
  {
   "cell_type": "markdown",
   "metadata": {},
   "source": [
    "## Plotting"
   ]
  },
  {
   "cell_type": "code",
   "execution_count": 17,
   "metadata": {},
   "outputs": [
    {
     "name": "stderr",
     "output_type": "stream",
     "text": [
      "\u001b[32m\u001b[1mPrecompiling\u001b[22m\u001b[39m project...\n"
     ]
    }
   ],
   "source": [
    "Pkg.precompile()"
   ]
  },
  {
   "cell_type": "code",
   "execution_count": 15,
   "metadata": {},
   "outputs": [
    {
     "name": "stderr",
     "output_type": "stream",
     "text": [
      "┌ Info: Precompiling Plots [91a5bcdd-55d7-5caf-9e0b-520d859cae80]\n",
      "└ @ Base loading.jl:1260\n"
     ]
    }
   ],
   "source": [
    "using Plots"
   ]
  },
  {
   "cell_type": "code",
   "execution_count": null,
   "metadata": {},
   "outputs": [],
   "source": []
  },
  {
   "cell_type": "markdown",
   "metadata": {},
   "source": [
    "# Exercise\n",
    "> Plot the first 5 square numbers."
   ]
  },
  {
   "cell_type": "code",
   "execution_count": 38,
   "metadata": {},
   "outputs": [
    {
     "data": {
      "image/svg+xml": [
       "<?xml version=\"1.0\" encoding=\"utf-8\"?>\n",
       "<svg xmlns=\"http://www.w3.org/2000/svg\" xmlns:xlink=\"http://www.w3.org/1999/xlink\" width=\"600\" height=\"400\" viewBox=\"0 0 2400 1600\">\n",
       "<defs>\n",
       "  <clipPath id=\"clip900\">\n",
       "    <rect x=\"0\" y=\"0\" width=\"2400\" height=\"1600\"/>\n",
       "  </clipPath>\n",
       "</defs>\n",
       "<path clip-path=\"url(#clip900)\" d=\"\n",
       "M0 1600 L2400 1600 L2400 0 L0 0  Z\n",
       "  \" fill=\"#ffffff\" fill-rule=\"evenodd\" fill-opacity=\"1\"/>\n",
       "<defs>\n",
       "  <clipPath id=\"clip901\">\n",
       "    <rect x=\"480\" y=\"0\" width=\"1681\" height=\"1600\"/>\n",
       "  </clipPath>\n",
       "</defs>\n",
       "<path clip-path=\"url(#clip900)\" d=\"\n",
       "M135.95 1486.45 L2352.76 1486.45 L2352.76 47.2441 L135.95 47.2441  Z\n",
       "  \" fill=\"#ffffff\" fill-rule=\"evenodd\" fill-opacity=\"1\"/>\n",
       "<defs>\n",
       "  <clipPath id=\"clip902\">\n",
       "    <rect x=\"135\" y=\"47\" width=\"2218\" height=\"1440\"/>\n",
       "  </clipPath>\n",
       "</defs>\n",
       "<polyline clip-path=\"url(#clip902)\" style=\"stroke:#000000; stroke-width:2; stroke-opacity:0.1; fill:none\" points=\"\n",
       "  198.69,1486.45 198.69,47.2441 \n",
       "  \"/>\n",
       "<polyline clip-path=\"url(#clip902)\" style=\"stroke:#000000; stroke-width:2; stroke-opacity:0.1; fill:none\" points=\"\n",
       "  721.522,1486.45 721.522,47.2441 \n",
       "  \"/>\n",
       "<polyline clip-path=\"url(#clip902)\" style=\"stroke:#000000; stroke-width:2; stroke-opacity:0.1; fill:none\" points=\"\n",
       "  1244.35,1486.45 1244.35,47.2441 \n",
       "  \"/>\n",
       "<polyline clip-path=\"url(#clip902)\" style=\"stroke:#000000; stroke-width:2; stroke-opacity:0.1; fill:none\" points=\"\n",
       "  1767.18,1486.45 1767.18,47.2441 \n",
       "  \"/>\n",
       "<polyline clip-path=\"url(#clip902)\" style=\"stroke:#000000; stroke-width:2; stroke-opacity:0.1; fill:none\" points=\"\n",
       "  2290.02,1486.45 2290.02,47.2441 \n",
       "  \"/>\n",
       "<polyline clip-path=\"url(#clip900)\" style=\"stroke:#000000; stroke-width:4; stroke-opacity:1; fill:none\" points=\"\n",
       "  135.95,1486.45 2352.76,1486.45 \n",
       "  \"/>\n",
       "<polyline clip-path=\"url(#clip900)\" style=\"stroke:#000000; stroke-width:4; stroke-opacity:1; fill:none\" points=\"\n",
       "  198.69,1486.45 198.69,1469.18 \n",
       "  \"/>\n",
       "<polyline clip-path=\"url(#clip900)\" style=\"stroke:#000000; stroke-width:4; stroke-opacity:1; fill:none\" points=\"\n",
       "  721.522,1486.45 721.522,1469.18 \n",
       "  \"/>\n",
       "<polyline clip-path=\"url(#clip900)\" style=\"stroke:#000000; stroke-width:4; stroke-opacity:1; fill:none\" points=\"\n",
       "  1244.35,1486.45 1244.35,1469.18 \n",
       "  \"/>\n",
       "<polyline clip-path=\"url(#clip900)\" style=\"stroke:#000000; stroke-width:4; stroke-opacity:1; fill:none\" points=\"\n",
       "  1767.18,1486.45 1767.18,1469.18 \n",
       "  \"/>\n",
       "<polyline clip-path=\"url(#clip900)\" style=\"stroke:#000000; stroke-width:4; stroke-opacity:1; fill:none\" points=\"\n",
       "  2290.02,1486.45 2290.02,1469.18 \n",
       "  \"/>\n",
       "<path clip-path=\"url(#clip900)\" d=\"M 0 0 M189.072 1543.18 L196.711 1543.18 L196.711 1516.82 L188.401 1518.49 L188.401 1514.23 L196.665 1512.56 L201.34 1512.56 L201.34 1543.18 L208.979 1543.18 L208.979 1547.12 L189.072 1547.12 L189.072 1543.18 Z\" fill=\"#000000\" fill-rule=\"evenodd\" fill-opacity=\"1\" /><path clip-path=\"url(#clip900)\" d=\"M 0 0 M716.174 1543.18 L732.494 1543.18 L732.494 1547.12 L710.549 1547.12 L710.549 1543.18 Q713.211 1540.43 717.795 1535.8 Q722.401 1531.15 723.582 1529.81 Q725.827 1527.28 726.707 1525.55 Q727.609 1523.79 727.609 1522.1 Q727.609 1519.34 725.665 1517.61 Q723.744 1515.87 720.642 1515.87 Q718.443 1515.87 715.989 1516.63 Q713.559 1517.4 710.781 1518.95 L710.781 1514.23 Q713.605 1513.09 716.059 1512.51 Q718.512 1511.93 720.549 1511.93 Q725.92 1511.93 729.114 1514.62 Q732.308 1517.31 732.308 1521.8 Q732.308 1523.93 731.498 1525.85 Q730.711 1527.74 728.605 1530.34 Q728.026 1531.01 724.924 1534.23 Q721.822 1537.42 716.174 1543.18 Z\" fill=\"#000000\" fill-rule=\"evenodd\" fill-opacity=\"1\" /><path clip-path=\"url(#clip900)\" d=\"M 0 0 M1248.6 1528.49 Q1251.96 1529.2 1253.83 1531.47 Q1255.73 1533.74 1255.73 1537.07 Q1255.73 1542.19 1252.21 1544.99 Q1248.69 1547.79 1242.21 1547.79 Q1240.04 1547.79 1237.72 1547.35 Q1235.43 1546.93 1232.98 1546.08 L1232.98 1541.56 Q1234.92 1542.7 1237.24 1543.28 Q1239.55 1543.86 1242.07 1543.86 Q1246.47 1543.86 1248.76 1542.12 Q1251.08 1540.38 1251.08 1537.07 Q1251.08 1534.02 1248.92 1532.31 Q1246.8 1530.57 1242.98 1530.57 L1238.95 1530.57 L1238.95 1526.73 L1243.16 1526.73 Q1246.61 1526.73 1248.44 1525.36 Q1250.27 1523.97 1250.27 1521.38 Q1250.27 1518.72 1248.37 1517.31 Q1246.49 1515.87 1242.98 1515.87 Q1241.05 1515.87 1238.86 1516.29 Q1236.66 1516.7 1234.02 1517.58 L1234.02 1513.42 Q1236.68 1512.68 1238.99 1512.31 Q1241.33 1511.93 1243.39 1511.93 Q1248.72 1511.93 1251.82 1514.37 Q1254.92 1516.77 1254.92 1520.89 Q1254.92 1523.76 1253.28 1525.75 Q1251.63 1527.72 1248.6 1528.49 Z\" fill=\"#000000\" fill-rule=\"evenodd\" fill-opacity=\"1\" /><path clip-path=\"url(#clip900)\" d=\"M 0 0 M1770.19 1516.63 L1758.39 1535.08 L1770.19 1535.08 L1770.19 1516.63 M1768.97 1512.56 L1774.85 1512.56 L1774.85 1535.08 L1779.78 1535.08 L1779.78 1538.97 L1774.85 1538.97 L1774.85 1547.12 L1770.19 1547.12 L1770.19 1538.97 L1754.59 1538.97 L1754.59 1534.46 L1768.97 1512.56 Z\" fill=\"#000000\" fill-rule=\"evenodd\" fill-opacity=\"1\" /><path clip-path=\"url(#clip900)\" d=\"M 0 0 M2280.29 1512.56 L2298.65 1512.56 L2298.65 1516.5 L2284.58 1516.5 L2284.58 1524.97 Q2285.59 1524.62 2286.61 1524.46 Q2287.63 1524.27 2288.65 1524.27 Q2294.44 1524.27 2297.82 1527.44 Q2301.2 1530.62 2301.2 1536.03 Q2301.2 1541.61 2297.72 1544.71 Q2294.25 1547.79 2287.93 1547.79 Q2285.76 1547.79 2283.49 1547.42 Q2281.24 1547.05 2278.84 1546.31 L2278.84 1541.61 Q2280.92 1542.74 2283.14 1543.3 Q2285.36 1543.86 2287.84 1543.86 Q2291.84 1543.86 2294.18 1541.75 Q2296.52 1539.64 2296.52 1536.03 Q2296.52 1532.42 2294.18 1530.31 Q2291.84 1528.21 2287.84 1528.21 Q2285.97 1528.21 2284.09 1528.62 Q2282.24 1529.04 2280.29 1529.92 L2280.29 1512.56 Z\" fill=\"#000000\" fill-rule=\"evenodd\" fill-opacity=\"1\" /><polyline clip-path=\"url(#clip902)\" style=\"stroke:#000000; stroke-width:2; stroke-opacity:0.1; fill:none\" points=\"\n",
       "  135.95,1219.43 2352.76,1219.43 \n",
       "  \"/>\n",
       "<polyline clip-path=\"url(#clip902)\" style=\"stroke:#000000; stroke-width:2; stroke-opacity:0.1; fill:none\" points=\"\n",
       "  135.95,936.563 2352.76,936.563 \n",
       "  \"/>\n",
       "<polyline clip-path=\"url(#clip902)\" style=\"stroke:#000000; stroke-width:2; stroke-opacity:0.1; fill:none\" points=\"\n",
       "  135.95,653.701 2352.76,653.701 \n",
       "  \"/>\n",
       "<polyline clip-path=\"url(#clip902)\" style=\"stroke:#000000; stroke-width:2; stroke-opacity:0.1; fill:none\" points=\"\n",
       "  135.95,370.839 2352.76,370.839 \n",
       "  \"/>\n",
       "<polyline clip-path=\"url(#clip902)\" style=\"stroke:#000000; stroke-width:2; stroke-opacity:0.1; fill:none\" points=\"\n",
       "  135.95,87.9763 2352.76,87.9763 \n",
       "  \"/>\n",
       "<polyline clip-path=\"url(#clip900)\" style=\"stroke:#000000; stroke-width:4; stroke-opacity:1; fill:none\" points=\"\n",
       "  135.95,1486.45 135.95,47.2441 \n",
       "  \"/>\n",
       "<polyline clip-path=\"url(#clip900)\" style=\"stroke:#000000; stroke-width:4; stroke-opacity:1; fill:none\" points=\"\n",
       "  135.95,1219.43 162.552,1219.43 \n",
       "  \"/>\n",
       "<polyline clip-path=\"url(#clip900)\" style=\"stroke:#000000; stroke-width:4; stroke-opacity:1; fill:none\" points=\"\n",
       "  135.95,936.563 162.552,936.563 \n",
       "  \"/>\n",
       "<polyline clip-path=\"url(#clip900)\" style=\"stroke:#000000; stroke-width:4; stroke-opacity:1; fill:none\" points=\"\n",
       "  135.95,653.701 162.552,653.701 \n",
       "  \"/>\n",
       "<polyline clip-path=\"url(#clip900)\" style=\"stroke:#000000; stroke-width:4; stroke-opacity:1; fill:none\" points=\"\n",
       "  135.95,370.839 162.552,370.839 \n",
       "  \"/>\n",
       "<polyline clip-path=\"url(#clip900)\" style=\"stroke:#000000; stroke-width:4; stroke-opacity:1; fill:none\" points=\"\n",
       "  135.95,87.9763 162.552,87.9763 \n",
       "  \"/>\n",
       "<path clip-path=\"url(#clip900)\" d=\"M 0 0 M79.0475 1202.15 L97.4039 1202.15 L97.4039 1206.08 L83.3299 1206.08 L83.3299 1214.55 Q84.3484 1214.21 85.3669 1214.04 Q86.3855 1213.86 87.404 1213.86 Q93.191 1213.86 96.5706 1217.03 Q99.9502 1220.2 99.9502 1225.62 Q99.9502 1231.2 96.478 1234.3 Q93.0058 1237.38 86.6864 1237.38 Q84.5105 1237.38 82.242 1237.01 Q79.9966 1236.64 77.5892 1235.9 L77.5892 1231.2 Q79.6725 1232.33 81.8947 1232.89 Q84.1169 1233.44 86.5938 1233.44 Q90.5984 1233.44 92.9363 1231.34 Q95.2743 1229.23 95.2743 1225.62 Q95.2743 1222.01 92.9363 1219.9 Q90.5984 1217.79 86.5938 1217.79 Q84.7188 1217.79 82.8438 1218.21 Q80.992 1218.63 79.0475 1219.51 L79.0475 1202.15 Z\" fill=\"#000000\" fill-rule=\"evenodd\" fill-opacity=\"1\" /><path clip-path=\"url(#clip900)\" d=\"M 0 0 M53.0292 949.908 L60.668 949.908 L60.668 923.543 L52.3579 925.209 L52.3579 920.95 L60.6217 919.283 L65.2976 919.283 L65.2976 949.908 L72.9365 949.908 L72.9365 953.843 L53.0292 953.843 L53.0292 949.908 Z\" fill=\"#000000\" fill-rule=\"evenodd\" fill-opacity=\"1\" /><path clip-path=\"url(#clip900)\" d=\"M 0 0 M88.0058 922.362 Q84.3947 922.362 82.566 925.927 Q80.7605 929.469 80.7605 936.598 Q80.7605 943.705 82.566 947.269 Q84.3947 950.811 88.0058 950.811 Q91.6401 950.811 93.4456 947.269 Q95.2743 943.705 95.2743 936.598 Q95.2743 929.469 93.4456 925.927 Q91.6401 922.362 88.0058 922.362 M88.0058 918.658 Q93.816 918.658 96.8715 923.265 Q99.9502 927.848 99.9502 936.598 Q99.9502 945.325 96.8715 949.931 Q93.816 954.515 88.0058 954.515 Q82.1957 954.515 79.117 949.931 Q76.0614 945.325 76.0614 936.598 Q76.0614 927.848 79.117 923.265 Q82.1957 918.658 88.0058 918.658 Z\" fill=\"#000000\" fill-rule=\"evenodd\" fill-opacity=\"1\" /><path clip-path=\"url(#clip900)\" d=\"M 0 0 M54.0245 667.046 L61.6634 667.046 L61.6634 640.68 L53.3532 642.347 L53.3532 638.088 L61.6171 636.421 L66.293 636.421 L66.293 667.046 L73.9318 667.046 L73.9318 670.981 L54.0245 670.981 L54.0245 667.046 Z\" fill=\"#000000\" fill-rule=\"evenodd\" fill-opacity=\"1\" /><path clip-path=\"url(#clip900)\" d=\"M 0 0 M79.0475 636.421 L97.4039 636.421 L97.4039 640.356 L83.3299 640.356 L83.3299 648.828 Q84.3484 648.481 85.3669 648.319 Q86.3855 648.134 87.404 648.134 Q93.191 648.134 96.5706 651.305 Q99.9502 654.476 99.9502 659.893 Q99.9502 665.472 96.478 668.574 Q93.0058 671.652 86.6864 671.652 Q84.5105 671.652 82.242 671.282 Q79.9966 670.912 77.5892 670.171 L77.5892 665.472 Q79.6725 666.606 81.8947 667.162 Q84.1169 667.717 86.5938 667.717 Q90.5984 667.717 92.9363 665.611 Q95.2743 663.504 95.2743 659.893 Q95.2743 656.282 92.9363 654.176 Q90.5984 652.069 86.5938 652.069 Q84.7188 652.069 82.8438 652.486 Q80.992 652.902 79.0475 653.782 L79.0475 636.421 Z\" fill=\"#000000\" fill-rule=\"evenodd\" fill-opacity=\"1\" /><path clip-path=\"url(#clip900)\" d=\"M 0 0 M56.6171 384.183 L72.9365 384.183 L72.9365 388.119 L50.9921 388.119 L50.9921 384.183 Q53.6541 381.429 58.2375 376.799 Q62.8439 372.147 64.0245 370.804 Q66.2698 368.281 67.1494 366.545 Q68.0522 364.785 68.0522 363.096 Q68.0522 360.341 66.1078 358.605 Q64.1865 356.869 61.0847 356.869 Q58.8856 356.869 56.4319 357.633 Q54.0014 358.397 51.2236 359.948 L51.2236 355.225 Q54.0477 354.091 56.5014 353.512 Q58.955 352.934 60.9921 352.934 Q66.3624 352.934 69.5568 355.619 Q72.7513 358.304 72.7513 362.795 Q72.7513 364.924 71.9411 366.846 Q71.1541 368.744 69.0476 371.336 Q68.4689 372.008 65.367 375.225 Q62.2652 378.42 56.6171 384.183 Z\" fill=\"#000000\" fill-rule=\"evenodd\" fill-opacity=\"1\" /><path clip-path=\"url(#clip900)\" d=\"M 0 0 M88.0058 356.637 Q84.3947 356.637 82.566 360.202 Q80.7605 363.744 80.7605 370.873 Q80.7605 377.98 82.566 381.545 Q84.3947 385.086 88.0058 385.086 Q91.6401 385.086 93.4456 381.545 Q95.2743 377.98 95.2743 370.873 Q95.2743 363.744 93.4456 360.202 Q91.6401 356.637 88.0058 356.637 M88.0058 352.934 Q93.816 352.934 96.8715 357.54 Q99.9502 362.123 99.9502 370.873 Q99.9502 379.6 96.8715 384.207 Q93.816 388.79 88.0058 388.79 Q82.1957 388.79 79.117 384.207 Q76.0614 379.6 76.0614 370.873 Q76.0614 362.123 79.117 357.54 Q82.1957 352.934 88.0058 352.934 Z\" fill=\"#000000\" fill-rule=\"evenodd\" fill-opacity=\"1\" /><path clip-path=\"url(#clip900)\" d=\"M 0 0 M57.6125 101.321 L73.9318 101.321 L73.9318 105.256 L51.9875 105.256 L51.9875 101.321 Q54.6495 98.5665 59.2328 93.9369 Q63.8393 89.2841 65.0198 87.9416 Q67.2652 85.4184 68.1448 83.6823 Q69.0476 81.9231 69.0476 80.2333 Q69.0476 77.4786 67.1032 75.7425 Q65.1819 74.0064 62.08 74.0064 Q59.881 74.0064 57.4273 74.7703 Q54.9967 75.5342 52.219 77.0851 L52.219 72.3629 Q55.043 71.2287 57.4967 70.65 Q59.9504 70.0713 61.9874 70.0713 Q67.3578 70.0713 70.5522 72.7565 Q73.7466 75.4416 73.7466 79.9323 Q73.7466 82.062 72.9365 83.9832 Q72.1494 85.8814 70.0429 88.474 Q69.4642 89.1453 66.3624 92.3628 Q63.2606 95.5573 57.6125 101.321 Z\" fill=\"#000000\" fill-rule=\"evenodd\" fill-opacity=\"1\" /><path clip-path=\"url(#clip900)\" d=\"M 0 0 M79.0475 70.6963 L97.4039 70.6963 L97.4039 74.6314 L83.3299 74.6314 L83.3299 83.1036 Q84.3484 82.7564 85.3669 82.5944 Q86.3855 82.4092 87.404 82.4092 Q93.191 82.4092 96.5706 85.5805 Q99.9502 88.7517 99.9502 94.1684 Q99.9502 99.747 96.478 102.849 Q93.0058 105.928 86.6864 105.928 Q84.5105 105.928 82.242 105.557 Q79.9966 105.187 77.5892 104.446 L77.5892 99.747 Q79.6725 100.881 81.8947 101.437 Q84.1169 101.992 86.5938 101.992 Q90.5984 101.992 92.9363 99.8859 Q95.2743 97.7795 95.2743 94.1684 Q95.2743 90.5573 92.9363 88.4508 Q90.5984 86.3443 86.5938 86.3443 Q84.7188 86.3443 82.8438 86.761 Q80.992 87.1777 79.0475 88.0573 L79.0475 70.6963 Z\" fill=\"#000000\" fill-rule=\"evenodd\" fill-opacity=\"1\" /><polyline clip-path=\"url(#clip902)\" style=\"stroke:#009af9; stroke-width:4; stroke-opacity:1; fill:none\" points=\"\n",
       "  198.69,1445.72 721.522,1276 1244.35,993.136 1767.18,597.129 2290.02,87.9763 \n",
       "  \"/>\n",
       "<path clip-path=\"url(#clip900)\" d=\"\n",
       "M1981.53 216.178 L2278.86 216.178 L2278.86 95.2176 L1981.53 95.2176  Z\n",
       "  \" fill=\"#ffffff\" fill-rule=\"evenodd\" fill-opacity=\"1\"/>\n",
       "<polyline clip-path=\"url(#clip900)\" style=\"stroke:#000000; stroke-width:4; stroke-opacity:1; fill:none\" points=\"\n",
       "  1981.53,216.178 2278.86,216.178 2278.86,95.2176 1981.53,95.2176 1981.53,216.178 \n",
       "  \"/>\n",
       "<polyline clip-path=\"url(#clip900)\" style=\"stroke:#009af9; stroke-width:4; stroke-opacity:1; fill:none\" points=\"\n",
       "  2006.16,155.698 2153.95,155.698 \n",
       "  \"/>\n",
       "<path clip-path=\"url(#clip900)\" d=\"M 0 0 M2192.42 175.385 Q2190.62 180.015 2188.91 181.427 Q2187.19 182.839 2184.32 182.839 L2180.92 182.839 L2180.92 179.274 L2183.42 179.274 Q2185.18 179.274 2186.15 178.44 Q2187.12 177.607 2188.3 174.505 L2189.07 172.561 L2178.58 147.052 L2183.1 147.052 L2191.2 167.329 L2199.3 147.052 L2203.81 147.052 L2192.42 175.385 Z\" fill=\"#000000\" fill-rule=\"evenodd\" fill-opacity=\"1\" /><path clip-path=\"url(#clip900)\" d=\"M 0 0 M2209.69 169.042 L2217.33 169.042 L2217.33 142.677 L2209.02 144.343 L2209.02 140.084 L2217.29 138.418 L2221.96 138.418 L2221.96 169.042 L2229.6 169.042 L2229.6 172.978 L2209.69 172.978 L2209.69 169.042 Z\" fill=\"#000000\" fill-rule=\"evenodd\" fill-opacity=\"1\" /></svg>\n"
      ]
     },
     "execution_count": 38,
     "metadata": {},
     "output_type": "execute_result"
    }
   ],
   "source": [
    "plot([1, 2, 3, 4, 5] .^ 2)"
   ]
  },
  {
   "cell_type": "markdown",
   "metadata": {},
   "source": [
    "### Stability properties\n",
    "Remember, for first-order difference equation\n",
    "$$\n",
    "x_t = a x_{t-1}\n",
    "$$\n",
    "Solution\n",
    "$$\n",
    "x_t = c a^t\n",
    "$$\n",
    "with $c$ pinned down by the boundary condition.\n",
    "\n",
    "Stable when\n",
    "$$\n",
    "|a| < 1.\n",
    "$$"
   ]
  },
  {
   "cell_type": "code",
   "execution_count": 48,
   "metadata": {},
   "outputs": [
    {
     "data": {
      "image/svg+xml": [
       "<?xml version=\"1.0\" encoding=\"utf-8\"?>\n",
       "<svg xmlns=\"http://www.w3.org/2000/svg\" xmlns:xlink=\"http://www.w3.org/1999/xlink\" width=\"600\" height=\"400\" viewBox=\"0 0 2400 1600\">\n",
       "<defs>\n",
       "  <clipPath id=\"clip220\">\n",
       "    <rect x=\"0\" y=\"0\" width=\"2400\" height=\"1600\"/>\n",
       "  </clipPath>\n",
       "</defs>\n",
       "<path clip-path=\"url(#clip220)\" d=\"\n",
       "M0 1600 L2400 1600 L2400 0 L0 0  Z\n",
       "  \" fill=\"#ffffff\" fill-rule=\"evenodd\" fill-opacity=\"1\"/>\n",
       "<defs>\n",
       "  <clipPath id=\"clip221\">\n",
       "    <rect x=\"480\" y=\"0\" width=\"1681\" height=\"1600\"/>\n",
       "  </clipPath>\n",
       "</defs>\n",
       "<path clip-path=\"url(#clip220)\" d=\"\n",
       "M142.455 1486.45 L2352.76 1486.45 L2352.76 47.2441 L142.455 47.2441  Z\n",
       "  \" fill=\"#ffffff\" fill-rule=\"evenodd\" fill-opacity=\"1\"/>\n",
       "<defs>\n",
       "  <clipPath id=\"clip222\">\n",
       "    <rect x=\"142\" y=\"47\" width=\"2211\" height=\"1440\"/>\n",
       "  </clipPath>\n",
       "</defs>\n",
       "<polyline clip-path=\"url(#clip222)\" style=\"stroke:#000000; stroke-width:2; stroke-opacity:0.1; fill:none\" points=\"\n",
       "  183.948,1486.45 183.948,47.2441 \n",
       "  \"/>\n",
       "<polyline clip-path=\"url(#clip222)\" style=\"stroke:#000000; stroke-width:2; stroke-opacity:0.1; fill:none\" points=\"\n",
       "  710.511,1486.45 710.511,47.2441 \n",
       "  \"/>\n",
       "<polyline clip-path=\"url(#clip222)\" style=\"stroke:#000000; stroke-width:2; stroke-opacity:0.1; fill:none\" points=\"\n",
       "  1237.07,1486.45 1237.07,47.2441 \n",
       "  \"/>\n",
       "<polyline clip-path=\"url(#clip222)\" style=\"stroke:#000000; stroke-width:2; stroke-opacity:0.1; fill:none\" points=\"\n",
       "  1763.64,1486.45 1763.64,47.2441 \n",
       "  \"/>\n",
       "<polyline clip-path=\"url(#clip222)\" style=\"stroke:#000000; stroke-width:2; stroke-opacity:0.1; fill:none\" points=\"\n",
       "  2290.2,1486.45 2290.2,47.2441 \n",
       "  \"/>\n",
       "<polyline clip-path=\"url(#clip220)\" style=\"stroke:#000000; stroke-width:4; stroke-opacity:1; fill:none\" points=\"\n",
       "  142.455,1486.45 2352.76,1486.45 \n",
       "  \"/>\n",
       "<polyline clip-path=\"url(#clip220)\" style=\"stroke:#000000; stroke-width:4; stroke-opacity:1; fill:none\" points=\"\n",
       "  183.948,1486.45 183.948,1469.18 \n",
       "  \"/>\n",
       "<polyline clip-path=\"url(#clip220)\" style=\"stroke:#000000; stroke-width:4; stroke-opacity:1; fill:none\" points=\"\n",
       "  710.511,1486.45 710.511,1469.18 \n",
       "  \"/>\n",
       "<polyline clip-path=\"url(#clip220)\" style=\"stroke:#000000; stroke-width:4; stroke-opacity:1; fill:none\" points=\"\n",
       "  1237.07,1486.45 1237.07,1469.18 \n",
       "  \"/>\n",
       "<polyline clip-path=\"url(#clip220)\" style=\"stroke:#000000; stroke-width:4; stroke-opacity:1; fill:none\" points=\"\n",
       "  1763.64,1486.45 1763.64,1469.18 \n",
       "  \"/>\n",
       "<polyline clip-path=\"url(#clip220)\" style=\"stroke:#000000; stroke-width:4; stroke-opacity:1; fill:none\" points=\"\n",
       "  2290.2,1486.45 2290.2,1469.18 \n",
       "  \"/>\n",
       "<path clip-path=\"url(#clip220)\" d=\"M 0 0 M183.948 1515.64 Q180.337 1515.64 178.508 1519.2 Q176.703 1522.75 176.703 1529.87 Q176.703 1536.98 178.508 1540.55 Q180.337 1544.09 183.948 1544.09 Q187.582 1544.09 189.388 1540.55 Q191.216 1536.98 191.216 1529.87 Q191.216 1522.75 189.388 1519.2 Q187.582 1515.64 183.948 1515.64 M183.948 1511.93 Q189.758 1511.93 192.814 1516.54 Q195.892 1521.12 195.892 1529.87 Q195.892 1538.6 192.814 1543.21 Q189.758 1547.79 183.948 1547.79 Q178.138 1547.79 175.059 1543.21 Q172.004 1538.6 172.004 1529.87 Q172.004 1521.12 175.059 1516.54 Q178.138 1511.93 183.948 1511.93 Z\" fill=\"#000000\" fill-rule=\"evenodd\" fill-opacity=\"1\" /><path clip-path=\"url(#clip220)\" d=\"M 0 0 M692.155 1543.18 L708.474 1543.18 L708.474 1547.12 L686.53 1547.12 L686.53 1543.18 Q689.192 1540.43 693.775 1535.8 Q698.381 1531.15 699.562 1529.81 Q701.807 1527.28 702.687 1525.55 Q703.59 1523.79 703.59 1522.1 Q703.59 1519.34 701.645 1517.61 Q699.724 1515.87 696.622 1515.87 Q694.423 1515.87 691.969 1516.63 Q689.539 1517.4 686.761 1518.95 L686.761 1514.23 Q689.585 1513.09 692.039 1512.51 Q694.493 1511.93 696.53 1511.93 Q701.9 1511.93 705.094 1514.62 Q708.289 1517.31 708.289 1521.8 Q708.289 1523.93 707.479 1525.85 Q706.692 1527.74 704.585 1530.34 Q704.006 1531.01 700.905 1534.23 Q697.803 1537.42 692.155 1543.18 Z\" fill=\"#000000\" fill-rule=\"evenodd\" fill-opacity=\"1\" /><path clip-path=\"url(#clip220)\" d=\"M 0 0 M713.59 1512.56 L731.946 1512.56 L731.946 1516.5 L717.872 1516.5 L717.872 1524.97 Q718.891 1524.62 719.909 1524.46 Q720.928 1524.27 721.946 1524.27 Q727.733 1524.27 731.113 1527.44 Q734.492 1530.62 734.492 1536.03 Q734.492 1541.61 731.02 1544.71 Q727.548 1547.79 721.229 1547.79 Q719.053 1547.79 716.784 1547.42 Q714.539 1547.05 712.131 1546.31 L712.131 1541.61 Q714.215 1542.74 716.437 1543.3 Q718.659 1543.86 721.136 1543.86 Q725.141 1543.86 727.479 1541.75 Q729.816 1539.64 729.816 1536.03 Q729.816 1532.42 727.479 1530.31 Q725.141 1528.21 721.136 1528.21 Q719.261 1528.21 717.386 1528.62 Q715.534 1529.04 713.59 1529.92 L713.59 1512.56 Z\" fill=\"#000000\" fill-rule=\"evenodd\" fill-opacity=\"1\" /><path clip-path=\"url(#clip220)\" d=\"M 0 0 M1213.85 1512.56 L1232.2 1512.56 L1232.2 1516.5 L1218.13 1516.5 L1218.13 1524.97 Q1219.15 1524.62 1220.16 1524.46 Q1221.18 1524.27 1222.2 1524.27 Q1227.99 1524.27 1231.37 1527.44 Q1234.75 1530.62 1234.75 1536.03 Q1234.75 1541.61 1231.28 1544.71 Q1227.8 1547.79 1221.48 1547.79 Q1219.31 1547.79 1217.04 1547.42 Q1214.79 1547.05 1212.39 1546.31 L1212.39 1541.61 Q1214.47 1542.74 1216.69 1543.3 Q1218.91 1543.86 1221.39 1543.86 Q1225.4 1543.86 1227.73 1541.75 Q1230.07 1539.64 1230.07 1536.03 Q1230.07 1532.42 1227.73 1530.31 Q1225.4 1528.21 1221.39 1528.21 Q1219.52 1528.21 1217.64 1528.62 Q1215.79 1529.04 1213.85 1529.92 L1213.85 1512.56 Z\" fill=\"#000000\" fill-rule=\"evenodd\" fill-opacity=\"1\" /><path clip-path=\"url(#clip220)\" d=\"M 0 0 M1249.82 1515.64 Q1246.21 1515.64 1244.38 1519.2 Q1242.57 1522.75 1242.57 1529.87 Q1242.57 1536.98 1244.38 1540.55 Q1246.21 1544.09 1249.82 1544.09 Q1253.45 1544.09 1255.26 1540.55 Q1257.09 1536.98 1257.09 1529.87 Q1257.09 1522.75 1255.26 1519.2 Q1253.45 1515.64 1249.82 1515.64 M1249.82 1511.93 Q1255.63 1511.93 1258.68 1516.54 Q1261.76 1521.12 1261.76 1529.87 Q1261.76 1538.6 1258.68 1543.21 Q1255.63 1547.79 1249.82 1547.79 Q1244.01 1547.79 1240.93 1543.21 Q1237.87 1538.6 1237.87 1529.87 Q1237.87 1521.12 1240.93 1516.54 Q1244.01 1511.93 1249.82 1511.93 Z\" fill=\"#000000\" fill-rule=\"evenodd\" fill-opacity=\"1\" /><path clip-path=\"url(#clip220)\" d=\"M 0 0 M1739.52 1512.56 L1761.74 1512.56 L1761.74 1514.55 L1749.19 1547.12 L1744.31 1547.12 L1756.11 1516.5 L1739.52 1516.5 L1739.52 1512.56 Z\" fill=\"#000000\" fill-rule=\"evenodd\" fill-opacity=\"1\" /><path clip-path=\"url(#clip220)\" d=\"M 0 0 M1766.85 1512.56 L1785.21 1512.56 L1785.21 1516.5 L1771.14 1516.5 L1771.14 1524.97 Q1772.16 1524.62 1773.17 1524.46 Q1774.19 1524.27 1775.21 1524.27 Q1781 1524.27 1784.38 1527.44 Q1787.76 1530.62 1787.76 1536.03 Q1787.76 1541.61 1784.29 1544.71 Q1780.81 1547.79 1774.49 1547.79 Q1772.32 1547.79 1770.05 1547.42 Q1767.8 1547.05 1765.4 1546.31 L1765.4 1541.61 Q1767.48 1542.74 1769.7 1543.3 Q1771.92 1543.86 1774.4 1543.86 Q1778.41 1543.86 1780.74 1541.75 Q1783.08 1539.64 1783.08 1536.03 Q1783.08 1532.42 1780.74 1530.31 Q1778.41 1528.21 1774.4 1528.21 Q1772.53 1528.21 1770.65 1528.62 Q1768.8 1529.04 1766.85 1529.92 L1766.85 1512.56 Z\" fill=\"#000000\" fill-rule=\"evenodd\" fill-opacity=\"1\" /><path clip-path=\"url(#clip220)\" d=\"M 0 0 M2253.57 1543.18 L2261.21 1543.18 L2261.21 1516.82 L2252.9 1518.49 L2252.9 1514.23 L2261.16 1512.56 L2265.84 1512.56 L2265.84 1543.18 L2273.48 1543.18 L2273.48 1547.12 L2253.57 1547.12 L2253.57 1543.18 Z\" fill=\"#000000\" fill-rule=\"evenodd\" fill-opacity=\"1\" /><path clip-path=\"url(#clip220)\" d=\"M 0 0 M2288.55 1515.64 Q2284.93 1515.64 2283.11 1519.2 Q2281.3 1522.75 2281.3 1529.87 Q2281.3 1536.98 2283.11 1540.55 Q2284.93 1544.09 2288.55 1544.09 Q2292.18 1544.09 2293.98 1540.55 Q2295.81 1536.98 2295.81 1529.87 Q2295.81 1522.75 2293.98 1519.2 Q2292.18 1515.64 2288.55 1515.64 M2288.55 1511.93 Q2294.36 1511.93 2297.41 1516.54 Q2300.49 1521.12 2300.49 1529.87 Q2300.49 1538.6 2297.41 1543.21 Q2294.36 1547.79 2288.55 1547.79 Q2282.73 1547.79 2279.66 1543.21 Q2276.6 1538.6 2276.6 1529.87 Q2276.6 1521.12 2279.66 1516.54 Q2282.73 1511.93 2288.55 1511.93 Z\" fill=\"#000000\" fill-rule=\"evenodd\" fill-opacity=\"1\" /><path clip-path=\"url(#clip220)\" d=\"M 0 0 M2315.56 1515.64 Q2311.95 1515.64 2310.12 1519.2 Q2308.31 1522.75 2308.31 1529.87 Q2308.31 1536.98 2310.12 1540.55 Q2311.95 1544.09 2315.56 1544.09 Q2319.19 1544.09 2321 1540.55 Q2322.83 1536.98 2322.83 1529.87 Q2322.83 1522.75 2321 1519.2 Q2319.19 1515.64 2315.56 1515.64 M2315.56 1511.93 Q2321.37 1511.93 2324.42 1516.54 Q2327.5 1521.12 2327.5 1529.87 Q2327.5 1538.6 2324.42 1543.21 Q2321.37 1547.79 2315.56 1547.79 Q2309.75 1547.79 2306.67 1543.21 Q2303.61 1538.6 2303.61 1529.87 Q2303.61 1521.12 2306.67 1516.54 Q2309.75 1511.93 2315.56 1511.93 Z\" fill=\"#000000\" fill-rule=\"evenodd\" fill-opacity=\"1\" /><polyline clip-path=\"url(#clip222)\" style=\"stroke:#000000; stroke-width:2; stroke-opacity:0.1; fill:none\" points=\"\n",
       "  142.455,1272.98 2352.76,1272.98 \n",
       "  \"/>\n",
       "<polyline clip-path=\"url(#clip222)\" style=\"stroke:#000000; stroke-width:2; stroke-opacity:0.1; fill:none\" points=\"\n",
       "  142.455,1018.23 2352.76,1018.23 \n",
       "  \"/>\n",
       "<polyline clip-path=\"url(#clip222)\" style=\"stroke:#000000; stroke-width:2; stroke-opacity:0.1; fill:none\" points=\"\n",
       "  142.455,763.469 2352.76,763.469 \n",
       "  \"/>\n",
       "<polyline clip-path=\"url(#clip222)\" style=\"stroke:#000000; stroke-width:2; stroke-opacity:0.1; fill:none\" points=\"\n",
       "  142.455,508.712 2352.76,508.712 \n",
       "  \"/>\n",
       "<polyline clip-path=\"url(#clip222)\" style=\"stroke:#000000; stroke-width:2; stroke-opacity:0.1; fill:none\" points=\"\n",
       "  142.455,253.955 2352.76,253.955 \n",
       "  \"/>\n",
       "<polyline clip-path=\"url(#clip220)\" style=\"stroke:#000000; stroke-width:4; stroke-opacity:1; fill:none\" points=\"\n",
       "  142.455,1486.45 142.455,47.2441 \n",
       "  \"/>\n",
       "<polyline clip-path=\"url(#clip220)\" style=\"stroke:#000000; stroke-width:4; stroke-opacity:1; fill:none\" points=\"\n",
       "  142.455,1272.98 168.978,1272.98 \n",
       "  \"/>\n",
       "<polyline clip-path=\"url(#clip220)\" style=\"stroke:#000000; stroke-width:4; stroke-opacity:1; fill:none\" points=\"\n",
       "  142.455,1018.23 168.978,1018.23 \n",
       "  \"/>\n",
       "<polyline clip-path=\"url(#clip220)\" style=\"stroke:#000000; stroke-width:4; stroke-opacity:1; fill:none\" points=\"\n",
       "  142.455,763.469 168.978,763.469 \n",
       "  \"/>\n",
       "<polyline clip-path=\"url(#clip220)\" style=\"stroke:#000000; stroke-width:4; stroke-opacity:1; fill:none\" points=\"\n",
       "  142.455,508.712 168.978,508.712 \n",
       "  \"/>\n",
       "<polyline clip-path=\"url(#clip220)\" style=\"stroke:#000000; stroke-width:4; stroke-opacity:1; fill:none\" points=\"\n",
       "  142.455,253.955 168.978,253.955 \n",
       "  \"/>\n",
       "<path clip-path=\"url(#clip220)\" d=\"M 0 0 M51.3625 1273.43 L81.0383 1273.43 L81.0383 1277.37 L51.3625 1277.37 L51.3625 1273.43 Z\" fill=\"#000000\" fill-rule=\"evenodd\" fill-opacity=\"1\" /><path clip-path=\"url(#clip220)\" d=\"M 0 0 M90.1354 1286.33 L106.455 1286.33 L106.455 1290.26 L84.5105 1290.26 L84.5105 1286.33 Q87.1725 1283.57 91.7558 1278.94 Q96.3623 1274.29 97.5428 1272.95 Q99.7882 1270.42 100.668 1268.69 Q101.571 1266.93 101.571 1265.24 Q101.571 1262.48 99.6261 1260.75 Q97.7048 1259.01 94.603 1259.01 Q92.4039 1259.01 89.9503 1259.78 Q87.5197 1260.54 84.7419 1262.09 L84.7419 1257.37 Q87.566 1256.23 90.0197 1255.66 Q92.4734 1255.08 94.5104 1255.08 Q99.8808 1255.08 103.075 1257.76 Q106.27 1260.45 106.27 1264.94 Q106.27 1267.07 105.459 1268.99 Q104.672 1270.89 102.566 1273.48 Q101.987 1274.15 98.8854 1277.37 Q95.7836 1280.56 90.1354 1286.33 Z\" fill=\"#000000\" fill-rule=\"evenodd\" fill-opacity=\"1\" /><path clip-path=\"url(#clip220)\" d=\"M 0 0 M50.9921 1018.68 L80.6679 1018.68 L80.6679 1022.61 L50.9921 1022.61 L50.9921 1018.68 Z\" fill=\"#000000\" fill-rule=\"evenodd\" fill-opacity=\"1\" /><path clip-path=\"url(#clip220)\" d=\"M 0 0 M86.5475 1031.57 L94.1863 1031.57 L94.1863 1005.2 L85.8762 1006.87 L85.8762 1002.61 L94.14 1000.95 L98.8159 1000.95 L98.8159 1031.57 L106.455 1031.57 L106.455 1035.51 L86.5475 1035.51 L86.5475 1031.57 Z\" fill=\"#000000\" fill-rule=\"evenodd\" fill-opacity=\"1\" /><path clip-path=\"url(#clip220)\" d=\"M 0 0 M94.5104 749.267 Q90.8993 749.267 89.0706 752.832 Q87.2651 756.374 87.2651 763.503 Q87.2651 770.61 89.0706 774.174 Q90.8993 777.716 94.5104 777.716 Q98.1447 777.716 99.9502 774.174 Q101.779 770.61 101.779 763.503 Q101.779 756.374 99.9502 752.832 Q98.1447 749.267 94.5104 749.267 M94.5104 745.564 Q100.321 745.564 103.376 750.17 Q106.455 754.753 106.455 763.503 Q106.455 772.23 103.376 776.837 Q100.321 781.42 94.5104 781.42 Q88.7003 781.42 85.6216 776.837 Q82.566 772.23 82.566 763.503 Q82.566 754.753 85.6216 750.17 Q88.7003 745.564 94.5104 745.564 Z\" fill=\"#000000\" fill-rule=\"evenodd\" fill-opacity=\"1\" /><path clip-path=\"url(#clip220)\" d=\"M 0 0 M86.5475 522.057 L94.1863 522.057 L94.1863 495.691 L85.8762 497.358 L85.8762 493.098 L94.14 491.432 L98.8159 491.432 L98.8159 522.057 L106.455 522.057 L106.455 525.992 L86.5475 525.992 L86.5475 522.057 Z\" fill=\"#000000\" fill-rule=\"evenodd\" fill-opacity=\"1\" /><path clip-path=\"url(#clip220)\" d=\"M 0 0 M90.1354 267.3 L106.455 267.3 L106.455 271.235 L84.5105 271.235 L84.5105 267.3 Q87.1725 264.545 91.7558 259.916 Q96.3623 255.263 97.5428 253.92 Q99.7882 251.397 100.668 249.661 Q101.571 247.902 101.571 246.212 Q101.571 243.457 99.6261 241.721 Q97.7048 239.985 94.603 239.985 Q92.4039 239.985 89.9503 240.749 Q87.5197 241.513 84.7419 243.064 L84.7419 238.342 Q87.566 237.207 90.0197 236.629 Q92.4734 236.05 94.5104 236.05 Q99.8808 236.05 103.075 238.735 Q106.27 241.42 106.27 245.911 Q106.27 248.041 105.459 249.962 Q104.672 251.86 102.566 254.453 Q101.987 255.124 98.8854 258.342 Q95.7836 261.536 90.1354 267.3 Z\" fill=\"#000000\" fill-rule=\"evenodd\" fill-opacity=\"1\" /><polyline clip-path=\"url(#clip222)\" style=\"stroke:#009af9; stroke-width:4; stroke-opacity:1; fill:none\" points=\"\n",
       "  205.01,508.712 226.073,1020.77 247.136,503.591 268.198,1025.94 289.261,498.368 310.323,1031.22 331.386,493.039 352.448,1036.6 373.511,487.603 394.573,1042.09 \n",
       "  415.636,482.059 436.698,1047.69 457.761,476.402 478.823,1053.41 499.886,470.632 520.948,1059.23 542.011,464.746 563.073,1065.18 584.136,458.742 605.198,1071.24 \n",
       "  626.261,452.617 647.323,1077.43 668.386,446.369 689.449,1083.74 710.511,439.995 731.574,1090.18 752.636,433.493 773.699,1096.74 794.761,426.861 815.824,1103.44 \n",
       "  836.886,420.095 857.949,1110.28 879.011,413.193 900.074,1117.25 921.136,406.153 942.199,1124.36 963.261,398.97 984.324,1131.61 1005.39,391.644 1026.45,1139.01 \n",
       "  1047.51,384.17 1068.57,1146.56 1089.64,376.547 1110.7,1154.26 1131.76,368.769 1152.82,1162.11 1173.89,360.836 1194.95,1170.13 1216.01,352.743 1237.07,1178.3 \n",
       "  1258.14,344.487 1279.2,1186.64 1300.26,336.066 1321.32,1195.15 1342.39,327.475 1363.45,1203.82 1384.51,318.712 1405.57,1212.67 1426.64,309.772 1447.7,1221.7 \n",
       "  1468.76,300.653 1489.82,1230.91 1510.89,291.35 1531.95,1240.31 1553.01,281.861 1574.07,1249.89 1595.14,272.18 1616.2,1259.67 1637.26,262.305 1658.32,1269.64 \n",
       "  1679.39,252.232 1700.45,1279.82 1721.51,241.956 1742.57,1290.2 1763.64,231.474 1784.7,1300.78 1805.76,220.781 1826.82,1311.58 1847.89,209.873 1868.95,1322.6 \n",
       "  1890.01,198.745 1911.07,1333.84 1932.14,187.394 1953.2,1345.3 1974.26,175.815 1995.32,1357 2016.39,164.003 2037.45,1368.93 2058.51,151.954 2079.57,1381.1 \n",
       "  2100.64,139.663 2121.7,1393.51 2142.76,127.124 2163.83,1406.18 2184.89,114.334 2205.95,1419.09 2227.01,101.286 2248.08,1432.27 2269.14,87.9763 2290.2,1445.72 \n",
       "  \n",
       "  \"/>\n",
       "<path clip-path=\"url(#clip220)\" d=\"\n",
       "M1982.47 216.178 L2279.08 216.178 L2279.08 95.2176 L1982.47 95.2176  Z\n",
       "  \" fill=\"#ffffff\" fill-rule=\"evenodd\" fill-opacity=\"1\"/>\n",
       "<polyline clip-path=\"url(#clip220)\" style=\"stroke:#000000; stroke-width:4; stroke-opacity:1; fill:none\" points=\"\n",
       "  1982.47,216.178 2279.08,216.178 2279.08,95.2176 1982.47,95.2176 1982.47,216.178 \n",
       "  \"/>\n",
       "<polyline clip-path=\"url(#clip220)\" style=\"stroke:#009af9; stroke-width:4; stroke-opacity:1; fill:none\" points=\"\n",
       "  2007.03,155.698 2154.38,155.698 \n",
       "  \"/>\n",
       "<path clip-path=\"url(#clip220)\" d=\"M 0 0 M2192.79 175.385 Q2190.98 180.015 2189.27 181.427 Q2187.55 182.839 2184.68 182.839 L2181.28 182.839 L2181.28 179.274 L2183.78 179.274 Q2185.54 179.274 2186.51 178.44 Q2187.48 177.607 2188.67 174.505 L2189.43 172.561 L2178.94 147.052 L2183.46 147.052 L2191.56 167.329 L2199.66 147.052 L2204.17 147.052 L2192.79 175.385 Z\" fill=\"#000000\" fill-rule=\"evenodd\" fill-opacity=\"1\" /><path clip-path=\"url(#clip220)\" d=\"M 0 0 M2210.05 169.042 L2217.69 169.042 L2217.69 142.677 L2209.38 144.343 L2209.38 140.084 L2217.65 138.418 L2222.32 138.418 L2222.32 169.042 L2229.96 169.042 L2229.96 172.978 L2210.05 172.978 L2210.05 169.042 Z\" fill=\"#000000\" fill-rule=\"evenodd\" fill-opacity=\"1\" /></svg>\n"
      ]
     },
     "execution_count": 48,
     "metadata": {},
     "output_type": "execute_result"
    }
   ],
   "source": [
    "X = ones(100)\n",
    "forecast_AR1!(X, -1.01)\n",
    "plot(X)"
   ]
  },
  {
   "cell_type": "code",
   "execution_count": null,
   "metadata": {},
   "outputs": [],
   "source": []
  },
  {
   "cell_type": "code",
   "execution_count": null,
   "metadata": {},
   "outputs": [],
   "source": []
  },
  {
   "cell_type": "code",
   "execution_count": null,
   "metadata": {},
   "outputs": [],
   "source": []
  },
  {
   "cell_type": "code",
   "execution_count": null,
   "metadata": {},
   "outputs": [],
   "source": []
  },
  {
   "cell_type": "markdown",
   "metadata": {},
   "source": [
    "### Second-order linear difference equations\n",
    "$$\n",
    "x_t = a_1 x_{t-1} + a_2 x_{t-1} + b\n",
    "$$\n",
    "Similarly, we can subtract $b/(1 - a_1 - a_2)$ so that the series converges to 0."
   ]
  },
  {
   "cell_type": "code",
   "execution_count": 59,
   "metadata": {},
   "outputs": [
    {
     "data": {
      "text/plain": [
       "forecast_AR2! (generic function with 1 method)"
      ]
     },
     "execution_count": 59,
     "metadata": {},
     "output_type": "execute_result"
    }
   ],
   "source": [
    "function forecast_AR2!(x::Vector{Float64}, a1::Float64, a2::Float64)\n",
    "    T = length(x)\n",
    "    for t = 3:T\n",
    "        x[t] = a1 * x[t-1] + a2 * x[t-2]\n",
    "    end\n",
    "end"
   ]
  },
  {
   "cell_type": "code",
   "execution_count": 61,
   "metadata": {},
   "outputs": [
    {
     "data": {
      "text/plain": [
       "10-element Array{Float64,1}:\n",
       " 0.0\n",
       " 1.0\n",
       " 0.0\n",
       " 0.0\n",
       " 0.0\n",
       " 0.0\n",
       " 0.0\n",
       " 0.0\n",
       " 0.0\n",
       " 0.0"
      ]
     },
     "execution_count": 61,
     "metadata": {},
     "output_type": "execute_result"
    }
   ],
   "source": [
    "Z = zeros(10)\n",
    "Z[2] = 1.0\n",
    "Z"
   ]
  },
  {
   "cell_type": "code",
   "execution_count": null,
   "metadata": {},
   "outputs": [],
   "source": []
  },
  {
   "cell_type": "code",
   "execution_count": null,
   "metadata": {},
   "outputs": [],
   "source": []
  },
  {
   "cell_type": "code",
   "execution_count": null,
   "metadata": {},
   "outputs": [],
   "source": []
  },
  {
   "cell_type": "code",
   "execution_count": 62,
   "metadata": {},
   "outputs": [
    {
     "data": {
      "image/svg+xml": [
       "<?xml version=\"1.0\" encoding=\"utf-8\"?>\n",
       "<svg xmlns=\"http://www.w3.org/2000/svg\" xmlns:xlink=\"http://www.w3.org/1999/xlink\" width=\"600\" height=\"400\" viewBox=\"0 0 2400 1600\">\n",
       "<defs>\n",
       "  <clipPath id=\"clip340\">\n",
       "    <rect x=\"0\" y=\"0\" width=\"2400\" height=\"1600\"/>\n",
       "  </clipPath>\n",
       "</defs>\n",
       "<path clip-path=\"url(#clip340)\" d=\"\n",
       "M0 1600 L2400 1600 L2400 0 L0 0  Z\n",
       "  \" fill=\"#ffffff\" fill-rule=\"evenodd\" fill-opacity=\"1\"/>\n",
       "<defs>\n",
       "  <clipPath id=\"clip341\">\n",
       "    <rect x=\"480\" y=\"0\" width=\"1681\" height=\"1600\"/>\n",
       "  </clipPath>\n",
       "</defs>\n",
       "<path clip-path=\"url(#clip340)\" d=\"\n",
       "M174.862 1486.45 L2352.76 1486.45 L2352.76 47.2441 L174.862 47.2441  Z\n",
       "  \" fill=\"#ffffff\" fill-rule=\"evenodd\" fill-opacity=\"1\"/>\n",
       "<defs>\n",
       "  <clipPath id=\"clip342\">\n",
       "    <rect x=\"174\" y=\"47\" width=\"2179\" height=\"1440\"/>\n",
       "  </clipPath>\n",
       "</defs>\n",
       "<polyline clip-path=\"url(#clip342)\" style=\"stroke:#000000; stroke-width:2; stroke-opacity:0.1; fill:none\" points=\"\n",
       "  464.791,1486.45 464.791,47.2441 \n",
       "  \"/>\n",
       "<polyline clip-path=\"url(#clip342)\" style=\"stroke:#000000; stroke-width:2; stroke-opacity:0.1; fill:none\" points=\"\n",
       "  921.373,1486.45 921.373,47.2441 \n",
       "  \"/>\n",
       "<polyline clip-path=\"url(#clip342)\" style=\"stroke:#000000; stroke-width:2; stroke-opacity:0.1; fill:none\" points=\"\n",
       "  1377.95,1486.45 1377.95,47.2441 \n",
       "  \"/>\n",
       "<polyline clip-path=\"url(#clip342)\" style=\"stroke:#000000; stroke-width:2; stroke-opacity:0.1; fill:none\" points=\"\n",
       "  1834.54,1486.45 1834.54,47.2441 \n",
       "  \"/>\n",
       "<polyline clip-path=\"url(#clip342)\" style=\"stroke:#000000; stroke-width:2; stroke-opacity:0.1; fill:none\" points=\"\n",
       "  2291.12,1486.45 2291.12,47.2441 \n",
       "  \"/>\n",
       "<polyline clip-path=\"url(#clip340)\" style=\"stroke:#000000; stroke-width:4; stroke-opacity:1; fill:none\" points=\"\n",
       "  174.862,1486.45 2352.76,1486.45 \n",
       "  \"/>\n",
       "<polyline clip-path=\"url(#clip340)\" style=\"stroke:#000000; stroke-width:4; stroke-opacity:1; fill:none\" points=\"\n",
       "  464.791,1486.45 464.791,1469.18 \n",
       "  \"/>\n",
       "<polyline clip-path=\"url(#clip340)\" style=\"stroke:#000000; stroke-width:4; stroke-opacity:1; fill:none\" points=\"\n",
       "  921.373,1486.45 921.373,1469.18 \n",
       "  \"/>\n",
       "<polyline clip-path=\"url(#clip340)\" style=\"stroke:#000000; stroke-width:4; stroke-opacity:1; fill:none\" points=\"\n",
       "  1377.95,1486.45 1377.95,1469.18 \n",
       "  \"/>\n",
       "<polyline clip-path=\"url(#clip340)\" style=\"stroke:#000000; stroke-width:4; stroke-opacity:1; fill:none\" points=\"\n",
       "  1834.54,1486.45 1834.54,1469.18 \n",
       "  \"/>\n",
       "<polyline clip-path=\"url(#clip340)\" style=\"stroke:#000000; stroke-width:4; stroke-opacity:1; fill:none\" points=\"\n",
       "  2291.12,1486.45 2291.12,1469.18 \n",
       "  \"/>\n",
       "<path clip-path=\"url(#clip340)\" d=\"M 0 0 M459.444 1543.18 L475.763 1543.18 L475.763 1547.12 L453.819 1547.12 L453.819 1543.18 Q456.481 1540.43 461.064 1535.8 Q465.671 1531.15 466.851 1529.81 Q469.097 1527.28 469.976 1525.55 Q470.879 1523.79 470.879 1522.1 Q470.879 1519.34 468.935 1517.61 Q467.014 1515.87 463.912 1515.87 Q461.713 1515.87 459.259 1516.63 Q456.828 1517.4 454.051 1518.95 L454.051 1514.23 Q456.875 1513.09 459.328 1512.51 Q461.782 1511.93 463.819 1511.93 Q469.189 1511.93 472.384 1514.62 Q475.578 1517.31 475.578 1521.8 Q475.578 1523.93 474.768 1525.85 Q473.981 1527.74 471.875 1530.34 Q471.296 1531.01 468.194 1534.23 Q465.092 1537.42 459.444 1543.18 Z\" fill=\"#000000\" fill-rule=\"evenodd\" fill-opacity=\"1\" /><path clip-path=\"url(#clip340)\" d=\"M 0 0 M924.382 1516.63 L912.577 1535.08 L924.382 1535.08 L924.382 1516.63 M923.155 1512.56 L929.035 1512.56 L929.035 1535.08 L933.965 1535.08 L933.965 1538.97 L929.035 1538.97 L929.035 1547.12 L924.382 1547.12 L924.382 1538.97 L908.78 1538.97 L908.78 1534.46 L923.155 1512.56 Z\" fill=\"#000000\" fill-rule=\"evenodd\" fill-opacity=\"1\" /><path clip-path=\"url(#clip340)\" d=\"M 0 0 M1378.36 1527.98 Q1375.21 1527.98 1373.36 1530.13 Q1371.53 1532.28 1371.53 1536.03 Q1371.53 1539.76 1373.36 1541.93 Q1375.21 1544.09 1378.36 1544.09 Q1381.51 1544.09 1383.34 1541.93 Q1385.19 1539.76 1385.19 1536.03 Q1385.19 1532.28 1383.34 1530.13 Q1381.51 1527.98 1378.36 1527.98 M1387.64 1513.32 L1387.64 1517.58 Q1385.88 1516.75 1384.08 1516.31 Q1382.29 1515.87 1380.54 1515.87 Q1375.91 1515.87 1373.45 1519 Q1371.02 1522.12 1370.67 1528.44 Q1372.04 1526.43 1374.1 1525.36 Q1376.16 1524.27 1378.64 1524.27 Q1383.85 1524.27 1386.85 1527.44 Q1389.89 1530.59 1389.89 1536.03 Q1389.89 1541.36 1386.74 1544.57 Q1383.59 1547.79 1378.36 1547.79 Q1372.36 1547.79 1369.19 1543.21 Q1366.02 1538.6 1366.02 1529.87 Q1366.02 1521.68 1369.91 1516.82 Q1373.8 1511.93 1380.35 1511.93 Q1382.11 1511.93 1383.89 1512.28 Q1385.7 1512.63 1387.64 1513.32 Z\" fill=\"#000000\" fill-rule=\"evenodd\" fill-opacity=\"1\" /><path clip-path=\"url(#clip340)\" d=\"M 0 0 M1834.54 1530.71 Q1831.2 1530.71 1829.28 1532.49 Q1827.38 1534.27 1827.38 1537.4 Q1827.38 1540.52 1829.28 1542.31 Q1831.2 1544.09 1834.54 1544.09 Q1837.87 1544.09 1839.79 1542.31 Q1841.71 1540.5 1841.71 1537.4 Q1841.71 1534.27 1839.79 1532.49 Q1837.89 1530.71 1834.54 1530.71 M1829.86 1528.72 Q1826.85 1527.98 1825.16 1525.92 Q1823.49 1523.86 1823.49 1520.89 Q1823.49 1516.75 1826.43 1514.34 Q1829.4 1511.93 1834.54 1511.93 Q1839.7 1511.93 1842.64 1514.34 Q1845.58 1516.75 1845.58 1520.89 Q1845.58 1523.86 1843.89 1525.92 Q1842.22 1527.98 1839.23 1528.72 Q1842.61 1529.5 1844.49 1531.8 Q1846.39 1534.09 1846.39 1537.4 Q1846.39 1542.42 1843.31 1545.11 Q1840.25 1547.79 1834.54 1547.79 Q1828.82 1547.79 1825.74 1545.11 Q1822.68 1542.42 1822.68 1537.4 Q1822.68 1534.09 1824.58 1531.8 Q1826.48 1529.5 1829.86 1528.72 M1828.15 1521.33 Q1828.15 1524.02 1829.81 1525.52 Q1831.5 1527.03 1834.54 1527.03 Q1837.55 1527.03 1839.23 1525.52 Q1840.95 1524.02 1840.95 1521.33 Q1840.95 1518.65 1839.23 1517.14 Q1837.55 1515.64 1834.54 1515.64 Q1831.5 1515.64 1829.81 1517.14 Q1828.15 1518.65 1828.15 1521.33 Z\" fill=\"#000000\" fill-rule=\"evenodd\" fill-opacity=\"1\" /><path clip-path=\"url(#clip340)\" d=\"M 0 0 M2267.99 1543.18 L2275.63 1543.18 L2275.63 1516.82 L2267.32 1518.49 L2267.32 1514.23 L2275.59 1512.56 L2280.26 1512.56 L2280.26 1543.18 L2287.9 1543.18 L2287.9 1547.12 L2267.99 1547.12 L2267.99 1543.18 Z\" fill=\"#000000\" fill-rule=\"evenodd\" fill-opacity=\"1\" /><path clip-path=\"url(#clip340)\" d=\"M 0 0 M2302.97 1515.64 Q2299.36 1515.64 2297.53 1519.2 Q2295.72 1522.75 2295.72 1529.87 Q2295.72 1536.98 2297.53 1540.55 Q2299.36 1544.09 2302.97 1544.09 Q2306.6 1544.09 2308.41 1540.55 Q2310.24 1536.98 2310.24 1529.87 Q2310.24 1522.75 2308.41 1519.2 Q2306.6 1515.64 2302.97 1515.64 M2302.97 1511.93 Q2308.78 1511.93 2311.83 1516.54 Q2314.91 1521.12 2314.91 1529.87 Q2314.91 1538.6 2311.83 1543.21 Q2308.78 1547.79 2302.97 1547.79 Q2297.16 1547.79 2294.08 1543.21 Q2291.02 1538.6 2291.02 1529.87 Q2291.02 1521.12 2294.08 1516.54 Q2297.16 1511.93 2302.97 1511.93 Z\" fill=\"#000000\" fill-rule=\"evenodd\" fill-opacity=\"1\" /><polyline clip-path=\"url(#clip342)\" style=\"stroke:#000000; stroke-width:2; stroke-opacity:0.1; fill:none\" points=\"\n",
       "  174.862,1445.72 2352.76,1445.72 \n",
       "  \"/>\n",
       "<polyline clip-path=\"url(#clip342)\" style=\"stroke:#000000; stroke-width:2; stroke-opacity:0.1; fill:none\" points=\"\n",
       "  174.862,1106.28 2352.76,1106.28 \n",
       "  \"/>\n",
       "<polyline clip-path=\"url(#clip342)\" style=\"stroke:#000000; stroke-width:2; stroke-opacity:0.1; fill:none\" points=\"\n",
       "  174.862,766.846 2352.76,766.846 \n",
       "  \"/>\n",
       "<polyline clip-path=\"url(#clip342)\" style=\"stroke:#000000; stroke-width:2; stroke-opacity:0.1; fill:none\" points=\"\n",
       "  174.862,427.411 2352.76,427.411 \n",
       "  \"/>\n",
       "<polyline clip-path=\"url(#clip342)\" style=\"stroke:#000000; stroke-width:2; stroke-opacity:0.1; fill:none\" points=\"\n",
       "  174.862,87.9763 2352.76,87.9763 \n",
       "  \"/>\n",
       "<polyline clip-path=\"url(#clip340)\" style=\"stroke:#000000; stroke-width:4; stroke-opacity:1; fill:none\" points=\"\n",
       "  174.862,1486.45 174.862,47.2441 \n",
       "  \"/>\n",
       "<polyline clip-path=\"url(#clip340)\" style=\"stroke:#000000; stroke-width:4; stroke-opacity:1; fill:none\" points=\"\n",
       "  174.862,1445.72 200.997,1445.72 \n",
       "  \"/>\n",
       "<polyline clip-path=\"url(#clip340)\" style=\"stroke:#000000; stroke-width:4; stroke-opacity:1; fill:none\" points=\"\n",
       "  174.862,1106.28 200.997,1106.28 \n",
       "  \"/>\n",
       "<polyline clip-path=\"url(#clip340)\" style=\"stroke:#000000; stroke-width:4; stroke-opacity:1; fill:none\" points=\"\n",
       "  174.862,766.846 200.997,766.846 \n",
       "  \"/>\n",
       "<polyline clip-path=\"url(#clip340)\" style=\"stroke:#000000; stroke-width:4; stroke-opacity:1; fill:none\" points=\"\n",
       "  174.862,427.411 200.997,427.411 \n",
       "  \"/>\n",
       "<polyline clip-path=\"url(#clip340)\" style=\"stroke:#000000; stroke-width:4; stroke-opacity:1; fill:none\" points=\"\n",
       "  174.862,87.9763 200.997,87.9763 \n",
       "  \"/>\n",
       "<path clip-path=\"url(#clip340)\" d=\"M 0 0 M62.9365 1431.51 Q59.3254 1431.51 57.4967 1435.08 Q55.6912 1438.62 55.6912 1445.75 Q55.6912 1452.86 57.4967 1456.42 Q59.3254 1459.96 62.9365 1459.96 Q66.5707 1459.96 68.3763 1456.42 Q70.205 1452.86 70.205 1445.75 Q70.205 1438.62 68.3763 1435.08 Q66.5707 1431.51 62.9365 1431.51 M62.9365 1427.81 Q68.7467 1427.81 71.8022 1432.42 Q74.8809 1437 74.8809 1445.75 Q74.8809 1454.48 71.8022 1459.08 Q68.7467 1463.67 62.9365 1463.67 Q57.1264 1463.67 54.0477 1459.08 Q50.9921 1454.48 50.9921 1445.75 Q50.9921 1437 54.0477 1432.42 Q57.1264 1427.81 62.9365 1427.81 Z\" fill=\"#000000\" fill-rule=\"evenodd\" fill-opacity=\"1\" /><path clip-path=\"url(#clip340)\" d=\"M 0 0 M79.9503 1457.12 L84.8345 1457.12 L84.8345 1463 L79.9503 1463 L79.9503 1457.12 Z\" fill=\"#000000\" fill-rule=\"evenodd\" fill-opacity=\"1\" /><path clip-path=\"url(#clip340)\" d=\"M 0 0 M99.9039 1431.51 Q96.2928 1431.51 94.4641 1435.08 Q92.6586 1438.62 92.6586 1445.75 Q92.6586 1452.86 94.4641 1456.42 Q96.2928 1459.96 99.9039 1459.96 Q103.538 1459.96 105.344 1456.42 Q107.172 1452.86 107.172 1445.75 Q107.172 1438.62 105.344 1435.08 Q103.538 1431.51 99.9039 1431.51 M99.9039 1427.81 Q105.714 1427.81 108.77 1432.42 Q111.848 1437 111.848 1445.75 Q111.848 1454.48 108.77 1459.08 Q105.714 1463.67 99.9039 1463.67 Q94.0937 1463.67 91.0151 1459.08 Q87.9595 1454.48 87.9595 1445.75 Q87.9595 1437 91.0151 1432.42 Q94.0937 1427.81 99.9039 1427.81 Z\" fill=\"#000000\" fill-rule=\"evenodd\" fill-opacity=\"1\" /><path clip-path=\"url(#clip340)\" d=\"M 0 0 M126.918 1431.51 Q123.307 1431.51 121.478 1435.08 Q119.672 1438.62 119.672 1445.75 Q119.672 1452.86 121.478 1456.42 Q123.307 1459.96 126.918 1459.96 Q130.552 1459.96 132.357 1456.42 Q134.186 1452.86 134.186 1445.75 Q134.186 1438.62 132.357 1435.08 Q130.552 1431.51 126.918 1431.51 M126.918 1427.81 Q132.728 1427.81 135.783 1432.42 Q138.862 1437 138.862 1445.75 Q138.862 1454.48 135.783 1459.08 Q132.728 1463.67 126.918 1463.67 Q121.107 1463.67 118.029 1459.08 Q114.973 1454.48 114.973 1445.75 Q114.973 1437 118.029 1432.42 Q121.107 1427.81 126.918 1427.81 Z\" fill=\"#000000\" fill-rule=\"evenodd\" fill-opacity=\"1\" /><path clip-path=\"url(#clip340)\" d=\"M 0 0 M65.5291 1092.08 Q61.918 1092.08 60.0893 1095.64 Q58.2838 1099.19 58.2838 1106.32 Q58.2838 1113.42 60.0893 1116.99 Q61.918 1120.53 65.5291 1120.53 Q69.1633 1120.53 70.9689 1116.99 Q72.7976 1113.42 72.7976 1106.32 Q72.7976 1099.19 70.9689 1095.64 Q69.1633 1092.08 65.5291 1092.08 M65.5291 1088.38 Q71.3392 1088.38 74.3948 1092.98 Q77.4735 1097.57 77.4735 1106.32 Q77.4735 1115.04 74.3948 1119.65 Q71.3392 1124.23 65.5291 1124.23 Q59.7189 1124.23 56.6402 1119.65 Q53.5847 1115.04 53.5847 1106.32 Q53.5847 1097.57 56.6402 1092.98 Q59.7189 1088.38 65.5291 1088.38 Z\" fill=\"#000000\" fill-rule=\"evenodd\" fill-opacity=\"1\" /><path clip-path=\"url(#clip340)\" d=\"M 0 0 M82.5429 1117.68 L87.4271 1117.68 L87.4271 1123.56 L82.5429 1123.56 L82.5429 1117.68 Z\" fill=\"#000000\" fill-rule=\"evenodd\" fill-opacity=\"1\" /><path clip-path=\"url(#clip340)\" d=\"M 0 0 M96.5243 1119.63 L112.844 1119.63 L112.844 1123.56 L90.8993 1123.56 L90.8993 1119.63 Q93.5613 1116.87 98.1447 1112.24 Q102.751 1107.59 103.932 1106.25 Q106.177 1103.72 107.057 1101.99 Q107.959 1100.23 107.959 1098.54 Q107.959 1095.78 106.015 1094.05 Q104.094 1092.31 100.992 1092.31 Q98.7928 1092.31 96.3391 1093.07 Q93.9086 1093.84 91.1308 1095.39 L91.1308 1090.67 Q93.9549 1089.53 96.4085 1088.95 Q98.8622 1088.38 100.899 1088.38 Q106.27 1088.38 109.464 1091.06 Q112.658 1093.75 112.658 1098.24 Q112.658 1100.37 111.848 1102.29 Q111.061 1104.19 108.955 1106.78 Q108.376 1107.45 105.274 1110.67 Q102.172 1113.86 96.5243 1119.63 Z\" fill=\"#000000\" fill-rule=\"evenodd\" fill-opacity=\"1\" /><path clip-path=\"url(#clip340)\" d=\"M 0 0 M117.959 1089 L136.316 1089 L136.316 1092.94 L122.242 1092.94 L122.242 1101.41 Q123.26 1101.06 124.279 1100.9 Q125.297 1100.71 126.316 1100.71 Q132.103 1100.71 135.482 1103.89 Q138.862 1107.06 138.862 1112.47 Q138.862 1118.05 135.39 1121.15 Q131.918 1124.23 125.598 1124.23 Q123.422 1124.23 121.154 1123.86 Q118.908 1123.49 116.501 1122.75 L116.501 1118.05 Q118.584 1119.19 120.807 1119.74 Q123.029 1120.3 125.506 1120.3 Q129.51 1120.3 131.848 1118.19 Q134.186 1116.08 134.186 1112.47 Q134.186 1108.86 131.848 1106.76 Q129.51 1104.65 125.506 1104.65 Q123.631 1104.65 121.756 1105.07 Q119.904 1105.48 117.959 1106.36 L117.959 1089 Z\" fill=\"#000000\" fill-rule=\"evenodd\" fill-opacity=\"1\" /><path clip-path=\"url(#clip340)\" d=\"M 0 0 M63.9319 752.645 Q60.3208 752.645 58.4921 756.209 Q56.6865 759.751 56.6865 766.881 Q56.6865 773.987 58.4921 777.552 Q60.3208 781.094 63.9319 781.094 Q67.5661 781.094 69.3717 777.552 Q71.2004 773.987 71.2004 766.881 Q71.2004 759.751 69.3717 756.209 Q67.5661 752.645 63.9319 752.645 M63.9319 748.941 Q69.742 748.941 72.7976 753.547 Q75.8763 758.131 75.8763 766.881 Q75.8763 775.608 72.7976 780.214 Q69.742 784.797 63.9319 784.797 Q58.1217 784.797 55.043 780.214 Q51.9875 775.608 51.9875 766.881 Q51.9875 758.131 55.043 753.547 Q58.1217 748.941 63.9319 748.941 Z\" fill=\"#000000\" fill-rule=\"evenodd\" fill-opacity=\"1\" /><path clip-path=\"url(#clip340)\" d=\"M 0 0 M80.9457 778.246 L85.8299 778.246 L85.8299 784.126 L80.9457 784.126 L80.9457 778.246 Z\" fill=\"#000000\" fill-rule=\"evenodd\" fill-opacity=\"1\" /><path clip-path=\"url(#clip340)\" d=\"M 0 0 M90.9456 749.566 L109.302 749.566 L109.302 753.501 L95.228 753.501 L95.228 761.973 Q96.2465 761.626 97.265 761.464 Q98.2835 761.279 99.3021 761.279 Q105.089 761.279 108.469 764.45 Q111.848 767.621 111.848 773.038 Q111.848 778.617 108.376 781.719 Q104.904 784.797 98.5845 784.797 Q96.4085 784.797 94.14 784.427 Q91.8947 784.057 89.4873 783.316 L89.4873 778.617 Q91.5706 779.751 93.7928 780.307 Q96.015 780.862 98.4919 780.862 Q102.496 780.862 104.834 778.756 Q107.172 776.649 107.172 773.038 Q107.172 769.427 104.834 767.321 Q102.496 765.214 98.4919 765.214 Q96.6169 765.214 94.7419 765.631 Q92.89 766.047 90.9456 766.927 L90.9456 749.566 Z\" fill=\"#000000\" fill-rule=\"evenodd\" fill-opacity=\"1\" /><path clip-path=\"url(#clip340)\" d=\"M 0 0 M126.918 752.645 Q123.307 752.645 121.478 756.209 Q119.672 759.751 119.672 766.881 Q119.672 773.987 121.478 777.552 Q123.307 781.094 126.918 781.094 Q130.552 781.094 132.357 777.552 Q134.186 773.987 134.186 766.881 Q134.186 759.751 132.357 756.209 Q130.552 752.645 126.918 752.645 M126.918 748.941 Q132.728 748.941 135.783 753.547 Q138.862 758.131 138.862 766.881 Q138.862 775.608 135.783 780.214 Q132.728 784.797 126.918 784.797 Q121.107 784.797 118.029 780.214 Q114.973 775.608 114.973 766.881 Q114.973 758.131 118.029 753.547 Q121.107 748.941 126.918 748.941 Z\" fill=\"#000000\" fill-rule=\"evenodd\" fill-opacity=\"1\" /><path clip-path=\"url(#clip340)\" d=\"M 0 0 M64.8346 413.21 Q61.2236 413.21 59.3949 416.775 Q57.5893 420.316 57.5893 427.446 Q57.5893 434.552 59.3949 438.117 Q61.2236 441.659 64.8346 441.659 Q68.4689 441.659 70.2744 438.117 Q72.1031 434.552 72.1031 427.446 Q72.1031 420.316 70.2744 416.775 Q68.4689 413.21 64.8346 413.21 M64.8346 409.506 Q70.6448 409.506 73.7003 414.113 Q76.779 418.696 76.779 427.446 Q76.779 436.173 73.7003 440.779 Q70.6448 445.362 64.8346 445.362 Q59.0245 445.362 55.9458 440.779 Q52.8903 436.173 52.8903 427.446 Q52.8903 418.696 55.9458 414.113 Q59.0245 409.506 64.8346 409.506 Z\" fill=\"#000000\" fill-rule=\"evenodd\" fill-opacity=\"1\" /><path clip-path=\"url(#clip340)\" d=\"M 0 0 M81.8484 438.812 L86.7327 438.812 L86.7327 444.691 L81.8484 444.691 L81.8484 438.812 Z\" fill=\"#000000\" fill-rule=\"evenodd\" fill-opacity=\"1\" /><path clip-path=\"url(#clip340)\" d=\"M 0 0 M90.6215 410.131 L112.844 410.131 L112.844 412.122 L100.297 444.691 L95.4132 444.691 L107.219 414.066 L90.6215 414.066 L90.6215 410.131 Z\" fill=\"#000000\" fill-rule=\"evenodd\" fill-opacity=\"1\" /><path clip-path=\"url(#clip340)\" d=\"M 0 0 M117.959 410.131 L136.316 410.131 L136.316 414.066 L122.242 414.066 L122.242 422.538 Q123.26 422.191 124.279 422.029 Q125.297 421.844 126.316 421.844 Q132.103 421.844 135.482 425.015 Q138.862 428.187 138.862 433.603 Q138.862 439.182 135.39 442.284 Q131.918 445.362 125.598 445.362 Q123.422 445.362 121.154 444.992 Q118.908 444.622 116.501 443.881 L116.501 439.182 Q118.584 440.316 120.807 440.872 Q123.029 441.427 125.506 441.427 Q129.51 441.427 131.848 439.321 Q134.186 437.214 134.186 433.603 Q134.186 429.992 131.848 427.886 Q129.51 425.779 125.506 425.779 Q123.631 425.779 121.756 426.196 Q119.904 426.613 117.959 427.492 L117.959 410.131 Z\" fill=\"#000000\" fill-rule=\"evenodd\" fill-opacity=\"1\" /><path clip-path=\"url(#clip340)\" d=\"M 0 0 M54.9736 101.321 L62.6124 101.321 L62.6124 74.9555 L54.3023 76.6222 L54.3023 72.3629 L62.5661 70.6963 L67.242 70.6963 L67.242 101.321 L74.8809 101.321 L74.8809 105.256 L54.9736 105.256 L54.9736 101.321 Z\" fill=\"#000000\" fill-rule=\"evenodd\" fill-opacity=\"1\" /><path clip-path=\"url(#clip340)\" d=\"M 0 0 M79.9503 99.3767 L84.8345 99.3767 L84.8345 105.256 L79.9503 105.256 L79.9503 99.3767 Z\" fill=\"#000000\" fill-rule=\"evenodd\" fill-opacity=\"1\" /><path clip-path=\"url(#clip340)\" d=\"M 0 0 M99.9039 73.775 Q96.2928 73.775 94.4641 77.3398 Q92.6586 80.8814 92.6586 88.011 Q92.6586 95.1174 94.4641 98.6822 Q96.2928 102.224 99.9039 102.224 Q103.538 102.224 105.344 98.6822 Q107.172 95.1174 107.172 88.011 Q107.172 80.8814 105.344 77.3398 Q103.538 73.775 99.9039 73.775 M99.9039 70.0713 Q105.714 70.0713 108.77 74.6777 Q111.848 79.261 111.848 88.011 Q111.848 96.7378 108.77 101.344 Q105.714 105.928 99.9039 105.928 Q94.0937 105.928 91.0151 101.344 Q87.9595 96.7378 87.9595 88.011 Q87.9595 79.261 91.0151 74.6777 Q94.0937 70.0713 99.9039 70.0713 Z\" fill=\"#000000\" fill-rule=\"evenodd\" fill-opacity=\"1\" /><path clip-path=\"url(#clip340)\" d=\"M 0 0 M126.918 73.775 Q123.307 73.775 121.478 77.3398 Q119.672 80.8814 119.672 88.011 Q119.672 95.1174 121.478 98.6822 Q123.307 102.224 126.918 102.224 Q130.552 102.224 132.357 98.6822 Q134.186 95.1174 134.186 88.011 Q134.186 80.8814 132.357 77.3398 Q130.552 73.775 126.918 73.775 M126.918 70.0713 Q132.728 70.0713 135.783 74.6777 Q138.862 79.261 138.862 88.011 Q138.862 96.7378 135.783 101.344 Q132.728 105.928 126.918 105.928 Q121.107 105.928 118.029 101.344 Q114.973 96.7378 114.973 88.011 Q114.973 79.261 118.029 74.6777 Q121.107 70.0713 126.918 70.0713 Z\" fill=\"#000000\" fill-rule=\"evenodd\" fill-opacity=\"1\" /><polyline clip-path=\"url(#clip342)\" style=\"stroke:#009af9; stroke-width:4; stroke-opacity:1; fill:none\" points=\"\n",
       "  236.501,1445.72 464.791,87.9763 693.082,495.298 921.373,780.423 1149.66,980.011 1377.95,1119.72 1606.25,1217.52 1834.54,1285.98 2062.83,1333.9 2291.12,1367.44 \n",
       "  \n",
       "  \"/>\n",
       "<path clip-path=\"url(#clip340)\" d=\"\n",
       "M1987.15 216.178 L2280.16 216.178 L2280.16 95.2176 L1987.15 95.2176  Z\n",
       "  \" fill=\"#ffffff\" fill-rule=\"evenodd\" fill-opacity=\"1\"/>\n",
       "<polyline clip-path=\"url(#clip340)\" style=\"stroke:#000000; stroke-width:4; stroke-opacity:1; fill:none\" points=\"\n",
       "  1987.15,216.178 2280.16,216.178 2280.16,95.2176 1987.15,95.2176 1987.15,216.178 \n",
       "  \"/>\n",
       "<polyline clip-path=\"url(#clip340)\" style=\"stroke:#009af9; stroke-width:4; stroke-opacity:1; fill:none\" points=\"\n",
       "  2011.35,155.698 2156.54,155.698 \n",
       "  \"/>\n",
       "<path clip-path=\"url(#clip340)\" d=\"M 0 0 M2194.59 175.385 Q2192.78 180.015 2191.07 181.427 Q2189.35 182.839 2186.48 182.839 L2183.08 182.839 L2183.08 179.274 L2185.58 179.274 Q2187.34 179.274 2188.31 178.44 Q2189.29 177.607 2190.47 174.505 L2191.23 172.561 L2180.74 147.052 L2185.26 147.052 L2193.36 167.329 L2201.46 147.052 L2205.97 147.052 L2194.59 175.385 Z\" fill=\"#000000\" fill-rule=\"evenodd\" fill-opacity=\"1\" /><path clip-path=\"url(#clip340)\" d=\"M 0 0 M2211.85 169.042 L2219.49 169.042 L2219.49 142.677 L2211.18 144.343 L2211.18 140.084 L2219.45 138.418 L2224.12 138.418 L2224.12 169.042 L2231.76 169.042 L2231.76 172.978 L2211.85 172.978 L2211.85 169.042 Z\" fill=\"#000000\" fill-rule=\"evenodd\" fill-opacity=\"1\" /></svg>\n"
      ]
     },
     "execution_count": 62,
     "metadata": {},
     "output_type": "execute_result"
    }
   ],
   "source": [
    "forecast_AR2!(Z, 0.7, 0.0)\n",
    "plot(Z)"
   ]
  },
  {
   "cell_type": "code",
   "execution_count": 64,
   "metadata": {},
   "outputs": [
    {
     "data": {
      "image/svg+xml": [
       "<?xml version=\"1.0\" encoding=\"utf-8\"?>\n",
       "<svg xmlns=\"http://www.w3.org/2000/svg\" xmlns:xlink=\"http://www.w3.org/1999/xlink\" width=\"600\" height=\"400\" viewBox=\"0 0 2400 1600\">\n",
       "<defs>\n",
       "  <clipPath id=\"clip420\">\n",
       "    <rect x=\"0\" y=\"0\" width=\"2400\" height=\"1600\"/>\n",
       "  </clipPath>\n",
       "</defs>\n",
       "<path clip-path=\"url(#clip420)\" d=\"\n",
       "M0 1600 L2400 1600 L2400 0 L0 0  Z\n",
       "  \" fill=\"#ffffff\" fill-rule=\"evenodd\" fill-opacity=\"1\"/>\n",
       "<defs>\n",
       "  <clipPath id=\"clip421\">\n",
       "    <rect x=\"480\" y=\"0\" width=\"1681\" height=\"1600\"/>\n",
       "  </clipPath>\n",
       "</defs>\n",
       "<path clip-path=\"url(#clip420)\" d=\"\n",
       "M179.654 1486.45 L2352.76 1486.45 L2352.76 47.2441 L179.654 47.2441  Z\n",
       "  \" fill=\"#ffffff\" fill-rule=\"evenodd\" fill-opacity=\"1\"/>\n",
       "<defs>\n",
       "  <clipPath id=\"clip422\">\n",
       "    <rect x=\"179\" y=\"47\" width=\"2174\" height=\"1440\"/>\n",
       "  </clipPath>\n",
       "</defs>\n",
       "<polyline clip-path=\"url(#clip422)\" style=\"stroke:#000000; stroke-width:2; stroke-opacity:0.1; fill:none\" points=\"\n",
       "  468.945,1486.45 468.945,47.2441 \n",
       "  \"/>\n",
       "<polyline clip-path=\"url(#clip422)\" style=\"stroke:#000000; stroke-width:2; stroke-opacity:0.1; fill:none\" points=\"\n",
       "  924.522,1486.45 924.522,47.2441 \n",
       "  \"/>\n",
       "<polyline clip-path=\"url(#clip422)\" style=\"stroke:#000000; stroke-width:2; stroke-opacity:0.1; fill:none\" points=\"\n",
       "  1380.1,1486.45 1380.1,47.2441 \n",
       "  \"/>\n",
       "<polyline clip-path=\"url(#clip422)\" style=\"stroke:#000000; stroke-width:2; stroke-opacity:0.1; fill:none\" points=\"\n",
       "  1835.68,1486.45 1835.68,47.2441 \n",
       "  \"/>\n",
       "<polyline clip-path=\"url(#clip422)\" style=\"stroke:#000000; stroke-width:2; stroke-opacity:0.1; fill:none\" points=\"\n",
       "  2291.25,1486.45 2291.25,47.2441 \n",
       "  \"/>\n",
       "<polyline clip-path=\"url(#clip420)\" style=\"stroke:#000000; stroke-width:4; stroke-opacity:1; fill:none\" points=\"\n",
       "  179.654,1486.45 2352.76,1486.45 \n",
       "  \"/>\n",
       "<polyline clip-path=\"url(#clip420)\" style=\"stroke:#000000; stroke-width:4; stroke-opacity:1; fill:none\" points=\"\n",
       "  468.945,1486.45 468.945,1469.18 \n",
       "  \"/>\n",
       "<polyline clip-path=\"url(#clip420)\" style=\"stroke:#000000; stroke-width:4; stroke-opacity:1; fill:none\" points=\"\n",
       "  924.522,1486.45 924.522,1469.18 \n",
       "  \"/>\n",
       "<polyline clip-path=\"url(#clip420)\" style=\"stroke:#000000; stroke-width:4; stroke-opacity:1; fill:none\" points=\"\n",
       "  1380.1,1486.45 1380.1,1469.18 \n",
       "  \"/>\n",
       "<polyline clip-path=\"url(#clip420)\" style=\"stroke:#000000; stroke-width:4; stroke-opacity:1; fill:none\" points=\"\n",
       "  1835.68,1486.45 1835.68,1469.18 \n",
       "  \"/>\n",
       "<polyline clip-path=\"url(#clip420)\" style=\"stroke:#000000; stroke-width:4; stroke-opacity:1; fill:none\" points=\"\n",
       "  2291.25,1486.45 2291.25,1469.18 \n",
       "  \"/>\n",
       "<path clip-path=\"url(#clip420)\" d=\"M 0 0 M463.598 1543.18 L479.917 1543.18 L479.917 1547.12 L457.973 1547.12 L457.973 1543.18 Q460.635 1540.43 465.218 1535.8 Q469.825 1531.15 471.005 1529.81 Q473.251 1527.28 474.13 1525.55 Q475.033 1523.79 475.033 1522.1 Q475.033 1519.34 473.089 1517.61 Q471.167 1515.87 468.065 1515.87 Q465.866 1515.87 463.413 1516.63 Q460.982 1517.4 458.204 1518.95 L458.204 1514.23 Q461.028 1513.09 463.482 1512.51 Q465.936 1511.93 467.973 1511.93 Q473.343 1511.93 476.538 1514.62 Q479.732 1517.31 479.732 1521.8 Q479.732 1523.93 478.922 1525.85 Q478.135 1527.74 476.028 1530.34 Q475.45 1531.01 472.348 1534.23 Q469.246 1537.42 463.598 1543.18 Z\" fill=\"#000000\" fill-rule=\"evenodd\" fill-opacity=\"1\" /><path clip-path=\"url(#clip420)\" d=\"M 0 0 M927.531 1516.63 L915.726 1535.08 L927.531 1535.08 L927.531 1516.63 M926.304 1512.56 L932.184 1512.56 L932.184 1535.08 L937.115 1535.08 L937.115 1538.97 L932.184 1538.97 L932.184 1547.12 L927.531 1547.12 L927.531 1538.97 L911.93 1538.97 L911.93 1534.46 L926.304 1512.56 Z\" fill=\"#000000\" fill-rule=\"evenodd\" fill-opacity=\"1\" /><path clip-path=\"url(#clip420)\" d=\"M 0 0 M1380.5 1527.98 Q1377.36 1527.98 1375.5 1530.13 Q1373.68 1532.28 1373.68 1536.03 Q1373.68 1539.76 1375.5 1541.93 Q1377.36 1544.09 1380.5 1544.09 Q1383.65 1544.09 1385.48 1541.93 Q1387.33 1539.76 1387.33 1536.03 Q1387.33 1532.28 1385.48 1530.13 Q1383.65 1527.98 1380.5 1527.98 M1389.79 1513.32 L1389.79 1517.58 Q1388.03 1516.75 1386.22 1516.31 Q1384.44 1515.87 1382.68 1515.87 Q1378.05 1515.87 1375.6 1519 Q1373.17 1522.12 1372.82 1528.44 Q1374.18 1526.43 1376.24 1525.36 Q1378.31 1524.27 1380.78 1524.27 Q1385.99 1524.27 1389 1527.44 Q1392.03 1530.59 1392.03 1536.03 Q1392.03 1541.36 1388.88 1544.57 Q1385.74 1547.79 1380.5 1547.79 Q1374.51 1547.79 1371.34 1543.21 Q1368.17 1538.6 1368.17 1529.87 Q1368.17 1521.68 1372.06 1516.82 Q1375.94 1511.93 1382.49 1511.93 Q1384.25 1511.93 1386.04 1512.28 Q1387.84 1512.63 1389.79 1513.32 Z\" fill=\"#000000\" fill-rule=\"evenodd\" fill-opacity=\"1\" /><path clip-path=\"url(#clip420)\" d=\"M 0 0 M1835.68 1530.71 Q1832.34 1530.71 1830.42 1532.49 Q1828.52 1534.27 1828.52 1537.4 Q1828.52 1540.52 1830.42 1542.31 Q1832.34 1544.09 1835.68 1544.09 Q1839.01 1544.09 1840.93 1542.31 Q1842.85 1540.5 1842.85 1537.4 Q1842.85 1534.27 1840.93 1532.49 Q1839.03 1530.71 1835.68 1530.71 M1831 1528.72 Q1827.99 1527.98 1826.3 1525.92 Q1824.63 1523.86 1824.63 1520.89 Q1824.63 1516.75 1827.57 1514.34 Q1830.54 1511.93 1835.68 1511.93 Q1840.84 1511.93 1843.78 1514.34 Q1846.72 1516.75 1846.72 1520.89 Q1846.72 1523.86 1845.03 1525.92 Q1843.36 1527.98 1840.38 1528.72 Q1843.75 1529.5 1845.63 1531.8 Q1847.53 1534.09 1847.53 1537.4 Q1847.53 1542.42 1844.45 1545.11 Q1841.39 1547.79 1835.68 1547.79 Q1829.96 1547.79 1826.88 1545.11 Q1823.82 1542.42 1823.82 1537.4 Q1823.82 1534.09 1825.72 1531.8 Q1827.62 1529.5 1831 1528.72 M1829.29 1521.33 Q1829.29 1524.02 1830.95 1525.52 Q1832.64 1527.03 1835.68 1527.03 Q1838.69 1527.03 1840.38 1525.52 Q1842.09 1524.02 1842.09 1521.33 Q1842.09 1518.65 1840.38 1517.14 Q1838.69 1515.64 1835.68 1515.64 Q1832.64 1515.64 1830.95 1517.14 Q1829.29 1518.65 1829.29 1521.33 Z\" fill=\"#000000\" fill-rule=\"evenodd\" fill-opacity=\"1\" /><path clip-path=\"url(#clip420)\" d=\"M 0 0 M2268.13 1543.18 L2275.77 1543.18 L2275.77 1516.82 L2267.46 1518.49 L2267.46 1514.23 L2275.72 1512.56 L2280.4 1512.56 L2280.4 1543.18 L2288.04 1543.18 L2288.04 1547.12 L2268.13 1547.12 L2268.13 1543.18 Z\" fill=\"#000000\" fill-rule=\"evenodd\" fill-opacity=\"1\" /><path clip-path=\"url(#clip420)\" d=\"M 0 0 M2303.1 1515.64 Q2299.49 1515.64 2297.67 1519.2 Q2295.86 1522.75 2295.86 1529.87 Q2295.86 1536.98 2297.67 1540.55 Q2299.49 1544.09 2303.1 1544.09 Q2306.74 1544.09 2308.54 1540.55 Q2310.37 1536.98 2310.37 1529.87 Q2310.37 1522.75 2308.54 1519.2 Q2306.74 1515.64 2303.1 1515.64 M2303.1 1511.93 Q2308.91 1511.93 2311.97 1516.54 Q2315.05 1521.12 2315.05 1529.87 Q2315.05 1538.6 2311.97 1543.21 Q2308.91 1547.79 2303.1 1547.79 Q2297.29 1547.79 2294.22 1543.21 Q2291.16 1538.6 2291.16 1529.87 Q2291.16 1521.12 2294.22 1516.54 Q2297.29 1511.93 2303.1 1511.93 Z\" fill=\"#000000\" fill-rule=\"evenodd\" fill-opacity=\"1\" /><polyline clip-path=\"url(#clip422)\" style=\"stroke:#000000; stroke-width:2; stroke-opacity:0.1; fill:none\" points=\"\n",
       "  179.654,1332.09 2352.76,1332.09 \n",
       "  \"/>\n",
       "<polyline clip-path=\"url(#clip422)\" style=\"stroke:#000000; stroke-width:2; stroke-opacity:0.1; fill:none\" points=\"\n",
       "  179.654,917.383 2352.76,917.383 \n",
       "  \"/>\n",
       "<polyline clip-path=\"url(#clip422)\" style=\"stroke:#000000; stroke-width:2; stroke-opacity:0.1; fill:none\" points=\"\n",
       "  179.654,502.68 2352.76,502.68 \n",
       "  \"/>\n",
       "<polyline clip-path=\"url(#clip422)\" style=\"stroke:#000000; stroke-width:2; stroke-opacity:0.1; fill:none\" points=\"\n",
       "  179.654,87.9763 2352.76,87.9763 \n",
       "  \"/>\n",
       "<polyline clip-path=\"url(#clip420)\" style=\"stroke:#000000; stroke-width:4; stroke-opacity:1; fill:none\" points=\"\n",
       "  179.654,1486.45 179.654,47.2441 \n",
       "  \"/>\n",
       "<polyline clip-path=\"url(#clip420)\" style=\"stroke:#000000; stroke-width:4; stroke-opacity:1; fill:none\" points=\"\n",
       "  179.654,1332.09 205.731,1332.09 \n",
       "  \"/>\n",
       "<polyline clip-path=\"url(#clip420)\" style=\"stroke:#000000; stroke-width:4; stroke-opacity:1; fill:none\" points=\"\n",
       "  179.654,917.383 205.731,917.383 \n",
       "  \"/>\n",
       "<polyline clip-path=\"url(#clip420)\" style=\"stroke:#000000; stroke-width:4; stroke-opacity:1; fill:none\" points=\"\n",
       "  179.654,502.68 205.731,502.68 \n",
       "  \"/>\n",
       "<polyline clip-path=\"url(#clip420)\" style=\"stroke:#000000; stroke-width:4; stroke-opacity:1; fill:none\" points=\"\n",
       "  179.654,87.9763 205.731,87.9763 \n",
       "  \"/>\n",
       "<path clip-path=\"url(#clip420)\" d=\"M 0 0 M50.9921 1332.54 L80.6679 1332.54 L80.6679 1336.47 L50.9921 1336.47 L50.9921 1332.54 Z\" fill=\"#000000\" fill-rule=\"evenodd\" fill-opacity=\"1\" /><path clip-path=\"url(#clip420)\" d=\"M 0 0 M95.7373 1317.89 Q92.1262 1317.89 90.2975 1321.45 Q88.4919 1324.99 88.4919 1332.12 Q88.4919 1339.23 90.2975 1342.79 Q92.1262 1346.33 95.7373 1346.33 Q99.3715 1346.33 101.177 1342.79 Q103.006 1339.23 103.006 1332.12 Q103.006 1324.99 101.177 1321.45 Q99.3715 1317.89 95.7373 1317.89 M95.7373 1314.18 Q101.547 1314.18 104.603 1318.79 Q107.682 1323.37 107.682 1332.12 Q107.682 1340.85 104.603 1345.45 Q101.547 1350.04 95.7373 1350.04 Q89.9271 1350.04 86.8484 1345.45 Q83.7929 1340.85 83.7929 1332.12 Q83.7929 1323.37 86.8484 1318.79 Q89.9271 1314.18 95.7373 1314.18 Z\" fill=\"#000000\" fill-rule=\"evenodd\" fill-opacity=\"1\" /><path clip-path=\"url(#clip420)\" d=\"M 0 0 M112.751 1343.49 L117.635 1343.49 L117.635 1349.37 L112.751 1349.37 L112.751 1343.49 Z\" fill=\"#000000\" fill-rule=\"evenodd\" fill-opacity=\"1\" /><path clip-path=\"url(#clip420)\" d=\"M 0 0 M122.751 1314.81 L141.107 1314.81 L141.107 1318.74 L127.033 1318.74 L127.033 1327.21 Q128.052 1326.87 129.07 1326.71 Q130.089 1326.52 131.107 1326.52 Q136.894 1326.52 140.274 1329.69 Q143.654 1332.86 143.654 1338.28 Q143.654 1343.86 140.181 1346.96 Q136.709 1350.04 130.39 1350.04 Q128.214 1350.04 125.945 1349.67 Q123.7 1349.3 121.293 1348.56 L121.293 1343.86 Q123.376 1344.99 125.598 1345.55 Q127.82 1346.1 130.297 1346.1 Q134.302 1346.1 136.64 1344 Q138.978 1341.89 138.978 1338.28 Q138.978 1334.67 136.64 1332.56 Q134.302 1330.45 130.297 1330.45 Q128.422 1330.45 126.547 1330.87 Q124.695 1331.29 122.751 1332.17 L122.751 1314.81 Z\" fill=\"#000000\" fill-rule=\"evenodd\" fill-opacity=\"1\" /><path clip-path=\"url(#clip420)\" d=\"M 0 0 M94.7419 903.182 Q91.1308 903.182 89.3021 906.747 Q87.4966 910.289 87.4966 917.418 Q87.4966 924.525 89.3021 928.089 Q91.1308 931.631 94.7419 931.631 Q98.3761 931.631 100.182 928.089 Q102.01 924.525 102.01 917.418 Q102.01 910.289 100.182 906.747 Q98.3761 903.182 94.7419 903.182 M94.7419 899.478 Q100.552 899.478 103.608 904.085 Q106.686 908.668 106.686 917.418 Q106.686 926.145 103.608 930.751 Q100.552 935.335 94.7419 935.335 Q88.9317 935.335 85.8531 930.751 Q82.7975 926.145 82.7975 917.418 Q82.7975 908.668 85.8531 904.085 Q88.9317 899.478 94.7419 899.478 Z\" fill=\"#000000\" fill-rule=\"evenodd\" fill-opacity=\"1\" /><path clip-path=\"url(#clip420)\" d=\"M 0 0 M111.756 928.784 L116.64 928.784 L116.64 934.663 L111.756 934.663 L111.756 928.784 Z\" fill=\"#000000\" fill-rule=\"evenodd\" fill-opacity=\"1\" /><path clip-path=\"url(#clip420)\" d=\"M 0 0 M131.709 903.182 Q128.098 903.182 126.27 906.747 Q124.464 910.289 124.464 917.418 Q124.464 924.525 126.27 928.089 Q128.098 931.631 131.709 931.631 Q135.344 931.631 137.149 928.089 Q138.978 924.525 138.978 917.418 Q138.978 910.289 137.149 906.747 Q135.344 903.182 131.709 903.182 M131.709 899.478 Q137.519 899.478 140.575 904.085 Q143.654 908.668 143.654 917.418 Q143.654 926.145 140.575 930.751 Q137.519 935.335 131.709 935.335 Q125.899 935.335 122.82 930.751 Q119.765 926.145 119.765 917.418 Q119.765 908.668 122.82 904.085 Q125.899 899.478 131.709 899.478 Z\" fill=\"#000000\" fill-rule=\"evenodd\" fill-opacity=\"1\" /><path clip-path=\"url(#clip420)\" d=\"M 0 0 M95.7373 488.479 Q92.1262 488.479 90.2975 492.043 Q88.4919 495.585 88.4919 502.715 Q88.4919 509.821 90.2975 513.386 Q92.1262 516.927 95.7373 516.927 Q99.3715 516.927 101.177 513.386 Q103.006 509.821 103.006 502.715 Q103.006 495.585 101.177 492.043 Q99.3715 488.479 95.7373 488.479 M95.7373 484.775 Q101.547 484.775 104.603 489.381 Q107.682 493.965 107.682 502.715 Q107.682 511.441 104.603 516.048 Q101.547 520.631 95.7373 520.631 Q89.9271 520.631 86.8484 516.048 Q83.7929 511.441 83.7929 502.715 Q83.7929 493.965 86.8484 489.381 Q89.9271 484.775 95.7373 484.775 Z\" fill=\"#000000\" fill-rule=\"evenodd\" fill-opacity=\"1\" /><path clip-path=\"url(#clip420)\" d=\"M 0 0 M112.751 514.08 L117.635 514.08 L117.635 519.96 L112.751 519.96 L112.751 514.08 Z\" fill=\"#000000\" fill-rule=\"evenodd\" fill-opacity=\"1\" /><path clip-path=\"url(#clip420)\" d=\"M 0 0 M122.751 485.4 L141.107 485.4 L141.107 489.335 L127.033 489.335 L127.033 497.807 Q128.052 497.46 129.07 497.298 Q130.089 497.113 131.107 497.113 Q136.894 497.113 140.274 500.284 Q143.654 503.455 143.654 508.872 Q143.654 514.451 140.181 517.552 Q136.709 520.631 130.39 520.631 Q128.214 520.631 125.945 520.261 Q123.7 519.89 121.293 519.15 L121.293 514.451 Q123.376 515.585 125.598 516.14 Q127.82 516.696 130.297 516.696 Q134.302 516.696 136.64 514.589 Q138.978 512.483 138.978 508.872 Q138.978 505.261 136.64 503.154 Q134.302 501.048 130.297 501.048 Q128.422 501.048 126.547 501.465 Q124.695 501.881 122.751 502.761 L122.751 485.4 Z\" fill=\"#000000\" fill-rule=\"evenodd\" fill-opacity=\"1\" /><path clip-path=\"url(#clip420)\" d=\"M 0 0 M86.779 101.321 L94.4178 101.321 L94.4178 74.9555 L86.1077 76.6222 L86.1077 72.3629 L94.3715 70.6963 L99.0474 70.6963 L99.0474 101.321 L106.686 101.321 L106.686 105.256 L86.779 105.256 L86.779 101.321 Z\" fill=\"#000000\" fill-rule=\"evenodd\" fill-opacity=\"1\" /><path clip-path=\"url(#clip420)\" d=\"M 0 0 M111.756 99.3767 L116.64 99.3767 L116.64 105.256 L111.756 105.256 L111.756 99.3767 Z\" fill=\"#000000\" fill-rule=\"evenodd\" fill-opacity=\"1\" /><path clip-path=\"url(#clip420)\" d=\"M 0 0 M131.709 73.775 Q128.098 73.775 126.27 77.3398 Q124.464 80.8814 124.464 88.011 Q124.464 95.1174 126.27 98.6822 Q128.098 102.224 131.709 102.224 Q135.344 102.224 137.149 98.6822 Q138.978 95.1174 138.978 88.011 Q138.978 80.8814 137.149 77.3398 Q135.344 73.775 131.709 73.775 M131.709 70.0713 Q137.519 70.0713 140.575 74.6777 Q143.654 79.261 143.654 88.011 Q143.654 96.7378 140.575 101.344 Q137.519 105.928 131.709 105.928 Q125.899 105.928 122.82 101.344 Q119.765 96.7378 119.765 88.011 Q119.765 79.261 122.82 74.6777 Q125.899 70.0713 131.709 70.0713 Z\" fill=\"#000000\" fill-rule=\"evenodd\" fill-opacity=\"1\" /><polyline clip-path=\"url(#clip422)\" style=\"stroke:#009af9; stroke-width:4; stroke-opacity:1; fill:none\" points=\"\n",
       "  241.157,917.383 468.945,87.9763 696.734,336.798 924.522,1091.56 1152.31,1445.72 1380.1,1165.29 1607.89,721.088 1835.68,606.439 2063.46,837.13 2291.25,1078.87 \n",
       "  \n",
       "  \"/>\n",
       "<path clip-path=\"url(#clip420)\" d=\"\n",
       "M1987.85 216.178 L2280.32 216.178 L2280.32 95.2176 L1987.85 95.2176  Z\n",
       "  \" fill=\"#ffffff\" fill-rule=\"evenodd\" fill-opacity=\"1\"/>\n",
       "<polyline clip-path=\"url(#clip420)\" style=\"stroke:#000000; stroke-width:4; stroke-opacity:1; fill:none\" points=\"\n",
       "  1987.85,216.178 2280.32,216.178 2280.32,95.2176 1987.85,95.2176 1987.85,216.178 \n",
       "  \"/>\n",
       "<polyline clip-path=\"url(#clip420)\" style=\"stroke:#009af9; stroke-width:4; stroke-opacity:1; fill:none\" points=\"\n",
       "  2011.99,155.698 2156.86,155.698 \n",
       "  \"/>\n",
       "<path clip-path=\"url(#clip420)\" d=\"M 0 0 M2194.85 175.385 Q2193.05 180.015 2191.33 181.427 Q2189.62 182.839 2186.75 182.839 L2183.35 182.839 L2183.35 179.274 L2185.85 179.274 Q2187.61 179.274 2188.58 178.44 Q2189.55 177.607 2190.73 174.505 L2191.5 172.561 L2181.01 147.052 L2185.52 147.052 L2193.63 167.329 L2201.73 147.052 L2206.24 147.052 L2194.85 175.385 Z\" fill=\"#000000\" fill-rule=\"evenodd\" fill-opacity=\"1\" /><path clip-path=\"url(#clip420)\" d=\"M 0 0 M2212.12 169.042 L2219.76 169.042 L2219.76 142.677 L2211.45 144.343 L2211.45 140.084 L2219.71 138.418 L2224.39 138.418 L2224.39 169.042 L2232.03 169.042 L2232.03 172.978 L2212.12 172.978 L2212.12 169.042 Z\" fill=\"#000000\" fill-rule=\"evenodd\" fill-opacity=\"1\" /></svg>\n"
      ]
     },
     "execution_count": 64,
     "metadata": {},
     "output_type": "execute_result"
    }
   ],
   "source": [
    "forecast_AR2!(Z, 0.7, -0.7)\n",
    "plot(Z)"
   ]
  },
  {
   "cell_type": "code",
   "execution_count": null,
   "metadata": {},
   "outputs": [],
   "source": []
  },
  {
   "cell_type": "code",
   "execution_count": null,
   "metadata": {},
   "outputs": [],
   "source": []
  },
  {
   "cell_type": "code",
   "execution_count": null,
   "metadata": {},
   "outputs": [],
   "source": []
  },
  {
   "cell_type": "code",
   "execution_count": null,
   "metadata": {},
   "outputs": [],
   "source": []
  },
  {
   "cell_type": "code",
   "execution_count": null,
   "metadata": {},
   "outputs": [],
   "source": []
  },
  {
   "cell_type": "markdown",
   "metadata": {},
   "source": [
    "# Exercise\n",
    "> Plot the solution for the following difference equation:\n",
    "> $$ x_t = 1.6 x_{t-1} - 0.64 x_{t-2}$$"
   ]
  },
  {
   "cell_type": "code",
   "execution_count": 66,
   "metadata": {},
   "outputs": [
    {
     "data": {
      "image/svg+xml": [
       "<?xml version=\"1.0\" encoding=\"utf-8\"?>\n",
       "<svg xmlns=\"http://www.w3.org/2000/svg\" xmlns:xlink=\"http://www.w3.org/1999/xlink\" width=\"600\" height=\"400\" viewBox=\"0 0 2400 1600\">\n",
       "<defs>\n",
       "  <clipPath id=\"clip500\">\n",
       "    <rect x=\"0\" y=\"0\" width=\"2400\" height=\"1600\"/>\n",
       "  </clipPath>\n",
       "</defs>\n",
       "<path clip-path=\"url(#clip500)\" d=\"\n",
       "M0 1600 L2400 1600 L2400 0 L0 0  Z\n",
       "  \" fill=\"#ffffff\" fill-rule=\"evenodd\" fill-opacity=\"1\"/>\n",
       "<defs>\n",
       "  <clipPath id=\"clip501\">\n",
       "    <rect x=\"480\" y=\"0\" width=\"1681\" height=\"1600\"/>\n",
       "  </clipPath>\n",
       "</defs>\n",
       "<path clip-path=\"url(#clip500)\" d=\"\n",
       "M147.848 1486.45 L2352.76 1486.45 L2352.76 47.2441 L147.848 47.2441  Z\n",
       "  \" fill=\"#ffffff\" fill-rule=\"evenodd\" fill-opacity=\"1\"/>\n",
       "<defs>\n",
       "  <clipPath id=\"clip502\">\n",
       "    <rect x=\"147\" y=\"47\" width=\"2206\" height=\"1440\"/>\n",
       "  </clipPath>\n",
       "</defs>\n",
       "<polyline clip-path=\"url(#clip502)\" style=\"stroke:#000000; stroke-width:2; stroke-opacity:0.1; fill:none\" points=\"\n",
       "  167.8,1486.45 167.8,47.2441 \n",
       "  \"/>\n",
       "<polyline clip-path=\"url(#clip502)\" style=\"stroke:#000000; stroke-width:2; stroke-opacity:0.1; fill:none\" points=\"\n",
       "  592.311,1486.45 592.311,47.2441 \n",
       "  \"/>\n",
       "<polyline clip-path=\"url(#clip502)\" style=\"stroke:#000000; stroke-width:2; stroke-opacity:0.1; fill:none\" points=\"\n",
       "  1016.82,1486.45 1016.82,47.2441 \n",
       "  \"/>\n",
       "<polyline clip-path=\"url(#clip502)\" style=\"stroke:#000000; stroke-width:2; stroke-opacity:0.1; fill:none\" points=\"\n",
       "  1441.33,1486.45 1441.33,47.2441 \n",
       "  \"/>\n",
       "<polyline clip-path=\"url(#clip502)\" style=\"stroke:#000000; stroke-width:2; stroke-opacity:0.1; fill:none\" points=\"\n",
       "  1865.84,1486.45 1865.84,47.2441 \n",
       "  \"/>\n",
       "<polyline clip-path=\"url(#clip502)\" style=\"stroke:#000000; stroke-width:2; stroke-opacity:0.1; fill:none\" points=\"\n",
       "  2290.35,1486.45 2290.35,47.2441 \n",
       "  \"/>\n",
       "<polyline clip-path=\"url(#clip500)\" style=\"stroke:#000000; stroke-width:4; stroke-opacity:1; fill:none\" points=\"\n",
       "  147.848,1486.45 2352.76,1486.45 \n",
       "  \"/>\n",
       "<polyline clip-path=\"url(#clip500)\" style=\"stroke:#000000; stroke-width:4; stroke-opacity:1; fill:none\" points=\"\n",
       "  167.8,1486.45 167.8,1469.18 \n",
       "  \"/>\n",
       "<polyline clip-path=\"url(#clip500)\" style=\"stroke:#000000; stroke-width:4; stroke-opacity:1; fill:none\" points=\"\n",
       "  592.311,1486.45 592.311,1469.18 \n",
       "  \"/>\n",
       "<polyline clip-path=\"url(#clip500)\" style=\"stroke:#000000; stroke-width:4; stroke-opacity:1; fill:none\" points=\"\n",
       "  1016.82,1486.45 1016.82,1469.18 \n",
       "  \"/>\n",
       "<polyline clip-path=\"url(#clip500)\" style=\"stroke:#000000; stroke-width:4; stroke-opacity:1; fill:none\" points=\"\n",
       "  1441.33,1486.45 1441.33,1469.18 \n",
       "  \"/>\n",
       "<polyline clip-path=\"url(#clip500)\" style=\"stroke:#000000; stroke-width:4; stroke-opacity:1; fill:none\" points=\"\n",
       "  1865.84,1486.45 1865.84,1469.18 \n",
       "  \"/>\n",
       "<polyline clip-path=\"url(#clip500)\" style=\"stroke:#000000; stroke-width:4; stroke-opacity:1; fill:none\" points=\"\n",
       "  2290.35,1486.45 2290.35,1469.18 \n",
       "  \"/>\n",
       "<path clip-path=\"url(#clip500)\" d=\"M 0 0 M167.8 1515.64 Q164.189 1515.64 162.36 1519.2 Q160.555 1522.75 160.555 1529.87 Q160.555 1536.98 162.36 1540.55 Q164.189 1544.09 167.8 1544.09 Q171.435 1544.09 173.24 1540.55 Q175.069 1536.98 175.069 1529.87 Q175.069 1522.75 173.24 1519.2 Q171.435 1515.64 167.8 1515.64 M167.8 1511.93 Q173.61 1511.93 176.666 1516.54 Q179.745 1521.12 179.745 1529.87 Q179.745 1538.6 176.666 1543.21 Q173.61 1547.79 167.8 1547.79 Q161.99 1547.79 158.911 1543.21 Q155.856 1538.6 155.856 1529.87 Q155.856 1521.12 158.911 1516.54 Q161.99 1511.93 167.8 1511.93 Z\" fill=\"#000000\" fill-rule=\"evenodd\" fill-opacity=\"1\" /><path clip-path=\"url(#clip500)\" d=\"M 0 0 M569.186 1543.18 L576.825 1543.18 L576.825 1516.82 L568.515 1518.49 L568.515 1514.23 L576.778 1512.56 L581.454 1512.56 L581.454 1543.18 L589.093 1543.18 L589.093 1547.12 L569.186 1547.12 L569.186 1543.18 Z\" fill=\"#000000\" fill-rule=\"evenodd\" fill-opacity=\"1\" /><path clip-path=\"url(#clip500)\" d=\"M 0 0 M604.163 1515.64 Q600.551 1515.64 598.723 1519.2 Q596.917 1522.75 596.917 1529.87 Q596.917 1536.98 598.723 1540.55 Q600.551 1544.09 604.163 1544.09 Q607.797 1544.09 609.602 1540.55 Q611.431 1536.98 611.431 1529.87 Q611.431 1522.75 609.602 1519.2 Q607.797 1515.64 604.163 1515.64 M604.163 1511.93 Q609.973 1511.93 613.028 1516.54 Q616.107 1521.12 616.107 1529.87 Q616.107 1538.6 613.028 1543.21 Q609.973 1547.79 604.163 1547.79 Q598.352 1547.79 595.274 1543.21 Q592.218 1538.6 592.218 1529.87 Q592.218 1521.12 595.274 1516.54 Q598.352 1511.93 604.163 1511.93 Z\" fill=\"#000000\" fill-rule=\"evenodd\" fill-opacity=\"1\" /><path clip-path=\"url(#clip500)\" d=\"M 0 0 M997.967 1543.18 L1014.29 1543.18 L1014.29 1547.12 L992.342 1547.12 L992.342 1543.18 Q995.004 1540.43 999.588 1535.8 Q1004.19 1531.15 1005.37 1529.81 Q1007.62 1527.28 1008.5 1525.55 Q1009.4 1523.79 1009.4 1522.1 Q1009.4 1519.34 1007.46 1517.61 Q1005.54 1515.87 1002.43 1515.87 Q1000.24 1515.87 997.782 1516.63 Q995.352 1517.4 992.574 1518.95 L992.574 1514.23 Q995.398 1513.09 997.852 1512.51 Q1000.31 1511.93 1002.34 1511.93 Q1007.71 1511.93 1010.91 1514.62 Q1014.1 1517.31 1014.1 1521.8 Q1014.1 1523.93 1013.29 1525.85 Q1012.5 1527.74 1010.4 1530.34 Q1009.82 1531.01 1006.72 1534.23 Q1003.62 1537.42 997.967 1543.18 Z\" fill=\"#000000\" fill-rule=\"evenodd\" fill-opacity=\"1\" /><path clip-path=\"url(#clip500)\" d=\"M 0 0 M1029.36 1515.64 Q1025.74 1515.64 1023.92 1519.2 Q1022.11 1522.75 1022.11 1529.87 Q1022.11 1536.98 1023.92 1540.55 Q1025.74 1544.09 1029.36 1544.09 Q1032.99 1544.09 1034.8 1540.55 Q1036.62 1536.98 1036.62 1529.87 Q1036.62 1522.75 1034.8 1519.2 Q1032.99 1515.64 1029.36 1515.64 M1029.36 1511.93 Q1035.17 1511.93 1038.22 1516.54 Q1041.3 1521.12 1041.3 1529.87 Q1041.3 1538.6 1038.22 1543.21 Q1035.17 1547.79 1029.36 1547.79 Q1023.55 1547.79 1020.47 1543.21 Q1017.41 1538.6 1017.41 1529.87 Q1017.41 1521.12 1020.47 1516.54 Q1023.55 1511.93 1029.36 1511.93 Z\" fill=\"#000000\" fill-rule=\"evenodd\" fill-opacity=\"1\" /><path clip-path=\"url(#clip500)\" d=\"M 0 0 M1432.07 1528.49 Q1435.43 1529.2 1437.3 1531.47 Q1439.2 1533.74 1439.2 1537.07 Q1439.2 1542.19 1435.68 1544.99 Q1432.17 1547.79 1425.68 1547.79 Q1423.51 1547.79 1421.19 1547.35 Q1418.9 1546.93 1416.45 1546.08 L1416.45 1541.56 Q1418.39 1542.7 1420.71 1543.28 Q1423.02 1543.86 1425.54 1543.86 Q1429.94 1543.86 1432.23 1542.12 Q1434.55 1540.38 1434.55 1537.07 Q1434.55 1534.02 1432.4 1532.31 Q1430.27 1530.57 1426.45 1530.57 L1422.42 1530.57 L1422.42 1526.73 L1426.63 1526.73 Q1430.08 1526.73 1431.91 1525.36 Q1433.74 1523.97 1433.74 1521.38 Q1433.74 1518.72 1431.84 1517.31 Q1429.97 1515.87 1426.45 1515.87 Q1424.53 1515.87 1422.33 1516.29 Q1420.13 1516.7 1417.49 1517.58 L1417.49 1513.42 Q1420.15 1512.68 1422.47 1512.31 Q1424.8 1511.93 1426.86 1511.93 Q1432.19 1511.93 1435.29 1514.37 Q1438.39 1516.77 1438.39 1520.89 Q1438.39 1523.76 1436.75 1525.75 Q1435.11 1527.72 1432.07 1528.49 Z\" fill=\"#000000\" fill-rule=\"evenodd\" fill-opacity=\"1\" /><path clip-path=\"url(#clip500)\" d=\"M 0 0 M1454.27 1515.64 Q1450.66 1515.64 1448.83 1519.2 Q1447.03 1522.75 1447.03 1529.87 Q1447.03 1536.98 1448.83 1540.55 Q1450.66 1544.09 1454.27 1544.09 Q1457.91 1544.09 1459.71 1540.55 Q1461.54 1536.98 1461.54 1529.87 Q1461.54 1522.75 1459.71 1519.2 Q1457.91 1515.64 1454.27 1515.64 M1454.27 1511.93 Q1460.08 1511.93 1463.14 1516.54 Q1466.22 1521.12 1466.22 1529.87 Q1466.22 1538.6 1463.14 1543.21 Q1460.08 1547.79 1454.27 1547.79 Q1448.46 1547.79 1445.38 1543.21 Q1442.33 1538.6 1442.33 1529.87 Q1442.33 1521.12 1445.38 1516.54 Q1448.46 1511.93 1454.27 1511.93 Z\" fill=\"#000000\" fill-rule=\"evenodd\" fill-opacity=\"1\" /><path clip-path=\"url(#clip500)\" d=\"M 0 0 M1855.34 1516.63 L1843.54 1535.08 L1855.34 1535.08 L1855.34 1516.63 M1854.12 1512.56 L1860 1512.56 L1860 1535.08 L1864.93 1535.08 L1864.93 1538.97 L1860 1538.97 L1860 1547.12 L1855.34 1547.12 L1855.34 1538.97 L1839.74 1538.97 L1839.74 1534.46 L1854.12 1512.56 Z\" fill=\"#000000\" fill-rule=\"evenodd\" fill-opacity=\"1\" /><path clip-path=\"url(#clip500)\" d=\"M 0 0 M1880 1515.64 Q1876.39 1515.64 1874.56 1519.2 Q1872.75 1522.75 1872.75 1529.87 Q1872.75 1536.98 1874.56 1540.55 Q1876.39 1544.09 1880 1544.09 Q1883.63 1544.09 1885.44 1540.55 Q1887.27 1536.98 1887.27 1529.87 Q1887.27 1522.75 1885.44 1519.2 Q1883.63 1515.64 1880 1515.64 M1880 1511.93 Q1885.81 1511.93 1888.86 1516.54 Q1891.94 1521.12 1891.94 1529.87 Q1891.94 1538.6 1888.86 1543.21 Q1885.81 1547.79 1880 1547.79 Q1874.19 1547.79 1871.11 1543.21 Q1868.05 1538.6 1868.05 1529.87 Q1868.05 1521.12 1871.11 1516.54 Q1874.19 1511.93 1880 1511.93 Z\" fill=\"#000000\" fill-rule=\"evenodd\" fill-opacity=\"1\" /><path clip-path=\"url(#clip500)\" d=\"M 0 0 M2267.12 1512.56 L2285.48 1512.56 L2285.48 1516.5 L2271.41 1516.5 L2271.41 1524.97 Q2272.42 1524.62 2273.44 1524.46 Q2274.46 1524.27 2275.48 1524.27 Q2281.27 1524.27 2284.65 1527.44 Q2288.03 1530.62 2288.03 1536.03 Q2288.03 1541.61 2284.55 1544.71 Q2281.08 1547.79 2274.76 1547.79 Q2272.59 1547.79 2270.32 1547.42 Q2268.07 1547.05 2265.67 1546.31 L2265.67 1541.61 Q2267.75 1542.74 2269.97 1543.3 Q2272.19 1543.86 2274.67 1543.86 Q2278.67 1543.86 2281.01 1541.75 Q2283.35 1539.64 2283.35 1536.03 Q2283.35 1532.42 2281.01 1530.31 Q2278.67 1528.21 2274.67 1528.21 Q2272.8 1528.21 2270.92 1528.62 Q2269.07 1529.04 2267.12 1529.92 L2267.12 1512.56 Z\" fill=\"#000000\" fill-rule=\"evenodd\" fill-opacity=\"1\" /><path clip-path=\"url(#clip500)\" d=\"M 0 0 M2303.1 1515.64 Q2299.48 1515.64 2297.66 1519.2 Q2295.85 1522.75 2295.85 1529.87 Q2295.85 1536.98 2297.66 1540.55 Q2299.48 1544.09 2303.1 1544.09 Q2306.73 1544.09 2308.54 1540.55 Q2310.36 1536.98 2310.36 1529.87 Q2310.36 1522.75 2308.54 1519.2 Q2306.73 1515.64 2303.1 1515.64 M2303.1 1511.93 Q2308.91 1511.93 2311.96 1516.54 Q2315.04 1521.12 2315.04 1529.87 Q2315.04 1538.6 2311.96 1543.21 Q2308.91 1547.79 2303.1 1547.79 Q2297.29 1547.79 2294.21 1543.21 Q2291.15 1538.6 2291.15 1529.87 Q2291.15 1521.12 2294.21 1516.54 Q2297.29 1511.93 2303.1 1511.93 Z\" fill=\"#000000\" fill-rule=\"evenodd\" fill-opacity=\"1\" /><polyline clip-path=\"url(#clip502)\" style=\"stroke:#000000; stroke-width:2; stroke-opacity:0.1; fill:none\" points=\"\n",
       "  147.848,1445.72 2352.76,1445.72 \n",
       "  \"/>\n",
       "<polyline clip-path=\"url(#clip502)\" style=\"stroke:#000000; stroke-width:2; stroke-opacity:0.1; fill:none\" points=\"\n",
       "  147.848,1114.24 2352.76,1114.24 \n",
       "  \"/>\n",
       "<polyline clip-path=\"url(#clip502)\" style=\"stroke:#000000; stroke-width:2; stroke-opacity:0.1; fill:none\" points=\"\n",
       "  147.848,782.757 2352.76,782.757 \n",
       "  \"/>\n",
       "<polyline clip-path=\"url(#clip502)\" style=\"stroke:#000000; stroke-width:2; stroke-opacity:0.1; fill:none\" points=\"\n",
       "  147.848,451.278 2352.76,451.278 \n",
       "  \"/>\n",
       "<polyline clip-path=\"url(#clip502)\" style=\"stroke:#000000; stroke-width:2; stroke-opacity:0.1; fill:none\" points=\"\n",
       "  147.848,119.798 2352.76,119.798 \n",
       "  \"/>\n",
       "<polyline clip-path=\"url(#clip500)\" style=\"stroke:#000000; stroke-width:4; stroke-opacity:1; fill:none\" points=\"\n",
       "  147.848,1486.45 147.848,47.2441 \n",
       "  \"/>\n",
       "<polyline clip-path=\"url(#clip500)\" style=\"stroke:#000000; stroke-width:4; stroke-opacity:1; fill:none\" points=\"\n",
       "  147.848,1445.72 174.307,1445.72 \n",
       "  \"/>\n",
       "<polyline clip-path=\"url(#clip500)\" style=\"stroke:#000000; stroke-width:4; stroke-opacity:1; fill:none\" points=\"\n",
       "  147.848,1114.24 174.307,1114.24 \n",
       "  \"/>\n",
       "<polyline clip-path=\"url(#clip500)\" style=\"stroke:#000000; stroke-width:4; stroke-opacity:1; fill:none\" points=\"\n",
       "  147.848,782.757 174.307,782.757 \n",
       "  \"/>\n",
       "<polyline clip-path=\"url(#clip500)\" style=\"stroke:#000000; stroke-width:4; stroke-opacity:1; fill:none\" points=\"\n",
       "  147.848,451.278 174.307,451.278 \n",
       "  \"/>\n",
       "<polyline clip-path=\"url(#clip500)\" style=\"stroke:#000000; stroke-width:4; stroke-opacity:1; fill:none\" points=\"\n",
       "  147.848,119.798 174.307,119.798 \n",
       "  \"/>\n",
       "<path clip-path=\"url(#clip500)\" d=\"M 0 0 M62.9365 1431.51 Q59.3254 1431.51 57.4967 1435.08 Q55.6912 1438.62 55.6912 1445.75 Q55.6912 1452.86 57.4967 1456.42 Q59.3254 1459.96 62.9365 1459.96 Q66.5707 1459.96 68.3763 1456.42 Q70.205 1452.86 70.205 1445.75 Q70.205 1438.62 68.3763 1435.08 Q66.5707 1431.51 62.9365 1431.51 M62.9365 1427.81 Q68.7467 1427.81 71.8022 1432.42 Q74.8809 1437 74.8809 1445.75 Q74.8809 1454.48 71.8022 1459.08 Q68.7467 1463.67 62.9365 1463.67 Q57.1264 1463.67 54.0477 1459.08 Q50.9921 1454.48 50.9921 1445.75 Q50.9921 1437 54.0477 1432.42 Q57.1264 1427.81 62.9365 1427.81 Z\" fill=\"#000000\" fill-rule=\"evenodd\" fill-opacity=\"1\" /><path clip-path=\"url(#clip500)\" d=\"M 0 0 M79.9503 1457.12 L84.8345 1457.12 L84.8345 1463 L79.9503 1463 L79.9503 1457.12 Z\" fill=\"#000000\" fill-rule=\"evenodd\" fill-opacity=\"1\" /><path clip-path=\"url(#clip500)\" d=\"M 0 0 M99.9039 1431.51 Q96.2928 1431.51 94.4641 1435.08 Q92.6586 1438.62 92.6586 1445.75 Q92.6586 1452.86 94.4641 1456.42 Q96.2928 1459.96 99.9039 1459.96 Q103.538 1459.96 105.344 1456.42 Q107.172 1452.86 107.172 1445.75 Q107.172 1438.62 105.344 1435.08 Q103.538 1431.51 99.9039 1431.51 M99.9039 1427.81 Q105.714 1427.81 108.77 1432.42 Q111.848 1437 111.848 1445.75 Q111.848 1454.48 108.77 1459.08 Q105.714 1463.67 99.9039 1463.67 Q94.0937 1463.67 91.0151 1459.08 Q87.9595 1454.48 87.9595 1445.75 Q87.9595 1437 91.0151 1432.42 Q94.0937 1427.81 99.9039 1427.81 Z\" fill=\"#000000\" fill-rule=\"evenodd\" fill-opacity=\"1\" /><path clip-path=\"url(#clip500)\" d=\"M 0 0 M63.9319 1100.04 Q60.3208 1100.04 58.4921 1103.6 Q56.6865 1107.14 56.6865 1114.27 Q56.6865 1121.38 58.4921 1124.94 Q60.3208 1128.48 63.9319 1128.48 Q67.5661 1128.48 69.3717 1124.94 Q71.2004 1121.38 71.2004 1114.27 Q71.2004 1107.14 69.3717 1103.6 Q67.5661 1100.04 63.9319 1100.04 M63.9319 1096.33 Q69.742 1096.33 72.7976 1100.94 Q75.8763 1105.52 75.8763 1114.27 Q75.8763 1123 72.7976 1127.6 Q69.742 1132.19 63.9319 1132.19 Q58.1217 1132.19 55.043 1127.6 Q51.9875 1123 51.9875 1114.27 Q51.9875 1105.52 55.043 1100.94 Q58.1217 1096.33 63.9319 1096.33 Z\" fill=\"#000000\" fill-rule=\"evenodd\" fill-opacity=\"1\" /><path clip-path=\"url(#clip500)\" d=\"M 0 0 M80.9457 1125.64 L85.8299 1125.64 L85.8299 1131.52 L80.9457 1131.52 L80.9457 1125.64 Z\" fill=\"#000000\" fill-rule=\"evenodd\" fill-opacity=\"1\" /><path clip-path=\"url(#clip500)\" d=\"M 0 0 M90.9456 1096.96 L109.302 1096.96 L109.302 1100.89 L95.228 1100.89 L95.228 1109.36 Q96.2465 1109.02 97.265 1108.85 Q98.2835 1108.67 99.3021 1108.67 Q105.089 1108.67 108.469 1111.84 Q111.848 1115.01 111.848 1120.43 Q111.848 1126.01 108.376 1129.11 Q104.904 1132.19 98.5845 1132.19 Q96.4085 1132.19 94.14 1131.82 Q91.8947 1131.45 89.4873 1130.71 L89.4873 1126.01 Q91.5706 1127.14 93.7928 1127.7 Q96.015 1128.25 98.4919 1128.25 Q102.496 1128.25 104.834 1126.15 Q107.172 1124.04 107.172 1120.43 Q107.172 1116.82 104.834 1114.71 Q102.496 1112.6 98.4919 1112.6 Q96.6169 1112.6 94.7419 1113.02 Q92.89 1113.44 90.9456 1114.32 L90.9456 1096.96 Z\" fill=\"#000000\" fill-rule=\"evenodd\" fill-opacity=\"1\" /><path clip-path=\"url(#clip500)\" d=\"M 0 0 M54.9736 796.102 L62.6124 796.102 L62.6124 769.736 L54.3023 771.403 L54.3023 767.144 L62.5661 765.477 L67.242 765.477 L67.242 796.102 L74.8809 796.102 L74.8809 800.037 L54.9736 800.037 L54.9736 796.102 Z\" fill=\"#000000\" fill-rule=\"evenodd\" fill-opacity=\"1\" /><path clip-path=\"url(#clip500)\" d=\"M 0 0 M79.9503 794.157 L84.8345 794.157 L84.8345 800.037 L79.9503 800.037 L79.9503 794.157 Z\" fill=\"#000000\" fill-rule=\"evenodd\" fill-opacity=\"1\" /><path clip-path=\"url(#clip500)\" d=\"M 0 0 M99.9039 768.556 Q96.2928 768.556 94.4641 772.12 Q92.6586 775.662 92.6586 782.792 Q92.6586 789.898 94.4641 793.463 Q96.2928 797.005 99.9039 797.005 Q103.538 797.005 105.344 793.463 Q107.172 789.898 107.172 782.792 Q107.172 775.662 105.344 772.12 Q103.538 768.556 99.9039 768.556 M99.9039 764.852 Q105.714 764.852 108.77 769.458 Q111.848 774.042 111.848 782.792 Q111.848 791.519 108.77 796.125 Q105.714 800.708 99.9039 800.708 Q94.0937 800.708 91.0151 796.125 Q87.9595 791.519 87.9595 782.792 Q87.9595 774.042 91.0151 769.458 Q94.0937 764.852 99.9039 764.852 Z\" fill=\"#000000\" fill-rule=\"evenodd\" fill-opacity=\"1\" /><path clip-path=\"url(#clip500)\" d=\"M 0 0 M55.969 464.622 L63.6078 464.622 L63.6078 438.257 L55.2977 439.924 L55.2977 435.664 L63.5615 433.998 L68.2374 433.998 L68.2374 464.622 L75.8763 464.622 L75.8763 468.558 L55.969 468.558 L55.969 464.622 Z\" fill=\"#000000\" fill-rule=\"evenodd\" fill-opacity=\"1\" /><path clip-path=\"url(#clip500)\" d=\"M 0 0 M80.9457 462.678 L85.8299 462.678 L85.8299 468.558 L80.9457 468.558 L80.9457 462.678 Z\" fill=\"#000000\" fill-rule=\"evenodd\" fill-opacity=\"1\" /><path clip-path=\"url(#clip500)\" d=\"M 0 0 M90.9456 433.998 L109.302 433.998 L109.302 437.933 L95.228 437.933 L95.228 446.405 Q96.2465 446.058 97.265 445.896 Q98.2835 445.711 99.3021 445.711 Q105.089 445.711 108.469 448.882 Q111.848 452.053 111.848 457.47 Q111.848 463.048 108.376 466.15 Q104.904 469.229 98.5845 469.229 Q96.4085 469.229 94.14 468.859 Q91.8947 468.488 89.4873 467.747 L89.4873 463.048 Q91.5706 464.183 93.7928 464.738 Q96.015 465.294 98.4919 465.294 Q102.496 465.294 104.834 463.187 Q107.172 461.081 107.172 457.47 Q107.172 453.859 104.834 451.752 Q102.496 449.646 98.4919 449.646 Q96.6169 449.646 94.7419 450.062 Q92.89 450.479 90.9456 451.359 L90.9456 433.998 Z\" fill=\"#000000\" fill-rule=\"evenodd\" fill-opacity=\"1\" /><path clip-path=\"url(#clip500)\" d=\"M 0 0 M58.5615 133.143 L74.8809 133.143 L74.8809 137.078 L52.9366 137.078 L52.9366 133.143 Q55.5986 130.389 60.1819 125.759 Q64.7883 121.106 65.9689 119.764 Q68.2143 117.24 69.0939 115.504 Q69.9967 113.745 69.9967 112.055 Q69.9967 109.301 68.0522 107.565 Q66.1309 105.828 63.0291 105.828 Q60.83 105.828 58.3763 106.592 Q55.9458 107.356 53.168 108.907 L53.168 104.185 Q55.9921 103.051 58.4458 102.472 Q60.8995 101.893 62.9365 101.893 Q68.3068 101.893 71.5013 104.578 Q74.6957 107.264 74.6957 111.754 Q74.6957 113.884 73.8855 115.805 Q73.0985 117.703 70.992 120.296 Q70.4133 120.967 67.3115 124.185 Q64.2096 127.379 58.5615 133.143 Z\" fill=\"#000000\" fill-rule=\"evenodd\" fill-opacity=\"1\" /><path clip-path=\"url(#clip500)\" d=\"M 0 0 M79.9503 131.199 L84.8345 131.199 L84.8345 137.078 L79.9503 137.078 L79.9503 131.199 Z\" fill=\"#000000\" fill-rule=\"evenodd\" fill-opacity=\"1\" /><path clip-path=\"url(#clip500)\" d=\"M 0 0 M99.9039 105.597 Q96.2928 105.597 94.4641 109.162 Q92.6586 112.703 92.6586 119.833 Q92.6586 126.939 94.4641 130.504 Q96.2928 134.046 99.9039 134.046 Q103.538 134.046 105.344 130.504 Q107.172 126.939 107.172 119.833 Q107.172 112.703 105.344 109.162 Q103.538 105.597 99.9039 105.597 M99.9039 101.893 Q105.714 101.893 108.77 106.5 Q111.848 111.083 111.848 119.833 Q111.848 128.56 108.77 133.166 Q105.714 137.75 99.9039 137.75 Q94.0937 137.75 91.0151 133.166 Q87.9595 128.56 87.9595 119.833 Q87.9595 111.083 91.0151 106.5 Q94.0937 101.893 99.9039 101.893 Z\" fill=\"#000000\" fill-rule=\"evenodd\" fill-opacity=\"1\" /><polyline clip-path=\"url(#clip502)\" style=\"stroke:#009af9; stroke-width:4; stroke-opacity:1; fill:none\" points=\"\n",
       "  210.251,1445.72 252.702,782.757 295.153,384.982 337.604,172.835 380.056,87.9763 422.507,87.9763 464.958,142.286 507.409,229.181 549.86,333.456 592.311,444.682 \n",
       "  634.762,555.908 677.213,662.685 719.664,762.343 762.115,853.459 804.566,935.464 847.017,1008.36 889.468,1072.5 931.919,1128.49 974.37,1177 1016.82,1218.8 \n",
       "  1059.27,1254.63 1101.72,1285.2 1144.17,1311.19 1186.63,1333.2 1229.08,1351.79 1271.53,1367.45 1313.98,1380.6 1356.43,1391.62 1398.88,1400.83 1441.33,1408.53 \n",
       "  1483.78,1414.94 1526.23,1420.27 1568.68,1424.71 1611.14,1428.38 1653.59,1431.43 1696.04,1433.95 1738.49,1436.03 1780.94,1437.76 1823.39,1439.18 1865.84,1440.35 \n",
       "  1908.29,1441.31 1950.74,1442.1 1993.2,1442.75 2035.65,1443.29 2078.1,1443.73 2120.55,1444.09 2163,1444.39 2205.45,1444.63 2247.9,1444.83 2290.35,1444.99 \n",
       "  \n",
       "  \"/>\n",
       "<path clip-path=\"url(#clip500)\" d=\"\n",
       "M1983.25 216.178 L2279.26 216.178 L2279.26 95.2176 L1983.25 95.2176  Z\n",
       "  \" fill=\"#ffffff\" fill-rule=\"evenodd\" fill-opacity=\"1\"/>\n",
       "<polyline clip-path=\"url(#clip500)\" style=\"stroke:#000000; stroke-width:4; stroke-opacity:1; fill:none\" points=\"\n",
       "  1983.25,216.178 2279.26,216.178 2279.26,95.2176 1983.25,95.2176 1983.25,216.178 \n",
       "  \"/>\n",
       "<polyline clip-path=\"url(#clip500)\" style=\"stroke:#009af9; stroke-width:4; stroke-opacity:1; fill:none\" points=\"\n",
       "  2007.75,155.698 2154.74,155.698 \n",
       "  \"/>\n",
       "<path clip-path=\"url(#clip500)\" d=\"M 0 0 M2193.09 175.385 Q2191.28 180.015 2189.57 181.427 Q2187.85 182.839 2184.98 182.839 L2181.58 182.839 L2181.58 179.274 L2184.08 179.274 Q2185.84 179.274 2186.81 178.44 Q2187.78 177.607 2188.96 174.505 L2189.73 172.561 L2179.24 147.052 L2183.76 147.052 L2191.86 167.329 L2199.96 147.052 L2204.47 147.052 L2193.09 175.385 Z\" fill=\"#000000\" fill-rule=\"evenodd\" fill-opacity=\"1\" /><path clip-path=\"url(#clip500)\" d=\"M 0 0 M2210.35 169.042 L2217.99 169.042 L2217.99 142.677 L2209.68 144.343 L2209.68 140.084 L2217.95 138.418 L2222.62 138.418 L2222.62 169.042 L2230.26 169.042 L2230.26 172.978 L2210.35 172.978 L2210.35 169.042 Z\" fill=\"#000000\" fill-rule=\"evenodd\" fill-opacity=\"1\" /></svg>\n"
      ]
     },
     "execution_count": 66,
     "metadata": {},
     "output_type": "execute_result"
    }
   ],
   "source": [
    "Z = zeros(50)\n",
    "Z[2] = 1.0\n",
    "forecast_AR2!(Z, 1.6, -0.64)\n",
    "plot(Z)"
   ]
  },
  {
   "cell_type": "markdown",
   "metadata": {},
   "source": [
    "### The lag operator\n",
    "Let $Lx_t \\equiv x_{t-1}$. By induction, $L^px_t = x_{t-p}$. We can write\n",
    "$$\n",
    "x_t = a_1 L x_t + a_2 L^2 x_t\n",
    "$$\n",
    "$$\n",
    "(1 - a_1 L  - a_2 L^2) x_t = 0\n",
    "$$\n"
   ]
  },
  {
   "cell_type": "markdown",
   "metadata": {},
   "source": [
    "This is a linear operator:\n",
    "$$ \n",
    "L(ax_t + b z_t) = aLx_t + b Lz_t\n",
    "$$"
   ]
  },
  {
   "cell_type": "markdown",
   "metadata": {},
   "source": [
    "We can decompose into\n",
    "$$\n",
    "(1 - \\lambda_1 L) (1 - \\lambda_2 L) x_t = 0\n",
    "$$"
   ]
  },
  {
   "cell_type": "markdown",
   "metadata": {},
   "source": [
    "such that\n",
    "$$\n",
    "\\lambda_1\\lambda_2 = -a_2\n",
    "$$\n",
    "and\n",
    "$$\n",
    "\\lambda_1 +\\lambda_2 = a_1\n",
    "$$"
   ]
  },
  {
   "cell_type": "markdown",
   "metadata": {},
   "source": [
    "We have to study the \"roots\" $\\lambda_1$ and $\\lambda_2$.\n",
    "\n",
    "Recall for AR1:\n",
    "$$\n",
    "(1- aL)x_t = 0\n",
    "$$\n",
    "had the solution $x_t = c a^t$. If $x_{t1}$ is a solution to AR1 with $\\lambda_1$, then $(1-\\lambda_1 L)x_{t1} = 0$ for all $t$. Btw, $x_{t1} = c_1 \\lambda_1^t$.\n",
    "Then $x_{t1}$ and $x_{t2}$ are both solutions to AR2. The generic solution is\n",
    "$$\n",
    "x_t = c_1 \\lambda_1^t + c_2 \\lambda_2 ^t.\n",
    "$$\n"
   ]
  },
  {
   "cell_type": "code",
   "execution_count": 80,
   "metadata": {},
   "outputs": [
    {
     "data": {
      "text/plain": [
       "forecast_with_lambda! (generic function with 2 methods)"
      ]
     },
     "execution_count": 80,
     "metadata": {},
     "output_type": "execute_result"
    }
   ],
   "source": [
    "function forecast_with_lambda!(x::Vector{Float64}, λ1::Complex, λ2::Complex)\n",
    "    a1 = (λ1 + λ2)\n",
    "    a2 = (- λ1 * λ2)\n",
    "    T = length(x)\n",
    "    for t = 3:T\n",
    "        x[t] = a1 * x[t-1] + a2 * x[t-2]\n",
    "    end\n",
    "end"
   ]
  },
  {
   "cell_type": "code",
   "execution_count": 68,
   "metadata": {},
   "outputs": [
    {
     "data": {
      "text/plain": [
       "50-element Array{Float64,1}:\n",
       " 0.0\n",
       " 1.0\n",
       " 1.6\n",
       " 1.9200000000000004\n",
       " 2.048000000000001\n",
       " 2.048000000000001\n",
       " 1.966080000000001\n",
       " 1.8350080000000013\n",
       " 1.6777216000000015\n",
       " 1.5099494400000018\n",
       " 1.342177280000002\n",
       " 1.1811160064000021\n",
       " 1.0307921510400022\n",
       " ⋮\n",
       " 0.009865364031216382\n",
       " 0.00809998309931451\n",
       " 0.006646139978924731\n",
       " 0.005449834782718285\n",
       " 0.004466206065837428\n",
       " 0.003658035444400183\n",
       " 0.0029944848289043388\n",
       " 0.0024500330418308256\n",
       " 0.002003582576430544\n",
       " 0.0016377109755171427\n",
       " 0.00133804471191188\n",
       " 0.0010927365147280364"
      ]
     },
     "execution_count": 68,
     "metadata": {},
     "output_type": "execute_result"
    }
   ],
   "source": [
    "Z"
   ]
  },
  {
   "cell_type": "code",
   "execution_count": 87,
   "metadata": {},
   "outputs": [
    {
     "ename": "InexactError",
     "evalue": "InexactError: Float64(0.48000000000000004 + 0.13im)",
     "output_type": "error",
     "traceback": [
      "InexactError: Float64(0.48000000000000004 + 0.13im)",
      "",
      "Stacktrace:",
      " [1] Real at ./complex.jl:37 [inlined]",
      " [2] convert at ./number.jl:7 [inlined]",
      " [3] setindex! at ./array.jl:826 [inlined]",
      " [4] forecast_with_lambda!(::Array{Float64,1}, ::Complex{Float64}, ::Complex{Float64}) at ./In[80]:6",
      " [5] top-level scope at In[87]:1"
     ]
    }
   ],
   "source": [
    "forecast_with_lambda!(Z, 0.8+0.1im, -0.5-0.1im)\n",
    "plot(Z)"
   ]
  },
  {
   "cell_type": "markdown",
   "metadata": {},
   "source": [
    "> Note: not any pair of complex numbers work as these have to be roots of a quadratic equation. I will fix this for next class."
   ]
  },
  {
   "cell_type": "code",
   "execution_count": 60,
   "metadata": {},
   "outputs": [
    {
     "data": {
      "text/plain": [
       "3 + 4im"
      ]
     },
     "execution_count": 60,
     "metadata": {},
     "output_type": "execute_result"
    }
   ],
   "source": [
    "Complex(3, 4)"
   ]
  },
  {
   "cell_type": "code",
   "execution_count": 89,
   "metadata": {},
   "outputs": [
    {
     "data": {
      "image/svg+xml": [
       "<?xml version=\"1.0\" encoding=\"utf-8\"?>\n",
       "<svg xmlns=\"http://www.w3.org/2000/svg\" xmlns:xlink=\"http://www.w3.org/1999/xlink\" width=\"600\" height=\"400\" viewBox=\"0 0 2400 1600\">\n",
       "<defs>\n",
       "  <clipPath id=\"clip700\">\n",
       "    <rect x=\"0\" y=\"0\" width=\"2400\" height=\"1600\"/>\n",
       "  </clipPath>\n",
       "</defs>\n",
       "<path clip-path=\"url(#clip700)\" d=\"\n",
       "M0 1600 L2400 1600 L2400 0 L0 0  Z\n",
       "  \" fill=\"#ffffff\" fill-rule=\"evenodd\" fill-opacity=\"1\"/>\n",
       "<defs>\n",
       "  <clipPath id=\"clip701\">\n",
       "    <rect x=\"480\" y=\"0\" width=\"1681\" height=\"1600\"/>\n",
       "  </clipPath>\n",
       "</defs>\n",
       "<path clip-path=\"url(#clip700)\" d=\"\n",
       "M205.07 1486.45 L2352.76 1486.45 L2352.76 47.2441 L205.07 47.2441  Z\n",
       "  \" fill=\"#ffffff\" fill-rule=\"evenodd\" fill-opacity=\"1\"/>\n",
       "<defs>\n",
       "  <clipPath id=\"clip702\">\n",
       "    <rect x=\"205\" y=\"47\" width=\"2149\" height=\"1440\"/>\n",
       "  </clipPath>\n",
       "</defs>\n",
       "<polyline clip-path=\"url(#clip702)\" style=\"stroke:#000000; stroke-width:2; stroke-opacity:0.1; fill:none\" points=\"\n",
       "  224.504,1486.45 224.504,47.2441 \n",
       "  \"/>\n",
       "<polyline clip-path=\"url(#clip702)\" style=\"stroke:#000000; stroke-width:2; stroke-opacity:0.1; fill:none\" points=\"\n",
       "  637.998,1486.45 637.998,47.2441 \n",
       "  \"/>\n",
       "<polyline clip-path=\"url(#clip702)\" style=\"stroke:#000000; stroke-width:2; stroke-opacity:0.1; fill:none\" points=\"\n",
       "  1051.49,1486.45 1051.49,47.2441 \n",
       "  \"/>\n",
       "<polyline clip-path=\"url(#clip702)\" style=\"stroke:#000000; stroke-width:2; stroke-opacity:0.1; fill:none\" points=\"\n",
       "  1464.99,1486.45 1464.99,47.2441 \n",
       "  \"/>\n",
       "<polyline clip-path=\"url(#clip702)\" style=\"stroke:#000000; stroke-width:2; stroke-opacity:0.1; fill:none\" points=\"\n",
       "  1878.48,1486.45 1878.48,47.2441 \n",
       "  \"/>\n",
       "<polyline clip-path=\"url(#clip702)\" style=\"stroke:#000000; stroke-width:2; stroke-opacity:0.1; fill:none\" points=\"\n",
       "  2291.97,1486.45 2291.97,47.2441 \n",
       "  \"/>\n",
       "<polyline clip-path=\"url(#clip700)\" style=\"stroke:#000000; stroke-width:4; stroke-opacity:1; fill:none\" points=\"\n",
       "  205.07,1486.45 2352.76,1486.45 \n",
       "  \"/>\n",
       "<polyline clip-path=\"url(#clip700)\" style=\"stroke:#000000; stroke-width:4; stroke-opacity:1; fill:none\" points=\"\n",
       "  224.504,1486.45 224.504,1469.18 \n",
       "  \"/>\n",
       "<polyline clip-path=\"url(#clip700)\" style=\"stroke:#000000; stroke-width:4; stroke-opacity:1; fill:none\" points=\"\n",
       "  637.998,1486.45 637.998,1469.18 \n",
       "  \"/>\n",
       "<polyline clip-path=\"url(#clip700)\" style=\"stroke:#000000; stroke-width:4; stroke-opacity:1; fill:none\" points=\"\n",
       "  1051.49,1486.45 1051.49,1469.18 \n",
       "  \"/>\n",
       "<polyline clip-path=\"url(#clip700)\" style=\"stroke:#000000; stroke-width:4; stroke-opacity:1; fill:none\" points=\"\n",
       "  1464.99,1486.45 1464.99,1469.18 \n",
       "  \"/>\n",
       "<polyline clip-path=\"url(#clip700)\" style=\"stroke:#000000; stroke-width:4; stroke-opacity:1; fill:none\" points=\"\n",
       "  1878.48,1486.45 1878.48,1469.18 \n",
       "  \"/>\n",
       "<polyline clip-path=\"url(#clip700)\" style=\"stroke:#000000; stroke-width:4; stroke-opacity:1; fill:none\" points=\"\n",
       "  2291.97,1486.45 2291.97,1469.18 \n",
       "  \"/>\n",
       "<path clip-path=\"url(#clip700)\" d=\"M 0 0 M224.504 1515.64 Q220.893 1515.64 219.065 1519.2 Q217.259 1522.75 217.259 1529.87 Q217.259 1536.98 219.065 1540.55 Q220.893 1544.09 224.504 1544.09 Q228.139 1544.09 229.944 1540.55 Q231.773 1536.98 231.773 1529.87 Q231.773 1522.75 229.944 1519.2 Q228.139 1515.64 224.504 1515.64 M224.504 1511.93 Q230.315 1511.93 233.37 1516.54 Q236.449 1521.12 236.449 1529.87 Q236.449 1538.6 233.37 1543.21 Q230.315 1547.79 224.504 1547.79 Q218.694 1547.79 215.616 1543.21 Q212.56 1538.6 212.56 1529.87 Q212.56 1521.12 215.616 1516.54 Q218.694 1511.93 224.504 1511.93 Z\" fill=\"#000000\" fill-rule=\"evenodd\" fill-opacity=\"1\" /><path clip-path=\"url(#clip700)\" d=\"M 0 0 M614.873 1543.18 L622.512 1543.18 L622.512 1516.82 L614.202 1518.49 L614.202 1514.23 L622.466 1512.56 L627.142 1512.56 L627.142 1543.18 L634.78 1543.18 L634.78 1547.12 L614.873 1547.12 L614.873 1543.18 Z\" fill=\"#000000\" fill-rule=\"evenodd\" fill-opacity=\"1\" /><path clip-path=\"url(#clip700)\" d=\"M 0 0 M649.85 1515.64 Q646.239 1515.64 644.41 1519.2 Q642.604 1522.75 642.604 1529.87 Q642.604 1536.98 644.41 1540.55 Q646.239 1544.09 649.85 1544.09 Q653.484 1544.09 655.29 1540.55 Q657.118 1536.98 657.118 1529.87 Q657.118 1522.75 655.29 1519.2 Q653.484 1515.64 649.85 1515.64 M649.85 1511.93 Q655.66 1511.93 658.715 1516.54 Q661.794 1521.12 661.794 1529.87 Q661.794 1538.6 658.715 1543.21 Q655.66 1547.79 649.85 1547.79 Q644.04 1547.79 640.961 1543.21 Q637.905 1538.6 637.905 1529.87 Q637.905 1521.12 640.961 1516.54 Q644.04 1511.93 649.85 1511.93 Z\" fill=\"#000000\" fill-rule=\"evenodd\" fill-opacity=\"1\" /><path clip-path=\"url(#clip700)\" d=\"M 0 0 M1032.64 1543.18 L1048.96 1543.18 L1048.96 1547.12 L1027.01 1547.12 L1027.01 1543.18 Q1029.67 1540.43 1034.26 1535.8 Q1038.86 1531.15 1040.04 1529.81 Q1042.29 1527.28 1043.17 1525.55 Q1044.07 1523.79 1044.07 1522.1 Q1044.07 1519.34 1042.13 1517.61 Q1040.21 1515.87 1037.11 1515.87 Q1034.91 1515.87 1032.45 1516.63 Q1030.02 1517.4 1027.24 1518.95 L1027.24 1514.23 Q1030.07 1513.09 1032.52 1512.51 Q1034.98 1511.93 1037.01 1511.93 Q1042.38 1511.93 1045.58 1514.62 Q1048.77 1517.31 1048.77 1521.8 Q1048.77 1523.93 1047.96 1525.85 Q1047.17 1527.74 1045.07 1530.34 Q1044.49 1531.01 1041.39 1534.23 Q1038.29 1537.42 1032.64 1543.18 Z\" fill=\"#000000\" fill-rule=\"evenodd\" fill-opacity=\"1\" /><path clip-path=\"url(#clip700)\" d=\"M 0 0 M1064.03 1515.64 Q1060.42 1515.64 1058.59 1519.2 Q1056.78 1522.75 1056.78 1529.87 Q1056.78 1536.98 1058.59 1540.55 Q1060.42 1544.09 1064.03 1544.09 Q1067.66 1544.09 1069.47 1540.55 Q1071.29 1536.98 1071.29 1529.87 Q1071.29 1522.75 1069.47 1519.2 Q1067.66 1515.64 1064.03 1515.64 M1064.03 1511.93 Q1069.84 1511.93 1072.89 1516.54 Q1075.97 1521.12 1075.97 1529.87 Q1075.97 1538.6 1072.89 1543.21 Q1069.84 1547.79 1064.03 1547.79 Q1058.22 1547.79 1055.14 1543.21 Q1052.08 1538.6 1052.08 1529.87 Q1052.08 1521.12 1055.14 1516.54 Q1058.22 1511.93 1064.03 1511.93 Z\" fill=\"#000000\" fill-rule=\"evenodd\" fill-opacity=\"1\" /><path clip-path=\"url(#clip700)\" d=\"M 0 0 M1455.73 1528.49 Q1459.08 1529.2 1460.96 1531.47 Q1462.86 1533.74 1462.86 1537.07 Q1462.86 1542.19 1459.34 1544.99 Q1455.82 1547.79 1449.34 1547.79 Q1447.16 1547.79 1444.85 1547.35 Q1442.55 1546.93 1440.1 1546.08 L1440.1 1541.56 Q1442.05 1542.7 1444.36 1543.28 Q1446.68 1543.86 1449.2 1543.86 Q1453.6 1543.86 1455.89 1542.12 Q1458.2 1540.38 1458.2 1537.07 Q1458.2 1534.02 1456.05 1532.31 Q1453.92 1530.57 1450.1 1530.57 L1446.07 1530.57 L1446.07 1526.73 L1450.29 1526.73 Q1453.74 1526.73 1455.56 1525.36 Q1457.39 1523.97 1457.39 1521.38 Q1457.39 1518.72 1455.49 1517.31 Q1453.62 1515.87 1450.1 1515.87 Q1448.18 1515.87 1445.98 1516.29 Q1443.78 1516.7 1441.14 1517.58 L1441.14 1513.42 Q1443.8 1512.68 1446.12 1512.31 Q1448.46 1511.93 1450.52 1511.93 Q1455.84 1511.93 1458.94 1514.37 Q1462.05 1516.77 1462.05 1520.89 Q1462.05 1523.76 1460.4 1525.75 Q1458.76 1527.72 1455.73 1528.49 Z\" fill=\"#000000\" fill-rule=\"evenodd\" fill-opacity=\"1\" /><path clip-path=\"url(#clip700)\" d=\"M 0 0 M1477.92 1515.64 Q1474.31 1515.64 1472.49 1519.2 Q1470.68 1522.75 1470.68 1529.87 Q1470.68 1536.98 1472.49 1540.55 Q1474.31 1544.09 1477.92 1544.09 Q1481.56 1544.09 1483.36 1540.55 Q1485.19 1536.98 1485.19 1529.87 Q1485.19 1522.75 1483.36 1519.2 Q1481.56 1515.64 1477.92 1515.64 M1477.92 1511.93 Q1483.74 1511.93 1486.79 1516.54 Q1489.87 1521.12 1489.87 1529.87 Q1489.87 1538.6 1486.79 1543.21 Q1483.74 1547.79 1477.92 1547.79 Q1472.11 1547.79 1469.04 1543.21 Q1465.98 1538.6 1465.98 1529.87 Q1465.98 1521.12 1469.04 1516.54 Q1472.11 1511.93 1477.92 1511.93 Z\" fill=\"#000000\" fill-rule=\"evenodd\" fill-opacity=\"1\" /><path clip-path=\"url(#clip700)\" d=\"M 0 0 M1867.98 1516.63 L1856.18 1535.08 L1867.98 1535.08 L1867.98 1516.63 M1866.75 1512.56 L1872.63 1512.56 L1872.63 1535.08 L1877.56 1535.08 L1877.56 1538.97 L1872.63 1538.97 L1872.63 1547.12 L1867.98 1547.12 L1867.98 1538.97 L1852.38 1538.97 L1852.38 1534.46 L1866.75 1512.56 Z\" fill=\"#000000\" fill-rule=\"evenodd\" fill-opacity=\"1\" /><path clip-path=\"url(#clip700)\" d=\"M 0 0 M1892.63 1515.64 Q1889.02 1515.64 1887.19 1519.2 Q1885.39 1522.75 1885.39 1529.87 Q1885.39 1536.98 1887.19 1540.55 Q1889.02 1544.09 1892.63 1544.09 Q1896.27 1544.09 1898.07 1540.55 Q1899.9 1536.98 1899.9 1529.87 Q1899.9 1522.75 1898.07 1519.2 Q1896.27 1515.64 1892.63 1515.64 M1892.63 1511.93 Q1898.44 1511.93 1901.5 1516.54 Q1904.58 1521.12 1904.58 1529.87 Q1904.58 1538.6 1901.5 1543.21 Q1898.44 1547.79 1892.63 1547.79 Q1886.82 1547.79 1883.74 1543.21 Q1880.69 1538.6 1880.69 1529.87 Q1880.69 1521.12 1883.74 1516.54 Q1886.82 1511.93 1892.63 1511.93 Z\" fill=\"#000000\" fill-rule=\"evenodd\" fill-opacity=\"1\" /><path clip-path=\"url(#clip700)\" d=\"M 0 0 M2268.74 1512.56 L2287.1 1512.56 L2287.1 1516.5 L2273.03 1516.5 L2273.03 1524.97 Q2274.04 1524.62 2275.06 1524.46 Q2276.08 1524.27 2277.1 1524.27 Q2282.89 1524.27 2286.27 1527.44 Q2289.65 1530.62 2289.65 1536.03 Q2289.65 1541.61 2286.17 1544.71 Q2282.7 1547.79 2276.38 1547.79 Q2274.21 1547.79 2271.94 1547.42 Q2269.69 1547.05 2267.28 1546.31 L2267.28 1541.61 Q2269.37 1542.74 2271.59 1543.3 Q2273.81 1543.86 2276.29 1543.86 Q2280.29 1543.86 2282.63 1541.75 Q2284.97 1539.64 2284.97 1536.03 Q2284.97 1532.42 2282.63 1530.31 Q2280.29 1528.21 2276.29 1528.21 Q2274.41 1528.21 2272.54 1528.62 Q2270.69 1529.04 2268.74 1529.92 L2268.74 1512.56 Z\" fill=\"#000000\" fill-rule=\"evenodd\" fill-opacity=\"1\" /><path clip-path=\"url(#clip700)\" d=\"M 0 0 M2304.72 1515.64 Q2301.1 1515.64 2299.28 1519.2 Q2297.47 1522.75 2297.47 1529.87 Q2297.47 1536.98 2299.28 1540.55 Q2301.1 1544.09 2304.72 1544.09 Q2308.35 1544.09 2310.16 1540.55 Q2311.98 1536.98 2311.98 1529.87 Q2311.98 1522.75 2310.16 1519.2 Q2308.35 1515.64 2304.72 1515.64 M2304.72 1511.93 Q2310.53 1511.93 2313.58 1516.54 Q2316.66 1521.12 2316.66 1529.87 Q2316.66 1538.6 2313.58 1543.21 Q2310.53 1547.79 2304.72 1547.79 Q2298.91 1547.79 2295.83 1543.21 Q2292.77 1538.6 2292.77 1529.87 Q2292.77 1521.12 2295.83 1516.54 Q2298.91 1511.93 2304.72 1511.93 Z\" fill=\"#000000\" fill-rule=\"evenodd\" fill-opacity=\"1\" /><polyline clip-path=\"url(#clip702)\" style=\"stroke:#000000; stroke-width:2; stroke-opacity:0.1; fill:none\" points=\"\n",
       "  205.07,1484.5 2352.76,1484.5 \n",
       "  \"/>\n",
       "<polyline clip-path=\"url(#clip702)\" style=\"stroke:#000000; stroke-width:2; stroke-opacity:0.1; fill:none\" points=\"\n",
       "  205.07,1243.72 2352.76,1243.72 \n",
       "  \"/>\n",
       "<polyline clip-path=\"url(#clip702)\" style=\"stroke:#000000; stroke-width:2; stroke-opacity:0.1; fill:none\" points=\"\n",
       "  205.07,1002.94 2352.76,1002.94 \n",
       "  \"/>\n",
       "<polyline clip-path=\"url(#clip702)\" style=\"stroke:#000000; stroke-width:2; stroke-opacity:0.1; fill:none\" points=\"\n",
       "  205.07,762.161 2352.76,762.161 \n",
       "  \"/>\n",
       "<polyline clip-path=\"url(#clip702)\" style=\"stroke:#000000; stroke-width:2; stroke-opacity:0.1; fill:none\" points=\"\n",
       "  205.07,521.381 2352.76,521.381 \n",
       "  \"/>\n",
       "<polyline clip-path=\"url(#clip702)\" style=\"stroke:#000000; stroke-width:2; stroke-opacity:0.1; fill:none\" points=\"\n",
       "  205.07,280.601 2352.76,280.601 \n",
       "  \"/>\n",
       "<polyline clip-path=\"url(#clip700)\" style=\"stroke:#000000; stroke-width:4; stroke-opacity:1; fill:none\" points=\"\n",
       "  205.07,1486.45 205.07,47.2441 \n",
       "  \"/>\n",
       "<polyline clip-path=\"url(#clip700)\" style=\"stroke:#000000; stroke-width:4; stroke-opacity:1; fill:none\" points=\"\n",
       "  205.07,1484.5 230.842,1484.5 \n",
       "  \"/>\n",
       "<polyline clip-path=\"url(#clip700)\" style=\"stroke:#000000; stroke-width:4; stroke-opacity:1; fill:none\" points=\"\n",
       "  205.07,1243.72 230.842,1243.72 \n",
       "  \"/>\n",
       "<polyline clip-path=\"url(#clip700)\" style=\"stroke:#000000; stroke-width:4; stroke-opacity:1; fill:none\" points=\"\n",
       "  205.07,1002.94 230.842,1002.94 \n",
       "  \"/>\n",
       "<polyline clip-path=\"url(#clip700)\" style=\"stroke:#000000; stroke-width:4; stroke-opacity:1; fill:none\" points=\"\n",
       "  205.07,762.161 230.842,762.161 \n",
       "  \"/>\n",
       "<polyline clip-path=\"url(#clip700)\" style=\"stroke:#000000; stroke-width:4; stroke-opacity:1; fill:none\" points=\"\n",
       "  205.07,521.381 230.842,521.381 \n",
       "  \"/>\n",
       "<polyline clip-path=\"url(#clip700)\" style=\"stroke:#000000; stroke-width:4; stroke-opacity:1; fill:none\" points=\"\n",
       "  205.07,280.601 230.842,280.601 \n",
       "  \"/>\n",
       "<path clip-path=\"url(#clip700)\" d=\"M 0 0 M50.9921 1484.95 L80.6679 1484.95 L80.6679 1488.89 L50.9921 1488.89 L50.9921 1484.95 Z\" fill=\"#000000\" fill-rule=\"evenodd\" fill-opacity=\"1\" /><path clip-path=\"url(#clip700)\" d=\"M 0 0 M95.7373 1470.3 Q92.1262 1470.3 90.2975 1473.87 Q88.4919 1477.41 88.4919 1484.54 Q88.4919 1491.64 90.2975 1495.21 Q92.1262 1498.75 95.7373 1498.75 Q99.3715 1498.75 101.177 1495.21 Q103.006 1491.64 103.006 1484.54 Q103.006 1477.41 101.177 1473.87 Q99.3715 1470.3 95.7373 1470.3 M95.7373 1466.6 Q101.547 1466.6 104.603 1471.2 Q107.682 1475.79 107.682 1484.54 Q107.682 1493.26 104.603 1497.87 Q101.547 1502.45 95.7373 1502.45 Q89.9271 1502.45 86.8484 1497.87 Q83.7929 1493.26 83.7929 1484.54 Q83.7929 1475.79 86.8484 1471.2 Q89.9271 1466.6 95.7373 1466.6 Z\" fill=\"#000000\" fill-rule=\"evenodd\" fill-opacity=\"1\" /><path clip-path=\"url(#clip700)\" d=\"M 0 0 M112.751 1495.9 L117.635 1495.9 L117.635 1501.78 L112.751 1501.78 L112.751 1495.9 Z\" fill=\"#000000\" fill-rule=\"evenodd\" fill-opacity=\"1\" /><path clip-path=\"url(#clip700)\" d=\"M 0 0 M126.732 1497.85 L143.052 1497.85 L143.052 1501.78 L121.107 1501.78 L121.107 1497.85 Q123.77 1495.09 128.353 1490.46 Q132.959 1485.81 134.14 1484.47 Q136.385 1481.94 137.265 1480.21 Q138.168 1478.45 138.168 1476.76 Q138.168 1474 136.223 1472.27 Q134.302 1470.53 131.2 1470.53 Q129.001 1470.53 126.547 1471.3 Q124.117 1472.06 121.339 1473.61 L121.339 1468.89 Q124.163 1467.75 126.617 1467.18 Q129.07 1466.6 131.107 1466.6 Q136.478 1466.6 139.672 1469.28 Q142.867 1471.97 142.867 1476.46 Q142.867 1478.59 142.056 1480.51 Q141.269 1482.41 139.163 1485 Q138.584 1485.67 135.482 1488.89 Q132.381 1492.08 126.732 1497.85 Z\" fill=\"#000000\" fill-rule=\"evenodd\" fill-opacity=\"1\" /><path clip-path=\"url(#clip700)\" d=\"M 0 0 M148.168 1467.22 L166.524 1467.22 L166.524 1471.16 L152.45 1471.16 L152.45 1479.63 Q153.468 1479.28 154.487 1479.12 Q155.505 1478.94 156.524 1478.94 Q162.311 1478.94 165.691 1482.11 Q169.07 1485.28 169.07 1490.69 Q169.07 1496.27 165.598 1499.38 Q162.126 1502.45 155.806 1502.45 Q153.63 1502.45 151.362 1502.08 Q149.117 1501.71 146.709 1500.97 L146.709 1496.27 Q148.793 1497.41 151.015 1497.96 Q153.237 1498.52 155.714 1498.52 Q159.718 1498.52 162.056 1496.41 Q164.394 1494.31 164.394 1490.69 Q164.394 1487.08 162.056 1484.98 Q159.718 1482.87 155.714 1482.87 Q153.839 1482.87 151.964 1483.29 Q150.112 1483.7 148.168 1484.58 L148.168 1467.22 Z\" fill=\"#000000\" fill-rule=\"evenodd\" fill-opacity=\"1\" /><path clip-path=\"url(#clip700)\" d=\"M 0 0 M93.1447 1229.52 Q89.5336 1229.52 87.7049 1233.09 Q85.8993 1236.63 85.8993 1243.76 Q85.8993 1250.86 87.7049 1254.43 Q89.5336 1257.97 93.1447 1257.97 Q96.7789 1257.97 98.5845 1254.43 Q100.413 1250.86 100.413 1243.76 Q100.413 1236.63 98.5845 1233.09 Q96.7789 1229.52 93.1447 1229.52 M93.1447 1225.82 Q98.9548 1225.82 102.01 1230.42 Q105.089 1235.01 105.089 1243.76 Q105.089 1252.48 102.01 1257.09 Q98.9548 1261.67 93.1447 1261.67 Q87.3345 1261.67 84.2558 1257.09 Q81.2003 1252.48 81.2003 1243.76 Q81.2003 1235.01 84.2558 1230.42 Q87.3345 1225.82 93.1447 1225.82 Z\" fill=\"#000000\" fill-rule=\"evenodd\" fill-opacity=\"1\" /><path clip-path=\"url(#clip700)\" d=\"M 0 0 M110.158 1255.12 L115.043 1255.12 L115.043 1261 L110.158 1261 L110.158 1255.12 Z\" fill=\"#000000\" fill-rule=\"evenodd\" fill-opacity=\"1\" /><path clip-path=\"url(#clip700)\" d=\"M 0 0 M130.112 1229.52 Q126.501 1229.52 124.672 1233.09 Q122.867 1236.63 122.867 1243.76 Q122.867 1250.86 124.672 1254.43 Q126.501 1257.97 130.112 1257.97 Q133.746 1257.97 135.552 1254.43 Q137.381 1250.86 137.381 1243.76 Q137.381 1236.63 135.552 1233.09 Q133.746 1229.52 130.112 1229.52 M130.112 1225.82 Q135.922 1225.82 138.978 1230.42 Q142.056 1235.01 142.056 1243.76 Q142.056 1252.48 138.978 1257.09 Q135.922 1261.67 130.112 1261.67 Q124.302 1261.67 121.223 1257.09 Q118.168 1252.48 118.168 1243.76 Q118.168 1235.01 121.223 1230.42 Q124.302 1225.82 130.112 1225.82 Z\" fill=\"#000000\" fill-rule=\"evenodd\" fill-opacity=\"1\" /><path clip-path=\"url(#clip700)\" d=\"M 0 0 M157.126 1229.52 Q153.515 1229.52 151.686 1233.09 Q149.88 1236.63 149.88 1243.76 Q149.88 1250.86 151.686 1254.43 Q153.515 1257.97 157.126 1257.97 Q160.76 1257.97 162.566 1254.43 Q164.394 1250.86 164.394 1243.76 Q164.394 1236.63 162.566 1233.09 Q160.76 1229.52 157.126 1229.52 M157.126 1225.82 Q162.936 1225.82 165.992 1230.42 Q169.07 1235.01 169.07 1243.76 Q169.07 1252.48 165.992 1257.09 Q162.936 1261.67 157.126 1261.67 Q151.316 1261.67 148.237 1257.09 Q145.181 1252.48 145.181 1243.76 Q145.181 1235.01 148.237 1230.42 Q151.316 1225.82 157.126 1225.82 Z\" fill=\"#000000\" fill-rule=\"evenodd\" fill-opacity=\"1\" /><path clip-path=\"url(#clip700)\" d=\"M 0 0 M95.7373 988.74 Q92.1262 988.74 90.2975 992.305 Q88.4919 995.847 88.4919 1002.98 Q88.4919 1010.08 90.2975 1013.65 Q92.1262 1017.19 95.7373 1017.19 Q99.3715 1017.19 101.177 1013.65 Q103.006 1010.08 103.006 1002.98 Q103.006 995.847 101.177 992.305 Q99.3715 988.74 95.7373 988.74 M95.7373 985.037 Q101.547 985.037 104.603 989.643 Q107.682 994.227 107.682 1002.98 Q107.682 1011.7 104.603 1016.31 Q101.547 1020.89 95.7373 1020.89 Q89.9271 1020.89 86.8484 1016.31 Q83.7929 1011.7 83.7929 1002.98 Q83.7929 994.227 86.8484 989.643 Q89.9271 985.037 95.7373 985.037 Z\" fill=\"#000000\" fill-rule=\"evenodd\" fill-opacity=\"1\" /><path clip-path=\"url(#clip700)\" d=\"M 0 0 M112.751 1014.34 L117.635 1014.34 L117.635 1020.22 L112.751 1020.22 L112.751 1014.34 Z\" fill=\"#000000\" fill-rule=\"evenodd\" fill-opacity=\"1\" /><path clip-path=\"url(#clip700)\" d=\"M 0 0 M126.732 1016.29 L143.052 1016.29 L143.052 1020.22 L121.107 1020.22 L121.107 1016.29 Q123.77 1013.53 128.353 1008.9 Q132.959 1004.25 134.14 1002.91 Q136.385 1000.38 137.265 998.648 Q138.168 996.889 138.168 995.199 Q138.168 992.444 136.223 990.708 Q134.302 988.972 131.2 988.972 Q129.001 988.972 126.547 989.736 Q124.117 990.5 121.339 992.051 L121.339 987.328 Q124.163 986.194 126.617 985.615 Q129.07 985.037 131.107 985.037 Q136.478 985.037 139.672 987.722 Q142.867 990.407 142.867 994.898 Q142.867 997.027 142.056 998.949 Q141.269 1000.85 139.163 1003.44 Q138.584 1004.11 135.482 1007.33 Q132.381 1010.52 126.732 1016.29 Z\" fill=\"#000000\" fill-rule=\"evenodd\" fill-opacity=\"1\" /><path clip-path=\"url(#clip700)\" d=\"M 0 0 M148.168 985.662 L166.524 985.662 L166.524 989.597 L152.45 989.597 L152.45 998.069 Q153.468 997.722 154.487 997.56 Q155.505 997.375 156.524 997.375 Q162.311 997.375 165.691 1000.55 Q169.07 1003.72 169.07 1009.13 Q169.07 1014.71 165.598 1017.81 Q162.126 1020.89 155.806 1020.89 Q153.63 1020.89 151.362 1020.52 Q149.117 1020.15 146.709 1019.41 L146.709 1014.71 Q148.793 1015.85 151.015 1016.4 Q153.237 1016.96 155.714 1016.96 Q159.718 1016.96 162.056 1014.85 Q164.394 1012.74 164.394 1009.13 Q164.394 1005.52 162.056 1003.42 Q159.718 1001.31 155.714 1001.31 Q153.839 1001.31 151.964 1001.73 Q150.112 1002.14 148.168 1003.02 L148.168 985.662 Z\" fill=\"#000000\" fill-rule=\"evenodd\" fill-opacity=\"1\" /><path clip-path=\"url(#clip700)\" d=\"M 0 0 M94.14 747.96 Q90.529 747.96 88.7003 751.525 Q86.8947 755.066 86.8947 762.196 Q86.8947 769.303 88.7003 772.867 Q90.529 776.409 94.14 776.409 Q97.7743 776.409 99.5798 772.867 Q101.409 769.303 101.409 762.196 Q101.409 755.066 99.5798 751.525 Q97.7743 747.96 94.14 747.96 M94.14 744.256 Q99.9502 744.256 103.006 748.863 Q106.084 753.446 106.084 762.196 Q106.084 770.923 103.006 775.529 Q99.9502 780.113 94.14 780.113 Q88.3299 780.113 85.2512 775.529 Q82.1957 770.923 82.1957 762.196 Q82.1957 753.446 85.2512 748.863 Q88.3299 744.256 94.14 744.256 Z\" fill=\"#000000\" fill-rule=\"evenodd\" fill-opacity=\"1\" /><path clip-path=\"url(#clip700)\" d=\"M 0 0 M111.154 773.562 L116.038 773.562 L116.038 779.441 L111.154 779.441 L111.154 773.562 Z\" fill=\"#000000\" fill-rule=\"evenodd\" fill-opacity=\"1\" /><path clip-path=\"url(#clip700)\" d=\"M 0 0 M121.154 744.881 L139.51 744.881 L139.51 748.817 L125.436 748.817 L125.436 757.289 Q126.455 756.941 127.473 756.779 Q128.492 756.594 129.51 756.594 Q135.297 756.594 138.677 759.766 Q142.056 762.937 142.056 768.353 Q142.056 773.932 138.584 777.034 Q135.112 780.113 128.793 780.113 Q126.617 780.113 124.348 779.742 Q122.103 779.372 119.695 778.631 L119.695 773.932 Q121.779 775.066 124.001 775.622 Q126.223 776.177 128.7 776.177 Q132.705 776.177 135.043 774.071 Q137.381 771.965 137.381 768.353 Q137.381 764.742 135.043 762.636 Q132.705 760.529 128.7 760.529 Q126.825 760.529 124.95 760.946 Q123.098 761.363 121.154 762.242 L121.154 744.881 Z\" fill=\"#000000\" fill-rule=\"evenodd\" fill-opacity=\"1\" /><path clip-path=\"url(#clip700)\" d=\"M 0 0 M157.126 747.96 Q153.515 747.96 151.686 751.525 Q149.88 755.066 149.88 762.196 Q149.88 769.303 151.686 772.867 Q153.515 776.409 157.126 776.409 Q160.76 776.409 162.566 772.867 Q164.394 769.303 164.394 762.196 Q164.394 755.066 162.566 751.525 Q160.76 747.96 157.126 747.96 M157.126 744.256 Q162.936 744.256 165.992 748.863 Q169.07 753.446 169.07 762.196 Q169.07 770.923 165.992 775.529 Q162.936 780.113 157.126 780.113 Q151.316 780.113 148.237 775.529 Q145.181 770.923 145.181 762.196 Q145.181 753.446 148.237 748.863 Q151.316 744.256 157.126 744.256 Z\" fill=\"#000000\" fill-rule=\"evenodd\" fill-opacity=\"1\" /><path clip-path=\"url(#clip700)\" d=\"M 0 0 M95.0428 507.18 Q91.4317 507.18 89.603 510.744 Q87.7975 514.286 87.7975 521.416 Q87.7975 528.522 89.603 532.087 Q91.4317 535.629 95.0428 535.629 Q98.6771 535.629 100.483 532.087 Q102.311 528.522 102.311 521.416 Q102.311 514.286 100.483 510.744 Q98.6771 507.18 95.0428 507.18 M95.0428 503.476 Q100.853 503.476 103.909 508.082 Q106.987 512.666 106.987 521.416 Q106.987 530.143 103.909 534.749 Q100.853 539.332 95.0428 539.332 Q89.2327 539.332 86.154 534.749 Q83.0984 530.143 83.0984 521.416 Q83.0984 512.666 86.154 508.082 Q89.2327 503.476 95.0428 503.476 Z\" fill=\"#000000\" fill-rule=\"evenodd\" fill-opacity=\"1\" /><path clip-path=\"url(#clip700)\" d=\"M 0 0 M112.057 532.781 L116.941 532.781 L116.941 538.661 L112.057 538.661 L112.057 532.781 Z\" fill=\"#000000\" fill-rule=\"evenodd\" fill-opacity=\"1\" /><path clip-path=\"url(#clip700)\" d=\"M 0 0 M120.83 504.101 L143.052 504.101 L143.052 506.092 L130.506 538.661 L125.621 538.661 L137.427 508.036 L120.83 508.036 L120.83 504.101 Z\" fill=\"#000000\" fill-rule=\"evenodd\" fill-opacity=\"1\" /><path clip-path=\"url(#clip700)\" d=\"M 0 0 M148.168 504.101 L166.524 504.101 L166.524 508.036 L152.45 508.036 L152.45 516.508 Q153.468 516.161 154.487 515.999 Q155.505 515.814 156.524 515.814 Q162.311 515.814 165.691 518.985 Q169.07 522.156 169.07 527.573 Q169.07 533.152 165.598 536.254 Q162.126 539.332 155.806 539.332 Q153.63 539.332 151.362 538.962 Q149.117 538.592 146.709 537.851 L146.709 533.152 Q148.793 534.286 151.015 534.842 Q153.237 535.397 155.714 535.397 Q159.718 535.397 162.056 533.291 Q164.394 531.184 164.394 527.573 Q164.394 523.962 162.056 521.856 Q159.718 519.749 155.714 519.749 Q153.839 519.749 151.964 520.166 Q150.112 520.582 148.168 521.462 L148.168 504.101 Z\" fill=\"#000000\" fill-rule=\"evenodd\" fill-opacity=\"1\" /><path clip-path=\"url(#clip700)\" d=\"M 0 0 M85.1818 293.945 L92.8206 293.945 L92.8206 267.58 L84.5105 269.246 L84.5105 264.987 L92.7743 263.321 L97.4502 263.321 L97.4502 293.945 L105.089 293.945 L105.089 297.881 L85.1818 297.881 L85.1818 293.945 Z\" fill=\"#000000\" fill-rule=\"evenodd\" fill-opacity=\"1\" /><path clip-path=\"url(#clip700)\" d=\"M 0 0 M110.158 292.001 L115.043 292.001 L115.043 297.881 L110.158 297.881 L110.158 292.001 Z\" fill=\"#000000\" fill-rule=\"evenodd\" fill-opacity=\"1\" /><path clip-path=\"url(#clip700)\" d=\"M 0 0 M130.112 266.399 Q126.501 266.399 124.672 269.964 Q122.867 273.506 122.867 280.635 Q122.867 287.742 124.672 291.307 Q126.501 294.848 130.112 294.848 Q133.746 294.848 135.552 291.307 Q137.381 287.742 137.381 280.635 Q137.381 273.506 135.552 269.964 Q133.746 266.399 130.112 266.399 M130.112 262.696 Q135.922 262.696 138.978 267.302 Q142.056 271.885 142.056 280.635 Q142.056 289.362 138.978 293.969 Q135.922 298.552 130.112 298.552 Q124.302 298.552 121.223 293.969 Q118.168 289.362 118.168 280.635 Q118.168 271.885 121.223 267.302 Q124.302 262.696 130.112 262.696 Z\" fill=\"#000000\" fill-rule=\"evenodd\" fill-opacity=\"1\" /><path clip-path=\"url(#clip700)\" d=\"M 0 0 M157.126 266.399 Q153.515 266.399 151.686 269.964 Q149.88 273.506 149.88 280.635 Q149.88 287.742 151.686 291.307 Q153.515 294.848 157.126 294.848 Q160.76 294.848 162.566 291.307 Q164.394 287.742 164.394 280.635 Q164.394 273.506 162.566 269.964 Q160.76 266.399 157.126 266.399 M157.126 262.696 Q162.936 262.696 165.992 267.302 Q169.07 271.885 169.07 280.635 Q169.07 289.362 165.992 293.969 Q162.936 298.552 157.126 298.552 Q151.316 298.552 148.237 293.969 Q145.181 289.362 145.181 280.635 Q145.181 271.885 148.237 267.302 Q151.316 262.696 157.126 262.696 Z\" fill=\"#000000\" fill-rule=\"evenodd\" fill-opacity=\"1\" /><polyline clip-path=\"url(#clip702)\" style=\"stroke:#009af9; stroke-width:4; stroke-opacity:1; fill:none\" points=\"\n",
       "  265.854,1243.72 307.203,280.601 348.552,87.9763 389.902,357.65 431.251,781.424 472.601,1149.72 513.95,1371.32 555.299,1445.72 596.649,1419.77 637.998,1349.94 \n",
       "  679.347,1279.64 720.697,1231.59 762.046,1210.49 803.395,1210.15 844.745,1220.72 886.094,1233.57 927.443,1243.51 968.793,1248.74 1010.14,1249.86 1051.49,1248.47 \n",
       "  1092.84,1246.23 1134.19,1244.27 1175.54,1243.07 1216.89,1242.65 1258.24,1242.78 1299.59,1243.15 1340.94,1243.52 1382.29,1243.78 1423.64,1243.9 1464.99,1243.9 \n",
       "  1506.33,1243.85 1547.68,1243.78 1589.03,1243.72 1630.38,1243.7 1671.73,1243.69 1713.08,1243.7 1754.43,1243.71 1795.78,1243.72 1837.13,1243.73 1878.48,1243.73 \n",
       "  1919.83,1243.73 1961.18,1243.73 2002.53,1243.72 2043.88,1243.72 2085.23,1243.72 2126.57,1243.72 2167.92,1243.72 2209.27,1243.72 2250.62,1243.72 2291.97,1243.72 \n",
       "  \n",
       "  \"/>\n",
       "<path clip-path=\"url(#clip700)\" d=\"\n",
       "M1991.52 216.178 L2281.17 216.178 L2281.17 95.2176 L1991.52 95.2176  Z\n",
       "  \" fill=\"#ffffff\" fill-rule=\"evenodd\" fill-opacity=\"1\"/>\n",
       "<polyline clip-path=\"url(#clip700)\" style=\"stroke:#000000; stroke-width:4; stroke-opacity:1; fill:none\" points=\"\n",
       "  1991.52,216.178 2281.17,216.178 2281.17,95.2176 1991.52,95.2176 1991.52,216.178 \n",
       "  \"/>\n",
       "<polyline clip-path=\"url(#clip700)\" style=\"stroke:#009af9; stroke-width:4; stroke-opacity:1; fill:none\" points=\"\n",
       "  2015.38,155.698 2158.56,155.698 \n",
       "  \"/>\n",
       "<path clip-path=\"url(#clip700)\" d=\"M 0 0 M2196.26 175.385 Q2194.46 180.015 2192.75 181.427 Q2191.03 182.839 2188.16 182.839 L2184.76 182.839 L2184.76 179.274 L2187.26 179.274 Q2189.02 179.274 2189.99 178.44 Q2190.96 177.607 2192.14 174.505 L2192.91 172.561 L2182.42 147.052 L2186.94 147.052 L2195.04 167.329 L2203.14 147.052 L2207.65 147.052 L2196.26 175.385 Z\" fill=\"#000000\" fill-rule=\"evenodd\" fill-opacity=\"1\" /><path clip-path=\"url(#clip700)\" d=\"M 0 0 M2213.53 169.042 L2221.17 169.042 L2221.17 142.677 L2212.86 144.343 L2212.86 140.084 L2221.13 138.418 L2225.8 138.418 L2225.8 169.042 L2233.44 169.042 L2233.44 172.978 L2213.53 172.978 L2213.53 169.042 Z\" fill=\"#000000\" fill-rule=\"evenodd\" fill-opacity=\"1\" /></svg>\n"
      ]
     },
     "execution_count": 89,
     "metadata": {},
     "output_type": "execute_result"
    }
   ],
   "source": [
    "forecast_with_lambda!(Z, 0.6 + 0.4im, 0.6 - 0.4im)\n",
    "plot(Z)"
   ]
  },
  {
   "cell_type": "code",
   "execution_count": 110,
   "metadata": {},
   "outputs": [
    {
     "data": {
      "image/svg+xml": [
       "<?xml version=\"1.0\" encoding=\"utf-8\"?>\n",
       "<svg xmlns=\"http://www.w3.org/2000/svg\" xmlns:xlink=\"http://www.w3.org/1999/xlink\" width=\"600\" height=\"400\" viewBox=\"0 0 2400 1600\">\n",
       "<defs>\n",
       "  <clipPath id=\"clip070\">\n",
       "    <rect x=\"0\" y=\"0\" width=\"2400\" height=\"1600\"/>\n",
       "  </clipPath>\n",
       "</defs>\n",
       "<path clip-path=\"url(#clip070)\" d=\"\n",
       "M0 1600 L2400 1600 L2400 0 L0 0  Z\n",
       "  \" fill=\"#ffffff\" fill-rule=\"evenodd\" fill-opacity=\"1\"/>\n",
       "<defs>\n",
       "  <clipPath id=\"clip071\">\n",
       "    <rect x=\"480\" y=\"0\" width=\"1681\" height=\"1600\"/>\n",
       "  </clipPath>\n",
       "</defs>\n",
       "<path clip-path=\"url(#clip070)\" d=\"\n",
       "M147.848 1486.45 L2352.76 1486.45 L2352.76 47.2441 L147.848 47.2441  Z\n",
       "  \" fill=\"#ffffff\" fill-rule=\"evenodd\" fill-opacity=\"1\"/>\n",
       "<defs>\n",
       "  <clipPath id=\"clip072\">\n",
       "    <rect x=\"147\" y=\"47\" width=\"2206\" height=\"1440\"/>\n",
       "  </clipPath>\n",
       "</defs>\n",
       "<polyline clip-path=\"url(#clip072)\" style=\"stroke:#000000; stroke-width:2; stroke-opacity:0.1; fill:none\" points=\"\n",
       "  189.24,1486.45 189.24,47.2441 \n",
       "  \"/>\n",
       "<polyline clip-path=\"url(#clip072)\" style=\"stroke:#000000; stroke-width:2; stroke-opacity:0.1; fill:none\" points=\"\n",
       "  714.518,1486.45 714.518,47.2441 \n",
       "  \"/>\n",
       "<polyline clip-path=\"url(#clip072)\" style=\"stroke:#000000; stroke-width:2; stroke-opacity:0.1; fill:none\" points=\"\n",
       "  1239.8,1486.45 1239.8,47.2441 \n",
       "  \"/>\n",
       "<polyline clip-path=\"url(#clip072)\" style=\"stroke:#000000; stroke-width:2; stroke-opacity:0.1; fill:none\" points=\"\n",
       "  1765.07,1486.45 1765.07,47.2441 \n",
       "  \"/>\n",
       "<polyline clip-path=\"url(#clip072)\" style=\"stroke:#000000; stroke-width:2; stroke-opacity:0.1; fill:none\" points=\"\n",
       "  2290.35,1486.45 2290.35,47.2441 \n",
       "  \"/>\n",
       "<polyline clip-path=\"url(#clip070)\" style=\"stroke:#000000; stroke-width:4; stroke-opacity:1; fill:none\" points=\"\n",
       "  147.848,1486.45 2352.76,1486.45 \n",
       "  \"/>\n",
       "<polyline clip-path=\"url(#clip070)\" style=\"stroke:#000000; stroke-width:4; stroke-opacity:1; fill:none\" points=\"\n",
       "  189.24,1486.45 189.24,1469.18 \n",
       "  \"/>\n",
       "<polyline clip-path=\"url(#clip070)\" style=\"stroke:#000000; stroke-width:4; stroke-opacity:1; fill:none\" points=\"\n",
       "  714.518,1486.45 714.518,1469.18 \n",
       "  \"/>\n",
       "<polyline clip-path=\"url(#clip070)\" style=\"stroke:#000000; stroke-width:4; stroke-opacity:1; fill:none\" points=\"\n",
       "  1239.8,1486.45 1239.8,1469.18 \n",
       "  \"/>\n",
       "<polyline clip-path=\"url(#clip070)\" style=\"stroke:#000000; stroke-width:4; stroke-opacity:1; fill:none\" points=\"\n",
       "  1765.07,1486.45 1765.07,1469.18 \n",
       "  \"/>\n",
       "<polyline clip-path=\"url(#clip070)\" style=\"stroke:#000000; stroke-width:4; stroke-opacity:1; fill:none\" points=\"\n",
       "  2290.35,1486.45 2290.35,1469.18 \n",
       "  \"/>\n",
       "<path clip-path=\"url(#clip070)\" d=\"M 0 0 M189.24 1515.64 Q185.629 1515.64 183.8 1519.2 Q181.995 1522.75 181.995 1529.87 Q181.995 1536.98 183.8 1540.55 Q185.629 1544.09 189.24 1544.09 Q192.874 1544.09 194.68 1540.55 Q196.509 1536.98 196.509 1529.87 Q196.509 1522.75 194.68 1519.2 Q192.874 1515.64 189.24 1515.64 M189.24 1511.93 Q195.05 1511.93 198.106 1516.54 Q201.185 1521.12 201.185 1529.87 Q201.185 1538.6 198.106 1543.21 Q195.05 1547.79 189.24 1547.79 Q183.43 1547.79 180.351 1543.21 Q177.296 1538.6 177.296 1529.87 Q177.296 1521.12 180.351 1516.54 Q183.43 1511.93 189.24 1511.93 Z\" fill=\"#000000\" fill-rule=\"evenodd\" fill-opacity=\"1\" /><path clip-path=\"url(#clip070)\" d=\"M 0 0 M696.162 1543.18 L712.481 1543.18 L712.481 1547.12 L690.537 1547.12 L690.537 1543.18 Q693.199 1540.43 697.782 1535.8 Q702.389 1531.15 703.569 1529.81 Q705.815 1527.28 706.694 1525.55 Q707.597 1523.79 707.597 1522.1 Q707.597 1519.34 705.653 1517.61 Q703.731 1515.87 700.63 1515.87 Q698.43 1515.87 695.977 1516.63 Q693.546 1517.4 690.768 1518.95 L690.768 1514.23 Q693.593 1513.09 696.046 1512.51 Q698.5 1511.93 700.537 1511.93 Q705.907 1511.93 709.102 1514.62 Q712.296 1517.31 712.296 1521.8 Q712.296 1523.93 711.486 1525.85 Q710.699 1527.74 708.592 1530.34 Q708.014 1531.01 704.912 1534.23 Q701.81 1537.42 696.162 1543.18 Z\" fill=\"#000000\" fill-rule=\"evenodd\" fill-opacity=\"1\" /><path clip-path=\"url(#clip070)\" d=\"M 0 0 M717.597 1512.56 L735.953 1512.56 L735.953 1516.5 L721.879 1516.5 L721.879 1524.97 Q722.898 1524.62 723.916 1524.46 Q724.935 1524.27 725.953 1524.27 Q731.74 1524.27 735.12 1527.44 Q738.5 1530.62 738.5 1536.03 Q738.5 1541.61 735.028 1544.71 Q731.555 1547.79 725.236 1547.79 Q723.06 1547.79 720.791 1547.42 Q718.546 1547.05 716.139 1546.31 L716.139 1541.61 Q718.222 1542.74 720.444 1543.3 Q722.666 1543.86 725.143 1543.86 Q729.148 1543.86 731.486 1541.75 Q733.824 1539.64 733.824 1536.03 Q733.824 1532.42 731.486 1530.31 Q729.148 1528.21 725.143 1528.21 Q723.268 1528.21 721.393 1528.62 Q719.541 1529.04 717.597 1529.92 L717.597 1512.56 Z\" fill=\"#000000\" fill-rule=\"evenodd\" fill-opacity=\"1\" /><path clip-path=\"url(#clip070)\" d=\"M 0 0 M1216.57 1512.56 L1234.92 1512.56 L1234.92 1516.5 L1220.85 1516.5 L1220.85 1524.97 Q1221.87 1524.62 1222.89 1524.46 Q1223.91 1524.27 1224.92 1524.27 Q1230.71 1524.27 1234.09 1527.44 Q1237.47 1530.62 1237.47 1536.03 Q1237.47 1541.61 1234 1544.71 Q1230.53 1547.79 1224.21 1547.79 Q1222.03 1547.79 1219.76 1547.42 Q1217.52 1547.05 1215.11 1546.31 L1215.11 1541.61 Q1217.19 1542.74 1219.41 1543.3 Q1221.64 1543.86 1224.11 1543.86 Q1228.12 1543.86 1230.46 1541.75 Q1232.79 1539.64 1232.79 1536.03 Q1232.79 1532.42 1230.46 1530.31 Q1228.12 1528.21 1224.11 1528.21 Q1222.24 1528.21 1220.36 1528.62 Q1218.51 1529.04 1216.57 1529.92 L1216.57 1512.56 Z\" fill=\"#000000\" fill-rule=\"evenodd\" fill-opacity=\"1\" /><path clip-path=\"url(#clip070)\" d=\"M 0 0 M1252.54 1515.64 Q1248.93 1515.64 1247.1 1519.2 Q1245.29 1522.75 1245.29 1529.87 Q1245.29 1536.98 1247.1 1540.55 Q1248.93 1544.09 1252.54 1544.09 Q1256.17 1544.09 1257.98 1540.55 Q1259.81 1536.98 1259.81 1529.87 Q1259.81 1522.75 1257.98 1519.2 Q1256.17 1515.64 1252.54 1515.64 M1252.54 1511.93 Q1258.35 1511.93 1261.41 1516.54 Q1264.48 1521.12 1264.48 1529.87 Q1264.48 1538.6 1261.41 1543.21 Q1258.35 1547.79 1252.54 1547.79 Q1246.73 1547.79 1243.65 1543.21 Q1240.6 1538.6 1240.6 1529.87 Q1240.6 1521.12 1243.65 1516.54 Q1246.73 1511.93 1252.54 1511.93 Z\" fill=\"#000000\" fill-rule=\"evenodd\" fill-opacity=\"1\" /><path clip-path=\"url(#clip070)\" d=\"M 0 0 M1740.95 1512.56 L1763.18 1512.56 L1763.18 1514.55 L1750.63 1547.12 L1745.75 1547.12 L1757.55 1516.5 L1740.95 1516.5 L1740.95 1512.56 Z\" fill=\"#000000\" fill-rule=\"evenodd\" fill-opacity=\"1\" /><path clip-path=\"url(#clip070)\" d=\"M 0 0 M1768.29 1512.56 L1786.65 1512.56 L1786.65 1516.5 L1772.57 1516.5 L1772.57 1524.97 Q1773.59 1524.62 1774.61 1524.46 Q1775.63 1524.27 1776.65 1524.27 Q1782.44 1524.27 1785.82 1527.44 Q1789.19 1530.62 1789.19 1536.03 Q1789.19 1541.61 1785.72 1544.71 Q1782.25 1547.79 1775.93 1547.79 Q1773.76 1547.79 1771.49 1547.42 Q1769.24 1547.05 1766.83 1546.31 L1766.83 1541.61 Q1768.92 1542.74 1771.14 1543.3 Q1773.36 1543.86 1775.84 1543.86 Q1779.84 1543.86 1782.18 1541.75 Q1784.52 1539.64 1784.52 1536.03 Q1784.52 1532.42 1782.18 1530.31 Q1779.84 1528.21 1775.84 1528.21 Q1773.96 1528.21 1772.09 1528.62 Q1770.24 1529.04 1768.29 1529.92 L1768.29 1512.56 Z\" fill=\"#000000\" fill-rule=\"evenodd\" fill-opacity=\"1\" /><path clip-path=\"url(#clip070)\" d=\"M 0 0 M2253.72 1543.18 L2261.36 1543.18 L2261.36 1516.82 L2253.05 1518.49 L2253.05 1514.23 L2261.31 1512.56 L2265.99 1512.56 L2265.99 1543.18 L2273.63 1543.18 L2273.63 1547.12 L2253.72 1547.12 L2253.72 1543.18 Z\" fill=\"#000000\" fill-rule=\"evenodd\" fill-opacity=\"1\" /><path clip-path=\"url(#clip070)\" d=\"M 0 0 M2288.7 1515.64 Q2285.09 1515.64 2283.26 1519.2 Q2281.45 1522.75 2281.45 1529.87 Q2281.45 1536.98 2283.26 1540.55 Q2285.09 1544.09 2288.7 1544.09 Q2292.33 1544.09 2294.14 1540.55 Q2295.97 1536.98 2295.97 1529.87 Q2295.97 1522.75 2294.14 1519.2 Q2292.33 1515.64 2288.7 1515.64 M2288.7 1511.93 Q2294.51 1511.93 2297.56 1516.54 Q2300.64 1521.12 2300.64 1529.87 Q2300.64 1538.6 2297.56 1543.21 Q2294.51 1547.79 2288.7 1547.79 Q2282.89 1547.79 2279.81 1543.21 Q2276.75 1538.6 2276.75 1529.87 Q2276.75 1521.12 2279.81 1516.54 Q2282.89 1511.93 2288.7 1511.93 Z\" fill=\"#000000\" fill-rule=\"evenodd\" fill-opacity=\"1\" /><path clip-path=\"url(#clip070)\" d=\"M 0 0 M2315.71 1515.64 Q2312.1 1515.64 2310.27 1519.2 Q2308.47 1522.75 2308.47 1529.87 Q2308.47 1536.98 2310.27 1540.55 Q2312.1 1544.09 2315.71 1544.09 Q2319.35 1544.09 2321.15 1540.55 Q2322.98 1536.98 2322.98 1529.87 Q2322.98 1522.75 2321.15 1519.2 Q2319.35 1515.64 2315.71 1515.64 M2315.71 1511.93 Q2321.52 1511.93 2324.58 1516.54 Q2327.66 1521.12 2327.66 1529.87 Q2327.66 1538.6 2324.58 1543.21 Q2321.52 1547.79 2315.71 1547.79 Q2309.9 1547.79 2306.82 1543.21 Q2303.77 1538.6 2303.77 1529.87 Q2303.77 1521.12 2306.82 1516.54 Q2309.9 1511.93 2315.71 1511.93 Z\" fill=\"#000000\" fill-rule=\"evenodd\" fill-opacity=\"1\" /><polyline clip-path=\"url(#clip072)\" style=\"stroke:#000000; stroke-width:2; stroke-opacity:0.1; fill:none\" points=\"\n",
       "  147.848,1445.72 2352.76,1445.72 \n",
       "  \"/>\n",
       "<polyline clip-path=\"url(#clip072)\" style=\"stroke:#000000; stroke-width:2; stroke-opacity:0.1; fill:none\" points=\"\n",
       "  147.848,1114.24 2352.76,1114.24 \n",
       "  \"/>\n",
       "<polyline clip-path=\"url(#clip072)\" style=\"stroke:#000000; stroke-width:2; stroke-opacity:0.1; fill:none\" points=\"\n",
       "  147.848,782.757 2352.76,782.757 \n",
       "  \"/>\n",
       "<polyline clip-path=\"url(#clip072)\" style=\"stroke:#000000; stroke-width:2; stroke-opacity:0.1; fill:none\" points=\"\n",
       "  147.848,451.278 2352.76,451.278 \n",
       "  \"/>\n",
       "<polyline clip-path=\"url(#clip072)\" style=\"stroke:#000000; stroke-width:2; stroke-opacity:0.1; fill:none\" points=\"\n",
       "  147.848,119.798 2352.76,119.798 \n",
       "  \"/>\n",
       "<polyline clip-path=\"url(#clip070)\" style=\"stroke:#000000; stroke-width:4; stroke-opacity:1; fill:none\" points=\"\n",
       "  147.848,1486.45 147.848,47.2441 \n",
       "  \"/>\n",
       "<polyline clip-path=\"url(#clip070)\" style=\"stroke:#000000; stroke-width:4; stroke-opacity:1; fill:none\" points=\"\n",
       "  147.848,1445.72 174.307,1445.72 \n",
       "  \"/>\n",
       "<polyline clip-path=\"url(#clip070)\" style=\"stroke:#000000; stroke-width:4; stroke-opacity:1; fill:none\" points=\"\n",
       "  147.848,1114.24 174.307,1114.24 \n",
       "  \"/>\n",
       "<polyline clip-path=\"url(#clip070)\" style=\"stroke:#000000; stroke-width:4; stroke-opacity:1; fill:none\" points=\"\n",
       "  147.848,782.757 174.307,782.757 \n",
       "  \"/>\n",
       "<polyline clip-path=\"url(#clip070)\" style=\"stroke:#000000; stroke-width:4; stroke-opacity:1; fill:none\" points=\"\n",
       "  147.848,451.278 174.307,451.278 \n",
       "  \"/>\n",
       "<polyline clip-path=\"url(#clip070)\" style=\"stroke:#000000; stroke-width:4; stroke-opacity:1; fill:none\" points=\"\n",
       "  147.848,119.798 174.307,119.798 \n",
       "  \"/>\n",
       "<path clip-path=\"url(#clip070)\" d=\"M 0 0 M62.9365 1431.51 Q59.3254 1431.51 57.4967 1435.08 Q55.6912 1438.62 55.6912 1445.75 Q55.6912 1452.86 57.4967 1456.42 Q59.3254 1459.96 62.9365 1459.96 Q66.5707 1459.96 68.3763 1456.42 Q70.205 1452.86 70.205 1445.75 Q70.205 1438.62 68.3763 1435.08 Q66.5707 1431.51 62.9365 1431.51 M62.9365 1427.81 Q68.7467 1427.81 71.8022 1432.42 Q74.8809 1437 74.8809 1445.75 Q74.8809 1454.48 71.8022 1459.08 Q68.7467 1463.67 62.9365 1463.67 Q57.1264 1463.67 54.0477 1459.08 Q50.9921 1454.48 50.9921 1445.75 Q50.9921 1437 54.0477 1432.42 Q57.1264 1427.81 62.9365 1427.81 Z\" fill=\"#000000\" fill-rule=\"evenodd\" fill-opacity=\"1\" /><path clip-path=\"url(#clip070)\" d=\"M 0 0 M79.9503 1457.12 L84.8345 1457.12 L84.8345 1463 L79.9503 1463 L79.9503 1457.12 Z\" fill=\"#000000\" fill-rule=\"evenodd\" fill-opacity=\"1\" /><path clip-path=\"url(#clip070)\" d=\"M 0 0 M99.9039 1431.51 Q96.2928 1431.51 94.4641 1435.08 Q92.6586 1438.62 92.6586 1445.75 Q92.6586 1452.86 94.4641 1456.42 Q96.2928 1459.96 99.9039 1459.96 Q103.538 1459.96 105.344 1456.42 Q107.172 1452.86 107.172 1445.75 Q107.172 1438.62 105.344 1435.08 Q103.538 1431.51 99.9039 1431.51 M99.9039 1427.81 Q105.714 1427.81 108.77 1432.42 Q111.848 1437 111.848 1445.75 Q111.848 1454.48 108.77 1459.08 Q105.714 1463.67 99.9039 1463.67 Q94.0937 1463.67 91.0151 1459.08 Q87.9595 1454.48 87.9595 1445.75 Q87.9595 1437 91.0151 1432.42 Q94.0937 1427.81 99.9039 1427.81 Z\" fill=\"#000000\" fill-rule=\"evenodd\" fill-opacity=\"1\" /><path clip-path=\"url(#clip070)\" d=\"M 0 0 M63.9319 1100.04 Q60.3208 1100.04 58.4921 1103.6 Q56.6865 1107.14 56.6865 1114.27 Q56.6865 1121.38 58.4921 1124.94 Q60.3208 1128.48 63.9319 1128.48 Q67.5661 1128.48 69.3717 1124.94 Q71.2004 1121.38 71.2004 1114.27 Q71.2004 1107.14 69.3717 1103.6 Q67.5661 1100.04 63.9319 1100.04 M63.9319 1096.33 Q69.742 1096.33 72.7976 1100.94 Q75.8763 1105.52 75.8763 1114.27 Q75.8763 1123 72.7976 1127.6 Q69.742 1132.19 63.9319 1132.19 Q58.1217 1132.19 55.043 1127.6 Q51.9875 1123 51.9875 1114.27 Q51.9875 1105.52 55.043 1100.94 Q58.1217 1096.33 63.9319 1096.33 Z\" fill=\"#000000\" fill-rule=\"evenodd\" fill-opacity=\"1\" /><path clip-path=\"url(#clip070)\" d=\"M 0 0 M80.9457 1125.64 L85.8299 1125.64 L85.8299 1131.52 L80.9457 1131.52 L80.9457 1125.64 Z\" fill=\"#000000\" fill-rule=\"evenodd\" fill-opacity=\"1\" /><path clip-path=\"url(#clip070)\" d=\"M 0 0 M90.9456 1096.96 L109.302 1096.96 L109.302 1100.89 L95.228 1100.89 L95.228 1109.36 Q96.2465 1109.02 97.265 1108.85 Q98.2835 1108.67 99.3021 1108.67 Q105.089 1108.67 108.469 1111.84 Q111.848 1115.01 111.848 1120.43 Q111.848 1126.01 108.376 1129.11 Q104.904 1132.19 98.5845 1132.19 Q96.4085 1132.19 94.14 1131.82 Q91.8947 1131.45 89.4873 1130.71 L89.4873 1126.01 Q91.5706 1127.14 93.7928 1127.7 Q96.015 1128.25 98.4919 1128.25 Q102.496 1128.25 104.834 1126.15 Q107.172 1124.04 107.172 1120.43 Q107.172 1116.82 104.834 1114.71 Q102.496 1112.6 98.4919 1112.6 Q96.6169 1112.6 94.7419 1113.02 Q92.89 1113.44 90.9456 1114.32 L90.9456 1096.96 Z\" fill=\"#000000\" fill-rule=\"evenodd\" fill-opacity=\"1\" /><path clip-path=\"url(#clip070)\" d=\"M 0 0 M54.9736 796.102 L62.6124 796.102 L62.6124 769.736 L54.3023 771.403 L54.3023 767.144 L62.5661 765.477 L67.242 765.477 L67.242 796.102 L74.8809 796.102 L74.8809 800.037 L54.9736 800.037 L54.9736 796.102 Z\" fill=\"#000000\" fill-rule=\"evenodd\" fill-opacity=\"1\" /><path clip-path=\"url(#clip070)\" d=\"M 0 0 M79.9503 794.157 L84.8345 794.157 L84.8345 800.037 L79.9503 800.037 L79.9503 794.157 Z\" fill=\"#000000\" fill-rule=\"evenodd\" fill-opacity=\"1\" /><path clip-path=\"url(#clip070)\" d=\"M 0 0 M99.9039 768.556 Q96.2928 768.556 94.4641 772.12 Q92.6586 775.662 92.6586 782.792 Q92.6586 789.898 94.4641 793.463 Q96.2928 797.005 99.9039 797.005 Q103.538 797.005 105.344 793.463 Q107.172 789.898 107.172 782.792 Q107.172 775.662 105.344 772.12 Q103.538 768.556 99.9039 768.556 M99.9039 764.852 Q105.714 764.852 108.77 769.458 Q111.848 774.042 111.848 782.792 Q111.848 791.519 108.77 796.125 Q105.714 800.708 99.9039 800.708 Q94.0937 800.708 91.0151 796.125 Q87.9595 791.519 87.9595 782.792 Q87.9595 774.042 91.0151 769.458 Q94.0937 764.852 99.9039 764.852 Z\" fill=\"#000000\" fill-rule=\"evenodd\" fill-opacity=\"1\" /><path clip-path=\"url(#clip070)\" d=\"M 0 0 M55.969 464.622 L63.6078 464.622 L63.6078 438.257 L55.2977 439.924 L55.2977 435.664 L63.5615 433.998 L68.2374 433.998 L68.2374 464.622 L75.8763 464.622 L75.8763 468.558 L55.969 468.558 L55.969 464.622 Z\" fill=\"#000000\" fill-rule=\"evenodd\" fill-opacity=\"1\" /><path clip-path=\"url(#clip070)\" d=\"M 0 0 M80.9457 462.678 L85.8299 462.678 L85.8299 468.558 L80.9457 468.558 L80.9457 462.678 Z\" fill=\"#000000\" fill-rule=\"evenodd\" fill-opacity=\"1\" /><path clip-path=\"url(#clip070)\" d=\"M 0 0 M90.9456 433.998 L109.302 433.998 L109.302 437.933 L95.228 437.933 L95.228 446.405 Q96.2465 446.058 97.265 445.896 Q98.2835 445.711 99.3021 445.711 Q105.089 445.711 108.469 448.882 Q111.848 452.053 111.848 457.47 Q111.848 463.048 108.376 466.15 Q104.904 469.229 98.5845 469.229 Q96.4085 469.229 94.14 468.859 Q91.8947 468.488 89.4873 467.747 L89.4873 463.048 Q91.5706 464.183 93.7928 464.738 Q96.015 465.294 98.4919 465.294 Q102.496 465.294 104.834 463.187 Q107.172 461.081 107.172 457.47 Q107.172 453.859 104.834 451.752 Q102.496 449.646 98.4919 449.646 Q96.6169 449.646 94.7419 450.062 Q92.89 450.479 90.9456 451.359 L90.9456 433.998 Z\" fill=\"#000000\" fill-rule=\"evenodd\" fill-opacity=\"1\" /><path clip-path=\"url(#clip070)\" d=\"M 0 0 M58.5615 133.143 L74.8809 133.143 L74.8809 137.078 L52.9366 137.078 L52.9366 133.143 Q55.5986 130.389 60.1819 125.759 Q64.7883 121.106 65.9689 119.764 Q68.2143 117.24 69.0939 115.504 Q69.9967 113.745 69.9967 112.055 Q69.9967 109.301 68.0522 107.565 Q66.1309 105.828 63.0291 105.828 Q60.83 105.828 58.3763 106.592 Q55.9458 107.356 53.168 108.907 L53.168 104.185 Q55.9921 103.051 58.4458 102.472 Q60.8995 101.893 62.9365 101.893 Q68.3068 101.893 71.5013 104.578 Q74.6957 107.264 74.6957 111.754 Q74.6957 113.884 73.8855 115.805 Q73.0985 117.703 70.992 120.296 Q70.4133 120.967 67.3115 124.185 Q64.2096 127.379 58.5615 133.143 Z\" fill=\"#000000\" fill-rule=\"evenodd\" fill-opacity=\"1\" /><path clip-path=\"url(#clip070)\" d=\"M 0 0 M79.9503 131.199 L84.8345 131.199 L84.8345 137.078 L79.9503 137.078 L79.9503 131.199 Z\" fill=\"#000000\" fill-rule=\"evenodd\" fill-opacity=\"1\" /><path clip-path=\"url(#clip070)\" d=\"M 0 0 M99.9039 105.597 Q96.2928 105.597 94.4641 109.162 Q92.6586 112.703 92.6586 119.833 Q92.6586 126.939 94.4641 130.504 Q96.2928 134.046 99.9039 134.046 Q103.538 134.046 105.344 130.504 Q107.172 126.939 107.172 119.833 Q107.172 112.703 105.344 109.162 Q103.538 105.597 99.9039 105.597 M99.9039 101.893 Q105.714 101.893 108.77 106.5 Q111.848 111.083 111.848 119.833 Q111.848 128.56 108.77 133.166 Q105.714 137.75 99.9039 137.75 Q94.0937 137.75 91.0151 133.166 Q87.9595 128.56 87.9595 119.833 Q87.9595 111.083 91.0151 106.5 Q94.0937 101.893 99.9039 101.893 Z\" fill=\"#000000\" fill-rule=\"evenodd\" fill-opacity=\"1\" /><polyline clip-path=\"url(#clip072)\" style=\"stroke:#009af9; stroke-width:4; stroke-opacity:1; fill:none\" points=\"\n",
       "  210.251,1445.72 231.262,782.757 252.274,384.982 273.285,172.835 294.296,87.9763 315.307,87.9763 336.318,142.286 357.329,229.181 378.34,333.456 399.351,444.682 \n",
       "  420.363,555.908 441.374,662.685 462.385,762.343 483.396,853.459 504.407,935.464 525.418,1008.36 546.429,1072.5 567.44,1128.49 588.452,1177 609.463,1218.8 \n",
       "  630.474,1254.63 651.485,1285.2 672.496,1311.19 693.507,1333.2 714.518,1351.79 735.529,1367.45 756.541,1380.6 777.552,1391.62 798.563,1400.83 819.574,1408.53 \n",
       "  840.585,1414.94 861.596,1420.27 882.607,1424.71 903.619,1428.38 924.63,1431.43 945.641,1433.95 966.652,1436.03 987.663,1437.76 1008.67,1439.18 1029.69,1440.35 \n",
       "  1050.7,1441.31 1071.71,1442.1 1092.72,1442.75 1113.73,1443.29 1134.74,1443.73 1155.75,1444.09 1176.76,1444.39 1197.77,1444.63 1218.79,1444.83 1239.8,1444.99 \n",
       "  1260.81,1445.12 1281.82,1445.23 1302.83,1445.32 1323.84,1445.39 1344.85,1445.45 1365.86,1445.5 1386.87,1445.54 1407.89,1445.57 1428.9,1445.6 1449.91,1445.62 \n",
       "  1470.92,1445.64 1491.93,1445.65 1512.94,1445.67 1533.95,1445.67 1554.96,1445.68 1575.97,1445.69 1596.99,1445.69 1618,1445.7 1639.01,1445.7 1660.02,1445.7 \n",
       "  1681.03,1445.71 1702.04,1445.71 1723.05,1445.71 1744.06,1445.71 1765.07,1445.71 1786.09,1445.71 1807.1,1445.71 1828.11,1445.71 1849.12,1445.71 1870.13,1445.71 \n",
       "  1891.14,1445.71 1912.15,1445.71 1933.16,1445.71 1954.17,1445.72 1975.19,1445.72 1996.2,1445.72 2017.21,1445.72 2038.22,1445.72 2059.23,1445.72 2080.24,1445.72 \n",
       "  2101.25,1445.72 2122.26,1445.72 2143.27,1445.72 2164.29,1445.72 2185.3,1445.72 2206.31,1445.72 2227.32,1445.72 2248.33,1445.72 2269.34,1445.72 2290.35,1445.72 \n",
       "  \n",
       "  \"/>\n",
       "<path clip-path=\"url(#clip070)\" d=\"\n",
       "M1983.25 216.178 L2279.26 216.178 L2279.26 95.2176 L1983.25 95.2176  Z\n",
       "  \" fill=\"#ffffff\" fill-rule=\"evenodd\" fill-opacity=\"1\"/>\n",
       "<polyline clip-path=\"url(#clip070)\" style=\"stroke:#000000; stroke-width:4; stroke-opacity:1; fill:none\" points=\"\n",
       "  1983.25,216.178 2279.26,216.178 2279.26,95.2176 1983.25,95.2176 1983.25,216.178 \n",
       "  \"/>\n",
       "<polyline clip-path=\"url(#clip070)\" style=\"stroke:#009af9; stroke-width:4; stroke-opacity:1; fill:none\" points=\"\n",
       "  2007.75,155.698 2154.74,155.698 \n",
       "  \"/>\n",
       "<path clip-path=\"url(#clip070)\" d=\"M 0 0 M2193.09 175.385 Q2191.28 180.015 2189.57 181.427 Q2187.85 182.839 2184.98 182.839 L2181.58 182.839 L2181.58 179.274 L2184.08 179.274 Q2185.84 179.274 2186.81 178.44 Q2187.78 177.607 2188.96 174.505 L2189.73 172.561 L2179.24 147.052 L2183.76 147.052 L2191.86 167.329 L2199.96 147.052 L2204.47 147.052 L2193.09 175.385 Z\" fill=\"#000000\" fill-rule=\"evenodd\" fill-opacity=\"1\" /><path clip-path=\"url(#clip070)\" d=\"M 0 0 M2210.35 169.042 L2217.99 169.042 L2217.99 142.677 L2209.68 144.343 L2209.68 140.084 L2217.95 138.418 L2222.62 138.418 L2222.62 169.042 L2230.26 169.042 L2230.26 172.978 L2210.35 172.978 L2210.35 169.042 Z\" fill=\"#000000\" fill-rule=\"evenodd\" fill-opacity=\"1\" /></svg>\n"
      ]
     },
     "execution_count": 110,
     "metadata": {},
     "output_type": "execute_result"
    }
   ],
   "source": [
    "forecast_AR2_with_lambda!(Z, 0.8, 0.8)\n",
    "plot(Z)"
   ]
  },
  {
   "cell_type": "code",
   "execution_count": null,
   "metadata": {},
   "outputs": [],
   "source": []
  },
  {
   "cell_type": "markdown",
   "metadata": {},
   "source": [
    "### Solution and stability properties\n",
    "Take a linear homogeneous difference equation with order $p$. Let $\\lambda_k$ be a root with multiplicity $m_k$. Then the solution is\n",
    "$$\n",
    "x_t = \\sum_k (c_{k1} + c_{k2}t + ... + c_{km_k}t^{m_k}) \\lambda_k^t.\n",
    "$$\n",
    "When $\\lambda$ are real, these are smooth response functions. When $\\lambda$ are complex, $x_{t}$ will oscillate"
   ]
  },
  {
   "cell_type": "code",
   "execution_count": 1,
   "metadata": {},
   "outputs": [
    {
     "data": {
      "text/plain": [
       "forecast_with_common_root! (generic function with 1 method)"
      ]
     },
     "execution_count": 1,
     "metadata": {},
     "output_type": "execute_result"
    }
   ],
   "source": [
    "function forecast_with_common_root!(X::Vector{Float64}, λ::Real)\n",
    "    # find constants fitting boundary condition\n",
    "    c1 = X[1]\n",
    "    c2 = X[2] / λ - c1\n",
    "\n",
    "    T = length(X)\n",
    "    t = map(Float64, collect(0:T-1))\n",
    "    \n",
    "    X .= (c1 .+ c2 .* t) .* λ.^t\n",
    "end"
   ]
  },
  {
   "cell_type": "code",
   "execution_count": 15,
   "metadata": {},
   "outputs": [],
   "source": [
    "using Plots"
   ]
  },
  {
   "cell_type": "code",
   "execution_count": 16,
   "metadata": {},
   "outputs": [
    {
     "ename": "UndefVarError",
     "evalue": "UndefVarError: Z not defined",
     "output_type": "error",
     "traceback": [
      "UndefVarError: Z not defined",
      "",
      "Stacktrace:",
      " [1] top-level scope at In[16]:1"
     ]
    }
   ],
   "source": [
    "forecast_with_common_root!(Z, 0.8)\n",
    "plot!(Z)"
   ]
  },
  {
   "cell_type": "code",
   "execution_count": null,
   "metadata": {},
   "outputs": [],
   "source": []
  },
  {
   "cell_type": "markdown",
   "metadata": {},
   "source": [
    "# Exercise\n",
    "> Write a function that verifies, for a given $\\lambda=\\lambda_1=\\lambda_2$ that the solution of the difference equation is the same as the forecast."
   ]
  },
  {
   "cell_type": "code",
   "execution_count": null,
   "metadata": {},
   "outputs": [],
   "source": []
  },
  {
   "cell_type": "code",
   "execution_count": null,
   "metadata": {},
   "outputs": [],
   "source": []
  },
  {
   "cell_type": "code",
   "execution_count": null,
   "metadata": {},
   "outputs": [],
   "source": []
  },
  {
   "cell_type": "markdown",
   "metadata": {},
   "source": [
    "## Two-dimensional linear systems\n",
    "Overview of [Linear Algebra Library](https://docs.julialang.org/en/v1/stdlib/LinearAlgebra/)\n",
    "\n",
    "$$\n",
    "\\begin{pmatrix} \n",
    "    x_{t1}  \\\\\n",
    "    x_{t2} \n",
    "\\end{pmatrix} \n",
    "=\n",
    "\\begin{bmatrix}\n",
    "    a_{11} & a_{12} \\\\\n",
    "    a_{21} & a_{22}\n",
    "\\end{bmatrix} \n",
    "\\begin{pmatrix} \n",
    "    x_{t-1,1}  \\\\\n",
    "    x_{t-1,2} \n",
    "\\end{pmatrix} \n",
    "+\n",
    "\\begin{pmatrix} \n",
    "    b_{1}  \\\\\n",
    "    b_{2} \n",
    "\\end{pmatrix} \n",
    "$$\n",
    "\n",
    "$$\n",
    "\\mathbf x_t =\n",
    "\\mathbf A\n",
    "\\mathbf x_{t-1}\n",
    "+ \\mathbf b\n",
    "$$\n",
    "Again, we will assume $\\mathbf b = 0$.\n",
    "\n",
    "Forecasting multiple periods,\n",
    "$$\n",
    "\\mathbf x_t \n",
    "=\n",
    "\\mathbf A^2\n",
    "\\mathbf x_{t-2}\n",
    "=\n",
    "\\mathbf A^t\n",
    "\\mathbf x_{0}.\n",
    "$$"
   ]
  },
  {
   "cell_type": "code",
   "execution_count": 10,
   "metadata": {},
   "outputs": [
    {
     "data": {
      "text/plain": [
       "forecast_ndim_AR1! (generic function with 1 method)"
      ]
     },
     "execution_count": 10,
     "metadata": {},
     "output_type": "execute_result"
    }
   ],
   "source": [
    "function forecast_ndim_AR1!(x::Array{Float64, 2}, A::Array{Float64, 2})\n",
    "    # FIXME: use type for square matrix?\n",
    "    \n",
    "    # second dimension in rows\n",
    "    # use tuple unpacking and throwaway assignment\n",
    "    _, T = size(x)\n",
    "    \n",
    "    for t = 2:T\n",
    "        # FIXME: make sure muliplication makes sense\n",
    "        x[:, t] = A * x[:, t-1]\n",
    "    end\n",
    "end"
   ]
  },
  {
   "cell_type": "code",
   "execution_count": 24,
   "metadata": {},
   "outputs": [
    {
     "data": {
      "text/plain": [
       "2×30 Array{Float64,2}:\n",
       " 1.0  0.0  0.0  0.0  0.0  0.0  0.0  0.0  …  0.0  0.0  0.0  0.0  0.0  0.0  0.0\n",
       " 1.0  0.0  0.0  0.0  0.0  0.0  0.0  0.0     0.0  0.0  0.0  0.0  0.0  0.0  0.0"
      ]
     },
     "execution_count": 24,
     "metadata": {},
     "output_type": "execute_result"
    }
   ],
   "source": [
    "x = zeros(2, 30)\n",
    "x[:, 1] = [1.0; 1.0]\n",
    "x"
   ]
  },
  {
   "cell_type": "code",
   "execution_count": 25,
   "metadata": {},
   "outputs": [
    {
     "data": {
      "text/plain": [
       "2×30 Array{Float64,2}:\n",
       " 0.8  0.0  0.0  0.0  0.0  0.0  0.0  0.0  …  0.0  0.0  0.0  0.0  0.0  0.0  0.0\n",
       " 1.0  0.0  0.0  0.0  0.0  0.0  0.0  0.0     0.0  0.0  0.0  0.0  0.0  0.0  0.0"
      ]
     },
     "execution_count": 25,
     "metadata": {},
     "output_type": "execute_result"
    }
   ],
   "source": [
    "A = [0.9 -0.1; 0.1 0.9]\n",
    "A * x"
   ]
  },
  {
   "cell_type": "code",
   "execution_count": 26,
   "metadata": {},
   "outputs": [],
   "source": [
    "using Plots"
   ]
  },
  {
   "cell_type": "code",
   "execution_count": 27,
   "metadata": {},
   "outputs": [
    {
     "data": {
      "image/svg+xml": [
       "<?xml version=\"1.0\" encoding=\"utf-8\"?>\n",
       "<svg xmlns=\"http://www.w3.org/2000/svg\" xmlns:xlink=\"http://www.w3.org/1999/xlink\" width=\"600\" height=\"400\" viewBox=\"0 0 2400 1600\">\n",
       "<defs>\n",
       "  <clipPath id=\"clip290\">\n",
       "    <rect x=\"0\" y=\"0\" width=\"2400\" height=\"1600\"/>\n",
       "  </clipPath>\n",
       "</defs>\n",
       "<path clip-path=\"url(#clip290)\" d=\"\n",
       "M0 1600 L2400 1600 L2400 0 L0 0  Z\n",
       "  \" fill=\"#ffffff\" fill-rule=\"evenodd\" fill-opacity=\"1\"/>\n",
       "<defs>\n",
       "  <clipPath id=\"clip291\">\n",
       "    <rect x=\"480\" y=\"0\" width=\"1681\" height=\"1600\"/>\n",
       "  </clipPath>\n",
       "</defs>\n",
       "<path clip-path=\"url(#clip290)\" d=\"\n",
       "M148.01 1486.45 L2352.76 1486.45 L2352.76 47.2441 L148.01 47.2441  Z\n",
       "  \" fill=\"#ffffff\" fill-rule=\"evenodd\" fill-opacity=\"1\"/>\n",
       "<defs>\n",
       "  <clipPath id=\"clip292\">\n",
       "    <rect x=\"148\" y=\"47\" width=\"2206\" height=\"1440\"/>\n",
       "  </clipPath>\n",
       "</defs>\n",
       "<polyline clip-path=\"url(#clip292)\" style=\"stroke:#000000; stroke-width:2; stroke-opacity:0.1; fill:none\" points=\"\n",
       "  497.298,1486.45 497.298,47.2441 \n",
       "  \"/>\n",
       "<polyline clip-path=\"url(#clip292)\" style=\"stroke:#000000; stroke-width:2; stroke-opacity:0.1; fill:none\" points=\"\n",
       "  855.91,1486.45 855.91,47.2441 \n",
       "  \"/>\n",
       "<polyline clip-path=\"url(#clip292)\" style=\"stroke:#000000; stroke-width:2; stroke-opacity:0.1; fill:none\" points=\"\n",
       "  1214.52,1486.45 1214.52,47.2441 \n",
       "  \"/>\n",
       "<polyline clip-path=\"url(#clip292)\" style=\"stroke:#000000; stroke-width:2; stroke-opacity:0.1; fill:none\" points=\"\n",
       "  1573.13,1486.45 1573.13,47.2441 \n",
       "  \"/>\n",
       "<polyline clip-path=\"url(#clip292)\" style=\"stroke:#000000; stroke-width:2; stroke-opacity:0.1; fill:none\" points=\"\n",
       "  1931.75,1486.45 1931.75,47.2441 \n",
       "  \"/>\n",
       "<polyline clip-path=\"url(#clip292)\" style=\"stroke:#000000; stroke-width:2; stroke-opacity:0.1; fill:none\" points=\"\n",
       "  2290.36,1486.45 2290.36,47.2441 \n",
       "  \"/>\n",
       "<polyline clip-path=\"url(#clip290)\" style=\"stroke:#000000; stroke-width:4; stroke-opacity:1; fill:none\" points=\"\n",
       "  148.01,1486.45 2352.76,1486.45 \n",
       "  \"/>\n",
       "<polyline clip-path=\"url(#clip290)\" style=\"stroke:#000000; stroke-width:4; stroke-opacity:1; fill:none\" points=\"\n",
       "  497.298,1486.45 497.298,1469.18 \n",
       "  \"/>\n",
       "<polyline clip-path=\"url(#clip290)\" style=\"stroke:#000000; stroke-width:4; stroke-opacity:1; fill:none\" points=\"\n",
       "  855.91,1486.45 855.91,1469.18 \n",
       "  \"/>\n",
       "<polyline clip-path=\"url(#clip290)\" style=\"stroke:#000000; stroke-width:4; stroke-opacity:1; fill:none\" points=\"\n",
       "  1214.52,1486.45 1214.52,1469.18 \n",
       "  \"/>\n",
       "<polyline clip-path=\"url(#clip290)\" style=\"stroke:#000000; stroke-width:4; stroke-opacity:1; fill:none\" points=\"\n",
       "  1573.13,1486.45 1573.13,1469.18 \n",
       "  \"/>\n",
       "<polyline clip-path=\"url(#clip290)\" style=\"stroke:#000000; stroke-width:4; stroke-opacity:1; fill:none\" points=\"\n",
       "  1931.75,1486.45 1931.75,1469.18 \n",
       "  \"/>\n",
       "<polyline clip-path=\"url(#clip290)\" style=\"stroke:#000000; stroke-width:4; stroke-opacity:1; fill:none\" points=\"\n",
       "  2290.36,1486.45 2290.36,1469.18 \n",
       "  \"/>\n",
       "<path clip-path=\"url(#clip290)\" d=\"M 0 0 M487.576 1512.56 L505.932 1512.56 L505.932 1516.5 L491.858 1516.5 L491.858 1524.97 Q492.877 1524.62 493.895 1524.46 Q494.914 1524.27 495.933 1524.27 Q501.72 1524.27 505.099 1527.44 Q508.479 1530.62 508.479 1536.03 Q508.479 1541.61 505.007 1544.71 Q501.534 1547.79 495.215 1547.79 Q493.039 1547.79 490.771 1547.42 Q488.525 1547.05 486.118 1546.31 L486.118 1541.61 Q488.201 1542.74 490.423 1543.3 Q492.645 1543.86 495.122 1543.86 Q499.127 1543.86 501.465 1541.75 Q503.803 1539.64 503.803 1536.03 Q503.803 1532.42 501.465 1530.31 Q499.127 1528.21 495.122 1528.21 Q493.247 1528.21 491.372 1528.62 Q489.521 1529.04 487.576 1529.92 L487.576 1512.56 Z\" fill=\"#000000\" fill-rule=\"evenodd\" fill-opacity=\"1\" /><path clip-path=\"url(#clip290)\" d=\"M 0 0 M832.785 1543.18 L840.424 1543.18 L840.424 1516.82 L832.114 1518.49 L832.114 1514.23 L840.378 1512.56 L845.054 1512.56 L845.054 1543.18 L852.693 1543.18 L852.693 1547.12 L832.785 1547.12 L832.785 1543.18 Z\" fill=\"#000000\" fill-rule=\"evenodd\" fill-opacity=\"1\" /><path clip-path=\"url(#clip290)\" d=\"M 0 0 M867.762 1515.64 Q864.151 1515.64 862.322 1519.2 Q860.517 1522.75 860.517 1529.87 Q860.517 1536.98 862.322 1540.55 Q864.151 1544.09 867.762 1544.09 Q871.396 1544.09 873.202 1540.55 Q875.03 1536.98 875.03 1529.87 Q875.03 1522.75 873.202 1519.2 Q871.396 1515.64 867.762 1515.64 M867.762 1511.93 Q873.572 1511.93 876.628 1516.54 Q879.706 1521.12 879.706 1529.87 Q879.706 1538.6 876.628 1543.21 Q873.572 1547.79 867.762 1547.79 Q861.952 1547.79 858.873 1543.21 Q855.817 1538.6 855.817 1529.87 Q855.817 1521.12 858.873 1516.54 Q861.952 1511.93 867.762 1511.93 Z\" fill=\"#000000\" fill-rule=\"evenodd\" fill-opacity=\"1\" /><path clip-path=\"url(#clip290)\" d=\"M 0 0 M1191.89 1543.18 L1199.53 1543.18 L1199.53 1516.82 L1191.22 1518.49 L1191.22 1514.23 L1199.49 1512.56 L1204.16 1512.56 L1204.16 1543.18 L1211.8 1543.18 L1211.8 1547.12 L1191.89 1547.12 L1191.89 1543.18 Z\" fill=\"#000000\" fill-rule=\"evenodd\" fill-opacity=\"1\" /><path clip-path=\"url(#clip290)\" d=\"M 0 0 M1216.92 1512.56 L1235.27 1512.56 L1235.27 1516.5 L1221.2 1516.5 L1221.2 1524.97 Q1222.22 1524.62 1223.24 1524.46 Q1224.26 1524.27 1225.27 1524.27 Q1231.06 1524.27 1234.44 1527.44 Q1237.82 1530.62 1237.82 1536.03 Q1237.82 1541.61 1234.35 1544.71 Q1230.88 1547.79 1224.56 1547.79 Q1222.38 1547.79 1220.11 1547.42 Q1217.87 1547.05 1215.46 1546.31 L1215.46 1541.61 Q1217.54 1542.74 1219.76 1543.3 Q1221.99 1543.86 1224.46 1543.86 Q1228.47 1543.86 1230.81 1541.75 Q1233.14 1539.64 1233.14 1536.03 Q1233.14 1532.42 1230.81 1530.31 Q1228.47 1528.21 1224.46 1528.21 Q1222.59 1528.21 1220.71 1528.62 Q1218.86 1529.04 1216.92 1529.92 L1216.92 1512.56 Z\" fill=\"#000000\" fill-rule=\"evenodd\" fill-opacity=\"1\" /><path clip-path=\"url(#clip290)\" d=\"M 0 0 M1554.28 1543.18 L1570.6 1543.18 L1570.6 1547.12 L1548.65 1547.12 L1548.65 1543.18 Q1551.32 1540.43 1555.9 1535.8 Q1560.51 1531.15 1561.69 1529.81 Q1563.93 1527.28 1564.81 1525.55 Q1565.71 1523.79 1565.71 1522.1 Q1565.71 1519.34 1563.77 1517.61 Q1561.85 1515.87 1558.75 1515.87 Q1556.55 1515.87 1554.09 1516.63 Q1551.66 1517.4 1548.89 1518.95 L1548.89 1514.23 Q1551.71 1513.09 1554.16 1512.51 Q1556.62 1511.93 1558.65 1511.93 Q1564.03 1511.93 1567.22 1514.62 Q1570.41 1517.31 1570.41 1521.8 Q1570.41 1523.93 1569.6 1525.85 Q1568.82 1527.74 1566.71 1530.34 Q1566.13 1531.01 1563.03 1534.23 Q1559.93 1537.42 1554.28 1543.18 Z\" fill=\"#000000\" fill-rule=\"evenodd\" fill-opacity=\"1\" /><path clip-path=\"url(#clip290)\" d=\"M 0 0 M1585.67 1515.64 Q1582.06 1515.64 1580.23 1519.2 Q1578.42 1522.75 1578.42 1529.87 Q1578.42 1536.98 1580.23 1540.55 Q1582.06 1544.09 1585.67 1544.09 Q1589.3 1544.09 1591.11 1540.55 Q1592.94 1536.98 1592.94 1529.87 Q1592.94 1522.75 1591.11 1519.2 Q1589.3 1515.64 1585.67 1515.64 M1585.67 1511.93 Q1591.48 1511.93 1594.53 1516.54 Q1597.61 1521.12 1597.61 1529.87 Q1597.61 1538.6 1594.53 1543.21 Q1591.48 1547.79 1585.67 1547.79 Q1579.86 1547.79 1576.78 1543.21 Q1573.72 1538.6 1573.72 1529.87 Q1573.72 1521.12 1576.78 1516.54 Q1579.86 1511.93 1585.67 1511.93 Z\" fill=\"#000000\" fill-rule=\"evenodd\" fill-opacity=\"1\" /><path clip-path=\"url(#clip290)\" d=\"M 0 0 M1913.39 1543.18 L1929.71 1543.18 L1929.71 1547.12 L1907.76 1547.12 L1907.76 1543.18 Q1910.43 1540.43 1915.01 1535.8 Q1919.62 1531.15 1920.8 1529.81 Q1923.04 1527.28 1923.92 1525.55 Q1924.82 1523.79 1924.82 1522.1 Q1924.82 1519.34 1922.88 1517.61 Q1920.96 1515.87 1917.86 1515.87 Q1915.66 1515.87 1913.2 1516.63 Q1910.77 1517.4 1908 1518.95 L1908 1514.23 Q1910.82 1513.09 1913.27 1512.51 Q1915.73 1511.93 1917.76 1511.93 Q1923.13 1511.93 1926.33 1514.62 Q1929.52 1517.31 1929.52 1521.8 Q1929.52 1523.93 1928.71 1525.85 Q1927.93 1527.74 1925.82 1530.34 Q1925.24 1531.01 1922.14 1534.23 Q1919.04 1537.42 1913.39 1543.18 Z\" fill=\"#000000\" fill-rule=\"evenodd\" fill-opacity=\"1\" /><path clip-path=\"url(#clip290)\" d=\"M 0 0 M1934.82 1512.56 L1953.18 1512.56 L1953.18 1516.5 L1939.11 1516.5 L1939.11 1524.97 Q1940.13 1524.62 1941.14 1524.46 Q1942.16 1524.27 1943.18 1524.27 Q1948.97 1524.27 1952.35 1527.44 Q1955.73 1530.62 1955.73 1536.03 Q1955.73 1541.61 1952.25 1544.71 Q1948.78 1547.79 1942.46 1547.79 Q1940.29 1547.79 1938.02 1547.42 Q1935.77 1547.05 1933.37 1546.31 L1933.37 1541.61 Q1935.45 1542.74 1937.67 1543.3 Q1939.89 1543.86 1942.37 1543.86 Q1946.38 1543.86 1948.71 1541.75 Q1951.05 1539.64 1951.05 1536.03 Q1951.05 1532.42 1948.71 1530.31 Q1946.38 1528.21 1942.37 1528.21 Q1940.5 1528.21 1938.62 1528.62 Q1936.77 1529.04 1934.82 1529.92 L1934.82 1512.56 Z\" fill=\"#000000\" fill-rule=\"evenodd\" fill-opacity=\"1\" /><path clip-path=\"url(#clip290)\" d=\"M 0 0 M2281.1 1528.49 Q2284.45 1529.2 2286.33 1531.47 Q2288.23 1533.74 2288.23 1537.07 Q2288.23 1542.19 2284.71 1544.99 Q2281.19 1547.79 2274.71 1547.79 Q2272.53 1547.79 2270.22 1547.35 Q2267.93 1546.93 2265.47 1546.08 L2265.47 1541.56 Q2267.42 1542.7 2269.73 1543.28 Q2272.05 1543.86 2274.57 1543.86 Q2278.97 1543.86 2281.26 1542.12 Q2283.58 1540.38 2283.58 1537.07 Q2283.58 1534.02 2281.42 1532.31 Q2279.29 1530.57 2275.47 1530.57 L2271.45 1530.57 L2271.45 1526.73 L2275.66 1526.73 Q2279.11 1526.73 2280.94 1525.36 Q2282.76 1523.97 2282.76 1521.38 Q2282.76 1518.72 2280.87 1517.31 Q2278.99 1515.87 2275.47 1515.87 Q2273.55 1515.87 2271.35 1516.29 Q2269.15 1516.7 2266.51 1517.58 L2266.51 1513.42 Q2269.18 1512.68 2271.49 1512.31 Q2273.83 1511.93 2275.89 1511.93 Q2281.21 1511.93 2284.32 1514.37 Q2287.42 1516.77 2287.42 1520.89 Q2287.42 1523.76 2285.77 1525.75 Q2284.13 1527.72 2281.1 1528.49 Z\" fill=\"#000000\" fill-rule=\"evenodd\" fill-opacity=\"1\" /><path clip-path=\"url(#clip290)\" d=\"M 0 0 M2303.3 1515.64 Q2299.69 1515.64 2297.86 1519.2 Q2296.05 1522.75 2296.05 1529.87 Q2296.05 1536.98 2297.86 1540.55 Q2299.69 1544.09 2303.3 1544.09 Q2306.93 1544.09 2308.74 1540.55 Q2310.57 1536.98 2310.57 1529.87 Q2310.57 1522.75 2308.74 1519.2 Q2306.93 1515.64 2303.3 1515.64 M2303.3 1511.93 Q2309.11 1511.93 2312.16 1516.54 Q2315.24 1521.12 2315.24 1529.87 Q2315.24 1538.6 2312.16 1543.21 Q2309.11 1547.79 2303.3 1547.79 Q2297.49 1547.79 2294.41 1543.21 Q2291.35 1538.6 2291.35 1529.87 Q2291.35 1521.12 2294.41 1516.54 Q2297.49 1511.93 2303.3 1511.93 Z\" fill=\"#000000\" fill-rule=\"evenodd\" fill-opacity=\"1\" /><polyline clip-path=\"url(#clip292)\" style=\"stroke:#000000; stroke-width:2; stroke-opacity:0.1; fill:none\" points=\"\n",
       "  148.01,1178.6 2352.76,1178.6 \n",
       "  \"/>\n",
       "<polyline clip-path=\"url(#clip292)\" style=\"stroke:#000000; stroke-width:2; stroke-opacity:0.1; fill:none\" points=\"\n",
       "  148.01,851.412 2352.76,851.412 \n",
       "  \"/>\n",
       "<polyline clip-path=\"url(#clip292)\" style=\"stroke:#000000; stroke-width:2; stroke-opacity:0.1; fill:none\" points=\"\n",
       "  148.01,524.225 2352.76,524.225 \n",
       "  \"/>\n",
       "<polyline clip-path=\"url(#clip292)\" style=\"stroke:#000000; stroke-width:2; stroke-opacity:0.1; fill:none\" points=\"\n",
       "  148.01,197.039 2352.76,197.039 \n",
       "  \"/>\n",
       "<polyline clip-path=\"url(#clip290)\" style=\"stroke:#000000; stroke-width:4; stroke-opacity:1; fill:none\" points=\"\n",
       "  148.01,1486.45 148.01,47.2441 \n",
       "  \"/>\n",
       "<polyline clip-path=\"url(#clip290)\" style=\"stroke:#000000; stroke-width:4; stroke-opacity:1; fill:none\" points=\"\n",
       "  148.01,1178.6 174.467,1178.6 \n",
       "  \"/>\n",
       "<polyline clip-path=\"url(#clip290)\" style=\"stroke:#000000; stroke-width:4; stroke-opacity:1; fill:none\" points=\"\n",
       "  148.01,851.412 174.467,851.412 \n",
       "  \"/>\n",
       "<polyline clip-path=\"url(#clip290)\" style=\"stroke:#000000; stroke-width:4; stroke-opacity:1; fill:none\" points=\"\n",
       "  148.01,524.225 174.467,524.225 \n",
       "  \"/>\n",
       "<polyline clip-path=\"url(#clip290)\" style=\"stroke:#000000; stroke-width:4; stroke-opacity:1; fill:none\" points=\"\n",
       "  148.01,197.039 174.467,197.039 \n",
       "  \"/>\n",
       "<path clip-path=\"url(#clip290)\" d=\"M 0 0 M63.0985 1164.4 Q59.4875 1164.4 57.6588 1167.96 Q55.8532 1171.5 55.8532 1178.63 Q55.8532 1185.74 57.6588 1189.31 Q59.4875 1192.85 63.0985 1192.85 Q66.7328 1192.85 68.5383 1189.31 Q70.367 1185.74 70.367 1178.63 Q70.367 1171.5 68.5383 1167.96 Q66.7328 1164.4 63.0985 1164.4 M63.0985 1160.69 Q68.9087 1160.69 71.9642 1165.3 Q75.0429 1169.88 75.0429 1178.63 Q75.0429 1187.36 71.9642 1191.97 Q68.9087 1196.55 63.0985 1196.55 Q57.2884 1196.55 54.2097 1191.97 Q51.1542 1187.36 51.1542 1178.63 Q51.1542 1169.88 54.2097 1165.3 Q57.2884 1160.69 63.0985 1160.69 Z\" fill=\"#000000\" fill-rule=\"evenodd\" fill-opacity=\"1\" /><path clip-path=\"url(#clip290)\" d=\"M 0 0 M80.1123 1190 L84.9966 1190 L84.9966 1195.88 L80.1123 1195.88 L80.1123 1190 Z\" fill=\"#000000\" fill-rule=\"evenodd\" fill-opacity=\"1\" /><path clip-path=\"url(#clip290)\" d=\"M 0 0 M100.066 1164.4 Q96.4548 1164.4 94.6262 1167.96 Q92.8206 1171.5 92.8206 1178.63 Q92.8206 1185.74 94.6262 1189.31 Q96.4548 1192.85 100.066 1192.85 Q103.7 1192.85 105.506 1189.31 Q107.334 1185.74 107.334 1178.63 Q107.334 1171.5 105.506 1167.96 Q103.7 1164.4 100.066 1164.4 M100.066 1160.69 Q105.876 1160.69 108.932 1165.3 Q112.01 1169.88 112.01 1178.63 Q112.01 1187.36 108.932 1191.97 Q105.876 1196.55 100.066 1196.55 Q94.2558 1196.55 91.1771 1191.97 Q88.1216 1187.36 88.1216 1178.63 Q88.1216 1169.88 91.1771 1165.3 Q94.2558 1160.69 100.066 1160.69 Z\" fill=\"#000000\" fill-rule=\"evenodd\" fill-opacity=\"1\" /><path clip-path=\"url(#clip290)\" d=\"M 0 0 M63.7467 837.211 Q60.1356 837.211 58.3069 840.776 Q56.5014 844.317 56.5014 851.447 Q56.5014 858.554 58.3069 862.118 Q60.1356 865.66 63.7467 865.66 Q67.3809 865.66 69.1865 862.118 Q71.0152 858.554 71.0152 851.447 Q71.0152 844.317 69.1865 840.776 Q67.3809 837.211 63.7467 837.211 M63.7467 833.507 Q69.5568 833.507 72.6124 838.114 Q75.6911 842.697 75.6911 851.447 Q75.6911 860.174 72.6124 864.78 Q69.5568 869.364 63.7467 869.364 Q57.9365 869.364 54.8578 864.78 Q51.8023 860.174 51.8023 851.447 Q51.8023 842.697 54.8578 838.114 Q57.9365 833.507 63.7467 833.507 Z\" fill=\"#000000\" fill-rule=\"evenodd\" fill-opacity=\"1\" /><path clip-path=\"url(#clip290)\" d=\"M 0 0 M80.7605 862.813 L85.6447 862.813 L85.6447 868.692 L80.7605 868.692 L80.7605 862.813 Z\" fill=\"#000000\" fill-rule=\"evenodd\" fill-opacity=\"1\" /><path clip-path=\"url(#clip290)\" d=\"M 0 0 M104.881 850.058 Q108.237 850.776 110.112 853.044 Q112.01 855.313 112.01 858.646 Q112.01 863.762 108.492 866.563 Q104.973 869.364 98.4919 869.364 Q96.316 869.364 94.0012 868.924 Q91.7095 868.507 89.2558 867.651 L89.2558 863.137 Q91.2002 864.271 93.515 864.85 Q95.8298 865.428 98.353 865.428 Q102.751 865.428 105.043 863.692 Q107.358 861.956 107.358 858.646 Q107.358 855.591 105.205 853.878 Q103.075 852.142 99.2558 852.142 L95.228 852.142 L95.228 848.299 L99.4409 848.299 Q102.89 848.299 104.719 846.933 Q106.547 845.544 106.547 842.952 Q106.547 840.29 104.649 838.878 Q102.774 837.443 99.2558 837.443 Q97.3345 837.443 95.1354 837.859 Q92.9363 838.276 90.2975 839.155 L90.2975 834.989 Q92.9595 834.248 95.2743 833.878 Q97.6122 833.507 99.6724 833.507 Q104.996 833.507 108.098 835.938 Q111.2 838.345 111.2 842.466 Q111.2 845.336 109.557 847.327 Q107.913 849.294 104.881 850.058 Z\" fill=\"#000000\" fill-rule=\"evenodd\" fill-opacity=\"1\" /><path clip-path=\"url(#clip290)\" d=\"M 0 0 M62.9365 510.024 Q59.3254 510.024 57.4967 513.589 Q55.6912 517.131 55.6912 524.26 Q55.6912 531.367 57.4967 534.931 Q59.3254 538.473 62.9365 538.473 Q66.5707 538.473 68.3763 534.931 Q70.205 531.367 70.205 524.26 Q70.205 517.131 68.3763 513.589 Q66.5707 510.024 62.9365 510.024 M62.9365 506.32 Q68.7467 506.32 71.8022 510.927 Q74.8809 515.51 74.8809 524.26 Q74.8809 532.987 71.8022 537.593 Q68.7467 542.177 62.9365 542.177 Q57.1264 542.177 54.0477 537.593 Q50.9921 532.987 50.9921 524.26 Q50.9921 515.51 54.0477 510.927 Q57.1264 506.32 62.9365 506.32 Z\" fill=\"#000000\" fill-rule=\"evenodd\" fill-opacity=\"1\" /><path clip-path=\"url(#clip290)\" d=\"M 0 0 M79.9503 535.626 L84.8345 535.626 L84.8345 541.505 L79.9503 541.505 L79.9503 535.626 Z\" fill=\"#000000\" fill-rule=\"evenodd\" fill-opacity=\"1\" /><path clip-path=\"url(#clip290)\" d=\"M 0 0 M100.483 522.362 Q97.3345 522.362 95.4826 524.515 Q93.6539 526.668 93.6539 530.418 Q93.6539 534.144 95.4826 536.32 Q97.3345 538.473 100.483 538.473 Q103.631 538.473 105.459 536.32 Q107.311 534.144 107.311 530.418 Q107.311 526.668 105.459 524.515 Q103.631 522.362 100.483 522.362 M109.765 507.709 L109.765 511.969 Q108.006 511.135 106.2 510.695 Q104.418 510.256 102.659 510.256 Q98.0289 510.256 95.5752 513.381 Q93.1447 516.506 92.7975 522.825 Q94.1632 520.811 96.2234 519.746 Q98.2835 518.658 100.76 518.658 Q105.969 518.658 108.978 521.83 Q112.01 524.978 112.01 530.418 Q112.01 535.742 108.862 538.959 Q105.714 542.177 100.483 542.177 Q94.4873 542.177 91.316 537.593 Q88.1447 532.987 88.1447 524.26 Q88.1447 516.066 92.0336 511.205 Q95.9224 506.32 102.473 506.32 Q104.233 506.32 106.015 506.668 Q107.821 507.015 109.765 507.709 Z\" fill=\"#000000\" fill-rule=\"evenodd\" fill-opacity=\"1\" /><path clip-path=\"url(#clip290)\" d=\"M 0 0 M63.2837 182.837 Q59.6726 182.837 57.8439 186.402 Q56.0384 189.944 56.0384 197.073 Q56.0384 204.18 57.8439 207.745 Q59.6726 211.286 63.2837 211.286 Q66.918 211.286 68.7235 207.745 Q70.5522 204.18 70.5522 197.073 Q70.5522 189.944 68.7235 186.402 Q66.918 182.837 63.2837 182.837 M63.2837 179.134 Q69.0939 179.134 72.1494 183.74 Q75.2281 188.323 75.2281 197.073 Q75.2281 205.8 72.1494 210.407 Q69.0939 214.99 63.2837 214.99 Q57.4736 214.99 54.3949 210.407 Q51.3393 205.8 51.3393 197.073 Q51.3393 188.323 54.3949 183.74 Q57.4736 179.134 63.2837 179.134 Z\" fill=\"#000000\" fill-rule=\"evenodd\" fill-opacity=\"1\" /><path clip-path=\"url(#clip290)\" d=\"M 0 0 M80.2975 208.439 L85.1818 208.439 L85.1818 214.319 L80.2975 214.319 L80.2975 208.439 Z\" fill=\"#000000\" fill-rule=\"evenodd\" fill-opacity=\"1\" /><path clip-path=\"url(#clip290)\" d=\"M 0 0 M90.3901 213.601 L90.3901 209.342 Q92.1493 210.175 93.9549 210.615 Q95.7604 211.055 97.4965 211.055 Q102.126 211.055 104.557 207.953 Q107.01 204.828 107.358 198.485 Q106.015 200.476 103.955 201.541 Q101.895 202.606 99.3946 202.606 Q94.2095 202.606 91.1771 199.481 Q88.1679 196.333 88.1679 190.893 Q88.1679 185.569 91.316 182.351 Q94.4641 179.134 99.6956 179.134 Q105.691 179.134 108.839 183.74 Q112.01 188.323 112.01 197.073 Q112.01 205.245 108.121 210.129 Q104.256 214.99 97.7048 214.99 Q95.9456 214.99 94.14 214.643 Q92.3345 214.295 90.3901 213.601 M99.6956 198.948 Q102.844 198.948 104.672 196.796 Q106.524 194.643 106.524 190.893 Q106.524 187.166 104.672 185.013 Q102.844 182.837 99.6956 182.837 Q96.5474 182.837 94.6956 185.013 Q92.8669 187.166 92.8669 190.893 Q92.8669 194.643 94.6956 196.796 Q96.5474 198.948 99.6956 198.948 Z\" fill=\"#000000\" fill-rule=\"evenodd\" fill-opacity=\"1\" /><polyline clip-path=\"url(#clip292)\" style=\"stroke:#009af9; stroke-width:4; stroke-opacity:1; fill:none\" points=\"\n",
       "  210.409,87.9763 282.131,306.101 353.854,502.413 425.576,676.913 497.298,830.036 569.021,962.569 640.743,1075.57 712.465,1170.28 784.188,1248.12 855.91,1310.55 \n",
       "  927.632,1359.11 999.355,1395.32 1071.08,1420.67 1142.8,1436.62 1214.52,1444.54 1286.24,1445.72 1357.97,1441.34 1429.69,1432.49 1501.41,1420.16 1573.13,1405.22 \n",
       "  1644.86,1388.43 1716.58,1370.47 1788.3,1351.9 1860.02,1333.21 1931.75,1314.8 2003.47,1296.97 2075.19,1279.98 2146.91,1264.03 2218.64,1249.24 2290.36,1235.69 \n",
       "  \n",
       "  \"/>\n",
       "<polyline clip-path=\"url(#clip292)\" style=\"stroke:#e26f46; stroke-width:4; stroke-opacity:1; fill:none\" points=\"\n",
       "  210.409,87.9763 282.131,87.9763 353.854,109.789 425.576,149.051 497.298,201.837 569.021,264.657 640.743,334.448 712.465,408.56 784.188,484.733 855.91,561.071 \n",
       "  927.632,636.02 999.355,708.329 1071.08,777.028 1142.8,841.392 1214.52,900.915 1286.24,955.278 1357.97,1004.32 1429.69,1048.02 1501.41,1086.47 1573.13,1119.84 \n",
       "  1644.86,1148.38 1716.58,1172.38 1788.3,1192.19 1860.02,1208.16 1931.75,1220.67 2003.47,1230.08 2075.19,1236.77 2146.91,1241.09 2218.64,1243.38 2290.36,1243.97 \n",
       "  \n",
       "  \"/>\n",
       "<path clip-path=\"url(#clip290)\" d=\"\n",
       "M1983.27 276.658 L2279.26 276.658 L2279.26 95.2176 L1983.27 95.2176  Z\n",
       "  \" fill=\"#ffffff\" fill-rule=\"evenodd\" fill-opacity=\"1\"/>\n",
       "<polyline clip-path=\"url(#clip290)\" style=\"stroke:#000000; stroke-width:4; stroke-opacity:1; fill:none\" points=\"\n",
       "  1983.27,276.658 2279.26,276.658 2279.26,95.2176 1983.27,95.2176 1983.27,276.658 \n",
       "  \"/>\n",
       "<polyline clip-path=\"url(#clip290)\" style=\"stroke:#009af9; stroke-width:4; stroke-opacity:1; fill:none\" points=\"\n",
       "  2007.77,155.698 2154.75,155.698 \n",
       "  \"/>\n",
       "<path clip-path=\"url(#clip290)\" d=\"M 0 0 M2193.09 175.385 Q2191.29 180.015 2189.58 181.427 Q2187.86 182.839 2184.99 182.839 L2181.59 182.839 L2181.59 179.274 L2184.09 179.274 Q2185.85 179.274 2186.82 178.44 Q2187.79 177.607 2188.97 174.505 L2189.74 172.561 L2179.25 147.052 L2183.77 147.052 L2191.87 167.329 L2199.97 147.052 L2204.48 147.052 L2193.09 175.385 Z\" fill=\"#000000\" fill-rule=\"evenodd\" fill-opacity=\"1\" /><path clip-path=\"url(#clip290)\" d=\"M 0 0 M2210.36 169.042 L2218 169.042 L2218 142.677 L2209.69 144.343 L2209.69 140.084 L2217.96 138.418 L2222.63 138.418 L2222.63 169.042 L2230.27 169.042 L2230.27 172.978 L2210.36 172.978 L2210.36 169.042 Z\" fill=\"#000000\" fill-rule=\"evenodd\" fill-opacity=\"1\" /><polyline clip-path=\"url(#clip290)\" style=\"stroke:#e26f46; stroke-width:4; stroke-opacity:1; fill:none\" points=\"\n",
       "  2007.77,216.178 2154.75,216.178 \n",
       "  \"/>\n",
       "<path clip-path=\"url(#clip290)\" d=\"M 0 0 M2193.09 235.865 Q2191.29 240.495 2189.58 241.907 Q2187.86 243.319 2184.99 243.319 L2181.59 243.319 L2181.59 239.754 L2184.09 239.754 Q2185.85 239.754 2186.82 238.92 Q2187.79 238.087 2188.97 234.985 L2189.74 233.041 L2179.25 207.532 L2183.77 207.532 L2191.87 227.809 L2199.97 207.532 L2204.48 207.532 L2193.09 235.865 Z\" fill=\"#000000\" fill-rule=\"evenodd\" fill-opacity=\"1\" /><path clip-path=\"url(#clip290)\" d=\"M 0 0 M2213.58 229.522 L2229.9 229.522 L2229.9 233.458 L2207.96 233.458 L2207.96 229.522 Q2210.62 226.768 2215.2 222.138 Q2219.81 217.485 2220.99 216.143 Q2223.23 213.62 2224.11 211.884 Q2225.02 210.124 2225.02 208.435 Q2225.02 205.68 2223.07 203.944 Q2221.15 202.208 2218.05 202.208 Q2215.85 202.208 2213.4 202.972 Q2210.96 203.735 2208.19 205.286 L2208.19 200.564 Q2211.01 199.43 2213.46 198.851 Q2215.92 198.273 2217.96 198.273 Q2223.33 198.273 2226.52 200.958 Q2229.71 203.643 2229.71 208.134 Q2229.71 210.263 2228.9 212.185 Q2228.12 214.083 2226.01 216.675 Q2225.43 217.347 2222.33 220.564 Q2219.23 223.759 2213.58 229.522 Z\" fill=\"#000000\" fill-rule=\"evenodd\" fill-opacity=\"1\" /></svg>\n"
      ]
     },
     "execution_count": 27,
     "metadata": {},
     "output_type": "execute_result"
    }
   ],
   "source": [
    "forecast_ndim_AR1!(x, A)\n",
    "plot(x')"
   ]
  },
  {
   "cell_type": "code",
   "execution_count": null,
   "metadata": {},
   "outputs": [],
   "source": []
  },
  {
   "cell_type": "code",
   "execution_count": null,
   "metadata": {},
   "outputs": [],
   "source": []
  },
  {
   "cell_type": "code",
   "execution_count": null,
   "metadata": {},
   "outputs": [],
   "source": []
  },
  {
   "cell_type": "markdown",
   "metadata": {},
   "source": [
    "### Every system is first order\n",
    "Take a second-order linear system,\n",
    "$$\n",
    "x_t = a_1 x_{t-1} + a_2 x_{t-2}.\n",
    "$$\n",
    "Introduce lagged $x$ as another state variable, and denote $\\mathbf x_t=(x_t, x_{t-1})'$\n",
    "$$\n",
    "\\mathbf x_t =\n",
    "\\begin{bmatrix}\n",
    "a_1 & a_2 \\\\\n",
    "1 & 0 \n",
    "\\end{bmatrix} \\mathbf x_{t-1}\n",
    "$$"
   ]
  },
  {
   "cell_type": "code",
   "execution_count": null,
   "metadata": {},
   "outputs": [],
   "source": []
  },
  {
   "cell_type": "markdown",
   "metadata": {},
   "source": [
    "### Eigenvalues and stability properties\n",
    "Decompose $\\mathbf A$ into its eigenvalues and eigenvectors,\n",
    "$$\n",
    "\\mathbf A =\n",
    "\\mathbf Q\n",
    "\\mathbf \\Lambda\n",
    "\\mathbf Q^{-1}\n",
    "$$\n",
    "with $\\mathbf v_t = \\mathbf Q^{-1} \\mathbf x_t$, we have a system of independent difference equations\n",
    "$$\n",
    "\\mathbf v_t \n",
    "=\n",
    "\\mathbf \\Lambda\n",
    "\\mathbf v_{t-1}\n",
    "$$\n",
    "which we already know how to solve\n",
    "$$\n",
    "\\mathbf v_t \n",
    "=\n",
    "\\mathbf \\Lambda^t\n",
    "\\mathbf v_{0}\n",
    "$$\n"
   ]
  },
  {
   "cell_type": "code",
   "execution_count": 30,
   "metadata": {},
   "outputs": [
    {
     "data": {
      "text/plain": [
       "2×2 Array{Complex{Float64},2}:\n",
       " 0.707107-0.0im       0.707107+0.0im\n",
       "      0.0+0.707107im       0.0-0.707107im"
      ]
     },
     "execution_count": 30,
     "metadata": {},
     "output_type": "execute_result"
    }
   ],
   "source": [
    "A\n",
    "using LinearAlgebra\n",
    "λ = eigen(A).values\n",
    "Q = eigen(A).vectors"
   ]
  },
  {
   "cell_type": "markdown",
   "metadata": {},
   "source": [
    "How can an eigenvector be complex?"
   ]
  },
  {
   "cell_type": "code",
   "execution_count": 31,
   "metadata": {},
   "outputs": [
    {
     "data": {
      "text/plain": [
       "2-element Array{Complex{Float64},1}:\n",
       " 0.9 - 0.1im\n",
       " 0.9 + 0.1im"
      ]
     },
     "execution_count": 31,
     "metadata": {},
     "output_type": "execute_result"
    }
   ],
   "source": [
    "λ"
   ]
  },
  {
   "cell_type": "code",
   "execution_count": 32,
   "metadata": {},
   "outputs": [
    {
     "data": {
      "image/svg+xml": [
       "<?xml version=\"1.0\" encoding=\"utf-8\"?>\n",
       "<svg xmlns=\"http://www.w3.org/2000/svg\" xmlns:xlink=\"http://www.w3.org/1999/xlink\" width=\"600\" height=\"400\" viewBox=\"0 0 2400 1600\">\n",
       "<defs>\n",
       "  <clipPath id=\"clip330\">\n",
       "    <rect x=\"0\" y=\"0\" width=\"2400\" height=\"1600\"/>\n",
       "  </clipPath>\n",
       "</defs>\n",
       "<path clip-path=\"url(#clip330)\" d=\"\n",
       "M0 1600 L2400 1600 L2400 0 L0 0  Z\n",
       "  \" fill=\"#ffffff\" fill-rule=\"evenodd\" fill-opacity=\"1\"/>\n",
       "<defs>\n",
       "  <clipPath id=\"clip331\">\n",
       "    <rect x=\"480\" y=\"0\" width=\"1681\" height=\"1600\"/>\n",
       "  </clipPath>\n",
       "</defs>\n",
       "<path clip-path=\"url(#clip330)\" d=\"\n",
       "M148.01 1486.45 L2352.76 1486.45 L2352.76 47.2441 L148.01 47.2441  Z\n",
       "  \" fill=\"#ffffff\" fill-rule=\"evenodd\" fill-opacity=\"1\"/>\n",
       "<defs>\n",
       "  <clipPath id=\"clip332\">\n",
       "    <rect x=\"148\" y=\"47\" width=\"2206\" height=\"1440\"/>\n",
       "  </clipPath>\n",
       "</defs>\n",
       "<polyline clip-path=\"url(#clip332)\" style=\"stroke:#000000; stroke-width:2; stroke-opacity:0.1; fill:none\" points=\"\n",
       "  187.039,1486.45 187.039,47.2441 \n",
       "  \"/>\n",
       "<polyline clip-path=\"url(#clip332)\" style=\"stroke:#000000; stroke-width:2; stroke-opacity:0.1; fill:none\" points=\"\n",
       "  654.443,1486.45 654.443,47.2441 \n",
       "  \"/>\n",
       "<polyline clip-path=\"url(#clip332)\" style=\"stroke:#000000; stroke-width:2; stroke-opacity:0.1; fill:none\" points=\"\n",
       "  1121.85,1486.45 1121.85,47.2441 \n",
       "  \"/>\n",
       "<polyline clip-path=\"url(#clip332)\" style=\"stroke:#000000; stroke-width:2; stroke-opacity:0.1; fill:none\" points=\"\n",
       "  1589.25,1486.45 1589.25,47.2441 \n",
       "  \"/>\n",
       "<polyline clip-path=\"url(#clip332)\" style=\"stroke:#000000; stroke-width:2; stroke-opacity:0.1; fill:none\" points=\"\n",
       "  2056.66,1486.45 2056.66,47.2441 \n",
       "  \"/>\n",
       "<polyline clip-path=\"url(#clip330)\" style=\"stroke:#000000; stroke-width:4; stroke-opacity:1; fill:none\" points=\"\n",
       "  148.01,1486.45 2352.76,1486.45 \n",
       "  \"/>\n",
       "<polyline clip-path=\"url(#clip330)\" style=\"stroke:#000000; stroke-width:4; stroke-opacity:1; fill:none\" points=\"\n",
       "  187.039,1486.45 187.039,1469.18 \n",
       "  \"/>\n",
       "<polyline clip-path=\"url(#clip330)\" style=\"stroke:#000000; stroke-width:4; stroke-opacity:1; fill:none\" points=\"\n",
       "  654.443,1486.45 654.443,1469.18 \n",
       "  \"/>\n",
       "<polyline clip-path=\"url(#clip330)\" style=\"stroke:#000000; stroke-width:4; stroke-opacity:1; fill:none\" points=\"\n",
       "  1121.85,1486.45 1121.85,1469.18 \n",
       "  \"/>\n",
       "<polyline clip-path=\"url(#clip330)\" style=\"stroke:#000000; stroke-width:4; stroke-opacity:1; fill:none\" points=\"\n",
       "  1589.25,1486.45 1589.25,1469.18 \n",
       "  \"/>\n",
       "<polyline clip-path=\"url(#clip330)\" style=\"stroke:#000000; stroke-width:4; stroke-opacity:1; fill:none\" points=\"\n",
       "  2056.66,1486.45 2056.66,1469.18 \n",
       "  \"/>\n",
       "<path clip-path=\"url(#clip330)\" d=\"M 0 0 M187.039 1515.64 Q183.427 1515.64 181.599 1519.2 Q179.793 1522.75 179.793 1529.87 Q179.793 1536.98 181.599 1540.55 Q183.427 1544.09 187.039 1544.09 Q190.673 1544.09 192.478 1540.55 Q194.307 1536.98 194.307 1529.87 Q194.307 1522.75 192.478 1519.2 Q190.673 1515.64 187.039 1515.64 M187.039 1511.93 Q192.849 1511.93 195.904 1516.54 Q198.983 1521.12 198.983 1529.87 Q198.983 1538.6 195.904 1543.21 Q192.849 1547.79 187.039 1547.79 Q181.228 1547.79 178.15 1543.21 Q175.094 1538.6 175.094 1529.87 Q175.094 1521.12 178.15 1516.54 Q181.228 1511.93 187.039 1511.93 Z\" fill=\"#000000\" fill-rule=\"evenodd\" fill-opacity=\"1\" /><path clip-path=\"url(#clip330)\" d=\"M 0 0 M635.589 1543.18 L651.908 1543.18 L651.908 1547.12 L629.964 1547.12 L629.964 1543.18 Q632.626 1540.43 637.209 1535.8 Q641.816 1531.15 642.996 1529.81 Q645.241 1527.28 646.121 1525.55 Q647.024 1523.79 647.024 1522.1 Q647.024 1519.34 645.079 1517.61 Q643.158 1515.87 640.056 1515.87 Q637.857 1515.87 635.404 1516.63 Q632.973 1517.4 630.195 1518.95 L630.195 1514.23 Q633.019 1513.09 635.473 1512.51 Q637.927 1511.93 639.964 1511.93 Q645.334 1511.93 648.528 1514.62 Q651.723 1517.31 651.723 1521.8 Q651.723 1523.93 650.913 1525.85 Q650.126 1527.74 648.019 1530.34 Q647.44 1531.01 644.339 1534.23 Q641.237 1537.42 635.589 1543.18 Z\" fill=\"#000000\" fill-rule=\"evenodd\" fill-opacity=\"1\" /><path clip-path=\"url(#clip330)\" d=\"M 0 0 M666.977 1515.64 Q663.366 1515.64 661.538 1519.2 Q659.732 1522.75 659.732 1529.87 Q659.732 1536.98 661.538 1540.55 Q663.366 1544.09 666.977 1544.09 Q670.612 1544.09 672.417 1540.55 Q674.246 1536.98 674.246 1529.87 Q674.246 1522.75 672.417 1519.2 Q670.612 1515.64 666.977 1515.64 M666.977 1511.93 Q672.788 1511.93 675.843 1516.54 Q678.922 1521.12 678.922 1529.87 Q678.922 1538.6 675.843 1543.21 Q672.788 1547.79 666.977 1547.79 Q661.167 1547.79 658.089 1543.21 Q655.033 1538.6 655.033 1529.87 Q655.033 1521.12 658.089 1516.54 Q661.167 1511.93 666.977 1511.93 Z\" fill=\"#000000\" fill-rule=\"evenodd\" fill-opacity=\"1\" /><path clip-path=\"url(#clip330)\" d=\"M 0 0 M1111.35 1516.63 L1099.54 1535.08 L1111.35 1535.08 L1111.35 1516.63 M1110.12 1512.56 L1116 1512.56 L1116 1535.08 L1120.93 1535.08 L1120.93 1538.97 L1116 1538.97 L1116 1547.12 L1111.35 1547.12 L1111.35 1538.97 L1095.75 1538.97 L1095.75 1534.46 L1110.12 1512.56 Z\" fill=\"#000000\" fill-rule=\"evenodd\" fill-opacity=\"1\" /><path clip-path=\"url(#clip330)\" d=\"M 0 0 M1136 1515.64 Q1132.39 1515.64 1130.56 1519.2 Q1128.76 1522.75 1128.76 1529.87 Q1128.76 1536.98 1130.56 1540.55 Q1132.39 1544.09 1136 1544.09 Q1139.64 1544.09 1141.44 1540.55 Q1143.27 1536.98 1143.27 1529.87 Q1143.27 1522.75 1141.44 1519.2 Q1139.64 1515.64 1136 1515.64 M1136 1511.93 Q1141.81 1511.93 1144.87 1516.54 Q1147.95 1521.12 1147.95 1529.87 Q1147.95 1538.6 1144.87 1543.21 Q1141.81 1547.79 1136 1547.79 Q1130.19 1547.79 1127.11 1543.21 Q1124.06 1538.6 1124.06 1529.87 Q1124.06 1521.12 1127.11 1516.54 Q1130.19 1511.93 1136 1511.93 Z\" fill=\"#000000\" fill-rule=\"evenodd\" fill-opacity=\"1\" /><path clip-path=\"url(#clip330)\" d=\"M 0 0 M1576.15 1527.98 Q1573 1527.98 1571.15 1530.13 Q1569.32 1532.28 1569.32 1536.03 Q1569.32 1539.76 1571.15 1541.93 Q1573 1544.09 1576.15 1544.09 Q1579.3 1544.09 1581.13 1541.93 Q1582.98 1539.76 1582.98 1536.03 Q1582.98 1532.28 1581.13 1530.13 Q1579.3 1527.98 1576.15 1527.98 M1585.43 1513.32 L1585.43 1517.58 Q1583.67 1516.75 1581.87 1516.31 Q1580.08 1515.87 1578.33 1515.87 Q1573.7 1515.87 1571.24 1519 Q1568.81 1522.12 1568.46 1528.44 Q1569.83 1526.43 1571.89 1525.36 Q1573.95 1524.27 1576.43 1524.27 Q1581.64 1524.27 1584.64 1527.44 Q1587.68 1530.59 1587.68 1536.03 Q1587.68 1541.36 1584.53 1544.57 Q1581.38 1547.79 1576.15 1547.79 Q1570.15 1547.79 1566.98 1543.21 Q1563.81 1538.6 1563.81 1529.87 Q1563.81 1521.68 1567.7 1516.82 Q1571.59 1511.93 1578.14 1511.93 Q1579.9 1511.93 1581.68 1512.28 Q1583.49 1512.63 1585.43 1513.32 Z\" fill=\"#000000\" fill-rule=\"evenodd\" fill-opacity=\"1\" /><path clip-path=\"url(#clip330)\" d=\"M 0 0 M1602.75 1515.64 Q1599.14 1515.64 1597.31 1519.2 Q1595.5 1522.75 1595.5 1529.87 Q1595.5 1536.98 1597.31 1540.55 Q1599.14 1544.09 1602.75 1544.09 Q1606.38 1544.09 1608.19 1540.55 Q1610.01 1536.98 1610.01 1529.87 Q1610.01 1522.75 1608.19 1519.2 Q1606.38 1515.64 1602.75 1515.64 M1602.75 1511.93 Q1608.56 1511.93 1611.61 1516.54 Q1614.69 1521.12 1614.69 1529.87 Q1614.69 1538.6 1611.61 1543.21 Q1608.56 1547.79 1602.75 1547.79 Q1596.94 1547.79 1593.86 1543.21 Q1590.8 1538.6 1590.8 1529.87 Q1590.8 1521.12 1593.86 1516.54 Q1596.94 1511.93 1602.75 1511.93 Z\" fill=\"#000000\" fill-rule=\"evenodd\" fill-opacity=\"1\" /><path clip-path=\"url(#clip330)\" d=\"M 0 0 M2043.15 1530.71 Q2039.82 1530.71 2037.89 1532.49 Q2036 1534.27 2036 1537.4 Q2036 1540.52 2037.89 1542.31 Q2039.82 1544.09 2043.15 1544.09 Q2046.48 1544.09 2048.4 1542.31 Q2050.32 1540.5 2050.32 1537.4 Q2050.32 1534.27 2048.4 1532.49 Q2046.5 1530.71 2043.15 1530.71 M2038.47 1528.72 Q2035.46 1527.98 2033.77 1525.92 Q2032.11 1523.86 2032.11 1520.89 Q2032.11 1516.75 2035.05 1514.34 Q2038.01 1511.93 2043.15 1511.93 Q2048.31 1511.93 2051.25 1514.34 Q2054.19 1516.75 2054.19 1520.89 Q2054.19 1523.86 2052.5 1525.92 Q2050.83 1527.98 2047.85 1528.72 Q2051.23 1529.5 2053.1 1531.8 Q2055 1534.09 2055 1537.4 Q2055 1542.42 2051.92 1545.11 Q2048.87 1547.79 2043.15 1547.79 Q2037.43 1547.79 2034.35 1545.11 Q2031.3 1542.42 2031.3 1537.4 Q2031.3 1534.09 2033.19 1531.8 Q2035.09 1529.5 2038.47 1528.72 M2036.76 1521.33 Q2036.76 1524.02 2038.43 1525.52 Q2040.12 1527.03 2043.15 1527.03 Q2046.16 1527.03 2047.85 1525.52 Q2049.56 1524.02 2049.56 1521.33 Q2049.56 1518.65 2047.85 1517.14 Q2046.16 1515.64 2043.15 1515.64 Q2040.12 1515.64 2038.43 1517.14 Q2036.76 1518.65 2036.76 1521.33 Z\" fill=\"#000000\" fill-rule=\"evenodd\" fill-opacity=\"1\" /><path clip-path=\"url(#clip330)\" d=\"M 0 0 M2070.07 1515.64 Q2066.46 1515.64 2064.63 1519.2 Q2062.82 1522.75 2062.82 1529.87 Q2062.82 1536.98 2064.63 1540.55 Q2066.46 1544.09 2070.07 1544.09 Q2073.7 1544.09 2075.51 1540.55 Q2077.34 1536.98 2077.34 1529.87 Q2077.34 1522.75 2075.51 1519.2 Q2073.7 1515.64 2070.07 1515.64 M2070.07 1511.93 Q2075.88 1511.93 2078.94 1516.54 Q2082.01 1521.12 2082.01 1529.87 Q2082.01 1538.6 2078.94 1543.21 Q2075.88 1547.79 2070.07 1547.79 Q2064.26 1547.79 2061.18 1543.21 Q2058.13 1538.6 2058.13 1529.87 Q2058.13 1521.12 2061.18 1516.54 Q2064.26 1511.93 2070.07 1511.93 Z\" fill=\"#000000\" fill-rule=\"evenodd\" fill-opacity=\"1\" /><polyline clip-path=\"url(#clip332)\" style=\"stroke:#000000; stroke-width:2; stroke-opacity:0.1; fill:none\" points=\"\n",
       "  148.01,1178.6 2352.76,1178.6 \n",
       "  \"/>\n",
       "<polyline clip-path=\"url(#clip332)\" style=\"stroke:#000000; stroke-width:2; stroke-opacity:0.1; fill:none\" points=\"\n",
       "  148.01,851.412 2352.76,851.412 \n",
       "  \"/>\n",
       "<polyline clip-path=\"url(#clip332)\" style=\"stroke:#000000; stroke-width:2; stroke-opacity:0.1; fill:none\" points=\"\n",
       "  148.01,524.225 2352.76,524.225 \n",
       "  \"/>\n",
       "<polyline clip-path=\"url(#clip332)\" style=\"stroke:#000000; stroke-width:2; stroke-opacity:0.1; fill:none\" points=\"\n",
       "  148.01,197.039 2352.76,197.039 \n",
       "  \"/>\n",
       "<polyline clip-path=\"url(#clip330)\" style=\"stroke:#000000; stroke-width:4; stroke-opacity:1; fill:none\" points=\"\n",
       "  148.01,1486.45 148.01,47.2441 \n",
       "  \"/>\n",
       "<polyline clip-path=\"url(#clip330)\" style=\"stroke:#000000; stroke-width:4; stroke-opacity:1; fill:none\" points=\"\n",
       "  148.01,1178.6 174.467,1178.6 \n",
       "  \"/>\n",
       "<polyline clip-path=\"url(#clip330)\" style=\"stroke:#000000; stroke-width:4; stroke-opacity:1; fill:none\" points=\"\n",
       "  148.01,851.412 174.467,851.412 \n",
       "  \"/>\n",
       "<polyline clip-path=\"url(#clip330)\" style=\"stroke:#000000; stroke-width:4; stroke-opacity:1; fill:none\" points=\"\n",
       "  148.01,524.225 174.467,524.225 \n",
       "  \"/>\n",
       "<polyline clip-path=\"url(#clip330)\" style=\"stroke:#000000; stroke-width:4; stroke-opacity:1; fill:none\" points=\"\n",
       "  148.01,197.039 174.467,197.039 \n",
       "  \"/>\n",
       "<path clip-path=\"url(#clip330)\" d=\"M 0 0 M63.0985 1164.4 Q59.4875 1164.4 57.6588 1167.96 Q55.8532 1171.5 55.8532 1178.63 Q55.8532 1185.74 57.6588 1189.31 Q59.4875 1192.85 63.0985 1192.85 Q66.7328 1192.85 68.5383 1189.31 Q70.367 1185.74 70.367 1178.63 Q70.367 1171.5 68.5383 1167.96 Q66.7328 1164.4 63.0985 1164.4 M63.0985 1160.69 Q68.9087 1160.69 71.9642 1165.3 Q75.0429 1169.88 75.0429 1178.63 Q75.0429 1187.36 71.9642 1191.97 Q68.9087 1196.55 63.0985 1196.55 Q57.2884 1196.55 54.2097 1191.97 Q51.1542 1187.36 51.1542 1178.63 Q51.1542 1169.88 54.2097 1165.3 Q57.2884 1160.69 63.0985 1160.69 Z\" fill=\"#000000\" fill-rule=\"evenodd\" fill-opacity=\"1\" /><path clip-path=\"url(#clip330)\" d=\"M 0 0 M80.1123 1190 L84.9966 1190 L84.9966 1195.88 L80.1123 1195.88 L80.1123 1190 Z\" fill=\"#000000\" fill-rule=\"evenodd\" fill-opacity=\"1\" /><path clip-path=\"url(#clip330)\" d=\"M 0 0 M100.066 1164.4 Q96.4548 1164.4 94.6262 1167.96 Q92.8206 1171.5 92.8206 1178.63 Q92.8206 1185.74 94.6262 1189.31 Q96.4548 1192.85 100.066 1192.85 Q103.7 1192.85 105.506 1189.31 Q107.334 1185.74 107.334 1178.63 Q107.334 1171.5 105.506 1167.96 Q103.7 1164.4 100.066 1164.4 M100.066 1160.69 Q105.876 1160.69 108.932 1165.3 Q112.01 1169.88 112.01 1178.63 Q112.01 1187.36 108.932 1191.97 Q105.876 1196.55 100.066 1196.55 Q94.2558 1196.55 91.1771 1191.97 Q88.1216 1187.36 88.1216 1178.63 Q88.1216 1169.88 91.1771 1165.3 Q94.2558 1160.69 100.066 1160.69 Z\" fill=\"#000000\" fill-rule=\"evenodd\" fill-opacity=\"1\" /><path clip-path=\"url(#clip330)\" d=\"M 0 0 M63.7467 837.211 Q60.1356 837.211 58.3069 840.776 Q56.5014 844.317 56.5014 851.447 Q56.5014 858.554 58.3069 862.118 Q60.1356 865.66 63.7467 865.66 Q67.3809 865.66 69.1865 862.118 Q71.0152 858.554 71.0152 851.447 Q71.0152 844.317 69.1865 840.776 Q67.3809 837.211 63.7467 837.211 M63.7467 833.507 Q69.5568 833.507 72.6124 838.114 Q75.6911 842.697 75.6911 851.447 Q75.6911 860.174 72.6124 864.78 Q69.5568 869.364 63.7467 869.364 Q57.9365 869.364 54.8578 864.78 Q51.8023 860.174 51.8023 851.447 Q51.8023 842.697 54.8578 838.114 Q57.9365 833.507 63.7467 833.507 Z\" fill=\"#000000\" fill-rule=\"evenodd\" fill-opacity=\"1\" /><path clip-path=\"url(#clip330)\" d=\"M 0 0 M80.7605 862.813 L85.6447 862.813 L85.6447 868.692 L80.7605 868.692 L80.7605 862.813 Z\" fill=\"#000000\" fill-rule=\"evenodd\" fill-opacity=\"1\" /><path clip-path=\"url(#clip330)\" d=\"M 0 0 M104.881 850.058 Q108.237 850.776 110.112 853.044 Q112.01 855.313 112.01 858.646 Q112.01 863.762 108.492 866.563 Q104.973 869.364 98.4919 869.364 Q96.316 869.364 94.0012 868.924 Q91.7095 868.507 89.2558 867.651 L89.2558 863.137 Q91.2002 864.271 93.515 864.85 Q95.8298 865.428 98.353 865.428 Q102.751 865.428 105.043 863.692 Q107.358 861.956 107.358 858.646 Q107.358 855.591 105.205 853.878 Q103.075 852.142 99.2558 852.142 L95.228 852.142 L95.228 848.299 L99.4409 848.299 Q102.89 848.299 104.719 846.933 Q106.547 845.544 106.547 842.952 Q106.547 840.29 104.649 838.878 Q102.774 837.443 99.2558 837.443 Q97.3345 837.443 95.1354 837.859 Q92.9363 838.276 90.2975 839.155 L90.2975 834.989 Q92.9595 834.248 95.2743 833.878 Q97.6122 833.507 99.6724 833.507 Q104.996 833.507 108.098 835.938 Q111.2 838.345 111.2 842.466 Q111.2 845.336 109.557 847.327 Q107.913 849.294 104.881 850.058 Z\" fill=\"#000000\" fill-rule=\"evenodd\" fill-opacity=\"1\" /><path clip-path=\"url(#clip330)\" d=\"M 0 0 M62.9365 510.024 Q59.3254 510.024 57.4967 513.589 Q55.6912 517.131 55.6912 524.26 Q55.6912 531.367 57.4967 534.931 Q59.3254 538.473 62.9365 538.473 Q66.5707 538.473 68.3763 534.931 Q70.205 531.367 70.205 524.26 Q70.205 517.131 68.3763 513.589 Q66.5707 510.024 62.9365 510.024 M62.9365 506.32 Q68.7467 506.32 71.8022 510.927 Q74.8809 515.51 74.8809 524.26 Q74.8809 532.987 71.8022 537.593 Q68.7467 542.177 62.9365 542.177 Q57.1264 542.177 54.0477 537.593 Q50.9921 532.987 50.9921 524.26 Q50.9921 515.51 54.0477 510.927 Q57.1264 506.32 62.9365 506.32 Z\" fill=\"#000000\" fill-rule=\"evenodd\" fill-opacity=\"1\" /><path clip-path=\"url(#clip330)\" d=\"M 0 0 M79.9503 535.626 L84.8345 535.626 L84.8345 541.505 L79.9503 541.505 L79.9503 535.626 Z\" fill=\"#000000\" fill-rule=\"evenodd\" fill-opacity=\"1\" /><path clip-path=\"url(#clip330)\" d=\"M 0 0 M100.483 522.362 Q97.3345 522.362 95.4826 524.515 Q93.6539 526.668 93.6539 530.418 Q93.6539 534.144 95.4826 536.32 Q97.3345 538.473 100.483 538.473 Q103.631 538.473 105.459 536.32 Q107.311 534.144 107.311 530.418 Q107.311 526.668 105.459 524.515 Q103.631 522.362 100.483 522.362 M109.765 507.709 L109.765 511.969 Q108.006 511.135 106.2 510.695 Q104.418 510.256 102.659 510.256 Q98.0289 510.256 95.5752 513.381 Q93.1447 516.506 92.7975 522.825 Q94.1632 520.811 96.2234 519.746 Q98.2835 518.658 100.76 518.658 Q105.969 518.658 108.978 521.83 Q112.01 524.978 112.01 530.418 Q112.01 535.742 108.862 538.959 Q105.714 542.177 100.483 542.177 Q94.4873 542.177 91.316 537.593 Q88.1447 532.987 88.1447 524.26 Q88.1447 516.066 92.0336 511.205 Q95.9224 506.32 102.473 506.32 Q104.233 506.32 106.015 506.668 Q107.821 507.015 109.765 507.709 Z\" fill=\"#000000\" fill-rule=\"evenodd\" fill-opacity=\"1\" /><path clip-path=\"url(#clip330)\" d=\"M 0 0 M63.2837 182.837 Q59.6726 182.837 57.8439 186.402 Q56.0384 189.944 56.0384 197.073 Q56.0384 204.18 57.8439 207.745 Q59.6726 211.286 63.2837 211.286 Q66.918 211.286 68.7235 207.745 Q70.5522 204.18 70.5522 197.073 Q70.5522 189.944 68.7235 186.402 Q66.918 182.837 63.2837 182.837 M63.2837 179.134 Q69.0939 179.134 72.1494 183.74 Q75.2281 188.323 75.2281 197.073 Q75.2281 205.8 72.1494 210.407 Q69.0939 214.99 63.2837 214.99 Q57.4736 214.99 54.3949 210.407 Q51.3393 205.8 51.3393 197.073 Q51.3393 188.323 54.3949 183.74 Q57.4736 179.134 63.2837 179.134 Z\" fill=\"#000000\" fill-rule=\"evenodd\" fill-opacity=\"1\" /><path clip-path=\"url(#clip330)\" d=\"M 0 0 M80.2975 208.439 L85.1818 208.439 L85.1818 214.319 L80.2975 214.319 L80.2975 208.439 Z\" fill=\"#000000\" fill-rule=\"evenodd\" fill-opacity=\"1\" /><path clip-path=\"url(#clip330)\" d=\"M 0 0 M90.3901 213.601 L90.3901 209.342 Q92.1493 210.175 93.9549 210.615 Q95.7604 211.055 97.4965 211.055 Q102.126 211.055 104.557 207.953 Q107.01 204.828 107.358 198.485 Q106.015 200.476 103.955 201.541 Q101.895 202.606 99.3946 202.606 Q94.2095 202.606 91.1771 199.481 Q88.1679 196.333 88.1679 190.893 Q88.1679 185.569 91.316 182.351 Q94.4641 179.134 99.6956 179.134 Q105.691 179.134 108.839 183.74 Q112.01 188.323 112.01 197.073 Q112.01 205.245 108.121 210.129 Q104.256 214.99 97.7048 214.99 Q95.9456 214.99 94.14 214.643 Q92.3345 214.295 90.3901 213.601 M99.6956 198.948 Q102.844 198.948 104.672 196.796 Q106.524 194.643 106.524 190.893 Q106.524 187.166 104.672 185.013 Q102.844 182.837 99.6956 182.837 Q96.5474 182.837 94.6956 185.013 Q92.8669 187.166 92.8669 190.893 Q92.8669 194.643 94.6956 196.796 Q96.5474 198.948 99.6956 198.948 Z\" fill=\"#000000\" fill-rule=\"evenodd\" fill-opacity=\"1\" /><polyline clip-path=\"url(#clip332)\" style=\"stroke:#009af9; stroke-width:4; stroke-opacity:1; fill:none\" points=\"\n",
       "  210.409,87.9763 233.779,306.101 257.149,502.413 280.519,676.913 303.89,830.036 327.26,962.569 350.63,1075.57 374,1170.28 397.37,1248.12 420.741,1310.55 \n",
       "  444.111,1359.11 467.481,1395.32 490.851,1420.67 514.222,1436.62 537.592,1444.54 560.962,1445.72 584.332,1441.34 607.702,1432.49 631.073,1420.16 654.443,1405.22 \n",
       "  677.813,1388.43 701.183,1370.47 724.553,1351.9 747.924,1333.21 771.294,1314.8 794.664,1296.97 818.034,1279.98 841.404,1264.03 864.775,1249.24 888.145,1235.69 \n",
       "  911.515,1223.45 934.885,1212.51 958.255,1202.86 981.626,1194.46 1005,1187.26 1028.37,1181.18 1051.74,1176.14 1075.11,1172.06 1098.48,1168.85 1121.85,1166.41 \n",
       "  1145.22,1164.65 1168.59,1163.48 1191.96,1162.83 1215.33,1162.61 1238.7,1162.75 1262.07,1163.19 1285.44,1163.85 1308.81,1164.69 1332.18,1165.65 1355.55,1166.7 \n",
       "  1378.92,1167.8 1402.29,1168.92 1425.66,1170.03 1449.03,1171.11 1472.4,1172.15 1495.77,1173.13 1519.14,1174.04 1542.51,1174.88 1565.88,1175.64 1589.25,1176.33 \n",
       "  1612.62,1176.93 1635.99,1177.46 1659.36,1177.92 1682.73,1178.31 1706.1,1178.64 1729.47,1178.9 1752.84,1179.11 1776.21,1179.28 1799.58,1179.4 1822.95,1179.48 \n",
       "  1846.32,1179.53 1869.69,1179.55 1893.06,1179.55 1916.43,1179.53 1939.8,1179.5 1963.17,1179.45 1986.54,1179.4 2009.91,1179.34 2033.29,1179.27 2056.66,1179.2 \n",
       "  2080.03,1179.14 2103.4,1179.07 2126.77,1179.01 2150.14,1178.95 2173.51,1178.89 2196.88,1178.84 2220.25,1178.79 2243.62,1178.75 2266.99,1178.71 2290.36,1178.68 \n",
       "  \n",
       "  \"/>\n",
       "<polyline clip-path=\"url(#clip332)\" style=\"stroke:#e26f46; stroke-width:4; stroke-opacity:1; fill:none\" points=\"\n",
       "  210.409,87.9763 233.779,87.9763 257.149,109.789 280.519,149.051 303.89,201.837 327.26,264.657 350.63,334.448 374,408.56 397.37,484.733 420.741,561.071 \n",
       "  444.111,636.02 467.481,708.329 490.851,777.028 514.222,841.392 537.592,900.915 560.962,955.278 584.332,1004.32 607.702,1048.02 631.073,1086.47 654.443,1119.84 \n",
       "  677.813,1148.38 701.183,1172.38 724.553,1192.19 747.924,1208.16 771.294,1220.67 794.664,1230.08 818.034,1236.77 841.404,1241.09 864.775,1243.38 888.145,1243.97 \n",
       "  911.515,1243.14 934.885,1241.17 958.255,1238.31 981.626,1234.76 1005,1230.73 1028.37,1226.39 1051.74,1221.86 1075.11,1217.29 1098.48,1212.77 1121.85,1208.38 \n",
       "  1145.22,1204.18 1168.59,1200.23 1191.96,1196.55 1215.33,1193.18 1238.7,1190.12 1262.07,1187.39 1285.44,1184.97 1308.81,1182.86 1332.18,1181.04 1355.55,1179.5 \n",
       "  1378.92,1178.22 1402.29,1177.18 1425.66,1176.35 1449.03,1175.72 1472.4,1175.26 1495.77,1174.95 1519.14,1174.77 1542.51,1174.69 1565.88,1174.71 1589.25,1174.81 \n",
       "  1612.62,1174.96 1635.99,1175.15 1659.36,1175.39 1682.73,1175.64 1706.1,1175.91 1729.47,1176.18 1752.84,1176.45 1776.21,1176.72 1799.58,1176.97 1822.95,1177.22 \n",
       "  1846.32,1177.44 1869.69,1177.65 1893.06,1177.84 1916.43,1178.01 1939.8,1178.16 1963.17,1178.3 1986.54,1178.41 2009.91,1178.51 2033.29,1178.59 2056.66,1178.66 \n",
       "  2080.03,1178.72 2103.4,1178.76 2126.77,1178.79 2150.14,1178.81 2173.51,1178.82 2196.88,1178.83 2220.25,1178.83 2243.62,1178.83 2266.99,1178.82 2290.36,1178.81 \n",
       "  \n",
       "  \"/>\n",
       "<path clip-path=\"url(#clip330)\" d=\"\n",
       "M1983.27 276.658 L2279.26 276.658 L2279.26 95.2176 L1983.27 95.2176  Z\n",
       "  \" fill=\"#ffffff\" fill-rule=\"evenodd\" fill-opacity=\"1\"/>\n",
       "<polyline clip-path=\"url(#clip330)\" style=\"stroke:#000000; stroke-width:4; stroke-opacity:1; fill:none\" points=\"\n",
       "  1983.27,276.658 2279.26,276.658 2279.26,95.2176 1983.27,95.2176 1983.27,276.658 \n",
       "  \"/>\n",
       "<polyline clip-path=\"url(#clip330)\" style=\"stroke:#009af9; stroke-width:4; stroke-opacity:1; fill:none\" points=\"\n",
       "  2007.77,155.698 2154.75,155.698 \n",
       "  \"/>\n",
       "<path clip-path=\"url(#clip330)\" d=\"M 0 0 M2193.09 175.385 Q2191.29 180.015 2189.58 181.427 Q2187.86 182.839 2184.99 182.839 L2181.59 182.839 L2181.59 179.274 L2184.09 179.274 Q2185.85 179.274 2186.82 178.44 Q2187.79 177.607 2188.97 174.505 L2189.74 172.561 L2179.25 147.052 L2183.77 147.052 L2191.87 167.329 L2199.97 147.052 L2204.48 147.052 L2193.09 175.385 Z\" fill=\"#000000\" fill-rule=\"evenodd\" fill-opacity=\"1\" /><path clip-path=\"url(#clip330)\" d=\"M 0 0 M2210.36 169.042 L2218 169.042 L2218 142.677 L2209.69 144.343 L2209.69 140.084 L2217.96 138.418 L2222.63 138.418 L2222.63 169.042 L2230.27 169.042 L2230.27 172.978 L2210.36 172.978 L2210.36 169.042 Z\" fill=\"#000000\" fill-rule=\"evenodd\" fill-opacity=\"1\" /><polyline clip-path=\"url(#clip330)\" style=\"stroke:#e26f46; stroke-width:4; stroke-opacity:1; fill:none\" points=\"\n",
       "  2007.77,216.178 2154.75,216.178 \n",
       "  \"/>\n",
       "<path clip-path=\"url(#clip330)\" d=\"M 0 0 M2193.09 235.865 Q2191.29 240.495 2189.58 241.907 Q2187.86 243.319 2184.99 243.319 L2181.59 243.319 L2181.59 239.754 L2184.09 239.754 Q2185.85 239.754 2186.82 238.92 Q2187.79 238.087 2188.97 234.985 L2189.74 233.041 L2179.25 207.532 L2183.77 207.532 L2191.87 227.809 L2199.97 207.532 L2204.48 207.532 L2193.09 235.865 Z\" fill=\"#000000\" fill-rule=\"evenodd\" fill-opacity=\"1\" /><path clip-path=\"url(#clip330)\" d=\"M 0 0 M2213.58 229.522 L2229.9 229.522 L2229.9 233.458 L2207.96 233.458 L2207.96 229.522 Q2210.62 226.768 2215.2 222.138 Q2219.81 217.485 2220.99 216.143 Q2223.23 213.62 2224.11 211.884 Q2225.02 210.124 2225.02 208.435 Q2225.02 205.68 2223.07 203.944 Q2221.15 202.208 2218.05 202.208 Q2215.85 202.208 2213.4 202.972 Q2210.96 203.735 2208.19 205.286 L2208.19 200.564 Q2211.01 199.43 2213.46 198.851 Q2215.92 198.273 2217.96 198.273 Q2223.33 198.273 2226.52 200.958 Q2229.71 203.643 2229.71 208.134 Q2229.71 210.263 2228.9 212.185 Q2228.12 214.083 2226.01 216.675 Q2225.43 217.347 2222.33 220.564 Q2219.23 223.759 2213.58 229.522 Z\" fill=\"#000000\" fill-rule=\"evenodd\" fill-opacity=\"1\" /></svg>\n"
      ]
     },
     "execution_count": 32,
     "metadata": {},
     "output_type": "execute_result"
    }
   ],
   "source": [
    "x = zeros(2, 90)\n",
    "x[:, 1] = [1.0; 1.0]\n",
    "forecast_ndim_AR1!(x, A)\n",
    "plot(x')"
   ]
  },
  {
   "cell_type": "code",
   "execution_count": 34,
   "metadata": {},
   "outputs": [
    {
     "data": {
      "image/svg+xml": [
       "<?xml version=\"1.0\" encoding=\"utf-8\"?>\n",
       "<svg xmlns=\"http://www.w3.org/2000/svg\" xmlns:xlink=\"http://www.w3.org/1999/xlink\" width=\"600\" height=\"400\" viewBox=\"0 0 2400 1600\">\n",
       "<defs>\n",
       "  <clipPath id=\"clip410\">\n",
       "    <rect x=\"0\" y=\"0\" width=\"2400\" height=\"1600\"/>\n",
       "  </clipPath>\n",
       "</defs>\n",
       "<path clip-path=\"url(#clip410)\" d=\"\n",
       "M0 1600 L2400 1600 L2400 0 L0 0  Z\n",
       "  \" fill=\"#ffffff\" fill-rule=\"evenodd\" fill-opacity=\"1\"/>\n",
       "<defs>\n",
       "  <clipPath id=\"clip411\">\n",
       "    <rect x=\"480\" y=\"0\" width=\"1681\" height=\"1600\"/>\n",
       "  </clipPath>\n",
       "</defs>\n",
       "<path clip-path=\"url(#clip410)\" d=\"\n",
       "M174.862 1486.45 L2352.76 1486.45 L2352.76 47.2441 L174.862 47.2441  Z\n",
       "  \" fill=\"#ffffff\" fill-rule=\"evenodd\" fill-opacity=\"1\"/>\n",
       "<defs>\n",
       "  <clipPath id=\"clip412\">\n",
       "    <rect x=\"174\" y=\"47\" width=\"2179\" height=\"1440\"/>\n",
       "  </clipPath>\n",
       "</defs>\n",
       "<polyline clip-path=\"url(#clip412)\" style=\"stroke:#000000; stroke-width:2; stroke-opacity:0.1; fill:none\" points=\"\n",
       "  640.718,1486.45 640.718,47.2441 \n",
       "  \"/>\n",
       "<polyline clip-path=\"url(#clip412)\" style=\"stroke:#000000; stroke-width:2; stroke-opacity:0.1; fill:none\" points=\"\n",
       "  1135.84,1486.45 1135.84,47.2441 \n",
       "  \"/>\n",
       "<polyline clip-path=\"url(#clip412)\" style=\"stroke:#000000; stroke-width:2; stroke-opacity:0.1; fill:none\" points=\"\n",
       "  1630.96,1486.45 1630.96,47.2441 \n",
       "  \"/>\n",
       "<polyline clip-path=\"url(#clip412)\" style=\"stroke:#000000; stroke-width:2; stroke-opacity:0.1; fill:none\" points=\"\n",
       "  2126.08,1486.45 2126.08,47.2441 \n",
       "  \"/>\n",
       "<polyline clip-path=\"url(#clip410)\" style=\"stroke:#000000; stroke-width:4; stroke-opacity:1; fill:none\" points=\"\n",
       "  174.862,1486.45 2352.76,1486.45 \n",
       "  \"/>\n",
       "<polyline clip-path=\"url(#clip410)\" style=\"stroke:#000000; stroke-width:4; stroke-opacity:1; fill:none\" points=\"\n",
       "  640.718,1486.45 640.718,1469.18 \n",
       "  \"/>\n",
       "<polyline clip-path=\"url(#clip410)\" style=\"stroke:#000000; stroke-width:4; stroke-opacity:1; fill:none\" points=\"\n",
       "  1135.84,1486.45 1135.84,1469.18 \n",
       "  \"/>\n",
       "<polyline clip-path=\"url(#clip410)\" style=\"stroke:#000000; stroke-width:4; stroke-opacity:1; fill:none\" points=\"\n",
       "  1630.96,1486.45 1630.96,1469.18 \n",
       "  \"/>\n",
       "<polyline clip-path=\"url(#clip410)\" style=\"stroke:#000000; stroke-width:4; stroke-opacity:1; fill:none\" points=\"\n",
       "  2126.08,1486.45 2126.08,1469.18 \n",
       "  \"/>\n",
       "<path clip-path=\"url(#clip410)\" d=\"M 0 0 M622.234 1515.64 Q618.623 1515.64 616.794 1519.2 Q614.989 1522.75 614.989 1529.87 Q614.989 1536.98 616.794 1540.55 Q618.623 1544.09 622.234 1544.09 Q625.869 1544.09 627.674 1540.55 Q629.503 1536.98 629.503 1529.87 Q629.503 1522.75 627.674 1519.2 Q625.869 1515.64 622.234 1515.64 M622.234 1511.93 Q628.044 1511.93 631.1 1516.54 Q634.179 1521.12 634.179 1529.87 Q634.179 1538.6 631.1 1543.21 Q628.044 1547.79 622.234 1547.79 Q616.424 1547.79 613.345 1543.21 Q610.29 1538.6 610.29 1529.87 Q610.29 1521.12 613.345 1516.54 Q616.424 1511.93 622.234 1511.93 Z\" fill=\"#000000\" fill-rule=\"evenodd\" fill-opacity=\"1\" /><path clip-path=\"url(#clip410)\" d=\"M 0 0 M639.248 1541.24 L644.132 1541.24 L644.132 1547.12 L639.248 1547.12 L639.248 1541.24 Z\" fill=\"#000000\" fill-rule=\"evenodd\" fill-opacity=\"1\" /><path clip-path=\"url(#clip410)\" d=\"M 0 0 M659.202 1515.64 Q655.591 1515.64 653.762 1519.2 Q651.956 1522.75 651.956 1529.87 Q651.956 1536.98 653.762 1540.55 Q655.591 1544.09 659.202 1544.09 Q662.836 1544.09 664.641 1540.55 Q666.47 1536.98 666.47 1529.87 Q666.47 1522.75 664.641 1519.2 Q662.836 1515.64 659.202 1515.64 M659.202 1511.93 Q665.012 1511.93 668.067 1516.54 Q671.146 1521.12 671.146 1529.87 Q671.146 1538.6 668.067 1543.21 Q665.012 1547.79 659.202 1547.79 Q653.392 1547.79 650.313 1543.21 Q647.257 1538.6 647.257 1529.87 Q647.257 1521.12 650.313 1516.54 Q653.392 1511.93 659.202 1511.93 Z\" fill=\"#000000\" fill-rule=\"evenodd\" fill-opacity=\"1\" /><path clip-path=\"url(#clip410)\" d=\"M 0 0 M1117.68 1515.64 Q1114.07 1515.64 1112.24 1519.2 Q1110.43 1522.75 1110.43 1529.87 Q1110.43 1536.98 1112.24 1540.55 Q1114.07 1544.09 1117.68 1544.09 Q1121.31 1544.09 1123.12 1540.55 Q1124.95 1536.98 1124.95 1529.87 Q1124.95 1522.75 1123.12 1519.2 Q1121.31 1515.64 1117.68 1515.64 M1117.68 1511.93 Q1123.49 1511.93 1126.54 1516.54 Q1129.62 1521.12 1129.62 1529.87 Q1129.62 1538.6 1126.54 1543.21 Q1123.49 1547.79 1117.68 1547.79 Q1111.87 1547.79 1108.79 1543.21 Q1105.73 1538.6 1105.73 1529.87 Q1105.73 1521.12 1108.79 1516.54 Q1111.87 1511.93 1117.68 1511.93 Z\" fill=\"#000000\" fill-rule=\"evenodd\" fill-opacity=\"1\" /><path clip-path=\"url(#clip410)\" d=\"M 0 0 M1134.69 1541.24 L1139.58 1541.24 L1139.58 1547.12 L1134.69 1547.12 L1134.69 1541.24 Z\" fill=\"#000000\" fill-rule=\"evenodd\" fill-opacity=\"1\" /><path clip-path=\"url(#clip410)\" d=\"M 0 0 M1158.81 1528.49 Q1162.17 1529.2 1164.04 1531.47 Q1165.94 1533.74 1165.94 1537.07 Q1165.94 1542.19 1162.42 1544.99 Q1158.9 1547.79 1152.42 1547.79 Q1150.25 1547.79 1147.93 1547.35 Q1145.64 1546.93 1143.19 1546.08 L1143.19 1541.56 Q1145.13 1542.7 1147.45 1543.28 Q1149.76 1543.86 1152.28 1543.86 Q1156.68 1543.86 1158.97 1542.12 Q1161.29 1540.38 1161.29 1537.07 Q1161.29 1534.02 1159.14 1532.31 Q1157.01 1530.57 1153.19 1530.57 L1149.16 1530.57 L1149.16 1526.73 L1153.37 1526.73 Q1156.82 1526.73 1158.65 1525.36 Q1160.48 1523.97 1160.48 1521.38 Q1160.48 1518.72 1158.58 1517.31 Q1156.71 1515.87 1153.19 1515.87 Q1151.27 1515.87 1149.07 1516.29 Q1146.87 1516.7 1144.23 1517.58 L1144.23 1513.42 Q1146.89 1512.68 1149.21 1512.31 Q1151.54 1511.93 1153.6 1511.93 Q1158.93 1511.93 1162.03 1514.37 Q1165.13 1516.77 1165.13 1520.89 Q1165.13 1523.76 1163.49 1525.75 Q1161.84 1527.72 1158.81 1528.49 Z\" fill=\"#000000\" fill-rule=\"evenodd\" fill-opacity=\"1\" /><path clip-path=\"url(#clip410)\" d=\"M 0 0 M1612.39 1515.64 Q1608.78 1515.64 1606.95 1519.2 Q1605.15 1522.75 1605.15 1529.87 Q1605.15 1536.98 1606.95 1540.55 Q1608.78 1544.09 1612.39 1544.09 Q1616.03 1544.09 1617.83 1540.55 Q1619.66 1536.98 1619.66 1529.87 Q1619.66 1522.75 1617.83 1519.2 Q1616.03 1515.64 1612.39 1515.64 M1612.39 1511.93 Q1618.2 1511.93 1621.26 1516.54 Q1624.34 1521.12 1624.34 1529.87 Q1624.34 1538.6 1621.26 1543.21 Q1618.2 1547.79 1612.39 1547.79 Q1606.58 1547.79 1603.5 1543.21 Q1600.45 1538.6 1600.45 1529.87 Q1600.45 1521.12 1603.5 1516.54 Q1606.58 1511.93 1612.39 1511.93 Z\" fill=\"#000000\" fill-rule=\"evenodd\" fill-opacity=\"1\" /><path clip-path=\"url(#clip410)\" d=\"M 0 0 M1629.41 1541.24 L1634.29 1541.24 L1634.29 1547.12 L1629.41 1547.12 L1629.41 1541.24 Z\" fill=\"#000000\" fill-rule=\"evenodd\" fill-opacity=\"1\" /><path clip-path=\"url(#clip410)\" d=\"M 0 0 M1649.94 1527.98 Q1646.79 1527.98 1644.94 1530.13 Q1643.11 1532.28 1643.11 1536.03 Q1643.11 1539.76 1644.94 1541.93 Q1646.79 1544.09 1649.94 1544.09 Q1653.09 1544.09 1654.92 1541.93 Q1656.77 1539.76 1656.77 1536.03 Q1656.77 1532.28 1654.92 1530.13 Q1653.09 1527.98 1649.94 1527.98 M1659.22 1513.32 L1659.22 1517.58 Q1657.46 1516.75 1655.66 1516.31 Q1653.87 1515.87 1652.11 1515.87 Q1647.49 1515.87 1645.03 1519 Q1642.6 1522.12 1642.25 1528.44 Q1643.62 1526.43 1645.68 1525.36 Q1647.74 1524.27 1650.22 1524.27 Q1655.43 1524.27 1658.43 1527.44 Q1661.47 1530.59 1661.47 1536.03 Q1661.47 1541.36 1658.32 1544.57 Q1655.17 1547.79 1649.94 1547.79 Q1643.94 1547.79 1640.77 1543.21 Q1637.6 1538.6 1637.6 1529.87 Q1637.6 1521.68 1641.49 1516.82 Q1645.38 1511.93 1651.93 1511.93 Q1653.69 1511.93 1655.47 1512.28 Q1657.28 1512.63 1659.22 1513.32 Z\" fill=\"#000000\" fill-rule=\"evenodd\" fill-opacity=\"1\" /><path clip-path=\"url(#clip410)\" d=\"M 0 0 M2107.69 1515.64 Q2104.08 1515.64 2102.25 1519.2 Q2100.44 1522.75 2100.44 1529.87 Q2100.44 1536.98 2102.25 1540.55 Q2104.08 1544.09 2107.69 1544.09 Q2111.32 1544.09 2113.13 1540.55 Q2114.95 1536.98 2114.95 1529.87 Q2114.95 1522.75 2113.13 1519.2 Q2111.32 1515.64 2107.69 1515.64 M2107.69 1511.93 Q2113.5 1511.93 2116.55 1516.54 Q2119.63 1521.12 2119.63 1529.87 Q2119.63 1538.6 2116.55 1543.21 Q2113.5 1547.79 2107.69 1547.79 Q2101.88 1547.79 2098.8 1543.21 Q2095.74 1538.6 2095.74 1529.87 Q2095.74 1521.12 2098.8 1516.54 Q2101.88 1511.93 2107.69 1511.93 Z\" fill=\"#000000\" fill-rule=\"evenodd\" fill-opacity=\"1\" /><path clip-path=\"url(#clip410)\" d=\"M 0 0 M2124.7 1541.24 L2129.58 1541.24 L2129.58 1547.12 L2124.7 1547.12 L2124.7 1541.24 Z\" fill=\"#000000\" fill-rule=\"evenodd\" fill-opacity=\"1\" /><path clip-path=\"url(#clip410)\" d=\"M 0 0 M2134.79 1546.4 L2134.79 1542.14 Q2136.55 1542.98 2138.36 1543.42 Q2140.16 1543.86 2141.9 1543.86 Q2146.53 1543.86 2148.96 1540.75 Q2151.41 1537.63 2151.76 1531.29 Q2150.42 1533.28 2148.36 1534.34 Q2146.3 1535.41 2143.8 1535.41 Q2138.61 1535.41 2135.58 1532.28 Q2132.57 1529.13 2132.57 1523.69 Q2132.57 1518.37 2135.72 1515.15 Q2138.87 1511.93 2144.1 1511.93 Q2150.09 1511.93 2153.24 1516.54 Q2156.41 1521.12 2156.41 1529.87 Q2156.41 1538.05 2152.52 1542.93 Q2148.66 1547.79 2142.11 1547.79 Q2140.35 1547.79 2138.54 1547.44 Q2136.74 1547.1 2134.79 1546.4 M2144.1 1531.75 Q2147.25 1531.75 2149.08 1529.6 Q2150.93 1527.44 2150.93 1523.69 Q2150.93 1519.97 2149.08 1517.81 Q2147.25 1515.64 2144.1 1515.64 Q2140.95 1515.64 2139.1 1517.81 Q2137.27 1519.97 2137.27 1523.69 Q2137.27 1527.44 2139.1 1529.6 Q2140.95 1531.75 2144.1 1531.75 Z\" fill=\"#000000\" fill-rule=\"evenodd\" fill-opacity=\"1\" /><polyline clip-path=\"url(#clip412)\" style=\"stroke:#000000; stroke-width:2; stroke-opacity:0.1; fill:none\" points=\"\n",
       "  174.862,1368.94 2352.76,1368.94 \n",
       "  \"/>\n",
       "<polyline clip-path=\"url(#clip412)\" style=\"stroke:#000000; stroke-width:2; stroke-opacity:0.1; fill:none\" points=\"\n",
       "  174.862,1048.7 2352.76,1048.7 \n",
       "  \"/>\n",
       "<polyline clip-path=\"url(#clip412)\" style=\"stroke:#000000; stroke-width:2; stroke-opacity:0.1; fill:none\" points=\"\n",
       "  174.862,728.456 2352.76,728.456 \n",
       "  \"/>\n",
       "<polyline clip-path=\"url(#clip412)\" style=\"stroke:#000000; stroke-width:2; stroke-opacity:0.1; fill:none\" points=\"\n",
       "  174.862,408.216 2352.76,408.216 \n",
       "  \"/>\n",
       "<polyline clip-path=\"url(#clip412)\" style=\"stroke:#000000; stroke-width:2; stroke-opacity:0.1; fill:none\" points=\"\n",
       "  174.862,87.9763 2352.76,87.9763 \n",
       "  \"/>\n",
       "<polyline clip-path=\"url(#clip410)\" style=\"stroke:#000000; stroke-width:4; stroke-opacity:1; fill:none\" points=\"\n",
       "  174.862,1486.45 174.862,47.2441 \n",
       "  \"/>\n",
       "<polyline clip-path=\"url(#clip410)\" style=\"stroke:#000000; stroke-width:4; stroke-opacity:1; fill:none\" points=\"\n",
       "  174.862,1368.94 200.997,1368.94 \n",
       "  \"/>\n",
       "<polyline clip-path=\"url(#clip410)\" style=\"stroke:#000000; stroke-width:4; stroke-opacity:1; fill:none\" points=\"\n",
       "  174.862,1048.7 200.997,1048.7 \n",
       "  \"/>\n",
       "<polyline clip-path=\"url(#clip410)\" style=\"stroke:#000000; stroke-width:4; stroke-opacity:1; fill:none\" points=\"\n",
       "  174.862,728.456 200.997,728.456 \n",
       "  \"/>\n",
       "<polyline clip-path=\"url(#clip410)\" style=\"stroke:#000000; stroke-width:4; stroke-opacity:1; fill:none\" points=\"\n",
       "  174.862,408.216 200.997,408.216 \n",
       "  \"/>\n",
       "<polyline clip-path=\"url(#clip410)\" style=\"stroke:#000000; stroke-width:4; stroke-opacity:1; fill:none\" points=\"\n",
       "  174.862,87.9763 200.997,87.9763 \n",
       "  \"/>\n",
       "<path clip-path=\"url(#clip410)\" d=\"M 0 0 M62.9365 1354.74 Q59.3254 1354.74 57.4967 1358.3 Q55.6912 1361.84 55.6912 1368.97 Q55.6912 1376.08 57.4967 1379.64 Q59.3254 1383.18 62.9365 1383.18 Q66.5707 1383.18 68.3763 1379.64 Q70.205 1376.08 70.205 1368.97 Q70.205 1361.84 68.3763 1358.3 Q66.5707 1354.74 62.9365 1354.74 M62.9365 1351.03 Q68.7467 1351.03 71.8022 1355.64 Q74.8809 1360.22 74.8809 1368.97 Q74.8809 1377.7 71.8022 1382.3 Q68.7467 1386.89 62.9365 1386.89 Q57.1264 1386.89 54.0477 1382.3 Q50.9921 1377.7 50.9921 1368.97 Q50.9921 1360.22 54.0477 1355.64 Q57.1264 1351.03 62.9365 1351.03 Z\" fill=\"#000000\" fill-rule=\"evenodd\" fill-opacity=\"1\" /><path clip-path=\"url(#clip410)\" d=\"M 0 0 M79.9503 1380.34 L84.8345 1380.34 L84.8345 1386.22 L79.9503 1386.22 L79.9503 1380.34 Z\" fill=\"#000000\" fill-rule=\"evenodd\" fill-opacity=\"1\" /><path clip-path=\"url(#clip410)\" d=\"M 0 0 M99.9039 1354.74 Q96.2928 1354.74 94.4641 1358.3 Q92.6586 1361.84 92.6586 1368.97 Q92.6586 1376.08 94.4641 1379.64 Q96.2928 1383.18 99.9039 1383.18 Q103.538 1383.18 105.344 1379.64 Q107.172 1376.08 107.172 1368.97 Q107.172 1361.84 105.344 1358.3 Q103.538 1354.74 99.9039 1354.74 M99.9039 1351.03 Q105.714 1351.03 108.77 1355.64 Q111.848 1360.22 111.848 1368.97 Q111.848 1377.7 108.77 1382.3 Q105.714 1386.89 99.9039 1386.89 Q94.0937 1386.89 91.0151 1382.3 Q87.9595 1377.7 87.9595 1368.97 Q87.9595 1360.22 91.0151 1355.64 Q94.0937 1351.03 99.9039 1351.03 Z\" fill=\"#000000\" fill-rule=\"evenodd\" fill-opacity=\"1\" /><path clip-path=\"url(#clip410)\" d=\"M 0 0 M126.918 1354.74 Q123.307 1354.74 121.478 1358.3 Q119.672 1361.84 119.672 1368.97 Q119.672 1376.08 121.478 1379.64 Q123.307 1383.18 126.918 1383.18 Q130.552 1383.18 132.357 1379.64 Q134.186 1376.08 134.186 1368.97 Q134.186 1361.84 132.357 1358.3 Q130.552 1354.74 126.918 1354.74 M126.918 1351.03 Q132.728 1351.03 135.783 1355.64 Q138.862 1360.22 138.862 1368.97 Q138.862 1377.7 135.783 1382.3 Q132.728 1386.89 126.918 1386.89 Q121.107 1386.89 118.029 1382.3 Q114.973 1377.7 114.973 1368.97 Q114.973 1360.22 118.029 1355.64 Q121.107 1351.03 126.918 1351.03 Z\" fill=\"#000000\" fill-rule=\"evenodd\" fill-opacity=\"1\" /><path clip-path=\"url(#clip410)\" d=\"M 0 0 M65.5291 1034.5 Q61.918 1034.5 60.0893 1038.06 Q58.2838 1041.6 58.2838 1048.73 Q58.2838 1055.84 60.0893 1059.4 Q61.918 1062.94 65.5291 1062.94 Q69.1633 1062.94 70.9689 1059.4 Q72.7976 1055.84 72.7976 1048.73 Q72.7976 1041.6 70.9689 1038.06 Q69.1633 1034.5 65.5291 1034.5 M65.5291 1030.79 Q71.3392 1030.79 74.3948 1035.4 Q77.4735 1039.98 77.4735 1048.73 Q77.4735 1057.46 74.3948 1062.06 Q71.3392 1066.65 65.5291 1066.65 Q59.7189 1066.65 56.6402 1062.06 Q53.5847 1057.46 53.5847 1048.73 Q53.5847 1039.98 56.6402 1035.4 Q59.7189 1030.79 65.5291 1030.79 Z\" fill=\"#000000\" fill-rule=\"evenodd\" fill-opacity=\"1\" /><path clip-path=\"url(#clip410)\" d=\"M 0 0 M82.5429 1060.1 L87.4271 1060.1 L87.4271 1065.98 L82.5429 1065.98 L82.5429 1060.1 Z\" fill=\"#000000\" fill-rule=\"evenodd\" fill-opacity=\"1\" /><path clip-path=\"url(#clip410)\" d=\"M 0 0 M96.5243 1062.04 L112.844 1062.04 L112.844 1065.98 L90.8993 1065.98 L90.8993 1062.04 Q93.5613 1059.29 98.1447 1054.66 Q102.751 1050 103.932 1048.66 Q106.177 1046.14 107.057 1044.4 Q107.959 1042.64 107.959 1040.95 Q107.959 1038.2 106.015 1036.46 Q104.094 1034.73 100.992 1034.73 Q98.7928 1034.73 96.3391 1035.49 Q93.9086 1036.25 91.1308 1037.81 L91.1308 1033.08 Q93.9549 1031.95 96.4085 1031.37 Q98.8622 1030.79 100.899 1030.79 Q106.27 1030.79 109.464 1033.48 Q112.658 1036.16 112.658 1040.65 Q112.658 1042.78 111.848 1044.7 Q111.061 1046.6 108.955 1049.19 Q108.376 1049.87 105.274 1053.08 Q102.172 1056.28 96.5243 1062.04 Z\" fill=\"#000000\" fill-rule=\"evenodd\" fill-opacity=\"1\" /><path clip-path=\"url(#clip410)\" d=\"M 0 0 M117.959 1031.42 L136.316 1031.42 L136.316 1035.35 L122.242 1035.35 L122.242 1043.82 Q123.26 1043.48 124.279 1043.31 Q125.297 1043.13 126.316 1043.13 Q132.103 1043.13 135.482 1046.3 Q138.862 1049.47 138.862 1054.89 Q138.862 1060.47 135.39 1063.57 Q131.918 1066.65 125.598 1066.65 Q123.422 1066.65 121.154 1066.28 Q118.908 1065.91 116.501 1065.17 L116.501 1060.47 Q118.584 1061.6 120.807 1062.16 Q123.029 1062.71 125.506 1062.71 Q129.51 1062.71 131.848 1060.61 Q134.186 1058.5 134.186 1054.89 Q134.186 1051.28 131.848 1049.17 Q129.51 1047.06 125.506 1047.06 Q123.631 1047.06 121.756 1047.48 Q119.904 1047.9 117.959 1048.78 L117.959 1031.42 Z\" fill=\"#000000\" fill-rule=\"evenodd\" fill-opacity=\"1\" /><path clip-path=\"url(#clip410)\" d=\"M 0 0 M63.9319 714.255 Q60.3208 714.255 58.4921 717.82 Q56.6865 721.362 56.6865 728.491 Q56.6865 735.598 58.4921 739.162 Q60.3208 742.704 63.9319 742.704 Q67.5661 742.704 69.3717 739.162 Q71.2004 735.598 71.2004 728.491 Q71.2004 721.362 69.3717 717.82 Q67.5661 714.255 63.9319 714.255 M63.9319 710.551 Q69.742 710.551 72.7976 715.158 Q75.8763 719.741 75.8763 728.491 Q75.8763 737.218 72.7976 741.824 Q69.742 746.408 63.9319 746.408 Q58.1217 746.408 55.043 741.824 Q51.9875 737.218 51.9875 728.491 Q51.9875 719.741 55.043 715.158 Q58.1217 710.551 63.9319 710.551 Z\" fill=\"#000000\" fill-rule=\"evenodd\" fill-opacity=\"1\" /><path clip-path=\"url(#clip410)\" d=\"M 0 0 M80.9457 739.857 L85.8299 739.857 L85.8299 745.736 L80.9457 745.736 L80.9457 739.857 Z\" fill=\"#000000\" fill-rule=\"evenodd\" fill-opacity=\"1\" /><path clip-path=\"url(#clip410)\" d=\"M 0 0 M90.9456 711.176 L109.302 711.176 L109.302 715.112 L95.228 715.112 L95.228 723.584 Q96.2465 723.237 97.265 723.074 Q98.2835 722.889 99.3021 722.889 Q105.089 722.889 108.469 726.061 Q111.848 729.232 111.848 734.648 Q111.848 740.227 108.376 743.329 Q104.904 746.408 98.5845 746.408 Q96.4085 746.408 94.14 746.037 Q91.8947 745.667 89.4873 744.926 L89.4873 740.227 Q91.5706 741.361 93.7928 741.917 Q96.015 742.473 98.4919 742.473 Q102.496 742.473 104.834 740.366 Q107.172 738.26 107.172 734.648 Q107.172 731.037 104.834 728.931 Q102.496 726.824 98.4919 726.824 Q96.6169 726.824 94.7419 727.241 Q92.89 727.658 90.9456 728.537 L90.9456 711.176 Z\" fill=\"#000000\" fill-rule=\"evenodd\" fill-opacity=\"1\" /><path clip-path=\"url(#clip410)\" d=\"M 0 0 M126.918 714.255 Q123.307 714.255 121.478 717.82 Q119.672 721.362 119.672 728.491 Q119.672 735.598 121.478 739.162 Q123.307 742.704 126.918 742.704 Q130.552 742.704 132.357 739.162 Q134.186 735.598 134.186 728.491 Q134.186 721.362 132.357 717.82 Q130.552 714.255 126.918 714.255 M126.918 710.551 Q132.728 710.551 135.783 715.158 Q138.862 719.741 138.862 728.491 Q138.862 737.218 135.783 741.824 Q132.728 746.408 126.918 746.408 Q121.107 746.408 118.029 741.824 Q114.973 737.218 114.973 728.491 Q114.973 719.741 118.029 715.158 Q121.107 710.551 126.918 710.551 Z\" fill=\"#000000\" fill-rule=\"evenodd\" fill-opacity=\"1\" /><path clip-path=\"url(#clip410)\" d=\"M 0 0 M64.8346 394.015 Q61.2236 394.015 59.3949 397.58 Q57.5893 401.121 57.5893 408.251 Q57.5893 415.358 59.3949 418.922 Q61.2236 422.464 64.8346 422.464 Q68.4689 422.464 70.2744 418.922 Q72.1031 415.358 72.1031 408.251 Q72.1031 401.121 70.2744 397.58 Q68.4689 394.015 64.8346 394.015 M64.8346 390.311 Q70.6448 390.311 73.7003 394.918 Q76.779 399.501 76.779 408.251 Q76.779 416.978 73.7003 421.584 Q70.6448 426.168 64.8346 426.168 Q59.0245 426.168 55.9458 421.584 Q52.8903 416.978 52.8903 408.251 Q52.8903 399.501 55.9458 394.918 Q59.0245 390.311 64.8346 390.311 Z\" fill=\"#000000\" fill-rule=\"evenodd\" fill-opacity=\"1\" /><path clip-path=\"url(#clip410)\" d=\"M 0 0 M81.8484 419.617 L86.7327 419.617 L86.7327 425.496 L81.8484 425.496 L81.8484 419.617 Z\" fill=\"#000000\" fill-rule=\"evenodd\" fill-opacity=\"1\" /><path clip-path=\"url(#clip410)\" d=\"M 0 0 M90.6215 390.936 L112.844 390.936 L112.844 392.927 L100.297 425.496 L95.4132 425.496 L107.219 394.872 L90.6215 394.872 L90.6215 390.936 Z\" fill=\"#000000\" fill-rule=\"evenodd\" fill-opacity=\"1\" /><path clip-path=\"url(#clip410)\" d=\"M 0 0 M117.959 390.936 L136.316 390.936 L136.316 394.872 L122.242 394.872 L122.242 403.344 Q123.26 402.996 124.279 402.834 Q125.297 402.649 126.316 402.649 Q132.103 402.649 135.482 405.821 Q138.862 408.992 138.862 414.408 Q138.862 419.987 135.39 423.089 Q131.918 426.168 125.598 426.168 Q123.422 426.168 121.154 425.797 Q118.908 425.427 116.501 424.686 L116.501 419.987 Q118.584 421.121 120.807 421.677 Q123.029 422.232 125.506 422.232 Q129.51 422.232 131.848 420.126 Q134.186 418.02 134.186 414.408 Q134.186 410.797 131.848 408.691 Q129.51 406.584 125.506 406.584 Q123.631 406.584 121.756 407.001 Q119.904 407.418 117.959 408.297 L117.959 390.936 Z\" fill=\"#000000\" fill-rule=\"evenodd\" fill-opacity=\"1\" /><path clip-path=\"url(#clip410)\" d=\"M 0 0 M54.9736 101.321 L62.6124 101.321 L62.6124 74.9555 L54.3023 76.6222 L54.3023 72.3629 L62.5661 70.6963 L67.242 70.6963 L67.242 101.321 L74.8809 101.321 L74.8809 105.256 L54.9736 105.256 L54.9736 101.321 Z\" fill=\"#000000\" fill-rule=\"evenodd\" fill-opacity=\"1\" /><path clip-path=\"url(#clip410)\" d=\"M 0 0 M79.9503 99.3767 L84.8345 99.3767 L84.8345 105.256 L79.9503 105.256 L79.9503 99.3767 Z\" fill=\"#000000\" fill-rule=\"evenodd\" fill-opacity=\"1\" /><path clip-path=\"url(#clip410)\" d=\"M 0 0 M99.9039 73.775 Q96.2928 73.775 94.4641 77.3398 Q92.6586 80.8814 92.6586 88.011 Q92.6586 95.1174 94.4641 98.6822 Q96.2928 102.224 99.9039 102.224 Q103.538 102.224 105.344 98.6822 Q107.172 95.1174 107.172 88.011 Q107.172 80.8814 105.344 77.3398 Q103.538 73.775 99.9039 73.775 M99.9039 70.0713 Q105.714 70.0713 108.77 74.6777 Q111.848 79.261 111.848 88.011 Q111.848 96.7378 108.77 101.344 Q105.714 105.928 99.9039 105.928 Q94.0937 105.928 91.0151 101.344 Q87.9595 96.7378 87.9595 88.011 Q87.9595 79.261 91.0151 74.6777 Q94.0937 70.0713 99.9039 70.0713 Z\" fill=\"#000000\" fill-rule=\"evenodd\" fill-opacity=\"1\" /><path clip-path=\"url(#clip410)\" d=\"M 0 0 M126.918 73.775 Q123.307 73.775 121.478 77.3398 Q119.672 80.8814 119.672 88.011 Q119.672 95.1174 121.478 98.6822 Q123.307 102.224 126.918 102.224 Q130.552 102.224 132.357 98.6822 Q134.186 95.1174 134.186 88.011 Q134.186 80.8814 132.357 77.3398 Q130.552 73.775 126.918 73.775 M126.918 70.0713 Q132.728 70.0713 135.783 74.6777 Q138.862 79.261 138.862 88.011 Q138.862 96.7378 135.783 101.344 Q132.728 105.928 126.918 105.928 Q121.107 105.928 118.029 101.344 Q114.973 96.7378 114.973 88.011 Q114.973 79.261 118.029 74.6777 Q121.107 70.0713 126.918 70.0713 Z\" fill=\"#000000\" fill-rule=\"evenodd\" fill-opacity=\"1\" /><polyline clip-path=\"url(#clip412)\" style=\"stroke:#009af9; stroke-width:4; stroke-opacity:1; fill:none\" points=\"\n",
       "  2291.12,87.9763 1961.04,87.9763 1663.97,113.595 1399.9,159.71 1168.19,221.709 967.629,295.492 796.635,377.463 653.301,464.509 535.515,553.975 441.035,643.637 \n",
       "  367.555,731.665 312.765,816.594 274.396,897.282 250.26,972.88 238.277,1042.79 236.501,1106.64 243.128,1164.24 256.514,1215.57 275.175,1260.73 297.788,1299.92 \n",
       "  323.189,1333.44 350.368,1361.63 378.462,1384.9 406.745,1403.66 434.616,1418.35 461.592,1429.4 487.295,1437.26 511.44,1442.33 533.824,1445.03 554.317,1445.72 \n",
       "  572.85,1444.74 589.404,1442.43 604.004,1439.06 616.711,1434.9 627.61,1430.17 636.81,1425.06 644.432,1419.75 650.608,1414.38 655.474,1409.07 659.17,1403.91 \n",
       "  661.831,1398.98 663.591,1394.34 664.576,1390.02 664.907,1386.06 664.695,1382.47 664.041,1379.26 663.039,1376.42 661.77,1373.94 660.309,1371.8 658.719,1369.99 \n",
       "  657.055,1368.49 655.364,1367.27 653.685,1366.3 652.048,1365.56 650.479,1365.01 648.998,1364.65 647.618,1364.43 646.348,1364.35 645.194,1364.37 644.158,1364.48 \n",
       "  643.24,1364.66 642.437,1364.89 641.743,1365.16 641.155,1365.46 640.663,1365.77 640.261,1366.09 639.941,1366.41 639.693,1366.73 639.511,1367.03 639.386,1367.31 \n",
       "  639.31,1367.58 639.275,1367.82 639.276,1368.05 639.306,1368.25 639.358,1368.43 639.428,1368.58 639.512,1368.72 639.604,1368.83 639.702,1368.93 639.803,1369.01 \n",
       "  639.904,1369.07 640.003,1369.12 640.098,1369.16 640.189,1369.19 640.274,1369.2 640.353,1369.21 640.424,1369.21 640.489,1369.21 640.547,1369.2 640.597,1369.18 \n",
       "  \n",
       "  \"/>\n",
       "<path clip-path=\"url(#clip410)\" d=\"\n",
       "M1987.15 216.178 L2280.16 216.178 L2280.16 95.2176 L1987.15 95.2176  Z\n",
       "  \" fill=\"#ffffff\" fill-rule=\"evenodd\" fill-opacity=\"1\"/>\n",
       "<polyline clip-path=\"url(#clip410)\" style=\"stroke:#000000; stroke-width:4; stroke-opacity:1; fill:none\" points=\"\n",
       "  1987.15,216.178 2280.16,216.178 2280.16,95.2176 1987.15,95.2176 1987.15,216.178 \n",
       "  \"/>\n",
       "<polyline clip-path=\"url(#clip410)\" style=\"stroke:#009af9; stroke-width:4; stroke-opacity:1; fill:none\" points=\"\n",
       "  2011.35,155.698 2156.54,155.698 \n",
       "  \"/>\n",
       "<path clip-path=\"url(#clip410)\" d=\"M 0 0 M2194.59 175.385 Q2192.78 180.015 2191.07 181.427 Q2189.35 182.839 2186.48 182.839 L2183.08 182.839 L2183.08 179.274 L2185.58 179.274 Q2187.34 179.274 2188.31 178.44 Q2189.29 177.607 2190.47 174.505 L2191.23 172.561 L2180.74 147.052 L2185.26 147.052 L2193.36 167.329 L2201.46 147.052 L2205.97 147.052 L2194.59 175.385 Z\" fill=\"#000000\" fill-rule=\"evenodd\" fill-opacity=\"1\" /><path clip-path=\"url(#clip410)\" d=\"M 0 0 M2211.85 169.042 L2219.49 169.042 L2219.49 142.677 L2211.18 144.343 L2211.18 140.084 L2219.45 138.418 L2224.12 138.418 L2224.12 169.042 L2231.76 169.042 L2231.76 172.978 L2211.85 172.978 L2211.85 169.042 Z\" fill=\"#000000\" fill-rule=\"evenodd\" fill-opacity=\"1\" /></svg>\n"
      ]
     },
     "execution_count": 34,
     "metadata": {},
     "output_type": "execute_result"
    }
   ],
   "source": [
    "plot(x[1,:], x[2,:])"
   ]
  },
  {
   "cell_type": "code",
   "execution_count": null,
   "metadata": {},
   "outputs": [],
   "source": []
  }
 ],
 "metadata": {
  "kernelspec": {
   "display_name": "Julia 1.4.2",
   "language": "julia",
   "name": "julia-1.4"
  },
  "language_info": {
   "file_extension": ".jl",
   "mimetype": "application/julia",
   "name": "julia",
   "version": "1.4.2"
  }
 },
 "nbformat": 4,
 "nbformat_minor": 4
}

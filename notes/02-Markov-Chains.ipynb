{
 "cells": [
  {
   "cell_type": "markdown",
   "metadata": {},
   "source": [
    "# Markov Chains\n",
    "## Markov processes\n",
    "$$\n",
    "X_t\\in\\mathbb R^n \\text{ for example}\n",
    "$$\n",
    "$$\n",
    "F(X_t | \\{X_0,x_1,...,X_{t-1}\\}) = F(X_{t} | X_{t-1})\n",
    "$$\n",
    "\n",
    "## The future will be like the past\n",
    "\n",
    "$$\n",
    "X_t = \\beta E_t(Y_{t+1})\n",
    "$$\n",
    "$X$ may be be current economic activity, $Y$ may be future inflation\n",
    "\n",
    "$$\n",
    "Y_t = \\gamma X_t + u_t\n",
    "$$\n",
    "Suppose that $(X_t,u_t)$ are Markov\n",
    "$$\n",
    "F(X_t, u_t|X_{t-1}, u_{t-1})\n",
    "$$\n",
    "then\n",
    "$$\n",
    "E_t(Y_{t+1}) = g(X_t, u_t)\n",
    "$$\n",
    "and\n",
    "$$\n",
    "X_t = \\beta g(X_t, u_t).\n",
    "$$\n",
    "Hopefully,\n",
    "$$\n",
    "X_t = h(u_t).\n",
    "$$\n",
    "\n",
    "\n",
    "### Stochastic DEs are Markov processes\n",
    "$$\n",
    "x_t = Ax_{t-1} + B w_{t}\n",
    "$$\n",
    "$$\n",
    "F(x_t | t-1) = \n",
    "F(Ax_{t-1} + B w_{t} | t-1) \n",
    "= F(Ax_{t-1} + B w_{t} | x_{t-1})\n",
    "$$\n",
    "## Markov chains\n",
    "Suppose\n",
    "$$\n",
    "S_t \\in 1, 2, 3, ..., N.\n",
    "$$\n",
    "For example, $s=1$ for employment and $s=2$ for unemployment.\n",
    "\n",
    "$w_t \\sim F()$ maybe even a density function $f(w_t)$\n",
    "\n",
    "### Probability mass function (PMF)\n",
    "$$\n",
    "\\pi_n \\equiv\n",
    "\\Pr(S = n)\n",
    "$$\n",
    "$0 \\le \\pi_n \\le 1$ and $\\sum_{i=1}^N \\pi_n = 1$.\n"
   ]
  },
  {
   "cell_type": "code",
   "execution_count": 61,
   "metadata": {},
   "outputs": [],
   "source": [
    "using Random"
   ]
  },
  {
   "cell_type": "markdown",
   "metadata": {},
   "source": [
    "Uniform distributed [0,1)"
   ]
  },
  {
   "cell_type": "code",
   "execution_count": 65,
   "metadata": {},
   "outputs": [
    {
     "data": {
      "text/plain": [
       "0.7508036602275083"
      ]
     },
     "execution_count": 65,
     "metadata": {},
     "output_type": "execute_result"
    }
   ],
   "source": [
    "u = rand()"
   ]
  },
  {
   "cell_type": "code",
   "execution_count": 97,
   "metadata": {},
   "outputs": [
    {
     "data": {
      "text/plain": [
       "3-element Array{Float64,1}:\n",
       " 0.25\n",
       " 0.5\n",
       " 0.25"
      ]
     },
     "execution_count": 97,
     "metadata": {},
     "output_type": "execute_result"
    }
   ],
   "source": [
    "pmf = [0.25, 0.5, 0.25]"
   ]
  },
  {
   "cell_type": "code",
   "execution_count": 98,
   "metadata": {},
   "outputs": [
    {
     "data": {
      "text/plain": [
       "3-element Array{Float64,1}:\n",
       " 0.25\n",
       " 0.75\n",
       " 1.0"
      ]
     },
     "execution_count": 98,
     "metadata": {},
     "output_type": "execute_result"
    }
   ],
   "source": [
    "CDF = cumsum(pmf, dims=1)"
   ]
  },
  {
   "cell_type": "code",
   "execution_count": 109,
   "metadata": {},
   "outputs": [
    {
     "data": {
      "text/plain": [
       "1"
      ]
     },
     "execution_count": 109,
     "metadata": {},
     "output_type": "execute_result"
    }
   ],
   "source": [
    "sum(rand() .>= CDF) + 1"
   ]
  },
  {
   "cell_type": "code",
   "execution_count": 102,
   "metadata": {},
   "outputs": [
    {
     "data": {
      "text/plain": [
       "0.1891952774570116"
      ]
     },
     "execution_count": 102,
     "metadata": {},
     "output_type": "execute_result"
    }
   ],
   "source": [
    "u = rand()"
   ]
  },
  {
   "cell_type": "code",
   "execution_count": null,
   "metadata": {},
   "outputs": [],
   "source": []
  },
  {
   "cell_type": "code",
   "execution_count": 68,
   "metadata": {},
   "outputs": [
    {
     "data": {
      "text/plain": [
       "1-element Array{Float64,1}:\n",
       " 1.0"
      ]
     },
     "execution_count": 68,
     "metadata": {},
     "output_type": "execute_result"
    }
   ],
   "source": [
    "sum(pmf, dims=1)"
   ]
  },
  {
   "cell_type": "code",
   "execution_count": 110,
   "metadata": {},
   "outputs": [
    {
     "data": {
      "text/plain": [
       "draw_random_state (generic function with 1 method)"
      ]
     },
     "execution_count": 110,
     "metadata": {},
     "output_type": "execute_result"
    }
   ],
   "source": [
    "function draw_random_state(pmf::Vector{Float64})\n",
    "    prob = pmf ./ sum(pmf, dims=1)\n",
    "    CDF = cumsum(prob, dims=1)\n",
    "    u = rand() # this is uniform random [0,1)\n",
    "    return sum(u .>= CDF) + 1\n",
    "end"
   ]
  },
  {
   "cell_type": "code",
   "execution_count": 69,
   "metadata": {},
   "outputs": [
    {
     "data": {
      "text/plain": [
       "3-element Array{Float64,1}:\n",
       " 0.16666666666666666\n",
       " 0.3333333333333333\n",
       " 0.5"
      ]
     },
     "execution_count": 69,
     "metadata": {},
     "output_type": "execute_result"
    }
   ],
   "source": [
    "pmf = [1, 2, 3]\n",
    "pmf ./ sum(pmf, dims=1)"
   ]
  },
  {
   "cell_type": "code",
   "execution_count": 70,
   "metadata": {},
   "outputs": [
    {
     "data": {
      "text/plain": [
       "2×3 Array{Int64,2}:\n",
       " 1  2  3\n",
       " 4  5  6"
      ]
     },
     "execution_count": 70,
     "metadata": {},
     "output_type": "execute_result"
    }
   ],
   "source": [
    "A = [1 2 3; 4 5 6]"
   ]
  },
  {
   "cell_type": "code",
   "execution_count": 76,
   "metadata": {},
   "outputs": [
    {
     "data": {
      "text/plain": [
       "21"
      ]
     },
     "execution_count": 76,
     "metadata": {},
     "output_type": "execute_result"
    }
   ],
   "source": [
    "sum(A)"
   ]
  },
  {
   "cell_type": "code",
   "execution_count": 73,
   "metadata": {},
   "outputs": [
    {
     "data": {
      "text/plain": [
       "1×3 Array{Int64,2}:\n",
       " 5  7  9"
      ]
     },
     "execution_count": 73,
     "metadata": {},
     "output_type": "execute_result"
    }
   ],
   "source": [
    "sum(A, dims=1)"
   ]
  },
  {
   "cell_type": "code",
   "execution_count": 75,
   "metadata": {},
   "outputs": [
    {
     "data": {
      "text/plain": [
       "1×1 Array{Int64,2}:\n",
       " 21"
      ]
     },
     "execution_count": 75,
     "metadata": {},
     "output_type": "execute_result"
    }
   ],
   "source": [
    "sum(A, dims=(1,2))"
   ]
  },
  {
   "cell_type": "code",
   "execution_count": 83,
   "metadata": {},
   "outputs": [
    {
     "data": {
      "text/plain": [
       "2×3 Array{Int64,2}:\n",
       " 1  2  3\n",
       " 4  5  6"
      ]
     },
     "execution_count": 83,
     "metadata": {},
     "output_type": "execute_result"
    }
   ],
   "source": [
    "A"
   ]
  },
  {
   "cell_type": "code",
   "execution_count": 81,
   "metadata": {},
   "outputs": [
    {
     "data": {
      "text/plain": [
       "2×1 Array{Int64,2}:\n",
       " 7\n",
       " 8"
      ]
     },
     "execution_count": 81,
     "metadata": {},
     "output_type": "execute_result"
    }
   ],
   "source": [
    "b = [0 7; 0 8][:, 2:2]"
   ]
  },
  {
   "cell_type": "code",
   "execution_count": 82,
   "metadata": {},
   "outputs": [
    {
     "data": {
      "text/plain": [
       "2×3 Array{Int64,2}:\n",
       "  8   9  10\n",
       " 12  13  14"
      ]
     },
     "execution_count": 82,
     "metadata": {},
     "output_type": "execute_result"
    }
   ],
   "source": [
    "A .+ b"
   ]
  },
  {
   "cell_type": "code",
   "execution_count": 84,
   "metadata": {},
   "outputs": [
    {
     "data": {
      "text/plain": [
       "2-element Array{Int64,1}:\n",
       " 7\n",
       " 8"
      ]
     },
     "execution_count": 84,
     "metadata": {},
     "output_type": "execute_result"
    }
   ],
   "source": [
    "c = [7;8]"
   ]
  },
  {
   "cell_type": "code",
   "execution_count": 85,
   "metadata": {},
   "outputs": [
    {
     "data": {
      "text/plain": [
       "2×3 Array{Int64,2}:\n",
       "  8   9  10\n",
       " 12  13  14"
      ]
     },
     "execution_count": 85,
     "metadata": {},
     "output_type": "execute_result"
    }
   ],
   "source": [
    "A .+ c"
   ]
  },
  {
   "cell_type": "code",
   "execution_count": 86,
   "metadata": {},
   "outputs": [
    {
     "data": {
      "text/plain": [
       "2×2 Array{Int64,2}:\n",
       " 0  7\n",
       " 0  8"
      ]
     },
     "execution_count": 86,
     "metadata": {},
     "output_type": "execute_result"
    }
   ],
   "source": [
    "d = [0 7; 0 8]"
   ]
  },
  {
   "cell_type": "code",
   "execution_count": 87,
   "metadata": {},
   "outputs": [
    {
     "ename": "DimensionMismatch",
     "evalue": "DimensionMismatch(\"arrays could not be broadcast to a common size; got a dimension with lengths 3 and 2\")",
     "output_type": "error",
     "traceback": [
      "DimensionMismatch(\"arrays could not be broadcast to a common size; got a dimension with lengths 3 and 2\")",
      "",
      "Stacktrace:",
      " [1] _bcs1 at ./broadcast.jl:490 [inlined]",
      " [2] _bcs at ./broadcast.jl:484 [inlined] (repeats 2 times)",
      " [3] broadcast_shape at ./broadcast.jl:478 [inlined]",
      " [4] combine_axes at ./broadcast.jl:473 [inlined]",
      " [5] instantiate at ./broadcast.jl:256 [inlined]",
      " [6] materialize(::Base.Broadcast.Broadcasted{Base.Broadcast.DefaultArrayStyle{2},Nothing,typeof(+),Tuple{Array{Int64,2},Array{Int64,2}}}) at ./broadcast.jl:820",
      " [7] top-level scope at In[87]:1"
     ]
    }
   ],
   "source": [
    "A .+ d"
   ]
  },
  {
   "cell_type": "code",
   "execution_count": 91,
   "metadata": {},
   "outputs": [
    {
     "data": {
      "text/plain": [
       "2×1 Array{Int64,2}:\n",
       " 3\n",
       " 6"
      ]
     },
     "execution_count": 91,
     "metadata": {},
     "output_type": "execute_result"
    }
   ],
   "source": [
    "maximum(A, dims=2)"
   ]
  },
  {
   "cell_type": "code",
   "execution_count": 92,
   "metadata": {},
   "outputs": [
    {
     "data": {
      "text/plain": [
       "2×3 Array{Int64,2}:\n",
       " -2  -1  0\n",
       " -2  -1  0"
      ]
     },
     "execution_count": 92,
     "metadata": {},
     "output_type": "execute_result"
    }
   ],
   "source": [
    "A .- maximum(A, dims=2)"
   ]
  },
  {
   "cell_type": "code",
   "execution_count": 114,
   "metadata": {},
   "outputs": [
    {
     "data": {
      "text/plain": [
       "test_randomizer (generic function with 1 method)"
      ]
     },
     "execution_count": 114,
     "metadata": {},
     "output_type": "execute_result"
    }
   ],
   "source": [
    "function test_randomizer(pmf::Vector{Float64})\n",
    "    S = zeros(10000)\n",
    "    for n = 1:length(S)\n",
    "        S[n] = draw_random_state(pmf)\n",
    "    end\n",
    "    histogram(S)\n",
    "end"
   ]
  },
  {
   "cell_type": "code",
   "execution_count": 112,
   "metadata": {},
   "outputs": [],
   "source": [
    "using Plots"
   ]
  },
  {
   "cell_type": "code",
   "execution_count": 116,
   "metadata": {},
   "outputs": [
    {
     "data": {
      "image/svg+xml": [
       "<?xml version=\"1.0\" encoding=\"utf-8\"?>\n",
       "<svg xmlns=\"http://www.w3.org/2000/svg\" xmlns:xlink=\"http://www.w3.org/1999/xlink\" width=\"600\" height=\"400\" viewBox=\"0 0 2400 1600\">\n",
       "<defs>\n",
       "  <clipPath id=\"clip190\">\n",
       "    <rect x=\"0\" y=\"0\" width=\"2400\" height=\"1600\"/>\n",
       "  </clipPath>\n",
       "</defs>\n",
       "<path clip-path=\"url(#clip190)\" d=\"\n",
       "M0 1600 L2400 1600 L2400 0 L0 0  Z\n",
       "  \" fill=\"#ffffff\" fill-rule=\"evenodd\" fill-opacity=\"1\"/>\n",
       "<defs>\n",
       "  <clipPath id=\"clip191\">\n",
       "    <rect x=\"480\" y=\"0\" width=\"1681\" height=\"1600\"/>\n",
       "  </clipPath>\n",
       "</defs>\n",
       "<path clip-path=\"url(#clip190)\" d=\"\n",
       "M193.218 1486.45 L2352.76 1486.45 L2352.76 47.2441 L193.218 47.2441  Z\n",
       "  \" fill=\"#ffffff\" fill-rule=\"evenodd\" fill-opacity=\"1\"/>\n",
       "<defs>\n",
       "  <clipPath id=\"clip192\">\n",
       "    <rect x=\"193\" y=\"47\" width=\"2161\" height=\"1440\"/>\n",
       "  </clipPath>\n",
       "</defs>\n",
       "<polyline clip-path=\"url(#clip192)\" style=\"stroke:#000000; stroke-width:2; stroke-opacity:0.1; fill:none\" points=\"\n",
       "  311.997,1486.45 311.997,47.2441 \n",
       "  \"/>\n",
       "<polyline clip-path=\"url(#clip192)\" style=\"stroke:#000000; stroke-width:2; stroke-opacity:0.1; fill:none\" points=\"\n",
       "  769.611,1486.45 769.611,47.2441 \n",
       "  \"/>\n",
       "<polyline clip-path=\"url(#clip192)\" style=\"stroke:#000000; stroke-width:2; stroke-opacity:0.1; fill:none\" points=\"\n",
       "  1227.23,1486.45 1227.23,47.2441 \n",
       "  \"/>\n",
       "<polyline clip-path=\"url(#clip192)\" style=\"stroke:#000000; stroke-width:2; stroke-opacity:0.1; fill:none\" points=\"\n",
       "  1684.84,1486.45 1684.84,47.2441 \n",
       "  \"/>\n",
       "<polyline clip-path=\"url(#clip192)\" style=\"stroke:#000000; stroke-width:2; stroke-opacity:0.1; fill:none\" points=\"\n",
       "  2142.45,1486.45 2142.45,47.2441 \n",
       "  \"/>\n",
       "<polyline clip-path=\"url(#clip190)\" style=\"stroke:#000000; stroke-width:4; stroke-opacity:1; fill:none\" points=\"\n",
       "  193.218,1486.45 2352.76,1486.45 \n",
       "  \"/>\n",
       "<polyline clip-path=\"url(#clip190)\" style=\"stroke:#000000; stroke-width:4; stroke-opacity:1; fill:none\" points=\"\n",
       "  311.997,1486.45 311.997,1469.18 \n",
       "  \"/>\n",
       "<polyline clip-path=\"url(#clip190)\" style=\"stroke:#000000; stroke-width:4; stroke-opacity:1; fill:none\" points=\"\n",
       "  769.611,1486.45 769.611,1469.18 \n",
       "  \"/>\n",
       "<polyline clip-path=\"url(#clip190)\" style=\"stroke:#000000; stroke-width:4; stroke-opacity:1; fill:none\" points=\"\n",
       "  1227.23,1486.45 1227.23,1469.18 \n",
       "  \"/>\n",
       "<polyline clip-path=\"url(#clip190)\" style=\"stroke:#000000; stroke-width:4; stroke-opacity:1; fill:none\" points=\"\n",
       "  1684.84,1486.45 1684.84,1469.18 \n",
       "  \"/>\n",
       "<polyline clip-path=\"url(#clip190)\" style=\"stroke:#000000; stroke-width:4; stroke-opacity:1; fill:none\" points=\"\n",
       "  2142.45,1486.45 2142.45,1469.18 \n",
       "  \"/>\n",
       "<path clip-path=\"url(#clip190)\" d=\"M 0 0 M283.895 1543.18 L291.534 1543.18 L291.534 1516.82 L283.224 1518.49 L283.224 1514.23 L291.488 1512.56 L296.164 1512.56 L296.164 1543.18 L303.802 1543.18 L303.802 1547.12 L283.895 1547.12 L283.895 1543.18 Z\" fill=\"#000000\" fill-rule=\"evenodd\" fill-opacity=\"1\" /><path clip-path=\"url(#clip190)\" d=\"M 0 0 M308.872 1541.24 L313.756 1541.24 L313.756 1547.12 L308.872 1547.12 L308.872 1541.24 Z\" fill=\"#000000\" fill-rule=\"evenodd\" fill-opacity=\"1\" /><path clip-path=\"url(#clip190)\" d=\"M 0 0 M328.825 1515.64 Q325.214 1515.64 323.386 1519.2 Q321.58 1522.75 321.58 1529.87 Q321.58 1536.98 323.386 1540.55 Q325.214 1544.09 328.825 1544.09 Q332.46 1544.09 334.265 1540.55 Q336.094 1536.98 336.094 1529.87 Q336.094 1522.75 334.265 1519.2 Q332.46 1515.64 328.825 1515.64 M328.825 1511.93 Q334.636 1511.93 337.691 1516.54 Q340.77 1521.12 340.77 1529.87 Q340.77 1538.6 337.691 1543.21 Q334.636 1547.79 328.825 1547.79 Q323.015 1547.79 319.937 1543.21 Q316.881 1538.6 316.881 1529.87 Q316.881 1521.12 319.937 1516.54 Q323.015 1511.93 328.825 1511.93 Z\" fill=\"#000000\" fill-rule=\"evenodd\" fill-opacity=\"1\" /><path clip-path=\"url(#clip190)\" d=\"M 0 0 M742.007 1543.18 L749.646 1543.18 L749.646 1516.82 L741.336 1518.49 L741.336 1514.23 L749.6 1512.56 L754.276 1512.56 L754.276 1543.18 L761.915 1543.18 L761.915 1547.12 L742.007 1547.12 L742.007 1543.18 Z\" fill=\"#000000\" fill-rule=\"evenodd\" fill-opacity=\"1\" /><path clip-path=\"url(#clip190)\" d=\"M 0 0 M766.984 1541.24 L771.868 1541.24 L771.868 1547.12 L766.984 1547.12 L766.984 1541.24 Z\" fill=\"#000000\" fill-rule=\"evenodd\" fill-opacity=\"1\" /><path clip-path=\"url(#clip190)\" d=\"M 0 0 M776.984 1512.56 L795.34 1512.56 L795.34 1516.5 L781.266 1516.5 L781.266 1524.97 Q782.285 1524.62 783.303 1524.46 Q784.322 1524.27 785.34 1524.27 Q791.127 1524.27 794.507 1527.44 Q797.887 1530.62 797.887 1536.03 Q797.887 1541.61 794.414 1544.71 Q790.942 1547.79 784.623 1547.79 Q782.447 1547.79 780.178 1547.42 Q777.933 1547.05 775.526 1546.31 L775.526 1541.61 Q777.609 1542.74 779.831 1543.3 Q782.053 1543.86 784.53 1543.86 Q788.535 1543.86 790.873 1541.75 Q793.211 1539.64 793.211 1536.03 Q793.211 1532.42 790.873 1530.31 Q788.535 1528.21 784.53 1528.21 Q782.655 1528.21 780.78 1528.62 Q778.928 1529.04 776.984 1529.92 L776.984 1512.56 Z\" fill=\"#000000\" fill-rule=\"evenodd\" fill-opacity=\"1\" /><path clip-path=\"url(#clip190)\" d=\"M 0 0 M1203.39 1543.18 L1219.71 1543.18 L1219.71 1547.12 L1197.77 1547.12 L1197.77 1543.18 Q1200.43 1540.43 1205.02 1535.8 Q1209.62 1531.15 1210.8 1529.81 Q1213.05 1527.28 1213.93 1525.55 Q1214.83 1523.79 1214.83 1522.1 Q1214.83 1519.34 1212.89 1517.61 Q1210.96 1515.87 1207.86 1515.87 Q1205.66 1515.87 1203.21 1516.63 Q1200.78 1517.4 1198 1518.95 L1198 1514.23 Q1200.83 1513.09 1203.28 1512.51 Q1205.73 1511.93 1207.77 1511.93 Q1213.14 1511.93 1216.33 1514.62 Q1219.53 1517.31 1219.53 1521.8 Q1219.53 1523.93 1218.72 1525.85 Q1217.93 1527.74 1215.83 1530.34 Q1215.25 1531.01 1212.14 1534.23 Q1209.04 1537.42 1203.39 1543.18 Z\" fill=\"#000000\" fill-rule=\"evenodd\" fill-opacity=\"1\" /><path clip-path=\"url(#clip190)\" d=\"M 0 0 M1224.78 1541.24 L1229.67 1541.24 L1229.67 1547.12 L1224.78 1547.12 L1224.78 1541.24 Z\" fill=\"#000000\" fill-rule=\"evenodd\" fill-opacity=\"1\" /><path clip-path=\"url(#clip190)\" d=\"M 0 0 M1244.74 1515.64 Q1241.13 1515.64 1239.3 1519.2 Q1237.49 1522.75 1237.49 1529.87 Q1237.49 1536.98 1239.3 1540.55 Q1241.13 1544.09 1244.74 1544.09 Q1248.37 1544.09 1250.18 1540.55 Q1252.01 1536.98 1252.01 1529.87 Q1252.01 1522.75 1250.18 1519.2 Q1248.37 1515.64 1244.74 1515.64 M1244.74 1511.93 Q1250.55 1511.93 1253.6 1516.54 Q1256.68 1521.12 1256.68 1529.87 Q1256.68 1538.6 1253.6 1543.21 Q1250.55 1547.79 1244.74 1547.79 Q1238.93 1547.79 1235.85 1543.21 Q1232.79 1538.6 1232.79 1529.87 Q1232.79 1521.12 1235.85 1516.54 Q1238.93 1511.93 1244.74 1511.93 Z\" fill=\"#000000\" fill-rule=\"evenodd\" fill-opacity=\"1\" /><path clip-path=\"url(#clip190)\" d=\"M 0 0 M1661.51 1543.18 L1677.83 1543.18 L1677.83 1547.12 L1655.88 1547.12 L1655.88 1543.18 Q1658.54 1540.43 1663.13 1535.8 Q1667.73 1531.15 1668.91 1529.81 Q1671.16 1527.28 1672.04 1525.55 Q1672.94 1523.79 1672.94 1522.1 Q1672.94 1519.34 1671 1517.61 Q1669.08 1515.87 1665.97 1515.87 Q1663.78 1515.87 1661.32 1516.63 Q1658.89 1517.4 1656.11 1518.95 L1656.11 1514.23 Q1658.94 1513.09 1661.39 1512.51 Q1663.84 1511.93 1665.88 1511.93 Q1671.25 1511.93 1674.45 1514.62 Q1677.64 1517.31 1677.64 1521.8 Q1677.64 1523.93 1676.83 1525.85 Q1676.04 1527.74 1673.94 1530.34 Q1673.36 1531.01 1670.26 1534.23 Q1667.16 1537.42 1661.51 1543.18 Z\" fill=\"#000000\" fill-rule=\"evenodd\" fill-opacity=\"1\" /><path clip-path=\"url(#clip190)\" d=\"M 0 0 M1682.9 1541.24 L1687.78 1541.24 L1687.78 1547.12 L1682.9 1547.12 L1682.9 1541.24 Z\" fill=\"#000000\" fill-rule=\"evenodd\" fill-opacity=\"1\" /><path clip-path=\"url(#clip190)\" d=\"M 0 0 M1692.9 1512.56 L1711.25 1512.56 L1711.25 1516.5 L1697.18 1516.5 L1697.18 1524.97 Q1698.2 1524.62 1699.22 1524.46 Q1700.23 1524.27 1701.25 1524.27 Q1707.04 1524.27 1710.42 1527.44 Q1713.8 1530.62 1713.8 1536.03 Q1713.8 1541.61 1710.33 1544.71 Q1706.85 1547.79 1700.53 1547.79 Q1698.36 1547.79 1696.09 1547.42 Q1693.84 1547.05 1691.44 1546.31 L1691.44 1541.61 Q1693.52 1542.74 1695.74 1543.3 Q1697.97 1543.86 1700.44 1543.86 Q1704.45 1543.86 1706.78 1541.75 Q1709.12 1539.64 1709.12 1536.03 Q1709.12 1532.42 1706.78 1530.31 Q1704.45 1528.21 1700.44 1528.21 Q1698.57 1528.21 1696.69 1528.62 Q1694.84 1529.04 1692.9 1529.92 L1692.9 1512.56 Z\" fill=\"#000000\" fill-rule=\"evenodd\" fill-opacity=\"1\" /><path clip-path=\"url(#clip190)\" d=\"M 0 0 M2128.22 1528.49 Q2131.58 1529.2 2133.45 1531.47 Q2135.35 1533.74 2135.35 1537.07 Q2135.35 1542.19 2131.83 1544.99 Q2128.31 1547.79 2121.83 1547.79 Q2119.65 1547.79 2117.34 1547.35 Q2115.05 1546.93 2112.59 1546.08 L2112.59 1541.56 Q2114.54 1542.7 2116.85 1543.28 Q2119.17 1543.86 2121.69 1543.86 Q2126.09 1543.86 2128.38 1542.12 Q2130.7 1540.38 2130.7 1537.07 Q2130.7 1534.02 2128.54 1532.31 Q2126.41 1530.57 2122.59 1530.57 L2118.57 1530.57 L2118.57 1526.73 L2122.78 1526.73 Q2126.23 1526.73 2128.06 1525.36 Q2129.89 1523.97 2129.89 1521.38 Q2129.89 1518.72 2127.99 1517.31 Q2126.11 1515.87 2122.59 1515.87 Q2120.67 1515.87 2118.47 1516.29 Q2116.27 1516.7 2113.64 1517.58 L2113.64 1513.42 Q2116.3 1512.68 2118.61 1512.31 Q2120.95 1511.93 2123.01 1511.93 Q2128.33 1511.93 2131.44 1514.37 Q2134.54 1516.77 2134.54 1520.89 Q2134.54 1523.76 2132.89 1525.75 Q2131.25 1527.72 2128.22 1528.49 Z\" fill=\"#000000\" fill-rule=\"evenodd\" fill-opacity=\"1\" /><path clip-path=\"url(#clip190)\" d=\"M 0 0 M2140.42 1541.24 L2145.3 1541.24 L2145.3 1547.12 L2140.42 1547.12 L2140.42 1541.24 Z\" fill=\"#000000\" fill-rule=\"evenodd\" fill-opacity=\"1\" /><path clip-path=\"url(#clip190)\" d=\"M 0 0 M2160.37 1515.64 Q2156.76 1515.64 2154.93 1519.2 Q2153.13 1522.75 2153.13 1529.87 Q2153.13 1536.98 2154.93 1540.55 Q2156.76 1544.09 2160.37 1544.09 Q2164.01 1544.09 2165.81 1540.55 Q2167.64 1536.98 2167.64 1529.87 Q2167.64 1522.75 2165.81 1519.2 Q2164.01 1515.64 2160.37 1515.64 M2160.37 1511.93 Q2166.18 1511.93 2169.24 1516.54 Q2172.32 1521.12 2172.32 1529.87 Q2172.32 1538.6 2169.24 1543.21 Q2166.18 1547.79 2160.37 1547.79 Q2154.56 1547.79 2151.48 1543.21 Q2148.43 1538.6 2148.43 1529.87 Q2148.43 1521.12 2151.48 1516.54 Q2154.56 1511.93 2160.37 1511.93 Z\" fill=\"#000000\" fill-rule=\"evenodd\" fill-opacity=\"1\" /><polyline clip-path=\"url(#clip192)\" style=\"stroke:#000000; stroke-width:2; stroke-opacity:0.1; fill:none\" points=\"\n",
       "  193.218,1445.72 2352.76,1445.72 \n",
       "  \"/>\n",
       "<polyline clip-path=\"url(#clip192)\" style=\"stroke:#000000; stroke-width:2; stroke-opacity:0.1; fill:none\" points=\"\n",
       "  193.218,1148.29 2352.76,1148.29 \n",
       "  \"/>\n",
       "<polyline clip-path=\"url(#clip192)\" style=\"stroke:#000000; stroke-width:2; stroke-opacity:0.1; fill:none\" points=\"\n",
       "  193.218,850.868 2352.76,850.868 \n",
       "  \"/>\n",
       "<polyline clip-path=\"url(#clip192)\" style=\"stroke:#000000; stroke-width:2; stroke-opacity:0.1; fill:none\" points=\"\n",
       "  193.218,553.444 2352.76,553.444 \n",
       "  \"/>\n",
       "<polyline clip-path=\"url(#clip192)\" style=\"stroke:#000000; stroke-width:2; stroke-opacity:0.1; fill:none\" points=\"\n",
       "  193.218,256.021 2352.76,256.021 \n",
       "  \"/>\n",
       "<polyline clip-path=\"url(#clip190)\" style=\"stroke:#000000; stroke-width:4; stroke-opacity:1; fill:none\" points=\"\n",
       "  193.218,1486.45 193.218,47.2441 \n",
       "  \"/>\n",
       "<polyline clip-path=\"url(#clip190)\" style=\"stroke:#000000; stroke-width:4; stroke-opacity:1; fill:none\" points=\"\n",
       "  193.218,1445.72 219.133,1445.72 \n",
       "  \"/>\n",
       "<polyline clip-path=\"url(#clip190)\" style=\"stroke:#000000; stroke-width:4; stroke-opacity:1; fill:none\" points=\"\n",
       "  193.218,1148.29 219.133,1148.29 \n",
       "  \"/>\n",
       "<polyline clip-path=\"url(#clip190)\" style=\"stroke:#000000; stroke-width:4; stroke-opacity:1; fill:none\" points=\"\n",
       "  193.218,850.868 219.133,850.868 \n",
       "  \"/>\n",
       "<polyline clip-path=\"url(#clip190)\" style=\"stroke:#000000; stroke-width:4; stroke-opacity:1; fill:none\" points=\"\n",
       "  193.218,553.444 219.133,553.444 \n",
       "  \"/>\n",
       "<polyline clip-path=\"url(#clip190)\" style=\"stroke:#000000; stroke-width:4; stroke-opacity:1; fill:none\" points=\"\n",
       "  193.218,256.021 219.133,256.021 \n",
       "  \"/>\n",
       "<path clip-path=\"url(#clip190)\" d=\"M 0 0 M145.274 1431.51 Q141.663 1431.51 139.834 1435.08 Q138.029 1438.62 138.029 1445.75 Q138.029 1452.86 139.834 1456.42 Q141.663 1459.96 145.274 1459.96 Q148.908 1459.96 150.714 1456.42 Q152.543 1452.86 152.543 1445.75 Q152.543 1438.62 150.714 1435.08 Q148.908 1431.51 145.274 1431.51 M145.274 1427.81 Q151.084 1427.81 154.14 1432.42 Q157.218 1437 157.218 1445.75 Q157.218 1454.48 154.14 1459.08 Q151.084 1463.67 145.274 1463.67 Q139.464 1463.67 136.385 1459.08 Q133.33 1454.48 133.33 1445.75 Q133.33 1437 136.385 1432.42 Q139.464 1427.81 145.274 1427.81 Z\" fill=\"#000000\" fill-rule=\"evenodd\" fill-opacity=\"1\" /><path clip-path=\"url(#clip190)\" d=\"M 0 0 M56.2699 1161.64 L63.9087 1161.64 L63.9087 1135.27 L55.5986 1136.94 L55.5986 1132.68 L63.8624 1131.01 L68.5383 1131.01 L68.5383 1161.64 L76.1772 1161.64 L76.1772 1165.57 L56.2699 1165.57 L56.2699 1161.64 Z\" fill=\"#000000\" fill-rule=\"evenodd\" fill-opacity=\"1\" /><path clip-path=\"url(#clip190)\" d=\"M 0 0 M91.2465 1134.09 Q87.6354 1134.09 85.8068 1137.66 Q84.0012 1141.2 84.0012 1148.33 Q84.0012 1155.43 85.8068 1159 Q87.6354 1162.54 91.2465 1162.54 Q94.8808 1162.54 96.6863 1159 Q98.515 1155.43 98.515 1148.33 Q98.515 1141.2 96.6863 1137.66 Q94.8808 1134.09 91.2465 1134.09 M91.2465 1130.39 Q97.0567 1130.39 100.112 1134.99 Q103.191 1139.58 103.191 1148.33 Q103.191 1157.05 100.112 1161.66 Q97.0567 1166.24 91.2465 1166.24 Q85.4364 1166.24 82.3577 1161.66 Q79.3022 1157.05 79.3022 1148.33 Q79.3022 1139.58 82.3577 1134.99 Q85.4364 1130.39 91.2465 1130.39 Z\" fill=\"#000000\" fill-rule=\"evenodd\" fill-opacity=\"1\" /><path clip-path=\"url(#clip190)\" d=\"M 0 0 M118.26 1134.09 Q114.649 1134.09 112.82 1137.66 Q111.015 1141.2 111.015 1148.33 Q111.015 1155.43 112.82 1159 Q114.649 1162.54 118.26 1162.54 Q121.895 1162.54 123.7 1159 Q125.529 1155.43 125.529 1148.33 Q125.529 1141.2 123.7 1137.66 Q121.895 1134.09 118.26 1134.09 M118.26 1130.39 Q124.07 1130.39 127.126 1134.99 Q130.205 1139.58 130.205 1148.33 Q130.205 1157.05 127.126 1161.66 Q124.07 1166.24 118.26 1166.24 Q112.45 1166.24 109.371 1161.66 Q106.316 1157.05 106.316 1148.33 Q106.316 1139.58 109.371 1134.99 Q112.45 1130.39 118.26 1130.39 Z\" fill=\"#000000\" fill-rule=\"evenodd\" fill-opacity=\"1\" /><path clip-path=\"url(#clip190)\" d=\"M 0 0 M145.274 1134.09 Q141.663 1134.09 139.834 1137.66 Q138.029 1141.2 138.029 1148.33 Q138.029 1155.43 139.834 1159 Q141.663 1162.54 145.274 1162.54 Q148.908 1162.54 150.714 1159 Q152.543 1155.43 152.543 1148.33 Q152.543 1141.2 150.714 1137.66 Q148.908 1134.09 145.274 1134.09 M145.274 1130.39 Q151.084 1130.39 154.14 1134.99 Q157.218 1139.58 157.218 1148.33 Q157.218 1157.05 154.14 1161.66 Q151.084 1166.24 145.274 1166.24 Q139.464 1166.24 136.385 1161.66 Q133.33 1157.05 133.33 1148.33 Q133.33 1139.58 136.385 1134.99 Q139.464 1130.39 145.274 1130.39 Z\" fill=\"#000000\" fill-rule=\"evenodd\" fill-opacity=\"1\" /><path clip-path=\"url(#clip190)\" d=\"M 0 0 M59.8578 864.213 L76.1772 864.213 L76.1772 868.148 L54.2328 868.148 L54.2328 864.213 Q56.8949 861.458 61.4782 856.829 Q66.0846 852.176 67.2652 850.833 Q69.5105 848.31 70.3902 846.574 Q71.2929 844.815 71.2929 843.125 Q71.2929 840.371 69.3485 838.634 Q67.4272 836.898 64.3254 836.898 Q62.1263 836.898 59.6726 837.662 Q57.2421 838.426 54.4643 839.977 L54.4643 835.255 Q57.2884 834.121 59.7421 833.542 Q62.1958 832.963 64.2328 832.963 Q69.6031 832.963 72.7976 835.648 Q75.992 838.334 75.992 842.824 Q75.992 844.954 75.1818 846.875 Q74.3948 848.773 72.2883 851.366 Q71.7096 852.037 68.6078 855.255 Q65.5059 858.449 59.8578 864.213 Z\" fill=\"#000000\" fill-rule=\"evenodd\" fill-opacity=\"1\" /><path clip-path=\"url(#clip190)\" d=\"M 0 0 M91.2465 836.667 Q87.6354 836.667 85.8068 840.232 Q84.0012 843.773 84.0012 850.903 Q84.0012 858.009 85.8068 861.574 Q87.6354 865.116 91.2465 865.116 Q94.8808 865.116 96.6863 861.574 Q98.515 858.009 98.515 850.903 Q98.515 843.773 96.6863 840.232 Q94.8808 836.667 91.2465 836.667 M91.2465 832.963 Q97.0567 832.963 100.112 837.57 Q103.191 842.153 103.191 850.903 Q103.191 859.63 100.112 864.236 Q97.0567 868.819 91.2465 868.819 Q85.4364 868.819 82.3577 864.236 Q79.3022 859.63 79.3022 850.903 Q79.3022 842.153 82.3577 837.57 Q85.4364 832.963 91.2465 832.963 Z\" fill=\"#000000\" fill-rule=\"evenodd\" fill-opacity=\"1\" /><path clip-path=\"url(#clip190)\" d=\"M 0 0 M118.26 836.667 Q114.649 836.667 112.82 840.232 Q111.015 843.773 111.015 850.903 Q111.015 858.009 112.82 861.574 Q114.649 865.116 118.26 865.116 Q121.895 865.116 123.7 861.574 Q125.529 858.009 125.529 850.903 Q125.529 843.773 123.7 840.232 Q121.895 836.667 118.26 836.667 M118.26 832.963 Q124.07 832.963 127.126 837.57 Q130.205 842.153 130.205 850.903 Q130.205 859.63 127.126 864.236 Q124.07 868.819 118.26 868.819 Q112.45 868.819 109.371 864.236 Q106.316 859.63 106.316 850.903 Q106.316 842.153 109.371 837.57 Q112.45 832.963 118.26 832.963 Z\" fill=\"#000000\" fill-rule=\"evenodd\" fill-opacity=\"1\" /><path clip-path=\"url(#clip190)\" d=\"M 0 0 M145.274 836.667 Q141.663 836.667 139.834 840.232 Q138.029 843.773 138.029 850.903 Q138.029 858.009 139.834 861.574 Q141.663 865.116 145.274 865.116 Q148.908 865.116 150.714 861.574 Q152.543 858.009 152.543 850.903 Q152.543 843.773 150.714 840.232 Q148.908 836.667 145.274 836.667 M145.274 832.963 Q151.084 832.963 154.14 837.57 Q157.218 842.153 157.218 850.903 Q157.218 859.63 154.14 864.236 Q151.084 868.819 145.274 868.819 Q139.464 868.819 136.385 864.236 Q133.33 859.63 133.33 850.903 Q133.33 842.153 136.385 837.57 Q139.464 832.963 145.274 832.963 Z\" fill=\"#000000\" fill-rule=\"evenodd\" fill-opacity=\"1\" /><path clip-path=\"url(#clip190)\" d=\"M 0 0 M69.0476 552.09 Q72.404 552.808 74.279 555.076 Q76.1772 557.345 76.1772 560.678 Q76.1772 565.794 72.6587 568.595 Q69.1402 571.396 62.6587 571.396 Q60.4828 571.396 58.168 570.956 Q55.8764 570.539 53.4227 569.683 L53.4227 565.169 Q55.3671 566.303 57.6819 566.882 Q59.9967 567.461 62.5198 567.461 Q66.918 567.461 69.2096 565.724 Q71.5244 563.988 71.5244 560.678 Q71.5244 557.623 69.3717 555.91 Q67.242 554.174 63.4226 554.174 L59.3949 554.174 L59.3949 550.331 L63.6078 550.331 Q67.0569 550.331 68.8855 548.965 Q70.7142 547.576 70.7142 544.984 Q70.7142 542.322 68.8161 540.91 Q66.9411 539.475 63.4226 539.475 Q61.5013 539.475 59.3023 539.891 Q57.1032 540.308 54.4643 541.188 L54.4643 537.021 Q57.1264 536.28 59.4412 535.91 Q61.7791 535.539 63.8393 535.539 Q69.1633 535.539 72.2652 537.97 Q75.367 540.377 75.367 544.498 Q75.367 547.368 73.7235 549.359 Q72.08 551.326 69.0476 552.09 Z\" fill=\"#000000\" fill-rule=\"evenodd\" fill-opacity=\"1\" /><path clip-path=\"url(#clip190)\" d=\"M 0 0 M91.2465 539.243 Q87.6354 539.243 85.8068 542.808 Q84.0012 546.35 84.0012 553.479 Q84.0012 560.586 85.8068 564.15 Q87.6354 567.692 91.2465 567.692 Q94.8808 567.692 96.6863 564.15 Q98.515 560.586 98.515 553.479 Q98.515 546.35 96.6863 542.808 Q94.8808 539.243 91.2465 539.243 M91.2465 535.539 Q97.0567 535.539 100.112 540.146 Q103.191 544.729 103.191 553.479 Q103.191 562.206 100.112 566.812 Q97.0567 571.396 91.2465 571.396 Q85.4364 571.396 82.3577 566.812 Q79.3022 562.206 79.3022 553.479 Q79.3022 544.729 82.3577 540.146 Q85.4364 535.539 91.2465 535.539 Z\" fill=\"#000000\" fill-rule=\"evenodd\" fill-opacity=\"1\" /><path clip-path=\"url(#clip190)\" d=\"M 0 0 M118.26 539.243 Q114.649 539.243 112.82 542.808 Q111.015 546.35 111.015 553.479 Q111.015 560.586 112.82 564.15 Q114.649 567.692 118.26 567.692 Q121.895 567.692 123.7 564.15 Q125.529 560.586 125.529 553.479 Q125.529 546.35 123.7 542.808 Q121.895 539.243 118.26 539.243 M118.26 535.539 Q124.07 535.539 127.126 540.146 Q130.205 544.729 130.205 553.479 Q130.205 562.206 127.126 566.812 Q124.07 571.396 118.26 571.396 Q112.45 571.396 109.371 566.812 Q106.316 562.206 106.316 553.479 Q106.316 544.729 109.371 540.146 Q112.45 535.539 118.26 535.539 Z\" fill=\"#000000\" fill-rule=\"evenodd\" fill-opacity=\"1\" /><path clip-path=\"url(#clip190)\" d=\"M 0 0 M145.274 539.243 Q141.663 539.243 139.834 542.808 Q138.029 546.35 138.029 553.479 Q138.029 560.586 139.834 564.15 Q141.663 567.692 145.274 567.692 Q148.908 567.692 150.714 564.15 Q152.543 560.586 152.543 553.479 Q152.543 546.35 150.714 542.808 Q148.908 539.243 145.274 539.243 M145.274 535.539 Q151.084 535.539 154.14 540.146 Q157.218 544.729 157.218 553.479 Q157.218 562.206 154.14 566.812 Q151.084 571.396 145.274 571.396 Q139.464 571.396 136.385 566.812 Q133.33 562.206 133.33 553.479 Q133.33 544.729 136.385 540.146 Q139.464 535.539 145.274 535.539 Z\" fill=\"#000000\" fill-rule=\"evenodd\" fill-opacity=\"1\" /><path clip-path=\"url(#clip190)\" d=\"M 0 0 M66.5939 242.815 L54.7884 261.264 L66.5939 261.264 L66.5939 242.815 M65.367 238.741 L71.2466 238.741 L71.2466 261.264 L76.1772 261.264 L76.1772 265.153 L71.2466 265.153 L71.2466 273.301 L66.5939 273.301 L66.5939 265.153 L50.9921 265.153 L50.9921 260.639 L65.367 238.741 Z\" fill=\"#000000\" fill-rule=\"evenodd\" fill-opacity=\"1\" /><path clip-path=\"url(#clip190)\" d=\"M 0 0 M91.2465 241.819 Q87.6354 241.819 85.8068 245.384 Q84.0012 248.926 84.0012 256.055 Q84.0012 263.162 85.8068 266.727 Q87.6354 270.268 91.2465 270.268 Q94.8808 270.268 96.6863 266.727 Q98.515 263.162 98.515 256.055 Q98.515 248.926 96.6863 245.384 Q94.8808 241.819 91.2465 241.819 M91.2465 238.116 Q97.0567 238.116 100.112 242.722 Q103.191 247.305 103.191 256.055 Q103.191 264.782 100.112 269.389 Q97.0567 273.972 91.2465 273.972 Q85.4364 273.972 82.3577 269.389 Q79.3022 264.782 79.3022 256.055 Q79.3022 247.305 82.3577 242.722 Q85.4364 238.116 91.2465 238.116 Z\" fill=\"#000000\" fill-rule=\"evenodd\" fill-opacity=\"1\" /><path clip-path=\"url(#clip190)\" d=\"M 0 0 M118.26 241.819 Q114.649 241.819 112.82 245.384 Q111.015 248.926 111.015 256.055 Q111.015 263.162 112.82 266.727 Q114.649 270.268 118.26 270.268 Q121.895 270.268 123.7 266.727 Q125.529 263.162 125.529 256.055 Q125.529 248.926 123.7 245.384 Q121.895 241.819 118.26 241.819 M118.26 238.116 Q124.07 238.116 127.126 242.722 Q130.205 247.305 130.205 256.055 Q130.205 264.782 127.126 269.389 Q124.07 273.972 118.26 273.972 Q112.45 273.972 109.371 269.389 Q106.316 264.782 106.316 256.055 Q106.316 247.305 109.371 242.722 Q112.45 238.116 118.26 238.116 Z\" fill=\"#000000\" fill-rule=\"evenodd\" fill-opacity=\"1\" /><path clip-path=\"url(#clip190)\" d=\"M 0 0 M145.274 241.819 Q141.663 241.819 139.834 245.384 Q138.029 248.926 138.029 256.055 Q138.029 263.162 139.834 266.727 Q141.663 270.268 145.274 270.268 Q148.908 270.268 150.714 266.727 Q152.543 263.162 152.543 256.055 Q152.543 248.926 150.714 245.384 Q148.908 241.819 145.274 241.819 M145.274 238.116 Q151.084 238.116 154.14 242.722 Q157.218 247.305 157.218 256.055 Q157.218 264.782 154.14 269.389 Q151.084 273.972 145.274 273.972 Q139.464 273.972 136.385 269.389 Q133.33 264.782 133.33 256.055 Q133.33 247.305 136.385 242.722 Q139.464 238.116 145.274 238.116 Z\" fill=\"#000000\" fill-rule=\"evenodd\" fill-opacity=\"1\" /><path clip-path=\"url(#clip192)\" d=\"\n",
       "M311.997 493.662 L311.997 1445.72 L403.52 1445.72 L403.52 493.662 L311.997 493.662 L311.997 493.662  Z\n",
       "  \" fill=\"#009af9\" fill-rule=\"evenodd\" fill-opacity=\"1\"/>\n",
       "<polyline clip-path=\"url(#clip192)\" style=\"stroke:#000000; stroke-width:4; stroke-opacity:1; fill:none\" points=\"\n",
       "  311.997,493.662 311.997,1445.72 403.52,1445.72 403.52,493.662 311.997,493.662 \n",
       "  \"/>\n",
       "<path clip-path=\"url(#clip192)\" d=\"\n",
       "M403.52 1445.72 L403.52 1445.72 L495.043 1445.72 L495.043 1445.72 L403.52 1445.72 L403.52 1445.72  Z\n",
       "  \" fill=\"#009af9\" fill-rule=\"evenodd\" fill-opacity=\"1\"/>\n",
       "<polyline clip-path=\"url(#clip192)\" style=\"stroke:#000000; stroke-width:4; stroke-opacity:1; fill:none\" points=\"\n",
       "  403.52,1445.72 403.52,1445.72 495.043,1445.72 403.52,1445.72 \n",
       "  \"/>\n",
       "<path clip-path=\"url(#clip192)\" d=\"\n",
       "M495.043 1445.72 L495.043 1445.72 L586.565 1445.72 L586.565 1445.72 L495.043 1445.72 L495.043 1445.72  Z\n",
       "  \" fill=\"#009af9\" fill-rule=\"evenodd\" fill-opacity=\"1\"/>\n",
       "<polyline clip-path=\"url(#clip192)\" style=\"stroke:#000000; stroke-width:4; stroke-opacity:1; fill:none\" points=\"\n",
       "  495.043,1445.72 495.043,1445.72 586.565,1445.72 495.043,1445.72 \n",
       "  \"/>\n",
       "<path clip-path=\"url(#clip192)\" d=\"\n",
       "M586.565 1445.72 L586.565 1445.72 L678.088 1445.72 L678.088 1445.72 L586.565 1445.72 L586.565 1445.72  Z\n",
       "  \" fill=\"#009af9\" fill-rule=\"evenodd\" fill-opacity=\"1\"/>\n",
       "<polyline clip-path=\"url(#clip192)\" style=\"stroke:#000000; stroke-width:4; stroke-opacity:1; fill:none\" points=\"\n",
       "  586.565,1445.72 586.565,1445.72 678.088,1445.72 586.565,1445.72 \n",
       "  \"/>\n",
       "<path clip-path=\"url(#clip192)\" d=\"\n",
       "M678.088 1445.72 L678.088 1445.72 L769.611 1445.72 L769.611 1445.72 L678.088 1445.72 L678.088 1445.72  Z\n",
       "  \" fill=\"#009af9\" fill-rule=\"evenodd\" fill-opacity=\"1\"/>\n",
       "<polyline clip-path=\"url(#clip192)\" style=\"stroke:#000000; stroke-width:4; stroke-opacity:1; fill:none\" points=\"\n",
       "  678.088,1445.72 678.088,1445.72 769.611,1445.72 678.088,1445.72 \n",
       "  \"/>\n",
       "<path clip-path=\"url(#clip192)\" d=\"\n",
       "M769.611 1445.72 L769.611 1445.72 L861.134 1445.72 L861.134 1445.72 L769.611 1445.72 L769.611 1445.72  Z\n",
       "  \" fill=\"#009af9\" fill-rule=\"evenodd\" fill-opacity=\"1\"/>\n",
       "<polyline clip-path=\"url(#clip192)\" style=\"stroke:#000000; stroke-width:4; stroke-opacity:1; fill:none\" points=\"\n",
       "  769.611,1445.72 769.611,1445.72 861.134,1445.72 769.611,1445.72 \n",
       "  \"/>\n",
       "<path clip-path=\"url(#clip192)\" d=\"\n",
       "M861.134 1445.72 L861.134 1445.72 L952.657 1445.72 L952.657 1445.72 L861.134 1445.72 L861.134 1445.72  Z\n",
       "  \" fill=\"#009af9\" fill-rule=\"evenodd\" fill-opacity=\"1\"/>\n",
       "<polyline clip-path=\"url(#clip192)\" style=\"stroke:#000000; stroke-width:4; stroke-opacity:1; fill:none\" points=\"\n",
       "  861.134,1445.72 861.134,1445.72 952.657,1445.72 861.134,1445.72 \n",
       "  \"/>\n",
       "<path clip-path=\"url(#clip192)\" d=\"\n",
       "M952.657 1445.72 L952.657 1445.72 L1044.18 1445.72 L1044.18 1445.72 L952.657 1445.72 L952.657 1445.72  Z\n",
       "  \" fill=\"#009af9\" fill-rule=\"evenodd\" fill-opacity=\"1\"/>\n",
       "<polyline clip-path=\"url(#clip192)\" style=\"stroke:#000000; stroke-width:4; stroke-opacity:1; fill:none\" points=\"\n",
       "  952.657,1445.72 952.657,1445.72 1044.18,1445.72 952.657,1445.72 \n",
       "  \"/>\n",
       "<path clip-path=\"url(#clip192)\" d=\"\n",
       "M1044.18 1445.72 L1044.18 1445.72 L1135.7 1445.72 L1135.7 1445.72 L1044.18 1445.72 L1044.18 1445.72  Z\n",
       "  \" fill=\"#009af9\" fill-rule=\"evenodd\" fill-opacity=\"1\"/>\n",
       "<polyline clip-path=\"url(#clip192)\" style=\"stroke:#000000; stroke-width:4; stroke-opacity:1; fill:none\" points=\"\n",
       "  1044.18,1445.72 1044.18,1445.72 1135.7,1445.72 1044.18,1445.72 \n",
       "  \"/>\n",
       "<path clip-path=\"url(#clip192)\" d=\"\n",
       "M1135.7 1445.72 L1135.7 1445.72 L1227.23 1445.72 L1227.23 1445.72 L1135.7 1445.72 L1135.7 1445.72  Z\n",
       "  \" fill=\"#009af9\" fill-rule=\"evenodd\" fill-opacity=\"1\"/>\n",
       "<polyline clip-path=\"url(#clip192)\" style=\"stroke:#000000; stroke-width:4; stroke-opacity:1; fill:none\" points=\"\n",
       "  1135.7,1445.72 1135.7,1445.72 1227.23,1445.72 1135.7,1445.72 \n",
       "  \"/>\n",
       "<path clip-path=\"url(#clip192)\" d=\"\n",
       "M1227.23 87.9763 L1227.23 1445.72 L1318.75 1445.72 L1318.75 87.9763 L1227.23 87.9763 L1227.23 87.9763  Z\n",
       "  \" fill=\"#009af9\" fill-rule=\"evenodd\" fill-opacity=\"1\"/>\n",
       "<polyline clip-path=\"url(#clip192)\" style=\"stroke:#000000; stroke-width:4; stroke-opacity:1; fill:none\" points=\"\n",
       "  1227.23,87.9763 1227.23,1445.72 1318.75,1445.72 1318.75,87.9763 1227.23,87.9763 \n",
       "  \"/>\n",
       "<path clip-path=\"url(#clip192)\" d=\"\n",
       "M1318.75 1445.72 L1318.75 1445.72 L1410.27 1445.72 L1410.27 1445.72 L1318.75 1445.72 L1318.75 1445.72  Z\n",
       "  \" fill=\"#009af9\" fill-rule=\"evenodd\" fill-opacity=\"1\"/>\n",
       "<polyline clip-path=\"url(#clip192)\" style=\"stroke:#000000; stroke-width:4; stroke-opacity:1; fill:none\" points=\"\n",
       "  1318.75,1445.72 1318.75,1445.72 1410.27,1445.72 1318.75,1445.72 \n",
       "  \"/>\n",
       "<path clip-path=\"url(#clip192)\" d=\"\n",
       "M1410.27 1445.72 L1410.27 1445.72 L1501.79 1445.72 L1501.79 1445.72 L1410.27 1445.72 L1410.27 1445.72  Z\n",
       "  \" fill=\"#009af9\" fill-rule=\"evenodd\" fill-opacity=\"1\"/>\n",
       "<polyline clip-path=\"url(#clip192)\" style=\"stroke:#000000; stroke-width:4; stroke-opacity:1; fill:none\" points=\"\n",
       "  1410.27,1445.72 1410.27,1445.72 1501.79,1445.72 1410.27,1445.72 \n",
       "  \"/>\n",
       "<path clip-path=\"url(#clip192)\" d=\"\n",
       "M1501.79 1445.72 L1501.79 1445.72 L1593.32 1445.72 L1593.32 1445.72 L1501.79 1445.72 L1501.79 1445.72  Z\n",
       "  \" fill=\"#009af9\" fill-rule=\"evenodd\" fill-opacity=\"1\"/>\n",
       "<polyline clip-path=\"url(#clip192)\" style=\"stroke:#000000; stroke-width:4; stroke-opacity:1; fill:none\" points=\"\n",
       "  1501.79,1445.72 1501.79,1445.72 1593.32,1445.72 1501.79,1445.72 \n",
       "  \"/>\n",
       "<path clip-path=\"url(#clip192)\" d=\"\n",
       "M1593.32 1445.72 L1593.32 1445.72 L1684.84 1445.72 L1684.84 1445.72 L1593.32 1445.72 L1593.32 1445.72  Z\n",
       "  \" fill=\"#009af9\" fill-rule=\"evenodd\" fill-opacity=\"1\"/>\n",
       "<polyline clip-path=\"url(#clip192)\" style=\"stroke:#000000; stroke-width:4; stroke-opacity:1; fill:none\" points=\"\n",
       "  1593.32,1445.72 1593.32,1445.72 1684.84,1445.72 1593.32,1445.72 \n",
       "  \"/>\n",
       "<path clip-path=\"url(#clip192)\" d=\"\n",
       "M1684.84 1445.72 L1684.84 1445.72 L1776.36 1445.72 L1776.36 1445.72 L1684.84 1445.72 L1684.84 1445.72  Z\n",
       "  \" fill=\"#009af9\" fill-rule=\"evenodd\" fill-opacity=\"1\"/>\n",
       "<polyline clip-path=\"url(#clip192)\" style=\"stroke:#000000; stroke-width:4; stroke-opacity:1; fill:none\" points=\"\n",
       "  1684.84,1445.72 1684.84,1445.72 1776.36,1445.72 1684.84,1445.72 \n",
       "  \"/>\n",
       "<path clip-path=\"url(#clip192)\" d=\"\n",
       "M1776.36 1445.72 L1776.36 1445.72 L1867.89 1445.72 L1867.89 1445.72 L1776.36 1445.72 L1776.36 1445.72  Z\n",
       "  \" fill=\"#009af9\" fill-rule=\"evenodd\" fill-opacity=\"1\"/>\n",
       "<polyline clip-path=\"url(#clip192)\" style=\"stroke:#000000; stroke-width:4; stroke-opacity:1; fill:none\" points=\"\n",
       "  1776.36,1445.72 1776.36,1445.72 1867.89,1445.72 1776.36,1445.72 \n",
       "  \"/>\n",
       "<path clip-path=\"url(#clip192)\" d=\"\n",
       "M1867.89 1445.72 L1867.89 1445.72 L1959.41 1445.72 L1959.41 1445.72 L1867.89 1445.72 L1867.89 1445.72  Z\n",
       "  \" fill=\"#009af9\" fill-rule=\"evenodd\" fill-opacity=\"1\"/>\n",
       "<polyline clip-path=\"url(#clip192)\" style=\"stroke:#000000; stroke-width:4; stroke-opacity:1; fill:none\" points=\"\n",
       "  1867.89,1445.72 1867.89,1445.72 1959.41,1445.72 1867.89,1445.72 \n",
       "  \"/>\n",
       "<path clip-path=\"url(#clip192)\" d=\"\n",
       "M1959.41 1445.72 L1959.41 1445.72 L2050.93 1445.72 L2050.93 1445.72 L1959.41 1445.72 L1959.41 1445.72  Z\n",
       "  \" fill=\"#009af9\" fill-rule=\"evenodd\" fill-opacity=\"1\"/>\n",
       "<polyline clip-path=\"url(#clip192)\" style=\"stroke:#000000; stroke-width:4; stroke-opacity:1; fill:none\" points=\"\n",
       "  1959.41,1445.72 1959.41,1445.72 2050.93,1445.72 1959.41,1445.72 \n",
       "  \"/>\n",
       "<path clip-path=\"url(#clip192)\" d=\"\n",
       "M2050.93 1445.72 L2050.93 1445.72 L2142.45 1445.72 L2142.45 1445.72 L2050.93 1445.72 L2050.93 1445.72  Z\n",
       "  \" fill=\"#009af9\" fill-rule=\"evenodd\" fill-opacity=\"1\"/>\n",
       "<polyline clip-path=\"url(#clip192)\" style=\"stroke:#000000; stroke-width:4; stroke-opacity:1; fill:none\" points=\"\n",
       "  2050.93,1445.72 2050.93,1445.72 2142.45,1445.72 2050.93,1445.72 \n",
       "  \"/>\n",
       "<path clip-path=\"url(#clip192)\" d=\"\n",
       "M2142.45 781.271 L2142.45 1445.72 L2233.98 1445.72 L2233.98 781.271 L2142.45 781.271 L2142.45 781.271  Z\n",
       "  \" fill=\"#009af9\" fill-rule=\"evenodd\" fill-opacity=\"1\"/>\n",
       "<polyline clip-path=\"url(#clip192)\" style=\"stroke:#000000; stroke-width:4; stroke-opacity:1; fill:none\" points=\"\n",
       "  2142.45,781.271 2142.45,1445.72 2233.98,1445.72 2233.98,781.271 2142.45,781.271 \n",
       "  \"/>\n",
       "<path clip-path=\"url(#clip190)\" d=\"\n",
       "M1989.8 216.178 L2280.77 216.178 L2280.77 95.2176 L1989.8 95.2176  Z\n",
       "  \" fill=\"#ffffff\" fill-rule=\"evenodd\" fill-opacity=\"1\"/>\n",
       "<polyline clip-path=\"url(#clip190)\" style=\"stroke:#000000; stroke-width:4; stroke-opacity:1; fill:none\" points=\"\n",
       "  1989.8,216.178 2280.77,216.178 2280.77,95.2176 1989.8,95.2176 1989.8,216.178 \n",
       "  \"/>\n",
       "<path clip-path=\"url(#clip190)\" d=\"\n",
       "M2013.8 179.89 L2157.77 179.89 L2157.77 131.506 L2013.8 131.506 L2013.8 179.89  Z\n",
       "  \" fill=\"#009af9\" fill-rule=\"evenodd\" fill-opacity=\"1\"/>\n",
       "<polyline clip-path=\"url(#clip190)\" style=\"stroke:#000000; stroke-width:4; stroke-opacity:1; fill:none\" points=\"\n",
       "  2013.8,179.89 2157.77,179.89 2157.77,131.506 2013.8,131.506 2013.8,179.89 \n",
       "  \"/>\n",
       "<path clip-path=\"url(#clip190)\" d=\"M 0 0 M2195.61 175.385 Q2193.8 180.015 2192.09 181.427 Q2190.37 182.839 2187.5 182.839 L2184.1 182.839 L2184.1 179.274 L2186.6 179.274 Q2188.36 179.274 2189.33 178.44 Q2190.3 177.607 2191.49 174.505 L2192.25 172.561 L2181.76 147.052 L2186.28 147.052 L2194.38 167.329 L2202.48 147.052 L2206.99 147.052 L2195.61 175.385 Z\" fill=\"#000000\" fill-rule=\"evenodd\" fill-opacity=\"1\" /><path clip-path=\"url(#clip190)\" d=\"M 0 0 M2212.87 169.042 L2220.51 169.042 L2220.51 142.677 L2212.2 144.343 L2212.2 140.084 L2220.47 138.418 L2225.14 138.418 L2225.14 169.042 L2232.78 169.042 L2232.78 172.978 L2212.87 172.978 L2212.87 169.042 Z\" fill=\"#000000\" fill-rule=\"evenodd\" fill-opacity=\"1\" /></svg>\n"
      ]
     },
     "execution_count": 116,
     "metadata": {},
     "output_type": "execute_result"
    }
   ],
   "source": [
    "test_randomizer([0.35, 0.5, 0.25])"
   ]
  },
  {
   "cell_type": "markdown",
   "metadata": {},
   "source": [
    "## Markov chains\n",
    "If $S$ is Markovian,\n",
    "$$\n",
    "\\Pr(S_t=n | t-1) =\n",
    "\\Pr(S_t=n | S_{t-1}=s) = P_{sn}\n",
    "$$\n",
    "$N^2$ (conditional) probabilities,\n",
    "$$\n",
    "0 \\le P_{sn}\\le 1\n",
    "$$\n",
    "$$\n",
    "\\sum_{n=1}^N P_{sn} = 1\n",
    "\\text{ for all }s\n",
    "$$\n",
    "**Transition matrix**:\n",
    "$$\n",
    "\\mathbf P = \n",
    "\\begin{bmatrix}\n",
    "P_{11} & P_{12} & ...\\\\\n",
    "P_{21} & P_{22} & ...\\\\\n",
    "...\n",
    "\\end{bmatrix}\n",
    "$$\n",
    "$$\n",
    "0 .\\le \\mathbf P .\\le 1 \\tag{*}\n",
    "$$\n",
    "$$\n",
    "\\mathbf P \\mathbf 1 = \\mathbf 1\n",
    "\\tag{**}\n",
    "$$\n",
    "(\\*) and (\\*\\*) mean *stochastic matrix*.\n",
    "$$\n",
    "(\\mathbf P - 1\\mathbf I)\\mathbf 1 = \\mathbf 0\n",
    "$$\n",
    "$$\n",
    "1 \\in \\text{eig}(\\mathbf P)\n",
    "$$\n",
    "### Forecasting\n",
    "Take a transition matrix $P$. If $S_0=1$,\n",
    "$$\n",
    "\\Pr(S_1 =n | S_0 = 1) = P_{1n}.\n",
    "$$\n",
    "for two periods\n",
    "$$\n",
    "\\Pr(S_2 = n | S_0 = 1) =\n",
    "\\sum_{s=1}^N\n",
    "\\Pr(S_2 = n | S_1 = s)\n",
    "\\Pr(S_1 = s | S_0 = 1)\n",
    "$$\n",
    "$$\n",
    "=\\sum_{s=1}^N P_{sn} P_{1s}\n",
    "$$\n",
    "\n",
    "$$\n",
    "\\mathbf P =\n",
    "\\begin{bmatrix}\n",
    "... & P_{1n} & ... \\\\\n",
    "... & P_{2n} & ... \\\\\n",
    "...\n",
    "\\end{bmatrix}\n",
    "$$\n",
    "$$\n",
    "\\mathbf P =\n",
    "\\begin{bmatrix}\n",
    "P_{11} & ... & P_{1N} \\\\\n",
    "... & ... & ... \\\\\n",
    "...\n",
    "\\end{bmatrix}\n",
    "$$\n",
    "$$\n",
    "[\\mathbf P \\mathbf P]_{1n} =\n",
    "\\mathbf P_{1.}\\mathbf P_{.n} = \n",
    "\\sum_{s=1}^N P_{sn} P_{1s}\n",
    "$$\n",
    "$$\n",
    "\\pi_2 =  [\\mathbf P^2]_{1.} = \\mathbf e_1\\mathbf P^2\n",
    "$$\n",
    "$$\n",
    "\\pi_t = \\mathbf e_1\\mathbf P^t\n",
    "$$\n",
    "\n",
    "$$\n",
    "\\pi_t = \\pi_{t-1} \\mathbf P \\tag{TRE}\n",
    "$$\n",
    "$$\n",
    "\\pi_t = \\pi_0 \\mathbf P^t \\tag{MCF}\n",
    "$$\n",
    "$$=\n",
    "\\sum_{i=1}^N\n",
    "\\pi_{i0}\\mathbf e_i \\mathbf P^t\n",
    "$$\n",
    "$$\n",
    "\\sum_{i=1}^N\n",
    "\\pi_{i0}\\mathbf e_i = \\pi_0\n",
    "$$\n"
   ]
  },
  {
   "cell_type": "code",
   "execution_count": 4,
   "metadata": {},
   "outputs": [
    {
     "data": {
      "text/plain": [
       "2×2 Array{Float64,2}:\n",
       " 0.9  0.1\n",
       " 0.4  0.6"
      ]
     },
     "execution_count": 4,
     "metadata": {},
     "output_type": "execute_result"
    }
   ],
   "source": [
    "P = [0.9 0.1; 0.4 0.6]"
   ]
  },
  {
   "cell_type": "code",
   "execution_count": 118,
   "metadata": {},
   "outputs": [
    {
     "data": {
      "text/plain": [
       "2×1 Array{Float64,2}:\n",
       " 1.0\n",
       " 1.0"
      ]
     },
     "execution_count": 118,
     "metadata": {},
     "output_type": "execute_result"
    }
   ],
   "source": [
    "sum(P, dims=2)"
   ]
  },
  {
   "cell_type": "code",
   "execution_count": 121,
   "metadata": {},
   "outputs": [
    {
     "data": {
      "text/plain": [
       "simulate_markov_chain! (generic function with 1 method)"
      ]
     },
     "execution_count": 121,
     "metadata": {},
     "output_type": "execute_result"
    }
   ],
   "source": [
    "function simulate_markov_chain!(S::Vector{Int64}, P::Array{Float64, 2})\n",
    "    T = length(S)\n",
    "    for t = 2:T\n",
    "        S[t] = draw_random_state(P[S[t-1], :])\n",
    "    end\n",
    "end"
   ]
  },
  {
   "cell_type": "code",
   "execution_count": 120,
   "metadata": {},
   "outputs": [
    {
     "data": {
      "text/plain": [
       "2-element Array{Float64,1}:\n",
       " 0.9\n",
       " 0.1"
      ]
     },
     "execution_count": 120,
     "metadata": {},
     "output_type": "execute_result"
    }
   ],
   "source": [
    "P[1,:]"
   ]
  },
  {
   "cell_type": "code",
   "execution_count": 132,
   "metadata": {},
   "outputs": [
    {
     "data": {
      "text/plain": [
       "2×2 Array{Float64,2}:\n",
       " 0.9  0.1\n",
       " 0.4  0.6"
      ]
     },
     "execution_count": 132,
     "metadata": {},
     "output_type": "execute_result"
    }
   ],
   "source": [
    "P"
   ]
  },
  {
   "cell_type": "code",
   "execution_count": 136,
   "metadata": {},
   "outputs": [
    {
     "data": {
      "image/svg+xml": [
       "<?xml version=\"1.0\" encoding=\"utf-8\"?>\n",
       "<svg xmlns=\"http://www.w3.org/2000/svg\" xmlns:xlink=\"http://www.w3.org/1999/xlink\" width=\"600\" height=\"400\" viewBox=\"0 0 2400 1600\">\n",
       "<defs>\n",
       "  <clipPath id=\"clip510\">\n",
       "    <rect x=\"0\" y=\"0\" width=\"2400\" height=\"1600\"/>\n",
       "  </clipPath>\n",
       "</defs>\n",
       "<path clip-path=\"url(#clip510)\" d=\"\n",
       "M0 1600 L2400 1600 L2400 0 L0 0  Z\n",
       "  \" fill=\"#ffffff\" fill-rule=\"evenodd\" fill-opacity=\"1\"/>\n",
       "<defs>\n",
       "  <clipPath id=\"clip511\">\n",
       "    <rect x=\"480\" y=\"0\" width=\"1681\" height=\"1600\"/>\n",
       "  </clipPath>\n",
       "</defs>\n",
       "<path clip-path=\"url(#clip510)\" d=\"\n",
       "M172.918 1486.45 L2352.76 1486.45 L2352.76 47.2441 L172.918 47.2441  Z\n",
       "  \" fill=\"#ffffff\" fill-rule=\"evenodd\" fill-opacity=\"1\"/>\n",
       "<defs>\n",
       "  <clipPath id=\"clip512\">\n",
       "    <rect x=\"172\" y=\"47\" width=\"2181\" height=\"1440\"/>\n",
       "  </clipPath>\n",
       "</defs>\n",
       "<polyline clip-path=\"url(#clip512)\" style=\"stroke:#000000; stroke-width:2; stroke-opacity:0.1; fill:none\" points=\"\n",
       "  213.839,1486.45 213.839,47.2441 \n",
       "  \"/>\n",
       "<polyline clip-path=\"url(#clip512)\" style=\"stroke:#000000; stroke-width:2; stroke-opacity:0.1; fill:none\" points=\"\n",
       "  733.145,1486.45 733.145,47.2441 \n",
       "  \"/>\n",
       "<polyline clip-path=\"url(#clip512)\" style=\"stroke:#000000; stroke-width:2; stroke-opacity:0.1; fill:none\" points=\"\n",
       "  1252.45,1486.45 1252.45,47.2441 \n",
       "  \"/>\n",
       "<polyline clip-path=\"url(#clip512)\" style=\"stroke:#000000; stroke-width:2; stroke-opacity:0.1; fill:none\" points=\"\n",
       "  1771.76,1486.45 1771.76,47.2441 \n",
       "  \"/>\n",
       "<polyline clip-path=\"url(#clip512)\" style=\"stroke:#000000; stroke-width:2; stroke-opacity:0.1; fill:none\" points=\"\n",
       "  2291.06,1486.45 2291.06,47.2441 \n",
       "  \"/>\n",
       "<polyline clip-path=\"url(#clip510)\" style=\"stroke:#000000; stroke-width:4; stroke-opacity:1; fill:none\" points=\"\n",
       "  172.918,1486.45 2352.76,1486.45 \n",
       "  \"/>\n",
       "<polyline clip-path=\"url(#clip510)\" style=\"stroke:#000000; stroke-width:4; stroke-opacity:1; fill:none\" points=\"\n",
       "  213.839,1486.45 213.839,1469.18 \n",
       "  \"/>\n",
       "<polyline clip-path=\"url(#clip510)\" style=\"stroke:#000000; stroke-width:4; stroke-opacity:1; fill:none\" points=\"\n",
       "  733.145,1486.45 733.145,1469.18 \n",
       "  \"/>\n",
       "<polyline clip-path=\"url(#clip510)\" style=\"stroke:#000000; stroke-width:4; stroke-opacity:1; fill:none\" points=\"\n",
       "  1252.45,1486.45 1252.45,1469.18 \n",
       "  \"/>\n",
       "<polyline clip-path=\"url(#clip510)\" style=\"stroke:#000000; stroke-width:4; stroke-opacity:1; fill:none\" points=\"\n",
       "  1771.76,1486.45 1771.76,1469.18 \n",
       "  \"/>\n",
       "<polyline clip-path=\"url(#clip510)\" style=\"stroke:#000000; stroke-width:4; stroke-opacity:1; fill:none\" points=\"\n",
       "  2291.06,1486.45 2291.06,1469.18 \n",
       "  \"/>\n",
       "<path clip-path=\"url(#clip510)\" d=\"M 0 0 M213.839 1515.64 Q210.228 1515.64 208.399 1519.2 Q206.594 1522.75 206.594 1529.87 Q206.594 1536.98 208.399 1540.55 Q210.228 1544.09 213.839 1544.09 Q217.473 1544.09 219.279 1540.55 Q221.107 1536.98 221.107 1529.87 Q221.107 1522.75 219.279 1519.2 Q217.473 1515.64 213.839 1515.64 M213.839 1511.93 Q219.649 1511.93 222.705 1516.54 Q225.783 1521.12 225.783 1529.87 Q225.783 1538.6 222.705 1543.21 Q219.649 1547.79 213.839 1547.79 Q208.029 1547.79 204.95 1543.21 Q201.895 1538.6 201.895 1529.87 Q201.895 1521.12 204.95 1516.54 Q208.029 1511.93 213.839 1511.93 Z\" fill=\"#000000\" fill-rule=\"evenodd\" fill-opacity=\"1\" /><path clip-path=\"url(#clip510)\" d=\"M 0 0 M714.788 1543.18 L731.108 1543.18 L731.108 1547.12 L709.163 1547.12 L709.163 1543.18 Q711.825 1540.43 716.409 1535.8 Q721.015 1531.15 722.196 1529.81 Q724.441 1527.28 725.321 1525.55 Q726.224 1523.79 726.224 1522.1 Q726.224 1519.34 724.279 1517.61 Q722.358 1515.87 719.256 1515.87 Q717.057 1515.87 714.603 1516.63 Q712.173 1517.4 709.395 1518.95 L709.395 1514.23 Q712.219 1513.09 714.673 1512.51 Q717.126 1511.93 719.163 1511.93 Q724.534 1511.93 727.728 1514.62 Q730.923 1517.31 730.923 1521.8 Q730.923 1523.93 730.112 1525.85 Q729.325 1527.74 727.219 1530.34 Q726.64 1531.01 723.538 1534.23 Q720.436 1537.42 714.788 1543.18 Z\" fill=\"#000000\" fill-rule=\"evenodd\" fill-opacity=\"1\" /><path clip-path=\"url(#clip510)\" d=\"M 0 0 M736.223 1512.56 L754.58 1512.56 L754.58 1516.5 L740.506 1516.5 L740.506 1524.97 Q741.524 1524.62 742.543 1524.46 Q743.561 1524.27 744.58 1524.27 Q750.367 1524.27 753.747 1527.44 Q757.126 1530.62 757.126 1536.03 Q757.126 1541.61 753.654 1544.71 Q750.182 1547.79 743.862 1547.79 Q741.686 1547.79 739.418 1547.42 Q737.173 1547.05 734.765 1546.31 L734.765 1541.61 Q736.848 1542.74 739.071 1543.3 Q741.293 1543.86 743.77 1543.86 Q747.774 1543.86 750.112 1541.75 Q752.45 1539.64 752.45 1536.03 Q752.45 1532.42 750.112 1530.31 Q747.774 1528.21 743.77 1528.21 Q741.895 1528.21 740.02 1528.62 Q738.168 1529.04 736.223 1529.92 L736.223 1512.56 Z\" fill=\"#000000\" fill-rule=\"evenodd\" fill-opacity=\"1\" /><path clip-path=\"url(#clip510)\" d=\"M 0 0 M1229.22 1512.56 L1247.58 1512.56 L1247.58 1516.5 L1233.5 1516.5 L1233.5 1524.97 Q1234.52 1524.62 1235.54 1524.46 Q1236.56 1524.27 1237.58 1524.27 Q1243.37 1524.27 1246.74 1527.44 Q1250.12 1530.62 1250.12 1536.03 Q1250.12 1541.61 1246.65 1544.71 Q1243.18 1547.79 1236.86 1547.79 Q1234.68 1547.79 1232.42 1547.42 Q1230.17 1547.05 1227.76 1546.31 L1227.76 1541.61 Q1229.85 1542.74 1232.07 1543.3 Q1234.29 1543.86 1236.77 1543.86 Q1240.77 1543.86 1243.11 1541.75 Q1245.45 1539.64 1245.45 1536.03 Q1245.45 1532.42 1243.11 1530.31 Q1240.77 1528.21 1236.77 1528.21 Q1234.89 1528.21 1233.02 1528.62 Q1231.17 1529.04 1229.22 1529.92 L1229.22 1512.56 Z\" fill=\"#000000\" fill-rule=\"evenodd\" fill-opacity=\"1\" /><path clip-path=\"url(#clip510)\" d=\"M 0 0 M1265.19 1515.64 Q1261.58 1515.64 1259.75 1519.2 Q1257.95 1522.75 1257.95 1529.87 Q1257.95 1536.98 1259.75 1540.55 Q1261.58 1544.09 1265.19 1544.09 Q1268.83 1544.09 1270.63 1540.55 Q1272.46 1536.98 1272.46 1529.87 Q1272.46 1522.75 1270.63 1519.2 Q1268.83 1515.64 1265.19 1515.64 M1265.19 1511.93 Q1271 1511.93 1274.06 1516.54 Q1277.14 1521.12 1277.14 1529.87 Q1277.14 1538.6 1274.06 1543.21 Q1271 1547.79 1265.19 1547.79 Q1259.38 1547.79 1256.3 1543.21 Q1253.25 1538.6 1253.25 1529.87 Q1253.25 1521.12 1256.3 1516.54 Q1259.38 1511.93 1265.19 1511.93 Z\" fill=\"#000000\" fill-rule=\"evenodd\" fill-opacity=\"1\" /><path clip-path=\"url(#clip510)\" d=\"M 0 0 M1747.64 1512.56 L1769.86 1512.56 L1769.86 1514.55 L1757.31 1547.12 L1752.43 1547.12 L1764.23 1516.5 L1747.64 1516.5 L1747.64 1512.56 Z\" fill=\"#000000\" fill-rule=\"evenodd\" fill-opacity=\"1\" /><path clip-path=\"url(#clip510)\" d=\"M 0 0 M1774.97 1512.56 L1793.33 1512.56 L1793.33 1516.5 L1779.26 1516.5 L1779.26 1524.97 Q1780.27 1524.62 1781.29 1524.46 Q1782.31 1524.27 1783.33 1524.27 Q1789.12 1524.27 1792.5 1527.44 Q1795.88 1530.62 1795.88 1536.03 Q1795.88 1541.61 1792.4 1544.71 Q1788.93 1547.79 1782.61 1547.79 Q1780.44 1547.79 1778.17 1547.42 Q1775.92 1547.05 1773.52 1546.31 L1773.52 1541.61 Q1775.6 1542.74 1777.82 1543.3 Q1780.04 1543.86 1782.52 1543.86 Q1786.52 1543.86 1788.86 1541.75 Q1791.2 1539.64 1791.2 1536.03 Q1791.2 1532.42 1788.86 1530.31 Q1786.52 1528.21 1782.52 1528.21 Q1780.65 1528.21 1778.77 1528.62 Q1776.92 1529.04 1774.97 1529.92 L1774.97 1512.56 Z\" fill=\"#000000\" fill-rule=\"evenodd\" fill-opacity=\"1\" /><path clip-path=\"url(#clip510)\" d=\"M 0 0 M2254.43 1543.18 L2262.07 1543.18 L2262.07 1516.82 L2253.76 1518.49 L2253.76 1514.23 L2262.02 1512.56 L2266.7 1512.56 L2266.7 1543.18 L2274.34 1543.18 L2274.34 1547.12 L2254.43 1547.12 L2254.43 1543.18 Z\" fill=\"#000000\" fill-rule=\"evenodd\" fill-opacity=\"1\" /><path clip-path=\"url(#clip510)\" d=\"M 0 0 M2289.41 1515.64 Q2285.8 1515.64 2283.97 1519.2 Q2282.16 1522.75 2282.16 1529.87 Q2282.16 1536.98 2283.97 1540.55 Q2285.8 1544.09 2289.41 1544.09 Q2293.04 1544.09 2294.85 1540.55 Q2296.68 1536.98 2296.68 1529.87 Q2296.68 1522.75 2294.85 1519.2 Q2293.04 1515.64 2289.41 1515.64 M2289.41 1511.93 Q2295.22 1511.93 2298.27 1516.54 Q2301.35 1521.12 2301.35 1529.87 Q2301.35 1538.6 2298.27 1543.21 Q2295.22 1547.79 2289.41 1547.79 Q2283.6 1547.79 2280.52 1543.21 Q2277.46 1538.6 2277.46 1529.87 Q2277.46 1521.12 2280.52 1516.54 Q2283.6 1511.93 2289.41 1511.93 Z\" fill=\"#000000\" fill-rule=\"evenodd\" fill-opacity=\"1\" /><path clip-path=\"url(#clip510)\" d=\"M 0 0 M2316.42 1515.64 Q2312.81 1515.64 2310.98 1519.2 Q2309.18 1522.75 2309.18 1529.87 Q2309.18 1536.98 2310.98 1540.55 Q2312.81 1544.09 2316.42 1544.09 Q2320.06 1544.09 2321.86 1540.55 Q2323.69 1536.98 2323.69 1529.87 Q2323.69 1522.75 2321.86 1519.2 Q2320.06 1515.64 2316.42 1515.64 M2316.42 1511.93 Q2322.23 1511.93 2325.29 1516.54 Q2328.37 1521.12 2328.37 1529.87 Q2328.37 1538.6 2325.29 1543.21 Q2322.23 1547.79 2316.42 1547.79 Q2310.61 1547.79 2307.53 1543.21 Q2304.48 1538.6 2304.48 1529.87 Q2304.48 1521.12 2307.53 1516.54 Q2310.61 1511.93 2316.42 1511.93 Z\" fill=\"#000000\" fill-rule=\"evenodd\" fill-opacity=\"1\" /><polyline clip-path=\"url(#clip512)\" style=\"stroke:#000000; stroke-width:2; stroke-opacity:0.1; fill:none\" points=\"\n",
       "  172.918,1445.72 2352.76,1445.72 \n",
       "  \"/>\n",
       "<polyline clip-path=\"url(#clip512)\" style=\"stroke:#000000; stroke-width:2; stroke-opacity:0.1; fill:none\" points=\"\n",
       "  172.918,1106.28 2352.76,1106.28 \n",
       "  \"/>\n",
       "<polyline clip-path=\"url(#clip512)\" style=\"stroke:#000000; stroke-width:2; stroke-opacity:0.1; fill:none\" points=\"\n",
       "  172.918,766.846 2352.76,766.846 \n",
       "  \"/>\n",
       "<polyline clip-path=\"url(#clip512)\" style=\"stroke:#000000; stroke-width:2; stroke-opacity:0.1; fill:none\" points=\"\n",
       "  172.918,427.411 2352.76,427.411 \n",
       "  \"/>\n",
       "<polyline clip-path=\"url(#clip512)\" style=\"stroke:#000000; stroke-width:2; stroke-opacity:0.1; fill:none\" points=\"\n",
       "  172.918,87.9763 2352.76,87.9763 \n",
       "  \"/>\n",
       "<polyline clip-path=\"url(#clip510)\" style=\"stroke:#000000; stroke-width:4; stroke-opacity:1; fill:none\" points=\"\n",
       "  172.918,1486.45 172.918,47.2441 \n",
       "  \"/>\n",
       "<polyline clip-path=\"url(#clip510)\" style=\"stroke:#000000; stroke-width:4; stroke-opacity:1; fill:none\" points=\"\n",
       "  172.918,1445.72 199.076,1445.72 \n",
       "  \"/>\n",
       "<polyline clip-path=\"url(#clip510)\" style=\"stroke:#000000; stroke-width:4; stroke-opacity:1; fill:none\" points=\"\n",
       "  172.918,1106.28 199.076,1106.28 \n",
       "  \"/>\n",
       "<polyline clip-path=\"url(#clip510)\" style=\"stroke:#000000; stroke-width:4; stroke-opacity:1; fill:none\" points=\"\n",
       "  172.918,766.846 199.076,766.846 \n",
       "  \"/>\n",
       "<polyline clip-path=\"url(#clip510)\" style=\"stroke:#000000; stroke-width:4; stroke-opacity:1; fill:none\" points=\"\n",
       "  172.918,427.411 199.076,427.411 \n",
       "  \"/>\n",
       "<polyline clip-path=\"url(#clip510)\" style=\"stroke:#000000; stroke-width:4; stroke-opacity:1; fill:none\" points=\"\n",
       "  172.918,87.9763 199.076,87.9763 \n",
       "  \"/>\n",
       "<path clip-path=\"url(#clip510)\" d=\"M 0 0 M53.0292 1459.06 L60.668 1459.06 L60.668 1432.69 L52.3579 1434.36 L52.3579 1430.1 L60.6217 1428.44 L65.2976 1428.44 L65.2976 1459.06 L72.9365 1459.06 L72.9365 1463 L53.0292 1463 L53.0292 1459.06 Z\" fill=\"#000000\" fill-rule=\"evenodd\" fill-opacity=\"1\" /><path clip-path=\"url(#clip510)\" d=\"M 0 0 M78.0059 1457.12 L82.8901 1457.12 L82.8901 1463 L78.0059 1463 L78.0059 1457.12 Z\" fill=\"#000000\" fill-rule=\"evenodd\" fill-opacity=\"1\" /><path clip-path=\"url(#clip510)\" d=\"M 0 0 M97.9595 1431.51 Q94.3484 1431.51 92.5197 1435.08 Q90.7141 1438.62 90.7141 1445.75 Q90.7141 1452.86 92.5197 1456.42 Q94.3484 1459.96 97.9595 1459.96 Q101.594 1459.96 103.399 1456.42 Q105.228 1452.86 105.228 1445.75 Q105.228 1438.62 103.399 1435.08 Q101.594 1431.51 97.9595 1431.51 M97.9595 1427.81 Q103.77 1427.81 106.825 1432.42 Q109.904 1437 109.904 1445.75 Q109.904 1454.48 106.825 1459.08 Q103.77 1463.67 97.9595 1463.67 Q92.1493 1463.67 89.0706 1459.08 Q86.0151 1454.48 86.0151 1445.75 Q86.0151 1437 89.0706 1432.42 Q92.1493 1427.81 97.9595 1427.81 Z\" fill=\"#000000\" fill-rule=\"evenodd\" fill-opacity=\"1\" /><path clip-path=\"url(#clip510)\" d=\"M 0 0 M124.973 1431.51 Q121.362 1431.51 119.533 1435.08 Q117.728 1438.62 117.728 1445.75 Q117.728 1452.86 119.533 1456.42 Q121.362 1459.96 124.973 1459.96 Q128.607 1459.96 130.413 1456.42 Q132.242 1452.86 132.242 1445.75 Q132.242 1438.62 130.413 1435.08 Q128.607 1431.51 124.973 1431.51 M124.973 1427.81 Q130.783 1427.81 133.839 1432.42 Q136.918 1437 136.918 1445.75 Q136.918 1454.48 133.839 1459.08 Q130.783 1463.67 124.973 1463.67 Q119.163 1463.67 116.084 1459.08 Q113.029 1454.48 113.029 1445.75 Q113.029 1437 116.084 1432.42 Q119.163 1427.81 124.973 1427.81 Z\" fill=\"#000000\" fill-rule=\"evenodd\" fill-opacity=\"1\" /><path clip-path=\"url(#clip510)\" d=\"M 0 0 M55.6217 1119.63 L63.2606 1119.63 L63.2606 1093.26 L54.9504 1094.93 L54.9504 1090.67 L63.2143 1089 L67.8902 1089 L67.8902 1119.63 L75.529 1119.63 L75.529 1123.56 L55.6217 1123.56 L55.6217 1119.63 Z\" fill=\"#000000\" fill-rule=\"evenodd\" fill-opacity=\"1\" /><path clip-path=\"url(#clip510)\" d=\"M 0 0 M80.5984 1117.68 L85.4827 1117.68 L85.4827 1123.56 L80.5984 1123.56 L80.5984 1117.68 Z\" fill=\"#000000\" fill-rule=\"evenodd\" fill-opacity=\"1\" /><path clip-path=\"url(#clip510)\" d=\"M 0 0 M94.5799 1119.63 L110.899 1119.63 L110.899 1123.56 L88.9549 1123.56 L88.9549 1119.63 Q91.6169 1116.87 96.2002 1112.24 Q100.807 1107.59 101.987 1106.25 Q104.233 1103.72 105.112 1101.99 Q106.015 1100.23 106.015 1098.54 Q106.015 1095.78 104.071 1094.05 Q102.149 1092.31 99.0474 1092.31 Q96.8484 1092.31 94.3947 1093.07 Q91.9641 1093.84 89.1864 1095.39 L89.1864 1090.67 Q92.0104 1089.53 94.4641 1088.95 Q96.9178 1088.38 98.9548 1088.38 Q104.325 1088.38 107.52 1091.06 Q110.714 1093.75 110.714 1098.24 Q110.714 1100.37 109.904 1102.29 Q109.117 1104.19 107.01 1106.78 Q106.432 1107.45 103.33 1110.67 Q100.228 1113.86 94.5799 1119.63 Z\" fill=\"#000000\" fill-rule=\"evenodd\" fill-opacity=\"1\" /><path clip-path=\"url(#clip510)\" d=\"M 0 0 M116.015 1089 L134.371 1089 L134.371 1092.94 L120.297 1092.94 L120.297 1101.41 Q121.316 1101.06 122.334 1100.9 Q123.353 1100.71 124.371 1100.71 Q130.158 1100.71 133.538 1103.89 Q136.918 1107.06 136.918 1112.47 Q136.918 1118.05 133.445 1121.15 Q129.973 1124.23 123.654 1124.23 Q121.478 1124.23 119.209 1123.86 Q116.964 1123.49 114.557 1122.75 L114.557 1118.05 Q116.64 1119.19 118.862 1119.74 Q121.084 1120.3 123.561 1120.3 Q127.566 1120.3 129.904 1118.19 Q132.242 1116.08 132.242 1112.47 Q132.242 1108.86 129.904 1106.76 Q127.566 1104.65 123.561 1104.65 Q121.686 1104.65 119.811 1105.07 Q117.959 1105.48 116.015 1106.36 L116.015 1089 Z\" fill=\"#000000\" fill-rule=\"evenodd\" fill-opacity=\"1\" /><path clip-path=\"url(#clip510)\" d=\"M 0 0 M54.0245 780.191 L61.6634 780.191 L61.6634 753.825 L53.3532 755.492 L53.3532 751.233 L61.6171 749.566 L66.293 749.566 L66.293 780.191 L73.9318 780.191 L73.9318 784.126 L54.0245 784.126 L54.0245 780.191 Z\" fill=\"#000000\" fill-rule=\"evenodd\" fill-opacity=\"1\" /><path clip-path=\"url(#clip510)\" d=\"M 0 0 M79.0012 778.246 L83.8855 778.246 L83.8855 784.126 L79.0012 784.126 L79.0012 778.246 Z\" fill=\"#000000\" fill-rule=\"evenodd\" fill-opacity=\"1\" /><path clip-path=\"url(#clip510)\" d=\"M 0 0 M89.0012 749.566 L107.358 749.566 L107.358 753.501 L93.2836 753.501 L93.2836 761.973 Q94.3021 761.626 95.3206 761.464 Q96.3391 761.279 97.3576 761.279 Q103.145 761.279 106.524 764.45 Q109.904 767.621 109.904 773.038 Q109.904 778.617 106.432 781.719 Q102.959 784.797 96.64 784.797 Q94.4641 784.797 92.1956 784.427 Q89.9503 784.057 87.5429 783.316 L87.5429 778.617 Q89.6262 779.751 91.8484 780.307 Q94.0706 780.862 96.5474 780.862 Q100.552 780.862 102.89 778.756 Q105.228 776.649 105.228 773.038 Q105.228 769.427 102.89 767.321 Q100.552 765.214 96.5474 765.214 Q94.6724 765.214 92.7975 765.631 Q90.9456 766.047 89.0012 766.927 L89.0012 749.566 Z\" fill=\"#000000\" fill-rule=\"evenodd\" fill-opacity=\"1\" /><path clip-path=\"url(#clip510)\" d=\"M 0 0 M124.973 752.645 Q121.362 752.645 119.533 756.209 Q117.728 759.751 117.728 766.881 Q117.728 773.987 119.533 777.552 Q121.362 781.094 124.973 781.094 Q128.607 781.094 130.413 777.552 Q132.242 773.987 132.242 766.881 Q132.242 759.751 130.413 756.209 Q128.607 752.645 124.973 752.645 M124.973 748.941 Q130.783 748.941 133.839 753.547 Q136.918 758.131 136.918 766.881 Q136.918 775.608 133.839 780.214 Q130.783 784.797 124.973 784.797 Q119.163 784.797 116.084 780.214 Q113.029 775.608 113.029 766.881 Q113.029 758.131 116.084 753.547 Q119.163 748.941 124.973 748.941 Z\" fill=\"#000000\" fill-rule=\"evenodd\" fill-opacity=\"1\" /><path clip-path=\"url(#clip510)\" d=\"M 0 0 M54.9273 440.756 L62.5661 440.756 L62.5661 414.39 L54.256 416.057 L54.256 411.798 L62.5198 410.131 L67.1957 410.131 L67.1957 440.756 L74.8346 440.756 L74.8346 444.691 L54.9273 444.691 L54.9273 440.756 Z\" fill=\"#000000\" fill-rule=\"evenodd\" fill-opacity=\"1\" /><path clip-path=\"url(#clip510)\" d=\"M 0 0 M79.904 438.812 L84.7882 438.812 L84.7882 444.691 L79.904 444.691 L79.904 438.812 Z\" fill=\"#000000\" fill-rule=\"evenodd\" fill-opacity=\"1\" /><path clip-path=\"url(#clip510)\" d=\"M 0 0 M88.6771 410.131 L110.899 410.131 L110.899 412.122 L98.353 444.691 L93.4688 444.691 L105.274 414.066 L88.6771 414.066 L88.6771 410.131 Z\" fill=\"#000000\" fill-rule=\"evenodd\" fill-opacity=\"1\" /><path clip-path=\"url(#clip510)\" d=\"M 0 0 M116.015 410.131 L134.371 410.131 L134.371 414.066 L120.297 414.066 L120.297 422.538 Q121.316 422.191 122.334 422.029 Q123.353 421.844 124.371 421.844 Q130.158 421.844 133.538 425.015 Q136.918 428.187 136.918 433.603 Q136.918 439.182 133.445 442.284 Q129.973 445.362 123.654 445.362 Q121.478 445.362 119.209 444.992 Q116.964 444.622 114.557 443.881 L114.557 439.182 Q116.64 440.316 118.862 440.872 Q121.084 441.427 123.561 441.427 Q127.566 441.427 129.904 439.321 Q132.242 437.214 132.242 433.603 Q132.242 429.992 129.904 427.886 Q127.566 425.779 123.561 425.779 Q121.686 425.779 119.811 426.196 Q117.959 426.613 116.015 427.492 L116.015 410.131 Z\" fill=\"#000000\" fill-rule=\"evenodd\" fill-opacity=\"1\" /><path clip-path=\"url(#clip510)\" d=\"M 0 0 M56.6171 101.321 L72.9365 101.321 L72.9365 105.256 L50.9921 105.256 L50.9921 101.321 Q53.6541 98.5665 58.2375 93.9369 Q62.8439 89.2841 64.0245 87.9416 Q66.2698 85.4184 67.1494 83.6823 Q68.0522 81.9231 68.0522 80.2333 Q68.0522 77.4786 66.1078 75.7425 Q64.1865 74.0064 61.0847 74.0064 Q58.8856 74.0064 56.4319 74.7703 Q54.0014 75.5342 51.2236 77.0851 L51.2236 72.3629 Q54.0477 71.2287 56.5014 70.65 Q58.955 70.0713 60.9921 70.0713 Q66.3624 70.0713 69.5568 72.7565 Q72.7513 75.4416 72.7513 79.9323 Q72.7513 82.062 71.9411 83.9832 Q71.1541 85.8814 69.0476 88.474 Q68.4689 89.1453 65.367 92.3628 Q62.2652 95.5573 56.6171 101.321 Z\" fill=\"#000000\" fill-rule=\"evenodd\" fill-opacity=\"1\" /><path clip-path=\"url(#clip510)\" d=\"M 0 0 M78.0059 99.3767 L82.8901 99.3767 L82.8901 105.256 L78.0059 105.256 L78.0059 99.3767 Z\" fill=\"#000000\" fill-rule=\"evenodd\" fill-opacity=\"1\" /><path clip-path=\"url(#clip510)\" d=\"M 0 0 M97.9595 73.775 Q94.3484 73.775 92.5197 77.3398 Q90.7141 80.8814 90.7141 88.011 Q90.7141 95.1174 92.5197 98.6822 Q94.3484 102.224 97.9595 102.224 Q101.594 102.224 103.399 98.6822 Q105.228 95.1174 105.228 88.011 Q105.228 80.8814 103.399 77.3398 Q101.594 73.775 97.9595 73.775 M97.9595 70.0713 Q103.77 70.0713 106.825 74.6777 Q109.904 79.261 109.904 88.011 Q109.904 96.7378 106.825 101.344 Q103.77 105.928 97.9595 105.928 Q92.1493 105.928 89.0706 101.344 Q86.0151 96.7378 86.0151 88.011 Q86.0151 79.261 89.0706 74.6777 Q92.1493 70.0713 97.9595 70.0713 Z\" fill=\"#000000\" fill-rule=\"evenodd\" fill-opacity=\"1\" /><path clip-path=\"url(#clip510)\" d=\"M 0 0 M124.973 73.775 Q121.362 73.775 119.533 77.3398 Q117.728 80.8814 117.728 88.011 Q117.728 95.1174 119.533 98.6822 Q121.362 102.224 124.973 102.224 Q128.607 102.224 130.413 98.6822 Q132.242 95.1174 132.242 88.011 Q132.242 80.8814 130.413 77.3398 Q128.607 73.775 124.973 73.775 M124.973 70.0713 Q130.783 70.0713 133.839 74.6777 Q136.918 79.261 136.918 88.011 Q136.918 96.7378 133.839 101.344 Q130.783 105.928 124.973 105.928 Q119.163 105.928 116.084 101.344 Q113.029 96.7378 113.029 88.011 Q113.029 79.261 116.084 74.6777 Q119.163 70.0713 124.973 70.0713 Z\" fill=\"#000000\" fill-rule=\"evenodd\" fill-opacity=\"1\" /><polyline clip-path=\"url(#clip512)\" style=\"stroke:#009af9; stroke-width:4; stroke-opacity:1; fill:none\" points=\"\n",
       "  234.611,1445.72 255.383,1445.72 276.156,1445.72 296.928,1445.72 317.7,1445.72 338.472,1445.72 359.245,1445.72 380.017,1445.72 400.789,1445.72 421.561,1445.72 \n",
       "  442.333,1445.72 463.106,1445.72 483.878,1445.72 504.65,1445.72 525.422,1445.72 546.195,1445.72 566.967,1445.72 587.739,1445.72 608.511,1445.72 629.284,1445.72 \n",
       "  650.056,87.9763 670.828,87.9763 691.6,87.9763 712.373,87.9763 733.145,1445.72 753.917,87.9763 774.689,1445.72 795.461,1445.72 816.234,1445.72 837.006,1445.72 \n",
       "  857.778,1445.72 878.55,1445.72 899.323,1445.72 920.095,1445.72 940.867,1445.72 961.639,87.9763 982.412,87.9763 1003.18,87.9763 1023.96,1445.72 1044.73,1445.72 \n",
       "  1065.5,1445.72 1086.27,1445.72 1107.04,1445.72 1127.82,1445.72 1148.59,1445.72 1169.36,1445.72 1190.13,1445.72 1210.91,87.9763 1231.68,1445.72 1252.45,1445.72 \n",
       "  1273.22,87.9763 1294,1445.72 1314.77,1445.72 1335.54,1445.72 1356.31,1445.72 1377.08,1445.72 1397.86,1445.72 1418.63,87.9763 1439.4,1445.72 1460.17,1445.72 \n",
       "  1480.95,1445.72 1501.72,1445.72 1522.49,1445.72 1543.26,1445.72 1564.03,1445.72 1584.81,87.9763 1605.58,1445.72 1626.35,1445.72 1647.12,1445.72 1667.9,1445.72 \n",
       "  1688.67,1445.72 1709.44,1445.72 1730.21,87.9763 1750.98,87.9763 1771.76,87.9763 1792.53,1445.72 1813.3,87.9763 1834.07,87.9763 1854.85,87.9763 1875.62,87.9763 \n",
       "  1896.39,1445.72 1917.16,1445.72 1937.93,1445.72 1958.71,1445.72 1979.48,1445.72 2000.25,1445.72 2021.02,1445.72 2041.8,1445.72 2062.57,1445.72 2083.34,1445.72 \n",
       "  2104.11,1445.72 2124.88,1445.72 2145.66,1445.72 2166.43,1445.72 2187.2,1445.72 2207.97,1445.72 2228.75,1445.72 2249.52,1445.72 2270.29,1445.72 2291.06,1445.72 \n",
       "  \n",
       "  \"/>\n",
       "<path clip-path=\"url(#clip510)\" d=\"\n",
       "M1986.87 216.178 L2280.09 216.178 L2280.09 95.2176 L1986.87 95.2176  Z\n",
       "  \" fill=\"#ffffff\" fill-rule=\"evenodd\" fill-opacity=\"1\"/>\n",
       "<polyline clip-path=\"url(#clip510)\" style=\"stroke:#000000; stroke-width:4; stroke-opacity:1; fill:none\" points=\"\n",
       "  1986.87,216.178 2280.09,216.178 2280.09,95.2176 1986.87,95.2176 1986.87,216.178 \n",
       "  \"/>\n",
       "<polyline clip-path=\"url(#clip510)\" style=\"stroke:#009af9; stroke-width:4; stroke-opacity:1; fill:none\" points=\"\n",
       "  2011.09,155.698 2156.42,155.698 \n",
       "  \"/>\n",
       "<path clip-path=\"url(#clip510)\" d=\"M 0 0 M2194.48 175.385 Q2192.67 180.015 2190.96 181.427 Q2189.25 182.839 2186.38 182.839 L2182.97 182.839 L2182.97 179.274 L2185.47 179.274 Q2187.23 179.274 2188.2 178.44 Q2189.18 177.607 2190.36 174.505 L2191.12 172.561 L2180.64 147.052 L2185.15 147.052 L2193.25 167.329 L2201.35 147.052 L2205.87 147.052 L2194.48 175.385 Z\" fill=\"#000000\" fill-rule=\"evenodd\" fill-opacity=\"1\" /><path clip-path=\"url(#clip510)\" d=\"M 0 0 M2211.75 169.042 L2219.39 169.042 L2219.39 142.677 L2211.08 144.343 L2211.08 140.084 L2219.34 138.418 L2224.01 138.418 L2224.01 169.042 L2231.65 169.042 L2231.65 172.978 L2211.75 172.978 L2211.75 169.042 Z\" fill=\"#000000\" fill-rule=\"evenodd\" fill-opacity=\"1\" /></svg>\n"
      ]
     },
     "execution_count": 136,
     "metadata": {},
     "output_type": "execute_result"
    }
   ],
   "source": [
    "S = ones(Int64, 100) \n",
    "simulate_markov_chain!(S, P)\n",
    "plot(S)"
   ]
  },
  {
   "cell_type": "markdown",
   "metadata": {},
   "source": [
    "### Stability properties\n",
    "Using (TRE)\n",
    "$$\n",
    "\\pi_* = \\pi_* \\mathbf P.\n",
    "$$\n",
    "$\\pi_*$ is the **stationary distribution** of P. Because $P$ has eig(1), there always exists at least one $\\pi_*$.\n",
    "\n",
    "Using (MCF)\n",
    "$$\n",
    "\\pi_\\infty(\\pi_0) = \\lim_{t\\to\\infty} \\pi_0\n",
    "\\mathbf P^t\n",
    "$$\n",
    "\n",
    "$$\n",
    "\\pi_*(\\mathbf I-\\mathbf P) = \\mathbf 0\n",
    "$$\n",
    "$$\n",
    "(\\mathbf I-\\mathbf P')\\pi_*' = \\mathbf 0\n",
    "$$\n",
    "The column vector $\\pi_*'$ is an eigenvector of $\\mathbf P'$, with corresponding eigenvalue of 1.\n",
    "\n",
    "If \n",
    "$$\n",
    "\\pi_\\infty(\\pi_0) = \\pi_*\n",
    "$$\n",
    "for all $\\pi_0$ then P is **asymptotic stationary**.  Is it sufficent if $\\pi_*$ is unique?\n",
    "\n",
    "## Asymptotic stationarity\n",
    "### Some sufficient conditions\n",
    "1. $P_{sn}>0$ for all $s$, $n$\n",
    "2. $[\\mathbf P^t]_{sn}>0$ for all $s$, $n$ for some $t$\n"
   ]
  },
  {
   "cell_type": "markdown",
   "metadata": {},
   "source": [
    "### Eigenvector recap\n",
    "$$\n",
    "(\\lambda \\mathbf I - \\mathbf A)\\mathbf v = \\mathbf 0\n",
    "$$\n",
    "If $\\mathbf v$ is an eigenvector, then so is $\\mu \\mathbf v$. \n",
    "\n",
    "If $\\mathbf v_1$ and $\\mathbf v_2$ are both eigenvectors with the same eigenvalue, then so is $\\mu_1\\mathbf v_1 + \\mu_2 \\mathbf v_2$. Not if their eigenvalues are different. \n",
    "\n",
    "$$\n",
    "(\\lambda_i \\mathbf I - \\mathbf A)\\mathbf v_i = \\mathbf 0\n",
    "$$\n",
    "\n",
    "$N\\times N$ matrix has $N$ eigenvalues, not all may be distinct.\n",
    "\n",
    "$$\n",
    "\\text{eig}(\\mathbf A) = \n",
    "\\text{eig}(\\mathbf A')\n",
    "$$\n"
   ]
  },
  {
   "cell_type": "code",
   "execution_count": 14,
   "metadata": {},
   "outputs": [
    {
     "data": {
      "text/plain": [
       "forecast_markov_chain! (generic function with 1 method)"
      ]
     },
     "execution_count": 14,
     "metadata": {},
     "output_type": "execute_result"
    }
   ],
   "source": [
    "function forecast_markov_chain!(pmf::Array{Float64, 2}, P::Array{Float64, 2})\n",
    "    N, T = size(pmf)\n",
    "    # so that pmf[:,t] is a column vector, as usual in Julia\n",
    "    # note that we need pmf' to premultiply P\n",
    "    \n",
    "    for t = 2:T\n",
    "        # Julia kindly copies a row vector into a column vector\n",
    "        pmf[:, t] = pmf[:, t-1]' * P\n",
    "    end\n",
    "end"
   ]
  },
  {
   "cell_type": "code",
   "execution_count": 15,
   "metadata": {},
   "outputs": [],
   "source": [
    "using Plots"
   ]
  },
  {
   "cell_type": "code",
   "execution_count": 18,
   "metadata": {},
   "outputs": [
    {
     "data": {
      "image/svg+xml": [
       "<?xml version=\"1.0\" encoding=\"utf-8\"?>\n",
       "<svg xmlns=\"http://www.w3.org/2000/svg\" xmlns:xlink=\"http://www.w3.org/1999/xlink\" width=\"600\" height=\"400\" viewBox=\"0 0 2400 1600\">\n",
       "<defs>\n",
       "  <clipPath id=\"clip960\">\n",
       "    <rect x=\"0\" y=\"0\" width=\"2400\" height=\"1600\"/>\n",
       "  </clipPath>\n",
       "</defs>\n",
       "<path clip-path=\"url(#clip960)\" d=\"\n",
       "M0 1600 L2400 1600 L2400 0 L0 0  Z\n",
       "  \" fill=\"#ffffff\" fill-rule=\"evenodd\" fill-opacity=\"1\"/>\n",
       "<defs>\n",
       "  <clipPath id=\"clip961\">\n",
       "    <rect x=\"480\" y=\"0\" width=\"1681\" height=\"1600\"/>\n",
       "  </clipPath>\n",
       "</defs>\n",
       "<path clip-path=\"url(#clip960)\" d=\"\n",
       "M174.862 1486.45 L2352.76 1486.45 L2352.76 47.2441 L174.862 47.2441  Z\n",
       "  \" fill=\"#ffffff\" fill-rule=\"evenodd\" fill-opacity=\"1\"/>\n",
       "<defs>\n",
       "  <clipPath id=\"clip962\">\n",
       "    <rect x=\"174\" y=\"47\" width=\"2179\" height=\"1440\"/>\n",
       "  </clipPath>\n",
       "</defs>\n",
       "<polyline clip-path=\"url(#clip962)\" style=\"stroke:#000000; stroke-width:2; stroke-opacity:0.1; fill:none\" points=\"\n",
       "  215.747,1486.45 215.747,47.2441 \n",
       "  \"/>\n",
       "<polyline clip-path=\"url(#clip962)\" style=\"stroke:#000000; stroke-width:2; stroke-opacity:0.1; fill:none\" points=\"\n",
       "  734.589,1486.45 734.589,47.2441 \n",
       "  \"/>\n",
       "<polyline clip-path=\"url(#clip962)\" style=\"stroke:#000000; stroke-width:2; stroke-opacity:0.1; fill:none\" points=\"\n",
       "  1253.43,1486.45 1253.43,47.2441 \n",
       "  \"/>\n",
       "<polyline clip-path=\"url(#clip962)\" style=\"stroke:#000000; stroke-width:2; stroke-opacity:0.1; fill:none\" points=\"\n",
       "  1772.27,1486.45 1772.27,47.2441 \n",
       "  \"/>\n",
       "<polyline clip-path=\"url(#clip962)\" style=\"stroke:#000000; stroke-width:2; stroke-opacity:0.1; fill:none\" points=\"\n",
       "  2291.12,1486.45 2291.12,47.2441 \n",
       "  \"/>\n",
       "<polyline clip-path=\"url(#clip960)\" style=\"stroke:#000000; stroke-width:4; stroke-opacity:1; fill:none\" points=\"\n",
       "  174.862,1486.45 2352.76,1486.45 \n",
       "  \"/>\n",
       "<polyline clip-path=\"url(#clip960)\" style=\"stroke:#000000; stroke-width:4; stroke-opacity:1; fill:none\" points=\"\n",
       "  215.747,1486.45 215.747,1469.18 \n",
       "  \"/>\n",
       "<polyline clip-path=\"url(#clip960)\" style=\"stroke:#000000; stroke-width:4; stroke-opacity:1; fill:none\" points=\"\n",
       "  734.589,1486.45 734.589,1469.18 \n",
       "  \"/>\n",
       "<polyline clip-path=\"url(#clip960)\" style=\"stroke:#000000; stroke-width:4; stroke-opacity:1; fill:none\" points=\"\n",
       "  1253.43,1486.45 1253.43,1469.18 \n",
       "  \"/>\n",
       "<polyline clip-path=\"url(#clip960)\" style=\"stroke:#000000; stroke-width:4; stroke-opacity:1; fill:none\" points=\"\n",
       "  1772.27,1486.45 1772.27,1469.18 \n",
       "  \"/>\n",
       "<polyline clip-path=\"url(#clip960)\" style=\"stroke:#000000; stroke-width:4; stroke-opacity:1; fill:none\" points=\"\n",
       "  2291.12,1486.45 2291.12,1469.18 \n",
       "  \"/>\n",
       "<path clip-path=\"url(#clip960)\" d=\"M 0 0 M215.747 1515.64 Q212.136 1515.64 210.307 1519.2 Q208.501 1522.75 208.501 1529.87 Q208.501 1536.98 210.307 1540.55 Q212.136 1544.09 215.747 1544.09 Q219.381 1544.09 221.187 1540.55 Q223.015 1536.98 223.015 1529.87 Q223.015 1522.75 221.187 1519.2 Q219.381 1515.64 215.747 1515.64 M215.747 1511.93 Q221.557 1511.93 224.613 1516.54 Q227.691 1521.12 227.691 1529.87 Q227.691 1538.6 224.613 1543.21 Q221.557 1547.79 215.747 1547.79 Q209.937 1547.79 206.858 1543.21 Q203.802 1538.6 203.802 1529.87 Q203.802 1521.12 206.858 1516.54 Q209.937 1511.93 215.747 1511.93 Z\" fill=\"#000000\" fill-rule=\"evenodd\" fill-opacity=\"1\" /><path clip-path=\"url(#clip960)\" d=\"M 0 0 M716.233 1543.18 L732.552 1543.18 L732.552 1547.12 L710.608 1547.12 L710.608 1543.18 Q713.27 1540.43 717.853 1535.8 Q722.46 1531.15 723.64 1529.81 Q725.886 1527.28 726.765 1525.55 Q727.668 1523.79 727.668 1522.1 Q727.668 1519.34 725.724 1517.61 Q723.802 1515.87 720.701 1515.87 Q718.502 1515.87 716.048 1516.63 Q713.617 1517.4 710.84 1518.95 L710.84 1514.23 Q713.664 1513.09 716.117 1512.51 Q718.571 1511.93 720.608 1511.93 Q725.978 1511.93 729.173 1514.62 Q732.367 1517.31 732.367 1521.8 Q732.367 1523.93 731.557 1525.85 Q730.77 1527.74 728.664 1530.34 Q728.085 1531.01 724.983 1534.23 Q721.881 1537.42 716.233 1543.18 Z\" fill=\"#000000\" fill-rule=\"evenodd\" fill-opacity=\"1\" /><path clip-path=\"url(#clip960)\" d=\"M 0 0 M737.668 1512.56 L756.025 1512.56 L756.025 1516.5 L741.951 1516.5 L741.951 1524.97 Q742.969 1524.62 743.988 1524.46 Q745.006 1524.27 746.025 1524.27 Q751.812 1524.27 755.191 1527.44 Q758.571 1530.62 758.571 1536.03 Q758.571 1541.61 755.099 1544.71 Q751.626 1547.79 745.307 1547.79 Q743.131 1547.79 740.863 1547.42 Q738.617 1547.05 736.21 1546.31 L736.21 1541.61 Q738.293 1542.74 740.515 1543.3 Q742.738 1543.86 745.214 1543.86 Q749.219 1543.86 751.557 1541.75 Q753.895 1539.64 753.895 1536.03 Q753.895 1532.42 751.557 1530.31 Q749.219 1528.21 745.214 1528.21 Q743.339 1528.21 741.464 1528.62 Q739.613 1529.04 737.668 1529.92 L737.668 1512.56 Z\" fill=\"#000000\" fill-rule=\"evenodd\" fill-opacity=\"1\" /><path clip-path=\"url(#clip960)\" d=\"M 0 0 M1230.2 1512.56 L1248.56 1512.56 L1248.56 1516.5 L1234.49 1516.5 L1234.49 1524.97 Q1235.5 1524.62 1236.52 1524.46 Q1237.54 1524.27 1238.56 1524.27 Q1244.35 1524.27 1247.73 1527.44 Q1251.11 1530.62 1251.11 1536.03 Q1251.11 1541.61 1247.63 1544.71 Q1244.16 1547.79 1237.84 1547.79 Q1235.67 1547.79 1233.4 1547.42 Q1231.15 1547.05 1228.74 1546.31 L1228.74 1541.61 Q1230.83 1542.74 1233.05 1543.3 Q1235.27 1543.86 1237.75 1543.86 Q1241.75 1543.86 1244.09 1541.75 Q1246.43 1539.64 1246.43 1536.03 Q1246.43 1532.42 1244.09 1530.31 Q1241.75 1528.21 1237.75 1528.21 Q1235.87 1528.21 1234 1528.62 Q1232.15 1529.04 1230.2 1529.92 L1230.2 1512.56 Z\" fill=\"#000000\" fill-rule=\"evenodd\" fill-opacity=\"1\" /><path clip-path=\"url(#clip960)\" d=\"M 0 0 M1266.18 1515.64 Q1262.56 1515.64 1260.74 1519.2 Q1258.93 1522.75 1258.93 1529.87 Q1258.93 1536.98 1260.74 1540.55 Q1262.56 1544.09 1266.18 1544.09 Q1269.81 1544.09 1271.61 1540.55 Q1273.44 1536.98 1273.44 1529.87 Q1273.44 1522.75 1271.61 1519.2 Q1269.81 1515.64 1266.18 1515.64 M1266.18 1511.93 Q1271.99 1511.93 1275.04 1516.54 Q1278.12 1521.12 1278.12 1529.87 Q1278.12 1538.6 1275.04 1543.21 Q1271.99 1547.79 1266.18 1547.79 Q1260.36 1547.79 1257.29 1543.21 Q1254.23 1538.6 1254.23 1529.87 Q1254.23 1521.12 1257.29 1516.54 Q1260.36 1511.93 1266.18 1511.93 Z\" fill=\"#000000\" fill-rule=\"evenodd\" fill-opacity=\"1\" /><path clip-path=\"url(#clip960)\" d=\"M 0 0 M1748.15 1512.56 L1770.38 1512.56 L1770.38 1514.55 L1757.83 1547.12 L1752.95 1547.12 L1764.75 1516.5 L1748.15 1516.5 L1748.15 1512.56 Z\" fill=\"#000000\" fill-rule=\"evenodd\" fill-opacity=\"1\" /><path clip-path=\"url(#clip960)\" d=\"M 0 0 M1775.49 1512.56 L1793.85 1512.56 L1793.85 1516.5 L1779.77 1516.5 L1779.77 1524.97 Q1780.79 1524.62 1781.81 1524.46 Q1782.83 1524.27 1783.85 1524.27 Q1789.64 1524.27 1793.02 1527.44 Q1796.39 1530.62 1796.39 1536.03 Q1796.39 1541.61 1792.92 1544.71 Q1789.45 1547.79 1783.13 1547.79 Q1780.96 1547.79 1778.69 1547.42 Q1776.44 1547.05 1774.03 1546.31 L1774.03 1541.61 Q1776.12 1542.74 1778.34 1543.3 Q1780.56 1543.86 1783.04 1543.86 Q1787.04 1543.86 1789.38 1541.75 Q1791.72 1539.64 1791.72 1536.03 Q1791.72 1532.42 1789.38 1530.31 Q1787.04 1528.21 1783.04 1528.21 Q1781.16 1528.21 1779.29 1528.62 Q1777.44 1529.04 1775.49 1529.92 L1775.49 1512.56 Z\" fill=\"#000000\" fill-rule=\"evenodd\" fill-opacity=\"1\" /><path clip-path=\"url(#clip960)\" d=\"M 0 0 M2254.49 1543.18 L2262.12 1543.18 L2262.12 1516.82 L2253.81 1518.49 L2253.81 1514.23 L2262.08 1512.56 L2266.75 1512.56 L2266.75 1543.18 L2274.39 1543.18 L2274.39 1547.12 L2254.49 1547.12 L2254.49 1543.18 Z\" fill=\"#000000\" fill-rule=\"evenodd\" fill-opacity=\"1\" /><path clip-path=\"url(#clip960)\" d=\"M 0 0 M2289.46 1515.64 Q2285.85 1515.64 2284.02 1519.2 Q2282.22 1522.75 2282.22 1529.87 Q2282.22 1536.98 2284.02 1540.55 Q2285.85 1544.09 2289.46 1544.09 Q2293.1 1544.09 2294.9 1540.55 Q2296.73 1536.98 2296.73 1529.87 Q2296.73 1522.75 2294.9 1519.2 Q2293.1 1515.64 2289.46 1515.64 M2289.46 1511.93 Q2295.27 1511.93 2298.33 1516.54 Q2301.41 1521.12 2301.41 1529.87 Q2301.41 1538.6 2298.33 1543.21 Q2295.27 1547.79 2289.46 1547.79 Q2283.65 1547.79 2280.57 1543.21 Q2277.52 1538.6 2277.52 1529.87 Q2277.52 1521.12 2280.57 1516.54 Q2283.65 1511.93 2289.46 1511.93 Z\" fill=\"#000000\" fill-rule=\"evenodd\" fill-opacity=\"1\" /><path clip-path=\"url(#clip960)\" d=\"M 0 0 M2316.48 1515.64 Q2312.86 1515.64 2311.04 1519.2 Q2309.23 1522.75 2309.23 1529.87 Q2309.23 1536.98 2311.04 1540.55 Q2312.86 1544.09 2316.48 1544.09 Q2320.11 1544.09 2321.92 1540.55 Q2323.74 1536.98 2323.74 1529.87 Q2323.74 1522.75 2321.92 1519.2 Q2320.11 1515.64 2316.48 1515.64 M2316.48 1511.93 Q2322.29 1511.93 2325.34 1516.54 Q2328.42 1521.12 2328.42 1529.87 Q2328.42 1538.6 2325.34 1543.21 Q2322.29 1547.79 2316.48 1547.79 Q2310.67 1547.79 2307.59 1543.21 Q2304.53 1538.6 2304.53 1529.87 Q2304.53 1521.12 2307.59 1516.54 Q2310.67 1511.93 2316.48 1511.93 Z\" fill=\"#000000\" fill-rule=\"evenodd\" fill-opacity=\"1\" /><polyline clip-path=\"url(#clip962)\" style=\"stroke:#000000; stroke-width:2; stroke-opacity:0.1; fill:none\" points=\"\n",
       "  174.862,1445.72 2352.76,1445.72 \n",
       "  \"/>\n",
       "<polyline clip-path=\"url(#clip962)\" style=\"stroke:#000000; stroke-width:2; stroke-opacity:0.1; fill:none\" points=\"\n",
       "  174.862,1106.28 2352.76,1106.28 \n",
       "  \"/>\n",
       "<polyline clip-path=\"url(#clip962)\" style=\"stroke:#000000; stroke-width:2; stroke-opacity:0.1; fill:none\" points=\"\n",
       "  174.862,766.846 2352.76,766.846 \n",
       "  \"/>\n",
       "<polyline clip-path=\"url(#clip962)\" style=\"stroke:#000000; stroke-width:2; stroke-opacity:0.1; fill:none\" points=\"\n",
       "  174.862,427.411 2352.76,427.411 \n",
       "  \"/>\n",
       "<polyline clip-path=\"url(#clip962)\" style=\"stroke:#000000; stroke-width:2; stroke-opacity:0.1; fill:none\" points=\"\n",
       "  174.862,87.9763 2352.76,87.9763 \n",
       "  \"/>\n",
       "<polyline clip-path=\"url(#clip960)\" style=\"stroke:#000000; stroke-width:4; stroke-opacity:1; fill:none\" points=\"\n",
       "  174.862,1486.45 174.862,47.2441 \n",
       "  \"/>\n",
       "<polyline clip-path=\"url(#clip960)\" style=\"stroke:#000000; stroke-width:4; stroke-opacity:1; fill:none\" points=\"\n",
       "  174.862,1445.72 200.997,1445.72 \n",
       "  \"/>\n",
       "<polyline clip-path=\"url(#clip960)\" style=\"stroke:#000000; stroke-width:4; stroke-opacity:1; fill:none\" points=\"\n",
       "  174.862,1106.28 200.997,1106.28 \n",
       "  \"/>\n",
       "<polyline clip-path=\"url(#clip960)\" style=\"stroke:#000000; stroke-width:4; stroke-opacity:1; fill:none\" points=\"\n",
       "  174.862,766.846 200.997,766.846 \n",
       "  \"/>\n",
       "<polyline clip-path=\"url(#clip960)\" style=\"stroke:#000000; stroke-width:4; stroke-opacity:1; fill:none\" points=\"\n",
       "  174.862,427.411 200.997,427.411 \n",
       "  \"/>\n",
       "<polyline clip-path=\"url(#clip960)\" style=\"stroke:#000000; stroke-width:4; stroke-opacity:1; fill:none\" points=\"\n",
       "  174.862,87.9763 200.997,87.9763 \n",
       "  \"/>\n",
       "<path clip-path=\"url(#clip960)\" d=\"M 0 0 M62.9365 1431.51 Q59.3254 1431.51 57.4967 1435.08 Q55.6912 1438.62 55.6912 1445.75 Q55.6912 1452.86 57.4967 1456.42 Q59.3254 1459.96 62.9365 1459.96 Q66.5707 1459.96 68.3763 1456.42 Q70.205 1452.86 70.205 1445.75 Q70.205 1438.62 68.3763 1435.08 Q66.5707 1431.51 62.9365 1431.51 M62.9365 1427.81 Q68.7467 1427.81 71.8022 1432.42 Q74.8809 1437 74.8809 1445.75 Q74.8809 1454.48 71.8022 1459.08 Q68.7467 1463.67 62.9365 1463.67 Q57.1264 1463.67 54.0477 1459.08 Q50.9921 1454.48 50.9921 1445.75 Q50.9921 1437 54.0477 1432.42 Q57.1264 1427.81 62.9365 1427.81 Z\" fill=\"#000000\" fill-rule=\"evenodd\" fill-opacity=\"1\" /><path clip-path=\"url(#clip960)\" d=\"M 0 0 M79.9503 1457.12 L84.8345 1457.12 L84.8345 1463 L79.9503 1463 L79.9503 1457.12 Z\" fill=\"#000000\" fill-rule=\"evenodd\" fill-opacity=\"1\" /><path clip-path=\"url(#clip960)\" d=\"M 0 0 M99.9039 1431.51 Q96.2928 1431.51 94.4641 1435.08 Q92.6586 1438.62 92.6586 1445.75 Q92.6586 1452.86 94.4641 1456.42 Q96.2928 1459.96 99.9039 1459.96 Q103.538 1459.96 105.344 1456.42 Q107.172 1452.86 107.172 1445.75 Q107.172 1438.62 105.344 1435.08 Q103.538 1431.51 99.9039 1431.51 M99.9039 1427.81 Q105.714 1427.81 108.77 1432.42 Q111.848 1437 111.848 1445.75 Q111.848 1454.48 108.77 1459.08 Q105.714 1463.67 99.9039 1463.67 Q94.0937 1463.67 91.0151 1459.08 Q87.9595 1454.48 87.9595 1445.75 Q87.9595 1437 91.0151 1432.42 Q94.0937 1427.81 99.9039 1427.81 Z\" fill=\"#000000\" fill-rule=\"evenodd\" fill-opacity=\"1\" /><path clip-path=\"url(#clip960)\" d=\"M 0 0 M126.918 1431.51 Q123.307 1431.51 121.478 1435.08 Q119.672 1438.62 119.672 1445.75 Q119.672 1452.86 121.478 1456.42 Q123.307 1459.96 126.918 1459.96 Q130.552 1459.96 132.357 1456.42 Q134.186 1452.86 134.186 1445.75 Q134.186 1438.62 132.357 1435.08 Q130.552 1431.51 126.918 1431.51 M126.918 1427.81 Q132.728 1427.81 135.783 1432.42 Q138.862 1437 138.862 1445.75 Q138.862 1454.48 135.783 1459.08 Q132.728 1463.67 126.918 1463.67 Q121.107 1463.67 118.029 1459.08 Q114.973 1454.48 114.973 1445.75 Q114.973 1437 118.029 1432.42 Q121.107 1427.81 126.918 1427.81 Z\" fill=\"#000000\" fill-rule=\"evenodd\" fill-opacity=\"1\" /><path clip-path=\"url(#clip960)\" d=\"M 0 0 M65.5291 1092.08 Q61.918 1092.08 60.0893 1095.64 Q58.2838 1099.19 58.2838 1106.32 Q58.2838 1113.42 60.0893 1116.99 Q61.918 1120.53 65.5291 1120.53 Q69.1633 1120.53 70.9689 1116.99 Q72.7976 1113.42 72.7976 1106.32 Q72.7976 1099.19 70.9689 1095.64 Q69.1633 1092.08 65.5291 1092.08 M65.5291 1088.38 Q71.3392 1088.38 74.3948 1092.98 Q77.4735 1097.57 77.4735 1106.32 Q77.4735 1115.04 74.3948 1119.65 Q71.3392 1124.23 65.5291 1124.23 Q59.7189 1124.23 56.6402 1119.65 Q53.5847 1115.04 53.5847 1106.32 Q53.5847 1097.57 56.6402 1092.98 Q59.7189 1088.38 65.5291 1088.38 Z\" fill=\"#000000\" fill-rule=\"evenodd\" fill-opacity=\"1\" /><path clip-path=\"url(#clip960)\" d=\"M 0 0 M82.5429 1117.68 L87.4271 1117.68 L87.4271 1123.56 L82.5429 1123.56 L82.5429 1117.68 Z\" fill=\"#000000\" fill-rule=\"evenodd\" fill-opacity=\"1\" /><path clip-path=\"url(#clip960)\" d=\"M 0 0 M96.5243 1119.63 L112.844 1119.63 L112.844 1123.56 L90.8993 1123.56 L90.8993 1119.63 Q93.5613 1116.87 98.1447 1112.24 Q102.751 1107.59 103.932 1106.25 Q106.177 1103.72 107.057 1101.99 Q107.959 1100.23 107.959 1098.54 Q107.959 1095.78 106.015 1094.05 Q104.094 1092.31 100.992 1092.31 Q98.7928 1092.31 96.3391 1093.07 Q93.9086 1093.84 91.1308 1095.39 L91.1308 1090.67 Q93.9549 1089.53 96.4085 1088.95 Q98.8622 1088.38 100.899 1088.38 Q106.27 1088.38 109.464 1091.06 Q112.658 1093.75 112.658 1098.24 Q112.658 1100.37 111.848 1102.29 Q111.061 1104.19 108.955 1106.78 Q108.376 1107.45 105.274 1110.67 Q102.172 1113.86 96.5243 1119.63 Z\" fill=\"#000000\" fill-rule=\"evenodd\" fill-opacity=\"1\" /><path clip-path=\"url(#clip960)\" d=\"M 0 0 M117.959 1089 L136.316 1089 L136.316 1092.94 L122.242 1092.94 L122.242 1101.41 Q123.26 1101.06 124.279 1100.9 Q125.297 1100.71 126.316 1100.71 Q132.103 1100.71 135.482 1103.89 Q138.862 1107.06 138.862 1112.47 Q138.862 1118.05 135.39 1121.15 Q131.918 1124.23 125.598 1124.23 Q123.422 1124.23 121.154 1123.86 Q118.908 1123.49 116.501 1122.75 L116.501 1118.05 Q118.584 1119.19 120.807 1119.74 Q123.029 1120.3 125.506 1120.3 Q129.51 1120.3 131.848 1118.19 Q134.186 1116.08 134.186 1112.47 Q134.186 1108.86 131.848 1106.76 Q129.51 1104.65 125.506 1104.65 Q123.631 1104.65 121.756 1105.07 Q119.904 1105.48 117.959 1106.36 L117.959 1089 Z\" fill=\"#000000\" fill-rule=\"evenodd\" fill-opacity=\"1\" /><path clip-path=\"url(#clip960)\" d=\"M 0 0 M63.9319 752.645 Q60.3208 752.645 58.4921 756.209 Q56.6865 759.751 56.6865 766.881 Q56.6865 773.987 58.4921 777.552 Q60.3208 781.094 63.9319 781.094 Q67.5661 781.094 69.3717 777.552 Q71.2004 773.987 71.2004 766.881 Q71.2004 759.751 69.3717 756.209 Q67.5661 752.645 63.9319 752.645 M63.9319 748.941 Q69.742 748.941 72.7976 753.547 Q75.8763 758.131 75.8763 766.881 Q75.8763 775.608 72.7976 780.214 Q69.742 784.797 63.9319 784.797 Q58.1217 784.797 55.043 780.214 Q51.9875 775.608 51.9875 766.881 Q51.9875 758.131 55.043 753.547 Q58.1217 748.941 63.9319 748.941 Z\" fill=\"#000000\" fill-rule=\"evenodd\" fill-opacity=\"1\" /><path clip-path=\"url(#clip960)\" d=\"M 0 0 M80.9457 778.246 L85.8299 778.246 L85.8299 784.126 L80.9457 784.126 L80.9457 778.246 Z\" fill=\"#000000\" fill-rule=\"evenodd\" fill-opacity=\"1\" /><path clip-path=\"url(#clip960)\" d=\"M 0 0 M90.9456 749.566 L109.302 749.566 L109.302 753.501 L95.228 753.501 L95.228 761.973 Q96.2465 761.626 97.265 761.464 Q98.2835 761.279 99.3021 761.279 Q105.089 761.279 108.469 764.45 Q111.848 767.621 111.848 773.038 Q111.848 778.617 108.376 781.719 Q104.904 784.797 98.5845 784.797 Q96.4085 784.797 94.14 784.427 Q91.8947 784.057 89.4873 783.316 L89.4873 778.617 Q91.5706 779.751 93.7928 780.307 Q96.015 780.862 98.4919 780.862 Q102.496 780.862 104.834 778.756 Q107.172 776.649 107.172 773.038 Q107.172 769.427 104.834 767.321 Q102.496 765.214 98.4919 765.214 Q96.6169 765.214 94.7419 765.631 Q92.89 766.047 90.9456 766.927 L90.9456 749.566 Z\" fill=\"#000000\" fill-rule=\"evenodd\" fill-opacity=\"1\" /><path clip-path=\"url(#clip960)\" d=\"M 0 0 M126.918 752.645 Q123.307 752.645 121.478 756.209 Q119.672 759.751 119.672 766.881 Q119.672 773.987 121.478 777.552 Q123.307 781.094 126.918 781.094 Q130.552 781.094 132.357 777.552 Q134.186 773.987 134.186 766.881 Q134.186 759.751 132.357 756.209 Q130.552 752.645 126.918 752.645 M126.918 748.941 Q132.728 748.941 135.783 753.547 Q138.862 758.131 138.862 766.881 Q138.862 775.608 135.783 780.214 Q132.728 784.797 126.918 784.797 Q121.107 784.797 118.029 780.214 Q114.973 775.608 114.973 766.881 Q114.973 758.131 118.029 753.547 Q121.107 748.941 126.918 748.941 Z\" fill=\"#000000\" fill-rule=\"evenodd\" fill-opacity=\"1\" /><path clip-path=\"url(#clip960)\" d=\"M 0 0 M64.8346 413.21 Q61.2236 413.21 59.3949 416.775 Q57.5893 420.316 57.5893 427.446 Q57.5893 434.552 59.3949 438.117 Q61.2236 441.659 64.8346 441.659 Q68.4689 441.659 70.2744 438.117 Q72.1031 434.552 72.1031 427.446 Q72.1031 420.316 70.2744 416.775 Q68.4689 413.21 64.8346 413.21 M64.8346 409.506 Q70.6448 409.506 73.7003 414.113 Q76.779 418.696 76.779 427.446 Q76.779 436.173 73.7003 440.779 Q70.6448 445.362 64.8346 445.362 Q59.0245 445.362 55.9458 440.779 Q52.8903 436.173 52.8903 427.446 Q52.8903 418.696 55.9458 414.113 Q59.0245 409.506 64.8346 409.506 Z\" fill=\"#000000\" fill-rule=\"evenodd\" fill-opacity=\"1\" /><path clip-path=\"url(#clip960)\" d=\"M 0 0 M81.8484 438.812 L86.7327 438.812 L86.7327 444.691 L81.8484 444.691 L81.8484 438.812 Z\" fill=\"#000000\" fill-rule=\"evenodd\" fill-opacity=\"1\" /><path clip-path=\"url(#clip960)\" d=\"M 0 0 M90.6215 410.131 L112.844 410.131 L112.844 412.122 L100.297 444.691 L95.4132 444.691 L107.219 414.066 L90.6215 414.066 L90.6215 410.131 Z\" fill=\"#000000\" fill-rule=\"evenodd\" fill-opacity=\"1\" /><path clip-path=\"url(#clip960)\" d=\"M 0 0 M117.959 410.131 L136.316 410.131 L136.316 414.066 L122.242 414.066 L122.242 422.538 Q123.26 422.191 124.279 422.029 Q125.297 421.844 126.316 421.844 Q132.103 421.844 135.482 425.015 Q138.862 428.187 138.862 433.603 Q138.862 439.182 135.39 442.284 Q131.918 445.362 125.598 445.362 Q123.422 445.362 121.154 444.992 Q118.908 444.622 116.501 443.881 L116.501 439.182 Q118.584 440.316 120.807 440.872 Q123.029 441.427 125.506 441.427 Q129.51 441.427 131.848 439.321 Q134.186 437.214 134.186 433.603 Q134.186 429.992 131.848 427.886 Q129.51 425.779 125.506 425.779 Q123.631 425.779 121.756 426.196 Q119.904 426.613 117.959 427.492 L117.959 410.131 Z\" fill=\"#000000\" fill-rule=\"evenodd\" fill-opacity=\"1\" /><path clip-path=\"url(#clip960)\" d=\"M 0 0 M54.9736 101.321 L62.6124 101.321 L62.6124 74.9555 L54.3023 76.6222 L54.3023 72.3629 L62.5661 70.6963 L67.242 70.6963 L67.242 101.321 L74.8809 101.321 L74.8809 105.256 L54.9736 105.256 L54.9736 101.321 Z\" fill=\"#000000\" fill-rule=\"evenodd\" fill-opacity=\"1\" /><path clip-path=\"url(#clip960)\" d=\"M 0 0 M79.9503 99.3767 L84.8345 99.3767 L84.8345 105.256 L79.9503 105.256 L79.9503 99.3767 Z\" fill=\"#000000\" fill-rule=\"evenodd\" fill-opacity=\"1\" /><path clip-path=\"url(#clip960)\" d=\"M 0 0 M99.9039 73.775 Q96.2928 73.775 94.4641 77.3398 Q92.6586 80.8814 92.6586 88.011 Q92.6586 95.1174 94.4641 98.6822 Q96.2928 102.224 99.9039 102.224 Q103.538 102.224 105.344 98.6822 Q107.172 95.1174 107.172 88.011 Q107.172 80.8814 105.344 77.3398 Q103.538 73.775 99.9039 73.775 M99.9039 70.0713 Q105.714 70.0713 108.77 74.6777 Q111.848 79.261 111.848 88.011 Q111.848 96.7378 108.77 101.344 Q105.714 105.928 99.9039 105.928 Q94.0937 105.928 91.0151 101.344 Q87.9595 96.7378 87.9595 88.011 Q87.9595 79.261 91.0151 74.6777 Q94.0937 70.0713 99.9039 70.0713 Z\" fill=\"#000000\" fill-rule=\"evenodd\" fill-opacity=\"1\" /><path clip-path=\"url(#clip960)\" d=\"M 0 0 M126.918 73.775 Q123.307 73.775 121.478 77.3398 Q119.672 80.8814 119.672 88.011 Q119.672 95.1174 121.478 98.6822 Q123.307 102.224 126.918 102.224 Q130.552 102.224 132.357 98.6822 Q134.186 95.1174 134.186 88.011 Q134.186 80.8814 132.357 77.3398 Q130.552 73.775 126.918 73.775 M126.918 70.0713 Q132.728 70.0713 135.783 74.6777 Q138.862 79.261 138.862 88.011 Q138.862 96.7378 135.783 101.344 Q132.728 105.928 126.918 105.928 Q121.107 105.928 118.029 101.344 Q114.973 96.7378 114.973 88.011 Q114.973 79.261 118.029 74.6777 Q121.107 70.0713 126.918 70.0713 Z\" fill=\"#000000\" fill-rule=\"evenodd\" fill-opacity=\"1\" /><polyline clip-path=\"url(#clip962)\" style=\"stroke:#009af9; stroke-width:4; stroke-opacity:1; fill:none\" points=\"\n",
       "  236.501,1445.72 257.254,1432.14 278.008,1420.05 298.762,1409.3 319.515,1399.73 340.269,1391.21 361.023,1383.63 381.776,1376.88 402.53,1370.87 423.284,1365.53 \n",
       "  444.038,1360.77 464.791,1356.54 485.545,1352.77 506.299,1349.42 527.052,1346.43 547.806,1343.78 568.56,1341.41 589.314,1339.31 610.067,1337.44 630.821,1335.77 \n",
       "  651.575,1334.29 672.328,1332.97 693.082,1331.79 713.836,1330.75 734.589,1329.81 755.343,1328.99 776.097,1328.25 796.851,1327.59 817.604,1327.01 838.358,1326.49 \n",
       "  859.112,1326.03 879.865,1325.62 900.619,1325.25 921.373,1324.92 942.127,1324.63 962.88,1324.37 983.634,1324.14 1004.39,1323.94 1025.14,1323.76 1045.9,1323.6 \n",
       "  1066.65,1323.45 1087.4,1323.32 1108.16,1323.21 1128.91,1323.11 1149.66,1323.02 1170.42,1322.94 1191.17,1322.86 1211.92,1322.8 1232.68,1322.74 1253.43,1322.69 \n",
       "  1274.19,1322.65 1294.94,1322.61 1315.69,1322.57 1336.45,1322.54 1357.2,1322.51 1377.95,1322.49 1398.71,1322.47 1419.46,1322.45 1440.22,1322.43 1460.97,1322.41 \n",
       "  1481.72,1322.4 1502.48,1322.39 1523.23,1322.37 1543.98,1322.36 1564.74,1322.36 1585.49,1322.35 1606.25,1322.34 1627,1322.34 1647.75,1322.33 1668.51,1322.32 \n",
       "  1689.26,1322.32 1710.01,1322.32 1730.77,1322.31 1751.52,1322.31 1772.27,1322.31 1793.03,1322.3 1813.78,1322.3 1834.54,1322.3 1855.29,1322.3 1876.04,1322.3 \n",
       "  1896.8,1322.3 1917.55,1322.29 1938.3,1322.29 1959.06,1322.29 1979.81,1322.29 2000.57,1322.29 2021.32,1322.29 2042.07,1322.29 2062.83,1322.29 2083.58,1322.29 \n",
       "  2104.33,1322.29 2125.09,1322.29 2145.84,1322.29 2166.6,1322.29 2187.35,1322.29 2208.1,1322.29 2228.86,1322.29 2249.61,1322.29 2270.36,1322.29 2291.12,1322.29 \n",
       "  \n",
       "  \"/>\n",
       "<polyline clip-path=\"url(#clip962)\" style=\"stroke:#e26f46; stroke-width:4; stroke-opacity:1; fill:none\" points=\"\n",
       "  236.501,87.9763 257.254,101.554 278.008,113.638 298.762,124.392 319.515,133.964 340.269,142.483 361.023,150.064 381.776,156.812 402.53,162.817 423.284,168.162 \n",
       "  444.038,172.919 464.791,177.153 485.545,180.921 506.299,184.274 527.052,187.259 547.806,189.915 568.56,192.279 589.314,194.383 610.067,196.256 630.821,197.923 \n",
       "  651.575,199.406 672.328,200.726 693.082,201.901 713.836,202.947 734.589,203.877 755.343,204.706 776.097,205.443 796.851,206.099 817.604,206.683 838.358,207.202 \n",
       "  859.112,207.665 879.865,208.077 900.619,208.443 921.373,208.769 942.127,209.059 962.88,209.317 983.634,209.547 1004.39,209.752 1025.14,209.934 1045.9,210.096 \n",
       "  1066.65,210.24 1087.4,210.369 1108.16,210.483 1128.91,210.585 1149.66,210.675 1170.42,210.756 1191.17,210.827 1211.92,210.891 1232.68,210.948 1253.43,210.998 \n",
       "  1274.19,211.043 1294.94,211.083 1315.69,211.119 1336.45,211.151 1357.2,211.179 1377.95,211.204 1398.71,211.226 1419.46,211.246 1440.22,211.264 1460.97,211.28 \n",
       "  1481.72,211.294 1502.48,211.306 1523.23,211.317 1543.98,211.327 1564.74,211.336 1585.49,211.344 1606.25,211.351 1627,211.357 1647.75,211.362 1668.51,211.367 \n",
       "  1689.26,211.372 1710.01,211.376 1730.77,211.379 1751.52,211.382 1772.27,211.385 1793.03,211.387 1813.78,211.39 1834.54,211.391 1855.29,211.393 1876.04,211.395 \n",
       "  1896.8,211.396 1917.55,211.397 1938.3,211.398 1959.06,211.399 1979.81,211.4 2000.57,211.401 2021.32,211.402 2042.07,211.402 2062.83,211.403 2083.58,211.403 \n",
       "  2104.33,211.404 2125.09,211.404 2145.84,211.404 2166.6,211.405 2187.35,211.405 2208.1,211.405 2228.86,211.405 2249.61,211.406 2270.36,211.406 2291.12,211.406 \n",
       "  \n",
       "  \"/>\n",
       "<path clip-path=\"url(#clip960)\" d=\"\n",
       "M1987.15 276.658 L2280.16 276.658 L2280.16 95.2176 L1987.15 95.2176  Z\n",
       "  \" fill=\"#ffffff\" fill-rule=\"evenodd\" fill-opacity=\"1\"/>\n",
       "<polyline clip-path=\"url(#clip960)\" style=\"stroke:#000000; stroke-width:4; stroke-opacity:1; fill:none\" points=\"\n",
       "  1987.15,276.658 2280.16,276.658 2280.16,95.2176 1987.15,95.2176 1987.15,276.658 \n",
       "  \"/>\n",
       "<polyline clip-path=\"url(#clip960)\" style=\"stroke:#009af9; stroke-width:4; stroke-opacity:1; fill:none\" points=\"\n",
       "  2011.35,155.698 2156.54,155.698 \n",
       "  \"/>\n",
       "<path clip-path=\"url(#clip960)\" d=\"M 0 0 M2194.59 175.385 Q2192.78 180.015 2191.07 181.427 Q2189.35 182.839 2186.48 182.839 L2183.08 182.839 L2183.08 179.274 L2185.58 179.274 Q2187.34 179.274 2188.31 178.44 Q2189.29 177.607 2190.47 174.505 L2191.23 172.561 L2180.74 147.052 L2185.26 147.052 L2193.36 167.329 L2201.46 147.052 L2205.97 147.052 L2194.59 175.385 Z\" fill=\"#000000\" fill-rule=\"evenodd\" fill-opacity=\"1\" /><path clip-path=\"url(#clip960)\" d=\"M 0 0 M2211.85 169.042 L2219.49 169.042 L2219.49 142.677 L2211.18 144.343 L2211.18 140.084 L2219.45 138.418 L2224.12 138.418 L2224.12 169.042 L2231.76 169.042 L2231.76 172.978 L2211.85 172.978 L2211.85 169.042 Z\" fill=\"#000000\" fill-rule=\"evenodd\" fill-opacity=\"1\" /><polyline clip-path=\"url(#clip960)\" style=\"stroke:#e26f46; stroke-width:4; stroke-opacity:1; fill:none\" points=\"\n",
       "  2011.35,216.178 2156.54,216.178 \n",
       "  \"/>\n",
       "<path clip-path=\"url(#clip960)\" d=\"M 0 0 M2194.59 235.865 Q2192.78 240.495 2191.07 241.907 Q2189.35 243.319 2186.48 243.319 L2183.08 243.319 L2183.08 239.754 L2185.58 239.754 Q2187.34 239.754 2188.31 238.92 Q2189.29 238.087 2190.47 234.985 L2191.23 233.041 L2180.74 207.532 L2185.26 207.532 L2193.36 227.809 L2201.46 207.532 L2205.97 207.532 L2194.59 235.865 Z\" fill=\"#000000\" fill-rule=\"evenodd\" fill-opacity=\"1\" /><path clip-path=\"url(#clip960)\" d=\"M 0 0 M2215.07 229.522 L2231.39 229.522 L2231.39 233.458 L2209.45 233.458 L2209.45 229.522 Q2212.11 226.768 2216.69 222.138 Q2221.3 217.485 2222.48 216.143 Q2224.72 213.62 2225.6 211.884 Q2226.51 210.124 2226.51 208.435 Q2226.51 205.68 2224.56 203.944 Q2222.64 202.208 2219.54 202.208 Q2217.34 202.208 2214.89 202.972 Q2212.46 203.735 2209.68 205.286 L2209.68 200.564 Q2212.5 199.43 2214.96 198.851 Q2217.41 198.273 2219.45 198.273 Q2224.82 198.273 2228.01 200.958 Q2231.21 203.643 2231.21 208.134 Q2231.21 210.263 2230.4 212.185 Q2229.61 214.083 2227.5 216.675 Q2226.92 217.347 2223.82 220.564 Q2220.72 223.759 2215.07 229.522 Z\" fill=\"#000000\" fill-rule=\"evenodd\" fill-opacity=\"1\" /></svg>\n"
      ]
     },
     "execution_count": 18,
     "metadata": {},
     "output_type": "execute_result"
    }
   ],
   "source": [
    "P = [0.9 0.1; 0.01 0.99]\n",
    "pmf = zeros(2, 100)\n",
    "pmf[2, 1] = 1.0\n",
    "forecast_markov_chain!(pmf, P)\n",
    "plot(pmf')"
   ]
  },
  {
   "cell_type": "code",
   "execution_count": 19,
   "metadata": {},
   "outputs": [
    {
     "data": {
      "text/plain": [
       "Eigen{Float64,Float64,Array{Float64,2},Array{Float64,1}}\n",
       "values:\n",
       "2-element Array{Float64,1}:\n",
       " 0.89\n",
       " 1.0\n",
       "vectors:\n",
       "2×2 Array{Float64,2}:\n",
       " -0.707107  -0.0995037\n",
       "  0.707107  -0.995037"
      ]
     },
     "execution_count": 19,
     "metadata": {},
     "output_type": "execute_result"
    }
   ],
   "source": [
    "eigen(P')"
   ]
  },
  {
   "cell_type": "code",
   "execution_count": 5,
   "metadata": {},
   "outputs": [
    {
     "data": {
      "text/plain": [
       "2×2 Array{Float64,2}:\n",
       " 0.9  0.1\n",
       " 0.4  0.6"
      ]
     },
     "execution_count": 5,
     "metadata": {},
     "output_type": "execute_result"
    }
   ],
   "source": [
    "P"
   ]
  },
  {
   "cell_type": "markdown",
   "metadata": {},
   "source": [
    "## Eigenvalues"
   ]
  },
  {
   "cell_type": "code",
   "execution_count": 11,
   "metadata": {},
   "outputs": [],
   "source": [
    "using LinearAlgebra"
   ]
  },
  {
   "cell_type": "code",
   "execution_count": 13,
   "metadata": {},
   "outputs": [
    {
     "data": {
      "text/plain": [
       "Eigen{Float64,Float64,Array{Float64,2},Array{Float64,1}}\n",
       "values:\n",
       "2-element Array{Float64,1}:\n",
       " 0.5\n",
       " 1.0\n",
       "vectors:\n",
       "2×2 Array{Float64,2}:\n",
       " -0.707107  0.970143\n",
       "  0.707107  0.242536"
      ]
     },
     "execution_count": 13,
     "metadata": {},
     "output_type": "execute_result"
    }
   ],
   "source": [
    "eigen(P')"
   ]
  },
  {
   "cell_type": "code",
   "execution_count": 21,
   "metadata": {},
   "outputs": [
    {
     "data": {
      "text/plain": [
       "Eigen{Float64,Float64,Array{Float64,2},Array{Float64,1}}\n",
       "values:\n",
       "2-element Array{Float64,1}:\n",
       " 0.4\n",
       " 0.9\n",
       "vectors:\n",
       "2×2 Array{Float64,2}:\n",
       " 0.0  1.0\n",
       " 1.0  0.0"
      ]
     },
     "execution_count": 21,
     "metadata": {},
     "output_type": "execute_result"
    }
   ],
   "source": [
    "e = eigen([0.9 0; 0 0.4])"
   ]
  },
  {
   "cell_type": "code",
   "execution_count": 17,
   "metadata": {},
   "outputs": [
    {
     "data": {
      "text/plain": [
       "2-element Array{Float64,1}:\n",
       " 1.0\n",
       " 1.0"
      ]
     },
     "execution_count": 17,
     "metadata": {},
     "output_type": "execute_result"
    }
   ],
   "source": [
    "e.values"
   ]
  },
  {
   "cell_type": "code",
   "execution_count": 18,
   "metadata": {},
   "outputs": [
    {
     "data": {
      "text/plain": [
       "2×2 Array{Float64,2}:\n",
       " 1.0  0.0\n",
       " 0.0  1.0"
      ]
     },
     "execution_count": 18,
     "metadata": {},
     "output_type": "execute_result"
    }
   ],
   "source": [
    "e.vectors"
   ]
  },
  {
   "cell_type": "code",
   "execution_count": 22,
   "metadata": {},
   "outputs": [
    {
     "data": {
      "text/plain": [
       "2×2 Array{Float64,2}:\n",
       " 0.9  0.1\n",
       " 0.4  0.6"
      ]
     },
     "execution_count": 22,
     "metadata": {},
     "output_type": "execute_result"
    }
   ],
   "source": [
    "P"
   ]
  },
  {
   "cell_type": "code",
   "execution_count": 23,
   "metadata": {},
   "outputs": [
    {
     "data": {
      "text/plain": [
       "Eigen{Float64,Float64,Array{Float64,2},Array{Float64,1}}\n",
       "values:\n",
       "2-element Array{Float64,1}:\n",
       " 0.5\n",
       " 1.0\n",
       "vectors:\n",
       "2×2 Array{Float64,2}:\n",
       " -0.707107  0.970143\n",
       "  0.707107  0.242536"
      ]
     },
     "execution_count": 23,
     "metadata": {},
     "output_type": "execute_result"
    }
   ],
   "source": [
    "e = eigen(P')"
   ]
  },
  {
   "cell_type": "code",
   "execution_count": 28,
   "metadata": {},
   "outputs": [
    {
     "data": {
      "text/plain": [
       "2-element Array{Float64,1}:\n",
       " 0.7999999999999999\n",
       " 0.19999999999999998"
      ]
     },
     "execution_count": 28,
     "metadata": {},
     "output_type": "execute_result"
    }
   ],
   "source": [
    "pi_star = e.vectors[:,2] ./ sum(e.vectors[:, 2])"
   ]
  },
  {
   "cell_type": "code",
   "execution_count": 31,
   "metadata": {},
   "outputs": [
    {
     "data": {
      "text/plain": [
       "true"
      ]
     },
     "execution_count": 31,
     "metadata": {},
     "output_type": "execute_result"
    }
   ],
   "source": [
    "pi_star' == pi_star' * P "
   ]
  },
  {
   "cell_type": "code",
   "execution_count": 35,
   "metadata": {},
   "outputs": [
    {
     "data": {
      "text/plain": [
       "true"
      ]
     },
     "execution_count": 35,
     "metadata": {},
     "output_type": "execute_result"
    }
   ],
   "source": [
    "eigen(P).values == eigen(P').values"
   ]
  },
  {
   "cell_type": "code",
   "execution_count": 1,
   "metadata": {},
   "outputs": [
    {
     "data": {
      "text/plain": [
       "2×2 Array{Int64,2}:\n",
       " 0  1\n",
       " 1  0"
      ]
     },
     "execution_count": 1,
     "metadata": {},
     "output_type": "execute_result"
    }
   ],
   "source": [
    "P = [0 1; 1 0]"
   ]
  },
  {
   "cell_type": "code",
   "execution_count": 3,
   "metadata": {},
   "outputs": [
    {
     "data": {
      "text/plain": [
       "Eigen{Float64,Float64,Array{Float64,2},Array{Float64,1}}\n",
       "values:\n",
       "2-element Array{Float64,1}:\n",
       " -1.0\n",
       "  1.0\n",
       "vectors:\n",
       "2×2 Array{Float64,2}:\n",
       " -0.707107  0.707107\n",
       "  0.707107  0.707107"
      ]
     },
     "execution_count": 3,
     "metadata": {},
     "output_type": "execute_result"
    }
   ],
   "source": [
    "using LinearAlgebra\n",
    "eigen(P')"
   ]
  },
  {
   "cell_type": "code",
   "execution_count": 11,
   "metadata": {},
   "outputs": [
    {
     "data": {
      "text/plain": [
       "1×2 Array{Float64,2}:\n",
       " 1.0  0.0"
      ]
     },
     "execution_count": 11,
     "metadata": {},
     "output_type": "execute_result"
    }
   ],
   "source": [
    "[1.0 0.0] * P^368"
   ]
  },
  {
   "cell_type": "code",
   "execution_count": null,
   "metadata": {},
   "outputs": [],
   "source": []
  },
  {
   "cell_type": "code",
   "execution_count": null,
   "metadata": {},
   "outputs": [],
   "source": []
  },
  {
   "cell_type": "code",
   "execution_count": 38,
   "metadata": {},
   "outputs": [
    {
     "data": {
      "text/plain": [
       "2×2 Array{Int64,2}:\n",
       " 1  0\n",
       " 0  1"
      ]
     },
     "execution_count": 38,
     "metadata": {},
     "output_type": "execute_result"
    }
   ],
   "source": [
    "P = [1 0; 0 1]"
   ]
  },
  {
   "cell_type": "code",
   "execution_count": 40,
   "metadata": {},
   "outputs": [
    {
     "data": {
      "text/plain": [
       "Eigen{Float64,Float64,Array{Float64,2},Array{Float64,1}}\n",
       "values:\n",
       "2-element Array{Float64,1}:\n",
       " 1.0\n",
       " 1.0\n",
       "vectors:\n",
       "2×2 Array{Float64,2}:\n",
       " 1.0  0.0\n",
       " 0.0  1.0"
      ]
     },
     "execution_count": 40,
     "metadata": {},
     "output_type": "execute_result"
    }
   ],
   "source": [
    "eig = eigen(P')"
   ]
  },
  {
   "cell_type": "code",
   "execution_count": 41,
   "metadata": {},
   "outputs": [
    {
     "data": {
      "text/plain": [
       "2-element Array{Float64,1}:\n",
       " 0.0\n",
       " 1.0"
      ]
     },
     "execution_count": 41,
     "metadata": {},
     "output_type": "execute_result"
    }
   ],
   "source": [
    "pi_star1 = eig.vectors[:,1]\n",
    "pi_star2 = eig.vectors[:,2]"
   ]
  },
  {
   "cell_type": "code",
   "execution_count": 45,
   "metadata": {},
   "outputs": [
    {
     "data": {
      "text/plain": [
       "true"
      ]
     },
     "execution_count": 45,
     "metadata": {},
     "output_type": "execute_result"
    }
   ],
   "source": [
    "pi = (0.2 * pi_star1 + 0.8 * pi_star2)'\n",
    "pi == pi * P"
   ]
  },
  {
   "cell_type": "code",
   "execution_count": 12,
   "metadata": {},
   "outputs": [
    {
     "data": {
      "text/plain": [
       "2-element Array{Float64,1}:\n",
       " 0.7999999999999999\n",
       " 0.19999999999999998"
      ]
     },
     "execution_count": 12,
     "metadata": {},
     "output_type": "execute_result"
    }
   ],
   "source": [
    "P = [0.9 0.1; 0.4 0.6]\n",
    "pi_star = eigen(P').vectors[:, 2] ./ sum(eigen(P').vectors[:, 2])"
   ]
  },
  {
   "cell_type": "code",
   "execution_count": 47,
   "metadata": {},
   "outputs": [
    {
     "data": {
      "image/svg+xml": [
       "<?xml version=\"1.0\" encoding=\"utf-8\"?>\n",
       "<svg xmlns=\"http://www.w3.org/2000/svg\" xmlns:xlink=\"http://www.w3.org/1999/xlink\" width=\"600\" height=\"400\" viewBox=\"0 0 2400 1600\">\n",
       "<defs>\n",
       "  <clipPath id=\"clip420\">\n",
       "    <rect x=\"0\" y=\"0\" width=\"2400\" height=\"1600\"/>\n",
       "  </clipPath>\n",
       "</defs>\n",
       "<path clip-path=\"url(#clip420)\" d=\"\n",
       "M0 1600 L2400 1600 L2400 0 L0 0  Z\n",
       "  \" fill=\"#ffffff\" fill-rule=\"evenodd\" fill-opacity=\"1\"/>\n",
       "<defs>\n",
       "  <clipPath id=\"clip421\">\n",
       "    <rect x=\"480\" y=\"0\" width=\"1681\" height=\"1600\"/>\n",
       "  </clipPath>\n",
       "</defs>\n",
       "<path clip-path=\"url(#clip420)\" d=\"\n",
       "M148.334 1486.45 L2352.76 1486.45 L2352.76 47.2441 L148.334 47.2441  Z\n",
       "  \" fill=\"#ffffff\" fill-rule=\"evenodd\" fill-opacity=\"1\"/>\n",
       "<defs>\n",
       "  <clipPath id=\"clip422\">\n",
       "    <rect x=\"148\" y=\"47\" width=\"2205\" height=\"1440\"/>\n",
       "  </clipPath>\n",
       "</defs>\n",
       "<polyline clip-path=\"url(#clip422)\" style=\"stroke:#000000; stroke-width:2; stroke-opacity:0.1; fill:none\" points=\"\n",
       "  189.717,1486.45 189.717,47.2441 \n",
       "  \"/>\n",
       "<polyline clip-path=\"url(#clip422)\" style=\"stroke:#000000; stroke-width:2; stroke-opacity:0.1; fill:none\" points=\"\n",
       "  714.88,1486.45 714.88,47.2441 \n",
       "  \"/>\n",
       "<polyline clip-path=\"url(#clip422)\" style=\"stroke:#000000; stroke-width:2; stroke-opacity:0.1; fill:none\" points=\"\n",
       "  1240.04,1486.45 1240.04,47.2441 \n",
       "  \"/>\n",
       "<polyline clip-path=\"url(#clip422)\" style=\"stroke:#000000; stroke-width:2; stroke-opacity:0.1; fill:none\" points=\"\n",
       "  1765.2,1486.45 1765.2,47.2441 \n",
       "  \"/>\n",
       "<polyline clip-path=\"url(#clip422)\" style=\"stroke:#000000; stroke-width:2; stroke-opacity:0.1; fill:none\" points=\"\n",
       "  2290.37,1486.45 2290.37,47.2441 \n",
       "  \"/>\n",
       "<polyline clip-path=\"url(#clip420)\" style=\"stroke:#000000; stroke-width:4; stroke-opacity:1; fill:none\" points=\"\n",
       "  148.334,1486.45 2352.76,1486.45 \n",
       "  \"/>\n",
       "<polyline clip-path=\"url(#clip420)\" style=\"stroke:#000000; stroke-width:4; stroke-opacity:1; fill:none\" points=\"\n",
       "  189.717,1486.45 189.717,1469.18 \n",
       "  \"/>\n",
       "<polyline clip-path=\"url(#clip420)\" style=\"stroke:#000000; stroke-width:4; stroke-opacity:1; fill:none\" points=\"\n",
       "  714.88,1486.45 714.88,1469.18 \n",
       "  \"/>\n",
       "<polyline clip-path=\"url(#clip420)\" style=\"stroke:#000000; stroke-width:4; stroke-opacity:1; fill:none\" points=\"\n",
       "  1240.04,1486.45 1240.04,1469.18 \n",
       "  \"/>\n",
       "<polyline clip-path=\"url(#clip420)\" style=\"stroke:#000000; stroke-width:4; stroke-opacity:1; fill:none\" points=\"\n",
       "  1765.2,1486.45 1765.2,1469.18 \n",
       "  \"/>\n",
       "<polyline clip-path=\"url(#clip420)\" style=\"stroke:#000000; stroke-width:4; stroke-opacity:1; fill:none\" points=\"\n",
       "  2290.37,1486.45 2290.37,1469.18 \n",
       "  \"/>\n",
       "<path clip-path=\"url(#clip420)\" d=\"M 0 0 M189.717 1515.64 Q186.106 1515.64 184.277 1519.2 Q182.472 1522.75 182.472 1529.87 Q182.472 1536.98 184.277 1540.55 Q186.106 1544.09 189.717 1544.09 Q193.351 1544.09 195.157 1540.55 Q196.986 1536.98 196.986 1529.87 Q196.986 1522.75 195.157 1519.2 Q193.351 1515.64 189.717 1515.64 M189.717 1511.93 Q195.527 1511.93 198.583 1516.54 Q201.662 1521.12 201.662 1529.87 Q201.662 1538.6 198.583 1543.21 Q195.527 1547.79 189.717 1547.79 Q183.907 1547.79 180.828 1543.21 Q177.773 1538.6 177.773 1529.87 Q177.773 1521.12 180.828 1516.54 Q183.907 1511.93 189.717 1511.93 Z\" fill=\"#000000\" fill-rule=\"evenodd\" fill-opacity=\"1\" /><path clip-path=\"url(#clip420)\" d=\"M 0 0 M696.523 1543.18 L712.843 1543.18 L712.843 1547.12 L690.898 1547.12 L690.898 1543.18 Q693.56 1540.43 698.144 1535.8 Q702.75 1531.15 703.931 1529.81 Q706.176 1527.28 707.056 1525.55 Q707.958 1523.79 707.958 1522.1 Q707.958 1519.34 706.014 1517.61 Q704.093 1515.87 700.991 1515.87 Q698.792 1515.87 696.338 1516.63 Q693.907 1517.4 691.13 1518.95 L691.13 1514.23 Q693.954 1513.09 696.407 1512.51 Q698.861 1511.93 700.898 1511.93 Q706.268 1511.93 709.463 1514.62 Q712.657 1517.31 712.657 1521.8 Q712.657 1523.93 711.847 1525.85 Q711.06 1527.74 708.954 1530.34 Q708.375 1531.01 705.273 1534.23 Q702.171 1537.42 696.523 1543.18 Z\" fill=\"#000000\" fill-rule=\"evenodd\" fill-opacity=\"1\" /><path clip-path=\"url(#clip420)\" d=\"M 0 0 M717.958 1512.56 L736.315 1512.56 L736.315 1516.5 L722.241 1516.5 L722.241 1524.97 Q723.259 1524.62 724.278 1524.46 Q725.296 1524.27 726.315 1524.27 Q732.102 1524.27 735.481 1527.44 Q738.861 1530.62 738.861 1536.03 Q738.861 1541.61 735.389 1544.71 Q731.916 1547.79 725.597 1547.79 Q723.421 1547.79 721.153 1547.42 Q718.907 1547.05 716.5 1546.31 L716.5 1541.61 Q718.583 1542.74 720.805 1543.3 Q723.028 1543.86 725.504 1543.86 Q729.509 1543.86 731.847 1541.75 Q734.185 1539.64 734.185 1536.03 Q734.185 1532.42 731.847 1530.31 Q729.509 1528.21 725.504 1528.21 Q723.629 1528.21 721.755 1528.62 Q719.903 1529.04 717.958 1529.92 L717.958 1512.56 Z\" fill=\"#000000\" fill-rule=\"evenodd\" fill-opacity=\"1\" /><path clip-path=\"url(#clip420)\" d=\"M 0 0 M1216.81 1512.56 L1235.17 1512.56 L1235.17 1516.5 L1221.1 1516.5 L1221.1 1524.97 Q1222.11 1524.62 1223.13 1524.46 Q1224.15 1524.27 1225.17 1524.27 Q1230.96 1524.27 1234.34 1527.44 Q1237.72 1530.62 1237.72 1536.03 Q1237.72 1541.61 1234.24 1544.71 Q1230.77 1547.79 1224.45 1547.79 Q1222.28 1547.79 1220.01 1547.42 Q1217.76 1547.05 1215.35 1546.31 L1215.35 1541.61 Q1217.44 1542.74 1219.66 1543.3 Q1221.88 1543.86 1224.36 1543.86 Q1228.36 1543.86 1230.7 1541.75 Q1233.04 1539.64 1233.04 1536.03 Q1233.04 1532.42 1230.7 1530.31 Q1228.36 1528.21 1224.36 1528.21 Q1222.48 1528.21 1220.61 1528.62 Q1218.76 1529.04 1216.81 1529.92 L1216.81 1512.56 Z\" fill=\"#000000\" fill-rule=\"evenodd\" fill-opacity=\"1\" /><path clip-path=\"url(#clip420)\" d=\"M 0 0 M1252.78 1515.64 Q1249.17 1515.64 1247.35 1519.2 Q1245.54 1522.75 1245.54 1529.87 Q1245.54 1536.98 1247.35 1540.55 Q1249.17 1544.09 1252.78 1544.09 Q1256.42 1544.09 1258.22 1540.55 Q1260.05 1536.98 1260.05 1529.87 Q1260.05 1522.75 1258.22 1519.2 Q1256.42 1515.64 1252.78 1515.64 M1252.78 1511.93 Q1258.6 1511.93 1261.65 1516.54 Q1264.73 1521.12 1264.73 1529.87 Q1264.73 1538.6 1261.65 1543.21 Q1258.6 1547.79 1252.78 1547.79 Q1246.97 1547.79 1243.9 1543.21 Q1240.84 1538.6 1240.84 1529.87 Q1240.84 1521.12 1243.9 1516.54 Q1246.97 1511.93 1252.78 1511.93 Z\" fill=\"#000000\" fill-rule=\"evenodd\" fill-opacity=\"1\" /><path clip-path=\"url(#clip420)\" d=\"M 0 0 M1741.08 1512.56 L1763.31 1512.56 L1763.31 1514.55 L1750.76 1547.12 L1745.88 1547.12 L1757.68 1516.5 L1741.08 1516.5 L1741.08 1512.56 Z\" fill=\"#000000\" fill-rule=\"evenodd\" fill-opacity=\"1\" /><path clip-path=\"url(#clip420)\" d=\"M 0 0 M1768.42 1512.56 L1786.78 1512.56 L1786.78 1516.5 L1772.7 1516.5 L1772.7 1524.97 Q1773.72 1524.62 1774.74 1524.46 Q1775.76 1524.27 1776.78 1524.27 Q1782.57 1524.27 1785.94 1527.44 Q1789.32 1530.62 1789.32 1536.03 Q1789.32 1541.61 1785.85 1544.71 Q1782.38 1547.79 1776.06 1547.79 Q1773.88 1547.79 1771.62 1547.42 Q1769.37 1547.05 1766.96 1546.31 L1766.96 1541.61 Q1769.05 1542.74 1771.27 1543.3 Q1773.49 1543.86 1775.97 1543.86 Q1779.97 1543.86 1782.31 1541.75 Q1784.65 1539.64 1784.65 1536.03 Q1784.65 1532.42 1782.31 1530.31 Q1779.97 1528.21 1775.97 1528.21 Q1774.09 1528.21 1772.22 1528.62 Q1770.37 1529.04 1768.42 1529.92 L1768.42 1512.56 Z\" fill=\"#000000\" fill-rule=\"evenodd\" fill-opacity=\"1\" /><path clip-path=\"url(#clip420)\" d=\"M 0 0 M2253.73 1543.18 L2261.37 1543.18 L2261.37 1516.82 L2253.06 1518.49 L2253.06 1514.23 L2261.33 1512.56 L2266 1512.56 L2266 1543.18 L2273.64 1543.18 L2273.64 1547.12 L2253.73 1547.12 L2253.73 1543.18 Z\" fill=\"#000000\" fill-rule=\"evenodd\" fill-opacity=\"1\" /><path clip-path=\"url(#clip420)\" d=\"M 0 0 M2288.71 1515.64 Q2285.1 1515.64 2283.27 1519.2 Q2281.47 1522.75 2281.47 1529.87 Q2281.47 1536.98 2283.27 1540.55 Q2285.1 1544.09 2288.71 1544.09 Q2292.35 1544.09 2294.15 1540.55 Q2295.98 1536.98 2295.98 1529.87 Q2295.98 1522.75 2294.15 1519.2 Q2292.35 1515.64 2288.71 1515.64 M2288.71 1511.93 Q2294.52 1511.93 2297.58 1516.54 Q2300.66 1521.12 2300.66 1529.87 Q2300.66 1538.6 2297.58 1543.21 Q2294.52 1547.79 2288.71 1547.79 Q2282.9 1547.79 2279.82 1543.21 Q2276.77 1538.6 2276.77 1529.87 Q2276.77 1521.12 2279.82 1516.54 Q2282.9 1511.93 2288.71 1511.93 Z\" fill=\"#000000\" fill-rule=\"evenodd\" fill-opacity=\"1\" /><path clip-path=\"url(#clip420)\" d=\"M 0 0 M2315.73 1515.64 Q2312.11 1515.64 2310.29 1519.2 Q2308.48 1522.75 2308.48 1529.87 Q2308.48 1536.98 2310.29 1540.55 Q2312.11 1544.09 2315.73 1544.09 Q2319.36 1544.09 2321.17 1540.55 Q2322.99 1536.98 2322.99 1529.87 Q2322.99 1522.75 2321.17 1519.2 Q2319.36 1515.64 2315.73 1515.64 M2315.73 1511.93 Q2321.54 1511.93 2324.59 1516.54 Q2327.67 1521.12 2327.67 1529.87 Q2327.67 1538.6 2324.59 1543.21 Q2321.54 1547.79 2315.73 1547.79 Q2309.92 1547.79 2306.84 1543.21 Q2303.78 1538.6 2303.78 1529.87 Q2303.78 1521.12 2306.84 1516.54 Q2309.92 1511.93 2315.73 1511.93 Z\" fill=\"#000000\" fill-rule=\"evenodd\" fill-opacity=\"1\" /><polyline clip-path=\"url(#clip422)\" style=\"stroke:#000000; stroke-width:2; stroke-opacity:0.1; fill:none\" points=\"\n",
       "  148.334,1445.72 2352.76,1445.72 \n",
       "  \"/>\n",
       "<polyline clip-path=\"url(#clip422)\" style=\"stroke:#000000; stroke-width:2; stroke-opacity:0.1; fill:none\" points=\"\n",
       "  148.334,1219.43 2352.76,1219.43 \n",
       "  \"/>\n",
       "<polyline clip-path=\"url(#clip422)\" style=\"stroke:#000000; stroke-width:2; stroke-opacity:0.1; fill:none\" points=\"\n",
       "  148.334,993.136 2352.76,993.136 \n",
       "  \"/>\n",
       "<polyline clip-path=\"url(#clip422)\" style=\"stroke:#000000; stroke-width:2; stroke-opacity:0.1; fill:none\" points=\"\n",
       "  148.334,766.846 2352.76,766.846 \n",
       "  \"/>\n",
       "<polyline clip-path=\"url(#clip422)\" style=\"stroke:#000000; stroke-width:2; stroke-opacity:0.1; fill:none\" points=\"\n",
       "  148.334,540.556 2352.76,540.556 \n",
       "  \"/>\n",
       "<polyline clip-path=\"url(#clip422)\" style=\"stroke:#000000; stroke-width:2; stroke-opacity:0.1; fill:none\" points=\"\n",
       "  148.334,314.266 2352.76,314.266 \n",
       "  \"/>\n",
       "<polyline clip-path=\"url(#clip422)\" style=\"stroke:#000000; stroke-width:2; stroke-opacity:0.1; fill:none\" points=\"\n",
       "  148.334,87.9763 2352.76,87.9763 \n",
       "  \"/>\n",
       "<polyline clip-path=\"url(#clip420)\" style=\"stroke:#000000; stroke-width:4; stroke-opacity:1; fill:none\" points=\"\n",
       "  148.334,1486.45 148.334,47.2441 \n",
       "  \"/>\n",
       "<polyline clip-path=\"url(#clip420)\" style=\"stroke:#000000; stroke-width:4; stroke-opacity:1; fill:none\" points=\"\n",
       "  148.334,1445.72 174.787,1445.72 \n",
       "  \"/>\n",
       "<polyline clip-path=\"url(#clip420)\" style=\"stroke:#000000; stroke-width:4; stroke-opacity:1; fill:none\" points=\"\n",
       "  148.334,1219.43 174.787,1219.43 \n",
       "  \"/>\n",
       "<polyline clip-path=\"url(#clip420)\" style=\"stroke:#000000; stroke-width:4; stroke-opacity:1; fill:none\" points=\"\n",
       "  148.334,993.136 174.787,993.136 \n",
       "  \"/>\n",
       "<polyline clip-path=\"url(#clip420)\" style=\"stroke:#000000; stroke-width:4; stroke-opacity:1; fill:none\" points=\"\n",
       "  148.334,766.846 174.787,766.846 \n",
       "  \"/>\n",
       "<polyline clip-path=\"url(#clip420)\" style=\"stroke:#000000; stroke-width:4; stroke-opacity:1; fill:none\" points=\"\n",
       "  148.334,540.556 174.787,540.556 \n",
       "  \"/>\n",
       "<polyline clip-path=\"url(#clip420)\" style=\"stroke:#000000; stroke-width:4; stroke-opacity:1; fill:none\" points=\"\n",
       "  148.334,314.266 174.787,314.266 \n",
       "  \"/>\n",
       "<polyline clip-path=\"url(#clip420)\" style=\"stroke:#000000; stroke-width:4; stroke-opacity:1; fill:none\" points=\"\n",
       "  148.334,87.9763 174.787,87.9763 \n",
       "  \"/>\n",
       "<path clip-path=\"url(#clip420)\" d=\"M 0 0 M65.0198 1431.51 Q61.4087 1431.51 59.58 1435.08 Q57.7745 1438.62 57.7745 1445.75 Q57.7745 1452.86 59.58 1456.42 Q61.4087 1459.96 65.0198 1459.96 Q68.6541 1459.96 70.4596 1456.42 Q72.2883 1452.86 72.2883 1445.75 Q72.2883 1438.62 70.4596 1435.08 Q68.6541 1431.51 65.0198 1431.51 M65.0198 1427.81 Q70.83 1427.81 73.8855 1432.42 Q76.9642 1437 76.9642 1445.75 Q76.9642 1454.48 73.8855 1459.08 Q70.83 1463.67 65.0198 1463.67 Q59.2097 1463.67 56.131 1459.08 Q53.0754 1454.48 53.0754 1445.75 Q53.0754 1437 56.131 1432.42 Q59.2097 1427.81 65.0198 1427.81 Z\" fill=\"#000000\" fill-rule=\"evenodd\" fill-opacity=\"1\" /><path clip-path=\"url(#clip420)\" d=\"M 0 0 M82.0336 1457.12 L86.9179 1457.12 L86.9179 1463 L82.0336 1463 L82.0336 1457.12 Z\" fill=\"#000000\" fill-rule=\"evenodd\" fill-opacity=\"1\" /><path clip-path=\"url(#clip420)\" d=\"M 0 0 M96.015 1459.06 L112.334 1459.06 L112.334 1463 L90.3901 1463 L90.3901 1459.06 Q93.0521 1456.31 97.6354 1451.68 Q102.242 1447.02 103.422 1445.68 Q105.668 1443.16 106.547 1441.42 Q107.45 1439.66 107.45 1437.97 Q107.45 1435.22 105.506 1433.48 Q103.584 1431.75 100.483 1431.75 Q98.2835 1431.75 95.8298 1432.51 Q93.3993 1433.27 90.6215 1434.82 L90.6215 1430.1 Q93.4456 1428.97 95.8993 1428.39 Q98.353 1427.81 100.39 1427.81 Q105.76 1427.81 108.955 1430.5 Q112.149 1433.18 112.149 1437.67 Q112.149 1439.8 111.339 1441.72 Q110.552 1443.62 108.446 1446.21 Q107.867 1446.88 104.765 1450.1 Q101.663 1453.3 96.015 1459.06 Z\" fill=\"#000000\" fill-rule=\"evenodd\" fill-opacity=\"1\" /><path clip-path=\"url(#clip420)\" d=\"M 0 0 M64.0708 1205.22 Q60.4597 1205.22 58.631 1208.79 Q56.8254 1212.33 56.8254 1219.46 Q56.8254 1226.57 58.631 1230.13 Q60.4597 1233.67 64.0708 1233.67 Q67.705 1233.67 69.5105 1230.13 Q71.3392 1226.57 71.3392 1219.46 Q71.3392 1212.33 69.5105 1208.79 Q67.705 1205.22 64.0708 1205.22 M64.0708 1201.52 Q69.8809 1201.52 72.9365 1206.13 Q76.0151 1210.71 76.0151 1219.46 Q76.0151 1228.19 72.9365 1232.79 Q69.8809 1237.38 64.0708 1237.38 Q58.2606 1237.38 55.1819 1232.79 Q52.1264 1228.19 52.1264 1219.46 Q52.1264 1210.71 55.1819 1206.13 Q58.2606 1201.52 64.0708 1201.52 Z\" fill=\"#000000\" fill-rule=\"evenodd\" fill-opacity=\"1\" /><path clip-path=\"url(#clip420)\" d=\"M 0 0 M81.0846 1230.83 L85.9688 1230.83 L85.9688 1236.71 L81.0846 1236.71 L81.0846 1230.83 Z\" fill=\"#000000\" fill-rule=\"evenodd\" fill-opacity=\"1\" /><path clip-path=\"url(#clip420)\" d=\"M 0 0 M105.205 1218.07 Q108.561 1218.79 110.436 1221.06 Q112.334 1223.33 112.334 1226.66 Q112.334 1231.78 108.816 1234.58 Q105.297 1237.38 98.8159 1237.38 Q96.64 1237.38 94.3252 1236.94 Q92.0336 1236.52 89.5799 1235.66 L89.5799 1231.15 Q91.5243 1232.28 93.8391 1232.86 Q96.1539 1233.44 98.6771 1233.44 Q103.075 1233.44 105.367 1231.71 Q107.682 1229.97 107.682 1226.66 Q107.682 1223.6 105.529 1221.89 Q103.399 1220.15 99.5798 1220.15 L95.5521 1220.15 L95.5521 1216.31 L99.765 1216.31 Q103.214 1216.31 105.043 1214.95 Q106.871 1213.56 106.871 1210.97 Q106.871 1208.3 104.973 1206.89 Q103.098 1205.46 99.5798 1205.46 Q97.6585 1205.46 95.4595 1205.87 Q93.2604 1206.29 90.6215 1207.17 L90.6215 1203 Q93.2836 1202.26 95.5984 1201.89 Q97.9363 1201.52 99.9965 1201.52 Q105.321 1201.52 108.422 1203.95 Q111.524 1206.36 111.524 1210.48 Q111.524 1213.35 109.881 1215.34 Q108.237 1217.31 105.205 1218.07 Z\" fill=\"#000000\" fill-rule=\"evenodd\" fill-opacity=\"1\" /><path clip-path=\"url(#clip420)\" d=\"M 0 0 M62.9365 978.935 Q59.3254 978.935 57.4967 982.499 Q55.6912 986.041 55.6912 993.171 Q55.6912 1000.28 57.4967 1003.84 Q59.3254 1007.38 62.9365 1007.38 Q66.5707 1007.38 68.3763 1003.84 Q70.205 1000.28 70.205 993.171 Q70.205 986.041 68.3763 982.499 Q66.5707 978.935 62.9365 978.935 M62.9365 975.231 Q68.7467 975.231 71.8022 979.837 Q74.8809 984.421 74.8809 993.171 Q74.8809 1001.9 71.8022 1006.5 Q68.7467 1011.09 62.9365 1011.09 Q57.1264 1011.09 54.0477 1006.5 Q50.9921 1001.9 50.9921 993.171 Q50.9921 984.421 54.0477 979.837 Q57.1264 975.231 62.9365 975.231 Z\" fill=\"#000000\" fill-rule=\"evenodd\" fill-opacity=\"1\" /><path clip-path=\"url(#clip420)\" d=\"M 0 0 M79.9503 1004.54 L84.8345 1004.54 L84.8345 1010.42 L79.9503 1010.42 L79.9503 1004.54 Z\" fill=\"#000000\" fill-rule=\"evenodd\" fill-opacity=\"1\" /><path clip-path=\"url(#clip420)\" d=\"M 0 0 M102.751 979.93 L90.9456 998.379 L102.751 998.379 L102.751 979.93 M101.524 975.856 L107.404 975.856 L107.404 998.379 L112.334 998.379 L112.334 1002.27 L107.404 1002.27 L107.404 1010.42 L102.751 1010.42 L102.751 1002.27 L87.1493 1002.27 L87.1493 997.754 L101.524 975.856 Z\" fill=\"#000000\" fill-rule=\"evenodd\" fill-opacity=\"1\" /><path clip-path=\"url(#clip420)\" d=\"M 0 0 M64.418 752.645 Q60.8069 752.645 58.9782 756.209 Q57.1726 759.751 57.1726 766.881 Q57.1726 773.987 58.9782 777.552 Q60.8069 781.094 64.418 781.094 Q68.0522 781.094 69.8578 777.552 Q71.6865 773.987 71.6865 766.881 Q71.6865 759.751 69.8578 756.209 Q68.0522 752.645 64.418 752.645 M64.418 748.941 Q70.2281 748.941 73.2837 753.547 Q76.3624 758.131 76.3624 766.881 Q76.3624 775.608 73.2837 780.214 Q70.2281 784.797 64.418 784.797 Q58.6078 784.797 55.5291 780.214 Q52.4736 775.608 52.4736 766.881 Q52.4736 758.131 55.5291 753.547 Q58.6078 748.941 64.418 748.941 Z\" fill=\"#000000\" fill-rule=\"evenodd\" fill-opacity=\"1\" /><path clip-path=\"url(#clip420)\" d=\"M 0 0 M81.4318 778.246 L86.316 778.246 L86.316 784.126 L81.4318 784.126 L81.4318 778.246 Z\" fill=\"#000000\" fill-rule=\"evenodd\" fill-opacity=\"1\" /><path clip-path=\"url(#clip420)\" d=\"M 0 0 M91.4317 749.566 L109.788 749.566 L109.788 753.501 L95.7141 753.501 L95.7141 761.973 Q96.7326 761.626 97.7511 761.464 Q98.7696 761.279 99.7882 761.279 Q105.575 761.279 108.955 764.45 Q112.334 767.621 112.334 773.038 Q112.334 778.617 108.862 781.719 Q105.39 784.797 99.0706 784.797 Q96.8947 784.797 94.6262 784.427 Q92.3808 784.057 89.9734 783.316 L89.9734 778.617 Q92.0567 779.751 94.2789 780.307 Q96.5011 780.862 98.978 780.862 Q102.983 780.862 105.321 778.756 Q107.658 776.649 107.658 773.038 Q107.658 769.427 105.321 767.321 Q102.983 765.214 98.978 765.214 Q97.103 765.214 95.228 765.631 Q93.3762 766.047 91.4317 766.927 L91.4317 749.566 Z\" fill=\"#000000\" fill-rule=\"evenodd\" fill-opacity=\"1\" /><path clip-path=\"url(#clip420)\" d=\"M 0 0 M63.2606 526.355 Q59.6495 526.355 57.8208 529.92 Q56.0152 533.461 56.0152 540.591 Q56.0152 547.697 57.8208 551.262 Q59.6495 554.804 63.2606 554.804 Q66.8948 554.804 68.7004 551.262 Q70.5291 547.697 70.5291 540.591 Q70.5291 533.461 68.7004 529.92 Q66.8948 526.355 63.2606 526.355 M63.2606 522.651 Q69.0707 522.651 72.1263 527.258 Q75.205 531.841 75.205 540.591 Q75.205 549.318 72.1263 553.924 Q69.0707 558.507 63.2606 558.507 Q57.4504 558.507 54.3717 553.924 Q51.3162 549.318 51.3162 540.591 Q51.3162 531.841 54.3717 527.258 Q57.4504 522.651 63.2606 522.651 Z\" fill=\"#000000\" fill-rule=\"evenodd\" fill-opacity=\"1\" /><path clip-path=\"url(#clip420)\" d=\"M 0 0 M80.2744 551.956 L85.1586 551.956 L85.1586 557.836 L80.2744 557.836 L80.2744 551.956 Z\" fill=\"#000000\" fill-rule=\"evenodd\" fill-opacity=\"1\" /><path clip-path=\"url(#clip420)\" d=\"M 0 0 M100.807 538.693 Q97.6585 538.693 95.8067 540.845 Q93.978 542.998 93.978 546.748 Q93.978 550.475 95.8067 552.651 Q97.6585 554.804 100.807 554.804 Q103.955 554.804 105.783 552.651 Q107.635 550.475 107.635 546.748 Q107.635 542.998 105.783 540.845 Q103.955 538.693 100.807 538.693 M110.089 524.04 L110.089 528.299 Q108.33 527.466 106.524 527.026 Q104.742 526.586 102.983 526.586 Q98.353 526.586 95.8993 529.711 Q93.4688 532.836 93.1215 539.156 Q94.4873 537.142 96.5474 536.077 Q98.6076 534.989 101.084 534.989 Q106.293 534.989 109.302 538.16 Q112.334 541.308 112.334 546.748 Q112.334 552.072 109.186 555.29 Q106.038 558.507 100.807 558.507 Q94.8113 558.507 91.6401 553.924 Q88.4688 549.318 88.4688 540.591 Q88.4688 532.396 92.3576 527.535 Q96.2465 522.651 102.797 522.651 Q104.557 522.651 106.339 522.998 Q108.145 523.346 110.089 524.04 Z\" fill=\"#000000\" fill-rule=\"evenodd\" fill-opacity=\"1\" /><path clip-path=\"url(#clip420)\" d=\"M 0 0 M64.3254 300.065 Q60.7143 300.065 58.8856 303.63 Q57.0801 307.171 57.0801 314.301 Q57.0801 321.407 58.8856 324.972 Q60.7143 328.514 64.3254 328.514 Q67.9596 328.514 69.7652 324.972 Q71.5939 321.407 71.5939 314.301 Q71.5939 307.171 69.7652 303.63 Q67.9596 300.065 64.3254 300.065 M64.3254 296.361 Q70.1355 296.361 73.1911 300.968 Q76.2698 305.551 76.2698 314.301 Q76.2698 323.028 73.1911 327.634 Q70.1355 332.217 64.3254 332.217 Q58.5152 332.217 55.4365 327.634 Q52.381 323.028 52.381 314.301 Q52.381 305.551 55.4365 300.968 Q58.5152 296.361 64.3254 296.361 Z\" fill=\"#000000\" fill-rule=\"evenodd\" fill-opacity=\"1\" /><path clip-path=\"url(#clip420)\" d=\"M 0 0 M81.3392 325.667 L86.2234 325.667 L86.2234 331.546 L81.3392 331.546 L81.3392 325.667 Z\" fill=\"#000000\" fill-rule=\"evenodd\" fill-opacity=\"1\" /><path clip-path=\"url(#clip420)\" d=\"M 0 0 M90.1123 296.986 L112.334 296.986 L112.334 298.977 L99.7882 331.546 L94.9039 331.546 L106.709 300.921 L90.1123 300.921 L90.1123 296.986 Z\" fill=\"#000000\" fill-rule=\"evenodd\" fill-opacity=\"1\" /><path clip-path=\"url(#clip420)\" d=\"M 0 0 M63.5152 73.775 Q59.9041 73.775 58.0754 77.3398 Q56.2699 80.8814 56.2699 88.011 Q56.2699 95.1174 58.0754 98.6822 Q59.9041 102.224 63.5152 102.224 Q67.1494 102.224 68.955 98.6822 Q70.7837 95.1174 70.7837 88.011 Q70.7837 80.8814 68.955 77.3398 Q67.1494 73.775 63.5152 73.775 M63.5152 70.0713 Q69.3254 70.0713 72.3809 74.6777 Q75.4596 79.261 75.4596 88.011 Q75.4596 96.7378 72.3809 101.344 Q69.3254 105.928 63.5152 105.928 Q57.7051 105.928 54.6264 101.344 Q51.5708 96.7378 51.5708 88.011 Q51.5708 79.261 54.6264 74.6777 Q57.7051 70.0713 63.5152 70.0713 Z\" fill=\"#000000\" fill-rule=\"evenodd\" fill-opacity=\"1\" /><path clip-path=\"url(#clip420)\" d=\"M 0 0 M80.529 99.3767 L85.4132 99.3767 L85.4132 105.256 L80.529 105.256 L80.529 99.3767 Z\" fill=\"#000000\" fill-rule=\"evenodd\" fill-opacity=\"1\" /><path clip-path=\"url(#clip420)\" d=\"M 0 0 M100.483 88.8443 Q97.1493 88.8443 95.228 90.6267 Q93.3299 92.4091 93.3299 95.5341 Q93.3299 98.6591 95.228 100.441 Q97.1493 102.224 100.483 102.224 Q103.816 102.224 105.737 100.441 Q107.658 98.6359 107.658 95.5341 Q107.658 92.4091 105.737 90.6267 Q103.839 88.8443 100.483 88.8443 M95.8067 86.8536 Q92.7975 86.1129 91.1077 84.0527 Q89.441 81.9925 89.441 79.0296 Q89.441 74.8861 92.3808 72.4787 Q95.3437 70.0713 100.483 70.0713 Q105.645 70.0713 108.584 72.4787 Q111.524 74.8861 111.524 79.0296 Q111.524 81.9925 109.834 84.0527 Q108.168 86.1129 105.182 86.8536 Q108.561 87.6406 110.436 89.9323 Q112.334 92.2239 112.334 95.5341 Q112.334 100.557 109.256 103.242 Q106.2 105.928 100.483 105.928 Q94.765 105.928 91.6864 103.242 Q88.6308 100.557 88.6308 95.5341 Q88.6308 92.2239 90.529 89.9323 Q92.4271 87.6406 95.8067 86.8536 M94.0937 79.4694 Q94.0937 82.1545 95.7604 83.6592 Q97.4502 85.1638 100.483 85.1638 Q103.492 85.1638 105.182 83.6592 Q106.895 82.1545 106.895 79.4694 Q106.895 76.7842 105.182 75.2796 Q103.492 73.775 100.483 73.775 Q97.4502 73.775 95.7604 75.2796 Q94.0937 76.7842 94.0937 79.4694 Z\" fill=\"#000000\" fill-rule=\"evenodd\" fill-opacity=\"1\" /><polyline clip-path=\"url(#clip422)\" style=\"stroke:#009af9; stroke-width:4; stroke-opacity:1; fill:none\" points=\"\n",
       "  210.724,87.9763 231.73,87.9763 252.737,87.9763 273.743,87.9763 294.75,87.9763 315.756,87.9763 336.763,87.9763 357.769,87.9763 378.776,87.9763 399.782,87.9763 \n",
       "  420.789,87.9763 441.795,87.9763 462.802,87.9763 483.808,87.9763 504.815,87.9763 525.821,87.9763 546.828,87.9763 567.834,87.9763 588.841,87.9763 609.847,87.9763 \n",
       "  630.854,87.9763 651.86,87.9763 672.867,87.9763 693.873,87.9763 714.88,87.9763 735.886,87.9763 756.893,87.9763 777.899,87.9763 798.906,87.9763 819.912,87.9763 \n",
       "  840.919,87.9763 861.925,87.9763 882.931,87.9763 903.938,87.9763 924.944,87.9763 945.951,87.9763 966.957,87.9763 987.964,87.9763 1008.97,87.9763 1029.98,87.9763 \n",
       "  1050.98,87.9763 1071.99,87.9763 1093,87.9763 1114,87.9763 1135.01,87.9763 1156.02,87.9763 1177.02,87.9763 1198.03,87.9763 1219.04,87.9763 1240.04,87.9763 \n",
       "  1261.05,87.9763 1282.05,87.9763 1303.06,87.9763 1324.07,87.9763 1345.07,87.9763 1366.08,87.9763 1387.09,87.9763 1408.09,87.9763 1429.1,87.9763 1450.11,87.9763 \n",
       "  1471.11,87.9763 1492.12,87.9763 1513.13,87.9763 1534.13,87.9763 1555.14,87.9763 1576.15,87.9763 1597.15,87.9763 1618.16,87.9763 1639.17,87.9763 1660.17,87.9763 \n",
       "  1681.18,87.9763 1702.18,87.9763 1723.19,87.9763 1744.2,87.9763 1765.2,87.9763 1786.21,87.9763 1807.22,87.9763 1828.22,87.9763 1849.23,87.9763 1870.24,87.9763 \n",
       "  1891.24,87.9763 1912.25,87.9763 1933.26,87.9763 1954.26,87.9763 1975.27,87.9763 1996.28,87.9763 2017.28,87.9763 2038.29,87.9763 2059.3,87.9763 2080.3,87.9763 \n",
       "  2101.31,87.9763 2122.31,87.9763 2143.32,87.9763 2164.33,87.9763 2185.33,87.9763 2206.34,87.9763 2227.35,87.9763 2248.35,87.9763 2269.36,87.9763 2290.37,87.9763 \n",
       "  \n",
       "  \"/>\n",
       "<polyline clip-path=\"url(#clip422)\" style=\"stroke:#e26f46; stroke-width:4; stroke-opacity:1; fill:none\" points=\"\n",
       "  210.724,1445.72 231.73,1445.72 252.737,1445.72 273.743,1445.72 294.75,1445.72 315.756,1445.72 336.763,1445.72 357.769,1445.72 378.776,1445.72 399.782,1445.72 \n",
       "  420.789,1445.72 441.795,1445.72 462.802,1445.72 483.808,1445.72 504.815,1445.72 525.821,1445.72 546.828,1445.72 567.834,1445.72 588.841,1445.72 609.847,1445.72 \n",
       "  630.854,1445.72 651.86,1445.72 672.867,1445.72 693.873,1445.72 714.88,1445.72 735.886,1445.72 756.893,1445.72 777.899,1445.72 798.906,1445.72 819.912,1445.72 \n",
       "  840.919,1445.72 861.925,1445.72 882.931,1445.72 903.938,1445.72 924.944,1445.72 945.951,1445.72 966.957,1445.72 987.964,1445.72 1008.97,1445.72 1029.98,1445.72 \n",
       "  1050.98,1445.72 1071.99,1445.72 1093,1445.72 1114,1445.72 1135.01,1445.72 1156.02,1445.72 1177.02,1445.72 1198.03,1445.72 1219.04,1445.72 1240.04,1445.72 \n",
       "  1261.05,1445.72 1282.05,1445.72 1303.06,1445.72 1324.07,1445.72 1345.07,1445.72 1366.08,1445.72 1387.09,1445.72 1408.09,1445.72 1429.1,1445.72 1450.11,1445.72 \n",
       "  1471.11,1445.72 1492.12,1445.72 1513.13,1445.72 1534.13,1445.72 1555.14,1445.72 1576.15,1445.72 1597.15,1445.72 1618.16,1445.72 1639.17,1445.72 1660.17,1445.72 \n",
       "  1681.18,1445.72 1702.18,1445.72 1723.19,1445.72 1744.2,1445.72 1765.2,1445.72 1786.21,1445.72 1807.22,1445.72 1828.22,1445.72 1849.23,1445.72 1870.24,1445.72 \n",
       "  1891.24,1445.72 1912.25,1445.72 1933.26,1445.72 1954.26,1445.72 1975.27,1445.72 1996.28,1445.72 2017.28,1445.72 2038.29,1445.72 2059.3,1445.72 2080.3,1445.72 \n",
       "  2101.31,1445.72 2122.31,1445.72 2143.32,1445.72 2164.33,1445.72 2185.33,1445.72 2206.34,1445.72 2227.35,1445.72 2248.35,1445.72 2269.36,1445.72 2290.37,1445.72 \n",
       "  \n",
       "  \"/>\n",
       "<path clip-path=\"url(#clip420)\" d=\"\n",
       "M1983.32 276.658 L2279.28 276.658 L2279.28 95.2176 L1983.32 95.2176  Z\n",
       "  \" fill=\"#ffffff\" fill-rule=\"evenodd\" fill-opacity=\"1\"/>\n",
       "<polyline clip-path=\"url(#clip420)\" style=\"stroke:#000000; stroke-width:4; stroke-opacity:1; fill:none\" points=\"\n",
       "  1983.32,276.658 2279.28,276.658 2279.28,95.2176 1983.32,95.2176 1983.32,276.658 \n",
       "  \"/>\n",
       "<polyline clip-path=\"url(#clip420)\" style=\"stroke:#009af9; stroke-width:4; stroke-opacity:1; fill:none\" points=\"\n",
       "  2007.81,155.698 2154.78,155.698 \n",
       "  \"/>\n",
       "<path clip-path=\"url(#clip420)\" d=\"M 0 0 M2193.11 175.385 Q2191.31 180.015 2189.59 181.427 Q2187.88 182.839 2185.01 182.839 L2181.61 182.839 L2181.61 179.274 L2184.11 179.274 Q2185.87 179.274 2186.84 178.44 Q2187.81 177.607 2188.99 174.505 L2189.76 172.561 L2179.27 147.052 L2183.78 147.052 L2191.89 167.329 L2199.99 147.052 L2204.5 147.052 L2193.11 175.385 Z\" fill=\"#000000\" fill-rule=\"evenodd\" fill-opacity=\"1\" /><path clip-path=\"url(#clip420)\" d=\"M 0 0 M2210.38 169.042 L2218.02 169.042 L2218.02 142.677 L2209.71 144.343 L2209.71 140.084 L2217.97 138.418 L2222.65 138.418 L2222.65 169.042 L2230.29 169.042 L2230.29 172.978 L2210.38 172.978 L2210.38 169.042 Z\" fill=\"#000000\" fill-rule=\"evenodd\" fill-opacity=\"1\" /><polyline clip-path=\"url(#clip420)\" style=\"stroke:#e26f46; stroke-width:4; stroke-opacity:1; fill:none\" points=\"\n",
       "  2007.81,216.178 2154.78,216.178 \n",
       "  \"/>\n",
       "<path clip-path=\"url(#clip420)\" d=\"M 0 0 M2193.11 235.865 Q2191.31 240.495 2189.59 241.907 Q2187.88 243.319 2185.01 243.319 L2181.61 243.319 L2181.61 239.754 L2184.11 239.754 Q2185.87 239.754 2186.84 238.92 Q2187.81 238.087 2188.99 234.985 L2189.76 233.041 L2179.27 207.532 L2183.78 207.532 L2191.89 227.809 L2199.99 207.532 L2204.5 207.532 L2193.11 235.865 Z\" fill=\"#000000\" fill-rule=\"evenodd\" fill-opacity=\"1\" /><path clip-path=\"url(#clip420)\" d=\"M 0 0 M2213.6 229.522 L2229.92 229.522 L2229.92 233.458 L2207.97 233.458 L2207.97 229.522 Q2210.64 226.768 2215.22 222.138 Q2219.83 217.485 2221.01 216.143 Q2223.25 213.62 2224.13 211.884 Q2225.03 210.124 2225.03 208.435 Q2225.03 205.68 2223.09 203.944 Q2221.17 202.208 2218.07 202.208 Q2215.87 202.208 2213.41 202.972 Q2210.98 203.735 2208.2 205.286 L2208.2 200.564 Q2211.03 199.43 2213.48 198.851 Q2215.94 198.273 2217.97 198.273 Q2223.34 198.273 2226.54 200.958 Q2229.73 203.643 2229.73 208.134 Q2229.73 210.263 2228.92 212.185 Q2228.14 214.083 2226.03 216.675 Q2225.45 217.347 2222.35 220.564 Q2219.25 223.759 2213.6 229.522 Z\" fill=\"#000000\" fill-rule=\"evenodd\" fill-opacity=\"1\" /></svg>\n"
      ]
     },
     "execution_count": 47,
     "metadata": {},
     "output_type": "execute_result"
    }
   ],
   "source": [
    "pmf = zeros(2, 100)\n",
    "pmf[:, 1] = pi_star\n",
    "forecast_markov_chain!(pmf, P)\n",
    "plot(pmf')"
   ]
  },
  {
   "cell_type": "code",
   "execution_count": 51,
   "metadata": {},
   "outputs": [
    {
     "data": {
      "text/plain": [
       "2×2 Array{Float64,2}:\n",
       " 0.6  0.4\n",
       " 1.0  0.0"
      ]
     },
     "execution_count": 51,
     "metadata": {},
     "output_type": "execute_result"
    }
   ],
   "source": [
    "P1 = [0.6 0.4; 1.0 0.0]"
   ]
  },
  {
   "cell_type": "code",
   "execution_count": 52,
   "metadata": {},
   "outputs": [
    {
     "data": {
      "text/plain": [
       "Eigen{Float64,Float64,Array{Float64,2},Array{Float64,1}}\n",
       "values:\n",
       "2-element Array{Float64,1}:\n",
       " -0.4\n",
       "  1.0\n",
       "vectors:\n",
       "2×2 Array{Float64,2}:\n",
       " -0.707107  0.928477\n",
       "  0.707107  0.371391"
      ]
     },
     "execution_count": 52,
     "metadata": {},
     "output_type": "execute_result"
    }
   ],
   "source": [
    "eigen(P1')"
   ]
  },
  {
   "cell_type": "code",
   "execution_count": 53,
   "metadata": {},
   "outputs": [
    {
     "data": {
      "text/plain": [
       "2×2 Array{Float64,2}:\n",
       " 0.76  0.24\n",
       " 0.6   0.4"
      ]
     },
     "execution_count": 53,
     "metadata": {},
     "output_type": "execute_result"
    }
   ],
   "source": [
    "P2 = P1 * P1"
   ]
  },
  {
   "cell_type": "code",
   "execution_count": 54,
   "metadata": {},
   "outputs": [
    {
     "data": {
      "text/plain": [
       "2×2 Array{Float64,2}:\n",
       " 0.9  0.1\n",
       " 0.4  0.6"
      ]
     },
     "execution_count": 54,
     "metadata": {},
     "output_type": "execute_result"
    }
   ],
   "source": [
    "P"
   ]
  },
  {
   "cell_type": "code",
   "execution_count": 56,
   "metadata": {},
   "outputs": [
    {
     "data": {
      "text/plain": [
       "Eigen{Float64,Float64,Array{Float64,2},Array{Float64,1}}\n",
       "values:\n",
       "2-element Array{Float64,1}:\n",
       " 0.5\n",
       " 1.0\n",
       "vectors:\n",
       "2×2 Array{Float64,2}:\n",
       " -0.707107  0.970143\n",
       "  0.707107  0.242536"
      ]
     },
     "execution_count": 56,
     "metadata": {},
     "output_type": "execute_result"
    }
   ],
   "source": [
    "eigen(P')"
   ]
  },
  {
   "cell_type": "markdown",
   "metadata": {},
   "source": [
    "### The role of other eigenvalues\n",
    "For $a\\neq 0$ such that\n",
    "$$\n",
    "\\pi = \\pi_* + a \\mathbf v_2\n",
    "$$\n",
    "is a pmf,\n",
    "$$\n",
    "\\pi \\mathbf P = \n",
    "\\pi_*\\mathbf P + a \\mathbf v_2 \\mathbf P =\n",
    "\\pi_* +\\lambda_2 a\\mathbf v_2\n",
    "$$"
   ]
  },
  {
   "cell_type": "code",
   "execution_count": 62,
   "metadata": {},
   "outputs": [
    {
     "data": {
      "text/plain": [
       "2-element Array{Float64,1}:\n",
       " 0.9414213562373095\n",
       " 0.05857864376269048"
      ]
     },
     "execution_count": 62,
     "metadata": {},
     "output_type": "execute_result"
    }
   ],
   "source": [
    "a = -0.2\n",
    "pi_star + a * eigen(P').vectors[:,1]"
   ]
  },
  {
   "cell_type": "markdown",
   "metadata": {},
   "source": [
    "A $1\\times N$ vector can be written as linear comb of $N$ eigenvalues."
   ]
  },
  {
   "cell_type": "markdown",
   "metadata": {},
   "source": [
    "Eigenvalues\n",
    "$$\n",
    "\\mathbf P^t\n",
    "$$\n",
    "whenever \n",
    "$$\n",
    "\\mathbf P = \\mathbf V\n",
    "\\mathbf \\Lambda \n",
    "\\mathbf V^{-1}\n",
    "$$\n",
    "$$\n",
    "\\mathbf P^t\n",
    "= \\mathbf V\n",
    "\\mathbf \\Lambda^t \n",
    "\\mathbf V^{-1}\n",
    "$$\n",
    "$$\n",
    "\\mathbf \\Lambda ^t =\n",
    "\\begin{bmatrix}\n",
    "\\lambda_1^t & 0 & 0 \\\\\n",
    "0 & \\lambda_2^t & 0\\\\\n",
    "...\n",
    "\\end{bmatrix}\n",
    "$$\n",
    "\n",
    "Generally\n",
    "$$\n",
    "\\pi_0 = \\sum_{i=1}^N\n",
    "a_i\\mathbf v_{i}\n",
    "$$\n",
    "$\\pi_0 \\mathbf 1=1$\n",
    "for $\\lambda_1=1$\n",
    "$$\n",
    "a_1 = 1\n",
    "$$\n",
    "$$\n",
    "\\pi_t = \\pi_0 \\mathbf P^t\n",
    "= \\pi_0 \\mathbf V\n",
    "\\mathbf \\Lambda^t \n",
    "\\mathbf V^{-1}\n",
    "$$\n",
    "...\n",
    "### For $N=2$\n",
    "$$\n",
    "\\pi_0 = \\pi_* + a \\mathbf v_2\n",
    "$$\n",
    "$$\n",
    "\\pi_1 = \\pi_0 \\mathbf P \n",
    "= (\\pi_* + a \\mathbf v_2) \\mathbf P\n",
    "= \\pi_* + a \\mathbf v_2 \\lambda_2\n",
    "$$\n",
    "...\n",
    "$$\n",
    "\\pi_t = \\pi_* + a \\mathbf v_2 \\lambda_2^t\n",
    "$$\n",
    "whenever $|\\lambda_2|<1$, we have asymptotic stationarity\n",
    "### For $N>2$\n",
    "$$\n",
    "\\pi_t = \\pi_* +a_2\\mathbf v_2\\lambda_2^t+a_3 \\mathbf v_3 \\lambda_3^t+...\n",
    "$$\n",
    "$|\\lambda_i|<1$ for all $i$ $\\to$ asymptotic stationarity\n"
   ]
  },
  {
   "cell_type": "code",
   "execution_count": null,
   "metadata": {},
   "outputs": [],
   "source": []
  }
 ],
 "metadata": {
  "kernelspec": {
   "display_name": "Julia 1.4.2",
   "language": "julia",
   "name": "julia-1.4"
  },
  "language_info": {
   "file_extension": ".jl",
   "mimetype": "application/julia",
   "name": "julia",
   "version": "1.4.2"
  }
 },
 "nbformat": 4,
 "nbformat_minor": 4
}

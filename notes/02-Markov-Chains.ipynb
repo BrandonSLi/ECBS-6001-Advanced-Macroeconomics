{
 "cells": [
  {
   "cell_type": "markdown",
   "metadata": {},
   "source": [
    "# Markov Chains\n",
    "## Markov processes\n",
    "$$\n",
    "X_t\\in\\mathbb R^n \\text{ for example}\n",
    "$$\n",
    "$$\n",
    "F(X_t | \\{X_0,x_1,...,X_{t-1}\\}) = F(X_{t} | X_{t-1})\n",
    "$$\n",
    "\n",
    "## The future will be like the past\n",
    "\n",
    "$$\n",
    "X_t = \\beta E_t(Y_{t+1})\n",
    "$$\n",
    "$X$ may be be current economic activity, $Y$ may be future inflation\n",
    "\n",
    "$$\n",
    "Y_t = \\gamma X_t + u_t\n",
    "$$\n",
    "Suppose that $(X_t,u_t)$ are Markov\n",
    "$$\n",
    "F(X_t, u_t|X_{t-1}, u_{t-1})\n",
    "$$\n",
    "then\n",
    "$$\n",
    "E_t(Y_{t+1}) = g(X_t, u_t)\n",
    "$$\n",
    "and\n",
    "$$\n",
    "X_t = \\beta g(X_t, u_t).\n",
    "$$\n",
    "Hopefully,\n",
    "$$\n",
    "X_t = h(u_t).\n",
    "$$\n",
    "\n",
    "\n",
    "### Stochastic DEs are Markov processes\n",
    "$$\n",
    "x_t = Ax_{t-1} + B w_{t}\n",
    "$$\n",
    "$$\n",
    "F(x_t | t-1) = \n",
    "F(Ax_{t-1} + B w_{t} | t-1) \n",
    "= F(Ax_{t-1} + B w_{t} | x_{t-1})\n",
    "$$\n",
    "## Markov chains\n",
    "Suppose\n",
    "$$\n",
    "S_t \\in 1, 2, 3, ..., N.\n",
    "$$\n",
    "For example, $s=1$ for employment and $s=2$ for unemployment.\n",
    "\n",
    "$w_t \\sim F()$ maybe even a density function $f(w_t)$\n",
    "\n",
    "### Probability mass function (PMF)\n",
    "$$\n",
    "\\pi_n \\equiv\n",
    "\\Pr(S = n)\n",
    "$$\n",
    "$0 \\le \\pi_n \\le 1$ and $\\sum_{i=1}^N \\pi_n = 1$.\n"
   ]
  },
  {
   "cell_type": "code",
   "execution_count": 61,
   "metadata": {},
   "outputs": [],
   "source": [
    "using Random"
   ]
  },
  {
   "cell_type": "markdown",
   "metadata": {},
   "source": [
    "Uniform distributed [0,1)"
   ]
  },
  {
   "cell_type": "code",
   "execution_count": 65,
   "metadata": {},
   "outputs": [
    {
     "data": {
      "text/plain": [
       "0.7508036602275083"
      ]
     },
     "execution_count": 65,
     "metadata": {},
     "output_type": "execute_result"
    }
   ],
   "source": [
    "u = rand()"
   ]
  },
  {
   "cell_type": "code",
   "execution_count": 97,
   "metadata": {},
   "outputs": [
    {
     "data": {
      "text/plain": [
       "3-element Array{Float64,1}:\n",
       " 0.25\n",
       " 0.5\n",
       " 0.25"
      ]
     },
     "execution_count": 97,
     "metadata": {},
     "output_type": "execute_result"
    }
   ],
   "source": [
    "pmf = [0.25, 0.5, 0.25]"
   ]
  },
  {
   "cell_type": "code",
   "execution_count": 98,
   "metadata": {},
   "outputs": [
    {
     "data": {
      "text/plain": [
       "3-element Array{Float64,1}:\n",
       " 0.25\n",
       " 0.75\n",
       " 1.0"
      ]
     },
     "execution_count": 98,
     "metadata": {},
     "output_type": "execute_result"
    }
   ],
   "source": [
    "CDF = cumsum(pmf, dims=1)"
   ]
  },
  {
   "cell_type": "code",
   "execution_count": 109,
   "metadata": {},
   "outputs": [
    {
     "data": {
      "text/plain": [
       "1"
      ]
     },
     "execution_count": 109,
     "metadata": {},
     "output_type": "execute_result"
    }
   ],
   "source": [
    "sum(rand() .>= CDF) + 1"
   ]
  },
  {
   "cell_type": "code",
   "execution_count": 102,
   "metadata": {},
   "outputs": [
    {
     "data": {
      "text/plain": [
       "0.1891952774570116"
      ]
     },
     "execution_count": 102,
     "metadata": {},
     "output_type": "execute_result"
    }
   ],
   "source": [
    "u = rand()"
   ]
  },
  {
   "cell_type": "code",
   "execution_count": null,
   "metadata": {},
   "outputs": [],
   "source": []
  },
  {
   "cell_type": "code",
   "execution_count": 68,
   "metadata": {},
   "outputs": [
    {
     "data": {
      "text/plain": [
       "1-element Array{Float64,1}:\n",
       " 1.0"
      ]
     },
     "execution_count": 68,
     "metadata": {},
     "output_type": "execute_result"
    }
   ],
   "source": [
    "sum(pmf, dims=1)"
   ]
  },
  {
   "cell_type": "code",
   "execution_count": 110,
   "metadata": {},
   "outputs": [
    {
     "data": {
      "text/plain": [
       "draw_random_state (generic function with 1 method)"
      ]
     },
     "execution_count": 110,
     "metadata": {},
     "output_type": "execute_result"
    }
   ],
   "source": [
    "function draw_random_state(pmf::Vector{Float64})\n",
    "    prob = pmf ./ sum(pmf, dims=1)\n",
    "    CDF = cumsum(prob, dims=1)\n",
    "    u = rand() # this is uniform random [0,1)\n",
    "    return sum(u .>= CDF) + 1\n",
    "end"
   ]
  },
  {
   "cell_type": "code",
   "execution_count": 69,
   "metadata": {},
   "outputs": [
    {
     "data": {
      "text/plain": [
       "3-element Array{Float64,1}:\n",
       " 0.16666666666666666\n",
       " 0.3333333333333333\n",
       " 0.5"
      ]
     },
     "execution_count": 69,
     "metadata": {},
     "output_type": "execute_result"
    }
   ],
   "source": [
    "pmf = [1, 2, 3]\n",
    "pmf ./ sum(pmf, dims=1)"
   ]
  },
  {
   "cell_type": "code",
   "execution_count": 70,
   "metadata": {},
   "outputs": [
    {
     "data": {
      "text/plain": [
       "2×3 Array{Int64,2}:\n",
       " 1  2  3\n",
       " 4  5  6"
      ]
     },
     "execution_count": 70,
     "metadata": {},
     "output_type": "execute_result"
    }
   ],
   "source": [
    "A = [1 2 3; 4 5 6]"
   ]
  },
  {
   "cell_type": "code",
   "execution_count": 76,
   "metadata": {},
   "outputs": [
    {
     "data": {
      "text/plain": [
       "21"
      ]
     },
     "execution_count": 76,
     "metadata": {},
     "output_type": "execute_result"
    }
   ],
   "source": [
    "sum(A)"
   ]
  },
  {
   "cell_type": "code",
   "execution_count": 73,
   "metadata": {},
   "outputs": [
    {
     "data": {
      "text/plain": [
       "1×3 Array{Int64,2}:\n",
       " 5  7  9"
      ]
     },
     "execution_count": 73,
     "metadata": {},
     "output_type": "execute_result"
    }
   ],
   "source": [
    "sum(A, dims=1)"
   ]
  },
  {
   "cell_type": "code",
   "execution_count": 75,
   "metadata": {},
   "outputs": [
    {
     "data": {
      "text/plain": [
       "1×1 Array{Int64,2}:\n",
       " 21"
      ]
     },
     "execution_count": 75,
     "metadata": {},
     "output_type": "execute_result"
    }
   ],
   "source": [
    "sum(A, dims=(1,2))"
   ]
  },
  {
   "cell_type": "code",
   "execution_count": 83,
   "metadata": {},
   "outputs": [
    {
     "data": {
      "text/plain": [
       "2×3 Array{Int64,2}:\n",
       " 1  2  3\n",
       " 4  5  6"
      ]
     },
     "execution_count": 83,
     "metadata": {},
     "output_type": "execute_result"
    }
   ],
   "source": [
    "A"
   ]
  },
  {
   "cell_type": "code",
   "execution_count": 81,
   "metadata": {},
   "outputs": [
    {
     "data": {
      "text/plain": [
       "2×1 Array{Int64,2}:\n",
       " 7\n",
       " 8"
      ]
     },
     "execution_count": 81,
     "metadata": {},
     "output_type": "execute_result"
    }
   ],
   "source": [
    "b = [0 7; 0 8][:, 2:2]"
   ]
  },
  {
   "cell_type": "code",
   "execution_count": 82,
   "metadata": {},
   "outputs": [
    {
     "data": {
      "text/plain": [
       "2×3 Array{Int64,2}:\n",
       "  8   9  10\n",
       " 12  13  14"
      ]
     },
     "execution_count": 82,
     "metadata": {},
     "output_type": "execute_result"
    }
   ],
   "source": [
    "A .+ b"
   ]
  },
  {
   "cell_type": "code",
   "execution_count": 84,
   "metadata": {},
   "outputs": [
    {
     "data": {
      "text/plain": [
       "2-element Array{Int64,1}:\n",
       " 7\n",
       " 8"
      ]
     },
     "execution_count": 84,
     "metadata": {},
     "output_type": "execute_result"
    }
   ],
   "source": [
    "c = [7;8]"
   ]
  },
  {
   "cell_type": "code",
   "execution_count": 85,
   "metadata": {},
   "outputs": [
    {
     "data": {
      "text/plain": [
       "2×3 Array{Int64,2}:\n",
       "  8   9  10\n",
       " 12  13  14"
      ]
     },
     "execution_count": 85,
     "metadata": {},
     "output_type": "execute_result"
    }
   ],
   "source": [
    "A .+ c"
   ]
  },
  {
   "cell_type": "code",
   "execution_count": 86,
   "metadata": {},
   "outputs": [
    {
     "data": {
      "text/plain": [
       "2×2 Array{Int64,2}:\n",
       " 0  7\n",
       " 0  8"
      ]
     },
     "execution_count": 86,
     "metadata": {},
     "output_type": "execute_result"
    }
   ],
   "source": [
    "d = [0 7; 0 8]"
   ]
  },
  {
   "cell_type": "code",
   "execution_count": 87,
   "metadata": {},
   "outputs": [
    {
     "ename": "DimensionMismatch",
     "evalue": "DimensionMismatch(\"arrays could not be broadcast to a common size; got a dimension with lengths 3 and 2\")",
     "output_type": "error",
     "traceback": [
      "DimensionMismatch(\"arrays could not be broadcast to a common size; got a dimension with lengths 3 and 2\")",
      "",
      "Stacktrace:",
      " [1] _bcs1 at ./broadcast.jl:490 [inlined]",
      " [2] _bcs at ./broadcast.jl:484 [inlined] (repeats 2 times)",
      " [3] broadcast_shape at ./broadcast.jl:478 [inlined]",
      " [4] combine_axes at ./broadcast.jl:473 [inlined]",
      " [5] instantiate at ./broadcast.jl:256 [inlined]",
      " [6] materialize(::Base.Broadcast.Broadcasted{Base.Broadcast.DefaultArrayStyle{2},Nothing,typeof(+),Tuple{Array{Int64,2},Array{Int64,2}}}) at ./broadcast.jl:820",
      " [7] top-level scope at In[87]:1"
     ]
    }
   ],
   "source": [
    "A .+ d"
   ]
  },
  {
   "cell_type": "code",
   "execution_count": 91,
   "metadata": {},
   "outputs": [
    {
     "data": {
      "text/plain": [
       "2×1 Array{Int64,2}:\n",
       " 3\n",
       " 6"
      ]
     },
     "execution_count": 91,
     "metadata": {},
     "output_type": "execute_result"
    }
   ],
   "source": [
    "maximum(A, dims=2)"
   ]
  },
  {
   "cell_type": "code",
   "execution_count": 92,
   "metadata": {},
   "outputs": [
    {
     "data": {
      "text/plain": [
       "2×3 Array{Int64,2}:\n",
       " -2  -1  0\n",
       " -2  -1  0"
      ]
     },
     "execution_count": 92,
     "metadata": {},
     "output_type": "execute_result"
    }
   ],
   "source": [
    "A .- maximum(A, dims=2)"
   ]
  },
  {
   "cell_type": "code",
   "execution_count": 114,
   "metadata": {},
   "outputs": [
    {
     "data": {
      "text/plain": [
       "test_randomizer (generic function with 1 method)"
      ]
     },
     "execution_count": 114,
     "metadata": {},
     "output_type": "execute_result"
    }
   ],
   "source": [
    "function test_randomizer(pmf::Vector{Float64})\n",
    "    S = zeros(10000)\n",
    "    for n = 1:length(S)\n",
    "        S[n] = draw_random_state(pmf)\n",
    "    end\n",
    "    histogram(S)\n",
    "end"
   ]
  },
  {
   "cell_type": "code",
   "execution_count": 112,
   "metadata": {},
   "outputs": [],
   "source": [
    "using Plots"
   ]
  },
  {
   "cell_type": "code",
   "execution_count": 116,
   "metadata": {},
   "outputs": [
    {
     "data": {
      "image/svg+xml": [
       "<?xml version=\"1.0\" encoding=\"utf-8\"?>\n",
       "<svg xmlns=\"http://www.w3.org/2000/svg\" xmlns:xlink=\"http://www.w3.org/1999/xlink\" width=\"600\" height=\"400\" viewBox=\"0 0 2400 1600\">\n",
       "<defs>\n",
       "  <clipPath id=\"clip190\">\n",
       "    <rect x=\"0\" y=\"0\" width=\"2400\" height=\"1600\"/>\n",
       "  </clipPath>\n",
       "</defs>\n",
       "<path clip-path=\"url(#clip190)\" d=\"\n",
       "M0 1600 L2400 1600 L2400 0 L0 0  Z\n",
       "  \" fill=\"#ffffff\" fill-rule=\"evenodd\" fill-opacity=\"1\"/>\n",
       "<defs>\n",
       "  <clipPath id=\"clip191\">\n",
       "    <rect x=\"480\" y=\"0\" width=\"1681\" height=\"1600\"/>\n",
       "  </clipPath>\n",
       "</defs>\n",
       "<path clip-path=\"url(#clip190)\" d=\"\n",
       "M193.218 1486.45 L2352.76 1486.45 L2352.76 47.2441 L193.218 47.2441  Z\n",
       "  \" fill=\"#ffffff\" fill-rule=\"evenodd\" fill-opacity=\"1\"/>\n",
       "<defs>\n",
       "  <clipPath id=\"clip192\">\n",
       "    <rect x=\"193\" y=\"47\" width=\"2161\" height=\"1440\"/>\n",
       "  </clipPath>\n",
       "</defs>\n",
       "<polyline clip-path=\"url(#clip192)\" style=\"stroke:#000000; stroke-width:2; stroke-opacity:0.1; fill:none\" points=\"\n",
       "  311.997,1486.45 311.997,47.2441 \n",
       "  \"/>\n",
       "<polyline clip-path=\"url(#clip192)\" style=\"stroke:#000000; stroke-width:2; stroke-opacity:0.1; fill:none\" points=\"\n",
       "  769.611,1486.45 769.611,47.2441 \n",
       "  \"/>\n",
       "<polyline clip-path=\"url(#clip192)\" style=\"stroke:#000000; stroke-width:2; stroke-opacity:0.1; fill:none\" points=\"\n",
       "  1227.23,1486.45 1227.23,47.2441 \n",
       "  \"/>\n",
       "<polyline clip-path=\"url(#clip192)\" style=\"stroke:#000000; stroke-width:2; stroke-opacity:0.1; fill:none\" points=\"\n",
       "  1684.84,1486.45 1684.84,47.2441 \n",
       "  \"/>\n",
       "<polyline clip-path=\"url(#clip192)\" style=\"stroke:#000000; stroke-width:2; stroke-opacity:0.1; fill:none\" points=\"\n",
       "  2142.45,1486.45 2142.45,47.2441 \n",
       "  \"/>\n",
       "<polyline clip-path=\"url(#clip190)\" style=\"stroke:#000000; stroke-width:4; stroke-opacity:1; fill:none\" points=\"\n",
       "  193.218,1486.45 2352.76,1486.45 \n",
       "  \"/>\n",
       "<polyline clip-path=\"url(#clip190)\" style=\"stroke:#000000; stroke-width:4; stroke-opacity:1; fill:none\" points=\"\n",
       "  311.997,1486.45 311.997,1469.18 \n",
       "  \"/>\n",
       "<polyline clip-path=\"url(#clip190)\" style=\"stroke:#000000; stroke-width:4; stroke-opacity:1; fill:none\" points=\"\n",
       "  769.611,1486.45 769.611,1469.18 \n",
       "  \"/>\n",
       "<polyline clip-path=\"url(#clip190)\" style=\"stroke:#000000; stroke-width:4; stroke-opacity:1; fill:none\" points=\"\n",
       "  1227.23,1486.45 1227.23,1469.18 \n",
       "  \"/>\n",
       "<polyline clip-path=\"url(#clip190)\" style=\"stroke:#000000; stroke-width:4; stroke-opacity:1; fill:none\" points=\"\n",
       "  1684.84,1486.45 1684.84,1469.18 \n",
       "  \"/>\n",
       "<polyline clip-path=\"url(#clip190)\" style=\"stroke:#000000; stroke-width:4; stroke-opacity:1; fill:none\" points=\"\n",
       "  2142.45,1486.45 2142.45,1469.18 \n",
       "  \"/>\n",
       "<path clip-path=\"url(#clip190)\" d=\"M 0 0 M283.895 1543.18 L291.534 1543.18 L291.534 1516.82 L283.224 1518.49 L283.224 1514.23 L291.488 1512.56 L296.164 1512.56 L296.164 1543.18 L303.802 1543.18 L303.802 1547.12 L283.895 1547.12 L283.895 1543.18 Z\" fill=\"#000000\" fill-rule=\"evenodd\" fill-opacity=\"1\" /><path clip-path=\"url(#clip190)\" d=\"M 0 0 M308.872 1541.24 L313.756 1541.24 L313.756 1547.12 L308.872 1547.12 L308.872 1541.24 Z\" fill=\"#000000\" fill-rule=\"evenodd\" fill-opacity=\"1\" /><path clip-path=\"url(#clip190)\" d=\"M 0 0 M328.825 1515.64 Q325.214 1515.64 323.386 1519.2 Q321.58 1522.75 321.58 1529.87 Q321.58 1536.98 323.386 1540.55 Q325.214 1544.09 328.825 1544.09 Q332.46 1544.09 334.265 1540.55 Q336.094 1536.98 336.094 1529.87 Q336.094 1522.75 334.265 1519.2 Q332.46 1515.64 328.825 1515.64 M328.825 1511.93 Q334.636 1511.93 337.691 1516.54 Q340.77 1521.12 340.77 1529.87 Q340.77 1538.6 337.691 1543.21 Q334.636 1547.79 328.825 1547.79 Q323.015 1547.79 319.937 1543.21 Q316.881 1538.6 316.881 1529.87 Q316.881 1521.12 319.937 1516.54 Q323.015 1511.93 328.825 1511.93 Z\" fill=\"#000000\" fill-rule=\"evenodd\" fill-opacity=\"1\" /><path clip-path=\"url(#clip190)\" d=\"M 0 0 M742.007 1543.18 L749.646 1543.18 L749.646 1516.82 L741.336 1518.49 L741.336 1514.23 L749.6 1512.56 L754.276 1512.56 L754.276 1543.18 L761.915 1543.18 L761.915 1547.12 L742.007 1547.12 L742.007 1543.18 Z\" fill=\"#000000\" fill-rule=\"evenodd\" fill-opacity=\"1\" /><path clip-path=\"url(#clip190)\" d=\"M 0 0 M766.984 1541.24 L771.868 1541.24 L771.868 1547.12 L766.984 1547.12 L766.984 1541.24 Z\" fill=\"#000000\" fill-rule=\"evenodd\" fill-opacity=\"1\" /><path clip-path=\"url(#clip190)\" d=\"M 0 0 M776.984 1512.56 L795.34 1512.56 L795.34 1516.5 L781.266 1516.5 L781.266 1524.97 Q782.285 1524.62 783.303 1524.46 Q784.322 1524.27 785.34 1524.27 Q791.127 1524.27 794.507 1527.44 Q797.887 1530.62 797.887 1536.03 Q797.887 1541.61 794.414 1544.71 Q790.942 1547.79 784.623 1547.79 Q782.447 1547.79 780.178 1547.42 Q777.933 1547.05 775.526 1546.31 L775.526 1541.61 Q777.609 1542.74 779.831 1543.3 Q782.053 1543.86 784.53 1543.86 Q788.535 1543.86 790.873 1541.75 Q793.211 1539.64 793.211 1536.03 Q793.211 1532.42 790.873 1530.31 Q788.535 1528.21 784.53 1528.21 Q782.655 1528.21 780.78 1528.62 Q778.928 1529.04 776.984 1529.92 L776.984 1512.56 Z\" fill=\"#000000\" fill-rule=\"evenodd\" fill-opacity=\"1\" /><path clip-path=\"url(#clip190)\" d=\"M 0 0 M1203.39 1543.18 L1219.71 1543.18 L1219.71 1547.12 L1197.77 1547.12 L1197.77 1543.18 Q1200.43 1540.43 1205.02 1535.8 Q1209.62 1531.15 1210.8 1529.81 Q1213.05 1527.28 1213.93 1525.55 Q1214.83 1523.79 1214.83 1522.1 Q1214.83 1519.34 1212.89 1517.61 Q1210.96 1515.87 1207.86 1515.87 Q1205.66 1515.87 1203.21 1516.63 Q1200.78 1517.4 1198 1518.95 L1198 1514.23 Q1200.83 1513.09 1203.28 1512.51 Q1205.73 1511.93 1207.77 1511.93 Q1213.14 1511.93 1216.33 1514.62 Q1219.53 1517.31 1219.53 1521.8 Q1219.53 1523.93 1218.72 1525.85 Q1217.93 1527.74 1215.83 1530.34 Q1215.25 1531.01 1212.14 1534.23 Q1209.04 1537.42 1203.39 1543.18 Z\" fill=\"#000000\" fill-rule=\"evenodd\" fill-opacity=\"1\" /><path clip-path=\"url(#clip190)\" d=\"M 0 0 M1224.78 1541.24 L1229.67 1541.24 L1229.67 1547.12 L1224.78 1547.12 L1224.78 1541.24 Z\" fill=\"#000000\" fill-rule=\"evenodd\" fill-opacity=\"1\" /><path clip-path=\"url(#clip190)\" d=\"M 0 0 M1244.74 1515.64 Q1241.13 1515.64 1239.3 1519.2 Q1237.49 1522.75 1237.49 1529.87 Q1237.49 1536.98 1239.3 1540.55 Q1241.13 1544.09 1244.74 1544.09 Q1248.37 1544.09 1250.18 1540.55 Q1252.01 1536.98 1252.01 1529.87 Q1252.01 1522.75 1250.18 1519.2 Q1248.37 1515.64 1244.74 1515.64 M1244.74 1511.93 Q1250.55 1511.93 1253.6 1516.54 Q1256.68 1521.12 1256.68 1529.87 Q1256.68 1538.6 1253.6 1543.21 Q1250.55 1547.79 1244.74 1547.79 Q1238.93 1547.79 1235.85 1543.21 Q1232.79 1538.6 1232.79 1529.87 Q1232.79 1521.12 1235.85 1516.54 Q1238.93 1511.93 1244.74 1511.93 Z\" fill=\"#000000\" fill-rule=\"evenodd\" fill-opacity=\"1\" /><path clip-path=\"url(#clip190)\" d=\"M 0 0 M1661.51 1543.18 L1677.83 1543.18 L1677.83 1547.12 L1655.88 1547.12 L1655.88 1543.18 Q1658.54 1540.43 1663.13 1535.8 Q1667.73 1531.15 1668.91 1529.81 Q1671.16 1527.28 1672.04 1525.55 Q1672.94 1523.79 1672.94 1522.1 Q1672.94 1519.34 1671 1517.61 Q1669.08 1515.87 1665.97 1515.87 Q1663.78 1515.87 1661.32 1516.63 Q1658.89 1517.4 1656.11 1518.95 L1656.11 1514.23 Q1658.94 1513.09 1661.39 1512.51 Q1663.84 1511.93 1665.88 1511.93 Q1671.25 1511.93 1674.45 1514.62 Q1677.64 1517.31 1677.64 1521.8 Q1677.64 1523.93 1676.83 1525.85 Q1676.04 1527.74 1673.94 1530.34 Q1673.36 1531.01 1670.26 1534.23 Q1667.16 1537.42 1661.51 1543.18 Z\" fill=\"#000000\" fill-rule=\"evenodd\" fill-opacity=\"1\" /><path clip-path=\"url(#clip190)\" d=\"M 0 0 M1682.9 1541.24 L1687.78 1541.24 L1687.78 1547.12 L1682.9 1547.12 L1682.9 1541.24 Z\" fill=\"#000000\" fill-rule=\"evenodd\" fill-opacity=\"1\" /><path clip-path=\"url(#clip190)\" d=\"M 0 0 M1692.9 1512.56 L1711.25 1512.56 L1711.25 1516.5 L1697.18 1516.5 L1697.18 1524.97 Q1698.2 1524.62 1699.22 1524.46 Q1700.23 1524.27 1701.25 1524.27 Q1707.04 1524.27 1710.42 1527.44 Q1713.8 1530.62 1713.8 1536.03 Q1713.8 1541.61 1710.33 1544.71 Q1706.85 1547.79 1700.53 1547.79 Q1698.36 1547.79 1696.09 1547.42 Q1693.84 1547.05 1691.44 1546.31 L1691.44 1541.61 Q1693.52 1542.74 1695.74 1543.3 Q1697.97 1543.86 1700.44 1543.86 Q1704.45 1543.86 1706.78 1541.75 Q1709.12 1539.64 1709.12 1536.03 Q1709.12 1532.42 1706.78 1530.31 Q1704.45 1528.21 1700.44 1528.21 Q1698.57 1528.21 1696.69 1528.62 Q1694.84 1529.04 1692.9 1529.92 L1692.9 1512.56 Z\" fill=\"#000000\" fill-rule=\"evenodd\" fill-opacity=\"1\" /><path clip-path=\"url(#clip190)\" d=\"M 0 0 M2128.22 1528.49 Q2131.58 1529.2 2133.45 1531.47 Q2135.35 1533.74 2135.35 1537.07 Q2135.35 1542.19 2131.83 1544.99 Q2128.31 1547.79 2121.83 1547.79 Q2119.65 1547.79 2117.34 1547.35 Q2115.05 1546.93 2112.59 1546.08 L2112.59 1541.56 Q2114.54 1542.7 2116.85 1543.28 Q2119.17 1543.86 2121.69 1543.86 Q2126.09 1543.86 2128.38 1542.12 Q2130.7 1540.38 2130.7 1537.07 Q2130.7 1534.02 2128.54 1532.31 Q2126.41 1530.57 2122.59 1530.57 L2118.57 1530.57 L2118.57 1526.73 L2122.78 1526.73 Q2126.23 1526.73 2128.06 1525.36 Q2129.89 1523.97 2129.89 1521.38 Q2129.89 1518.72 2127.99 1517.31 Q2126.11 1515.87 2122.59 1515.87 Q2120.67 1515.87 2118.47 1516.29 Q2116.27 1516.7 2113.64 1517.58 L2113.64 1513.42 Q2116.3 1512.68 2118.61 1512.31 Q2120.95 1511.93 2123.01 1511.93 Q2128.33 1511.93 2131.44 1514.37 Q2134.54 1516.77 2134.54 1520.89 Q2134.54 1523.76 2132.89 1525.75 Q2131.25 1527.72 2128.22 1528.49 Z\" fill=\"#000000\" fill-rule=\"evenodd\" fill-opacity=\"1\" /><path clip-path=\"url(#clip190)\" d=\"M 0 0 M2140.42 1541.24 L2145.3 1541.24 L2145.3 1547.12 L2140.42 1547.12 L2140.42 1541.24 Z\" fill=\"#000000\" fill-rule=\"evenodd\" fill-opacity=\"1\" /><path clip-path=\"url(#clip190)\" d=\"M 0 0 M2160.37 1515.64 Q2156.76 1515.64 2154.93 1519.2 Q2153.13 1522.75 2153.13 1529.87 Q2153.13 1536.98 2154.93 1540.55 Q2156.76 1544.09 2160.37 1544.09 Q2164.01 1544.09 2165.81 1540.55 Q2167.64 1536.98 2167.64 1529.87 Q2167.64 1522.75 2165.81 1519.2 Q2164.01 1515.64 2160.37 1515.64 M2160.37 1511.93 Q2166.18 1511.93 2169.24 1516.54 Q2172.32 1521.12 2172.32 1529.87 Q2172.32 1538.6 2169.24 1543.21 Q2166.18 1547.79 2160.37 1547.79 Q2154.56 1547.79 2151.48 1543.21 Q2148.43 1538.6 2148.43 1529.87 Q2148.43 1521.12 2151.48 1516.54 Q2154.56 1511.93 2160.37 1511.93 Z\" fill=\"#000000\" fill-rule=\"evenodd\" fill-opacity=\"1\" /><polyline clip-path=\"url(#clip192)\" style=\"stroke:#000000; stroke-width:2; stroke-opacity:0.1; fill:none\" points=\"\n",
       "  193.218,1445.72 2352.76,1445.72 \n",
       "  \"/>\n",
       "<polyline clip-path=\"url(#clip192)\" style=\"stroke:#000000; stroke-width:2; stroke-opacity:0.1; fill:none\" points=\"\n",
       "  193.218,1148.29 2352.76,1148.29 \n",
       "  \"/>\n",
       "<polyline clip-path=\"url(#clip192)\" style=\"stroke:#000000; stroke-width:2; stroke-opacity:0.1; fill:none\" points=\"\n",
       "  193.218,850.868 2352.76,850.868 \n",
       "  \"/>\n",
       "<polyline clip-path=\"url(#clip192)\" style=\"stroke:#000000; stroke-width:2; stroke-opacity:0.1; fill:none\" points=\"\n",
       "  193.218,553.444 2352.76,553.444 \n",
       "  \"/>\n",
       "<polyline clip-path=\"url(#clip192)\" style=\"stroke:#000000; stroke-width:2; stroke-opacity:0.1; fill:none\" points=\"\n",
       "  193.218,256.021 2352.76,256.021 \n",
       "  \"/>\n",
       "<polyline clip-path=\"url(#clip190)\" style=\"stroke:#000000; stroke-width:4; stroke-opacity:1; fill:none\" points=\"\n",
       "  193.218,1486.45 193.218,47.2441 \n",
       "  \"/>\n",
       "<polyline clip-path=\"url(#clip190)\" style=\"stroke:#000000; stroke-width:4; stroke-opacity:1; fill:none\" points=\"\n",
       "  193.218,1445.72 219.133,1445.72 \n",
       "  \"/>\n",
       "<polyline clip-path=\"url(#clip190)\" style=\"stroke:#000000; stroke-width:4; stroke-opacity:1; fill:none\" points=\"\n",
       "  193.218,1148.29 219.133,1148.29 \n",
       "  \"/>\n",
       "<polyline clip-path=\"url(#clip190)\" style=\"stroke:#000000; stroke-width:4; stroke-opacity:1; fill:none\" points=\"\n",
       "  193.218,850.868 219.133,850.868 \n",
       "  \"/>\n",
       "<polyline clip-path=\"url(#clip190)\" style=\"stroke:#000000; stroke-width:4; stroke-opacity:1; fill:none\" points=\"\n",
       "  193.218,553.444 219.133,553.444 \n",
       "  \"/>\n",
       "<polyline clip-path=\"url(#clip190)\" style=\"stroke:#000000; stroke-width:4; stroke-opacity:1; fill:none\" points=\"\n",
       "  193.218,256.021 219.133,256.021 \n",
       "  \"/>\n",
       "<path clip-path=\"url(#clip190)\" d=\"M 0 0 M145.274 1431.51 Q141.663 1431.51 139.834 1435.08 Q138.029 1438.62 138.029 1445.75 Q138.029 1452.86 139.834 1456.42 Q141.663 1459.96 145.274 1459.96 Q148.908 1459.96 150.714 1456.42 Q152.543 1452.86 152.543 1445.75 Q152.543 1438.62 150.714 1435.08 Q148.908 1431.51 145.274 1431.51 M145.274 1427.81 Q151.084 1427.81 154.14 1432.42 Q157.218 1437 157.218 1445.75 Q157.218 1454.48 154.14 1459.08 Q151.084 1463.67 145.274 1463.67 Q139.464 1463.67 136.385 1459.08 Q133.33 1454.48 133.33 1445.75 Q133.33 1437 136.385 1432.42 Q139.464 1427.81 145.274 1427.81 Z\" fill=\"#000000\" fill-rule=\"evenodd\" fill-opacity=\"1\" /><path clip-path=\"url(#clip190)\" d=\"M 0 0 M56.2699 1161.64 L63.9087 1161.64 L63.9087 1135.27 L55.5986 1136.94 L55.5986 1132.68 L63.8624 1131.01 L68.5383 1131.01 L68.5383 1161.64 L76.1772 1161.64 L76.1772 1165.57 L56.2699 1165.57 L56.2699 1161.64 Z\" fill=\"#000000\" fill-rule=\"evenodd\" fill-opacity=\"1\" /><path clip-path=\"url(#clip190)\" d=\"M 0 0 M91.2465 1134.09 Q87.6354 1134.09 85.8068 1137.66 Q84.0012 1141.2 84.0012 1148.33 Q84.0012 1155.43 85.8068 1159 Q87.6354 1162.54 91.2465 1162.54 Q94.8808 1162.54 96.6863 1159 Q98.515 1155.43 98.515 1148.33 Q98.515 1141.2 96.6863 1137.66 Q94.8808 1134.09 91.2465 1134.09 M91.2465 1130.39 Q97.0567 1130.39 100.112 1134.99 Q103.191 1139.58 103.191 1148.33 Q103.191 1157.05 100.112 1161.66 Q97.0567 1166.24 91.2465 1166.24 Q85.4364 1166.24 82.3577 1161.66 Q79.3022 1157.05 79.3022 1148.33 Q79.3022 1139.58 82.3577 1134.99 Q85.4364 1130.39 91.2465 1130.39 Z\" fill=\"#000000\" fill-rule=\"evenodd\" fill-opacity=\"1\" /><path clip-path=\"url(#clip190)\" d=\"M 0 0 M118.26 1134.09 Q114.649 1134.09 112.82 1137.66 Q111.015 1141.2 111.015 1148.33 Q111.015 1155.43 112.82 1159 Q114.649 1162.54 118.26 1162.54 Q121.895 1162.54 123.7 1159 Q125.529 1155.43 125.529 1148.33 Q125.529 1141.2 123.7 1137.66 Q121.895 1134.09 118.26 1134.09 M118.26 1130.39 Q124.07 1130.39 127.126 1134.99 Q130.205 1139.58 130.205 1148.33 Q130.205 1157.05 127.126 1161.66 Q124.07 1166.24 118.26 1166.24 Q112.45 1166.24 109.371 1161.66 Q106.316 1157.05 106.316 1148.33 Q106.316 1139.58 109.371 1134.99 Q112.45 1130.39 118.26 1130.39 Z\" fill=\"#000000\" fill-rule=\"evenodd\" fill-opacity=\"1\" /><path clip-path=\"url(#clip190)\" d=\"M 0 0 M145.274 1134.09 Q141.663 1134.09 139.834 1137.66 Q138.029 1141.2 138.029 1148.33 Q138.029 1155.43 139.834 1159 Q141.663 1162.54 145.274 1162.54 Q148.908 1162.54 150.714 1159 Q152.543 1155.43 152.543 1148.33 Q152.543 1141.2 150.714 1137.66 Q148.908 1134.09 145.274 1134.09 M145.274 1130.39 Q151.084 1130.39 154.14 1134.99 Q157.218 1139.58 157.218 1148.33 Q157.218 1157.05 154.14 1161.66 Q151.084 1166.24 145.274 1166.24 Q139.464 1166.24 136.385 1161.66 Q133.33 1157.05 133.33 1148.33 Q133.33 1139.58 136.385 1134.99 Q139.464 1130.39 145.274 1130.39 Z\" fill=\"#000000\" fill-rule=\"evenodd\" fill-opacity=\"1\" /><path clip-path=\"url(#clip190)\" d=\"M 0 0 M59.8578 864.213 L76.1772 864.213 L76.1772 868.148 L54.2328 868.148 L54.2328 864.213 Q56.8949 861.458 61.4782 856.829 Q66.0846 852.176 67.2652 850.833 Q69.5105 848.31 70.3902 846.574 Q71.2929 844.815 71.2929 843.125 Q71.2929 840.371 69.3485 838.634 Q67.4272 836.898 64.3254 836.898 Q62.1263 836.898 59.6726 837.662 Q57.2421 838.426 54.4643 839.977 L54.4643 835.255 Q57.2884 834.121 59.7421 833.542 Q62.1958 832.963 64.2328 832.963 Q69.6031 832.963 72.7976 835.648 Q75.992 838.334 75.992 842.824 Q75.992 844.954 75.1818 846.875 Q74.3948 848.773 72.2883 851.366 Q71.7096 852.037 68.6078 855.255 Q65.5059 858.449 59.8578 864.213 Z\" fill=\"#000000\" fill-rule=\"evenodd\" fill-opacity=\"1\" /><path clip-path=\"url(#clip190)\" d=\"M 0 0 M91.2465 836.667 Q87.6354 836.667 85.8068 840.232 Q84.0012 843.773 84.0012 850.903 Q84.0012 858.009 85.8068 861.574 Q87.6354 865.116 91.2465 865.116 Q94.8808 865.116 96.6863 861.574 Q98.515 858.009 98.515 850.903 Q98.515 843.773 96.6863 840.232 Q94.8808 836.667 91.2465 836.667 M91.2465 832.963 Q97.0567 832.963 100.112 837.57 Q103.191 842.153 103.191 850.903 Q103.191 859.63 100.112 864.236 Q97.0567 868.819 91.2465 868.819 Q85.4364 868.819 82.3577 864.236 Q79.3022 859.63 79.3022 850.903 Q79.3022 842.153 82.3577 837.57 Q85.4364 832.963 91.2465 832.963 Z\" fill=\"#000000\" fill-rule=\"evenodd\" fill-opacity=\"1\" /><path clip-path=\"url(#clip190)\" d=\"M 0 0 M118.26 836.667 Q114.649 836.667 112.82 840.232 Q111.015 843.773 111.015 850.903 Q111.015 858.009 112.82 861.574 Q114.649 865.116 118.26 865.116 Q121.895 865.116 123.7 861.574 Q125.529 858.009 125.529 850.903 Q125.529 843.773 123.7 840.232 Q121.895 836.667 118.26 836.667 M118.26 832.963 Q124.07 832.963 127.126 837.57 Q130.205 842.153 130.205 850.903 Q130.205 859.63 127.126 864.236 Q124.07 868.819 118.26 868.819 Q112.45 868.819 109.371 864.236 Q106.316 859.63 106.316 850.903 Q106.316 842.153 109.371 837.57 Q112.45 832.963 118.26 832.963 Z\" fill=\"#000000\" fill-rule=\"evenodd\" fill-opacity=\"1\" /><path clip-path=\"url(#clip190)\" d=\"M 0 0 M145.274 836.667 Q141.663 836.667 139.834 840.232 Q138.029 843.773 138.029 850.903 Q138.029 858.009 139.834 861.574 Q141.663 865.116 145.274 865.116 Q148.908 865.116 150.714 861.574 Q152.543 858.009 152.543 850.903 Q152.543 843.773 150.714 840.232 Q148.908 836.667 145.274 836.667 M145.274 832.963 Q151.084 832.963 154.14 837.57 Q157.218 842.153 157.218 850.903 Q157.218 859.63 154.14 864.236 Q151.084 868.819 145.274 868.819 Q139.464 868.819 136.385 864.236 Q133.33 859.63 133.33 850.903 Q133.33 842.153 136.385 837.57 Q139.464 832.963 145.274 832.963 Z\" fill=\"#000000\" fill-rule=\"evenodd\" fill-opacity=\"1\" /><path clip-path=\"url(#clip190)\" d=\"M 0 0 M69.0476 552.09 Q72.404 552.808 74.279 555.076 Q76.1772 557.345 76.1772 560.678 Q76.1772 565.794 72.6587 568.595 Q69.1402 571.396 62.6587 571.396 Q60.4828 571.396 58.168 570.956 Q55.8764 570.539 53.4227 569.683 L53.4227 565.169 Q55.3671 566.303 57.6819 566.882 Q59.9967 567.461 62.5198 567.461 Q66.918 567.461 69.2096 565.724 Q71.5244 563.988 71.5244 560.678 Q71.5244 557.623 69.3717 555.91 Q67.242 554.174 63.4226 554.174 L59.3949 554.174 L59.3949 550.331 L63.6078 550.331 Q67.0569 550.331 68.8855 548.965 Q70.7142 547.576 70.7142 544.984 Q70.7142 542.322 68.8161 540.91 Q66.9411 539.475 63.4226 539.475 Q61.5013 539.475 59.3023 539.891 Q57.1032 540.308 54.4643 541.188 L54.4643 537.021 Q57.1264 536.28 59.4412 535.91 Q61.7791 535.539 63.8393 535.539 Q69.1633 535.539 72.2652 537.97 Q75.367 540.377 75.367 544.498 Q75.367 547.368 73.7235 549.359 Q72.08 551.326 69.0476 552.09 Z\" fill=\"#000000\" fill-rule=\"evenodd\" fill-opacity=\"1\" /><path clip-path=\"url(#clip190)\" d=\"M 0 0 M91.2465 539.243 Q87.6354 539.243 85.8068 542.808 Q84.0012 546.35 84.0012 553.479 Q84.0012 560.586 85.8068 564.15 Q87.6354 567.692 91.2465 567.692 Q94.8808 567.692 96.6863 564.15 Q98.515 560.586 98.515 553.479 Q98.515 546.35 96.6863 542.808 Q94.8808 539.243 91.2465 539.243 M91.2465 535.539 Q97.0567 535.539 100.112 540.146 Q103.191 544.729 103.191 553.479 Q103.191 562.206 100.112 566.812 Q97.0567 571.396 91.2465 571.396 Q85.4364 571.396 82.3577 566.812 Q79.3022 562.206 79.3022 553.479 Q79.3022 544.729 82.3577 540.146 Q85.4364 535.539 91.2465 535.539 Z\" fill=\"#000000\" fill-rule=\"evenodd\" fill-opacity=\"1\" /><path clip-path=\"url(#clip190)\" d=\"M 0 0 M118.26 539.243 Q114.649 539.243 112.82 542.808 Q111.015 546.35 111.015 553.479 Q111.015 560.586 112.82 564.15 Q114.649 567.692 118.26 567.692 Q121.895 567.692 123.7 564.15 Q125.529 560.586 125.529 553.479 Q125.529 546.35 123.7 542.808 Q121.895 539.243 118.26 539.243 M118.26 535.539 Q124.07 535.539 127.126 540.146 Q130.205 544.729 130.205 553.479 Q130.205 562.206 127.126 566.812 Q124.07 571.396 118.26 571.396 Q112.45 571.396 109.371 566.812 Q106.316 562.206 106.316 553.479 Q106.316 544.729 109.371 540.146 Q112.45 535.539 118.26 535.539 Z\" fill=\"#000000\" fill-rule=\"evenodd\" fill-opacity=\"1\" /><path clip-path=\"url(#clip190)\" d=\"M 0 0 M145.274 539.243 Q141.663 539.243 139.834 542.808 Q138.029 546.35 138.029 553.479 Q138.029 560.586 139.834 564.15 Q141.663 567.692 145.274 567.692 Q148.908 567.692 150.714 564.15 Q152.543 560.586 152.543 553.479 Q152.543 546.35 150.714 542.808 Q148.908 539.243 145.274 539.243 M145.274 535.539 Q151.084 535.539 154.14 540.146 Q157.218 544.729 157.218 553.479 Q157.218 562.206 154.14 566.812 Q151.084 571.396 145.274 571.396 Q139.464 571.396 136.385 566.812 Q133.33 562.206 133.33 553.479 Q133.33 544.729 136.385 540.146 Q139.464 535.539 145.274 535.539 Z\" fill=\"#000000\" fill-rule=\"evenodd\" fill-opacity=\"1\" /><path clip-path=\"url(#clip190)\" d=\"M 0 0 M66.5939 242.815 L54.7884 261.264 L66.5939 261.264 L66.5939 242.815 M65.367 238.741 L71.2466 238.741 L71.2466 261.264 L76.1772 261.264 L76.1772 265.153 L71.2466 265.153 L71.2466 273.301 L66.5939 273.301 L66.5939 265.153 L50.9921 265.153 L50.9921 260.639 L65.367 238.741 Z\" fill=\"#000000\" fill-rule=\"evenodd\" fill-opacity=\"1\" /><path clip-path=\"url(#clip190)\" d=\"M 0 0 M91.2465 241.819 Q87.6354 241.819 85.8068 245.384 Q84.0012 248.926 84.0012 256.055 Q84.0012 263.162 85.8068 266.727 Q87.6354 270.268 91.2465 270.268 Q94.8808 270.268 96.6863 266.727 Q98.515 263.162 98.515 256.055 Q98.515 248.926 96.6863 245.384 Q94.8808 241.819 91.2465 241.819 M91.2465 238.116 Q97.0567 238.116 100.112 242.722 Q103.191 247.305 103.191 256.055 Q103.191 264.782 100.112 269.389 Q97.0567 273.972 91.2465 273.972 Q85.4364 273.972 82.3577 269.389 Q79.3022 264.782 79.3022 256.055 Q79.3022 247.305 82.3577 242.722 Q85.4364 238.116 91.2465 238.116 Z\" fill=\"#000000\" fill-rule=\"evenodd\" fill-opacity=\"1\" /><path clip-path=\"url(#clip190)\" d=\"M 0 0 M118.26 241.819 Q114.649 241.819 112.82 245.384 Q111.015 248.926 111.015 256.055 Q111.015 263.162 112.82 266.727 Q114.649 270.268 118.26 270.268 Q121.895 270.268 123.7 266.727 Q125.529 263.162 125.529 256.055 Q125.529 248.926 123.7 245.384 Q121.895 241.819 118.26 241.819 M118.26 238.116 Q124.07 238.116 127.126 242.722 Q130.205 247.305 130.205 256.055 Q130.205 264.782 127.126 269.389 Q124.07 273.972 118.26 273.972 Q112.45 273.972 109.371 269.389 Q106.316 264.782 106.316 256.055 Q106.316 247.305 109.371 242.722 Q112.45 238.116 118.26 238.116 Z\" fill=\"#000000\" fill-rule=\"evenodd\" fill-opacity=\"1\" /><path clip-path=\"url(#clip190)\" d=\"M 0 0 M145.274 241.819 Q141.663 241.819 139.834 245.384 Q138.029 248.926 138.029 256.055 Q138.029 263.162 139.834 266.727 Q141.663 270.268 145.274 270.268 Q148.908 270.268 150.714 266.727 Q152.543 263.162 152.543 256.055 Q152.543 248.926 150.714 245.384 Q148.908 241.819 145.274 241.819 M145.274 238.116 Q151.084 238.116 154.14 242.722 Q157.218 247.305 157.218 256.055 Q157.218 264.782 154.14 269.389 Q151.084 273.972 145.274 273.972 Q139.464 273.972 136.385 269.389 Q133.33 264.782 133.33 256.055 Q133.33 247.305 136.385 242.722 Q139.464 238.116 145.274 238.116 Z\" fill=\"#000000\" fill-rule=\"evenodd\" fill-opacity=\"1\" /><path clip-path=\"url(#clip192)\" d=\"\n",
       "M311.997 493.662 L311.997 1445.72 L403.52 1445.72 L403.52 493.662 L311.997 493.662 L311.997 493.662  Z\n",
       "  \" fill=\"#009af9\" fill-rule=\"evenodd\" fill-opacity=\"1\"/>\n",
       "<polyline clip-path=\"url(#clip192)\" style=\"stroke:#000000; stroke-width:4; stroke-opacity:1; fill:none\" points=\"\n",
       "  311.997,493.662 311.997,1445.72 403.52,1445.72 403.52,493.662 311.997,493.662 \n",
       "  \"/>\n",
       "<path clip-path=\"url(#clip192)\" d=\"\n",
       "M403.52 1445.72 L403.52 1445.72 L495.043 1445.72 L495.043 1445.72 L403.52 1445.72 L403.52 1445.72  Z\n",
       "  \" fill=\"#009af9\" fill-rule=\"evenodd\" fill-opacity=\"1\"/>\n",
       "<polyline clip-path=\"url(#clip192)\" style=\"stroke:#000000; stroke-width:4; stroke-opacity:1; fill:none\" points=\"\n",
       "  403.52,1445.72 403.52,1445.72 495.043,1445.72 403.52,1445.72 \n",
       "  \"/>\n",
       "<path clip-path=\"url(#clip192)\" d=\"\n",
       "M495.043 1445.72 L495.043 1445.72 L586.565 1445.72 L586.565 1445.72 L495.043 1445.72 L495.043 1445.72  Z\n",
       "  \" fill=\"#009af9\" fill-rule=\"evenodd\" fill-opacity=\"1\"/>\n",
       "<polyline clip-path=\"url(#clip192)\" style=\"stroke:#000000; stroke-width:4; stroke-opacity:1; fill:none\" points=\"\n",
       "  495.043,1445.72 495.043,1445.72 586.565,1445.72 495.043,1445.72 \n",
       "  \"/>\n",
       "<path clip-path=\"url(#clip192)\" d=\"\n",
       "M586.565 1445.72 L586.565 1445.72 L678.088 1445.72 L678.088 1445.72 L586.565 1445.72 L586.565 1445.72  Z\n",
       "  \" fill=\"#009af9\" fill-rule=\"evenodd\" fill-opacity=\"1\"/>\n",
       "<polyline clip-path=\"url(#clip192)\" style=\"stroke:#000000; stroke-width:4; stroke-opacity:1; fill:none\" points=\"\n",
       "  586.565,1445.72 586.565,1445.72 678.088,1445.72 586.565,1445.72 \n",
       "  \"/>\n",
       "<path clip-path=\"url(#clip192)\" d=\"\n",
       "M678.088 1445.72 L678.088 1445.72 L769.611 1445.72 L769.611 1445.72 L678.088 1445.72 L678.088 1445.72  Z\n",
       "  \" fill=\"#009af9\" fill-rule=\"evenodd\" fill-opacity=\"1\"/>\n",
       "<polyline clip-path=\"url(#clip192)\" style=\"stroke:#000000; stroke-width:4; stroke-opacity:1; fill:none\" points=\"\n",
       "  678.088,1445.72 678.088,1445.72 769.611,1445.72 678.088,1445.72 \n",
       "  \"/>\n",
       "<path clip-path=\"url(#clip192)\" d=\"\n",
       "M769.611 1445.72 L769.611 1445.72 L861.134 1445.72 L861.134 1445.72 L769.611 1445.72 L769.611 1445.72  Z\n",
       "  \" fill=\"#009af9\" fill-rule=\"evenodd\" fill-opacity=\"1\"/>\n",
       "<polyline clip-path=\"url(#clip192)\" style=\"stroke:#000000; stroke-width:4; stroke-opacity:1; fill:none\" points=\"\n",
       "  769.611,1445.72 769.611,1445.72 861.134,1445.72 769.611,1445.72 \n",
       "  \"/>\n",
       "<path clip-path=\"url(#clip192)\" d=\"\n",
       "M861.134 1445.72 L861.134 1445.72 L952.657 1445.72 L952.657 1445.72 L861.134 1445.72 L861.134 1445.72  Z\n",
       "  \" fill=\"#009af9\" fill-rule=\"evenodd\" fill-opacity=\"1\"/>\n",
       "<polyline clip-path=\"url(#clip192)\" style=\"stroke:#000000; stroke-width:4; stroke-opacity:1; fill:none\" points=\"\n",
       "  861.134,1445.72 861.134,1445.72 952.657,1445.72 861.134,1445.72 \n",
       "  \"/>\n",
       "<path clip-path=\"url(#clip192)\" d=\"\n",
       "M952.657 1445.72 L952.657 1445.72 L1044.18 1445.72 L1044.18 1445.72 L952.657 1445.72 L952.657 1445.72  Z\n",
       "  \" fill=\"#009af9\" fill-rule=\"evenodd\" fill-opacity=\"1\"/>\n",
       "<polyline clip-path=\"url(#clip192)\" style=\"stroke:#000000; stroke-width:4; stroke-opacity:1; fill:none\" points=\"\n",
       "  952.657,1445.72 952.657,1445.72 1044.18,1445.72 952.657,1445.72 \n",
       "  \"/>\n",
       "<path clip-path=\"url(#clip192)\" d=\"\n",
       "M1044.18 1445.72 L1044.18 1445.72 L1135.7 1445.72 L1135.7 1445.72 L1044.18 1445.72 L1044.18 1445.72  Z\n",
       "  \" fill=\"#009af9\" fill-rule=\"evenodd\" fill-opacity=\"1\"/>\n",
       "<polyline clip-path=\"url(#clip192)\" style=\"stroke:#000000; stroke-width:4; stroke-opacity:1; fill:none\" points=\"\n",
       "  1044.18,1445.72 1044.18,1445.72 1135.7,1445.72 1044.18,1445.72 \n",
       "  \"/>\n",
       "<path clip-path=\"url(#clip192)\" d=\"\n",
       "M1135.7 1445.72 L1135.7 1445.72 L1227.23 1445.72 L1227.23 1445.72 L1135.7 1445.72 L1135.7 1445.72  Z\n",
       "  \" fill=\"#009af9\" fill-rule=\"evenodd\" fill-opacity=\"1\"/>\n",
       "<polyline clip-path=\"url(#clip192)\" style=\"stroke:#000000; stroke-width:4; stroke-opacity:1; fill:none\" points=\"\n",
       "  1135.7,1445.72 1135.7,1445.72 1227.23,1445.72 1135.7,1445.72 \n",
       "  \"/>\n",
       "<path clip-path=\"url(#clip192)\" d=\"\n",
       "M1227.23 87.9763 L1227.23 1445.72 L1318.75 1445.72 L1318.75 87.9763 L1227.23 87.9763 L1227.23 87.9763  Z\n",
       "  \" fill=\"#009af9\" fill-rule=\"evenodd\" fill-opacity=\"1\"/>\n",
       "<polyline clip-path=\"url(#clip192)\" style=\"stroke:#000000; stroke-width:4; stroke-opacity:1; fill:none\" points=\"\n",
       "  1227.23,87.9763 1227.23,1445.72 1318.75,1445.72 1318.75,87.9763 1227.23,87.9763 \n",
       "  \"/>\n",
       "<path clip-path=\"url(#clip192)\" d=\"\n",
       "M1318.75 1445.72 L1318.75 1445.72 L1410.27 1445.72 L1410.27 1445.72 L1318.75 1445.72 L1318.75 1445.72  Z\n",
       "  \" fill=\"#009af9\" fill-rule=\"evenodd\" fill-opacity=\"1\"/>\n",
       "<polyline clip-path=\"url(#clip192)\" style=\"stroke:#000000; stroke-width:4; stroke-opacity:1; fill:none\" points=\"\n",
       "  1318.75,1445.72 1318.75,1445.72 1410.27,1445.72 1318.75,1445.72 \n",
       "  \"/>\n",
       "<path clip-path=\"url(#clip192)\" d=\"\n",
       "M1410.27 1445.72 L1410.27 1445.72 L1501.79 1445.72 L1501.79 1445.72 L1410.27 1445.72 L1410.27 1445.72  Z\n",
       "  \" fill=\"#009af9\" fill-rule=\"evenodd\" fill-opacity=\"1\"/>\n",
       "<polyline clip-path=\"url(#clip192)\" style=\"stroke:#000000; stroke-width:4; stroke-opacity:1; fill:none\" points=\"\n",
       "  1410.27,1445.72 1410.27,1445.72 1501.79,1445.72 1410.27,1445.72 \n",
       "  \"/>\n",
       "<path clip-path=\"url(#clip192)\" d=\"\n",
       "M1501.79 1445.72 L1501.79 1445.72 L1593.32 1445.72 L1593.32 1445.72 L1501.79 1445.72 L1501.79 1445.72  Z\n",
       "  \" fill=\"#009af9\" fill-rule=\"evenodd\" fill-opacity=\"1\"/>\n",
       "<polyline clip-path=\"url(#clip192)\" style=\"stroke:#000000; stroke-width:4; stroke-opacity:1; fill:none\" points=\"\n",
       "  1501.79,1445.72 1501.79,1445.72 1593.32,1445.72 1501.79,1445.72 \n",
       "  \"/>\n",
       "<path clip-path=\"url(#clip192)\" d=\"\n",
       "M1593.32 1445.72 L1593.32 1445.72 L1684.84 1445.72 L1684.84 1445.72 L1593.32 1445.72 L1593.32 1445.72  Z\n",
       "  \" fill=\"#009af9\" fill-rule=\"evenodd\" fill-opacity=\"1\"/>\n",
       "<polyline clip-path=\"url(#clip192)\" style=\"stroke:#000000; stroke-width:4; stroke-opacity:1; fill:none\" points=\"\n",
       "  1593.32,1445.72 1593.32,1445.72 1684.84,1445.72 1593.32,1445.72 \n",
       "  \"/>\n",
       "<path clip-path=\"url(#clip192)\" d=\"\n",
       "M1684.84 1445.72 L1684.84 1445.72 L1776.36 1445.72 L1776.36 1445.72 L1684.84 1445.72 L1684.84 1445.72  Z\n",
       "  \" fill=\"#009af9\" fill-rule=\"evenodd\" fill-opacity=\"1\"/>\n",
       "<polyline clip-path=\"url(#clip192)\" style=\"stroke:#000000; stroke-width:4; stroke-opacity:1; fill:none\" points=\"\n",
       "  1684.84,1445.72 1684.84,1445.72 1776.36,1445.72 1684.84,1445.72 \n",
       "  \"/>\n",
       "<path clip-path=\"url(#clip192)\" d=\"\n",
       "M1776.36 1445.72 L1776.36 1445.72 L1867.89 1445.72 L1867.89 1445.72 L1776.36 1445.72 L1776.36 1445.72  Z\n",
       "  \" fill=\"#009af9\" fill-rule=\"evenodd\" fill-opacity=\"1\"/>\n",
       "<polyline clip-path=\"url(#clip192)\" style=\"stroke:#000000; stroke-width:4; stroke-opacity:1; fill:none\" points=\"\n",
       "  1776.36,1445.72 1776.36,1445.72 1867.89,1445.72 1776.36,1445.72 \n",
       "  \"/>\n",
       "<path clip-path=\"url(#clip192)\" d=\"\n",
       "M1867.89 1445.72 L1867.89 1445.72 L1959.41 1445.72 L1959.41 1445.72 L1867.89 1445.72 L1867.89 1445.72  Z\n",
       "  \" fill=\"#009af9\" fill-rule=\"evenodd\" fill-opacity=\"1\"/>\n",
       "<polyline clip-path=\"url(#clip192)\" style=\"stroke:#000000; stroke-width:4; stroke-opacity:1; fill:none\" points=\"\n",
       "  1867.89,1445.72 1867.89,1445.72 1959.41,1445.72 1867.89,1445.72 \n",
       "  \"/>\n",
       "<path clip-path=\"url(#clip192)\" d=\"\n",
       "M1959.41 1445.72 L1959.41 1445.72 L2050.93 1445.72 L2050.93 1445.72 L1959.41 1445.72 L1959.41 1445.72  Z\n",
       "  \" fill=\"#009af9\" fill-rule=\"evenodd\" fill-opacity=\"1\"/>\n",
       "<polyline clip-path=\"url(#clip192)\" style=\"stroke:#000000; stroke-width:4; stroke-opacity:1; fill:none\" points=\"\n",
       "  1959.41,1445.72 1959.41,1445.72 2050.93,1445.72 1959.41,1445.72 \n",
       "  \"/>\n",
       "<path clip-path=\"url(#clip192)\" d=\"\n",
       "M2050.93 1445.72 L2050.93 1445.72 L2142.45 1445.72 L2142.45 1445.72 L2050.93 1445.72 L2050.93 1445.72  Z\n",
       "  \" fill=\"#009af9\" fill-rule=\"evenodd\" fill-opacity=\"1\"/>\n",
       "<polyline clip-path=\"url(#clip192)\" style=\"stroke:#000000; stroke-width:4; stroke-opacity:1; fill:none\" points=\"\n",
       "  2050.93,1445.72 2050.93,1445.72 2142.45,1445.72 2050.93,1445.72 \n",
       "  \"/>\n",
       "<path clip-path=\"url(#clip192)\" d=\"\n",
       "M2142.45 781.271 L2142.45 1445.72 L2233.98 1445.72 L2233.98 781.271 L2142.45 781.271 L2142.45 781.271  Z\n",
       "  \" fill=\"#009af9\" fill-rule=\"evenodd\" fill-opacity=\"1\"/>\n",
       "<polyline clip-path=\"url(#clip192)\" style=\"stroke:#000000; stroke-width:4; stroke-opacity:1; fill:none\" points=\"\n",
       "  2142.45,781.271 2142.45,1445.72 2233.98,1445.72 2233.98,781.271 2142.45,781.271 \n",
       "  \"/>\n",
       "<path clip-path=\"url(#clip190)\" d=\"\n",
       "M1989.8 216.178 L2280.77 216.178 L2280.77 95.2176 L1989.8 95.2176  Z\n",
       "  \" fill=\"#ffffff\" fill-rule=\"evenodd\" fill-opacity=\"1\"/>\n",
       "<polyline clip-path=\"url(#clip190)\" style=\"stroke:#000000; stroke-width:4; stroke-opacity:1; fill:none\" points=\"\n",
       "  1989.8,216.178 2280.77,216.178 2280.77,95.2176 1989.8,95.2176 1989.8,216.178 \n",
       "  \"/>\n",
       "<path clip-path=\"url(#clip190)\" d=\"\n",
       "M2013.8 179.89 L2157.77 179.89 L2157.77 131.506 L2013.8 131.506 L2013.8 179.89  Z\n",
       "  \" fill=\"#009af9\" fill-rule=\"evenodd\" fill-opacity=\"1\"/>\n",
       "<polyline clip-path=\"url(#clip190)\" style=\"stroke:#000000; stroke-width:4; stroke-opacity:1; fill:none\" points=\"\n",
       "  2013.8,179.89 2157.77,179.89 2157.77,131.506 2013.8,131.506 2013.8,179.89 \n",
       "  \"/>\n",
       "<path clip-path=\"url(#clip190)\" d=\"M 0 0 M2195.61 175.385 Q2193.8 180.015 2192.09 181.427 Q2190.37 182.839 2187.5 182.839 L2184.1 182.839 L2184.1 179.274 L2186.6 179.274 Q2188.36 179.274 2189.33 178.44 Q2190.3 177.607 2191.49 174.505 L2192.25 172.561 L2181.76 147.052 L2186.28 147.052 L2194.38 167.329 L2202.48 147.052 L2206.99 147.052 L2195.61 175.385 Z\" fill=\"#000000\" fill-rule=\"evenodd\" fill-opacity=\"1\" /><path clip-path=\"url(#clip190)\" d=\"M 0 0 M2212.87 169.042 L2220.51 169.042 L2220.51 142.677 L2212.2 144.343 L2212.2 140.084 L2220.47 138.418 L2225.14 138.418 L2225.14 169.042 L2232.78 169.042 L2232.78 172.978 L2212.87 172.978 L2212.87 169.042 Z\" fill=\"#000000\" fill-rule=\"evenodd\" fill-opacity=\"1\" /></svg>\n"
      ]
     },
     "execution_count": 116,
     "metadata": {},
     "output_type": "execute_result"
    }
   ],
   "source": [
    "test_randomizer([0.35, 0.5, 0.25])"
   ]
  },
  {
   "cell_type": "markdown",
   "metadata": {},
   "source": [
    "## Markov chains\n",
    "If $S$ is Markovian,\n",
    "$$\n",
    "\\Pr(S_t=n | t-1) =\n",
    "\\Pr(S_t=n | S_{t-1}=s) = P_{sn}\n",
    "$$\n",
    "$N^2$ (conditional) probabilities,\n",
    "$$\n",
    "0 \\le P_{sn}\\le 1\n",
    "$$\n",
    "$$\n",
    "\\sum_{n=1}^N P_{sn} = 1\n",
    "\\text{ for all }s\n",
    "$$\n",
    "**Transition matrix**:\n",
    "$$\n",
    "\\mathbf P = \n",
    "\\begin{bmatrix}\n",
    "P_{11} & P_{12} & ...\\\\\n",
    "P_{21} & P_{22} & ...\\\\\n",
    "...\n",
    "\\end{bmatrix}\n",
    "$$\n",
    "$$\n",
    "0 .\\le \\mathbf P .\\le 1 \\tag{*}\n",
    "$$\n",
    "$$\n",
    "\\mathbf P \\mathbf 1 = \\mathbf 1\n",
    "\\tag{**}\n",
    "$$\n",
    "(\\*) and (\\*\\*) mean *stochastic matrix*.\n",
    "$$\n",
    "(\\mathbf P - 1\\mathbf I)\\mathbf 1 = \\mathbf 0\n",
    "$$\n",
    "$$\n",
    "1 \\in \\text{eig}(\\mathbf P)\n",
    "$$\n",
    "### Forecasting\n",
    "Suppose we start in $s$\n",
    "$$\n",
    "\\Pr(S_t=n | S_{t-1} = s) = P_{sn}\n",
    "$$\n",
    "$$\n",
    "\\pi_{t}(s) = \n",
    "\\begin{pmatrix}\n",
    "0 ... 1 ... 0\n",
    "\\end{pmatrix}\n",
    "\\mathbf P = \n",
    "\\mathbf e_s\n",
    "\\mathbf P\n",
    "$$\n",
    "\n",
    "$$\n",
    "\\Pr(S_{t+1}=n|S_{t-1}=s) = \n",
    "$$\n",
    "$$\n",
    "\\sum_{m=1}^N\n",
    "\\Pr(S_{t+1}=n| S_t = m)\n",
    "\\Pr(S_t =m | S_{t-1} = s)\n",
    "$$\n",
    "$$\n",
    "\\sum_{m=1}^N\n",
    "P_{mn}P_{sm} = \n",
    "[\\mathbf P\n",
    "\\mathbf P]_{sn}\n"
   ]
  },
  {
   "cell_type": "code",
   "execution_count": 129,
   "metadata": {},
   "outputs": [
    {
     "data": {
      "text/plain": [
       "2×2 Array{Float64,2}:\n",
       " 0.9  0.1\n",
       " 0.4  0.6"
      ]
     },
     "execution_count": 129,
     "metadata": {},
     "output_type": "execute_result"
    }
   ],
   "source": [
    "P = [0.9 0.1; 0.4 0.6]"
   ]
  },
  {
   "cell_type": "code",
   "execution_count": 118,
   "metadata": {},
   "outputs": [
    {
     "data": {
      "text/plain": [
       "2×1 Array{Float64,2}:\n",
       " 1.0\n",
       " 1.0"
      ]
     },
     "execution_count": 118,
     "metadata": {},
     "output_type": "execute_result"
    }
   ],
   "source": [
    "sum(P, dims=2)"
   ]
  },
  {
   "cell_type": "code",
   "execution_count": 121,
   "metadata": {},
   "outputs": [
    {
     "data": {
      "text/plain": [
       "simulate_markov_chain! (generic function with 1 method)"
      ]
     },
     "execution_count": 121,
     "metadata": {},
     "output_type": "execute_result"
    }
   ],
   "source": [
    "function simulate_markov_chain!(S::Vector{Int64}, P::Array{Float64, 2})\n",
    "    T = length(S)\n",
    "    for t = 2:T\n",
    "        S[t] = draw_random_state(P[S[t-1], :])\n",
    "    end\n",
    "end"
   ]
  },
  {
   "cell_type": "code",
   "execution_count": 120,
   "metadata": {},
   "outputs": [
    {
     "data": {
      "text/plain": [
       "2-element Array{Float64,1}:\n",
       " 0.9\n",
       " 0.1"
      ]
     },
     "execution_count": 120,
     "metadata": {},
     "output_type": "execute_result"
    }
   ],
   "source": [
    "P[1,:]"
   ]
  },
  {
   "cell_type": "code",
   "execution_count": 132,
   "metadata": {},
   "outputs": [
    {
     "data": {
      "text/plain": [
       "2×2 Array{Float64,2}:\n",
       " 0.9  0.1\n",
       " 0.4  0.6"
      ]
     },
     "execution_count": 132,
     "metadata": {},
     "output_type": "execute_result"
    }
   ],
   "source": [
    "P"
   ]
  },
  {
   "cell_type": "code",
   "execution_count": 136,
   "metadata": {},
   "outputs": [
    {
     "data": {
      "image/svg+xml": [
       "<?xml version=\"1.0\" encoding=\"utf-8\"?>\n",
       "<svg xmlns=\"http://www.w3.org/2000/svg\" xmlns:xlink=\"http://www.w3.org/1999/xlink\" width=\"600\" height=\"400\" viewBox=\"0 0 2400 1600\">\n",
       "<defs>\n",
       "  <clipPath id=\"clip510\">\n",
       "    <rect x=\"0\" y=\"0\" width=\"2400\" height=\"1600\"/>\n",
       "  </clipPath>\n",
       "</defs>\n",
       "<path clip-path=\"url(#clip510)\" d=\"\n",
       "M0 1600 L2400 1600 L2400 0 L0 0  Z\n",
       "  \" fill=\"#ffffff\" fill-rule=\"evenodd\" fill-opacity=\"1\"/>\n",
       "<defs>\n",
       "  <clipPath id=\"clip511\">\n",
       "    <rect x=\"480\" y=\"0\" width=\"1681\" height=\"1600\"/>\n",
       "  </clipPath>\n",
       "</defs>\n",
       "<path clip-path=\"url(#clip510)\" d=\"\n",
       "M172.918 1486.45 L2352.76 1486.45 L2352.76 47.2441 L172.918 47.2441  Z\n",
       "  \" fill=\"#ffffff\" fill-rule=\"evenodd\" fill-opacity=\"1\"/>\n",
       "<defs>\n",
       "  <clipPath id=\"clip512\">\n",
       "    <rect x=\"172\" y=\"47\" width=\"2181\" height=\"1440\"/>\n",
       "  </clipPath>\n",
       "</defs>\n",
       "<polyline clip-path=\"url(#clip512)\" style=\"stroke:#000000; stroke-width:2; stroke-opacity:0.1; fill:none\" points=\"\n",
       "  213.839,1486.45 213.839,47.2441 \n",
       "  \"/>\n",
       "<polyline clip-path=\"url(#clip512)\" style=\"stroke:#000000; stroke-width:2; stroke-opacity:0.1; fill:none\" points=\"\n",
       "  733.145,1486.45 733.145,47.2441 \n",
       "  \"/>\n",
       "<polyline clip-path=\"url(#clip512)\" style=\"stroke:#000000; stroke-width:2; stroke-opacity:0.1; fill:none\" points=\"\n",
       "  1252.45,1486.45 1252.45,47.2441 \n",
       "  \"/>\n",
       "<polyline clip-path=\"url(#clip512)\" style=\"stroke:#000000; stroke-width:2; stroke-opacity:0.1; fill:none\" points=\"\n",
       "  1771.76,1486.45 1771.76,47.2441 \n",
       "  \"/>\n",
       "<polyline clip-path=\"url(#clip512)\" style=\"stroke:#000000; stroke-width:2; stroke-opacity:0.1; fill:none\" points=\"\n",
       "  2291.06,1486.45 2291.06,47.2441 \n",
       "  \"/>\n",
       "<polyline clip-path=\"url(#clip510)\" style=\"stroke:#000000; stroke-width:4; stroke-opacity:1; fill:none\" points=\"\n",
       "  172.918,1486.45 2352.76,1486.45 \n",
       "  \"/>\n",
       "<polyline clip-path=\"url(#clip510)\" style=\"stroke:#000000; stroke-width:4; stroke-opacity:1; fill:none\" points=\"\n",
       "  213.839,1486.45 213.839,1469.18 \n",
       "  \"/>\n",
       "<polyline clip-path=\"url(#clip510)\" style=\"stroke:#000000; stroke-width:4; stroke-opacity:1; fill:none\" points=\"\n",
       "  733.145,1486.45 733.145,1469.18 \n",
       "  \"/>\n",
       "<polyline clip-path=\"url(#clip510)\" style=\"stroke:#000000; stroke-width:4; stroke-opacity:1; fill:none\" points=\"\n",
       "  1252.45,1486.45 1252.45,1469.18 \n",
       "  \"/>\n",
       "<polyline clip-path=\"url(#clip510)\" style=\"stroke:#000000; stroke-width:4; stroke-opacity:1; fill:none\" points=\"\n",
       "  1771.76,1486.45 1771.76,1469.18 \n",
       "  \"/>\n",
       "<polyline clip-path=\"url(#clip510)\" style=\"stroke:#000000; stroke-width:4; stroke-opacity:1; fill:none\" points=\"\n",
       "  2291.06,1486.45 2291.06,1469.18 \n",
       "  \"/>\n",
       "<path clip-path=\"url(#clip510)\" d=\"M 0 0 M213.839 1515.64 Q210.228 1515.64 208.399 1519.2 Q206.594 1522.75 206.594 1529.87 Q206.594 1536.98 208.399 1540.55 Q210.228 1544.09 213.839 1544.09 Q217.473 1544.09 219.279 1540.55 Q221.107 1536.98 221.107 1529.87 Q221.107 1522.75 219.279 1519.2 Q217.473 1515.64 213.839 1515.64 M213.839 1511.93 Q219.649 1511.93 222.705 1516.54 Q225.783 1521.12 225.783 1529.87 Q225.783 1538.6 222.705 1543.21 Q219.649 1547.79 213.839 1547.79 Q208.029 1547.79 204.95 1543.21 Q201.895 1538.6 201.895 1529.87 Q201.895 1521.12 204.95 1516.54 Q208.029 1511.93 213.839 1511.93 Z\" fill=\"#000000\" fill-rule=\"evenodd\" fill-opacity=\"1\" /><path clip-path=\"url(#clip510)\" d=\"M 0 0 M714.788 1543.18 L731.108 1543.18 L731.108 1547.12 L709.163 1547.12 L709.163 1543.18 Q711.825 1540.43 716.409 1535.8 Q721.015 1531.15 722.196 1529.81 Q724.441 1527.28 725.321 1525.55 Q726.224 1523.79 726.224 1522.1 Q726.224 1519.34 724.279 1517.61 Q722.358 1515.87 719.256 1515.87 Q717.057 1515.87 714.603 1516.63 Q712.173 1517.4 709.395 1518.95 L709.395 1514.23 Q712.219 1513.09 714.673 1512.51 Q717.126 1511.93 719.163 1511.93 Q724.534 1511.93 727.728 1514.62 Q730.923 1517.31 730.923 1521.8 Q730.923 1523.93 730.112 1525.85 Q729.325 1527.74 727.219 1530.34 Q726.64 1531.01 723.538 1534.23 Q720.436 1537.42 714.788 1543.18 Z\" fill=\"#000000\" fill-rule=\"evenodd\" fill-opacity=\"1\" /><path clip-path=\"url(#clip510)\" d=\"M 0 0 M736.223 1512.56 L754.58 1512.56 L754.58 1516.5 L740.506 1516.5 L740.506 1524.97 Q741.524 1524.62 742.543 1524.46 Q743.561 1524.27 744.58 1524.27 Q750.367 1524.27 753.747 1527.44 Q757.126 1530.62 757.126 1536.03 Q757.126 1541.61 753.654 1544.71 Q750.182 1547.79 743.862 1547.79 Q741.686 1547.79 739.418 1547.42 Q737.173 1547.05 734.765 1546.31 L734.765 1541.61 Q736.848 1542.74 739.071 1543.3 Q741.293 1543.86 743.77 1543.86 Q747.774 1543.86 750.112 1541.75 Q752.45 1539.64 752.45 1536.03 Q752.45 1532.42 750.112 1530.31 Q747.774 1528.21 743.77 1528.21 Q741.895 1528.21 740.02 1528.62 Q738.168 1529.04 736.223 1529.92 L736.223 1512.56 Z\" fill=\"#000000\" fill-rule=\"evenodd\" fill-opacity=\"1\" /><path clip-path=\"url(#clip510)\" d=\"M 0 0 M1229.22 1512.56 L1247.58 1512.56 L1247.58 1516.5 L1233.5 1516.5 L1233.5 1524.97 Q1234.52 1524.62 1235.54 1524.46 Q1236.56 1524.27 1237.58 1524.27 Q1243.37 1524.27 1246.74 1527.44 Q1250.12 1530.62 1250.12 1536.03 Q1250.12 1541.61 1246.65 1544.71 Q1243.18 1547.79 1236.86 1547.79 Q1234.68 1547.79 1232.42 1547.42 Q1230.17 1547.05 1227.76 1546.31 L1227.76 1541.61 Q1229.85 1542.74 1232.07 1543.3 Q1234.29 1543.86 1236.77 1543.86 Q1240.77 1543.86 1243.11 1541.75 Q1245.45 1539.64 1245.45 1536.03 Q1245.45 1532.42 1243.11 1530.31 Q1240.77 1528.21 1236.77 1528.21 Q1234.89 1528.21 1233.02 1528.62 Q1231.17 1529.04 1229.22 1529.92 L1229.22 1512.56 Z\" fill=\"#000000\" fill-rule=\"evenodd\" fill-opacity=\"1\" /><path clip-path=\"url(#clip510)\" d=\"M 0 0 M1265.19 1515.64 Q1261.58 1515.64 1259.75 1519.2 Q1257.95 1522.75 1257.95 1529.87 Q1257.95 1536.98 1259.75 1540.55 Q1261.58 1544.09 1265.19 1544.09 Q1268.83 1544.09 1270.63 1540.55 Q1272.46 1536.98 1272.46 1529.87 Q1272.46 1522.75 1270.63 1519.2 Q1268.83 1515.64 1265.19 1515.64 M1265.19 1511.93 Q1271 1511.93 1274.06 1516.54 Q1277.14 1521.12 1277.14 1529.87 Q1277.14 1538.6 1274.06 1543.21 Q1271 1547.79 1265.19 1547.79 Q1259.38 1547.79 1256.3 1543.21 Q1253.25 1538.6 1253.25 1529.87 Q1253.25 1521.12 1256.3 1516.54 Q1259.38 1511.93 1265.19 1511.93 Z\" fill=\"#000000\" fill-rule=\"evenodd\" fill-opacity=\"1\" /><path clip-path=\"url(#clip510)\" d=\"M 0 0 M1747.64 1512.56 L1769.86 1512.56 L1769.86 1514.55 L1757.31 1547.12 L1752.43 1547.12 L1764.23 1516.5 L1747.64 1516.5 L1747.64 1512.56 Z\" fill=\"#000000\" fill-rule=\"evenodd\" fill-opacity=\"1\" /><path clip-path=\"url(#clip510)\" d=\"M 0 0 M1774.97 1512.56 L1793.33 1512.56 L1793.33 1516.5 L1779.26 1516.5 L1779.26 1524.97 Q1780.27 1524.62 1781.29 1524.46 Q1782.31 1524.27 1783.33 1524.27 Q1789.12 1524.27 1792.5 1527.44 Q1795.88 1530.62 1795.88 1536.03 Q1795.88 1541.61 1792.4 1544.71 Q1788.93 1547.79 1782.61 1547.79 Q1780.44 1547.79 1778.17 1547.42 Q1775.92 1547.05 1773.52 1546.31 L1773.52 1541.61 Q1775.6 1542.74 1777.82 1543.3 Q1780.04 1543.86 1782.52 1543.86 Q1786.52 1543.86 1788.86 1541.75 Q1791.2 1539.64 1791.2 1536.03 Q1791.2 1532.42 1788.86 1530.31 Q1786.52 1528.21 1782.52 1528.21 Q1780.65 1528.21 1778.77 1528.62 Q1776.92 1529.04 1774.97 1529.92 L1774.97 1512.56 Z\" fill=\"#000000\" fill-rule=\"evenodd\" fill-opacity=\"1\" /><path clip-path=\"url(#clip510)\" d=\"M 0 0 M2254.43 1543.18 L2262.07 1543.18 L2262.07 1516.82 L2253.76 1518.49 L2253.76 1514.23 L2262.02 1512.56 L2266.7 1512.56 L2266.7 1543.18 L2274.34 1543.18 L2274.34 1547.12 L2254.43 1547.12 L2254.43 1543.18 Z\" fill=\"#000000\" fill-rule=\"evenodd\" fill-opacity=\"1\" /><path clip-path=\"url(#clip510)\" d=\"M 0 0 M2289.41 1515.64 Q2285.8 1515.64 2283.97 1519.2 Q2282.16 1522.75 2282.16 1529.87 Q2282.16 1536.98 2283.97 1540.55 Q2285.8 1544.09 2289.41 1544.09 Q2293.04 1544.09 2294.85 1540.55 Q2296.68 1536.98 2296.68 1529.87 Q2296.68 1522.75 2294.85 1519.2 Q2293.04 1515.64 2289.41 1515.64 M2289.41 1511.93 Q2295.22 1511.93 2298.27 1516.54 Q2301.35 1521.12 2301.35 1529.87 Q2301.35 1538.6 2298.27 1543.21 Q2295.22 1547.79 2289.41 1547.79 Q2283.6 1547.79 2280.52 1543.21 Q2277.46 1538.6 2277.46 1529.87 Q2277.46 1521.12 2280.52 1516.54 Q2283.6 1511.93 2289.41 1511.93 Z\" fill=\"#000000\" fill-rule=\"evenodd\" fill-opacity=\"1\" /><path clip-path=\"url(#clip510)\" d=\"M 0 0 M2316.42 1515.64 Q2312.81 1515.64 2310.98 1519.2 Q2309.18 1522.75 2309.18 1529.87 Q2309.18 1536.98 2310.98 1540.55 Q2312.81 1544.09 2316.42 1544.09 Q2320.06 1544.09 2321.86 1540.55 Q2323.69 1536.98 2323.69 1529.87 Q2323.69 1522.75 2321.86 1519.2 Q2320.06 1515.64 2316.42 1515.64 M2316.42 1511.93 Q2322.23 1511.93 2325.29 1516.54 Q2328.37 1521.12 2328.37 1529.87 Q2328.37 1538.6 2325.29 1543.21 Q2322.23 1547.79 2316.42 1547.79 Q2310.61 1547.79 2307.53 1543.21 Q2304.48 1538.6 2304.48 1529.87 Q2304.48 1521.12 2307.53 1516.54 Q2310.61 1511.93 2316.42 1511.93 Z\" fill=\"#000000\" fill-rule=\"evenodd\" fill-opacity=\"1\" /><polyline clip-path=\"url(#clip512)\" style=\"stroke:#000000; stroke-width:2; stroke-opacity:0.1; fill:none\" points=\"\n",
       "  172.918,1445.72 2352.76,1445.72 \n",
       "  \"/>\n",
       "<polyline clip-path=\"url(#clip512)\" style=\"stroke:#000000; stroke-width:2; stroke-opacity:0.1; fill:none\" points=\"\n",
       "  172.918,1106.28 2352.76,1106.28 \n",
       "  \"/>\n",
       "<polyline clip-path=\"url(#clip512)\" style=\"stroke:#000000; stroke-width:2; stroke-opacity:0.1; fill:none\" points=\"\n",
       "  172.918,766.846 2352.76,766.846 \n",
       "  \"/>\n",
       "<polyline clip-path=\"url(#clip512)\" style=\"stroke:#000000; stroke-width:2; stroke-opacity:0.1; fill:none\" points=\"\n",
       "  172.918,427.411 2352.76,427.411 \n",
       "  \"/>\n",
       "<polyline clip-path=\"url(#clip512)\" style=\"stroke:#000000; stroke-width:2; stroke-opacity:0.1; fill:none\" points=\"\n",
       "  172.918,87.9763 2352.76,87.9763 \n",
       "  \"/>\n",
       "<polyline clip-path=\"url(#clip510)\" style=\"stroke:#000000; stroke-width:4; stroke-opacity:1; fill:none\" points=\"\n",
       "  172.918,1486.45 172.918,47.2441 \n",
       "  \"/>\n",
       "<polyline clip-path=\"url(#clip510)\" style=\"stroke:#000000; stroke-width:4; stroke-opacity:1; fill:none\" points=\"\n",
       "  172.918,1445.72 199.076,1445.72 \n",
       "  \"/>\n",
       "<polyline clip-path=\"url(#clip510)\" style=\"stroke:#000000; stroke-width:4; stroke-opacity:1; fill:none\" points=\"\n",
       "  172.918,1106.28 199.076,1106.28 \n",
       "  \"/>\n",
       "<polyline clip-path=\"url(#clip510)\" style=\"stroke:#000000; stroke-width:4; stroke-opacity:1; fill:none\" points=\"\n",
       "  172.918,766.846 199.076,766.846 \n",
       "  \"/>\n",
       "<polyline clip-path=\"url(#clip510)\" style=\"stroke:#000000; stroke-width:4; stroke-opacity:1; fill:none\" points=\"\n",
       "  172.918,427.411 199.076,427.411 \n",
       "  \"/>\n",
       "<polyline clip-path=\"url(#clip510)\" style=\"stroke:#000000; stroke-width:4; stroke-opacity:1; fill:none\" points=\"\n",
       "  172.918,87.9763 199.076,87.9763 \n",
       "  \"/>\n",
       "<path clip-path=\"url(#clip510)\" d=\"M 0 0 M53.0292 1459.06 L60.668 1459.06 L60.668 1432.69 L52.3579 1434.36 L52.3579 1430.1 L60.6217 1428.44 L65.2976 1428.44 L65.2976 1459.06 L72.9365 1459.06 L72.9365 1463 L53.0292 1463 L53.0292 1459.06 Z\" fill=\"#000000\" fill-rule=\"evenodd\" fill-opacity=\"1\" /><path clip-path=\"url(#clip510)\" d=\"M 0 0 M78.0059 1457.12 L82.8901 1457.12 L82.8901 1463 L78.0059 1463 L78.0059 1457.12 Z\" fill=\"#000000\" fill-rule=\"evenodd\" fill-opacity=\"1\" /><path clip-path=\"url(#clip510)\" d=\"M 0 0 M97.9595 1431.51 Q94.3484 1431.51 92.5197 1435.08 Q90.7141 1438.62 90.7141 1445.75 Q90.7141 1452.86 92.5197 1456.42 Q94.3484 1459.96 97.9595 1459.96 Q101.594 1459.96 103.399 1456.42 Q105.228 1452.86 105.228 1445.75 Q105.228 1438.62 103.399 1435.08 Q101.594 1431.51 97.9595 1431.51 M97.9595 1427.81 Q103.77 1427.81 106.825 1432.42 Q109.904 1437 109.904 1445.75 Q109.904 1454.48 106.825 1459.08 Q103.77 1463.67 97.9595 1463.67 Q92.1493 1463.67 89.0706 1459.08 Q86.0151 1454.48 86.0151 1445.75 Q86.0151 1437 89.0706 1432.42 Q92.1493 1427.81 97.9595 1427.81 Z\" fill=\"#000000\" fill-rule=\"evenodd\" fill-opacity=\"1\" /><path clip-path=\"url(#clip510)\" d=\"M 0 0 M124.973 1431.51 Q121.362 1431.51 119.533 1435.08 Q117.728 1438.62 117.728 1445.75 Q117.728 1452.86 119.533 1456.42 Q121.362 1459.96 124.973 1459.96 Q128.607 1459.96 130.413 1456.42 Q132.242 1452.86 132.242 1445.75 Q132.242 1438.62 130.413 1435.08 Q128.607 1431.51 124.973 1431.51 M124.973 1427.81 Q130.783 1427.81 133.839 1432.42 Q136.918 1437 136.918 1445.75 Q136.918 1454.48 133.839 1459.08 Q130.783 1463.67 124.973 1463.67 Q119.163 1463.67 116.084 1459.08 Q113.029 1454.48 113.029 1445.75 Q113.029 1437 116.084 1432.42 Q119.163 1427.81 124.973 1427.81 Z\" fill=\"#000000\" fill-rule=\"evenodd\" fill-opacity=\"1\" /><path clip-path=\"url(#clip510)\" d=\"M 0 0 M55.6217 1119.63 L63.2606 1119.63 L63.2606 1093.26 L54.9504 1094.93 L54.9504 1090.67 L63.2143 1089 L67.8902 1089 L67.8902 1119.63 L75.529 1119.63 L75.529 1123.56 L55.6217 1123.56 L55.6217 1119.63 Z\" fill=\"#000000\" fill-rule=\"evenodd\" fill-opacity=\"1\" /><path clip-path=\"url(#clip510)\" d=\"M 0 0 M80.5984 1117.68 L85.4827 1117.68 L85.4827 1123.56 L80.5984 1123.56 L80.5984 1117.68 Z\" fill=\"#000000\" fill-rule=\"evenodd\" fill-opacity=\"1\" /><path clip-path=\"url(#clip510)\" d=\"M 0 0 M94.5799 1119.63 L110.899 1119.63 L110.899 1123.56 L88.9549 1123.56 L88.9549 1119.63 Q91.6169 1116.87 96.2002 1112.24 Q100.807 1107.59 101.987 1106.25 Q104.233 1103.72 105.112 1101.99 Q106.015 1100.23 106.015 1098.54 Q106.015 1095.78 104.071 1094.05 Q102.149 1092.31 99.0474 1092.31 Q96.8484 1092.31 94.3947 1093.07 Q91.9641 1093.84 89.1864 1095.39 L89.1864 1090.67 Q92.0104 1089.53 94.4641 1088.95 Q96.9178 1088.38 98.9548 1088.38 Q104.325 1088.38 107.52 1091.06 Q110.714 1093.75 110.714 1098.24 Q110.714 1100.37 109.904 1102.29 Q109.117 1104.19 107.01 1106.78 Q106.432 1107.45 103.33 1110.67 Q100.228 1113.86 94.5799 1119.63 Z\" fill=\"#000000\" fill-rule=\"evenodd\" fill-opacity=\"1\" /><path clip-path=\"url(#clip510)\" d=\"M 0 0 M116.015 1089 L134.371 1089 L134.371 1092.94 L120.297 1092.94 L120.297 1101.41 Q121.316 1101.06 122.334 1100.9 Q123.353 1100.71 124.371 1100.71 Q130.158 1100.71 133.538 1103.89 Q136.918 1107.06 136.918 1112.47 Q136.918 1118.05 133.445 1121.15 Q129.973 1124.23 123.654 1124.23 Q121.478 1124.23 119.209 1123.86 Q116.964 1123.49 114.557 1122.75 L114.557 1118.05 Q116.64 1119.19 118.862 1119.74 Q121.084 1120.3 123.561 1120.3 Q127.566 1120.3 129.904 1118.19 Q132.242 1116.08 132.242 1112.47 Q132.242 1108.86 129.904 1106.76 Q127.566 1104.65 123.561 1104.65 Q121.686 1104.65 119.811 1105.07 Q117.959 1105.48 116.015 1106.36 L116.015 1089 Z\" fill=\"#000000\" fill-rule=\"evenodd\" fill-opacity=\"1\" /><path clip-path=\"url(#clip510)\" d=\"M 0 0 M54.0245 780.191 L61.6634 780.191 L61.6634 753.825 L53.3532 755.492 L53.3532 751.233 L61.6171 749.566 L66.293 749.566 L66.293 780.191 L73.9318 780.191 L73.9318 784.126 L54.0245 784.126 L54.0245 780.191 Z\" fill=\"#000000\" fill-rule=\"evenodd\" fill-opacity=\"1\" /><path clip-path=\"url(#clip510)\" d=\"M 0 0 M79.0012 778.246 L83.8855 778.246 L83.8855 784.126 L79.0012 784.126 L79.0012 778.246 Z\" fill=\"#000000\" fill-rule=\"evenodd\" fill-opacity=\"1\" /><path clip-path=\"url(#clip510)\" d=\"M 0 0 M89.0012 749.566 L107.358 749.566 L107.358 753.501 L93.2836 753.501 L93.2836 761.973 Q94.3021 761.626 95.3206 761.464 Q96.3391 761.279 97.3576 761.279 Q103.145 761.279 106.524 764.45 Q109.904 767.621 109.904 773.038 Q109.904 778.617 106.432 781.719 Q102.959 784.797 96.64 784.797 Q94.4641 784.797 92.1956 784.427 Q89.9503 784.057 87.5429 783.316 L87.5429 778.617 Q89.6262 779.751 91.8484 780.307 Q94.0706 780.862 96.5474 780.862 Q100.552 780.862 102.89 778.756 Q105.228 776.649 105.228 773.038 Q105.228 769.427 102.89 767.321 Q100.552 765.214 96.5474 765.214 Q94.6724 765.214 92.7975 765.631 Q90.9456 766.047 89.0012 766.927 L89.0012 749.566 Z\" fill=\"#000000\" fill-rule=\"evenodd\" fill-opacity=\"1\" /><path clip-path=\"url(#clip510)\" d=\"M 0 0 M124.973 752.645 Q121.362 752.645 119.533 756.209 Q117.728 759.751 117.728 766.881 Q117.728 773.987 119.533 777.552 Q121.362 781.094 124.973 781.094 Q128.607 781.094 130.413 777.552 Q132.242 773.987 132.242 766.881 Q132.242 759.751 130.413 756.209 Q128.607 752.645 124.973 752.645 M124.973 748.941 Q130.783 748.941 133.839 753.547 Q136.918 758.131 136.918 766.881 Q136.918 775.608 133.839 780.214 Q130.783 784.797 124.973 784.797 Q119.163 784.797 116.084 780.214 Q113.029 775.608 113.029 766.881 Q113.029 758.131 116.084 753.547 Q119.163 748.941 124.973 748.941 Z\" fill=\"#000000\" fill-rule=\"evenodd\" fill-opacity=\"1\" /><path clip-path=\"url(#clip510)\" d=\"M 0 0 M54.9273 440.756 L62.5661 440.756 L62.5661 414.39 L54.256 416.057 L54.256 411.798 L62.5198 410.131 L67.1957 410.131 L67.1957 440.756 L74.8346 440.756 L74.8346 444.691 L54.9273 444.691 L54.9273 440.756 Z\" fill=\"#000000\" fill-rule=\"evenodd\" fill-opacity=\"1\" /><path clip-path=\"url(#clip510)\" d=\"M 0 0 M79.904 438.812 L84.7882 438.812 L84.7882 444.691 L79.904 444.691 L79.904 438.812 Z\" fill=\"#000000\" fill-rule=\"evenodd\" fill-opacity=\"1\" /><path clip-path=\"url(#clip510)\" d=\"M 0 0 M88.6771 410.131 L110.899 410.131 L110.899 412.122 L98.353 444.691 L93.4688 444.691 L105.274 414.066 L88.6771 414.066 L88.6771 410.131 Z\" fill=\"#000000\" fill-rule=\"evenodd\" fill-opacity=\"1\" /><path clip-path=\"url(#clip510)\" d=\"M 0 0 M116.015 410.131 L134.371 410.131 L134.371 414.066 L120.297 414.066 L120.297 422.538 Q121.316 422.191 122.334 422.029 Q123.353 421.844 124.371 421.844 Q130.158 421.844 133.538 425.015 Q136.918 428.187 136.918 433.603 Q136.918 439.182 133.445 442.284 Q129.973 445.362 123.654 445.362 Q121.478 445.362 119.209 444.992 Q116.964 444.622 114.557 443.881 L114.557 439.182 Q116.64 440.316 118.862 440.872 Q121.084 441.427 123.561 441.427 Q127.566 441.427 129.904 439.321 Q132.242 437.214 132.242 433.603 Q132.242 429.992 129.904 427.886 Q127.566 425.779 123.561 425.779 Q121.686 425.779 119.811 426.196 Q117.959 426.613 116.015 427.492 L116.015 410.131 Z\" fill=\"#000000\" fill-rule=\"evenodd\" fill-opacity=\"1\" /><path clip-path=\"url(#clip510)\" d=\"M 0 0 M56.6171 101.321 L72.9365 101.321 L72.9365 105.256 L50.9921 105.256 L50.9921 101.321 Q53.6541 98.5665 58.2375 93.9369 Q62.8439 89.2841 64.0245 87.9416 Q66.2698 85.4184 67.1494 83.6823 Q68.0522 81.9231 68.0522 80.2333 Q68.0522 77.4786 66.1078 75.7425 Q64.1865 74.0064 61.0847 74.0064 Q58.8856 74.0064 56.4319 74.7703 Q54.0014 75.5342 51.2236 77.0851 L51.2236 72.3629 Q54.0477 71.2287 56.5014 70.65 Q58.955 70.0713 60.9921 70.0713 Q66.3624 70.0713 69.5568 72.7565 Q72.7513 75.4416 72.7513 79.9323 Q72.7513 82.062 71.9411 83.9832 Q71.1541 85.8814 69.0476 88.474 Q68.4689 89.1453 65.367 92.3628 Q62.2652 95.5573 56.6171 101.321 Z\" fill=\"#000000\" fill-rule=\"evenodd\" fill-opacity=\"1\" /><path clip-path=\"url(#clip510)\" d=\"M 0 0 M78.0059 99.3767 L82.8901 99.3767 L82.8901 105.256 L78.0059 105.256 L78.0059 99.3767 Z\" fill=\"#000000\" fill-rule=\"evenodd\" fill-opacity=\"1\" /><path clip-path=\"url(#clip510)\" d=\"M 0 0 M97.9595 73.775 Q94.3484 73.775 92.5197 77.3398 Q90.7141 80.8814 90.7141 88.011 Q90.7141 95.1174 92.5197 98.6822 Q94.3484 102.224 97.9595 102.224 Q101.594 102.224 103.399 98.6822 Q105.228 95.1174 105.228 88.011 Q105.228 80.8814 103.399 77.3398 Q101.594 73.775 97.9595 73.775 M97.9595 70.0713 Q103.77 70.0713 106.825 74.6777 Q109.904 79.261 109.904 88.011 Q109.904 96.7378 106.825 101.344 Q103.77 105.928 97.9595 105.928 Q92.1493 105.928 89.0706 101.344 Q86.0151 96.7378 86.0151 88.011 Q86.0151 79.261 89.0706 74.6777 Q92.1493 70.0713 97.9595 70.0713 Z\" fill=\"#000000\" fill-rule=\"evenodd\" fill-opacity=\"1\" /><path clip-path=\"url(#clip510)\" d=\"M 0 0 M124.973 73.775 Q121.362 73.775 119.533 77.3398 Q117.728 80.8814 117.728 88.011 Q117.728 95.1174 119.533 98.6822 Q121.362 102.224 124.973 102.224 Q128.607 102.224 130.413 98.6822 Q132.242 95.1174 132.242 88.011 Q132.242 80.8814 130.413 77.3398 Q128.607 73.775 124.973 73.775 M124.973 70.0713 Q130.783 70.0713 133.839 74.6777 Q136.918 79.261 136.918 88.011 Q136.918 96.7378 133.839 101.344 Q130.783 105.928 124.973 105.928 Q119.163 105.928 116.084 101.344 Q113.029 96.7378 113.029 88.011 Q113.029 79.261 116.084 74.6777 Q119.163 70.0713 124.973 70.0713 Z\" fill=\"#000000\" fill-rule=\"evenodd\" fill-opacity=\"1\" /><polyline clip-path=\"url(#clip512)\" style=\"stroke:#009af9; stroke-width:4; stroke-opacity:1; fill:none\" points=\"\n",
       "  234.611,1445.72 255.383,1445.72 276.156,1445.72 296.928,1445.72 317.7,1445.72 338.472,1445.72 359.245,1445.72 380.017,1445.72 400.789,1445.72 421.561,1445.72 \n",
       "  442.333,1445.72 463.106,1445.72 483.878,1445.72 504.65,1445.72 525.422,1445.72 546.195,1445.72 566.967,1445.72 587.739,1445.72 608.511,1445.72 629.284,1445.72 \n",
       "  650.056,87.9763 670.828,87.9763 691.6,87.9763 712.373,87.9763 733.145,1445.72 753.917,87.9763 774.689,1445.72 795.461,1445.72 816.234,1445.72 837.006,1445.72 \n",
       "  857.778,1445.72 878.55,1445.72 899.323,1445.72 920.095,1445.72 940.867,1445.72 961.639,87.9763 982.412,87.9763 1003.18,87.9763 1023.96,1445.72 1044.73,1445.72 \n",
       "  1065.5,1445.72 1086.27,1445.72 1107.04,1445.72 1127.82,1445.72 1148.59,1445.72 1169.36,1445.72 1190.13,1445.72 1210.91,87.9763 1231.68,1445.72 1252.45,1445.72 \n",
       "  1273.22,87.9763 1294,1445.72 1314.77,1445.72 1335.54,1445.72 1356.31,1445.72 1377.08,1445.72 1397.86,1445.72 1418.63,87.9763 1439.4,1445.72 1460.17,1445.72 \n",
       "  1480.95,1445.72 1501.72,1445.72 1522.49,1445.72 1543.26,1445.72 1564.03,1445.72 1584.81,87.9763 1605.58,1445.72 1626.35,1445.72 1647.12,1445.72 1667.9,1445.72 \n",
       "  1688.67,1445.72 1709.44,1445.72 1730.21,87.9763 1750.98,87.9763 1771.76,87.9763 1792.53,1445.72 1813.3,87.9763 1834.07,87.9763 1854.85,87.9763 1875.62,87.9763 \n",
       "  1896.39,1445.72 1917.16,1445.72 1937.93,1445.72 1958.71,1445.72 1979.48,1445.72 2000.25,1445.72 2021.02,1445.72 2041.8,1445.72 2062.57,1445.72 2083.34,1445.72 \n",
       "  2104.11,1445.72 2124.88,1445.72 2145.66,1445.72 2166.43,1445.72 2187.2,1445.72 2207.97,1445.72 2228.75,1445.72 2249.52,1445.72 2270.29,1445.72 2291.06,1445.72 \n",
       "  \n",
       "  \"/>\n",
       "<path clip-path=\"url(#clip510)\" d=\"\n",
       "M1986.87 216.178 L2280.09 216.178 L2280.09 95.2176 L1986.87 95.2176  Z\n",
       "  \" fill=\"#ffffff\" fill-rule=\"evenodd\" fill-opacity=\"1\"/>\n",
       "<polyline clip-path=\"url(#clip510)\" style=\"stroke:#000000; stroke-width:4; stroke-opacity:1; fill:none\" points=\"\n",
       "  1986.87,216.178 2280.09,216.178 2280.09,95.2176 1986.87,95.2176 1986.87,216.178 \n",
       "  \"/>\n",
       "<polyline clip-path=\"url(#clip510)\" style=\"stroke:#009af9; stroke-width:4; stroke-opacity:1; fill:none\" points=\"\n",
       "  2011.09,155.698 2156.42,155.698 \n",
       "  \"/>\n",
       "<path clip-path=\"url(#clip510)\" d=\"M 0 0 M2194.48 175.385 Q2192.67 180.015 2190.96 181.427 Q2189.25 182.839 2186.38 182.839 L2182.97 182.839 L2182.97 179.274 L2185.47 179.274 Q2187.23 179.274 2188.2 178.44 Q2189.18 177.607 2190.36 174.505 L2191.12 172.561 L2180.64 147.052 L2185.15 147.052 L2193.25 167.329 L2201.35 147.052 L2205.87 147.052 L2194.48 175.385 Z\" fill=\"#000000\" fill-rule=\"evenodd\" fill-opacity=\"1\" /><path clip-path=\"url(#clip510)\" d=\"M 0 0 M2211.75 169.042 L2219.39 169.042 L2219.39 142.677 L2211.08 144.343 L2211.08 140.084 L2219.34 138.418 L2224.01 138.418 L2224.01 169.042 L2231.65 169.042 L2231.65 172.978 L2211.75 172.978 L2211.75 169.042 Z\" fill=\"#000000\" fill-rule=\"evenodd\" fill-opacity=\"1\" /></svg>\n"
      ]
     },
     "execution_count": 136,
     "metadata": {},
     "output_type": "execute_result"
    }
   ],
   "source": [
    "S = ones(Int64, 100) \n",
    "simulate_markov_chain!(S, P)\n",
    "plot(S)"
   ]
  },
  {
   "cell_type": "code",
   "execution_count": null,
   "metadata": {},
   "outputs": [],
   "source": []
  }
 ],
 "metadata": {
  "kernelspec": {
   "display_name": "Julia 1.4.2",
   "language": "julia",
   "name": "julia-1.4"
  },
  "language_info": {
   "file_extension": ".jl",
   "mimetype": "application/julia",
   "name": "julia",
   "version": "1.4.2"
  }
 },
 "nbformat": 4,
 "nbformat_minor": 4
}

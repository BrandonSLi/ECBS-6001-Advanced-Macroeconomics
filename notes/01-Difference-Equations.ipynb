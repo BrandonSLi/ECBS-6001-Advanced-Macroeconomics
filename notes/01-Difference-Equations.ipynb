{
 "cells": [
  {
   "cell_type": "markdown",
   "metadata": {},
   "source": [
    "# Difference Equations"
   ]
  },
  {
   "cell_type": "markdown",
   "metadata": {},
   "source": [
    "If you don't see Julia among the kernels: From the Julia promt, push `]`, then\n",
    "```\n",
    "add IJulia\n",
    "```\n",
    "The push backspace and\n",
    "```\n",
    "using IJulia\n",
    "jupyterlab()\n",
    "```"
   ]
  },
  {
   "cell_type": "markdown",
   "metadata": {},
   "source": [
    "## First-order difference equations\n",
    "$$\n",
    "x_t = F_t(x_{t-1})\n",
    "$$\n"
   ]
  },
  {
   "cell_type": "code",
   "execution_count": null,
   "metadata": {},
   "outputs": [],
   "source": []
  },
  {
   "cell_type": "markdown",
   "metadata": {},
   "source": [
    "### First-order linear difference equations\n"
   ]
  },
  {
   "cell_type": "markdown",
   "metadata": {},
   "source": [
    "$$\n",
    "x_t = a x_{t-1} + b\n",
    "$$\n",
    "Substract $b/(1-a)$:\n",
    "$$\n",
    "x_t - b/(1-a) = a x_{t-1} +b - b/(1-a) \n",
    "$$\n",
    "$$\n",
    "x_t - b/(1-a) = a (x_{t-1} - b/(1-a)) \n",
    "$$\n",
    "$$\n",
    "\\tilde x_t = a \\tilde x_{t-1}\n",
    "$$\n",
    "with $\\tilde x_t = x_t-b/(1-a)$\n"
   ]
  },
  {
   "cell_type": "markdown",
   "metadata": {},
   "source": [
    "Suppose $x_o = c$ and assume $b=0$\n",
    "$$\n",
    "x_t = ax_{t-1} = a^2 x_{t-2}=..\n",
    "$$\n",
    "$$\n",
    "x_t = a^t c\n",
    "$$"
   ]
  },
  {
   "cell_type": "markdown",
   "metadata": {},
   "source": []
  },
  {
   "cell_type": "code",
   "execution_count": null,
   "metadata": {},
   "outputs": [],
   "source": []
  },
  {
   "cell_type": "markdown",
   "metadata": {},
   "source": [
    "### Functions\n"
   ]
  },
  {
   "cell_type": "code",
   "execution_count": 1,
   "metadata": {},
   "outputs": [
    {
     "data": {
      "text/plain": [
       "AR1 (generic function with 1 method)"
      ]
     },
     "execution_count": 1,
     "metadata": {},
     "output_type": "execute_result"
    }
   ],
   "source": [
    "function AR1(x, a, b)\n",
    "    return a * x + b\n",
    "end"
   ]
  },
  {
   "cell_type": "code",
   "execution_count": 2,
   "metadata": {},
   "outputs": [
    {
     "data": {
      "text/plain": [
       "0.99"
      ]
     },
     "execution_count": 2,
     "metadata": {},
     "output_type": "execute_result"
    }
   ],
   "source": [
    "AR1(1.0, 0.99, 0.0)"
   ]
  },
  {
   "cell_type": "code",
   "execution_count": null,
   "metadata": {},
   "outputs": [],
   "source": []
  },
  {
   "cell_type": "code",
   "execution_count": null,
   "metadata": {},
   "outputs": [],
   "source": []
  },
  {
   "cell_type": "markdown",
   "metadata": {},
   "source": [
    "### For loops"
   ]
  },
  {
   "cell_type": "code",
   "execution_count": 3,
   "metadata": {},
   "outputs": [
    {
     "name": "stdout",
     "output_type": "stream",
     "text": [
      "2.5\n",
      "2.875\n",
      "3.15625\n",
      "3.3671875\n",
      "3.525390625\n",
      "3.64404296875\n",
      "3.7330322265625\n",
      "3.799774169921875\n",
      "3.8498306274414062\n",
      "3.8873729705810547\n",
      "3.915529727935791\n",
      "3.9366472959518433\n",
      "3.9524854719638824\n",
      "3.964364103972912\n",
      "3.973273077979684\n",
      "3.979954808484763\n",
      "3.984966106363572\n",
      "3.988724579772679\n",
      "3.9915434348295094\n",
      "3.993657576122132\n"
     ]
    },
    {
     "ename": "UndefVarError",
     "evalue": "UndefVarError: x_current not defined",
     "output_type": "error",
     "traceback": [
      "UndefVarError: x_current not defined",
      "",
      "Stacktrace:",
      " [1] top-level scope at In[3]:11"
     ]
    }
   ],
   "source": [
    "T = 20\n",
    "x_lag = 2.5\n",
    "a = 0.75\n",
    "b = 1.0\n",
    "\n",
    "for t = 1:T\n",
    "    println(x_lag)\n",
    "    x_current = AR1(x_lag, a, b)\n",
    "    x_lag = x_current\n",
    "end\n",
    "println(x_current)"
   ]
  },
  {
   "cell_type": "markdown",
   "metadata": {},
   "source": [
    "See the [docs on variable scope](https://docs.julialang.org/en/v1/manual/variables-and-scoping/#scope-of-variables), they are pretty complex."
   ]
  },
  {
   "cell_type": "markdown",
   "metadata": {},
   "source": [
    "# Exercise\n",
    "> Write a for loop that prints the first 5 square numbers."
   ]
  },
  {
   "cell_type": "code",
   "execution_count": 4,
   "metadata": {},
   "outputs": [
    {
     "name": "stdout",
     "output_type": "stream",
     "text": [
      "1\n",
      "4\n",
      "9\n",
      "16\n",
      "25\n"
     ]
    }
   ],
   "source": [
    "for t = 1:5\n",
    "    println(t^2)\n",
    "end"
   ]
  },
  {
   "cell_type": "code",
   "execution_count": 5,
   "metadata": {},
   "outputs": [
    {
     "ename": "UndefVarError",
     "evalue": "UndefVarError: i not defined",
     "output_type": "error",
     "traceback": [
      "UndefVarError: i not defined",
      "",
      "Stacktrace:",
      " [1] top-level scope at ./In[5]:3"
     ]
    }
   ],
   "source": [
    "T = 5\n",
    "for t = 1:T\n",
    "    println(i^2)\n",
    "    i = i + 1\n",
    "end"
   ]
  },
  {
   "cell_type": "code",
   "execution_count": 6,
   "metadata": {},
   "outputs": [
    {
     "ename": "UndefVarError",
     "evalue": "UndefVarError: i not defined",
     "output_type": "error",
     "traceback": [
      "UndefVarError: i not defined",
      "",
      "Stacktrace:",
      " [1] top-level scope at In[6]:1"
     ]
    }
   ],
   "source": [
    "i"
   ]
  },
  {
   "cell_type": "markdown",
   "metadata": {},
   "source": [
    "### Types and multiple dispatch"
   ]
  },
  {
   "cell_type": "code",
   "execution_count": 7,
   "metadata": {},
   "outputs": [
    {
     "data": {
      "text/plain": [
       "AR1 (generic function with 2 methods)"
      ]
     },
     "execution_count": 7,
     "metadata": {},
     "output_type": "execute_result"
    }
   ],
   "source": [
    "function AR1(x::Float64, a::Float64, b::Float64)\n",
    "    return a * x + b\n",
    "end"
   ]
  },
  {
   "cell_type": "code",
   "execution_count": null,
   "metadata": {},
   "outputs": [],
   "source": []
  },
  {
   "cell_type": "markdown",
   "metadata": {},
   "source": [
    "### Vectors and N-dimensional arrays"
   ]
  },
  {
   "cell_type": "code",
   "execution_count": 8,
   "metadata": {},
   "outputs": [
    {
     "data": {
      "text/plain": [
       "3-element Array{Int64,1}:\n",
       " 1\n",
       " 2\n",
       " 3"
      ]
     },
     "execution_count": 8,
     "metadata": {},
     "output_type": "execute_result"
    }
   ],
   "source": [
    "X = [1, 2, 3]"
   ]
  },
  {
   "cell_type": "code",
   "execution_count": 9,
   "metadata": {},
   "outputs": [
    {
     "data": {
      "text/plain": [
       "3-element Array{Float64,1}:\n",
       " 1.0\n",
       " 2.0\n",
       " 3.0"
      ]
     },
     "execution_count": 9,
     "metadata": {},
     "output_type": "execute_result"
    }
   ],
   "source": [
    "Z = [1.0, 2.0, 3.0]"
   ]
  },
  {
   "cell_type": "code",
   "execution_count": 10,
   "metadata": {},
   "outputs": [
    {
     "data": {
      "text/plain": [
       "Rational{Int64}"
      ]
     },
     "execution_count": 10,
     "metadata": {},
     "output_type": "execute_result"
    }
   ],
   "source": [
    "typeof(2//3)"
   ]
  },
  {
   "cell_type": "code",
   "execution_count": 11,
   "metadata": {},
   "outputs": [
    {
     "data": {
      "text/plain": [
       "Float64"
      ]
     },
     "execution_count": 11,
     "metadata": {},
     "output_type": "execute_result"
    }
   ],
   "source": [
    "typeof(2/3)"
   ]
  },
  {
   "cell_type": "code",
   "execution_count": 12,
   "metadata": {},
   "outputs": [
    {
     "data": {
      "text/plain": [
       "2//1"
      ]
     },
     "execution_count": 12,
     "metadata": {},
     "output_type": "execute_result"
    }
   ],
   "source": [
    "2//3 * 3"
   ]
  },
  {
   "cell_type": "code",
   "execution_count": 13,
   "metadata": {},
   "outputs": [
    {
     "data": {
      "text/plain": [
       "2.0"
      ]
     },
     "execution_count": 13,
     "metadata": {},
     "output_type": "execute_result"
    }
   ],
   "source": [
    "2/3 * 3"
   ]
  },
  {
   "cell_type": "code",
   "execution_count": 14,
   "metadata": {},
   "outputs": [
    {
     "data": {
      "text/plain": [
       "Complex{Float64}"
      ]
     },
     "execution_count": 14,
     "metadata": {},
     "output_type": "execute_result"
    }
   ],
   "source": [
    "typeof(1.0 + 2im)"
   ]
  },
  {
   "cell_type": "code",
   "execution_count": 15,
   "metadata": {},
   "outputs": [
    {
     "data": {
      "text/plain": [
       "-1 + 0im"
      ]
     },
     "execution_count": 15,
     "metadata": {},
     "output_type": "execute_result"
    }
   ],
   "source": [
    "(im)^2"
   ]
  },
  {
   "cell_type": "code",
   "execution_count": 16,
   "metadata": {},
   "outputs": [
    {
     "data": {
      "text/plain": [
       "2.0"
      ]
     },
     "execution_count": 16,
     "metadata": {},
     "output_type": "execute_result"
    }
   ],
   "source": [
    "sqrt(4.0)"
   ]
  },
  {
   "cell_type": "code",
   "execution_count": 17,
   "metadata": {},
   "outputs": [
    {
     "ename": "DomainError",
     "evalue": "DomainError with -1.0:\nsqrt will only return a complex result if called with a complex argument. Try sqrt(Complex(x)).",
     "output_type": "error",
     "traceback": [
      "DomainError with -1.0:\nsqrt will only return a complex result if called with a complex argument. Try sqrt(Complex(x)).",
      "",
      "Stacktrace:",
      " [1] throw_complex_domainerror(::Symbol, ::Float64) at ./math.jl:33",
      " [2] sqrt(::Float64) at ./math.jl:557",
      " [3] top-level scope at In[17]:1"
     ]
    }
   ],
   "source": [
    "sqrt(-1.0)"
   ]
  },
  {
   "cell_type": "code",
   "execution_count": 18,
   "metadata": {},
   "outputs": [
    {
     "data": {
      "text/plain": [
       "0.0 + 1.0im"
      ]
     },
     "execution_count": 18,
     "metadata": {},
     "output_type": "execute_result"
    }
   ],
   "source": [
    "sqrt(-1.0 + 0im)"
   ]
  },
  {
   "cell_type": "code",
   "execution_count": 19,
   "metadata": {},
   "outputs": [
    {
     "data": {
      "text/plain": [
       "2×2 Array{Int64,2}:\n",
       " 1  2\n",
       " 3  4"
      ]
     },
     "execution_count": 19,
     "metadata": {},
     "output_type": "execute_result"
    }
   ],
   "source": [
    "A = [1 2; 3 4]"
   ]
  },
  {
   "cell_type": "code",
   "execution_count": 20,
   "metadata": {},
   "outputs": [
    {
     "data": {
      "text/plain": [
       "1×2 Array{Int64,2}:\n",
       " 1  2"
      ]
     },
     "execution_count": 20,
     "metadata": {},
     "output_type": "execute_result"
    }
   ],
   "source": [
    "b_is_not_a_vector = [1 2]"
   ]
  },
  {
   "cell_type": "code",
   "execution_count": 21,
   "metadata": {},
   "outputs": [
    {
     "data": {
      "text/plain": [
       "2-element Array{Int64,1}:\n",
       " 1\n",
       " 2"
      ]
     },
     "execution_count": 21,
     "metadata": {},
     "output_type": "execute_result"
    }
   ],
   "source": [
    "c_is_a_vector = [1, 2]"
   ]
  },
  {
   "cell_type": "code",
   "execution_count": 22,
   "metadata": {},
   "outputs": [
    {
     "data": {
      "text/plain": [
       "2×2 Array{Int64,2}:\n",
       " 1  0\n",
       " 0  1"
      ]
     },
     "execution_count": 22,
     "metadata": {},
     "output_type": "execute_result"
    }
   ],
   "source": [
    "eye = [1 0; 0 1]"
   ]
  },
  {
   "cell_type": "code",
   "execution_count": 23,
   "metadata": {},
   "outputs": [
    {
     "data": {
      "text/plain": [
       "1×2 LinearAlgebra.Adjoint{Int64,Array{Int64,1}}:\n",
       " 1  2"
      ]
     },
     "execution_count": 23,
     "metadata": {},
     "output_type": "execute_result"
    }
   ],
   "source": [
    "c_is_a_vector' * eye "
   ]
  },
  {
   "cell_type": "code",
   "execution_count": 24,
   "metadata": {},
   "outputs": [
    {
     "data": {
      "text/plain": [
       "AR1 (generic function with 3 methods)"
      ]
     },
     "execution_count": 24,
     "metadata": {},
     "output_type": "execute_result"
    }
   ],
   "source": [
    "function AR1(x::Array{Float64, 1}, a::Float64, b::Float64)\n",
    "    return a .* x .+ b\n",
    "end"
   ]
  },
  {
   "cell_type": "code",
   "execution_count": 25,
   "metadata": {},
   "outputs": [
    {
     "data": {
      "text/plain": [
       "3-element Array{Float64,1}:\n",
       " 0.8\n",
       " 1.6\n",
       " 2.4000000000000004"
      ]
     },
     "execution_count": 25,
     "metadata": {},
     "output_type": "execute_result"
    }
   ],
   "source": [
    "AR1(Z, 0.8, 0.0)"
   ]
  },
  {
   "cell_type": "code",
   "execution_count": 26,
   "metadata": {},
   "outputs": [
    {
     "data": {
      "text/plain": [
       "Array{Int64,1}"
      ]
     },
     "execution_count": 26,
     "metadata": {},
     "output_type": "execute_result"
    }
   ],
   "source": [
    "typeof(X)"
   ]
  },
  {
   "cell_type": "code",
   "execution_count": 27,
   "metadata": {},
   "outputs": [
    {
     "data": {
      "text/plain": [
       "forecast_AR1! (generic function with 1 method)"
      ]
     },
     "execution_count": 27,
     "metadata": {},
     "output_type": "execute_result"
    }
   ],
   "source": [
    "function forecast_AR1!(x::Array{Float64, 1}, a::Float64)\n",
    "    T = length(x)\n",
    "    for t = 2:T\n",
    "        x[t] = a * x[t-1]\n",
    "    end\n",
    "end"
   ]
  },
  {
   "cell_type": "code",
   "execution_count": 28,
   "metadata": {},
   "outputs": [
    {
     "name": "stdout",
     "output_type": "stream",
     "text": [
      "[1.0, 0.7, 0.48999999999999994, 0.3429999999999999, 0.24009999999999992, 0.16806999999999994, 0.11764899999999995, 0.08235429999999996, 0.05764800999999997, 0.04035360699999998]\n"
     ]
    }
   ],
   "source": [
    "X = ones(10)\n",
    "forecast_AR1!(X, 0.7)\n",
    "println(X)"
   ]
  },
  {
   "cell_type": "markdown",
   "metadata": {},
   "source": [
    "### "
   ]
  },
  {
   "cell_type": "code",
   "execution_count": 29,
   "metadata": {},
   "outputs": [],
   "source": [
    "using Plots"
   ]
  },
  {
   "cell_type": "code",
   "execution_count": 30,
   "metadata": {},
   "outputs": [
    {
     "name": "stderr",
     "output_type": "stream",
     "text": [
      "\u001b[32m\u001b[1m   Updating\u001b[22m\u001b[39m registry at `~/.julia/registries/General`\n"
     ]
    },
    {
     "name": "stdout",
     "output_type": "stream",
     "text": [
      "\u001b[?25l    "
     ]
    },
    {
     "name": "stderr",
     "output_type": "stream",
     "text": [
      "\u001b[32m\u001b[1m   Updating\u001b[22m\u001b[39m git-repo `https://github.com/JuliaRegistries/General.git`\n"
     ]
    },
    {
     "name": "stdout",
     "output_type": "stream",
     "text": [
      "\u001b[2K\u001b[?25h[1mFetching:\u001b[22m\u001b[39m [========================================>]  100.0 %======>                                 ]  17.2 %                        ]  38.6 %=======================>                 ]  55.8 % [=========================>               ]  60.7 %]  77.8 %=======================================> ]  95.0 %\u001b[36m\u001b[1mFetching:\u001b[22m\u001b[39m [=======================================> ]  95.4 %"
     ]
    },
    {
     "name": "stderr",
     "output_type": "stream",
     "text": [
      "\u001b[32m\u001b[1m  Resolving\u001b[22m\u001b[39m package versions...\n",
      "\u001b[32m\u001b[1m   Updating\u001b[22m\u001b[39m `~/Tresorit/teaching/courses/2020/ECBS-6001-Advanced-Macroeconomics/Project.toml`\n",
      "\u001b[90m [no changes]\u001b[39m\n",
      "\u001b[32m\u001b[1m   Updating\u001b[22m\u001b[39m `~/Tresorit/teaching/courses/2020/ECBS-6001-Advanced-Macroeconomics/Manifest.toml`\n",
      "\u001b[90m [no changes]\u001b[39m\n"
     ]
    }
   ],
   "source": [
    "using Pkg\n",
    "Pkg.add(\"Plots\")"
   ]
  },
  {
   "cell_type": "code",
   "execution_count": 31,
   "metadata": {},
   "outputs": [
    {
     "data": {
      "image/svg+xml": [
       "<?xml version=\"1.0\" encoding=\"utf-8\"?>\n",
       "<svg xmlns=\"http://www.w3.org/2000/svg\" xmlns:xlink=\"http://www.w3.org/1999/xlink\" width=\"600\" height=\"400\" viewBox=\"0 0 2400 1600\">\n",
       "<defs>\n",
       "  <clipPath id=\"clip650\">\n",
       "    <rect x=\"0\" y=\"0\" width=\"2400\" height=\"1600\"/>\n",
       "  </clipPath>\n",
       "</defs>\n",
       "<path clip-path=\"url(#clip650)\" d=\"\n",
       "M0 1600 L2400 1600 L2400 0 L0 0  Z\n",
       "  \" fill=\"#ffffff\" fill-rule=\"evenodd\" fill-opacity=\"1\"/>\n",
       "<defs>\n",
       "  <clipPath id=\"clip651\">\n",
       "    <rect x=\"480\" y=\"0\" width=\"1681\" height=\"1600\"/>\n",
       "  </clipPath>\n",
       "</defs>\n",
       "<path clip-path=\"url(#clip650)\" d=\"\n",
       "M148.334 1486.45 L2352.76 1486.45 L2352.76 47.2441 L148.334 47.2441  Z\n",
       "  \" fill=\"#ffffff\" fill-rule=\"evenodd\" fill-opacity=\"1\"/>\n",
       "<defs>\n",
       "  <clipPath id=\"clip652\">\n",
       "    <rect x=\"148\" y=\"47\" width=\"2205\" height=\"1440\"/>\n",
       "  </clipPath>\n",
       "</defs>\n",
       "<polyline clip-path=\"url(#clip652)\" style=\"stroke:#000000; stroke-width:2; stroke-opacity:0.1; fill:none\" points=\"\n",
       "  441.795,1486.45 441.795,47.2441 \n",
       "  \"/>\n",
       "<polyline clip-path=\"url(#clip652)\" style=\"stroke:#000000; stroke-width:2; stroke-opacity:0.1; fill:none\" points=\"\n",
       "  903.938,1486.45 903.938,47.2441 \n",
       "  \"/>\n",
       "<polyline clip-path=\"url(#clip652)\" style=\"stroke:#000000; stroke-width:2; stroke-opacity:0.1; fill:none\" points=\"\n",
       "  1366.08,1486.45 1366.08,47.2441 \n",
       "  \"/>\n",
       "<polyline clip-path=\"url(#clip652)\" style=\"stroke:#000000; stroke-width:2; stroke-opacity:0.1; fill:none\" points=\"\n",
       "  1828.22,1486.45 1828.22,47.2441 \n",
       "  \"/>\n",
       "<polyline clip-path=\"url(#clip652)\" style=\"stroke:#000000; stroke-width:2; stroke-opacity:0.1; fill:none\" points=\"\n",
       "  2290.37,1486.45 2290.37,47.2441 \n",
       "  \"/>\n",
       "<polyline clip-path=\"url(#clip650)\" style=\"stroke:#000000; stroke-width:4; stroke-opacity:1; fill:none\" points=\"\n",
       "  148.334,1486.45 2352.76,1486.45 \n",
       "  \"/>\n",
       "<polyline clip-path=\"url(#clip650)\" style=\"stroke:#000000; stroke-width:4; stroke-opacity:1; fill:none\" points=\"\n",
       "  441.795,1486.45 441.795,1469.18 \n",
       "  \"/>\n",
       "<polyline clip-path=\"url(#clip650)\" style=\"stroke:#000000; stroke-width:4; stroke-opacity:1; fill:none\" points=\"\n",
       "  903.938,1486.45 903.938,1469.18 \n",
       "  \"/>\n",
       "<polyline clip-path=\"url(#clip650)\" style=\"stroke:#000000; stroke-width:4; stroke-opacity:1; fill:none\" points=\"\n",
       "  1366.08,1486.45 1366.08,1469.18 \n",
       "  \"/>\n",
       "<polyline clip-path=\"url(#clip650)\" style=\"stroke:#000000; stroke-width:4; stroke-opacity:1; fill:none\" points=\"\n",
       "  1828.22,1486.45 1828.22,1469.18 \n",
       "  \"/>\n",
       "<polyline clip-path=\"url(#clip650)\" style=\"stroke:#000000; stroke-width:4; stroke-opacity:1; fill:none\" points=\"\n",
       "  2290.37,1486.45 2290.37,1469.18 \n",
       "  \"/>\n",
       "<path clip-path=\"url(#clip650)\" d=\"M 0 0 M436.448 1543.18 L452.767 1543.18 L452.767 1547.12 L430.823 1547.12 L430.823 1543.18 Q433.485 1540.43 438.068 1535.8 Q442.675 1531.15 443.855 1529.81 Q446.101 1527.28 446.98 1525.55 Q447.883 1523.79 447.883 1522.1 Q447.883 1519.34 445.939 1517.61 Q444.017 1515.87 440.915 1515.87 Q438.716 1515.87 436.263 1516.63 Q433.832 1517.4 431.054 1518.95 L431.054 1514.23 Q433.878 1513.09 436.332 1512.51 Q438.786 1511.93 440.823 1511.93 Q446.193 1511.93 449.388 1514.62 Q452.582 1517.31 452.582 1521.8 Q452.582 1523.93 451.772 1525.85 Q450.985 1527.74 448.878 1530.34 Q448.3 1531.01 445.198 1534.23 Q442.096 1537.42 436.448 1543.18 Z\" fill=\"#000000\" fill-rule=\"evenodd\" fill-opacity=\"1\" /><path clip-path=\"url(#clip650)\" d=\"M 0 0 M906.947 1516.63 L895.142 1535.08 L906.947 1535.08 L906.947 1516.63 M905.72 1512.56 L911.6 1512.56 L911.6 1535.08 L916.531 1535.08 L916.531 1538.97 L911.6 1538.97 L911.6 1547.12 L906.947 1547.12 L906.947 1538.97 L891.345 1538.97 L891.345 1534.46 L905.72 1512.56 Z\" fill=\"#000000\" fill-rule=\"evenodd\" fill-opacity=\"1\" /><path clip-path=\"url(#clip650)\" d=\"M 0 0 M1366.49 1527.98 Q1363.34 1527.98 1361.49 1530.13 Q1359.66 1532.28 1359.66 1536.03 Q1359.66 1539.76 1361.49 1541.93 Q1363.34 1544.09 1366.49 1544.09 Q1369.63 1544.09 1371.46 1541.93 Q1373.31 1539.76 1373.31 1536.03 Q1373.31 1532.28 1371.46 1530.13 Q1369.63 1527.98 1366.49 1527.98 M1375.77 1513.32 L1375.77 1517.58 Q1374.01 1516.75 1372.2 1516.31 Q1370.42 1515.87 1368.66 1515.87 Q1364.03 1515.87 1361.58 1519 Q1359.15 1522.12 1358.8 1528.44 Q1360.17 1526.43 1362.23 1525.36 Q1364.29 1524.27 1366.76 1524.27 Q1371.97 1524.27 1374.98 1527.44 Q1378.01 1530.59 1378.01 1536.03 Q1378.01 1541.36 1374.87 1544.57 Q1371.72 1547.79 1366.49 1547.79 Q1360.49 1547.79 1357.32 1543.21 Q1354.15 1538.6 1354.15 1529.87 Q1354.15 1521.68 1358.04 1516.82 Q1361.93 1511.93 1368.48 1511.93 Q1370.24 1511.93 1372.02 1512.28 Q1373.82 1512.63 1375.77 1513.32 Z\" fill=\"#000000\" fill-rule=\"evenodd\" fill-opacity=\"1\" /><path clip-path=\"url(#clip650)\" d=\"M 0 0 M1828.22 1530.71 Q1824.89 1530.71 1822.97 1532.49 Q1821.07 1534.27 1821.07 1537.4 Q1821.07 1540.52 1822.97 1542.31 Q1824.89 1544.09 1828.22 1544.09 Q1831.56 1544.09 1833.48 1542.31 Q1835.4 1540.5 1835.4 1537.4 Q1835.4 1534.27 1833.48 1532.49 Q1831.58 1530.71 1828.22 1530.71 M1823.55 1528.72 Q1820.54 1527.98 1818.85 1525.92 Q1817.18 1523.86 1817.18 1520.89 Q1817.18 1516.75 1820.12 1514.34 Q1823.08 1511.93 1828.22 1511.93 Q1833.39 1511.93 1836.33 1514.34 Q1839.27 1516.75 1839.27 1520.89 Q1839.27 1523.86 1837.58 1525.92 Q1835.91 1527.98 1832.92 1528.72 Q1836.3 1529.5 1838.18 1531.8 Q1840.08 1534.09 1840.08 1537.4 Q1840.08 1542.42 1837 1545.11 Q1833.94 1547.79 1828.22 1547.79 Q1822.51 1547.79 1819.43 1545.11 Q1816.37 1542.42 1816.37 1537.4 Q1816.37 1534.09 1818.27 1531.8 Q1820.17 1529.5 1823.55 1528.72 M1821.83 1521.33 Q1821.83 1524.02 1823.5 1525.52 Q1825.19 1527.03 1828.22 1527.03 Q1831.23 1527.03 1832.92 1525.52 Q1834.64 1524.02 1834.64 1521.33 Q1834.64 1518.65 1832.92 1517.14 Q1831.23 1515.64 1828.22 1515.64 Q1825.19 1515.64 1823.5 1517.14 Q1821.83 1518.65 1821.83 1521.33 Z\" fill=\"#000000\" fill-rule=\"evenodd\" fill-opacity=\"1\" /><path clip-path=\"url(#clip650)\" d=\"M 0 0 M2267.24 1543.18 L2274.88 1543.18 L2274.88 1516.82 L2266.57 1518.49 L2266.57 1514.23 L2274.83 1512.56 L2279.51 1512.56 L2279.51 1543.18 L2287.15 1543.18 L2287.15 1547.12 L2267.24 1547.12 L2267.24 1543.18 Z\" fill=\"#000000\" fill-rule=\"evenodd\" fill-opacity=\"1\" /><path clip-path=\"url(#clip650)\" d=\"M 0 0 M2302.22 1515.64 Q2298.61 1515.64 2296.78 1519.2 Q2294.97 1522.75 2294.97 1529.87 Q2294.97 1536.98 2296.78 1540.55 Q2298.61 1544.09 2302.22 1544.09 Q2305.85 1544.09 2307.66 1540.55 Q2309.49 1536.98 2309.49 1529.87 Q2309.49 1522.75 2307.66 1519.2 Q2305.85 1515.64 2302.22 1515.64 M2302.22 1511.93 Q2308.03 1511.93 2311.08 1516.54 Q2314.16 1521.12 2314.16 1529.87 Q2314.16 1538.6 2311.08 1543.21 Q2308.03 1547.79 2302.22 1547.79 Q2296.41 1547.79 2293.33 1543.21 Q2290.27 1538.6 2290.27 1529.87 Q2290.27 1521.12 2293.33 1516.54 Q2296.41 1511.93 2302.22 1511.93 Z\" fill=\"#000000\" fill-rule=\"evenodd\" fill-opacity=\"1\" /><polyline clip-path=\"url(#clip652)\" style=\"stroke:#000000; stroke-width:2; stroke-opacity:0.1; fill:none\" points=\"\n",
       "  148.334,1219.84 2352.76,1219.84 \n",
       "  \"/>\n",
       "<polyline clip-path=\"url(#clip652)\" style=\"stroke:#000000; stroke-width:2; stroke-opacity:0.1; fill:none\" points=\"\n",
       "  148.334,936.876 2352.76,936.876 \n",
       "  \"/>\n",
       "<polyline clip-path=\"url(#clip652)\" style=\"stroke:#000000; stroke-width:2; stroke-opacity:0.1; fill:none\" points=\"\n",
       "  148.334,653.909 2352.76,653.909 \n",
       "  \"/>\n",
       "<polyline clip-path=\"url(#clip652)\" style=\"stroke:#000000; stroke-width:2; stroke-opacity:0.1; fill:none\" points=\"\n",
       "  148.334,370.943 2352.76,370.943 \n",
       "  \"/>\n",
       "<polyline clip-path=\"url(#clip652)\" style=\"stroke:#000000; stroke-width:2; stroke-opacity:0.1; fill:none\" points=\"\n",
       "  148.334,87.9763 2352.76,87.9763 \n",
       "  \"/>\n",
       "<polyline clip-path=\"url(#clip650)\" style=\"stroke:#000000; stroke-width:4; stroke-opacity:1; fill:none\" points=\"\n",
       "  148.334,1486.45 148.334,47.2441 \n",
       "  \"/>\n",
       "<polyline clip-path=\"url(#clip650)\" style=\"stroke:#000000; stroke-width:4; stroke-opacity:1; fill:none\" points=\"\n",
       "  148.334,1219.84 174.787,1219.84 \n",
       "  \"/>\n",
       "<polyline clip-path=\"url(#clip650)\" style=\"stroke:#000000; stroke-width:4; stroke-opacity:1; fill:none\" points=\"\n",
       "  148.334,936.876 174.787,936.876 \n",
       "  \"/>\n",
       "<polyline clip-path=\"url(#clip650)\" style=\"stroke:#000000; stroke-width:4; stroke-opacity:1; fill:none\" points=\"\n",
       "  148.334,653.909 174.787,653.909 \n",
       "  \"/>\n",
       "<polyline clip-path=\"url(#clip650)\" style=\"stroke:#000000; stroke-width:4; stroke-opacity:1; fill:none\" points=\"\n",
       "  148.334,370.943 174.787,370.943 \n",
       "  \"/>\n",
       "<polyline clip-path=\"url(#clip650)\" style=\"stroke:#000000; stroke-width:4; stroke-opacity:1; fill:none\" points=\"\n",
       "  148.334,87.9763 174.787,87.9763 \n",
       "  \"/>\n",
       "<path clip-path=\"url(#clip650)\" d=\"M 0 0 M65.0198 1205.64 Q61.4087 1205.64 59.58 1209.21 Q57.7745 1212.75 57.7745 1219.88 Q57.7745 1226.98 59.58 1230.55 Q61.4087 1234.09 65.0198 1234.09 Q68.6541 1234.09 70.4596 1230.55 Q72.2883 1226.98 72.2883 1219.88 Q72.2883 1212.75 70.4596 1209.21 Q68.6541 1205.64 65.0198 1205.64 M65.0198 1201.94 Q70.83 1201.94 73.8855 1206.54 Q76.9642 1211.13 76.9642 1219.88 Q76.9642 1228.6 73.8855 1233.21 Q70.83 1237.79 65.0198 1237.79 Q59.2097 1237.79 56.131 1233.21 Q53.0754 1228.6 53.0754 1219.88 Q53.0754 1211.13 56.131 1206.54 Q59.2097 1201.94 65.0198 1201.94 Z\" fill=\"#000000\" fill-rule=\"evenodd\" fill-opacity=\"1\" /><path clip-path=\"url(#clip650)\" d=\"M 0 0 M82.0336 1231.24 L86.9179 1231.24 L86.9179 1237.12 L82.0336 1237.12 L82.0336 1231.24 Z\" fill=\"#000000\" fill-rule=\"evenodd\" fill-opacity=\"1\" /><path clip-path=\"url(#clip650)\" d=\"M 0 0 M96.015 1233.19 L112.334 1233.19 L112.334 1237.12 L90.3901 1237.12 L90.3901 1233.19 Q93.0521 1230.43 97.6354 1225.8 Q102.242 1221.15 103.422 1219.81 Q105.668 1217.28 106.547 1215.55 Q107.45 1213.79 107.45 1212.1 Q107.45 1209.35 105.506 1207.61 Q103.584 1205.87 100.483 1205.87 Q98.2835 1205.87 95.8298 1206.64 Q93.3993 1207.4 90.6215 1208.95 L90.6215 1204.23 Q93.4456 1203.1 95.8993 1202.52 Q98.353 1201.94 100.39 1201.94 Q105.76 1201.94 108.955 1204.62 Q112.149 1207.31 112.149 1211.8 Q112.149 1213.93 111.339 1215.85 Q110.552 1217.75 108.446 1220.34 Q107.867 1221.01 104.765 1224.23 Q101.663 1227.42 96.015 1233.19 Z\" fill=\"#000000\" fill-rule=\"evenodd\" fill-opacity=\"1\" /><path clip-path=\"url(#clip650)\" d=\"M 0 0 M62.9365 922.675 Q59.3254 922.675 57.4967 926.24 Q55.6912 929.781 55.6912 936.911 Q55.6912 944.017 57.4967 947.582 Q59.3254 951.124 62.9365 951.124 Q66.5707 951.124 68.3763 947.582 Q70.205 944.017 70.205 936.911 Q70.205 929.781 68.3763 926.24 Q66.5707 922.675 62.9365 922.675 M62.9365 918.971 Q68.7467 918.971 71.8022 923.578 Q74.8809 928.161 74.8809 936.911 Q74.8809 945.638 71.8022 950.244 Q68.7467 954.827 62.9365 954.827 Q57.1264 954.827 54.0477 950.244 Q50.9921 945.638 50.9921 936.911 Q50.9921 928.161 54.0477 923.578 Q57.1264 918.971 62.9365 918.971 Z\" fill=\"#000000\" fill-rule=\"evenodd\" fill-opacity=\"1\" /><path clip-path=\"url(#clip650)\" d=\"M 0 0 M79.9503 948.276 L84.8345 948.276 L84.8345 954.156 L79.9503 954.156 L79.9503 948.276 Z\" fill=\"#000000\" fill-rule=\"evenodd\" fill-opacity=\"1\" /><path clip-path=\"url(#clip650)\" d=\"M 0 0 M102.751 923.67 L90.9456 942.119 L102.751 942.119 L102.751 923.67 M101.524 919.596 L107.404 919.596 L107.404 942.119 L112.334 942.119 L112.334 946.008 L107.404 946.008 L107.404 954.156 L102.751 954.156 L102.751 946.008 L87.1493 946.008 L87.1493 941.494 L101.524 919.596 Z\" fill=\"#000000\" fill-rule=\"evenodd\" fill-opacity=\"1\" /><path clip-path=\"url(#clip650)\" d=\"M 0 0 M63.2606 639.708 Q59.6495 639.708 57.8208 643.273 Q56.0152 646.815 56.0152 653.944 Q56.0152 661.051 57.8208 664.615 Q59.6495 668.157 63.2606 668.157 Q66.8948 668.157 68.7004 664.615 Q70.5291 661.051 70.5291 653.944 Q70.5291 646.815 68.7004 643.273 Q66.8948 639.708 63.2606 639.708 M63.2606 636.004 Q69.0707 636.004 72.1263 640.611 Q75.205 645.194 75.205 653.944 Q75.205 662.671 72.1263 667.277 Q69.0707 671.861 63.2606 671.861 Q57.4504 671.861 54.3717 667.277 Q51.3162 662.671 51.3162 653.944 Q51.3162 645.194 54.3717 640.611 Q57.4504 636.004 63.2606 636.004 Z\" fill=\"#000000\" fill-rule=\"evenodd\" fill-opacity=\"1\" /><path clip-path=\"url(#clip650)\" d=\"M 0 0 M80.2744 665.31 L85.1586 665.31 L85.1586 671.189 L80.2744 671.189 L80.2744 665.31 Z\" fill=\"#000000\" fill-rule=\"evenodd\" fill-opacity=\"1\" /><path clip-path=\"url(#clip650)\" d=\"M 0 0 M100.807 652.046 Q97.6585 652.046 95.8067 654.199 Q93.978 656.352 93.978 660.102 Q93.978 663.828 95.8067 666.004 Q97.6585 668.157 100.807 668.157 Q103.955 668.157 105.783 666.004 Q107.635 663.828 107.635 660.102 Q107.635 656.352 105.783 654.199 Q103.955 652.046 100.807 652.046 M110.089 637.393 L110.089 641.653 Q108.33 640.819 106.524 640.379 Q104.742 639.94 102.983 639.94 Q98.353 639.94 95.8993 643.065 Q93.4688 646.19 93.1215 652.509 Q94.4873 650.495 96.5474 649.43 Q98.6076 648.342 101.084 648.342 Q106.293 648.342 109.302 651.514 Q112.334 654.662 112.334 660.102 Q112.334 665.426 109.186 668.643 Q106.038 671.861 100.807 671.861 Q94.8113 671.861 91.6401 667.277 Q88.4688 662.671 88.4688 653.944 Q88.4688 645.75 92.3576 640.889 Q96.2465 636.004 102.797 636.004 Q104.557 636.004 106.339 636.352 Q108.145 636.699 110.089 637.393 Z\" fill=\"#000000\" fill-rule=\"evenodd\" fill-opacity=\"1\" /><path clip-path=\"url(#clip650)\" d=\"M 0 0 M63.5152 356.742 Q59.9041 356.742 58.0754 360.306 Q56.2699 363.848 56.2699 370.978 Q56.2699 378.084 58.0754 381.649 Q59.9041 385.19 63.5152 385.19 Q67.1494 385.19 68.955 381.649 Q70.7837 378.084 70.7837 370.978 Q70.7837 363.848 68.955 360.306 Q67.1494 356.742 63.5152 356.742 M63.5152 353.038 Q69.3254 353.038 72.3809 357.644 Q75.4596 362.228 75.4596 370.978 Q75.4596 379.704 72.3809 384.311 Q69.3254 388.894 63.5152 388.894 Q57.7051 388.894 54.6264 384.311 Q51.5708 379.704 51.5708 370.978 Q51.5708 362.228 54.6264 357.644 Q57.7051 353.038 63.5152 353.038 Z\" fill=\"#000000\" fill-rule=\"evenodd\" fill-opacity=\"1\" /><path clip-path=\"url(#clip650)\" d=\"M 0 0 M80.529 382.343 L85.4132 382.343 L85.4132 388.223 L80.529 388.223 L80.529 382.343 Z\" fill=\"#000000\" fill-rule=\"evenodd\" fill-opacity=\"1\" /><path clip-path=\"url(#clip650)\" d=\"M 0 0 M100.483 371.811 Q97.1493 371.811 95.228 373.593 Q93.3299 375.376 93.3299 378.501 Q93.3299 381.626 95.228 383.408 Q97.1493 385.19 100.483 385.19 Q103.816 385.19 105.737 383.408 Q107.658 381.603 107.658 378.501 Q107.658 375.376 105.737 373.593 Q103.839 371.811 100.483 371.811 M95.8067 369.82 Q92.7975 369.079 91.1077 367.019 Q89.441 364.959 89.441 361.996 Q89.441 357.853 92.3808 355.445 Q95.3437 353.038 100.483 353.038 Q105.645 353.038 108.584 355.445 Q111.524 357.853 111.524 361.996 Q111.524 364.959 109.834 367.019 Q108.168 369.079 105.182 369.82 Q108.561 370.607 110.436 372.899 Q112.334 375.191 112.334 378.501 Q112.334 383.524 109.256 386.209 Q106.2 388.894 100.483 388.894 Q94.765 388.894 91.6864 386.209 Q88.6308 383.524 88.6308 378.501 Q88.6308 375.191 90.529 372.899 Q92.4271 370.607 95.8067 369.82 M94.0937 362.436 Q94.0937 365.121 95.7604 366.626 Q97.4502 368.13 100.483 368.13 Q103.492 368.13 105.182 366.626 Q106.895 365.121 106.895 362.436 Q106.895 359.751 105.182 358.246 Q103.492 356.742 100.483 356.742 Q97.4502 356.742 95.7604 358.246 Q94.0937 359.751 94.0937 362.436 Z\" fill=\"#000000\" fill-rule=\"evenodd\" fill-opacity=\"1\" /><path clip-path=\"url(#clip650)\" d=\"M 0 0 M55.4597 101.321 L63.0985 101.321 L63.0985 74.9555 L54.7884 76.6222 L54.7884 72.3629 L63.0522 70.6963 L67.7281 70.6963 L67.7281 101.321 L75.367 101.321 L75.367 105.256 L55.4597 105.256 L55.4597 101.321 Z\" fill=\"#000000\" fill-rule=\"evenodd\" fill-opacity=\"1\" /><path clip-path=\"url(#clip650)\" d=\"M 0 0 M80.4364 99.3767 L85.3206 99.3767 L85.3206 105.256 L80.4364 105.256 L80.4364 99.3767 Z\" fill=\"#000000\" fill-rule=\"evenodd\" fill-opacity=\"1\" /><path clip-path=\"url(#clip650)\" d=\"M 0 0 M100.39 73.775 Q96.7789 73.775 94.9502 77.3398 Q93.1447 80.8814 93.1447 88.011 Q93.1447 95.1174 94.9502 98.6822 Q96.7789 102.224 100.39 102.224 Q104.024 102.224 105.83 98.6822 Q107.658 95.1174 107.658 88.011 Q107.658 80.8814 105.83 77.3398 Q104.024 73.775 100.39 73.775 M100.39 70.0713 Q106.2 70.0713 109.256 74.6777 Q112.334 79.261 112.334 88.011 Q112.334 96.7378 109.256 101.344 Q106.2 105.928 100.39 105.928 Q94.5799 105.928 91.5012 101.344 Q88.4456 96.7378 88.4456 88.011 Q88.4456 79.261 91.5012 74.6777 Q94.5799 70.0713 100.39 70.0713 Z\" fill=\"#000000\" fill-rule=\"evenodd\" fill-opacity=\"1\" /><polyline clip-path=\"url(#clip652)\" style=\"stroke:#009af9; stroke-width:4; stroke-opacity:1; fill:none\" points=\"\n",
       "  210.724,87.9763 441.795,512.426 672.867,809.541 903.938,1017.52 1135.01,1163.11 1366.08,1265.02 1597.15,1336.36 1828.22,1386.29 2059.3,1421.25 2290.37,1445.72 \n",
       "  \n",
       "  \"/>\n",
       "<path clip-path=\"url(#clip650)\" d=\"\n",
       "M1983.32 216.178 L2279.28 216.178 L2279.28 95.2176 L1983.32 95.2176  Z\n",
       "  \" fill=\"#ffffff\" fill-rule=\"evenodd\" fill-opacity=\"1\"/>\n",
       "<polyline clip-path=\"url(#clip650)\" style=\"stroke:#000000; stroke-width:4; stroke-opacity:1; fill:none\" points=\"\n",
       "  1983.32,216.178 2279.28,216.178 2279.28,95.2176 1983.32,95.2176 1983.32,216.178 \n",
       "  \"/>\n",
       "<polyline clip-path=\"url(#clip650)\" style=\"stroke:#009af9; stroke-width:4; stroke-opacity:1; fill:none\" points=\"\n",
       "  2007.81,155.698 2154.78,155.698 \n",
       "  \"/>\n",
       "<path clip-path=\"url(#clip650)\" d=\"M 0 0 M2193.11 175.385 Q2191.31 180.015 2189.59 181.427 Q2187.88 182.839 2185.01 182.839 L2181.61 182.839 L2181.61 179.274 L2184.11 179.274 Q2185.87 179.274 2186.84 178.44 Q2187.81 177.607 2188.99 174.505 L2189.76 172.561 L2179.27 147.052 L2183.78 147.052 L2191.89 167.329 L2199.99 147.052 L2204.5 147.052 L2193.11 175.385 Z\" fill=\"#000000\" fill-rule=\"evenodd\" fill-opacity=\"1\" /><path clip-path=\"url(#clip650)\" d=\"M 0 0 M2210.38 169.042 L2218.02 169.042 L2218.02 142.677 L2209.71 144.343 L2209.71 140.084 L2217.97 138.418 L2222.65 138.418 L2222.65 169.042 L2230.29 169.042 L2230.29 172.978 L2210.38 172.978 L2210.38 169.042 Z\" fill=\"#000000\" fill-rule=\"evenodd\" fill-opacity=\"1\" /></svg>\n"
      ]
     },
     "execution_count": 31,
     "metadata": {},
     "output_type": "execute_result"
    }
   ],
   "source": [
    "using Plots\n",
    "plot(X)"
   ]
  },
  {
   "cell_type": "code",
   "execution_count": 32,
   "metadata": {},
   "outputs": [
    {
     "data": {
      "text/plain": [
       "2×4 Array{Int64,2}:\n",
       " 1  2  3  4\n",
       " 2  4  6  8"
      ]
     },
     "execution_count": 32,
     "metadata": {},
     "output_type": "execute_result"
    }
   ],
   "source": [
    "A = [1 2 3 4; 2 4 6 8]"
   ]
  },
  {
   "cell_type": "code",
   "execution_count": 33,
   "metadata": {},
   "outputs": [
    {
     "data": {
      "text/plain": [
       "10-element Array{Float64,1}:\n",
       " 1.0\n",
       " 0.7\n",
       " 0.48999999999999994\n",
       " 0.3429999999999999\n",
       " 0.24009999999999992\n",
       " 0.16806999999999994\n",
       " 0.11764899999999995\n",
       " 0.08235429999999996\n",
       " 0.05764800999999997\n",
       " 0.04035360699999998"
      ]
     },
     "execution_count": 33,
     "metadata": {},
     "output_type": "execute_result"
    }
   ],
   "source": [
    "X"
   ]
  },
  {
   "cell_type": "code",
   "execution_count": null,
   "metadata": {},
   "outputs": [],
   "source": [
    "\n"
   ]
  },
  {
   "cell_type": "code",
   "execution_count": null,
   "metadata": {},
   "outputs": [],
   "source": []
  },
  {
   "cell_type": "markdown",
   "metadata": {},
   "source": [
    "## Plotting"
   ]
  },
  {
   "cell_type": "code",
   "execution_count": 34,
   "metadata": {},
   "outputs": [
    {
     "name": "stderr",
     "output_type": "stream",
     "text": [
      "\u001b[32m\u001b[1mPrecompiling\u001b[22m\u001b[39m project...\n"
     ]
    }
   ],
   "source": [
    "Pkg.precompile()"
   ]
  },
  {
   "cell_type": "code",
   "execution_count": 35,
   "metadata": {},
   "outputs": [],
   "source": [
    "using Plots"
   ]
  },
  {
   "cell_type": "code",
   "execution_count": null,
   "metadata": {},
   "outputs": [],
   "source": []
  },
  {
   "cell_type": "markdown",
   "metadata": {},
   "source": [
    "# Exercise\n",
    "> Plot the first 5 square numbers."
   ]
  },
  {
   "cell_type": "code",
   "execution_count": 36,
   "metadata": {},
   "outputs": [
    {
     "data": {
      "image/svg+xml": [
       "<?xml version=\"1.0\" encoding=\"utf-8\"?>\n",
       "<svg xmlns=\"http://www.w3.org/2000/svg\" xmlns:xlink=\"http://www.w3.org/1999/xlink\" width=\"600\" height=\"400\" viewBox=\"0 0 2400 1600\">\n",
       "<defs>\n",
       "  <clipPath id=\"clip690\">\n",
       "    <rect x=\"0\" y=\"0\" width=\"2400\" height=\"1600\"/>\n",
       "  </clipPath>\n",
       "</defs>\n",
       "<path clip-path=\"url(#clip690)\" d=\"\n",
       "M0 1600 L2400 1600 L2400 0 L0 0  Z\n",
       "  \" fill=\"#ffffff\" fill-rule=\"evenodd\" fill-opacity=\"1\"/>\n",
       "<defs>\n",
       "  <clipPath id=\"clip691\">\n",
       "    <rect x=\"480\" y=\"0\" width=\"1681\" height=\"1600\"/>\n",
       "  </clipPath>\n",
       "</defs>\n",
       "<path clip-path=\"url(#clip690)\" d=\"\n",
       "M135.95 1486.45 L2352.76 1486.45 L2352.76 47.2441 L135.95 47.2441  Z\n",
       "  \" fill=\"#ffffff\" fill-rule=\"evenodd\" fill-opacity=\"1\"/>\n",
       "<defs>\n",
       "  <clipPath id=\"clip692\">\n",
       "    <rect x=\"135\" y=\"47\" width=\"2218\" height=\"1440\"/>\n",
       "  </clipPath>\n",
       "</defs>\n",
       "<polyline clip-path=\"url(#clip692)\" style=\"stroke:#000000; stroke-width:2; stroke-opacity:0.1; fill:none\" points=\"\n",
       "  198.69,1486.45 198.69,47.2441 \n",
       "  \"/>\n",
       "<polyline clip-path=\"url(#clip692)\" style=\"stroke:#000000; stroke-width:2; stroke-opacity:0.1; fill:none\" points=\"\n",
       "  721.522,1486.45 721.522,47.2441 \n",
       "  \"/>\n",
       "<polyline clip-path=\"url(#clip692)\" style=\"stroke:#000000; stroke-width:2; stroke-opacity:0.1; fill:none\" points=\"\n",
       "  1244.35,1486.45 1244.35,47.2441 \n",
       "  \"/>\n",
       "<polyline clip-path=\"url(#clip692)\" style=\"stroke:#000000; stroke-width:2; stroke-opacity:0.1; fill:none\" points=\"\n",
       "  1767.18,1486.45 1767.18,47.2441 \n",
       "  \"/>\n",
       "<polyline clip-path=\"url(#clip692)\" style=\"stroke:#000000; stroke-width:2; stroke-opacity:0.1; fill:none\" points=\"\n",
       "  2290.02,1486.45 2290.02,47.2441 \n",
       "  \"/>\n",
       "<polyline clip-path=\"url(#clip690)\" style=\"stroke:#000000; stroke-width:4; stroke-opacity:1; fill:none\" points=\"\n",
       "  135.95,1486.45 2352.76,1486.45 \n",
       "  \"/>\n",
       "<polyline clip-path=\"url(#clip690)\" style=\"stroke:#000000; stroke-width:4; stroke-opacity:1; fill:none\" points=\"\n",
       "  198.69,1486.45 198.69,1469.18 \n",
       "  \"/>\n",
       "<polyline clip-path=\"url(#clip690)\" style=\"stroke:#000000; stroke-width:4; stroke-opacity:1; fill:none\" points=\"\n",
       "  721.522,1486.45 721.522,1469.18 \n",
       "  \"/>\n",
       "<polyline clip-path=\"url(#clip690)\" style=\"stroke:#000000; stroke-width:4; stroke-opacity:1; fill:none\" points=\"\n",
       "  1244.35,1486.45 1244.35,1469.18 \n",
       "  \"/>\n",
       "<polyline clip-path=\"url(#clip690)\" style=\"stroke:#000000; stroke-width:4; stroke-opacity:1; fill:none\" points=\"\n",
       "  1767.18,1486.45 1767.18,1469.18 \n",
       "  \"/>\n",
       "<polyline clip-path=\"url(#clip690)\" style=\"stroke:#000000; stroke-width:4; stroke-opacity:1; fill:none\" points=\"\n",
       "  2290.02,1486.45 2290.02,1469.18 \n",
       "  \"/>\n",
       "<path clip-path=\"url(#clip690)\" d=\"M 0 0 M189.072 1543.18 L196.711 1543.18 L196.711 1516.82 L188.401 1518.49 L188.401 1514.23 L196.665 1512.56 L201.34 1512.56 L201.34 1543.18 L208.979 1543.18 L208.979 1547.12 L189.072 1547.12 L189.072 1543.18 Z\" fill=\"#000000\" fill-rule=\"evenodd\" fill-opacity=\"1\" /><path clip-path=\"url(#clip690)\" d=\"M 0 0 M716.174 1543.18 L732.494 1543.18 L732.494 1547.12 L710.549 1547.12 L710.549 1543.18 Q713.211 1540.43 717.795 1535.8 Q722.401 1531.15 723.582 1529.81 Q725.827 1527.28 726.707 1525.55 Q727.609 1523.79 727.609 1522.1 Q727.609 1519.34 725.665 1517.61 Q723.744 1515.87 720.642 1515.87 Q718.443 1515.87 715.989 1516.63 Q713.559 1517.4 710.781 1518.95 L710.781 1514.23 Q713.605 1513.09 716.059 1512.51 Q718.512 1511.93 720.549 1511.93 Q725.92 1511.93 729.114 1514.62 Q732.308 1517.31 732.308 1521.8 Q732.308 1523.93 731.498 1525.85 Q730.711 1527.74 728.605 1530.34 Q728.026 1531.01 724.924 1534.23 Q721.822 1537.42 716.174 1543.18 Z\" fill=\"#000000\" fill-rule=\"evenodd\" fill-opacity=\"1\" /><path clip-path=\"url(#clip690)\" d=\"M 0 0 M1248.6 1528.49 Q1251.96 1529.2 1253.83 1531.47 Q1255.73 1533.74 1255.73 1537.07 Q1255.73 1542.19 1252.21 1544.99 Q1248.69 1547.79 1242.21 1547.79 Q1240.04 1547.79 1237.72 1547.35 Q1235.43 1546.93 1232.98 1546.08 L1232.98 1541.56 Q1234.92 1542.7 1237.24 1543.28 Q1239.55 1543.86 1242.07 1543.86 Q1246.47 1543.86 1248.76 1542.12 Q1251.08 1540.38 1251.08 1537.07 Q1251.08 1534.02 1248.92 1532.31 Q1246.8 1530.57 1242.98 1530.57 L1238.95 1530.57 L1238.95 1526.73 L1243.16 1526.73 Q1246.61 1526.73 1248.44 1525.36 Q1250.27 1523.97 1250.27 1521.38 Q1250.27 1518.72 1248.37 1517.31 Q1246.49 1515.87 1242.98 1515.87 Q1241.05 1515.87 1238.86 1516.29 Q1236.66 1516.7 1234.02 1517.58 L1234.02 1513.42 Q1236.68 1512.68 1238.99 1512.31 Q1241.33 1511.93 1243.39 1511.93 Q1248.72 1511.93 1251.82 1514.37 Q1254.92 1516.77 1254.92 1520.89 Q1254.92 1523.76 1253.28 1525.75 Q1251.63 1527.72 1248.6 1528.49 Z\" fill=\"#000000\" fill-rule=\"evenodd\" fill-opacity=\"1\" /><path clip-path=\"url(#clip690)\" d=\"M 0 0 M1770.19 1516.63 L1758.39 1535.08 L1770.19 1535.08 L1770.19 1516.63 M1768.97 1512.56 L1774.85 1512.56 L1774.85 1535.08 L1779.78 1535.08 L1779.78 1538.97 L1774.85 1538.97 L1774.85 1547.12 L1770.19 1547.12 L1770.19 1538.97 L1754.59 1538.97 L1754.59 1534.46 L1768.97 1512.56 Z\" fill=\"#000000\" fill-rule=\"evenodd\" fill-opacity=\"1\" /><path clip-path=\"url(#clip690)\" d=\"M 0 0 M2280.29 1512.56 L2298.65 1512.56 L2298.65 1516.5 L2284.58 1516.5 L2284.58 1524.97 Q2285.59 1524.62 2286.61 1524.46 Q2287.63 1524.27 2288.65 1524.27 Q2294.44 1524.27 2297.82 1527.44 Q2301.2 1530.62 2301.2 1536.03 Q2301.2 1541.61 2297.72 1544.71 Q2294.25 1547.79 2287.93 1547.79 Q2285.76 1547.79 2283.49 1547.42 Q2281.24 1547.05 2278.84 1546.31 L2278.84 1541.61 Q2280.92 1542.74 2283.14 1543.3 Q2285.36 1543.86 2287.84 1543.86 Q2291.84 1543.86 2294.18 1541.75 Q2296.52 1539.64 2296.52 1536.03 Q2296.52 1532.42 2294.18 1530.31 Q2291.84 1528.21 2287.84 1528.21 Q2285.97 1528.21 2284.09 1528.62 Q2282.24 1529.04 2280.29 1529.92 L2280.29 1512.56 Z\" fill=\"#000000\" fill-rule=\"evenodd\" fill-opacity=\"1\" /><polyline clip-path=\"url(#clip692)\" style=\"stroke:#000000; stroke-width:2; stroke-opacity:0.1; fill:none\" points=\"\n",
       "  135.95,1219.43 2352.76,1219.43 \n",
       "  \"/>\n",
       "<polyline clip-path=\"url(#clip692)\" style=\"stroke:#000000; stroke-width:2; stroke-opacity:0.1; fill:none\" points=\"\n",
       "  135.95,936.563 2352.76,936.563 \n",
       "  \"/>\n",
       "<polyline clip-path=\"url(#clip692)\" style=\"stroke:#000000; stroke-width:2; stroke-opacity:0.1; fill:none\" points=\"\n",
       "  135.95,653.701 2352.76,653.701 \n",
       "  \"/>\n",
       "<polyline clip-path=\"url(#clip692)\" style=\"stroke:#000000; stroke-width:2; stroke-opacity:0.1; fill:none\" points=\"\n",
       "  135.95,370.839 2352.76,370.839 \n",
       "  \"/>\n",
       "<polyline clip-path=\"url(#clip692)\" style=\"stroke:#000000; stroke-width:2; stroke-opacity:0.1; fill:none\" points=\"\n",
       "  135.95,87.9763 2352.76,87.9763 \n",
       "  \"/>\n",
       "<polyline clip-path=\"url(#clip690)\" style=\"stroke:#000000; stroke-width:4; stroke-opacity:1; fill:none\" points=\"\n",
       "  135.95,1486.45 135.95,47.2441 \n",
       "  \"/>\n",
       "<polyline clip-path=\"url(#clip690)\" style=\"stroke:#000000; stroke-width:4; stroke-opacity:1; fill:none\" points=\"\n",
       "  135.95,1219.43 162.552,1219.43 \n",
       "  \"/>\n",
       "<polyline clip-path=\"url(#clip690)\" style=\"stroke:#000000; stroke-width:4; stroke-opacity:1; fill:none\" points=\"\n",
       "  135.95,936.563 162.552,936.563 \n",
       "  \"/>\n",
       "<polyline clip-path=\"url(#clip690)\" style=\"stroke:#000000; stroke-width:4; stroke-opacity:1; fill:none\" points=\"\n",
       "  135.95,653.701 162.552,653.701 \n",
       "  \"/>\n",
       "<polyline clip-path=\"url(#clip690)\" style=\"stroke:#000000; stroke-width:4; stroke-opacity:1; fill:none\" points=\"\n",
       "  135.95,370.839 162.552,370.839 \n",
       "  \"/>\n",
       "<polyline clip-path=\"url(#clip690)\" style=\"stroke:#000000; stroke-width:4; stroke-opacity:1; fill:none\" points=\"\n",
       "  135.95,87.9763 162.552,87.9763 \n",
       "  \"/>\n",
       "<path clip-path=\"url(#clip690)\" d=\"M 0 0 M79.0475 1202.15 L97.4039 1202.15 L97.4039 1206.08 L83.3299 1206.08 L83.3299 1214.55 Q84.3484 1214.21 85.3669 1214.04 Q86.3855 1213.86 87.404 1213.86 Q93.191 1213.86 96.5706 1217.03 Q99.9502 1220.2 99.9502 1225.62 Q99.9502 1231.2 96.478 1234.3 Q93.0058 1237.38 86.6864 1237.38 Q84.5105 1237.38 82.242 1237.01 Q79.9966 1236.64 77.5892 1235.9 L77.5892 1231.2 Q79.6725 1232.33 81.8947 1232.89 Q84.1169 1233.44 86.5938 1233.44 Q90.5984 1233.44 92.9363 1231.34 Q95.2743 1229.23 95.2743 1225.62 Q95.2743 1222.01 92.9363 1219.9 Q90.5984 1217.79 86.5938 1217.79 Q84.7188 1217.79 82.8438 1218.21 Q80.992 1218.63 79.0475 1219.51 L79.0475 1202.15 Z\" fill=\"#000000\" fill-rule=\"evenodd\" fill-opacity=\"1\" /><path clip-path=\"url(#clip690)\" d=\"M 0 0 M53.0292 949.908 L60.668 949.908 L60.668 923.543 L52.3579 925.209 L52.3579 920.95 L60.6217 919.283 L65.2976 919.283 L65.2976 949.908 L72.9365 949.908 L72.9365 953.843 L53.0292 953.843 L53.0292 949.908 Z\" fill=\"#000000\" fill-rule=\"evenodd\" fill-opacity=\"1\" /><path clip-path=\"url(#clip690)\" d=\"M 0 0 M88.0058 922.362 Q84.3947 922.362 82.566 925.927 Q80.7605 929.469 80.7605 936.598 Q80.7605 943.705 82.566 947.269 Q84.3947 950.811 88.0058 950.811 Q91.6401 950.811 93.4456 947.269 Q95.2743 943.705 95.2743 936.598 Q95.2743 929.469 93.4456 925.927 Q91.6401 922.362 88.0058 922.362 M88.0058 918.658 Q93.816 918.658 96.8715 923.265 Q99.9502 927.848 99.9502 936.598 Q99.9502 945.325 96.8715 949.931 Q93.816 954.515 88.0058 954.515 Q82.1957 954.515 79.117 949.931 Q76.0614 945.325 76.0614 936.598 Q76.0614 927.848 79.117 923.265 Q82.1957 918.658 88.0058 918.658 Z\" fill=\"#000000\" fill-rule=\"evenodd\" fill-opacity=\"1\" /><path clip-path=\"url(#clip690)\" d=\"M 0 0 M54.0245 667.046 L61.6634 667.046 L61.6634 640.68 L53.3532 642.347 L53.3532 638.088 L61.6171 636.421 L66.293 636.421 L66.293 667.046 L73.9318 667.046 L73.9318 670.981 L54.0245 670.981 L54.0245 667.046 Z\" fill=\"#000000\" fill-rule=\"evenodd\" fill-opacity=\"1\" /><path clip-path=\"url(#clip690)\" d=\"M 0 0 M79.0475 636.421 L97.4039 636.421 L97.4039 640.356 L83.3299 640.356 L83.3299 648.828 Q84.3484 648.481 85.3669 648.319 Q86.3855 648.134 87.404 648.134 Q93.191 648.134 96.5706 651.305 Q99.9502 654.476 99.9502 659.893 Q99.9502 665.472 96.478 668.574 Q93.0058 671.652 86.6864 671.652 Q84.5105 671.652 82.242 671.282 Q79.9966 670.912 77.5892 670.171 L77.5892 665.472 Q79.6725 666.606 81.8947 667.162 Q84.1169 667.717 86.5938 667.717 Q90.5984 667.717 92.9363 665.611 Q95.2743 663.504 95.2743 659.893 Q95.2743 656.282 92.9363 654.176 Q90.5984 652.069 86.5938 652.069 Q84.7188 652.069 82.8438 652.486 Q80.992 652.902 79.0475 653.782 L79.0475 636.421 Z\" fill=\"#000000\" fill-rule=\"evenodd\" fill-opacity=\"1\" /><path clip-path=\"url(#clip690)\" d=\"M 0 0 M56.6171 384.183 L72.9365 384.183 L72.9365 388.119 L50.9921 388.119 L50.9921 384.183 Q53.6541 381.429 58.2375 376.799 Q62.8439 372.147 64.0245 370.804 Q66.2698 368.281 67.1494 366.545 Q68.0522 364.785 68.0522 363.096 Q68.0522 360.341 66.1078 358.605 Q64.1865 356.869 61.0847 356.869 Q58.8856 356.869 56.4319 357.633 Q54.0014 358.397 51.2236 359.948 L51.2236 355.225 Q54.0477 354.091 56.5014 353.512 Q58.955 352.934 60.9921 352.934 Q66.3624 352.934 69.5568 355.619 Q72.7513 358.304 72.7513 362.795 Q72.7513 364.924 71.9411 366.846 Q71.1541 368.744 69.0476 371.336 Q68.4689 372.008 65.367 375.225 Q62.2652 378.42 56.6171 384.183 Z\" fill=\"#000000\" fill-rule=\"evenodd\" fill-opacity=\"1\" /><path clip-path=\"url(#clip690)\" d=\"M 0 0 M88.0058 356.637 Q84.3947 356.637 82.566 360.202 Q80.7605 363.744 80.7605 370.873 Q80.7605 377.98 82.566 381.545 Q84.3947 385.086 88.0058 385.086 Q91.6401 385.086 93.4456 381.545 Q95.2743 377.98 95.2743 370.873 Q95.2743 363.744 93.4456 360.202 Q91.6401 356.637 88.0058 356.637 M88.0058 352.934 Q93.816 352.934 96.8715 357.54 Q99.9502 362.123 99.9502 370.873 Q99.9502 379.6 96.8715 384.207 Q93.816 388.79 88.0058 388.79 Q82.1957 388.79 79.117 384.207 Q76.0614 379.6 76.0614 370.873 Q76.0614 362.123 79.117 357.54 Q82.1957 352.934 88.0058 352.934 Z\" fill=\"#000000\" fill-rule=\"evenodd\" fill-opacity=\"1\" /><path clip-path=\"url(#clip690)\" d=\"M 0 0 M57.6125 101.321 L73.9318 101.321 L73.9318 105.256 L51.9875 105.256 L51.9875 101.321 Q54.6495 98.5665 59.2328 93.9369 Q63.8393 89.2841 65.0198 87.9416 Q67.2652 85.4184 68.1448 83.6823 Q69.0476 81.9231 69.0476 80.2333 Q69.0476 77.4786 67.1032 75.7425 Q65.1819 74.0064 62.08 74.0064 Q59.881 74.0064 57.4273 74.7703 Q54.9967 75.5342 52.219 77.0851 L52.219 72.3629 Q55.043 71.2287 57.4967 70.65 Q59.9504 70.0713 61.9874 70.0713 Q67.3578 70.0713 70.5522 72.7565 Q73.7466 75.4416 73.7466 79.9323 Q73.7466 82.062 72.9365 83.9832 Q72.1494 85.8814 70.0429 88.474 Q69.4642 89.1453 66.3624 92.3628 Q63.2606 95.5573 57.6125 101.321 Z\" fill=\"#000000\" fill-rule=\"evenodd\" fill-opacity=\"1\" /><path clip-path=\"url(#clip690)\" d=\"M 0 0 M79.0475 70.6963 L97.4039 70.6963 L97.4039 74.6314 L83.3299 74.6314 L83.3299 83.1036 Q84.3484 82.7564 85.3669 82.5944 Q86.3855 82.4092 87.404 82.4092 Q93.191 82.4092 96.5706 85.5805 Q99.9502 88.7517 99.9502 94.1684 Q99.9502 99.747 96.478 102.849 Q93.0058 105.928 86.6864 105.928 Q84.5105 105.928 82.242 105.557 Q79.9966 105.187 77.5892 104.446 L77.5892 99.747 Q79.6725 100.881 81.8947 101.437 Q84.1169 101.992 86.5938 101.992 Q90.5984 101.992 92.9363 99.8859 Q95.2743 97.7795 95.2743 94.1684 Q95.2743 90.5573 92.9363 88.4508 Q90.5984 86.3443 86.5938 86.3443 Q84.7188 86.3443 82.8438 86.761 Q80.992 87.1777 79.0475 88.0573 L79.0475 70.6963 Z\" fill=\"#000000\" fill-rule=\"evenodd\" fill-opacity=\"1\" /><polyline clip-path=\"url(#clip692)\" style=\"stroke:#009af9; stroke-width:4; stroke-opacity:1; fill:none\" points=\"\n",
       "  198.69,1445.72 721.522,1276 1244.35,993.136 1767.18,597.129 2290.02,87.9763 \n",
       "  \"/>\n",
       "<path clip-path=\"url(#clip690)\" d=\"\n",
       "M1981.53 216.178 L2278.86 216.178 L2278.86 95.2176 L1981.53 95.2176  Z\n",
       "  \" fill=\"#ffffff\" fill-rule=\"evenodd\" fill-opacity=\"1\"/>\n",
       "<polyline clip-path=\"url(#clip690)\" style=\"stroke:#000000; stroke-width:4; stroke-opacity:1; fill:none\" points=\"\n",
       "  1981.53,216.178 2278.86,216.178 2278.86,95.2176 1981.53,95.2176 1981.53,216.178 \n",
       "  \"/>\n",
       "<polyline clip-path=\"url(#clip690)\" style=\"stroke:#009af9; stroke-width:4; stroke-opacity:1; fill:none\" points=\"\n",
       "  2006.16,155.698 2153.95,155.698 \n",
       "  \"/>\n",
       "<path clip-path=\"url(#clip690)\" d=\"M 0 0 M2192.42 175.385 Q2190.62 180.015 2188.91 181.427 Q2187.19 182.839 2184.32 182.839 L2180.92 182.839 L2180.92 179.274 L2183.42 179.274 Q2185.18 179.274 2186.15 178.44 Q2187.12 177.607 2188.3 174.505 L2189.07 172.561 L2178.58 147.052 L2183.1 147.052 L2191.2 167.329 L2199.3 147.052 L2203.81 147.052 L2192.42 175.385 Z\" fill=\"#000000\" fill-rule=\"evenodd\" fill-opacity=\"1\" /><path clip-path=\"url(#clip690)\" d=\"M 0 0 M2209.69 169.042 L2217.33 169.042 L2217.33 142.677 L2209.02 144.343 L2209.02 140.084 L2217.29 138.418 L2221.96 138.418 L2221.96 169.042 L2229.6 169.042 L2229.6 172.978 L2209.69 172.978 L2209.69 169.042 Z\" fill=\"#000000\" fill-rule=\"evenodd\" fill-opacity=\"1\" /></svg>\n"
      ]
     },
     "execution_count": 36,
     "metadata": {},
     "output_type": "execute_result"
    }
   ],
   "source": [
    "plot([1, 2, 3, 4, 5] .^ 2)"
   ]
  },
  {
   "cell_type": "markdown",
   "metadata": {},
   "source": [
    "### Stability properties\n",
    "Remember, for first-order difference equation\n",
    "$$\n",
    "x_t = a x_{t-1}\n",
    "$$\n",
    "Solution\n",
    "$$\n",
    "x_t = c a^t\n",
    "$$\n",
    "with $c$ pinned down by the boundary condition.\n",
    "\n",
    "Stable when\n",
    "$$\n",
    "|a| < 1.\n",
    "$$"
   ]
  },
  {
   "cell_type": "code",
   "execution_count": 37,
   "metadata": {},
   "outputs": [
    {
     "data": {
      "image/svg+xml": [
       "<?xml version=\"1.0\" encoding=\"utf-8\"?>\n",
       "<svg xmlns=\"http://www.w3.org/2000/svg\" xmlns:xlink=\"http://www.w3.org/1999/xlink\" width=\"600\" height=\"400\" viewBox=\"0 0 2400 1600\">\n",
       "<defs>\n",
       "  <clipPath id=\"clip730\">\n",
       "    <rect x=\"0\" y=\"0\" width=\"2400\" height=\"1600\"/>\n",
       "  </clipPath>\n",
       "</defs>\n",
       "<path clip-path=\"url(#clip730)\" d=\"\n",
       "M0 1600 L2400 1600 L2400 0 L0 0  Z\n",
       "  \" fill=\"#ffffff\" fill-rule=\"evenodd\" fill-opacity=\"1\"/>\n",
       "<defs>\n",
       "  <clipPath id=\"clip731\">\n",
       "    <rect x=\"480\" y=\"0\" width=\"1681\" height=\"1600\"/>\n",
       "  </clipPath>\n",
       "</defs>\n",
       "<path clip-path=\"url(#clip730)\" d=\"\n",
       "M142.455 1486.45 L2352.76 1486.45 L2352.76 47.2441 L142.455 47.2441  Z\n",
       "  \" fill=\"#ffffff\" fill-rule=\"evenodd\" fill-opacity=\"1\"/>\n",
       "<defs>\n",
       "  <clipPath id=\"clip732\">\n",
       "    <rect x=\"142\" y=\"47\" width=\"2211\" height=\"1440\"/>\n",
       "  </clipPath>\n",
       "</defs>\n",
       "<polyline clip-path=\"url(#clip732)\" style=\"stroke:#000000; stroke-width:2; stroke-opacity:0.1; fill:none\" points=\"\n",
       "  183.948,1486.45 183.948,47.2441 \n",
       "  \"/>\n",
       "<polyline clip-path=\"url(#clip732)\" style=\"stroke:#000000; stroke-width:2; stroke-opacity:0.1; fill:none\" points=\"\n",
       "  710.511,1486.45 710.511,47.2441 \n",
       "  \"/>\n",
       "<polyline clip-path=\"url(#clip732)\" style=\"stroke:#000000; stroke-width:2; stroke-opacity:0.1; fill:none\" points=\"\n",
       "  1237.07,1486.45 1237.07,47.2441 \n",
       "  \"/>\n",
       "<polyline clip-path=\"url(#clip732)\" style=\"stroke:#000000; stroke-width:2; stroke-opacity:0.1; fill:none\" points=\"\n",
       "  1763.64,1486.45 1763.64,47.2441 \n",
       "  \"/>\n",
       "<polyline clip-path=\"url(#clip732)\" style=\"stroke:#000000; stroke-width:2; stroke-opacity:0.1; fill:none\" points=\"\n",
       "  2290.2,1486.45 2290.2,47.2441 \n",
       "  \"/>\n",
       "<polyline clip-path=\"url(#clip730)\" style=\"stroke:#000000; stroke-width:4; stroke-opacity:1; fill:none\" points=\"\n",
       "  142.455,1486.45 2352.76,1486.45 \n",
       "  \"/>\n",
       "<polyline clip-path=\"url(#clip730)\" style=\"stroke:#000000; stroke-width:4; stroke-opacity:1; fill:none\" points=\"\n",
       "  183.948,1486.45 183.948,1469.18 \n",
       "  \"/>\n",
       "<polyline clip-path=\"url(#clip730)\" style=\"stroke:#000000; stroke-width:4; stroke-opacity:1; fill:none\" points=\"\n",
       "  710.511,1486.45 710.511,1469.18 \n",
       "  \"/>\n",
       "<polyline clip-path=\"url(#clip730)\" style=\"stroke:#000000; stroke-width:4; stroke-opacity:1; fill:none\" points=\"\n",
       "  1237.07,1486.45 1237.07,1469.18 \n",
       "  \"/>\n",
       "<polyline clip-path=\"url(#clip730)\" style=\"stroke:#000000; stroke-width:4; stroke-opacity:1; fill:none\" points=\"\n",
       "  1763.64,1486.45 1763.64,1469.18 \n",
       "  \"/>\n",
       "<polyline clip-path=\"url(#clip730)\" style=\"stroke:#000000; stroke-width:4; stroke-opacity:1; fill:none\" points=\"\n",
       "  2290.2,1486.45 2290.2,1469.18 \n",
       "  \"/>\n",
       "<path clip-path=\"url(#clip730)\" d=\"M 0 0 M183.948 1515.64 Q180.337 1515.64 178.508 1519.2 Q176.703 1522.75 176.703 1529.87 Q176.703 1536.98 178.508 1540.55 Q180.337 1544.09 183.948 1544.09 Q187.582 1544.09 189.388 1540.55 Q191.216 1536.98 191.216 1529.87 Q191.216 1522.75 189.388 1519.2 Q187.582 1515.64 183.948 1515.64 M183.948 1511.93 Q189.758 1511.93 192.814 1516.54 Q195.892 1521.12 195.892 1529.87 Q195.892 1538.6 192.814 1543.21 Q189.758 1547.79 183.948 1547.79 Q178.138 1547.79 175.059 1543.21 Q172.004 1538.6 172.004 1529.87 Q172.004 1521.12 175.059 1516.54 Q178.138 1511.93 183.948 1511.93 Z\" fill=\"#000000\" fill-rule=\"evenodd\" fill-opacity=\"1\" /><path clip-path=\"url(#clip730)\" d=\"M 0 0 M692.155 1543.18 L708.474 1543.18 L708.474 1547.12 L686.53 1547.12 L686.53 1543.18 Q689.192 1540.43 693.775 1535.8 Q698.381 1531.15 699.562 1529.81 Q701.807 1527.28 702.687 1525.55 Q703.59 1523.79 703.59 1522.1 Q703.59 1519.34 701.645 1517.61 Q699.724 1515.87 696.622 1515.87 Q694.423 1515.87 691.969 1516.63 Q689.539 1517.4 686.761 1518.95 L686.761 1514.23 Q689.585 1513.09 692.039 1512.51 Q694.493 1511.93 696.53 1511.93 Q701.9 1511.93 705.094 1514.62 Q708.289 1517.31 708.289 1521.8 Q708.289 1523.93 707.479 1525.85 Q706.692 1527.74 704.585 1530.34 Q704.006 1531.01 700.905 1534.23 Q697.803 1537.42 692.155 1543.18 Z\" fill=\"#000000\" fill-rule=\"evenodd\" fill-opacity=\"1\" /><path clip-path=\"url(#clip730)\" d=\"M 0 0 M713.59 1512.56 L731.946 1512.56 L731.946 1516.5 L717.872 1516.5 L717.872 1524.97 Q718.891 1524.62 719.909 1524.46 Q720.928 1524.27 721.946 1524.27 Q727.733 1524.27 731.113 1527.44 Q734.492 1530.62 734.492 1536.03 Q734.492 1541.61 731.02 1544.71 Q727.548 1547.79 721.229 1547.79 Q719.053 1547.79 716.784 1547.42 Q714.539 1547.05 712.131 1546.31 L712.131 1541.61 Q714.215 1542.74 716.437 1543.3 Q718.659 1543.86 721.136 1543.86 Q725.141 1543.86 727.479 1541.75 Q729.816 1539.64 729.816 1536.03 Q729.816 1532.42 727.479 1530.31 Q725.141 1528.21 721.136 1528.21 Q719.261 1528.21 717.386 1528.62 Q715.534 1529.04 713.59 1529.92 L713.59 1512.56 Z\" fill=\"#000000\" fill-rule=\"evenodd\" fill-opacity=\"1\" /><path clip-path=\"url(#clip730)\" d=\"M 0 0 M1213.85 1512.56 L1232.2 1512.56 L1232.2 1516.5 L1218.13 1516.5 L1218.13 1524.97 Q1219.15 1524.62 1220.16 1524.46 Q1221.18 1524.27 1222.2 1524.27 Q1227.99 1524.27 1231.37 1527.44 Q1234.75 1530.62 1234.75 1536.03 Q1234.75 1541.61 1231.28 1544.71 Q1227.8 1547.79 1221.48 1547.79 Q1219.31 1547.79 1217.04 1547.42 Q1214.79 1547.05 1212.39 1546.31 L1212.39 1541.61 Q1214.47 1542.74 1216.69 1543.3 Q1218.91 1543.86 1221.39 1543.86 Q1225.4 1543.86 1227.73 1541.75 Q1230.07 1539.64 1230.07 1536.03 Q1230.07 1532.42 1227.73 1530.31 Q1225.4 1528.21 1221.39 1528.21 Q1219.52 1528.21 1217.64 1528.62 Q1215.79 1529.04 1213.85 1529.92 L1213.85 1512.56 Z\" fill=\"#000000\" fill-rule=\"evenodd\" fill-opacity=\"1\" /><path clip-path=\"url(#clip730)\" d=\"M 0 0 M1249.82 1515.64 Q1246.21 1515.64 1244.38 1519.2 Q1242.57 1522.75 1242.57 1529.87 Q1242.57 1536.98 1244.38 1540.55 Q1246.21 1544.09 1249.82 1544.09 Q1253.45 1544.09 1255.26 1540.55 Q1257.09 1536.98 1257.09 1529.87 Q1257.09 1522.75 1255.26 1519.2 Q1253.45 1515.64 1249.82 1515.64 M1249.82 1511.93 Q1255.63 1511.93 1258.68 1516.54 Q1261.76 1521.12 1261.76 1529.87 Q1261.76 1538.6 1258.68 1543.21 Q1255.63 1547.79 1249.82 1547.79 Q1244.01 1547.79 1240.93 1543.21 Q1237.87 1538.6 1237.87 1529.87 Q1237.87 1521.12 1240.93 1516.54 Q1244.01 1511.93 1249.82 1511.93 Z\" fill=\"#000000\" fill-rule=\"evenodd\" fill-opacity=\"1\" /><path clip-path=\"url(#clip730)\" d=\"M 0 0 M1739.52 1512.56 L1761.74 1512.56 L1761.74 1514.55 L1749.19 1547.12 L1744.31 1547.12 L1756.11 1516.5 L1739.52 1516.5 L1739.52 1512.56 Z\" fill=\"#000000\" fill-rule=\"evenodd\" fill-opacity=\"1\" /><path clip-path=\"url(#clip730)\" d=\"M 0 0 M1766.85 1512.56 L1785.21 1512.56 L1785.21 1516.5 L1771.14 1516.5 L1771.14 1524.97 Q1772.16 1524.62 1773.17 1524.46 Q1774.19 1524.27 1775.21 1524.27 Q1781 1524.27 1784.38 1527.44 Q1787.76 1530.62 1787.76 1536.03 Q1787.76 1541.61 1784.29 1544.71 Q1780.81 1547.79 1774.49 1547.79 Q1772.32 1547.79 1770.05 1547.42 Q1767.8 1547.05 1765.4 1546.31 L1765.4 1541.61 Q1767.48 1542.74 1769.7 1543.3 Q1771.92 1543.86 1774.4 1543.86 Q1778.41 1543.86 1780.74 1541.75 Q1783.08 1539.64 1783.08 1536.03 Q1783.08 1532.42 1780.74 1530.31 Q1778.41 1528.21 1774.4 1528.21 Q1772.53 1528.21 1770.65 1528.62 Q1768.8 1529.04 1766.85 1529.92 L1766.85 1512.56 Z\" fill=\"#000000\" fill-rule=\"evenodd\" fill-opacity=\"1\" /><path clip-path=\"url(#clip730)\" d=\"M 0 0 M2253.57 1543.18 L2261.21 1543.18 L2261.21 1516.82 L2252.9 1518.49 L2252.9 1514.23 L2261.16 1512.56 L2265.84 1512.56 L2265.84 1543.18 L2273.48 1543.18 L2273.48 1547.12 L2253.57 1547.12 L2253.57 1543.18 Z\" fill=\"#000000\" fill-rule=\"evenodd\" fill-opacity=\"1\" /><path clip-path=\"url(#clip730)\" d=\"M 0 0 M2288.55 1515.64 Q2284.93 1515.64 2283.11 1519.2 Q2281.3 1522.75 2281.3 1529.87 Q2281.3 1536.98 2283.11 1540.55 Q2284.93 1544.09 2288.55 1544.09 Q2292.18 1544.09 2293.98 1540.55 Q2295.81 1536.98 2295.81 1529.87 Q2295.81 1522.75 2293.98 1519.2 Q2292.18 1515.64 2288.55 1515.64 M2288.55 1511.93 Q2294.36 1511.93 2297.41 1516.54 Q2300.49 1521.12 2300.49 1529.87 Q2300.49 1538.6 2297.41 1543.21 Q2294.36 1547.79 2288.55 1547.79 Q2282.73 1547.79 2279.66 1543.21 Q2276.6 1538.6 2276.6 1529.87 Q2276.6 1521.12 2279.66 1516.54 Q2282.73 1511.93 2288.55 1511.93 Z\" fill=\"#000000\" fill-rule=\"evenodd\" fill-opacity=\"1\" /><path clip-path=\"url(#clip730)\" d=\"M 0 0 M2315.56 1515.64 Q2311.95 1515.64 2310.12 1519.2 Q2308.31 1522.75 2308.31 1529.87 Q2308.31 1536.98 2310.12 1540.55 Q2311.95 1544.09 2315.56 1544.09 Q2319.19 1544.09 2321 1540.55 Q2322.83 1536.98 2322.83 1529.87 Q2322.83 1522.75 2321 1519.2 Q2319.19 1515.64 2315.56 1515.64 M2315.56 1511.93 Q2321.37 1511.93 2324.42 1516.54 Q2327.5 1521.12 2327.5 1529.87 Q2327.5 1538.6 2324.42 1543.21 Q2321.37 1547.79 2315.56 1547.79 Q2309.75 1547.79 2306.67 1543.21 Q2303.61 1538.6 2303.61 1529.87 Q2303.61 1521.12 2306.67 1516.54 Q2309.75 1511.93 2315.56 1511.93 Z\" fill=\"#000000\" fill-rule=\"evenodd\" fill-opacity=\"1\" /><polyline clip-path=\"url(#clip732)\" style=\"stroke:#000000; stroke-width:2; stroke-opacity:0.1; fill:none\" points=\"\n",
       "  142.455,1272.98 2352.76,1272.98 \n",
       "  \"/>\n",
       "<polyline clip-path=\"url(#clip732)\" style=\"stroke:#000000; stroke-width:2; stroke-opacity:0.1; fill:none\" points=\"\n",
       "  142.455,1018.23 2352.76,1018.23 \n",
       "  \"/>\n",
       "<polyline clip-path=\"url(#clip732)\" style=\"stroke:#000000; stroke-width:2; stroke-opacity:0.1; fill:none\" points=\"\n",
       "  142.455,763.469 2352.76,763.469 \n",
       "  \"/>\n",
       "<polyline clip-path=\"url(#clip732)\" style=\"stroke:#000000; stroke-width:2; stroke-opacity:0.1; fill:none\" points=\"\n",
       "  142.455,508.712 2352.76,508.712 \n",
       "  \"/>\n",
       "<polyline clip-path=\"url(#clip732)\" style=\"stroke:#000000; stroke-width:2; stroke-opacity:0.1; fill:none\" points=\"\n",
       "  142.455,253.955 2352.76,253.955 \n",
       "  \"/>\n",
       "<polyline clip-path=\"url(#clip730)\" style=\"stroke:#000000; stroke-width:4; stroke-opacity:1; fill:none\" points=\"\n",
       "  142.455,1486.45 142.455,47.2441 \n",
       "  \"/>\n",
       "<polyline clip-path=\"url(#clip730)\" style=\"stroke:#000000; stroke-width:4; stroke-opacity:1; fill:none\" points=\"\n",
       "  142.455,1272.98 168.978,1272.98 \n",
       "  \"/>\n",
       "<polyline clip-path=\"url(#clip730)\" style=\"stroke:#000000; stroke-width:4; stroke-opacity:1; fill:none\" points=\"\n",
       "  142.455,1018.23 168.978,1018.23 \n",
       "  \"/>\n",
       "<polyline clip-path=\"url(#clip730)\" style=\"stroke:#000000; stroke-width:4; stroke-opacity:1; fill:none\" points=\"\n",
       "  142.455,763.469 168.978,763.469 \n",
       "  \"/>\n",
       "<polyline clip-path=\"url(#clip730)\" style=\"stroke:#000000; stroke-width:4; stroke-opacity:1; fill:none\" points=\"\n",
       "  142.455,508.712 168.978,508.712 \n",
       "  \"/>\n",
       "<polyline clip-path=\"url(#clip730)\" style=\"stroke:#000000; stroke-width:4; stroke-opacity:1; fill:none\" points=\"\n",
       "  142.455,253.955 168.978,253.955 \n",
       "  \"/>\n",
       "<path clip-path=\"url(#clip730)\" d=\"M 0 0 M51.3625 1273.43 L81.0383 1273.43 L81.0383 1277.37 L51.3625 1277.37 L51.3625 1273.43 Z\" fill=\"#000000\" fill-rule=\"evenodd\" fill-opacity=\"1\" /><path clip-path=\"url(#clip730)\" d=\"M 0 0 M90.1354 1286.33 L106.455 1286.33 L106.455 1290.26 L84.5105 1290.26 L84.5105 1286.33 Q87.1725 1283.57 91.7558 1278.94 Q96.3623 1274.29 97.5428 1272.95 Q99.7882 1270.42 100.668 1268.69 Q101.571 1266.93 101.571 1265.24 Q101.571 1262.48 99.6261 1260.75 Q97.7048 1259.01 94.603 1259.01 Q92.4039 1259.01 89.9503 1259.78 Q87.5197 1260.54 84.7419 1262.09 L84.7419 1257.37 Q87.566 1256.23 90.0197 1255.66 Q92.4734 1255.08 94.5104 1255.08 Q99.8808 1255.08 103.075 1257.76 Q106.27 1260.45 106.27 1264.94 Q106.27 1267.07 105.459 1268.99 Q104.672 1270.89 102.566 1273.48 Q101.987 1274.15 98.8854 1277.37 Q95.7836 1280.56 90.1354 1286.33 Z\" fill=\"#000000\" fill-rule=\"evenodd\" fill-opacity=\"1\" /><path clip-path=\"url(#clip730)\" d=\"M 0 0 M50.9921 1018.68 L80.6679 1018.68 L80.6679 1022.61 L50.9921 1022.61 L50.9921 1018.68 Z\" fill=\"#000000\" fill-rule=\"evenodd\" fill-opacity=\"1\" /><path clip-path=\"url(#clip730)\" d=\"M 0 0 M86.5475 1031.57 L94.1863 1031.57 L94.1863 1005.2 L85.8762 1006.87 L85.8762 1002.61 L94.14 1000.95 L98.8159 1000.95 L98.8159 1031.57 L106.455 1031.57 L106.455 1035.51 L86.5475 1035.51 L86.5475 1031.57 Z\" fill=\"#000000\" fill-rule=\"evenodd\" fill-opacity=\"1\" /><path clip-path=\"url(#clip730)\" d=\"M 0 0 M94.5104 749.267 Q90.8993 749.267 89.0706 752.832 Q87.2651 756.374 87.2651 763.503 Q87.2651 770.61 89.0706 774.174 Q90.8993 777.716 94.5104 777.716 Q98.1447 777.716 99.9502 774.174 Q101.779 770.61 101.779 763.503 Q101.779 756.374 99.9502 752.832 Q98.1447 749.267 94.5104 749.267 M94.5104 745.564 Q100.321 745.564 103.376 750.17 Q106.455 754.753 106.455 763.503 Q106.455 772.23 103.376 776.837 Q100.321 781.42 94.5104 781.42 Q88.7003 781.42 85.6216 776.837 Q82.566 772.23 82.566 763.503 Q82.566 754.753 85.6216 750.17 Q88.7003 745.564 94.5104 745.564 Z\" fill=\"#000000\" fill-rule=\"evenodd\" fill-opacity=\"1\" /><path clip-path=\"url(#clip730)\" d=\"M 0 0 M86.5475 522.057 L94.1863 522.057 L94.1863 495.691 L85.8762 497.358 L85.8762 493.098 L94.14 491.432 L98.8159 491.432 L98.8159 522.057 L106.455 522.057 L106.455 525.992 L86.5475 525.992 L86.5475 522.057 Z\" fill=\"#000000\" fill-rule=\"evenodd\" fill-opacity=\"1\" /><path clip-path=\"url(#clip730)\" d=\"M 0 0 M90.1354 267.3 L106.455 267.3 L106.455 271.235 L84.5105 271.235 L84.5105 267.3 Q87.1725 264.545 91.7558 259.916 Q96.3623 255.263 97.5428 253.92 Q99.7882 251.397 100.668 249.661 Q101.571 247.902 101.571 246.212 Q101.571 243.457 99.6261 241.721 Q97.7048 239.985 94.603 239.985 Q92.4039 239.985 89.9503 240.749 Q87.5197 241.513 84.7419 243.064 L84.7419 238.342 Q87.566 237.207 90.0197 236.629 Q92.4734 236.05 94.5104 236.05 Q99.8808 236.05 103.075 238.735 Q106.27 241.42 106.27 245.911 Q106.27 248.041 105.459 249.962 Q104.672 251.86 102.566 254.453 Q101.987 255.124 98.8854 258.342 Q95.7836 261.536 90.1354 267.3 Z\" fill=\"#000000\" fill-rule=\"evenodd\" fill-opacity=\"1\" /><polyline clip-path=\"url(#clip732)\" style=\"stroke:#009af9; stroke-width:4; stroke-opacity:1; fill:none\" points=\"\n",
       "  205.01,508.712 226.073,1020.77 247.136,503.591 268.198,1025.94 289.261,498.368 310.323,1031.22 331.386,493.039 352.448,1036.6 373.511,487.603 394.573,1042.09 \n",
       "  415.636,482.059 436.698,1047.69 457.761,476.402 478.823,1053.41 499.886,470.632 520.948,1059.23 542.011,464.746 563.073,1065.18 584.136,458.742 605.198,1071.24 \n",
       "  626.261,452.617 647.323,1077.43 668.386,446.369 689.449,1083.74 710.511,439.995 731.574,1090.18 752.636,433.493 773.699,1096.74 794.761,426.861 815.824,1103.44 \n",
       "  836.886,420.095 857.949,1110.28 879.011,413.193 900.074,1117.25 921.136,406.153 942.199,1124.36 963.261,398.97 984.324,1131.61 1005.39,391.644 1026.45,1139.01 \n",
       "  1047.51,384.17 1068.57,1146.56 1089.64,376.547 1110.7,1154.26 1131.76,368.769 1152.82,1162.11 1173.89,360.836 1194.95,1170.13 1216.01,352.743 1237.07,1178.3 \n",
       "  1258.14,344.487 1279.2,1186.64 1300.26,336.066 1321.32,1195.15 1342.39,327.475 1363.45,1203.82 1384.51,318.712 1405.57,1212.67 1426.64,309.772 1447.7,1221.7 \n",
       "  1468.76,300.653 1489.82,1230.91 1510.89,291.35 1531.95,1240.31 1553.01,281.861 1574.07,1249.89 1595.14,272.18 1616.2,1259.67 1637.26,262.305 1658.32,1269.64 \n",
       "  1679.39,252.232 1700.45,1279.82 1721.51,241.956 1742.57,1290.2 1763.64,231.474 1784.7,1300.78 1805.76,220.781 1826.82,1311.58 1847.89,209.873 1868.95,1322.6 \n",
       "  1890.01,198.745 1911.07,1333.84 1932.14,187.394 1953.2,1345.3 1974.26,175.815 1995.32,1357 2016.39,164.003 2037.45,1368.93 2058.51,151.954 2079.57,1381.1 \n",
       "  2100.64,139.663 2121.7,1393.51 2142.76,127.124 2163.83,1406.18 2184.89,114.334 2205.95,1419.09 2227.01,101.286 2248.08,1432.27 2269.14,87.9763 2290.2,1445.72 \n",
       "  \n",
       "  \"/>\n",
       "<path clip-path=\"url(#clip730)\" d=\"\n",
       "M1982.47 216.178 L2279.08 216.178 L2279.08 95.2176 L1982.47 95.2176  Z\n",
       "  \" fill=\"#ffffff\" fill-rule=\"evenodd\" fill-opacity=\"1\"/>\n",
       "<polyline clip-path=\"url(#clip730)\" style=\"stroke:#000000; stroke-width:4; stroke-opacity:1; fill:none\" points=\"\n",
       "  1982.47,216.178 2279.08,216.178 2279.08,95.2176 1982.47,95.2176 1982.47,216.178 \n",
       "  \"/>\n",
       "<polyline clip-path=\"url(#clip730)\" style=\"stroke:#009af9; stroke-width:4; stroke-opacity:1; fill:none\" points=\"\n",
       "  2007.03,155.698 2154.38,155.698 \n",
       "  \"/>\n",
       "<path clip-path=\"url(#clip730)\" d=\"M 0 0 M2192.79 175.385 Q2190.98 180.015 2189.27 181.427 Q2187.55 182.839 2184.68 182.839 L2181.28 182.839 L2181.28 179.274 L2183.78 179.274 Q2185.54 179.274 2186.51 178.44 Q2187.48 177.607 2188.67 174.505 L2189.43 172.561 L2178.94 147.052 L2183.46 147.052 L2191.56 167.329 L2199.66 147.052 L2204.17 147.052 L2192.79 175.385 Z\" fill=\"#000000\" fill-rule=\"evenodd\" fill-opacity=\"1\" /><path clip-path=\"url(#clip730)\" d=\"M 0 0 M2210.05 169.042 L2217.69 169.042 L2217.69 142.677 L2209.38 144.343 L2209.38 140.084 L2217.65 138.418 L2222.32 138.418 L2222.32 169.042 L2229.96 169.042 L2229.96 172.978 L2210.05 172.978 L2210.05 169.042 Z\" fill=\"#000000\" fill-rule=\"evenodd\" fill-opacity=\"1\" /></svg>\n"
      ]
     },
     "execution_count": 37,
     "metadata": {},
     "output_type": "execute_result"
    }
   ],
   "source": [
    "X = ones(100)\n",
    "forecast_AR1!(X, -1.01)\n",
    "plot(X)"
   ]
  },
  {
   "cell_type": "code",
   "execution_count": null,
   "metadata": {},
   "outputs": [],
   "source": []
  },
  {
   "cell_type": "code",
   "execution_count": null,
   "metadata": {},
   "outputs": [],
   "source": []
  },
  {
   "cell_type": "code",
   "execution_count": null,
   "metadata": {},
   "outputs": [],
   "source": []
  },
  {
   "cell_type": "code",
   "execution_count": null,
   "metadata": {},
   "outputs": [],
   "source": []
  },
  {
   "cell_type": "markdown",
   "metadata": {},
   "source": [
    "### Second-order linear difference equations\n",
    "$$\n",
    "x_t = a_1 x_{t-1} + a_2 x_{t-1} + b\n",
    "$$\n",
    "Similarly, we can subtract $b/(1 - a_1 - a_2)$ so that the series converges to 0."
   ]
  },
  {
   "cell_type": "code",
   "execution_count": 38,
   "metadata": {},
   "outputs": [
    {
     "data": {
      "text/plain": [
       "forecast_AR2! (generic function with 1 method)"
      ]
     },
     "execution_count": 38,
     "metadata": {},
     "output_type": "execute_result"
    }
   ],
   "source": [
    "function forecast_AR2!(x::Vector{Float64}, a1::Float64, a2::Float64)\n",
    "    T = length(x)\n",
    "    for t = 3:T\n",
    "        x[t] = a1 * x[t-1] + a2 * x[t-2]\n",
    "    end\n",
    "end"
   ]
  },
  {
   "cell_type": "code",
   "execution_count": 39,
   "metadata": {},
   "outputs": [
    {
     "data": {
      "text/plain": [
       "10-element Array{Float64,1}:\n",
       " 0.0\n",
       " 1.0\n",
       " 0.0\n",
       " 0.0\n",
       " 0.0\n",
       " 0.0\n",
       " 0.0\n",
       " 0.0\n",
       " 0.0\n",
       " 0.0"
      ]
     },
     "execution_count": 39,
     "metadata": {},
     "output_type": "execute_result"
    }
   ],
   "source": [
    "Z = zeros(10)\n",
    "Z[2] = 1.0\n",
    "Z"
   ]
  },
  {
   "cell_type": "code",
   "execution_count": null,
   "metadata": {},
   "outputs": [],
   "source": []
  },
  {
   "cell_type": "code",
   "execution_count": null,
   "metadata": {},
   "outputs": [],
   "source": []
  },
  {
   "cell_type": "code",
   "execution_count": null,
   "metadata": {},
   "outputs": [],
   "source": []
  },
  {
   "cell_type": "code",
   "execution_count": 40,
   "metadata": {},
   "outputs": [
    {
     "data": {
      "image/svg+xml": [
       "<?xml version=\"1.0\" encoding=\"utf-8\"?>\n",
       "<svg xmlns=\"http://www.w3.org/2000/svg\" xmlns:xlink=\"http://www.w3.org/1999/xlink\" width=\"600\" height=\"400\" viewBox=\"0 0 2400 1600\">\n",
       "<defs>\n",
       "  <clipPath id=\"clip770\">\n",
       "    <rect x=\"0\" y=\"0\" width=\"2400\" height=\"1600\"/>\n",
       "  </clipPath>\n",
       "</defs>\n",
       "<path clip-path=\"url(#clip770)\" d=\"\n",
       "M0 1600 L2400 1600 L2400 0 L0 0  Z\n",
       "  \" fill=\"#ffffff\" fill-rule=\"evenodd\" fill-opacity=\"1\"/>\n",
       "<defs>\n",
       "  <clipPath id=\"clip771\">\n",
       "    <rect x=\"480\" y=\"0\" width=\"1681\" height=\"1600\"/>\n",
       "  </clipPath>\n",
       "</defs>\n",
       "<path clip-path=\"url(#clip770)\" d=\"\n",
       "M174.862 1486.45 L2352.76 1486.45 L2352.76 47.2441 L174.862 47.2441  Z\n",
       "  \" fill=\"#ffffff\" fill-rule=\"evenodd\" fill-opacity=\"1\"/>\n",
       "<defs>\n",
       "  <clipPath id=\"clip772\">\n",
       "    <rect x=\"174\" y=\"47\" width=\"2179\" height=\"1440\"/>\n",
       "  </clipPath>\n",
       "</defs>\n",
       "<polyline clip-path=\"url(#clip772)\" style=\"stroke:#000000; stroke-width:2; stroke-opacity:0.1; fill:none\" points=\"\n",
       "  464.791,1486.45 464.791,47.2441 \n",
       "  \"/>\n",
       "<polyline clip-path=\"url(#clip772)\" style=\"stroke:#000000; stroke-width:2; stroke-opacity:0.1; fill:none\" points=\"\n",
       "  921.373,1486.45 921.373,47.2441 \n",
       "  \"/>\n",
       "<polyline clip-path=\"url(#clip772)\" style=\"stroke:#000000; stroke-width:2; stroke-opacity:0.1; fill:none\" points=\"\n",
       "  1377.95,1486.45 1377.95,47.2441 \n",
       "  \"/>\n",
       "<polyline clip-path=\"url(#clip772)\" style=\"stroke:#000000; stroke-width:2; stroke-opacity:0.1; fill:none\" points=\"\n",
       "  1834.54,1486.45 1834.54,47.2441 \n",
       "  \"/>\n",
       "<polyline clip-path=\"url(#clip772)\" style=\"stroke:#000000; stroke-width:2; stroke-opacity:0.1; fill:none\" points=\"\n",
       "  2291.12,1486.45 2291.12,47.2441 \n",
       "  \"/>\n",
       "<polyline clip-path=\"url(#clip770)\" style=\"stroke:#000000; stroke-width:4; stroke-opacity:1; fill:none\" points=\"\n",
       "  174.862,1486.45 2352.76,1486.45 \n",
       "  \"/>\n",
       "<polyline clip-path=\"url(#clip770)\" style=\"stroke:#000000; stroke-width:4; stroke-opacity:1; fill:none\" points=\"\n",
       "  464.791,1486.45 464.791,1469.18 \n",
       "  \"/>\n",
       "<polyline clip-path=\"url(#clip770)\" style=\"stroke:#000000; stroke-width:4; stroke-opacity:1; fill:none\" points=\"\n",
       "  921.373,1486.45 921.373,1469.18 \n",
       "  \"/>\n",
       "<polyline clip-path=\"url(#clip770)\" style=\"stroke:#000000; stroke-width:4; stroke-opacity:1; fill:none\" points=\"\n",
       "  1377.95,1486.45 1377.95,1469.18 \n",
       "  \"/>\n",
       "<polyline clip-path=\"url(#clip770)\" style=\"stroke:#000000; stroke-width:4; stroke-opacity:1; fill:none\" points=\"\n",
       "  1834.54,1486.45 1834.54,1469.18 \n",
       "  \"/>\n",
       "<polyline clip-path=\"url(#clip770)\" style=\"stroke:#000000; stroke-width:4; stroke-opacity:1; fill:none\" points=\"\n",
       "  2291.12,1486.45 2291.12,1469.18 \n",
       "  \"/>\n",
       "<path clip-path=\"url(#clip770)\" d=\"M 0 0 M459.444 1543.18 L475.763 1543.18 L475.763 1547.12 L453.819 1547.12 L453.819 1543.18 Q456.481 1540.43 461.064 1535.8 Q465.671 1531.15 466.851 1529.81 Q469.097 1527.28 469.976 1525.55 Q470.879 1523.79 470.879 1522.1 Q470.879 1519.34 468.935 1517.61 Q467.014 1515.87 463.912 1515.87 Q461.713 1515.87 459.259 1516.63 Q456.828 1517.4 454.051 1518.95 L454.051 1514.23 Q456.875 1513.09 459.328 1512.51 Q461.782 1511.93 463.819 1511.93 Q469.189 1511.93 472.384 1514.62 Q475.578 1517.31 475.578 1521.8 Q475.578 1523.93 474.768 1525.85 Q473.981 1527.74 471.875 1530.34 Q471.296 1531.01 468.194 1534.23 Q465.092 1537.42 459.444 1543.18 Z\" fill=\"#000000\" fill-rule=\"evenodd\" fill-opacity=\"1\" /><path clip-path=\"url(#clip770)\" d=\"M 0 0 M924.382 1516.63 L912.577 1535.08 L924.382 1535.08 L924.382 1516.63 M923.155 1512.56 L929.035 1512.56 L929.035 1535.08 L933.965 1535.08 L933.965 1538.97 L929.035 1538.97 L929.035 1547.12 L924.382 1547.12 L924.382 1538.97 L908.78 1538.97 L908.78 1534.46 L923.155 1512.56 Z\" fill=\"#000000\" fill-rule=\"evenodd\" fill-opacity=\"1\" /><path clip-path=\"url(#clip770)\" d=\"M 0 0 M1378.36 1527.98 Q1375.21 1527.98 1373.36 1530.13 Q1371.53 1532.28 1371.53 1536.03 Q1371.53 1539.76 1373.36 1541.93 Q1375.21 1544.09 1378.36 1544.09 Q1381.51 1544.09 1383.34 1541.93 Q1385.19 1539.76 1385.19 1536.03 Q1385.19 1532.28 1383.34 1530.13 Q1381.51 1527.98 1378.36 1527.98 M1387.64 1513.32 L1387.64 1517.58 Q1385.88 1516.75 1384.08 1516.31 Q1382.29 1515.87 1380.54 1515.87 Q1375.91 1515.87 1373.45 1519 Q1371.02 1522.12 1370.67 1528.44 Q1372.04 1526.43 1374.1 1525.36 Q1376.16 1524.27 1378.64 1524.27 Q1383.85 1524.27 1386.85 1527.44 Q1389.89 1530.59 1389.89 1536.03 Q1389.89 1541.36 1386.74 1544.57 Q1383.59 1547.79 1378.36 1547.79 Q1372.36 1547.79 1369.19 1543.21 Q1366.02 1538.6 1366.02 1529.87 Q1366.02 1521.68 1369.91 1516.82 Q1373.8 1511.93 1380.35 1511.93 Q1382.11 1511.93 1383.89 1512.28 Q1385.7 1512.63 1387.64 1513.32 Z\" fill=\"#000000\" fill-rule=\"evenodd\" fill-opacity=\"1\" /><path clip-path=\"url(#clip770)\" d=\"M 0 0 M1834.54 1530.71 Q1831.2 1530.71 1829.28 1532.49 Q1827.38 1534.27 1827.38 1537.4 Q1827.38 1540.52 1829.28 1542.31 Q1831.2 1544.09 1834.54 1544.09 Q1837.87 1544.09 1839.79 1542.31 Q1841.71 1540.5 1841.71 1537.4 Q1841.71 1534.27 1839.79 1532.49 Q1837.89 1530.71 1834.54 1530.71 M1829.86 1528.72 Q1826.85 1527.98 1825.16 1525.92 Q1823.49 1523.86 1823.49 1520.89 Q1823.49 1516.75 1826.43 1514.34 Q1829.4 1511.93 1834.54 1511.93 Q1839.7 1511.93 1842.64 1514.34 Q1845.58 1516.75 1845.58 1520.89 Q1845.58 1523.86 1843.89 1525.92 Q1842.22 1527.98 1839.23 1528.72 Q1842.61 1529.5 1844.49 1531.8 Q1846.39 1534.09 1846.39 1537.4 Q1846.39 1542.42 1843.31 1545.11 Q1840.25 1547.79 1834.54 1547.79 Q1828.82 1547.79 1825.74 1545.11 Q1822.68 1542.42 1822.68 1537.4 Q1822.68 1534.09 1824.58 1531.8 Q1826.48 1529.5 1829.86 1528.72 M1828.15 1521.33 Q1828.15 1524.02 1829.81 1525.52 Q1831.5 1527.03 1834.54 1527.03 Q1837.55 1527.03 1839.23 1525.52 Q1840.95 1524.02 1840.95 1521.33 Q1840.95 1518.65 1839.23 1517.14 Q1837.55 1515.64 1834.54 1515.64 Q1831.5 1515.64 1829.81 1517.14 Q1828.15 1518.65 1828.15 1521.33 Z\" fill=\"#000000\" fill-rule=\"evenodd\" fill-opacity=\"1\" /><path clip-path=\"url(#clip770)\" d=\"M 0 0 M2267.99 1543.18 L2275.63 1543.18 L2275.63 1516.82 L2267.32 1518.49 L2267.32 1514.23 L2275.59 1512.56 L2280.26 1512.56 L2280.26 1543.18 L2287.9 1543.18 L2287.9 1547.12 L2267.99 1547.12 L2267.99 1543.18 Z\" fill=\"#000000\" fill-rule=\"evenodd\" fill-opacity=\"1\" /><path clip-path=\"url(#clip770)\" d=\"M 0 0 M2302.97 1515.64 Q2299.36 1515.64 2297.53 1519.2 Q2295.72 1522.75 2295.72 1529.87 Q2295.72 1536.98 2297.53 1540.55 Q2299.36 1544.09 2302.97 1544.09 Q2306.6 1544.09 2308.41 1540.55 Q2310.24 1536.98 2310.24 1529.87 Q2310.24 1522.75 2308.41 1519.2 Q2306.6 1515.64 2302.97 1515.64 M2302.97 1511.93 Q2308.78 1511.93 2311.83 1516.54 Q2314.91 1521.12 2314.91 1529.87 Q2314.91 1538.6 2311.83 1543.21 Q2308.78 1547.79 2302.97 1547.79 Q2297.16 1547.79 2294.08 1543.21 Q2291.02 1538.6 2291.02 1529.87 Q2291.02 1521.12 2294.08 1516.54 Q2297.16 1511.93 2302.97 1511.93 Z\" fill=\"#000000\" fill-rule=\"evenodd\" fill-opacity=\"1\" /><polyline clip-path=\"url(#clip772)\" style=\"stroke:#000000; stroke-width:2; stroke-opacity:0.1; fill:none\" points=\"\n",
       "  174.862,1445.72 2352.76,1445.72 \n",
       "  \"/>\n",
       "<polyline clip-path=\"url(#clip772)\" style=\"stroke:#000000; stroke-width:2; stroke-opacity:0.1; fill:none\" points=\"\n",
       "  174.862,1106.28 2352.76,1106.28 \n",
       "  \"/>\n",
       "<polyline clip-path=\"url(#clip772)\" style=\"stroke:#000000; stroke-width:2; stroke-opacity:0.1; fill:none\" points=\"\n",
       "  174.862,766.846 2352.76,766.846 \n",
       "  \"/>\n",
       "<polyline clip-path=\"url(#clip772)\" style=\"stroke:#000000; stroke-width:2; stroke-opacity:0.1; fill:none\" points=\"\n",
       "  174.862,427.411 2352.76,427.411 \n",
       "  \"/>\n",
       "<polyline clip-path=\"url(#clip772)\" style=\"stroke:#000000; stroke-width:2; stroke-opacity:0.1; fill:none\" points=\"\n",
       "  174.862,87.9763 2352.76,87.9763 \n",
       "  \"/>\n",
       "<polyline clip-path=\"url(#clip770)\" style=\"stroke:#000000; stroke-width:4; stroke-opacity:1; fill:none\" points=\"\n",
       "  174.862,1486.45 174.862,47.2441 \n",
       "  \"/>\n",
       "<polyline clip-path=\"url(#clip770)\" style=\"stroke:#000000; stroke-width:4; stroke-opacity:1; fill:none\" points=\"\n",
       "  174.862,1445.72 200.997,1445.72 \n",
       "  \"/>\n",
       "<polyline clip-path=\"url(#clip770)\" style=\"stroke:#000000; stroke-width:4; stroke-opacity:1; fill:none\" points=\"\n",
       "  174.862,1106.28 200.997,1106.28 \n",
       "  \"/>\n",
       "<polyline clip-path=\"url(#clip770)\" style=\"stroke:#000000; stroke-width:4; stroke-opacity:1; fill:none\" points=\"\n",
       "  174.862,766.846 200.997,766.846 \n",
       "  \"/>\n",
       "<polyline clip-path=\"url(#clip770)\" style=\"stroke:#000000; stroke-width:4; stroke-opacity:1; fill:none\" points=\"\n",
       "  174.862,427.411 200.997,427.411 \n",
       "  \"/>\n",
       "<polyline clip-path=\"url(#clip770)\" style=\"stroke:#000000; stroke-width:4; stroke-opacity:1; fill:none\" points=\"\n",
       "  174.862,87.9763 200.997,87.9763 \n",
       "  \"/>\n",
       "<path clip-path=\"url(#clip770)\" d=\"M 0 0 M62.9365 1431.51 Q59.3254 1431.51 57.4967 1435.08 Q55.6912 1438.62 55.6912 1445.75 Q55.6912 1452.86 57.4967 1456.42 Q59.3254 1459.96 62.9365 1459.96 Q66.5707 1459.96 68.3763 1456.42 Q70.205 1452.86 70.205 1445.75 Q70.205 1438.62 68.3763 1435.08 Q66.5707 1431.51 62.9365 1431.51 M62.9365 1427.81 Q68.7467 1427.81 71.8022 1432.42 Q74.8809 1437 74.8809 1445.75 Q74.8809 1454.48 71.8022 1459.08 Q68.7467 1463.67 62.9365 1463.67 Q57.1264 1463.67 54.0477 1459.08 Q50.9921 1454.48 50.9921 1445.75 Q50.9921 1437 54.0477 1432.42 Q57.1264 1427.81 62.9365 1427.81 Z\" fill=\"#000000\" fill-rule=\"evenodd\" fill-opacity=\"1\" /><path clip-path=\"url(#clip770)\" d=\"M 0 0 M79.9503 1457.12 L84.8345 1457.12 L84.8345 1463 L79.9503 1463 L79.9503 1457.12 Z\" fill=\"#000000\" fill-rule=\"evenodd\" fill-opacity=\"1\" /><path clip-path=\"url(#clip770)\" d=\"M 0 0 M99.9039 1431.51 Q96.2928 1431.51 94.4641 1435.08 Q92.6586 1438.62 92.6586 1445.75 Q92.6586 1452.86 94.4641 1456.42 Q96.2928 1459.96 99.9039 1459.96 Q103.538 1459.96 105.344 1456.42 Q107.172 1452.86 107.172 1445.75 Q107.172 1438.62 105.344 1435.08 Q103.538 1431.51 99.9039 1431.51 M99.9039 1427.81 Q105.714 1427.81 108.77 1432.42 Q111.848 1437 111.848 1445.75 Q111.848 1454.48 108.77 1459.08 Q105.714 1463.67 99.9039 1463.67 Q94.0937 1463.67 91.0151 1459.08 Q87.9595 1454.48 87.9595 1445.75 Q87.9595 1437 91.0151 1432.42 Q94.0937 1427.81 99.9039 1427.81 Z\" fill=\"#000000\" fill-rule=\"evenodd\" fill-opacity=\"1\" /><path clip-path=\"url(#clip770)\" d=\"M 0 0 M126.918 1431.51 Q123.307 1431.51 121.478 1435.08 Q119.672 1438.62 119.672 1445.75 Q119.672 1452.86 121.478 1456.42 Q123.307 1459.96 126.918 1459.96 Q130.552 1459.96 132.357 1456.42 Q134.186 1452.86 134.186 1445.75 Q134.186 1438.62 132.357 1435.08 Q130.552 1431.51 126.918 1431.51 M126.918 1427.81 Q132.728 1427.81 135.783 1432.42 Q138.862 1437 138.862 1445.75 Q138.862 1454.48 135.783 1459.08 Q132.728 1463.67 126.918 1463.67 Q121.107 1463.67 118.029 1459.08 Q114.973 1454.48 114.973 1445.75 Q114.973 1437 118.029 1432.42 Q121.107 1427.81 126.918 1427.81 Z\" fill=\"#000000\" fill-rule=\"evenodd\" fill-opacity=\"1\" /><path clip-path=\"url(#clip770)\" d=\"M 0 0 M65.5291 1092.08 Q61.918 1092.08 60.0893 1095.64 Q58.2838 1099.19 58.2838 1106.32 Q58.2838 1113.42 60.0893 1116.99 Q61.918 1120.53 65.5291 1120.53 Q69.1633 1120.53 70.9689 1116.99 Q72.7976 1113.42 72.7976 1106.32 Q72.7976 1099.19 70.9689 1095.64 Q69.1633 1092.08 65.5291 1092.08 M65.5291 1088.38 Q71.3392 1088.38 74.3948 1092.98 Q77.4735 1097.57 77.4735 1106.32 Q77.4735 1115.04 74.3948 1119.65 Q71.3392 1124.23 65.5291 1124.23 Q59.7189 1124.23 56.6402 1119.65 Q53.5847 1115.04 53.5847 1106.32 Q53.5847 1097.57 56.6402 1092.98 Q59.7189 1088.38 65.5291 1088.38 Z\" fill=\"#000000\" fill-rule=\"evenodd\" fill-opacity=\"1\" /><path clip-path=\"url(#clip770)\" d=\"M 0 0 M82.5429 1117.68 L87.4271 1117.68 L87.4271 1123.56 L82.5429 1123.56 L82.5429 1117.68 Z\" fill=\"#000000\" fill-rule=\"evenodd\" fill-opacity=\"1\" /><path clip-path=\"url(#clip770)\" d=\"M 0 0 M96.5243 1119.63 L112.844 1119.63 L112.844 1123.56 L90.8993 1123.56 L90.8993 1119.63 Q93.5613 1116.87 98.1447 1112.24 Q102.751 1107.59 103.932 1106.25 Q106.177 1103.72 107.057 1101.99 Q107.959 1100.23 107.959 1098.54 Q107.959 1095.78 106.015 1094.05 Q104.094 1092.31 100.992 1092.31 Q98.7928 1092.31 96.3391 1093.07 Q93.9086 1093.84 91.1308 1095.39 L91.1308 1090.67 Q93.9549 1089.53 96.4085 1088.95 Q98.8622 1088.38 100.899 1088.38 Q106.27 1088.38 109.464 1091.06 Q112.658 1093.75 112.658 1098.24 Q112.658 1100.37 111.848 1102.29 Q111.061 1104.19 108.955 1106.78 Q108.376 1107.45 105.274 1110.67 Q102.172 1113.86 96.5243 1119.63 Z\" fill=\"#000000\" fill-rule=\"evenodd\" fill-opacity=\"1\" /><path clip-path=\"url(#clip770)\" d=\"M 0 0 M117.959 1089 L136.316 1089 L136.316 1092.94 L122.242 1092.94 L122.242 1101.41 Q123.26 1101.06 124.279 1100.9 Q125.297 1100.71 126.316 1100.71 Q132.103 1100.71 135.482 1103.89 Q138.862 1107.06 138.862 1112.47 Q138.862 1118.05 135.39 1121.15 Q131.918 1124.23 125.598 1124.23 Q123.422 1124.23 121.154 1123.86 Q118.908 1123.49 116.501 1122.75 L116.501 1118.05 Q118.584 1119.19 120.807 1119.74 Q123.029 1120.3 125.506 1120.3 Q129.51 1120.3 131.848 1118.19 Q134.186 1116.08 134.186 1112.47 Q134.186 1108.86 131.848 1106.76 Q129.51 1104.65 125.506 1104.65 Q123.631 1104.65 121.756 1105.07 Q119.904 1105.48 117.959 1106.36 L117.959 1089 Z\" fill=\"#000000\" fill-rule=\"evenodd\" fill-opacity=\"1\" /><path clip-path=\"url(#clip770)\" d=\"M 0 0 M63.9319 752.645 Q60.3208 752.645 58.4921 756.209 Q56.6865 759.751 56.6865 766.881 Q56.6865 773.987 58.4921 777.552 Q60.3208 781.094 63.9319 781.094 Q67.5661 781.094 69.3717 777.552 Q71.2004 773.987 71.2004 766.881 Q71.2004 759.751 69.3717 756.209 Q67.5661 752.645 63.9319 752.645 M63.9319 748.941 Q69.742 748.941 72.7976 753.547 Q75.8763 758.131 75.8763 766.881 Q75.8763 775.608 72.7976 780.214 Q69.742 784.797 63.9319 784.797 Q58.1217 784.797 55.043 780.214 Q51.9875 775.608 51.9875 766.881 Q51.9875 758.131 55.043 753.547 Q58.1217 748.941 63.9319 748.941 Z\" fill=\"#000000\" fill-rule=\"evenodd\" fill-opacity=\"1\" /><path clip-path=\"url(#clip770)\" d=\"M 0 0 M80.9457 778.246 L85.8299 778.246 L85.8299 784.126 L80.9457 784.126 L80.9457 778.246 Z\" fill=\"#000000\" fill-rule=\"evenodd\" fill-opacity=\"1\" /><path clip-path=\"url(#clip770)\" d=\"M 0 0 M90.9456 749.566 L109.302 749.566 L109.302 753.501 L95.228 753.501 L95.228 761.973 Q96.2465 761.626 97.265 761.464 Q98.2835 761.279 99.3021 761.279 Q105.089 761.279 108.469 764.45 Q111.848 767.621 111.848 773.038 Q111.848 778.617 108.376 781.719 Q104.904 784.797 98.5845 784.797 Q96.4085 784.797 94.14 784.427 Q91.8947 784.057 89.4873 783.316 L89.4873 778.617 Q91.5706 779.751 93.7928 780.307 Q96.015 780.862 98.4919 780.862 Q102.496 780.862 104.834 778.756 Q107.172 776.649 107.172 773.038 Q107.172 769.427 104.834 767.321 Q102.496 765.214 98.4919 765.214 Q96.6169 765.214 94.7419 765.631 Q92.89 766.047 90.9456 766.927 L90.9456 749.566 Z\" fill=\"#000000\" fill-rule=\"evenodd\" fill-opacity=\"1\" /><path clip-path=\"url(#clip770)\" d=\"M 0 0 M126.918 752.645 Q123.307 752.645 121.478 756.209 Q119.672 759.751 119.672 766.881 Q119.672 773.987 121.478 777.552 Q123.307 781.094 126.918 781.094 Q130.552 781.094 132.357 777.552 Q134.186 773.987 134.186 766.881 Q134.186 759.751 132.357 756.209 Q130.552 752.645 126.918 752.645 M126.918 748.941 Q132.728 748.941 135.783 753.547 Q138.862 758.131 138.862 766.881 Q138.862 775.608 135.783 780.214 Q132.728 784.797 126.918 784.797 Q121.107 784.797 118.029 780.214 Q114.973 775.608 114.973 766.881 Q114.973 758.131 118.029 753.547 Q121.107 748.941 126.918 748.941 Z\" fill=\"#000000\" fill-rule=\"evenodd\" fill-opacity=\"1\" /><path clip-path=\"url(#clip770)\" d=\"M 0 0 M64.8346 413.21 Q61.2236 413.21 59.3949 416.775 Q57.5893 420.316 57.5893 427.446 Q57.5893 434.552 59.3949 438.117 Q61.2236 441.659 64.8346 441.659 Q68.4689 441.659 70.2744 438.117 Q72.1031 434.552 72.1031 427.446 Q72.1031 420.316 70.2744 416.775 Q68.4689 413.21 64.8346 413.21 M64.8346 409.506 Q70.6448 409.506 73.7003 414.113 Q76.779 418.696 76.779 427.446 Q76.779 436.173 73.7003 440.779 Q70.6448 445.362 64.8346 445.362 Q59.0245 445.362 55.9458 440.779 Q52.8903 436.173 52.8903 427.446 Q52.8903 418.696 55.9458 414.113 Q59.0245 409.506 64.8346 409.506 Z\" fill=\"#000000\" fill-rule=\"evenodd\" fill-opacity=\"1\" /><path clip-path=\"url(#clip770)\" d=\"M 0 0 M81.8484 438.812 L86.7327 438.812 L86.7327 444.691 L81.8484 444.691 L81.8484 438.812 Z\" fill=\"#000000\" fill-rule=\"evenodd\" fill-opacity=\"1\" /><path clip-path=\"url(#clip770)\" d=\"M 0 0 M90.6215 410.131 L112.844 410.131 L112.844 412.122 L100.297 444.691 L95.4132 444.691 L107.219 414.066 L90.6215 414.066 L90.6215 410.131 Z\" fill=\"#000000\" fill-rule=\"evenodd\" fill-opacity=\"1\" /><path clip-path=\"url(#clip770)\" d=\"M 0 0 M117.959 410.131 L136.316 410.131 L136.316 414.066 L122.242 414.066 L122.242 422.538 Q123.26 422.191 124.279 422.029 Q125.297 421.844 126.316 421.844 Q132.103 421.844 135.482 425.015 Q138.862 428.187 138.862 433.603 Q138.862 439.182 135.39 442.284 Q131.918 445.362 125.598 445.362 Q123.422 445.362 121.154 444.992 Q118.908 444.622 116.501 443.881 L116.501 439.182 Q118.584 440.316 120.807 440.872 Q123.029 441.427 125.506 441.427 Q129.51 441.427 131.848 439.321 Q134.186 437.214 134.186 433.603 Q134.186 429.992 131.848 427.886 Q129.51 425.779 125.506 425.779 Q123.631 425.779 121.756 426.196 Q119.904 426.613 117.959 427.492 L117.959 410.131 Z\" fill=\"#000000\" fill-rule=\"evenodd\" fill-opacity=\"1\" /><path clip-path=\"url(#clip770)\" d=\"M 0 0 M54.9736 101.321 L62.6124 101.321 L62.6124 74.9555 L54.3023 76.6222 L54.3023 72.3629 L62.5661 70.6963 L67.242 70.6963 L67.242 101.321 L74.8809 101.321 L74.8809 105.256 L54.9736 105.256 L54.9736 101.321 Z\" fill=\"#000000\" fill-rule=\"evenodd\" fill-opacity=\"1\" /><path clip-path=\"url(#clip770)\" d=\"M 0 0 M79.9503 99.3767 L84.8345 99.3767 L84.8345 105.256 L79.9503 105.256 L79.9503 99.3767 Z\" fill=\"#000000\" fill-rule=\"evenodd\" fill-opacity=\"1\" /><path clip-path=\"url(#clip770)\" d=\"M 0 0 M99.9039 73.775 Q96.2928 73.775 94.4641 77.3398 Q92.6586 80.8814 92.6586 88.011 Q92.6586 95.1174 94.4641 98.6822 Q96.2928 102.224 99.9039 102.224 Q103.538 102.224 105.344 98.6822 Q107.172 95.1174 107.172 88.011 Q107.172 80.8814 105.344 77.3398 Q103.538 73.775 99.9039 73.775 M99.9039 70.0713 Q105.714 70.0713 108.77 74.6777 Q111.848 79.261 111.848 88.011 Q111.848 96.7378 108.77 101.344 Q105.714 105.928 99.9039 105.928 Q94.0937 105.928 91.0151 101.344 Q87.9595 96.7378 87.9595 88.011 Q87.9595 79.261 91.0151 74.6777 Q94.0937 70.0713 99.9039 70.0713 Z\" fill=\"#000000\" fill-rule=\"evenodd\" fill-opacity=\"1\" /><path clip-path=\"url(#clip770)\" d=\"M 0 0 M126.918 73.775 Q123.307 73.775 121.478 77.3398 Q119.672 80.8814 119.672 88.011 Q119.672 95.1174 121.478 98.6822 Q123.307 102.224 126.918 102.224 Q130.552 102.224 132.357 98.6822 Q134.186 95.1174 134.186 88.011 Q134.186 80.8814 132.357 77.3398 Q130.552 73.775 126.918 73.775 M126.918 70.0713 Q132.728 70.0713 135.783 74.6777 Q138.862 79.261 138.862 88.011 Q138.862 96.7378 135.783 101.344 Q132.728 105.928 126.918 105.928 Q121.107 105.928 118.029 101.344 Q114.973 96.7378 114.973 88.011 Q114.973 79.261 118.029 74.6777 Q121.107 70.0713 126.918 70.0713 Z\" fill=\"#000000\" fill-rule=\"evenodd\" fill-opacity=\"1\" /><polyline clip-path=\"url(#clip772)\" style=\"stroke:#009af9; stroke-width:4; stroke-opacity:1; fill:none\" points=\"\n",
       "  236.501,1445.72 464.791,87.9763 693.082,495.298 921.373,780.423 1149.66,980.011 1377.95,1119.72 1606.25,1217.52 1834.54,1285.98 2062.83,1333.9 2291.12,1367.44 \n",
       "  \n",
       "  \"/>\n",
       "<path clip-path=\"url(#clip770)\" d=\"\n",
       "M1987.15 216.178 L2280.16 216.178 L2280.16 95.2176 L1987.15 95.2176  Z\n",
       "  \" fill=\"#ffffff\" fill-rule=\"evenodd\" fill-opacity=\"1\"/>\n",
       "<polyline clip-path=\"url(#clip770)\" style=\"stroke:#000000; stroke-width:4; stroke-opacity:1; fill:none\" points=\"\n",
       "  1987.15,216.178 2280.16,216.178 2280.16,95.2176 1987.15,95.2176 1987.15,216.178 \n",
       "  \"/>\n",
       "<polyline clip-path=\"url(#clip770)\" style=\"stroke:#009af9; stroke-width:4; stroke-opacity:1; fill:none\" points=\"\n",
       "  2011.35,155.698 2156.54,155.698 \n",
       "  \"/>\n",
       "<path clip-path=\"url(#clip770)\" d=\"M 0 0 M2194.59 175.385 Q2192.78 180.015 2191.07 181.427 Q2189.35 182.839 2186.48 182.839 L2183.08 182.839 L2183.08 179.274 L2185.58 179.274 Q2187.34 179.274 2188.31 178.44 Q2189.29 177.607 2190.47 174.505 L2191.23 172.561 L2180.74 147.052 L2185.26 147.052 L2193.36 167.329 L2201.46 147.052 L2205.97 147.052 L2194.59 175.385 Z\" fill=\"#000000\" fill-rule=\"evenodd\" fill-opacity=\"1\" /><path clip-path=\"url(#clip770)\" d=\"M 0 0 M2211.85 169.042 L2219.49 169.042 L2219.49 142.677 L2211.18 144.343 L2211.18 140.084 L2219.45 138.418 L2224.12 138.418 L2224.12 169.042 L2231.76 169.042 L2231.76 172.978 L2211.85 172.978 L2211.85 169.042 Z\" fill=\"#000000\" fill-rule=\"evenodd\" fill-opacity=\"1\" /></svg>\n"
      ]
     },
     "execution_count": 40,
     "metadata": {},
     "output_type": "execute_result"
    }
   ],
   "source": [
    "forecast_AR2!(Z, 0.7, 0.0)\n",
    "plot(Z)"
   ]
  },
  {
   "cell_type": "code",
   "execution_count": 41,
   "metadata": {},
   "outputs": [
    {
     "data": {
      "image/svg+xml": [
       "<?xml version=\"1.0\" encoding=\"utf-8\"?>\n",
       "<svg xmlns=\"http://www.w3.org/2000/svg\" xmlns:xlink=\"http://www.w3.org/1999/xlink\" width=\"600\" height=\"400\" viewBox=\"0 0 2400 1600\">\n",
       "<defs>\n",
       "  <clipPath id=\"clip810\">\n",
       "    <rect x=\"0\" y=\"0\" width=\"2400\" height=\"1600\"/>\n",
       "  </clipPath>\n",
       "</defs>\n",
       "<path clip-path=\"url(#clip810)\" d=\"\n",
       "M0 1600 L2400 1600 L2400 0 L0 0  Z\n",
       "  \" fill=\"#ffffff\" fill-rule=\"evenodd\" fill-opacity=\"1\"/>\n",
       "<defs>\n",
       "  <clipPath id=\"clip811\">\n",
       "    <rect x=\"480\" y=\"0\" width=\"1681\" height=\"1600\"/>\n",
       "  </clipPath>\n",
       "</defs>\n",
       "<path clip-path=\"url(#clip810)\" d=\"\n",
       "M179.654 1486.45 L2352.76 1486.45 L2352.76 47.2441 L179.654 47.2441  Z\n",
       "  \" fill=\"#ffffff\" fill-rule=\"evenodd\" fill-opacity=\"1\"/>\n",
       "<defs>\n",
       "  <clipPath id=\"clip812\">\n",
       "    <rect x=\"179\" y=\"47\" width=\"2174\" height=\"1440\"/>\n",
       "  </clipPath>\n",
       "</defs>\n",
       "<polyline clip-path=\"url(#clip812)\" style=\"stroke:#000000; stroke-width:2; stroke-opacity:0.1; fill:none\" points=\"\n",
       "  468.945,1486.45 468.945,47.2441 \n",
       "  \"/>\n",
       "<polyline clip-path=\"url(#clip812)\" style=\"stroke:#000000; stroke-width:2; stroke-opacity:0.1; fill:none\" points=\"\n",
       "  924.522,1486.45 924.522,47.2441 \n",
       "  \"/>\n",
       "<polyline clip-path=\"url(#clip812)\" style=\"stroke:#000000; stroke-width:2; stroke-opacity:0.1; fill:none\" points=\"\n",
       "  1380.1,1486.45 1380.1,47.2441 \n",
       "  \"/>\n",
       "<polyline clip-path=\"url(#clip812)\" style=\"stroke:#000000; stroke-width:2; stroke-opacity:0.1; fill:none\" points=\"\n",
       "  1835.68,1486.45 1835.68,47.2441 \n",
       "  \"/>\n",
       "<polyline clip-path=\"url(#clip812)\" style=\"stroke:#000000; stroke-width:2; stroke-opacity:0.1; fill:none\" points=\"\n",
       "  2291.25,1486.45 2291.25,47.2441 \n",
       "  \"/>\n",
       "<polyline clip-path=\"url(#clip810)\" style=\"stroke:#000000; stroke-width:4; stroke-opacity:1; fill:none\" points=\"\n",
       "  179.654,1486.45 2352.76,1486.45 \n",
       "  \"/>\n",
       "<polyline clip-path=\"url(#clip810)\" style=\"stroke:#000000; stroke-width:4; stroke-opacity:1; fill:none\" points=\"\n",
       "  468.945,1486.45 468.945,1469.18 \n",
       "  \"/>\n",
       "<polyline clip-path=\"url(#clip810)\" style=\"stroke:#000000; stroke-width:4; stroke-opacity:1; fill:none\" points=\"\n",
       "  924.522,1486.45 924.522,1469.18 \n",
       "  \"/>\n",
       "<polyline clip-path=\"url(#clip810)\" style=\"stroke:#000000; stroke-width:4; stroke-opacity:1; fill:none\" points=\"\n",
       "  1380.1,1486.45 1380.1,1469.18 \n",
       "  \"/>\n",
       "<polyline clip-path=\"url(#clip810)\" style=\"stroke:#000000; stroke-width:4; stroke-opacity:1; fill:none\" points=\"\n",
       "  1835.68,1486.45 1835.68,1469.18 \n",
       "  \"/>\n",
       "<polyline clip-path=\"url(#clip810)\" style=\"stroke:#000000; stroke-width:4; stroke-opacity:1; fill:none\" points=\"\n",
       "  2291.25,1486.45 2291.25,1469.18 \n",
       "  \"/>\n",
       "<path clip-path=\"url(#clip810)\" d=\"M 0 0 M463.598 1543.18 L479.917 1543.18 L479.917 1547.12 L457.973 1547.12 L457.973 1543.18 Q460.635 1540.43 465.218 1535.8 Q469.825 1531.15 471.005 1529.81 Q473.251 1527.28 474.13 1525.55 Q475.033 1523.79 475.033 1522.1 Q475.033 1519.34 473.089 1517.61 Q471.167 1515.87 468.065 1515.87 Q465.866 1515.87 463.413 1516.63 Q460.982 1517.4 458.204 1518.95 L458.204 1514.23 Q461.028 1513.09 463.482 1512.51 Q465.936 1511.93 467.973 1511.93 Q473.343 1511.93 476.538 1514.62 Q479.732 1517.31 479.732 1521.8 Q479.732 1523.93 478.922 1525.85 Q478.135 1527.74 476.028 1530.34 Q475.45 1531.01 472.348 1534.23 Q469.246 1537.42 463.598 1543.18 Z\" fill=\"#000000\" fill-rule=\"evenodd\" fill-opacity=\"1\" /><path clip-path=\"url(#clip810)\" d=\"M 0 0 M927.531 1516.63 L915.726 1535.08 L927.531 1535.08 L927.531 1516.63 M926.304 1512.56 L932.184 1512.56 L932.184 1535.08 L937.115 1535.08 L937.115 1538.97 L932.184 1538.97 L932.184 1547.12 L927.531 1547.12 L927.531 1538.97 L911.93 1538.97 L911.93 1534.46 L926.304 1512.56 Z\" fill=\"#000000\" fill-rule=\"evenodd\" fill-opacity=\"1\" /><path clip-path=\"url(#clip810)\" d=\"M 0 0 M1380.5 1527.98 Q1377.36 1527.98 1375.5 1530.13 Q1373.68 1532.28 1373.68 1536.03 Q1373.68 1539.76 1375.5 1541.93 Q1377.36 1544.09 1380.5 1544.09 Q1383.65 1544.09 1385.48 1541.93 Q1387.33 1539.76 1387.33 1536.03 Q1387.33 1532.28 1385.48 1530.13 Q1383.65 1527.98 1380.5 1527.98 M1389.79 1513.32 L1389.79 1517.58 Q1388.03 1516.75 1386.22 1516.31 Q1384.44 1515.87 1382.68 1515.87 Q1378.05 1515.87 1375.6 1519 Q1373.17 1522.12 1372.82 1528.44 Q1374.18 1526.43 1376.24 1525.36 Q1378.31 1524.27 1380.78 1524.27 Q1385.99 1524.27 1389 1527.44 Q1392.03 1530.59 1392.03 1536.03 Q1392.03 1541.36 1388.88 1544.57 Q1385.74 1547.79 1380.5 1547.79 Q1374.51 1547.79 1371.34 1543.21 Q1368.17 1538.6 1368.17 1529.87 Q1368.17 1521.68 1372.06 1516.82 Q1375.94 1511.93 1382.49 1511.93 Q1384.25 1511.93 1386.04 1512.28 Q1387.84 1512.63 1389.79 1513.32 Z\" fill=\"#000000\" fill-rule=\"evenodd\" fill-opacity=\"1\" /><path clip-path=\"url(#clip810)\" d=\"M 0 0 M1835.68 1530.71 Q1832.34 1530.71 1830.42 1532.49 Q1828.52 1534.27 1828.52 1537.4 Q1828.52 1540.52 1830.42 1542.31 Q1832.34 1544.09 1835.68 1544.09 Q1839.01 1544.09 1840.93 1542.31 Q1842.85 1540.5 1842.85 1537.4 Q1842.85 1534.27 1840.93 1532.49 Q1839.03 1530.71 1835.68 1530.71 M1831 1528.72 Q1827.99 1527.98 1826.3 1525.92 Q1824.63 1523.86 1824.63 1520.89 Q1824.63 1516.75 1827.57 1514.34 Q1830.54 1511.93 1835.68 1511.93 Q1840.84 1511.93 1843.78 1514.34 Q1846.72 1516.75 1846.72 1520.89 Q1846.72 1523.86 1845.03 1525.92 Q1843.36 1527.98 1840.38 1528.72 Q1843.75 1529.5 1845.63 1531.8 Q1847.53 1534.09 1847.53 1537.4 Q1847.53 1542.42 1844.45 1545.11 Q1841.39 1547.79 1835.68 1547.79 Q1829.96 1547.79 1826.88 1545.11 Q1823.82 1542.42 1823.82 1537.4 Q1823.82 1534.09 1825.72 1531.8 Q1827.62 1529.5 1831 1528.72 M1829.29 1521.33 Q1829.29 1524.02 1830.95 1525.52 Q1832.64 1527.03 1835.68 1527.03 Q1838.69 1527.03 1840.38 1525.52 Q1842.09 1524.02 1842.09 1521.33 Q1842.09 1518.65 1840.38 1517.14 Q1838.69 1515.64 1835.68 1515.64 Q1832.64 1515.64 1830.95 1517.14 Q1829.29 1518.65 1829.29 1521.33 Z\" fill=\"#000000\" fill-rule=\"evenodd\" fill-opacity=\"1\" /><path clip-path=\"url(#clip810)\" d=\"M 0 0 M2268.13 1543.18 L2275.77 1543.18 L2275.77 1516.82 L2267.46 1518.49 L2267.46 1514.23 L2275.72 1512.56 L2280.4 1512.56 L2280.4 1543.18 L2288.04 1543.18 L2288.04 1547.12 L2268.13 1547.12 L2268.13 1543.18 Z\" fill=\"#000000\" fill-rule=\"evenodd\" fill-opacity=\"1\" /><path clip-path=\"url(#clip810)\" d=\"M 0 0 M2303.1 1515.64 Q2299.49 1515.64 2297.67 1519.2 Q2295.86 1522.75 2295.86 1529.87 Q2295.86 1536.98 2297.67 1540.55 Q2299.49 1544.09 2303.1 1544.09 Q2306.74 1544.09 2308.54 1540.55 Q2310.37 1536.98 2310.37 1529.87 Q2310.37 1522.75 2308.54 1519.2 Q2306.74 1515.64 2303.1 1515.64 M2303.1 1511.93 Q2308.91 1511.93 2311.97 1516.54 Q2315.05 1521.12 2315.05 1529.87 Q2315.05 1538.6 2311.97 1543.21 Q2308.91 1547.79 2303.1 1547.79 Q2297.29 1547.79 2294.22 1543.21 Q2291.16 1538.6 2291.16 1529.87 Q2291.16 1521.12 2294.22 1516.54 Q2297.29 1511.93 2303.1 1511.93 Z\" fill=\"#000000\" fill-rule=\"evenodd\" fill-opacity=\"1\" /><polyline clip-path=\"url(#clip812)\" style=\"stroke:#000000; stroke-width:2; stroke-opacity:0.1; fill:none\" points=\"\n",
       "  179.654,1332.09 2352.76,1332.09 \n",
       "  \"/>\n",
       "<polyline clip-path=\"url(#clip812)\" style=\"stroke:#000000; stroke-width:2; stroke-opacity:0.1; fill:none\" points=\"\n",
       "  179.654,917.383 2352.76,917.383 \n",
       "  \"/>\n",
       "<polyline clip-path=\"url(#clip812)\" style=\"stroke:#000000; stroke-width:2; stroke-opacity:0.1; fill:none\" points=\"\n",
       "  179.654,502.68 2352.76,502.68 \n",
       "  \"/>\n",
       "<polyline clip-path=\"url(#clip812)\" style=\"stroke:#000000; stroke-width:2; stroke-opacity:0.1; fill:none\" points=\"\n",
       "  179.654,87.9763 2352.76,87.9763 \n",
       "  \"/>\n",
       "<polyline clip-path=\"url(#clip810)\" style=\"stroke:#000000; stroke-width:4; stroke-opacity:1; fill:none\" points=\"\n",
       "  179.654,1486.45 179.654,47.2441 \n",
       "  \"/>\n",
       "<polyline clip-path=\"url(#clip810)\" style=\"stroke:#000000; stroke-width:4; stroke-opacity:1; fill:none\" points=\"\n",
       "  179.654,1332.09 205.731,1332.09 \n",
       "  \"/>\n",
       "<polyline clip-path=\"url(#clip810)\" style=\"stroke:#000000; stroke-width:4; stroke-opacity:1; fill:none\" points=\"\n",
       "  179.654,917.383 205.731,917.383 \n",
       "  \"/>\n",
       "<polyline clip-path=\"url(#clip810)\" style=\"stroke:#000000; stroke-width:4; stroke-opacity:1; fill:none\" points=\"\n",
       "  179.654,502.68 205.731,502.68 \n",
       "  \"/>\n",
       "<polyline clip-path=\"url(#clip810)\" style=\"stroke:#000000; stroke-width:4; stroke-opacity:1; fill:none\" points=\"\n",
       "  179.654,87.9763 205.731,87.9763 \n",
       "  \"/>\n",
       "<path clip-path=\"url(#clip810)\" d=\"M 0 0 M50.9921 1332.54 L80.6679 1332.54 L80.6679 1336.47 L50.9921 1336.47 L50.9921 1332.54 Z\" fill=\"#000000\" fill-rule=\"evenodd\" fill-opacity=\"1\" /><path clip-path=\"url(#clip810)\" d=\"M 0 0 M95.7373 1317.89 Q92.1262 1317.89 90.2975 1321.45 Q88.4919 1324.99 88.4919 1332.12 Q88.4919 1339.23 90.2975 1342.79 Q92.1262 1346.33 95.7373 1346.33 Q99.3715 1346.33 101.177 1342.79 Q103.006 1339.23 103.006 1332.12 Q103.006 1324.99 101.177 1321.45 Q99.3715 1317.89 95.7373 1317.89 M95.7373 1314.18 Q101.547 1314.18 104.603 1318.79 Q107.682 1323.37 107.682 1332.12 Q107.682 1340.85 104.603 1345.45 Q101.547 1350.04 95.7373 1350.04 Q89.9271 1350.04 86.8484 1345.45 Q83.7929 1340.85 83.7929 1332.12 Q83.7929 1323.37 86.8484 1318.79 Q89.9271 1314.18 95.7373 1314.18 Z\" fill=\"#000000\" fill-rule=\"evenodd\" fill-opacity=\"1\" /><path clip-path=\"url(#clip810)\" d=\"M 0 0 M112.751 1343.49 L117.635 1343.49 L117.635 1349.37 L112.751 1349.37 L112.751 1343.49 Z\" fill=\"#000000\" fill-rule=\"evenodd\" fill-opacity=\"1\" /><path clip-path=\"url(#clip810)\" d=\"M 0 0 M122.751 1314.81 L141.107 1314.81 L141.107 1318.74 L127.033 1318.74 L127.033 1327.21 Q128.052 1326.87 129.07 1326.71 Q130.089 1326.52 131.107 1326.52 Q136.894 1326.52 140.274 1329.69 Q143.654 1332.86 143.654 1338.28 Q143.654 1343.86 140.181 1346.96 Q136.709 1350.04 130.39 1350.04 Q128.214 1350.04 125.945 1349.67 Q123.7 1349.3 121.293 1348.56 L121.293 1343.86 Q123.376 1344.99 125.598 1345.55 Q127.82 1346.1 130.297 1346.1 Q134.302 1346.1 136.64 1344 Q138.978 1341.89 138.978 1338.28 Q138.978 1334.67 136.64 1332.56 Q134.302 1330.45 130.297 1330.45 Q128.422 1330.45 126.547 1330.87 Q124.695 1331.29 122.751 1332.17 L122.751 1314.81 Z\" fill=\"#000000\" fill-rule=\"evenodd\" fill-opacity=\"1\" /><path clip-path=\"url(#clip810)\" d=\"M 0 0 M94.7419 903.182 Q91.1308 903.182 89.3021 906.747 Q87.4966 910.289 87.4966 917.418 Q87.4966 924.525 89.3021 928.089 Q91.1308 931.631 94.7419 931.631 Q98.3761 931.631 100.182 928.089 Q102.01 924.525 102.01 917.418 Q102.01 910.289 100.182 906.747 Q98.3761 903.182 94.7419 903.182 M94.7419 899.478 Q100.552 899.478 103.608 904.085 Q106.686 908.668 106.686 917.418 Q106.686 926.145 103.608 930.751 Q100.552 935.335 94.7419 935.335 Q88.9317 935.335 85.8531 930.751 Q82.7975 926.145 82.7975 917.418 Q82.7975 908.668 85.8531 904.085 Q88.9317 899.478 94.7419 899.478 Z\" fill=\"#000000\" fill-rule=\"evenodd\" fill-opacity=\"1\" /><path clip-path=\"url(#clip810)\" d=\"M 0 0 M111.756 928.784 L116.64 928.784 L116.64 934.663 L111.756 934.663 L111.756 928.784 Z\" fill=\"#000000\" fill-rule=\"evenodd\" fill-opacity=\"1\" /><path clip-path=\"url(#clip810)\" d=\"M 0 0 M131.709 903.182 Q128.098 903.182 126.27 906.747 Q124.464 910.289 124.464 917.418 Q124.464 924.525 126.27 928.089 Q128.098 931.631 131.709 931.631 Q135.344 931.631 137.149 928.089 Q138.978 924.525 138.978 917.418 Q138.978 910.289 137.149 906.747 Q135.344 903.182 131.709 903.182 M131.709 899.478 Q137.519 899.478 140.575 904.085 Q143.654 908.668 143.654 917.418 Q143.654 926.145 140.575 930.751 Q137.519 935.335 131.709 935.335 Q125.899 935.335 122.82 930.751 Q119.765 926.145 119.765 917.418 Q119.765 908.668 122.82 904.085 Q125.899 899.478 131.709 899.478 Z\" fill=\"#000000\" fill-rule=\"evenodd\" fill-opacity=\"1\" /><path clip-path=\"url(#clip810)\" d=\"M 0 0 M95.7373 488.479 Q92.1262 488.479 90.2975 492.043 Q88.4919 495.585 88.4919 502.715 Q88.4919 509.821 90.2975 513.386 Q92.1262 516.927 95.7373 516.927 Q99.3715 516.927 101.177 513.386 Q103.006 509.821 103.006 502.715 Q103.006 495.585 101.177 492.043 Q99.3715 488.479 95.7373 488.479 M95.7373 484.775 Q101.547 484.775 104.603 489.381 Q107.682 493.965 107.682 502.715 Q107.682 511.441 104.603 516.048 Q101.547 520.631 95.7373 520.631 Q89.9271 520.631 86.8484 516.048 Q83.7929 511.441 83.7929 502.715 Q83.7929 493.965 86.8484 489.381 Q89.9271 484.775 95.7373 484.775 Z\" fill=\"#000000\" fill-rule=\"evenodd\" fill-opacity=\"1\" /><path clip-path=\"url(#clip810)\" d=\"M 0 0 M112.751 514.08 L117.635 514.08 L117.635 519.96 L112.751 519.96 L112.751 514.08 Z\" fill=\"#000000\" fill-rule=\"evenodd\" fill-opacity=\"1\" /><path clip-path=\"url(#clip810)\" d=\"M 0 0 M122.751 485.4 L141.107 485.4 L141.107 489.335 L127.033 489.335 L127.033 497.807 Q128.052 497.46 129.07 497.298 Q130.089 497.113 131.107 497.113 Q136.894 497.113 140.274 500.284 Q143.654 503.455 143.654 508.872 Q143.654 514.451 140.181 517.552 Q136.709 520.631 130.39 520.631 Q128.214 520.631 125.945 520.261 Q123.7 519.89 121.293 519.15 L121.293 514.451 Q123.376 515.585 125.598 516.14 Q127.82 516.696 130.297 516.696 Q134.302 516.696 136.64 514.589 Q138.978 512.483 138.978 508.872 Q138.978 505.261 136.64 503.154 Q134.302 501.048 130.297 501.048 Q128.422 501.048 126.547 501.465 Q124.695 501.881 122.751 502.761 L122.751 485.4 Z\" fill=\"#000000\" fill-rule=\"evenodd\" fill-opacity=\"1\" /><path clip-path=\"url(#clip810)\" d=\"M 0 0 M86.779 101.321 L94.4178 101.321 L94.4178 74.9555 L86.1077 76.6222 L86.1077 72.3629 L94.3715 70.6963 L99.0474 70.6963 L99.0474 101.321 L106.686 101.321 L106.686 105.256 L86.779 105.256 L86.779 101.321 Z\" fill=\"#000000\" fill-rule=\"evenodd\" fill-opacity=\"1\" /><path clip-path=\"url(#clip810)\" d=\"M 0 0 M111.756 99.3767 L116.64 99.3767 L116.64 105.256 L111.756 105.256 L111.756 99.3767 Z\" fill=\"#000000\" fill-rule=\"evenodd\" fill-opacity=\"1\" /><path clip-path=\"url(#clip810)\" d=\"M 0 0 M131.709 73.775 Q128.098 73.775 126.27 77.3398 Q124.464 80.8814 124.464 88.011 Q124.464 95.1174 126.27 98.6822 Q128.098 102.224 131.709 102.224 Q135.344 102.224 137.149 98.6822 Q138.978 95.1174 138.978 88.011 Q138.978 80.8814 137.149 77.3398 Q135.344 73.775 131.709 73.775 M131.709 70.0713 Q137.519 70.0713 140.575 74.6777 Q143.654 79.261 143.654 88.011 Q143.654 96.7378 140.575 101.344 Q137.519 105.928 131.709 105.928 Q125.899 105.928 122.82 101.344 Q119.765 96.7378 119.765 88.011 Q119.765 79.261 122.82 74.6777 Q125.899 70.0713 131.709 70.0713 Z\" fill=\"#000000\" fill-rule=\"evenodd\" fill-opacity=\"1\" /><polyline clip-path=\"url(#clip812)\" style=\"stroke:#009af9; stroke-width:4; stroke-opacity:1; fill:none\" points=\"\n",
       "  241.157,917.383 468.945,87.9763 696.734,336.798 924.522,1091.56 1152.31,1445.72 1380.1,1165.29 1607.89,721.088 1835.68,606.439 2063.46,837.13 2291.25,1078.87 \n",
       "  \n",
       "  \"/>\n",
       "<path clip-path=\"url(#clip810)\" d=\"\n",
       "M1987.85 216.178 L2280.32 216.178 L2280.32 95.2176 L1987.85 95.2176  Z\n",
       "  \" fill=\"#ffffff\" fill-rule=\"evenodd\" fill-opacity=\"1\"/>\n",
       "<polyline clip-path=\"url(#clip810)\" style=\"stroke:#000000; stroke-width:4; stroke-opacity:1; fill:none\" points=\"\n",
       "  1987.85,216.178 2280.32,216.178 2280.32,95.2176 1987.85,95.2176 1987.85,216.178 \n",
       "  \"/>\n",
       "<polyline clip-path=\"url(#clip810)\" style=\"stroke:#009af9; stroke-width:4; stroke-opacity:1; fill:none\" points=\"\n",
       "  2011.99,155.698 2156.86,155.698 \n",
       "  \"/>\n",
       "<path clip-path=\"url(#clip810)\" d=\"M 0 0 M2194.85 175.385 Q2193.05 180.015 2191.33 181.427 Q2189.62 182.839 2186.75 182.839 L2183.35 182.839 L2183.35 179.274 L2185.85 179.274 Q2187.61 179.274 2188.58 178.44 Q2189.55 177.607 2190.73 174.505 L2191.5 172.561 L2181.01 147.052 L2185.52 147.052 L2193.63 167.329 L2201.73 147.052 L2206.24 147.052 L2194.85 175.385 Z\" fill=\"#000000\" fill-rule=\"evenodd\" fill-opacity=\"1\" /><path clip-path=\"url(#clip810)\" d=\"M 0 0 M2212.12 169.042 L2219.76 169.042 L2219.76 142.677 L2211.45 144.343 L2211.45 140.084 L2219.71 138.418 L2224.39 138.418 L2224.39 169.042 L2232.03 169.042 L2232.03 172.978 L2212.12 172.978 L2212.12 169.042 Z\" fill=\"#000000\" fill-rule=\"evenodd\" fill-opacity=\"1\" /></svg>\n"
      ]
     },
     "execution_count": 41,
     "metadata": {},
     "output_type": "execute_result"
    }
   ],
   "source": [
    "forecast_AR2!(Z, 0.7, -0.7)\n",
    "plot(Z)"
   ]
  },
  {
   "cell_type": "code",
   "execution_count": null,
   "metadata": {},
   "outputs": [],
   "source": []
  },
  {
   "cell_type": "code",
   "execution_count": null,
   "metadata": {},
   "outputs": [],
   "source": []
  },
  {
   "cell_type": "code",
   "execution_count": null,
   "metadata": {},
   "outputs": [],
   "source": []
  },
  {
   "cell_type": "code",
   "execution_count": null,
   "metadata": {},
   "outputs": [],
   "source": []
  },
  {
   "cell_type": "code",
   "execution_count": null,
   "metadata": {},
   "outputs": [],
   "source": []
  },
  {
   "cell_type": "markdown",
   "metadata": {},
   "source": [
    "# Exercise\n",
    "> Plot the solution for the following difference equation:\n",
    "> $$ x_t = 1.6 x_{t-1} - 0.64 x_{t-2}$$"
   ]
  },
  {
   "cell_type": "code",
   "execution_count": 42,
   "metadata": {},
   "outputs": [
    {
     "data": {
      "image/svg+xml": [
       "<?xml version=\"1.0\" encoding=\"utf-8\"?>\n",
       "<svg xmlns=\"http://www.w3.org/2000/svg\" xmlns:xlink=\"http://www.w3.org/1999/xlink\" width=\"600\" height=\"400\" viewBox=\"0 0 2400 1600\">\n",
       "<defs>\n",
       "  <clipPath id=\"clip850\">\n",
       "    <rect x=\"0\" y=\"0\" width=\"2400\" height=\"1600\"/>\n",
       "  </clipPath>\n",
       "</defs>\n",
       "<path clip-path=\"url(#clip850)\" d=\"\n",
       "M0 1600 L2400 1600 L2400 0 L0 0  Z\n",
       "  \" fill=\"#ffffff\" fill-rule=\"evenodd\" fill-opacity=\"1\"/>\n",
       "<defs>\n",
       "  <clipPath id=\"clip851\">\n",
       "    <rect x=\"480\" y=\"0\" width=\"1681\" height=\"1600\"/>\n",
       "  </clipPath>\n",
       "</defs>\n",
       "<path clip-path=\"url(#clip850)\" d=\"\n",
       "M147.848 1486.45 L2352.76 1486.45 L2352.76 47.2441 L147.848 47.2441  Z\n",
       "  \" fill=\"#ffffff\" fill-rule=\"evenodd\" fill-opacity=\"1\"/>\n",
       "<defs>\n",
       "  <clipPath id=\"clip852\">\n",
       "    <rect x=\"147\" y=\"47\" width=\"2206\" height=\"1440\"/>\n",
       "  </clipPath>\n",
       "</defs>\n",
       "<polyline clip-path=\"url(#clip852)\" style=\"stroke:#000000; stroke-width:2; stroke-opacity:0.1; fill:none\" points=\"\n",
       "  167.8,1486.45 167.8,47.2441 \n",
       "  \"/>\n",
       "<polyline clip-path=\"url(#clip852)\" style=\"stroke:#000000; stroke-width:2; stroke-opacity:0.1; fill:none\" points=\"\n",
       "  592.311,1486.45 592.311,47.2441 \n",
       "  \"/>\n",
       "<polyline clip-path=\"url(#clip852)\" style=\"stroke:#000000; stroke-width:2; stroke-opacity:0.1; fill:none\" points=\"\n",
       "  1016.82,1486.45 1016.82,47.2441 \n",
       "  \"/>\n",
       "<polyline clip-path=\"url(#clip852)\" style=\"stroke:#000000; stroke-width:2; stroke-opacity:0.1; fill:none\" points=\"\n",
       "  1441.33,1486.45 1441.33,47.2441 \n",
       "  \"/>\n",
       "<polyline clip-path=\"url(#clip852)\" style=\"stroke:#000000; stroke-width:2; stroke-opacity:0.1; fill:none\" points=\"\n",
       "  1865.84,1486.45 1865.84,47.2441 \n",
       "  \"/>\n",
       "<polyline clip-path=\"url(#clip852)\" style=\"stroke:#000000; stroke-width:2; stroke-opacity:0.1; fill:none\" points=\"\n",
       "  2290.35,1486.45 2290.35,47.2441 \n",
       "  \"/>\n",
       "<polyline clip-path=\"url(#clip850)\" style=\"stroke:#000000; stroke-width:4; stroke-opacity:1; fill:none\" points=\"\n",
       "  147.848,1486.45 2352.76,1486.45 \n",
       "  \"/>\n",
       "<polyline clip-path=\"url(#clip850)\" style=\"stroke:#000000; stroke-width:4; stroke-opacity:1; fill:none\" points=\"\n",
       "  167.8,1486.45 167.8,1469.18 \n",
       "  \"/>\n",
       "<polyline clip-path=\"url(#clip850)\" style=\"stroke:#000000; stroke-width:4; stroke-opacity:1; fill:none\" points=\"\n",
       "  592.311,1486.45 592.311,1469.18 \n",
       "  \"/>\n",
       "<polyline clip-path=\"url(#clip850)\" style=\"stroke:#000000; stroke-width:4; stroke-opacity:1; fill:none\" points=\"\n",
       "  1016.82,1486.45 1016.82,1469.18 \n",
       "  \"/>\n",
       "<polyline clip-path=\"url(#clip850)\" style=\"stroke:#000000; stroke-width:4; stroke-opacity:1; fill:none\" points=\"\n",
       "  1441.33,1486.45 1441.33,1469.18 \n",
       "  \"/>\n",
       "<polyline clip-path=\"url(#clip850)\" style=\"stroke:#000000; stroke-width:4; stroke-opacity:1; fill:none\" points=\"\n",
       "  1865.84,1486.45 1865.84,1469.18 \n",
       "  \"/>\n",
       "<polyline clip-path=\"url(#clip850)\" style=\"stroke:#000000; stroke-width:4; stroke-opacity:1; fill:none\" points=\"\n",
       "  2290.35,1486.45 2290.35,1469.18 \n",
       "  \"/>\n",
       "<path clip-path=\"url(#clip850)\" d=\"M 0 0 M167.8 1515.64 Q164.189 1515.64 162.36 1519.2 Q160.555 1522.75 160.555 1529.87 Q160.555 1536.98 162.36 1540.55 Q164.189 1544.09 167.8 1544.09 Q171.435 1544.09 173.24 1540.55 Q175.069 1536.98 175.069 1529.87 Q175.069 1522.75 173.24 1519.2 Q171.435 1515.64 167.8 1515.64 M167.8 1511.93 Q173.61 1511.93 176.666 1516.54 Q179.745 1521.12 179.745 1529.87 Q179.745 1538.6 176.666 1543.21 Q173.61 1547.79 167.8 1547.79 Q161.99 1547.79 158.911 1543.21 Q155.856 1538.6 155.856 1529.87 Q155.856 1521.12 158.911 1516.54 Q161.99 1511.93 167.8 1511.93 Z\" fill=\"#000000\" fill-rule=\"evenodd\" fill-opacity=\"1\" /><path clip-path=\"url(#clip850)\" d=\"M 0 0 M569.186 1543.18 L576.825 1543.18 L576.825 1516.82 L568.515 1518.49 L568.515 1514.23 L576.778 1512.56 L581.454 1512.56 L581.454 1543.18 L589.093 1543.18 L589.093 1547.12 L569.186 1547.12 L569.186 1543.18 Z\" fill=\"#000000\" fill-rule=\"evenodd\" fill-opacity=\"1\" /><path clip-path=\"url(#clip850)\" d=\"M 0 0 M604.163 1515.64 Q600.551 1515.64 598.723 1519.2 Q596.917 1522.75 596.917 1529.87 Q596.917 1536.98 598.723 1540.55 Q600.551 1544.09 604.163 1544.09 Q607.797 1544.09 609.602 1540.55 Q611.431 1536.98 611.431 1529.87 Q611.431 1522.75 609.602 1519.2 Q607.797 1515.64 604.163 1515.64 M604.163 1511.93 Q609.973 1511.93 613.028 1516.54 Q616.107 1521.12 616.107 1529.87 Q616.107 1538.6 613.028 1543.21 Q609.973 1547.79 604.163 1547.79 Q598.352 1547.79 595.274 1543.21 Q592.218 1538.6 592.218 1529.87 Q592.218 1521.12 595.274 1516.54 Q598.352 1511.93 604.163 1511.93 Z\" fill=\"#000000\" fill-rule=\"evenodd\" fill-opacity=\"1\" /><path clip-path=\"url(#clip850)\" d=\"M 0 0 M997.967 1543.18 L1014.29 1543.18 L1014.29 1547.12 L992.342 1547.12 L992.342 1543.18 Q995.004 1540.43 999.588 1535.8 Q1004.19 1531.15 1005.37 1529.81 Q1007.62 1527.28 1008.5 1525.55 Q1009.4 1523.79 1009.4 1522.1 Q1009.4 1519.34 1007.46 1517.61 Q1005.54 1515.87 1002.43 1515.87 Q1000.24 1515.87 997.782 1516.63 Q995.352 1517.4 992.574 1518.95 L992.574 1514.23 Q995.398 1513.09 997.852 1512.51 Q1000.31 1511.93 1002.34 1511.93 Q1007.71 1511.93 1010.91 1514.62 Q1014.1 1517.31 1014.1 1521.8 Q1014.1 1523.93 1013.29 1525.85 Q1012.5 1527.74 1010.4 1530.34 Q1009.82 1531.01 1006.72 1534.23 Q1003.62 1537.42 997.967 1543.18 Z\" fill=\"#000000\" fill-rule=\"evenodd\" fill-opacity=\"1\" /><path clip-path=\"url(#clip850)\" d=\"M 0 0 M1029.36 1515.64 Q1025.74 1515.64 1023.92 1519.2 Q1022.11 1522.75 1022.11 1529.87 Q1022.11 1536.98 1023.92 1540.55 Q1025.74 1544.09 1029.36 1544.09 Q1032.99 1544.09 1034.8 1540.55 Q1036.62 1536.98 1036.62 1529.87 Q1036.62 1522.75 1034.8 1519.2 Q1032.99 1515.64 1029.36 1515.64 M1029.36 1511.93 Q1035.17 1511.93 1038.22 1516.54 Q1041.3 1521.12 1041.3 1529.87 Q1041.3 1538.6 1038.22 1543.21 Q1035.17 1547.79 1029.36 1547.79 Q1023.55 1547.79 1020.47 1543.21 Q1017.41 1538.6 1017.41 1529.87 Q1017.41 1521.12 1020.47 1516.54 Q1023.55 1511.93 1029.36 1511.93 Z\" fill=\"#000000\" fill-rule=\"evenodd\" fill-opacity=\"1\" /><path clip-path=\"url(#clip850)\" d=\"M 0 0 M1432.07 1528.49 Q1435.43 1529.2 1437.3 1531.47 Q1439.2 1533.74 1439.2 1537.07 Q1439.2 1542.19 1435.68 1544.99 Q1432.17 1547.79 1425.68 1547.79 Q1423.51 1547.79 1421.19 1547.35 Q1418.9 1546.93 1416.45 1546.08 L1416.45 1541.56 Q1418.39 1542.7 1420.71 1543.28 Q1423.02 1543.86 1425.54 1543.86 Q1429.94 1543.86 1432.23 1542.12 Q1434.55 1540.38 1434.55 1537.07 Q1434.55 1534.02 1432.4 1532.31 Q1430.27 1530.57 1426.45 1530.57 L1422.42 1530.57 L1422.42 1526.73 L1426.63 1526.73 Q1430.08 1526.73 1431.91 1525.36 Q1433.74 1523.97 1433.74 1521.38 Q1433.74 1518.72 1431.84 1517.31 Q1429.97 1515.87 1426.45 1515.87 Q1424.53 1515.87 1422.33 1516.29 Q1420.13 1516.7 1417.49 1517.58 L1417.49 1513.42 Q1420.15 1512.68 1422.47 1512.31 Q1424.8 1511.93 1426.86 1511.93 Q1432.19 1511.93 1435.29 1514.37 Q1438.39 1516.77 1438.39 1520.89 Q1438.39 1523.76 1436.75 1525.75 Q1435.11 1527.72 1432.07 1528.49 Z\" fill=\"#000000\" fill-rule=\"evenodd\" fill-opacity=\"1\" /><path clip-path=\"url(#clip850)\" d=\"M 0 0 M1454.27 1515.64 Q1450.66 1515.64 1448.83 1519.2 Q1447.03 1522.75 1447.03 1529.87 Q1447.03 1536.98 1448.83 1540.55 Q1450.66 1544.09 1454.27 1544.09 Q1457.91 1544.09 1459.71 1540.55 Q1461.54 1536.98 1461.54 1529.87 Q1461.54 1522.75 1459.71 1519.2 Q1457.91 1515.64 1454.27 1515.64 M1454.27 1511.93 Q1460.08 1511.93 1463.14 1516.54 Q1466.22 1521.12 1466.22 1529.87 Q1466.22 1538.6 1463.14 1543.21 Q1460.08 1547.79 1454.27 1547.79 Q1448.46 1547.79 1445.38 1543.21 Q1442.33 1538.6 1442.33 1529.87 Q1442.33 1521.12 1445.38 1516.54 Q1448.46 1511.93 1454.27 1511.93 Z\" fill=\"#000000\" fill-rule=\"evenodd\" fill-opacity=\"1\" /><path clip-path=\"url(#clip850)\" d=\"M 0 0 M1855.34 1516.63 L1843.54 1535.08 L1855.34 1535.08 L1855.34 1516.63 M1854.12 1512.56 L1860 1512.56 L1860 1535.08 L1864.93 1535.08 L1864.93 1538.97 L1860 1538.97 L1860 1547.12 L1855.34 1547.12 L1855.34 1538.97 L1839.74 1538.97 L1839.74 1534.46 L1854.12 1512.56 Z\" fill=\"#000000\" fill-rule=\"evenodd\" fill-opacity=\"1\" /><path clip-path=\"url(#clip850)\" d=\"M 0 0 M1880 1515.64 Q1876.39 1515.64 1874.56 1519.2 Q1872.75 1522.75 1872.75 1529.87 Q1872.75 1536.98 1874.56 1540.55 Q1876.39 1544.09 1880 1544.09 Q1883.63 1544.09 1885.44 1540.55 Q1887.27 1536.98 1887.27 1529.87 Q1887.27 1522.75 1885.44 1519.2 Q1883.63 1515.64 1880 1515.64 M1880 1511.93 Q1885.81 1511.93 1888.86 1516.54 Q1891.94 1521.12 1891.94 1529.87 Q1891.94 1538.6 1888.86 1543.21 Q1885.81 1547.79 1880 1547.79 Q1874.19 1547.79 1871.11 1543.21 Q1868.05 1538.6 1868.05 1529.87 Q1868.05 1521.12 1871.11 1516.54 Q1874.19 1511.93 1880 1511.93 Z\" fill=\"#000000\" fill-rule=\"evenodd\" fill-opacity=\"1\" /><path clip-path=\"url(#clip850)\" d=\"M 0 0 M2267.12 1512.56 L2285.48 1512.56 L2285.48 1516.5 L2271.41 1516.5 L2271.41 1524.97 Q2272.42 1524.62 2273.44 1524.46 Q2274.46 1524.27 2275.48 1524.27 Q2281.27 1524.27 2284.65 1527.44 Q2288.03 1530.62 2288.03 1536.03 Q2288.03 1541.61 2284.55 1544.71 Q2281.08 1547.79 2274.76 1547.79 Q2272.59 1547.79 2270.32 1547.42 Q2268.07 1547.05 2265.67 1546.31 L2265.67 1541.61 Q2267.75 1542.74 2269.97 1543.3 Q2272.19 1543.86 2274.67 1543.86 Q2278.67 1543.86 2281.01 1541.75 Q2283.35 1539.64 2283.35 1536.03 Q2283.35 1532.42 2281.01 1530.31 Q2278.67 1528.21 2274.67 1528.21 Q2272.8 1528.21 2270.92 1528.62 Q2269.07 1529.04 2267.12 1529.92 L2267.12 1512.56 Z\" fill=\"#000000\" fill-rule=\"evenodd\" fill-opacity=\"1\" /><path clip-path=\"url(#clip850)\" d=\"M 0 0 M2303.1 1515.64 Q2299.48 1515.64 2297.66 1519.2 Q2295.85 1522.75 2295.85 1529.87 Q2295.85 1536.98 2297.66 1540.55 Q2299.48 1544.09 2303.1 1544.09 Q2306.73 1544.09 2308.54 1540.55 Q2310.36 1536.98 2310.36 1529.87 Q2310.36 1522.75 2308.54 1519.2 Q2306.73 1515.64 2303.1 1515.64 M2303.1 1511.93 Q2308.91 1511.93 2311.96 1516.54 Q2315.04 1521.12 2315.04 1529.87 Q2315.04 1538.6 2311.96 1543.21 Q2308.91 1547.79 2303.1 1547.79 Q2297.29 1547.79 2294.21 1543.21 Q2291.15 1538.6 2291.15 1529.87 Q2291.15 1521.12 2294.21 1516.54 Q2297.29 1511.93 2303.1 1511.93 Z\" fill=\"#000000\" fill-rule=\"evenodd\" fill-opacity=\"1\" /><polyline clip-path=\"url(#clip852)\" style=\"stroke:#000000; stroke-width:2; stroke-opacity:0.1; fill:none\" points=\"\n",
       "  147.848,1445.72 2352.76,1445.72 \n",
       "  \"/>\n",
       "<polyline clip-path=\"url(#clip852)\" style=\"stroke:#000000; stroke-width:2; stroke-opacity:0.1; fill:none\" points=\"\n",
       "  147.848,1114.24 2352.76,1114.24 \n",
       "  \"/>\n",
       "<polyline clip-path=\"url(#clip852)\" style=\"stroke:#000000; stroke-width:2; stroke-opacity:0.1; fill:none\" points=\"\n",
       "  147.848,782.757 2352.76,782.757 \n",
       "  \"/>\n",
       "<polyline clip-path=\"url(#clip852)\" style=\"stroke:#000000; stroke-width:2; stroke-opacity:0.1; fill:none\" points=\"\n",
       "  147.848,451.278 2352.76,451.278 \n",
       "  \"/>\n",
       "<polyline clip-path=\"url(#clip852)\" style=\"stroke:#000000; stroke-width:2; stroke-opacity:0.1; fill:none\" points=\"\n",
       "  147.848,119.798 2352.76,119.798 \n",
       "  \"/>\n",
       "<polyline clip-path=\"url(#clip850)\" style=\"stroke:#000000; stroke-width:4; stroke-opacity:1; fill:none\" points=\"\n",
       "  147.848,1486.45 147.848,47.2441 \n",
       "  \"/>\n",
       "<polyline clip-path=\"url(#clip850)\" style=\"stroke:#000000; stroke-width:4; stroke-opacity:1; fill:none\" points=\"\n",
       "  147.848,1445.72 174.307,1445.72 \n",
       "  \"/>\n",
       "<polyline clip-path=\"url(#clip850)\" style=\"stroke:#000000; stroke-width:4; stroke-opacity:1; fill:none\" points=\"\n",
       "  147.848,1114.24 174.307,1114.24 \n",
       "  \"/>\n",
       "<polyline clip-path=\"url(#clip850)\" style=\"stroke:#000000; stroke-width:4; stroke-opacity:1; fill:none\" points=\"\n",
       "  147.848,782.757 174.307,782.757 \n",
       "  \"/>\n",
       "<polyline clip-path=\"url(#clip850)\" style=\"stroke:#000000; stroke-width:4; stroke-opacity:1; fill:none\" points=\"\n",
       "  147.848,451.278 174.307,451.278 \n",
       "  \"/>\n",
       "<polyline clip-path=\"url(#clip850)\" style=\"stroke:#000000; stroke-width:4; stroke-opacity:1; fill:none\" points=\"\n",
       "  147.848,119.798 174.307,119.798 \n",
       "  \"/>\n",
       "<path clip-path=\"url(#clip850)\" d=\"M 0 0 M62.9365 1431.51 Q59.3254 1431.51 57.4967 1435.08 Q55.6912 1438.62 55.6912 1445.75 Q55.6912 1452.86 57.4967 1456.42 Q59.3254 1459.96 62.9365 1459.96 Q66.5707 1459.96 68.3763 1456.42 Q70.205 1452.86 70.205 1445.75 Q70.205 1438.62 68.3763 1435.08 Q66.5707 1431.51 62.9365 1431.51 M62.9365 1427.81 Q68.7467 1427.81 71.8022 1432.42 Q74.8809 1437 74.8809 1445.75 Q74.8809 1454.48 71.8022 1459.08 Q68.7467 1463.67 62.9365 1463.67 Q57.1264 1463.67 54.0477 1459.08 Q50.9921 1454.48 50.9921 1445.75 Q50.9921 1437 54.0477 1432.42 Q57.1264 1427.81 62.9365 1427.81 Z\" fill=\"#000000\" fill-rule=\"evenodd\" fill-opacity=\"1\" /><path clip-path=\"url(#clip850)\" d=\"M 0 0 M79.9503 1457.12 L84.8345 1457.12 L84.8345 1463 L79.9503 1463 L79.9503 1457.12 Z\" fill=\"#000000\" fill-rule=\"evenodd\" fill-opacity=\"1\" /><path clip-path=\"url(#clip850)\" d=\"M 0 0 M99.9039 1431.51 Q96.2928 1431.51 94.4641 1435.08 Q92.6586 1438.62 92.6586 1445.75 Q92.6586 1452.86 94.4641 1456.42 Q96.2928 1459.96 99.9039 1459.96 Q103.538 1459.96 105.344 1456.42 Q107.172 1452.86 107.172 1445.75 Q107.172 1438.62 105.344 1435.08 Q103.538 1431.51 99.9039 1431.51 M99.9039 1427.81 Q105.714 1427.81 108.77 1432.42 Q111.848 1437 111.848 1445.75 Q111.848 1454.48 108.77 1459.08 Q105.714 1463.67 99.9039 1463.67 Q94.0937 1463.67 91.0151 1459.08 Q87.9595 1454.48 87.9595 1445.75 Q87.9595 1437 91.0151 1432.42 Q94.0937 1427.81 99.9039 1427.81 Z\" fill=\"#000000\" fill-rule=\"evenodd\" fill-opacity=\"1\" /><path clip-path=\"url(#clip850)\" d=\"M 0 0 M63.9319 1100.04 Q60.3208 1100.04 58.4921 1103.6 Q56.6865 1107.14 56.6865 1114.27 Q56.6865 1121.38 58.4921 1124.94 Q60.3208 1128.48 63.9319 1128.48 Q67.5661 1128.48 69.3717 1124.94 Q71.2004 1121.38 71.2004 1114.27 Q71.2004 1107.14 69.3717 1103.6 Q67.5661 1100.04 63.9319 1100.04 M63.9319 1096.33 Q69.742 1096.33 72.7976 1100.94 Q75.8763 1105.52 75.8763 1114.27 Q75.8763 1123 72.7976 1127.6 Q69.742 1132.19 63.9319 1132.19 Q58.1217 1132.19 55.043 1127.6 Q51.9875 1123 51.9875 1114.27 Q51.9875 1105.52 55.043 1100.94 Q58.1217 1096.33 63.9319 1096.33 Z\" fill=\"#000000\" fill-rule=\"evenodd\" fill-opacity=\"1\" /><path clip-path=\"url(#clip850)\" d=\"M 0 0 M80.9457 1125.64 L85.8299 1125.64 L85.8299 1131.52 L80.9457 1131.52 L80.9457 1125.64 Z\" fill=\"#000000\" fill-rule=\"evenodd\" fill-opacity=\"1\" /><path clip-path=\"url(#clip850)\" d=\"M 0 0 M90.9456 1096.96 L109.302 1096.96 L109.302 1100.89 L95.228 1100.89 L95.228 1109.36 Q96.2465 1109.02 97.265 1108.85 Q98.2835 1108.67 99.3021 1108.67 Q105.089 1108.67 108.469 1111.84 Q111.848 1115.01 111.848 1120.43 Q111.848 1126.01 108.376 1129.11 Q104.904 1132.19 98.5845 1132.19 Q96.4085 1132.19 94.14 1131.82 Q91.8947 1131.45 89.4873 1130.71 L89.4873 1126.01 Q91.5706 1127.14 93.7928 1127.7 Q96.015 1128.25 98.4919 1128.25 Q102.496 1128.25 104.834 1126.15 Q107.172 1124.04 107.172 1120.43 Q107.172 1116.82 104.834 1114.71 Q102.496 1112.6 98.4919 1112.6 Q96.6169 1112.6 94.7419 1113.02 Q92.89 1113.44 90.9456 1114.32 L90.9456 1096.96 Z\" fill=\"#000000\" fill-rule=\"evenodd\" fill-opacity=\"1\" /><path clip-path=\"url(#clip850)\" d=\"M 0 0 M54.9736 796.102 L62.6124 796.102 L62.6124 769.736 L54.3023 771.403 L54.3023 767.144 L62.5661 765.477 L67.242 765.477 L67.242 796.102 L74.8809 796.102 L74.8809 800.037 L54.9736 800.037 L54.9736 796.102 Z\" fill=\"#000000\" fill-rule=\"evenodd\" fill-opacity=\"1\" /><path clip-path=\"url(#clip850)\" d=\"M 0 0 M79.9503 794.157 L84.8345 794.157 L84.8345 800.037 L79.9503 800.037 L79.9503 794.157 Z\" fill=\"#000000\" fill-rule=\"evenodd\" fill-opacity=\"1\" /><path clip-path=\"url(#clip850)\" d=\"M 0 0 M99.9039 768.556 Q96.2928 768.556 94.4641 772.12 Q92.6586 775.662 92.6586 782.792 Q92.6586 789.898 94.4641 793.463 Q96.2928 797.005 99.9039 797.005 Q103.538 797.005 105.344 793.463 Q107.172 789.898 107.172 782.792 Q107.172 775.662 105.344 772.12 Q103.538 768.556 99.9039 768.556 M99.9039 764.852 Q105.714 764.852 108.77 769.458 Q111.848 774.042 111.848 782.792 Q111.848 791.519 108.77 796.125 Q105.714 800.708 99.9039 800.708 Q94.0937 800.708 91.0151 796.125 Q87.9595 791.519 87.9595 782.792 Q87.9595 774.042 91.0151 769.458 Q94.0937 764.852 99.9039 764.852 Z\" fill=\"#000000\" fill-rule=\"evenodd\" fill-opacity=\"1\" /><path clip-path=\"url(#clip850)\" d=\"M 0 0 M55.969 464.622 L63.6078 464.622 L63.6078 438.257 L55.2977 439.924 L55.2977 435.664 L63.5615 433.998 L68.2374 433.998 L68.2374 464.622 L75.8763 464.622 L75.8763 468.558 L55.969 468.558 L55.969 464.622 Z\" fill=\"#000000\" fill-rule=\"evenodd\" fill-opacity=\"1\" /><path clip-path=\"url(#clip850)\" d=\"M 0 0 M80.9457 462.678 L85.8299 462.678 L85.8299 468.558 L80.9457 468.558 L80.9457 462.678 Z\" fill=\"#000000\" fill-rule=\"evenodd\" fill-opacity=\"1\" /><path clip-path=\"url(#clip850)\" d=\"M 0 0 M90.9456 433.998 L109.302 433.998 L109.302 437.933 L95.228 437.933 L95.228 446.405 Q96.2465 446.058 97.265 445.896 Q98.2835 445.711 99.3021 445.711 Q105.089 445.711 108.469 448.882 Q111.848 452.053 111.848 457.47 Q111.848 463.048 108.376 466.15 Q104.904 469.229 98.5845 469.229 Q96.4085 469.229 94.14 468.859 Q91.8947 468.488 89.4873 467.747 L89.4873 463.048 Q91.5706 464.183 93.7928 464.738 Q96.015 465.294 98.4919 465.294 Q102.496 465.294 104.834 463.187 Q107.172 461.081 107.172 457.47 Q107.172 453.859 104.834 451.752 Q102.496 449.646 98.4919 449.646 Q96.6169 449.646 94.7419 450.062 Q92.89 450.479 90.9456 451.359 L90.9456 433.998 Z\" fill=\"#000000\" fill-rule=\"evenodd\" fill-opacity=\"1\" /><path clip-path=\"url(#clip850)\" d=\"M 0 0 M58.5615 133.143 L74.8809 133.143 L74.8809 137.078 L52.9366 137.078 L52.9366 133.143 Q55.5986 130.389 60.1819 125.759 Q64.7883 121.106 65.9689 119.764 Q68.2143 117.24 69.0939 115.504 Q69.9967 113.745 69.9967 112.055 Q69.9967 109.301 68.0522 107.565 Q66.1309 105.828 63.0291 105.828 Q60.83 105.828 58.3763 106.592 Q55.9458 107.356 53.168 108.907 L53.168 104.185 Q55.9921 103.051 58.4458 102.472 Q60.8995 101.893 62.9365 101.893 Q68.3068 101.893 71.5013 104.578 Q74.6957 107.264 74.6957 111.754 Q74.6957 113.884 73.8855 115.805 Q73.0985 117.703 70.992 120.296 Q70.4133 120.967 67.3115 124.185 Q64.2096 127.379 58.5615 133.143 Z\" fill=\"#000000\" fill-rule=\"evenodd\" fill-opacity=\"1\" /><path clip-path=\"url(#clip850)\" d=\"M 0 0 M79.9503 131.199 L84.8345 131.199 L84.8345 137.078 L79.9503 137.078 L79.9503 131.199 Z\" fill=\"#000000\" fill-rule=\"evenodd\" fill-opacity=\"1\" /><path clip-path=\"url(#clip850)\" d=\"M 0 0 M99.9039 105.597 Q96.2928 105.597 94.4641 109.162 Q92.6586 112.703 92.6586 119.833 Q92.6586 126.939 94.4641 130.504 Q96.2928 134.046 99.9039 134.046 Q103.538 134.046 105.344 130.504 Q107.172 126.939 107.172 119.833 Q107.172 112.703 105.344 109.162 Q103.538 105.597 99.9039 105.597 M99.9039 101.893 Q105.714 101.893 108.77 106.5 Q111.848 111.083 111.848 119.833 Q111.848 128.56 108.77 133.166 Q105.714 137.75 99.9039 137.75 Q94.0937 137.75 91.0151 133.166 Q87.9595 128.56 87.9595 119.833 Q87.9595 111.083 91.0151 106.5 Q94.0937 101.893 99.9039 101.893 Z\" fill=\"#000000\" fill-rule=\"evenodd\" fill-opacity=\"1\" /><polyline clip-path=\"url(#clip852)\" style=\"stroke:#009af9; stroke-width:4; stroke-opacity:1; fill:none\" points=\"\n",
       "  210.251,1445.72 252.702,782.757 295.153,384.982 337.604,172.835 380.056,87.9763 422.507,87.9763 464.958,142.286 507.409,229.181 549.86,333.456 592.311,444.682 \n",
       "  634.762,555.908 677.213,662.685 719.664,762.343 762.115,853.459 804.566,935.464 847.017,1008.36 889.468,1072.5 931.919,1128.49 974.37,1177 1016.82,1218.8 \n",
       "  1059.27,1254.63 1101.72,1285.2 1144.17,1311.19 1186.63,1333.2 1229.08,1351.79 1271.53,1367.45 1313.98,1380.6 1356.43,1391.62 1398.88,1400.83 1441.33,1408.53 \n",
       "  1483.78,1414.94 1526.23,1420.27 1568.68,1424.71 1611.14,1428.38 1653.59,1431.43 1696.04,1433.95 1738.49,1436.03 1780.94,1437.76 1823.39,1439.18 1865.84,1440.35 \n",
       "  1908.29,1441.31 1950.74,1442.1 1993.2,1442.75 2035.65,1443.29 2078.1,1443.73 2120.55,1444.09 2163,1444.39 2205.45,1444.63 2247.9,1444.83 2290.35,1444.99 \n",
       "  \n",
       "  \"/>\n",
       "<path clip-path=\"url(#clip850)\" d=\"\n",
       "M1983.25 216.178 L2279.26 216.178 L2279.26 95.2176 L1983.25 95.2176  Z\n",
       "  \" fill=\"#ffffff\" fill-rule=\"evenodd\" fill-opacity=\"1\"/>\n",
       "<polyline clip-path=\"url(#clip850)\" style=\"stroke:#000000; stroke-width:4; stroke-opacity:1; fill:none\" points=\"\n",
       "  1983.25,216.178 2279.26,216.178 2279.26,95.2176 1983.25,95.2176 1983.25,216.178 \n",
       "  \"/>\n",
       "<polyline clip-path=\"url(#clip850)\" style=\"stroke:#009af9; stroke-width:4; stroke-opacity:1; fill:none\" points=\"\n",
       "  2007.75,155.698 2154.74,155.698 \n",
       "  \"/>\n",
       "<path clip-path=\"url(#clip850)\" d=\"M 0 0 M2193.09 175.385 Q2191.28 180.015 2189.57 181.427 Q2187.85 182.839 2184.98 182.839 L2181.58 182.839 L2181.58 179.274 L2184.08 179.274 Q2185.84 179.274 2186.81 178.44 Q2187.78 177.607 2188.96 174.505 L2189.73 172.561 L2179.24 147.052 L2183.76 147.052 L2191.86 167.329 L2199.96 147.052 L2204.47 147.052 L2193.09 175.385 Z\" fill=\"#000000\" fill-rule=\"evenodd\" fill-opacity=\"1\" /><path clip-path=\"url(#clip850)\" d=\"M 0 0 M2210.35 169.042 L2217.99 169.042 L2217.99 142.677 L2209.68 144.343 L2209.68 140.084 L2217.95 138.418 L2222.62 138.418 L2222.62 169.042 L2230.26 169.042 L2230.26 172.978 L2210.35 172.978 L2210.35 169.042 Z\" fill=\"#000000\" fill-rule=\"evenodd\" fill-opacity=\"1\" /></svg>\n"
      ]
     },
     "execution_count": 42,
     "metadata": {},
     "output_type": "execute_result"
    }
   ],
   "source": [
    "Z = zeros(50)\n",
    "Z[2] = 1.0\n",
    "forecast_AR2!(Z, 1.6, -0.64)\n",
    "plot(Z)"
   ]
  },
  {
   "cell_type": "markdown",
   "metadata": {},
   "source": [
    "### The lag operator\n",
    "Let $Lx_t \\equiv x_{t-1}$. By induction, $L^px_t = x_{t-p}$. We can write\n",
    "$$\n",
    "x_t = a_1 L x_t + a_2 L^2 x_t\n",
    "$$\n",
    "$$\n",
    "(1 - a_1 L  - a_2 L^2) x_t = 0\n",
    "$$\n"
   ]
  },
  {
   "cell_type": "markdown",
   "metadata": {},
   "source": [
    "This is a linear operator:\n",
    "$$ \n",
    "L(ax_t + b z_t) = aLx_t + b Lz_t\n",
    "$$"
   ]
  },
  {
   "cell_type": "markdown",
   "metadata": {},
   "source": [
    "We can decompose into\n",
    "$$\n",
    "(1 - \\lambda_1 L) (1 - \\lambda_2 L) x_t = 0\n",
    "$$"
   ]
  },
  {
   "cell_type": "markdown",
   "metadata": {},
   "source": [
    "such that\n",
    "$$\n",
    "\\lambda_1\\lambda_2 = -a_2\n",
    "$$\n",
    "and\n",
    "$$\n",
    "\\lambda_1 +\\lambda_2 = a_1\n",
    "$$"
   ]
  },
  {
   "cell_type": "markdown",
   "metadata": {},
   "source": [
    "We have to study the \"roots\" $\\lambda_1$ and $\\lambda_2$.\n",
    "\n",
    "Recall for AR1:\n",
    "$$\n",
    "(1- aL)x_t = 0\n",
    "$$\n",
    "had the solution $x_t = c a^t$. If $x_{t1}$ is a solution to AR1 with $\\lambda_1$, then $(1-\\lambda_1 L)x_{t1} = 0$ for all $t$. Btw, $x_{t1} = c_1 \\lambda_1^t$.\n",
    "Then $x_{t1}$ and $x_{t2}$ are both solutions to AR2. The generic solution is\n",
    "$$\n",
    "x_t = c_1 \\lambda_1^t + c_2 \\lambda_2 ^t.\n",
    "$$\n"
   ]
  },
  {
   "cell_type": "code",
   "execution_count": 43,
   "metadata": {},
   "outputs": [
    {
     "data": {
      "text/plain": [
       "forecast_with_lambda! (generic function with 1 method)"
      ]
     },
     "execution_count": 43,
     "metadata": {},
     "output_type": "execute_result"
    }
   ],
   "source": [
    "function forecast_with_lambda!(x::Vector{Float64}, λ1::Complex, λ2::Complex)\n",
    "    a1 = (λ1 + λ2)\n",
    "    a2 = (- λ1 * λ2)\n",
    "    T = length(x)\n",
    "    for t = 3:T\n",
    "        x[t] = a1 * x[t-1] + a2 * x[t-2]\n",
    "    end\n",
    "end"
   ]
  },
  {
   "cell_type": "code",
   "execution_count": 44,
   "metadata": {},
   "outputs": [
    {
     "data": {
      "text/plain": [
       "50-element Array{Float64,1}:\n",
       " 0.0\n",
       " 1.0\n",
       " 1.6\n",
       " 1.9200000000000004\n",
       " 2.048000000000001\n",
       " 2.048000000000001\n",
       " 1.966080000000001\n",
       " 1.8350080000000013\n",
       " 1.6777216000000015\n",
       " 1.5099494400000018\n",
       " 1.342177280000002\n",
       " 1.1811160064000021\n",
       " 1.0307921510400022\n",
       " ⋮\n",
       " 0.009865364031216382\n",
       " 0.00809998309931451\n",
       " 0.006646139978924731\n",
       " 0.005449834782718285\n",
       " 0.004466206065837428\n",
       " 0.003658035444400183\n",
       " 0.0029944848289043388\n",
       " 0.0024500330418308256\n",
       " 0.002003582576430544\n",
       " 0.0016377109755171427\n",
       " 0.00133804471191188\n",
       " 0.0010927365147280364"
      ]
     },
     "execution_count": 44,
     "metadata": {},
     "output_type": "execute_result"
    }
   ],
   "source": [
    "Z"
   ]
  },
  {
   "cell_type": "code",
   "execution_count": 46,
   "metadata": {},
   "outputs": [
    {
     "data": {
      "image/svg+xml": [
       "<?xml version=\"1.0\" encoding=\"utf-8\"?>\n",
       "<svg xmlns=\"http://www.w3.org/2000/svg\" xmlns:xlink=\"http://www.w3.org/1999/xlink\" width=\"600\" height=\"400\" viewBox=\"0 0 2400 1600\">\n",
       "<defs>\n",
       "  <clipPath id=\"clip890\">\n",
       "    <rect x=\"0\" y=\"0\" width=\"2400\" height=\"1600\"/>\n",
       "  </clipPath>\n",
       "</defs>\n",
       "<path clip-path=\"url(#clip890)\" d=\"\n",
       "M0 1600 L2400 1600 L2400 0 L0 0  Z\n",
       "  \" fill=\"#ffffff\" fill-rule=\"evenodd\" fill-opacity=\"1\"/>\n",
       "<defs>\n",
       "  <clipPath id=\"clip891\">\n",
       "    <rect x=\"480\" y=\"0\" width=\"1681\" height=\"1600\"/>\n",
       "  </clipPath>\n",
       "</defs>\n",
       "<path clip-path=\"url(#clip890)\" d=\"\n",
       "M147.848 1486.45 L2352.76 1486.45 L2352.76 47.2441 L147.848 47.2441  Z\n",
       "  \" fill=\"#ffffff\" fill-rule=\"evenodd\" fill-opacity=\"1\"/>\n",
       "<defs>\n",
       "  <clipPath id=\"clip892\">\n",
       "    <rect x=\"147\" y=\"47\" width=\"2206\" height=\"1440\"/>\n",
       "  </clipPath>\n",
       "</defs>\n",
       "<polyline clip-path=\"url(#clip892)\" style=\"stroke:#000000; stroke-width:2; stroke-opacity:0.1; fill:none\" points=\"\n",
       "  167.8,1486.45 167.8,47.2441 \n",
       "  \"/>\n",
       "<polyline clip-path=\"url(#clip892)\" style=\"stroke:#000000; stroke-width:2; stroke-opacity:0.1; fill:none\" points=\"\n",
       "  592.311,1486.45 592.311,47.2441 \n",
       "  \"/>\n",
       "<polyline clip-path=\"url(#clip892)\" style=\"stroke:#000000; stroke-width:2; stroke-opacity:0.1; fill:none\" points=\"\n",
       "  1016.82,1486.45 1016.82,47.2441 \n",
       "  \"/>\n",
       "<polyline clip-path=\"url(#clip892)\" style=\"stroke:#000000; stroke-width:2; stroke-opacity:0.1; fill:none\" points=\"\n",
       "  1441.33,1486.45 1441.33,47.2441 \n",
       "  \"/>\n",
       "<polyline clip-path=\"url(#clip892)\" style=\"stroke:#000000; stroke-width:2; stroke-opacity:0.1; fill:none\" points=\"\n",
       "  1865.84,1486.45 1865.84,47.2441 \n",
       "  \"/>\n",
       "<polyline clip-path=\"url(#clip892)\" style=\"stroke:#000000; stroke-width:2; stroke-opacity:0.1; fill:none\" points=\"\n",
       "  2290.35,1486.45 2290.35,47.2441 \n",
       "  \"/>\n",
       "<polyline clip-path=\"url(#clip890)\" style=\"stroke:#000000; stroke-width:4; stroke-opacity:1; fill:none\" points=\"\n",
       "  147.848,1486.45 2352.76,1486.45 \n",
       "  \"/>\n",
       "<polyline clip-path=\"url(#clip890)\" style=\"stroke:#000000; stroke-width:4; stroke-opacity:1; fill:none\" points=\"\n",
       "  167.8,1486.45 167.8,1469.18 \n",
       "  \"/>\n",
       "<polyline clip-path=\"url(#clip890)\" style=\"stroke:#000000; stroke-width:4; stroke-opacity:1; fill:none\" points=\"\n",
       "  592.311,1486.45 592.311,1469.18 \n",
       "  \"/>\n",
       "<polyline clip-path=\"url(#clip890)\" style=\"stroke:#000000; stroke-width:4; stroke-opacity:1; fill:none\" points=\"\n",
       "  1016.82,1486.45 1016.82,1469.18 \n",
       "  \"/>\n",
       "<polyline clip-path=\"url(#clip890)\" style=\"stroke:#000000; stroke-width:4; stroke-opacity:1; fill:none\" points=\"\n",
       "  1441.33,1486.45 1441.33,1469.18 \n",
       "  \"/>\n",
       "<polyline clip-path=\"url(#clip890)\" style=\"stroke:#000000; stroke-width:4; stroke-opacity:1; fill:none\" points=\"\n",
       "  1865.84,1486.45 1865.84,1469.18 \n",
       "  \"/>\n",
       "<polyline clip-path=\"url(#clip890)\" style=\"stroke:#000000; stroke-width:4; stroke-opacity:1; fill:none\" points=\"\n",
       "  2290.35,1486.45 2290.35,1469.18 \n",
       "  \"/>\n",
       "<path clip-path=\"url(#clip890)\" d=\"M 0 0 M167.8 1515.64 Q164.189 1515.64 162.36 1519.2 Q160.555 1522.75 160.555 1529.87 Q160.555 1536.98 162.36 1540.55 Q164.189 1544.09 167.8 1544.09 Q171.435 1544.09 173.24 1540.55 Q175.069 1536.98 175.069 1529.87 Q175.069 1522.75 173.24 1519.2 Q171.435 1515.64 167.8 1515.64 M167.8 1511.93 Q173.61 1511.93 176.666 1516.54 Q179.745 1521.12 179.745 1529.87 Q179.745 1538.6 176.666 1543.21 Q173.61 1547.79 167.8 1547.79 Q161.99 1547.79 158.911 1543.21 Q155.856 1538.6 155.856 1529.87 Q155.856 1521.12 158.911 1516.54 Q161.99 1511.93 167.8 1511.93 Z\" fill=\"#000000\" fill-rule=\"evenodd\" fill-opacity=\"1\" /><path clip-path=\"url(#clip890)\" d=\"M 0 0 M569.186 1543.18 L576.825 1543.18 L576.825 1516.82 L568.515 1518.49 L568.515 1514.23 L576.778 1512.56 L581.454 1512.56 L581.454 1543.18 L589.093 1543.18 L589.093 1547.12 L569.186 1547.12 L569.186 1543.18 Z\" fill=\"#000000\" fill-rule=\"evenodd\" fill-opacity=\"1\" /><path clip-path=\"url(#clip890)\" d=\"M 0 0 M604.163 1515.64 Q600.551 1515.64 598.723 1519.2 Q596.917 1522.75 596.917 1529.87 Q596.917 1536.98 598.723 1540.55 Q600.551 1544.09 604.163 1544.09 Q607.797 1544.09 609.602 1540.55 Q611.431 1536.98 611.431 1529.87 Q611.431 1522.75 609.602 1519.2 Q607.797 1515.64 604.163 1515.64 M604.163 1511.93 Q609.973 1511.93 613.028 1516.54 Q616.107 1521.12 616.107 1529.87 Q616.107 1538.6 613.028 1543.21 Q609.973 1547.79 604.163 1547.79 Q598.352 1547.79 595.274 1543.21 Q592.218 1538.6 592.218 1529.87 Q592.218 1521.12 595.274 1516.54 Q598.352 1511.93 604.163 1511.93 Z\" fill=\"#000000\" fill-rule=\"evenodd\" fill-opacity=\"1\" /><path clip-path=\"url(#clip890)\" d=\"M 0 0 M997.967 1543.18 L1014.29 1543.18 L1014.29 1547.12 L992.342 1547.12 L992.342 1543.18 Q995.004 1540.43 999.588 1535.8 Q1004.19 1531.15 1005.37 1529.81 Q1007.62 1527.28 1008.5 1525.55 Q1009.4 1523.79 1009.4 1522.1 Q1009.4 1519.34 1007.46 1517.61 Q1005.54 1515.87 1002.43 1515.87 Q1000.24 1515.87 997.782 1516.63 Q995.352 1517.4 992.574 1518.95 L992.574 1514.23 Q995.398 1513.09 997.852 1512.51 Q1000.31 1511.93 1002.34 1511.93 Q1007.71 1511.93 1010.91 1514.62 Q1014.1 1517.31 1014.1 1521.8 Q1014.1 1523.93 1013.29 1525.85 Q1012.5 1527.74 1010.4 1530.34 Q1009.82 1531.01 1006.72 1534.23 Q1003.62 1537.42 997.967 1543.18 Z\" fill=\"#000000\" fill-rule=\"evenodd\" fill-opacity=\"1\" /><path clip-path=\"url(#clip890)\" d=\"M 0 0 M1029.36 1515.64 Q1025.74 1515.64 1023.92 1519.2 Q1022.11 1522.75 1022.11 1529.87 Q1022.11 1536.98 1023.92 1540.55 Q1025.74 1544.09 1029.36 1544.09 Q1032.99 1544.09 1034.8 1540.55 Q1036.62 1536.98 1036.62 1529.87 Q1036.62 1522.75 1034.8 1519.2 Q1032.99 1515.64 1029.36 1515.64 M1029.36 1511.93 Q1035.17 1511.93 1038.22 1516.54 Q1041.3 1521.12 1041.3 1529.87 Q1041.3 1538.6 1038.22 1543.21 Q1035.17 1547.79 1029.36 1547.79 Q1023.55 1547.79 1020.47 1543.21 Q1017.41 1538.6 1017.41 1529.87 Q1017.41 1521.12 1020.47 1516.54 Q1023.55 1511.93 1029.36 1511.93 Z\" fill=\"#000000\" fill-rule=\"evenodd\" fill-opacity=\"1\" /><path clip-path=\"url(#clip890)\" d=\"M 0 0 M1432.07 1528.49 Q1435.43 1529.2 1437.3 1531.47 Q1439.2 1533.74 1439.2 1537.07 Q1439.2 1542.19 1435.68 1544.99 Q1432.17 1547.79 1425.68 1547.79 Q1423.51 1547.79 1421.19 1547.35 Q1418.9 1546.93 1416.45 1546.08 L1416.45 1541.56 Q1418.39 1542.7 1420.71 1543.28 Q1423.02 1543.86 1425.54 1543.86 Q1429.94 1543.86 1432.23 1542.12 Q1434.55 1540.38 1434.55 1537.07 Q1434.55 1534.02 1432.4 1532.31 Q1430.27 1530.57 1426.45 1530.57 L1422.42 1530.57 L1422.42 1526.73 L1426.63 1526.73 Q1430.08 1526.73 1431.91 1525.36 Q1433.74 1523.97 1433.74 1521.38 Q1433.74 1518.72 1431.84 1517.31 Q1429.97 1515.87 1426.45 1515.87 Q1424.53 1515.87 1422.33 1516.29 Q1420.13 1516.7 1417.49 1517.58 L1417.49 1513.42 Q1420.15 1512.68 1422.47 1512.31 Q1424.8 1511.93 1426.86 1511.93 Q1432.19 1511.93 1435.29 1514.37 Q1438.39 1516.77 1438.39 1520.89 Q1438.39 1523.76 1436.75 1525.75 Q1435.11 1527.72 1432.07 1528.49 Z\" fill=\"#000000\" fill-rule=\"evenodd\" fill-opacity=\"1\" /><path clip-path=\"url(#clip890)\" d=\"M 0 0 M1454.27 1515.64 Q1450.66 1515.64 1448.83 1519.2 Q1447.03 1522.75 1447.03 1529.87 Q1447.03 1536.98 1448.83 1540.55 Q1450.66 1544.09 1454.27 1544.09 Q1457.91 1544.09 1459.71 1540.55 Q1461.54 1536.98 1461.54 1529.87 Q1461.54 1522.75 1459.71 1519.2 Q1457.91 1515.64 1454.27 1515.64 M1454.27 1511.93 Q1460.08 1511.93 1463.14 1516.54 Q1466.22 1521.12 1466.22 1529.87 Q1466.22 1538.6 1463.14 1543.21 Q1460.08 1547.79 1454.27 1547.79 Q1448.46 1547.79 1445.38 1543.21 Q1442.33 1538.6 1442.33 1529.87 Q1442.33 1521.12 1445.38 1516.54 Q1448.46 1511.93 1454.27 1511.93 Z\" fill=\"#000000\" fill-rule=\"evenodd\" fill-opacity=\"1\" /><path clip-path=\"url(#clip890)\" d=\"M 0 0 M1855.34 1516.63 L1843.54 1535.08 L1855.34 1535.08 L1855.34 1516.63 M1854.12 1512.56 L1860 1512.56 L1860 1535.08 L1864.93 1535.08 L1864.93 1538.97 L1860 1538.97 L1860 1547.12 L1855.34 1547.12 L1855.34 1538.97 L1839.74 1538.97 L1839.74 1534.46 L1854.12 1512.56 Z\" fill=\"#000000\" fill-rule=\"evenodd\" fill-opacity=\"1\" /><path clip-path=\"url(#clip890)\" d=\"M 0 0 M1880 1515.64 Q1876.39 1515.64 1874.56 1519.2 Q1872.75 1522.75 1872.75 1529.87 Q1872.75 1536.98 1874.56 1540.55 Q1876.39 1544.09 1880 1544.09 Q1883.63 1544.09 1885.44 1540.55 Q1887.27 1536.98 1887.27 1529.87 Q1887.27 1522.75 1885.44 1519.2 Q1883.63 1515.64 1880 1515.64 M1880 1511.93 Q1885.81 1511.93 1888.86 1516.54 Q1891.94 1521.12 1891.94 1529.87 Q1891.94 1538.6 1888.86 1543.21 Q1885.81 1547.79 1880 1547.79 Q1874.19 1547.79 1871.11 1543.21 Q1868.05 1538.6 1868.05 1529.87 Q1868.05 1521.12 1871.11 1516.54 Q1874.19 1511.93 1880 1511.93 Z\" fill=\"#000000\" fill-rule=\"evenodd\" fill-opacity=\"1\" /><path clip-path=\"url(#clip890)\" d=\"M 0 0 M2267.12 1512.56 L2285.48 1512.56 L2285.48 1516.5 L2271.41 1516.5 L2271.41 1524.97 Q2272.42 1524.62 2273.44 1524.46 Q2274.46 1524.27 2275.48 1524.27 Q2281.27 1524.27 2284.65 1527.44 Q2288.03 1530.62 2288.03 1536.03 Q2288.03 1541.61 2284.55 1544.71 Q2281.08 1547.79 2274.76 1547.79 Q2272.59 1547.79 2270.32 1547.42 Q2268.07 1547.05 2265.67 1546.31 L2265.67 1541.61 Q2267.75 1542.74 2269.97 1543.3 Q2272.19 1543.86 2274.67 1543.86 Q2278.67 1543.86 2281.01 1541.75 Q2283.35 1539.64 2283.35 1536.03 Q2283.35 1532.42 2281.01 1530.31 Q2278.67 1528.21 2274.67 1528.21 Q2272.8 1528.21 2270.92 1528.62 Q2269.07 1529.04 2267.12 1529.92 L2267.12 1512.56 Z\" fill=\"#000000\" fill-rule=\"evenodd\" fill-opacity=\"1\" /><path clip-path=\"url(#clip890)\" d=\"M 0 0 M2303.1 1515.64 Q2299.48 1515.64 2297.66 1519.2 Q2295.85 1522.75 2295.85 1529.87 Q2295.85 1536.98 2297.66 1540.55 Q2299.48 1544.09 2303.1 1544.09 Q2306.73 1544.09 2308.54 1540.55 Q2310.36 1536.98 2310.36 1529.87 Q2310.36 1522.75 2308.54 1519.2 Q2306.73 1515.64 2303.1 1515.64 M2303.1 1511.93 Q2308.91 1511.93 2311.96 1516.54 Q2315.04 1521.12 2315.04 1529.87 Q2315.04 1538.6 2311.96 1543.21 Q2308.91 1547.79 2303.1 1547.79 Q2297.29 1547.79 2294.21 1543.21 Q2291.15 1538.6 2291.15 1529.87 Q2291.15 1521.12 2294.21 1516.54 Q2297.29 1511.93 2303.1 1511.93 Z\" fill=\"#000000\" fill-rule=\"evenodd\" fill-opacity=\"1\" /><polyline clip-path=\"url(#clip892)\" style=\"stroke:#000000; stroke-width:2; stroke-opacity:0.1; fill:none\" points=\"\n",
       "  147.848,1439.89 2352.76,1439.89 \n",
       "  \"/>\n",
       "<polyline clip-path=\"url(#clip892)\" style=\"stroke:#000000; stroke-width:2; stroke-opacity:0.1; fill:none\" points=\"\n",
       "  147.848,1104.6 2352.76,1104.6 \n",
       "  \"/>\n",
       "<polyline clip-path=\"url(#clip892)\" style=\"stroke:#000000; stroke-width:2; stroke-opacity:0.1; fill:none\" points=\"\n",
       "  147.848,769.299 2352.76,769.299 \n",
       "  \"/>\n",
       "<polyline clip-path=\"url(#clip892)\" style=\"stroke:#000000; stroke-width:2; stroke-opacity:0.1; fill:none\" points=\"\n",
       "  147.848,434.003 2352.76,434.003 \n",
       "  \"/>\n",
       "<polyline clip-path=\"url(#clip892)\" style=\"stroke:#000000; stroke-width:2; stroke-opacity:0.1; fill:none\" points=\"\n",
       "  147.848,98.7058 2352.76,98.7058 \n",
       "  \"/>\n",
       "<polyline clip-path=\"url(#clip890)\" style=\"stroke:#000000; stroke-width:4; stroke-opacity:1; fill:none\" points=\"\n",
       "  147.848,1486.45 147.848,47.2441 \n",
       "  \"/>\n",
       "<polyline clip-path=\"url(#clip890)\" style=\"stroke:#000000; stroke-width:4; stroke-opacity:1; fill:none\" points=\"\n",
       "  147.848,1439.89 174.307,1439.89 \n",
       "  \"/>\n",
       "<polyline clip-path=\"url(#clip890)\" style=\"stroke:#000000; stroke-width:4; stroke-opacity:1; fill:none\" points=\"\n",
       "  147.848,1104.6 174.307,1104.6 \n",
       "  \"/>\n",
       "<polyline clip-path=\"url(#clip890)\" style=\"stroke:#000000; stroke-width:4; stroke-opacity:1; fill:none\" points=\"\n",
       "  147.848,769.299 174.307,769.299 \n",
       "  \"/>\n",
       "<polyline clip-path=\"url(#clip890)\" style=\"stroke:#000000; stroke-width:4; stroke-opacity:1; fill:none\" points=\"\n",
       "  147.848,434.003 174.307,434.003 \n",
       "  \"/>\n",
       "<polyline clip-path=\"url(#clip890)\" style=\"stroke:#000000; stroke-width:4; stroke-opacity:1; fill:none\" points=\"\n",
       "  147.848,98.7058 174.307,98.7058 \n",
       "  \"/>\n",
       "<path clip-path=\"url(#clip890)\" d=\"M 0 0 M62.9365 1425.69 Q59.3254 1425.69 57.4967 1429.26 Q55.6912 1432.8 55.6912 1439.93 Q55.6912 1447.03 57.4967 1450.6 Q59.3254 1454.14 62.9365 1454.14 Q66.5707 1454.14 68.3763 1450.6 Q70.205 1447.03 70.205 1439.93 Q70.205 1432.8 68.3763 1429.26 Q66.5707 1425.69 62.9365 1425.69 M62.9365 1421.99 Q68.7467 1421.99 71.8022 1426.59 Q74.8809 1431.18 74.8809 1439.93 Q74.8809 1448.65 71.8022 1453.26 Q68.7467 1457.84 62.9365 1457.84 Q57.1264 1457.84 54.0477 1453.26 Q50.9921 1448.65 50.9921 1439.93 Q50.9921 1431.18 54.0477 1426.59 Q57.1264 1421.99 62.9365 1421.99 Z\" fill=\"#000000\" fill-rule=\"evenodd\" fill-opacity=\"1\" /><path clip-path=\"url(#clip890)\" d=\"M 0 0 M79.9503 1451.29 L84.8345 1451.29 L84.8345 1457.17 L79.9503 1457.17 L79.9503 1451.29 Z\" fill=\"#000000\" fill-rule=\"evenodd\" fill-opacity=\"1\" /><path clip-path=\"url(#clip890)\" d=\"M 0 0 M99.9039 1425.69 Q96.2928 1425.69 94.4641 1429.26 Q92.6586 1432.8 92.6586 1439.93 Q92.6586 1447.03 94.4641 1450.6 Q96.2928 1454.14 99.9039 1454.14 Q103.538 1454.14 105.344 1450.6 Q107.172 1447.03 107.172 1439.93 Q107.172 1432.8 105.344 1429.26 Q103.538 1425.69 99.9039 1425.69 M99.9039 1421.99 Q105.714 1421.99 108.77 1426.59 Q111.848 1431.18 111.848 1439.93 Q111.848 1448.65 108.77 1453.26 Q105.714 1457.84 99.9039 1457.84 Q94.0937 1457.84 91.0151 1453.26 Q87.9595 1448.65 87.9595 1439.93 Q87.9595 1431.18 91.0151 1426.59 Q94.0937 1421.99 99.9039 1421.99 Z\" fill=\"#000000\" fill-rule=\"evenodd\" fill-opacity=\"1\" /><path clip-path=\"url(#clip890)\" d=\"M 0 0 M63.9319 1090.39 Q60.3208 1090.39 58.4921 1093.96 Q56.6865 1097.5 56.6865 1104.63 Q56.6865 1111.74 58.4921 1115.3 Q60.3208 1118.84 63.9319 1118.84 Q67.5661 1118.84 69.3717 1115.3 Q71.2004 1111.74 71.2004 1104.63 Q71.2004 1097.5 69.3717 1093.96 Q67.5661 1090.39 63.9319 1090.39 M63.9319 1086.69 Q69.742 1086.69 72.7976 1091.3 Q75.8763 1095.88 75.8763 1104.63 Q75.8763 1113.36 72.7976 1117.96 Q69.742 1122.55 63.9319 1122.55 Q58.1217 1122.55 55.043 1117.96 Q51.9875 1113.36 51.9875 1104.63 Q51.9875 1095.88 55.043 1091.3 Q58.1217 1086.69 63.9319 1086.69 Z\" fill=\"#000000\" fill-rule=\"evenodd\" fill-opacity=\"1\" /><path clip-path=\"url(#clip890)\" d=\"M 0 0 M80.9457 1116 L85.8299 1116 L85.8299 1121.88 L80.9457 1121.88 L80.9457 1116 Z\" fill=\"#000000\" fill-rule=\"evenodd\" fill-opacity=\"1\" /><path clip-path=\"url(#clip890)\" d=\"M 0 0 M90.9456 1087.32 L109.302 1087.32 L109.302 1091.25 L95.228 1091.25 L95.228 1099.72 Q96.2465 1099.38 97.265 1099.21 Q98.2835 1099.03 99.3021 1099.03 Q105.089 1099.03 108.469 1102.2 Q111.848 1105.37 111.848 1110.79 Q111.848 1116.37 108.376 1119.47 Q104.904 1122.55 98.5845 1122.55 Q96.4085 1122.55 94.14 1122.18 Q91.8947 1121.81 89.4873 1121.07 L89.4873 1116.37 Q91.5706 1117.5 93.7928 1118.06 Q96.015 1118.61 98.4919 1118.61 Q102.496 1118.61 104.834 1116.51 Q107.172 1114.4 107.172 1110.79 Q107.172 1107.18 104.834 1105.07 Q102.496 1102.96 98.4919 1102.96 Q96.6169 1102.96 94.7419 1103.38 Q92.89 1103.8 90.9456 1104.68 L90.9456 1087.32 Z\" fill=\"#000000\" fill-rule=\"evenodd\" fill-opacity=\"1\" /><path clip-path=\"url(#clip890)\" d=\"M 0 0 M54.9736 782.644 L62.6124 782.644 L62.6124 756.279 L54.3023 757.945 L54.3023 753.686 L62.5661 752.019 L67.242 752.019 L67.242 782.644 L74.8809 782.644 L74.8809 786.579 L54.9736 786.579 L54.9736 782.644 Z\" fill=\"#000000\" fill-rule=\"evenodd\" fill-opacity=\"1\" /><path clip-path=\"url(#clip890)\" d=\"M 0 0 M79.9503 780.7 L84.8345 780.7 L84.8345 786.579 L79.9503 786.579 L79.9503 780.7 Z\" fill=\"#000000\" fill-rule=\"evenodd\" fill-opacity=\"1\" /><path clip-path=\"url(#clip890)\" d=\"M 0 0 M99.9039 755.098 Q96.2928 755.098 94.4641 758.663 Q92.6586 762.204 92.6586 769.334 Q92.6586 776.44 94.4641 780.005 Q96.2928 783.547 99.9039 783.547 Q103.538 783.547 105.344 780.005 Q107.172 776.44 107.172 769.334 Q107.172 762.204 105.344 758.663 Q103.538 755.098 99.9039 755.098 M99.9039 751.394 Q105.714 751.394 108.77 756.001 Q111.848 760.584 111.848 769.334 Q111.848 778.061 108.77 782.667 Q105.714 787.251 99.9039 787.251 Q94.0937 787.251 91.0151 782.667 Q87.9595 778.061 87.9595 769.334 Q87.9595 760.584 91.0151 756.001 Q94.0937 751.394 99.9039 751.394 Z\" fill=\"#000000\" fill-rule=\"evenodd\" fill-opacity=\"1\" /><path clip-path=\"url(#clip890)\" d=\"M 0 0 M55.969 447.347 L63.6078 447.347 L63.6078 420.982 L55.2977 422.648 L55.2977 418.389 L63.5615 416.723 L68.2374 416.723 L68.2374 447.347 L75.8763 447.347 L75.8763 451.283 L55.969 451.283 L55.969 447.347 Z\" fill=\"#000000\" fill-rule=\"evenodd\" fill-opacity=\"1\" /><path clip-path=\"url(#clip890)\" d=\"M 0 0 M80.9457 445.403 L85.8299 445.403 L85.8299 451.283 L80.9457 451.283 L80.9457 445.403 Z\" fill=\"#000000\" fill-rule=\"evenodd\" fill-opacity=\"1\" /><path clip-path=\"url(#clip890)\" d=\"M 0 0 M90.9456 416.723 L109.302 416.723 L109.302 420.658 L95.228 420.658 L95.228 429.13 Q96.2465 428.783 97.265 428.621 Q98.2835 428.435 99.3021 428.435 Q105.089 428.435 108.469 431.607 Q111.848 434.778 111.848 440.195 Q111.848 445.773 108.376 448.875 Q104.904 451.954 98.5845 451.954 Q96.4085 451.954 94.14 451.583 Q91.8947 451.213 89.4873 450.472 L89.4873 445.773 Q91.5706 446.908 93.7928 447.463 Q96.015 448.019 98.4919 448.019 Q102.496 448.019 104.834 445.912 Q107.172 443.806 107.172 440.195 Q107.172 436.584 104.834 434.477 Q102.496 432.371 98.4919 432.371 Q96.6169 432.371 94.7419 432.787 Q92.89 433.204 90.9456 434.084 L90.9456 416.723 Z\" fill=\"#000000\" fill-rule=\"evenodd\" fill-opacity=\"1\" /><path clip-path=\"url(#clip890)\" d=\"M 0 0 M58.5615 112.051 L74.8809 112.051 L74.8809 115.986 L52.9366 115.986 L52.9366 112.051 Q55.5986 109.296 60.1819 104.666 Q64.7883 100.014 65.9689 98.6711 Q68.2143 96.1479 69.0939 94.4118 Q69.9967 92.6526 69.9967 90.9628 Q69.9967 88.2081 68.0522 86.472 Q66.1309 84.7359 63.0291 84.7359 Q60.83 84.7359 58.3763 85.4998 Q55.9458 86.2637 53.168 87.8146 L53.168 83.0924 Q55.9921 81.9582 58.4458 81.3795 Q60.8995 80.8008 62.9365 80.8008 Q68.3068 80.8008 71.5013 83.4859 Q74.6957 86.1711 74.6957 90.6618 Q74.6957 92.7915 73.8855 94.7127 Q73.0985 96.6109 70.992 99.2035 Q70.4133 99.8747 67.3115 103.092 Q64.2096 106.287 58.5615 112.051 Z\" fill=\"#000000\" fill-rule=\"evenodd\" fill-opacity=\"1\" /><path clip-path=\"url(#clip890)\" d=\"M 0 0 M79.9503 110.106 L84.8345 110.106 L84.8345 115.986 L79.9503 115.986 L79.9503 110.106 Z\" fill=\"#000000\" fill-rule=\"evenodd\" fill-opacity=\"1\" /><path clip-path=\"url(#clip890)\" d=\"M 0 0 M99.9039 84.5045 Q96.2928 84.5045 94.4641 88.0693 Q92.6586 91.6109 92.6586 98.7405 Q92.6586 105.847 94.4641 109.412 Q96.2928 112.953 99.9039 112.953 Q103.538 112.953 105.344 109.412 Q107.172 105.847 107.172 98.7405 Q107.172 91.6109 105.344 88.0693 Q103.538 84.5045 99.9039 84.5045 M99.9039 80.8008 Q105.714 80.8008 108.77 85.4072 Q111.848 89.9905 111.848 98.7405 Q111.848 107.467 108.77 112.074 Q105.714 116.657 99.9039 116.657 Q94.0937 116.657 91.0151 112.074 Q87.9595 107.467 87.9595 98.7405 Q87.9595 89.9905 91.0151 85.4072 Q94.0937 80.8008 99.9039 80.8008 Z\" fill=\"#000000\" fill-rule=\"evenodd\" fill-opacity=\"1\" /><polyline clip-path=\"url(#clip892)\" style=\"stroke:#009af9; stroke-width:4; stroke-opacity:1; fill:none\" points=\"\n",
       "  210.251,1439.89 252.702,769.299 295.153,366.943 337.604,159.059 380.056,87.9763 422.507,109.368 464.958,189.799 507.409,304.584 549.86,435.96 592.311,571.55 \n",
       "  634.762,703.102 677.213,825.449 719.664,935.698 762.115,1032.57 804.566,1115.9 847.017,1186.27 889.468,1244.69 931.919,1292.42 974.37,1330.82 1016.82,1361.23 \n",
       "  1059.27,1384.93 1101.72,1403.09 1144.17,1416.73 1186.63,1426.75 1229.08,1433.93 1271.53,1438.89 1313.98,1442.16 1356.43,1444.18 1398.88,1445.27 1441.33,1445.72 \n",
       "  1483.78,1445.71 1526.23,1445.42 1568.68,1444.95 1611.14,1444.4 1653.59,1443.81 1696.04,1443.23 1738.49,1442.69 1780.94,1442.2 1823.39,1441.76 1865.84,1441.39 \n",
       "  1908.29,1441.07 1950.74,1440.8 1993.2,1440.58 2035.65,1440.41 2078.1,1440.27 2120.55,1440.16 2163,1440.07 2205.45,1440.01 2247.9,1439.96 2290.35,1439.93 \n",
       "  \n",
       "  \"/>\n",
       "<path clip-path=\"url(#clip890)\" d=\"\n",
       "M1983.25 216.178 L2279.26 216.178 L2279.26 95.2176 L1983.25 95.2176  Z\n",
       "  \" fill=\"#ffffff\" fill-rule=\"evenodd\" fill-opacity=\"1\"/>\n",
       "<polyline clip-path=\"url(#clip890)\" style=\"stroke:#000000; stroke-width:4; stroke-opacity:1; fill:none\" points=\"\n",
       "  1983.25,216.178 2279.26,216.178 2279.26,95.2176 1983.25,95.2176 1983.25,216.178 \n",
       "  \"/>\n",
       "<polyline clip-path=\"url(#clip890)\" style=\"stroke:#009af9; stroke-width:4; stroke-opacity:1; fill:none\" points=\"\n",
       "  2007.75,155.698 2154.74,155.698 \n",
       "  \"/>\n",
       "<path clip-path=\"url(#clip890)\" d=\"M 0 0 M2193.09 175.385 Q2191.28 180.015 2189.57 181.427 Q2187.85 182.839 2184.98 182.839 L2181.58 182.839 L2181.58 179.274 L2184.08 179.274 Q2185.84 179.274 2186.81 178.44 Q2187.78 177.607 2188.96 174.505 L2189.73 172.561 L2179.24 147.052 L2183.76 147.052 L2191.86 167.329 L2199.96 147.052 L2204.47 147.052 L2193.09 175.385 Z\" fill=\"#000000\" fill-rule=\"evenodd\" fill-opacity=\"1\" /><path clip-path=\"url(#clip890)\" d=\"M 0 0 M2210.35 169.042 L2217.99 169.042 L2217.99 142.677 L2209.68 144.343 L2209.68 140.084 L2217.95 138.418 L2222.62 138.418 L2222.62 169.042 L2230.26 169.042 L2230.26 172.978 L2210.35 172.978 L2210.35 169.042 Z\" fill=\"#000000\" fill-rule=\"evenodd\" fill-opacity=\"1\" /></svg>\n"
      ]
     },
     "execution_count": 46,
     "metadata": {},
     "output_type": "execute_result"
    }
   ],
   "source": [
    "forecast_with_lambda!(Z, 0.8+0.1im, 0.8-0.1im)\n",
    "plot(Z)"
   ]
  },
  {
   "cell_type": "markdown",
   "metadata": {},
   "source": [
    "## October 6\n",
    "We will begin each class with rerunning all the cells above."
   ]
  },
  {
   "cell_type": "markdown",
   "metadata": {},
   "source": [
    "> Note: not any pair of complex numbers work as these have to be roots of a quadratic equation. I will fix this for next class."
   ]
  },
  {
   "cell_type": "markdown",
   "metadata": {},
   "source": [
    "$$\n",
    "a_1 = \\lambda_1 + \\lambda_2\n",
    "$$\n",
    "$$\n",
    "a_2 = - \\lambda_1 \\lambda_2\n",
    "$$\n",
    "$$\n",
    "\\lambda_i = l_i + m_i i\n",
    "$$\n",
    "for $a_1$ to be real\n",
    "$$\n",
    "m_1 + m_2 = 0\n",
    "$$\n",
    "for $a_2$ be real\n",
    "$$\n",
    "l_1 l_2 + l_1 m_2i + l_2 m_1 i\n",
    "- m_1m_2\n",
    "$$\n",
    "needs to be real:\n",
    "$$\n",
    "(l_1 - l_2)m_1 = 0\n",
    "$$\n",
    "either $m_1=0$ then $l_1 \\neq l_2$,\n",
    "or $l_1=l_2$."
   ]
  },
  {
   "cell_type": "code",
   "execution_count": 60,
   "metadata": {},
   "outputs": [
    {
     "data": {
      "text/plain": [
       "3 + 4im"
      ]
     },
     "execution_count": 60,
     "metadata": {},
     "output_type": "execute_result"
    }
   ],
   "source": [
    "Complex(3, 4)"
   ]
  },
  {
   "cell_type": "code",
   "execution_count": 52,
   "metadata": {},
   "outputs": [
    {
     "data": {
      "image/svg+xml": [
       "<?xml version=\"1.0\" encoding=\"utf-8\"?>\n",
       "<svg xmlns=\"http://www.w3.org/2000/svg\" xmlns:xlink=\"http://www.w3.org/1999/xlink\" width=\"600\" height=\"400\" viewBox=\"0 0 2400 1600\">\n",
       "<defs>\n",
       "  <clipPath id=\"clip130\">\n",
       "    <rect x=\"0\" y=\"0\" width=\"2400\" height=\"1600\"/>\n",
       "  </clipPath>\n",
       "</defs>\n",
       "<path clip-path=\"url(#clip130)\" d=\"\n",
       "M0 1600 L2400 1600 L2400 0 L0 0  Z\n",
       "  \" fill=\"#ffffff\" fill-rule=\"evenodd\" fill-opacity=\"1\"/>\n",
       "<defs>\n",
       "  <clipPath id=\"clip131\">\n",
       "    <rect x=\"480\" y=\"0\" width=\"1681\" height=\"1600\"/>\n",
       "  </clipPath>\n",
       "</defs>\n",
       "<path clip-path=\"url(#clip130)\" d=\"\n",
       "M179.654 1486.45 L2352.76 1486.45 L2352.76 47.2441 L179.654 47.2441  Z\n",
       "  \" fill=\"#ffffff\" fill-rule=\"evenodd\" fill-opacity=\"1\"/>\n",
       "<defs>\n",
       "  <clipPath id=\"clip132\">\n",
       "    <rect x=\"179\" y=\"47\" width=\"2174\" height=\"1440\"/>\n",
       "  </clipPath>\n",
       "</defs>\n",
       "<polyline clip-path=\"url(#clip132)\" style=\"stroke:#000000; stroke-width:2; stroke-opacity:0.1; fill:none\" points=\"\n",
       "  199.318,1486.45 199.318,47.2441 \n",
       "  \"/>\n",
       "<polyline clip-path=\"url(#clip132)\" style=\"stroke:#000000; stroke-width:2; stroke-opacity:0.1; fill:none\" points=\"\n",
       "  617.705,1486.45 617.705,47.2441 \n",
       "  \"/>\n",
       "<polyline clip-path=\"url(#clip132)\" style=\"stroke:#000000; stroke-width:2; stroke-opacity:0.1; fill:none\" points=\"\n",
       "  1036.09,1486.45 1036.09,47.2441 \n",
       "  \"/>\n",
       "<polyline clip-path=\"url(#clip132)\" style=\"stroke:#000000; stroke-width:2; stroke-opacity:0.1; fill:none\" points=\"\n",
       "  1454.48,1486.45 1454.48,47.2441 \n",
       "  \"/>\n",
       "<polyline clip-path=\"url(#clip132)\" style=\"stroke:#000000; stroke-width:2; stroke-opacity:0.1; fill:none\" points=\"\n",
       "  1872.87,1486.45 1872.87,47.2441 \n",
       "  \"/>\n",
       "<polyline clip-path=\"url(#clip132)\" style=\"stroke:#000000; stroke-width:2; stroke-opacity:0.1; fill:none\" points=\"\n",
       "  2291.25,1486.45 2291.25,47.2441 \n",
       "  \"/>\n",
       "<polyline clip-path=\"url(#clip130)\" style=\"stroke:#000000; stroke-width:4; stroke-opacity:1; fill:none\" points=\"\n",
       "  179.654,1486.45 2352.76,1486.45 \n",
       "  \"/>\n",
       "<polyline clip-path=\"url(#clip130)\" style=\"stroke:#000000; stroke-width:4; stroke-opacity:1; fill:none\" points=\"\n",
       "  199.318,1486.45 199.318,1469.18 \n",
       "  \"/>\n",
       "<polyline clip-path=\"url(#clip130)\" style=\"stroke:#000000; stroke-width:4; stroke-opacity:1; fill:none\" points=\"\n",
       "  617.705,1486.45 617.705,1469.18 \n",
       "  \"/>\n",
       "<polyline clip-path=\"url(#clip130)\" style=\"stroke:#000000; stroke-width:4; stroke-opacity:1; fill:none\" points=\"\n",
       "  1036.09,1486.45 1036.09,1469.18 \n",
       "  \"/>\n",
       "<polyline clip-path=\"url(#clip130)\" style=\"stroke:#000000; stroke-width:4; stroke-opacity:1; fill:none\" points=\"\n",
       "  1454.48,1486.45 1454.48,1469.18 \n",
       "  \"/>\n",
       "<polyline clip-path=\"url(#clip130)\" style=\"stroke:#000000; stroke-width:4; stroke-opacity:1; fill:none\" points=\"\n",
       "  1872.87,1486.45 1872.87,1469.18 \n",
       "  \"/>\n",
       "<polyline clip-path=\"url(#clip130)\" style=\"stroke:#000000; stroke-width:4; stroke-opacity:1; fill:none\" points=\"\n",
       "  2291.25,1486.45 2291.25,1469.18 \n",
       "  \"/>\n",
       "<path clip-path=\"url(#clip130)\" d=\"M 0 0 M199.318 1515.64 Q195.707 1515.64 193.878 1519.2 Q192.073 1522.75 192.073 1529.87 Q192.073 1536.98 193.878 1540.55 Q195.707 1544.09 199.318 1544.09 Q202.952 1544.09 204.758 1540.55 Q206.586 1536.98 206.586 1529.87 Q206.586 1522.75 204.758 1519.2 Q202.952 1515.64 199.318 1515.64 M199.318 1511.93 Q205.128 1511.93 208.184 1516.54 Q211.262 1521.12 211.262 1529.87 Q211.262 1538.6 208.184 1543.21 Q205.128 1547.79 199.318 1547.79 Q193.508 1547.79 190.429 1543.21 Q187.373 1538.6 187.373 1529.87 Q187.373 1521.12 190.429 1516.54 Q193.508 1511.93 199.318 1511.93 Z\" fill=\"#000000\" fill-rule=\"evenodd\" fill-opacity=\"1\" /><path clip-path=\"url(#clip130)\" d=\"M 0 0 M594.58 1543.18 L602.219 1543.18 L602.219 1516.82 L593.909 1518.49 L593.909 1514.23 L602.173 1512.56 L606.848 1512.56 L606.848 1543.18 L614.487 1543.18 L614.487 1547.12 L594.58 1547.12 L594.58 1543.18 Z\" fill=\"#000000\" fill-rule=\"evenodd\" fill-opacity=\"1\" /><path clip-path=\"url(#clip130)\" d=\"M 0 0 M629.557 1515.64 Q625.946 1515.64 624.117 1519.2 Q622.311 1522.75 622.311 1529.87 Q622.311 1536.98 624.117 1540.55 Q625.946 1544.09 629.557 1544.09 Q633.191 1544.09 634.996 1540.55 Q636.825 1536.98 636.825 1529.87 Q636.825 1522.75 634.996 1519.2 Q633.191 1515.64 629.557 1515.64 M629.557 1511.93 Q635.367 1511.93 638.422 1516.54 Q641.501 1521.12 641.501 1529.87 Q641.501 1538.6 638.422 1543.21 Q635.367 1547.79 629.557 1547.79 Q623.747 1547.79 620.668 1543.21 Q617.612 1538.6 617.612 1529.87 Q617.612 1521.12 620.668 1516.54 Q623.747 1511.93 629.557 1511.93 Z\" fill=\"#000000\" fill-rule=\"evenodd\" fill-opacity=\"1\" /><path clip-path=\"url(#clip130)\" d=\"M 0 0 M1017.24 1543.18 L1033.56 1543.18 L1033.56 1547.12 L1011.61 1547.12 L1011.61 1543.18 Q1014.27 1540.43 1018.86 1535.8 Q1023.46 1531.15 1024.65 1529.81 Q1026.89 1527.28 1027.77 1525.55 Q1028.67 1523.79 1028.67 1522.1 Q1028.67 1519.34 1026.73 1517.61 Q1024.81 1515.87 1021.71 1515.87 Q1019.51 1515.87 1017.05 1516.63 Q1014.62 1517.4 1011.84 1518.95 L1011.84 1514.23 Q1014.67 1513.09 1017.12 1512.51 Q1019.58 1511.93 1021.61 1511.93 Q1026.98 1511.93 1030.18 1514.62 Q1033.37 1517.31 1033.37 1521.8 Q1033.37 1523.93 1032.56 1525.85 Q1031.77 1527.74 1029.67 1530.34 Q1029.09 1531.01 1025.99 1534.23 Q1022.89 1537.42 1017.24 1543.18 Z\" fill=\"#000000\" fill-rule=\"evenodd\" fill-opacity=\"1\" /><path clip-path=\"url(#clip130)\" d=\"M 0 0 M1048.63 1515.64 Q1045.02 1515.64 1043.19 1519.2 Q1041.38 1522.75 1041.38 1529.87 Q1041.38 1536.98 1043.19 1540.55 Q1045.02 1544.09 1048.63 1544.09 Q1052.26 1544.09 1054.07 1540.55 Q1055.9 1536.98 1055.9 1529.87 Q1055.9 1522.75 1054.07 1519.2 Q1052.26 1515.64 1048.63 1515.64 M1048.63 1511.93 Q1054.44 1511.93 1057.49 1516.54 Q1060.57 1521.12 1060.57 1529.87 Q1060.57 1538.6 1057.49 1543.21 Q1054.44 1547.79 1048.63 1547.79 Q1042.82 1547.79 1039.74 1543.21 Q1036.68 1538.6 1036.68 1529.87 Q1036.68 1521.12 1039.74 1516.54 Q1042.82 1511.93 1048.63 1511.93 Z\" fill=\"#000000\" fill-rule=\"evenodd\" fill-opacity=\"1\" /><path clip-path=\"url(#clip130)\" d=\"M 0 0 M1445.22 1528.49 Q1448.58 1529.2 1450.45 1531.47 Q1452.35 1533.74 1452.35 1537.07 Q1452.35 1542.19 1448.83 1544.99 Q1445.31 1547.79 1438.83 1547.79 Q1436.65 1547.79 1434.34 1547.35 Q1432.05 1546.93 1429.59 1546.08 L1429.59 1541.56 Q1431.54 1542.7 1433.85 1543.28 Q1436.17 1543.86 1438.69 1543.86 Q1443.09 1543.86 1445.38 1542.12 Q1447.7 1540.38 1447.7 1537.07 Q1447.7 1534.02 1445.54 1532.31 Q1443.41 1530.57 1439.59 1530.57 L1435.57 1530.57 L1435.57 1526.73 L1439.78 1526.73 Q1443.23 1526.73 1445.06 1525.36 Q1446.89 1523.97 1446.89 1521.38 Q1446.89 1518.72 1444.99 1517.31 Q1443.11 1515.87 1439.59 1515.87 Q1437.67 1515.87 1435.47 1516.29 Q1433.28 1516.7 1430.64 1517.58 L1430.64 1513.42 Q1433.3 1512.68 1435.61 1512.31 Q1437.95 1511.93 1440.01 1511.93 Q1445.34 1511.93 1448.44 1514.37 Q1451.54 1516.77 1451.54 1520.89 Q1451.54 1523.76 1449.9 1525.75 Q1448.25 1527.72 1445.22 1528.49 Z\" fill=\"#000000\" fill-rule=\"evenodd\" fill-opacity=\"1\" /><path clip-path=\"url(#clip130)\" d=\"M 0 0 M1467.42 1515.64 Q1463.81 1515.64 1461.98 1519.2 Q1460.17 1522.75 1460.17 1529.87 Q1460.17 1536.98 1461.98 1540.55 Q1463.81 1544.09 1467.42 1544.09 Q1471.05 1544.09 1472.86 1540.55 Q1474.69 1536.98 1474.69 1529.87 Q1474.69 1522.75 1472.86 1519.2 Q1471.05 1515.64 1467.42 1515.64 M1467.42 1511.93 Q1473.23 1511.93 1476.28 1516.54 Q1479.36 1521.12 1479.36 1529.87 Q1479.36 1538.6 1476.28 1543.21 Q1473.23 1547.79 1467.42 1547.79 Q1461.61 1547.79 1458.53 1543.21 Q1455.47 1538.6 1455.47 1529.87 Q1455.47 1521.12 1458.53 1516.54 Q1461.61 1511.93 1467.42 1511.93 Z\" fill=\"#000000\" fill-rule=\"evenodd\" fill-opacity=\"1\" /><path clip-path=\"url(#clip130)\" d=\"M 0 0 M1862.37 1516.63 L1850.56 1535.08 L1862.37 1535.08 L1862.37 1516.63 M1861.14 1512.56 L1867.02 1512.56 L1867.02 1535.08 L1871.95 1535.08 L1871.95 1538.97 L1867.02 1538.97 L1867.02 1547.12 L1862.37 1547.12 L1862.37 1538.97 L1846.77 1538.97 L1846.77 1534.46 L1861.14 1512.56 Z\" fill=\"#000000\" fill-rule=\"evenodd\" fill-opacity=\"1\" /><path clip-path=\"url(#clip130)\" d=\"M 0 0 M1887.02 1515.64 Q1883.41 1515.64 1881.58 1519.2 Q1879.78 1522.75 1879.78 1529.87 Q1879.78 1536.98 1881.58 1540.55 Q1883.41 1544.09 1887.02 1544.09 Q1890.66 1544.09 1892.46 1540.55 Q1894.29 1536.98 1894.29 1529.87 Q1894.29 1522.75 1892.46 1519.2 Q1890.66 1515.64 1887.02 1515.64 M1887.02 1511.93 Q1892.83 1511.93 1895.89 1516.54 Q1898.97 1521.12 1898.97 1529.87 Q1898.97 1538.6 1895.89 1543.21 Q1892.83 1547.79 1887.02 1547.79 Q1881.21 1547.79 1878.13 1543.21 Q1875.08 1538.6 1875.08 1529.87 Q1875.08 1521.12 1878.13 1516.54 Q1881.21 1511.93 1887.02 1511.93 Z\" fill=\"#000000\" fill-rule=\"evenodd\" fill-opacity=\"1\" /><path clip-path=\"url(#clip130)\" d=\"M 0 0 M2268.02 1512.56 L2286.38 1512.56 L2286.38 1516.5 L2272.31 1516.5 L2272.31 1524.97 Q2273.32 1524.62 2274.34 1524.46 Q2275.36 1524.27 2276.38 1524.27 Q2282.17 1524.27 2285.55 1527.44 Q2288.93 1530.62 2288.93 1536.03 Q2288.93 1541.61 2285.45 1544.71 Q2281.98 1547.79 2275.66 1547.79 Q2273.49 1547.79 2271.22 1547.42 Q2268.97 1547.05 2266.57 1546.31 L2266.57 1541.61 Q2268.65 1542.74 2270.87 1543.3 Q2273.09 1543.86 2275.57 1543.86 Q2279.57 1543.86 2281.91 1541.75 Q2284.25 1539.64 2284.25 1536.03 Q2284.25 1532.42 2281.91 1530.31 Q2279.57 1528.21 2275.57 1528.21 Q2273.7 1528.21 2271.82 1528.62 Q2269.97 1529.04 2268.02 1529.92 L2268.02 1512.56 Z\" fill=\"#000000\" fill-rule=\"evenodd\" fill-opacity=\"1\" /><path clip-path=\"url(#clip130)\" d=\"M 0 0 M2304 1515.64 Q2300.38 1515.64 2298.56 1519.2 Q2296.75 1522.75 2296.75 1529.87 Q2296.75 1536.98 2298.56 1540.55 Q2300.38 1544.09 2304 1544.09 Q2307.63 1544.09 2309.44 1540.55 Q2311.26 1536.98 2311.26 1529.87 Q2311.26 1522.75 2309.44 1519.2 Q2307.63 1515.64 2304 1515.64 M2304 1511.93 Q2309.81 1511.93 2312.86 1516.54 Q2315.94 1521.12 2315.94 1529.87 Q2315.94 1538.6 2312.86 1543.21 Q2309.81 1547.79 2304 1547.79 Q2298.19 1547.79 2295.11 1543.21 Q2292.05 1538.6 2292.05 1529.87 Q2292.05 1521.12 2295.11 1516.54 Q2298.19 1511.93 2304 1511.93 Z\" fill=\"#000000\" fill-rule=\"evenodd\" fill-opacity=\"1\" /><polyline clip-path=\"url(#clip132)\" style=\"stroke:#000000; stroke-width:2; stroke-opacity:0.1; fill:none\" points=\"\n",
       "  179.654,1278.77 2352.76,1278.77 \n",
       "  \"/>\n",
       "<polyline clip-path=\"url(#clip132)\" style=\"stroke:#000000; stroke-width:2; stroke-opacity:0.1; fill:none\" points=\"\n",
       "  179.654,1015.32 2352.76,1015.32 \n",
       "  \"/>\n",
       "<polyline clip-path=\"url(#clip132)\" style=\"stroke:#000000; stroke-width:2; stroke-opacity:0.1; fill:none\" points=\"\n",
       "  179.654,751.871 2352.76,751.871 \n",
       "  \"/>\n",
       "<polyline clip-path=\"url(#clip132)\" style=\"stroke:#000000; stroke-width:2; stroke-opacity:0.1; fill:none\" points=\"\n",
       "  179.654,488.421 2352.76,488.421 \n",
       "  \"/>\n",
       "<polyline clip-path=\"url(#clip132)\" style=\"stroke:#000000; stroke-width:2; stroke-opacity:0.1; fill:none\" points=\"\n",
       "  179.654,224.97 2352.76,224.97 \n",
       "  \"/>\n",
       "<polyline clip-path=\"url(#clip130)\" style=\"stroke:#000000; stroke-width:4; stroke-opacity:1; fill:none\" points=\"\n",
       "  179.654,1486.45 179.654,47.2441 \n",
       "  \"/>\n",
       "<polyline clip-path=\"url(#clip130)\" style=\"stroke:#000000; stroke-width:4; stroke-opacity:1; fill:none\" points=\"\n",
       "  179.654,1278.77 205.731,1278.77 \n",
       "  \"/>\n",
       "<polyline clip-path=\"url(#clip130)\" style=\"stroke:#000000; stroke-width:4; stroke-opacity:1; fill:none\" points=\"\n",
       "  179.654,1015.32 205.731,1015.32 \n",
       "  \"/>\n",
       "<polyline clip-path=\"url(#clip130)\" style=\"stroke:#000000; stroke-width:4; stroke-opacity:1; fill:none\" points=\"\n",
       "  179.654,751.871 205.731,751.871 \n",
       "  \"/>\n",
       "<polyline clip-path=\"url(#clip130)\" style=\"stroke:#000000; stroke-width:4; stroke-opacity:1; fill:none\" points=\"\n",
       "  179.654,488.421 205.731,488.421 \n",
       "  \"/>\n",
       "<polyline clip-path=\"url(#clip130)\" style=\"stroke:#000000; stroke-width:4; stroke-opacity:1; fill:none\" points=\"\n",
       "  179.654,224.97 205.731,224.97 \n",
       "  \"/>\n",
       "<path clip-path=\"url(#clip130)\" d=\"M 0 0 M50.9921 1279.22 L80.6679 1279.22 L80.6679 1283.16 L50.9921 1283.16 L50.9921 1279.22 Z\" fill=\"#000000\" fill-rule=\"evenodd\" fill-opacity=\"1\" /><path clip-path=\"url(#clip130)\" d=\"M 0 0 M95.7373 1264.57 Q92.1262 1264.57 90.2975 1268.14 Q88.4919 1271.68 88.4919 1278.81 Q88.4919 1285.91 90.2975 1289.48 Q92.1262 1293.02 95.7373 1293.02 Q99.3715 1293.02 101.177 1289.48 Q103.006 1285.91 103.006 1278.81 Q103.006 1271.68 101.177 1268.14 Q99.3715 1264.57 95.7373 1264.57 M95.7373 1260.87 Q101.547 1260.87 104.603 1265.47 Q107.682 1270.06 107.682 1278.81 Q107.682 1287.53 104.603 1292.14 Q101.547 1296.72 95.7373 1296.72 Q89.9271 1296.72 86.8484 1292.14 Q83.7929 1287.53 83.7929 1278.81 Q83.7929 1270.06 86.8484 1265.47 Q89.9271 1260.87 95.7373 1260.87 Z\" fill=\"#000000\" fill-rule=\"evenodd\" fill-opacity=\"1\" /><path clip-path=\"url(#clip130)\" d=\"M 0 0 M112.751 1290.17 L117.635 1290.17 L117.635 1296.05 L112.751 1296.05 L112.751 1290.17 Z\" fill=\"#000000\" fill-rule=\"evenodd\" fill-opacity=\"1\" /><path clip-path=\"url(#clip130)\" d=\"M 0 0 M122.751 1261.49 L141.107 1261.49 L141.107 1265.43 L127.033 1265.43 L127.033 1273.9 Q128.052 1273.55 129.07 1273.39 Q130.089 1273.2 131.107 1273.2 Q136.894 1273.2 140.274 1276.38 Q143.654 1279.55 143.654 1284.96 Q143.654 1290.54 140.181 1293.64 Q136.709 1296.72 130.39 1296.72 Q128.214 1296.72 125.945 1296.35 Q123.7 1295.98 121.293 1295.24 L121.293 1290.54 Q123.376 1291.68 125.598 1292.23 Q127.82 1292.79 130.297 1292.79 Q134.302 1292.79 136.64 1290.68 Q138.978 1288.58 138.978 1284.96 Q138.978 1281.35 136.64 1279.25 Q134.302 1277.14 130.297 1277.14 Q128.422 1277.14 126.547 1277.56 Q124.695 1277.97 122.751 1278.85 L122.751 1261.49 Z\" fill=\"#000000\" fill-rule=\"evenodd\" fill-opacity=\"1\" /><path clip-path=\"url(#clip130)\" d=\"M 0 0 M94.7419 1001.12 Q91.1308 1001.12 89.3021 1004.69 Q87.4966 1008.23 87.4966 1015.36 Q87.4966 1022.46 89.3021 1026.03 Q91.1308 1029.57 94.7419 1029.57 Q98.3761 1029.57 100.182 1026.03 Q102.01 1022.46 102.01 1015.36 Q102.01 1008.23 100.182 1004.69 Q98.3761 1001.12 94.7419 1001.12 M94.7419 997.417 Q100.552 997.417 103.608 1002.02 Q106.686 1006.61 106.686 1015.36 Q106.686 1024.08 103.608 1028.69 Q100.552 1033.27 94.7419 1033.27 Q88.9317 1033.27 85.8531 1028.69 Q82.7975 1024.08 82.7975 1015.36 Q82.7975 1006.61 85.8531 1002.02 Q88.9317 997.417 94.7419 997.417 Z\" fill=\"#000000\" fill-rule=\"evenodd\" fill-opacity=\"1\" /><path clip-path=\"url(#clip130)\" d=\"M 0 0 M111.756 1026.72 L116.64 1026.72 L116.64 1032.6 L111.756 1032.6 L111.756 1026.72 Z\" fill=\"#000000\" fill-rule=\"evenodd\" fill-opacity=\"1\" /><path clip-path=\"url(#clip130)\" d=\"M 0 0 M131.709 1001.12 Q128.098 1001.12 126.27 1004.69 Q124.464 1008.23 124.464 1015.36 Q124.464 1022.46 126.27 1026.03 Q128.098 1029.57 131.709 1029.57 Q135.344 1029.57 137.149 1026.03 Q138.978 1022.46 138.978 1015.36 Q138.978 1008.23 137.149 1004.69 Q135.344 1001.12 131.709 1001.12 M131.709 997.417 Q137.519 997.417 140.575 1002.02 Q143.654 1006.61 143.654 1015.36 Q143.654 1024.08 140.575 1028.69 Q137.519 1033.27 131.709 1033.27 Q125.899 1033.27 122.82 1028.69 Q119.765 1024.08 119.765 1015.36 Q119.765 1006.61 122.82 1002.02 Q125.899 997.417 131.709 997.417 Z\" fill=\"#000000\" fill-rule=\"evenodd\" fill-opacity=\"1\" /><path clip-path=\"url(#clip130)\" d=\"M 0 0 M95.7373 737.67 Q92.1262 737.67 90.2975 741.235 Q88.4919 744.776 88.4919 751.906 Q88.4919 759.012 90.2975 762.577 Q92.1262 766.119 95.7373 766.119 Q99.3715 766.119 101.177 762.577 Q103.006 759.012 103.006 751.906 Q103.006 744.776 101.177 741.235 Q99.3715 737.67 95.7373 737.67 M95.7373 733.966 Q101.547 733.966 104.603 738.573 Q107.682 743.156 107.682 751.906 Q107.682 760.633 104.603 765.239 Q101.547 769.823 95.7373 769.823 Q89.9271 769.823 86.8484 765.239 Q83.7929 760.633 83.7929 751.906 Q83.7929 743.156 86.8484 738.573 Q89.9271 733.966 95.7373 733.966 Z\" fill=\"#000000\" fill-rule=\"evenodd\" fill-opacity=\"1\" /><path clip-path=\"url(#clip130)\" d=\"M 0 0 M112.751 763.272 L117.635 763.272 L117.635 769.151 L112.751 769.151 L112.751 763.272 Z\" fill=\"#000000\" fill-rule=\"evenodd\" fill-opacity=\"1\" /><path clip-path=\"url(#clip130)\" d=\"M 0 0 M122.751 734.591 L141.107 734.591 L141.107 738.526 L127.033 738.526 L127.033 746.999 Q128.052 746.651 129.07 746.489 Q130.089 746.304 131.107 746.304 Q136.894 746.304 140.274 749.475 Q143.654 752.647 143.654 758.063 Q143.654 763.642 140.181 766.744 Q136.709 769.823 130.39 769.823 Q128.214 769.823 125.945 769.452 Q123.7 769.082 121.293 768.341 L121.293 763.642 Q123.376 764.776 125.598 765.332 Q127.82 765.887 130.297 765.887 Q134.302 765.887 136.64 763.781 Q138.978 761.674 138.978 758.063 Q138.978 754.452 136.64 752.346 Q134.302 750.239 130.297 750.239 Q128.422 750.239 126.547 750.656 Q124.695 751.073 122.751 751.952 L122.751 734.591 Z\" fill=\"#000000\" fill-rule=\"evenodd\" fill-opacity=\"1\" /><path clip-path=\"url(#clip130)\" d=\"M 0 0 M86.779 501.766 L94.4178 501.766 L94.4178 475.4 L86.1077 477.067 L86.1077 472.808 L94.3715 471.141 L99.0474 471.141 L99.0474 501.766 L106.686 501.766 L106.686 505.701 L86.779 505.701 L86.779 501.766 Z\" fill=\"#000000\" fill-rule=\"evenodd\" fill-opacity=\"1\" /><path clip-path=\"url(#clip130)\" d=\"M 0 0 M111.756 499.821 L116.64 499.821 L116.64 505.701 L111.756 505.701 L111.756 499.821 Z\" fill=\"#000000\" fill-rule=\"evenodd\" fill-opacity=\"1\" /><path clip-path=\"url(#clip130)\" d=\"M 0 0 M131.709 474.22 Q128.098 474.22 126.27 477.784 Q124.464 481.326 124.464 488.456 Q124.464 495.562 126.27 499.127 Q128.098 502.668 131.709 502.668 Q135.344 502.668 137.149 499.127 Q138.978 495.562 138.978 488.456 Q138.978 481.326 137.149 477.784 Q135.344 474.22 131.709 474.22 M131.709 470.516 Q137.519 470.516 140.575 475.122 Q143.654 479.706 143.654 488.456 Q143.654 497.182 140.575 501.789 Q137.519 506.372 131.709 506.372 Q125.899 506.372 122.82 501.789 Q119.765 497.182 119.765 488.456 Q119.765 479.706 122.82 475.122 Q125.899 470.516 131.709 470.516 Z\" fill=\"#000000\" fill-rule=\"evenodd\" fill-opacity=\"1\" /><path clip-path=\"url(#clip130)\" d=\"M 0 0 M87.7743 238.315 L95.4132 238.315 L95.4132 211.95 L87.103 213.616 L87.103 209.357 L95.3669 207.69 L100.043 207.69 L100.043 238.315 L107.682 238.315 L107.682 242.25 L87.7743 242.25 L87.7743 238.315 Z\" fill=\"#000000\" fill-rule=\"evenodd\" fill-opacity=\"1\" /><path clip-path=\"url(#clip130)\" d=\"M 0 0 M112.751 236.371 L117.635 236.371 L117.635 242.25 L112.751 242.25 L112.751 236.371 Z\" fill=\"#000000\" fill-rule=\"evenodd\" fill-opacity=\"1\" /><path clip-path=\"url(#clip130)\" d=\"M 0 0 M122.751 207.69 L141.107 207.69 L141.107 211.626 L127.033 211.626 L127.033 220.098 Q128.052 219.751 129.07 219.589 Q130.089 219.403 131.107 219.403 Q136.894 219.403 140.274 222.575 Q143.654 225.746 143.654 231.163 Q143.654 236.741 140.181 239.843 Q136.709 242.922 130.39 242.922 Q128.214 242.922 125.945 242.551 Q123.7 242.181 121.293 241.44 L121.293 236.741 Q123.376 237.876 125.598 238.431 Q127.82 238.987 130.297 238.987 Q134.302 238.987 136.64 236.88 Q138.978 234.774 138.978 231.163 Q138.978 227.551 136.64 225.445 Q134.302 223.339 130.297 223.339 Q128.422 223.339 126.547 223.755 Q124.695 224.172 122.751 225.052 L122.751 207.69 Z\" fill=\"#000000\" fill-rule=\"evenodd\" fill-opacity=\"1\" /><polyline clip-path=\"url(#clip132)\" style=\"stroke:#009af9; stroke-width:4; stroke-opacity:1; fill:none\" points=\"\n",
       "  241.157,1015.32 282.995,488.421 324.834,172.28 366.673,87.9763 408.511,206.002 450.35,462.287 492.189,777.921 534.027,1077.91 575.866,1305.38 617.705,1429.35 \n",
       "  659.544,1445.72 701.382,1372.73 743.221,1242.86 785.06,1093.46 826.898,958.308 868.737,861.59 910.576,814.963 952.415,817.733 994.253,859.466 1036.09,924.024 \n",
       "  1077.93,993.93 1119.77,1054.13 1161.61,1094.53 1203.45,1111.01 1245.29,1105.06 1287.12,1082.34 1328.96,1050.77 1370.8,1018.42 1412.64,991.923 1454.48,975.404 \n",
       "  1496.32,970.172 1538.16,975.016 1580,986.953 1621.83,1002.18 1663.67,1016.98 1705.51,1028.5 1747.35,1035.07 1789.19,1036.38 1831.03,1033.22 1872.87,1027.11 \n",
       "  1914.7,1019.86 1956.54,1013.16 1998.38,1008.23 2040.22,1005.7 2082.06,1005.6 2123.9,1007.47 2165.74,1010.53 2207.58,1013.94 2249.41,1016.94 2291.25,1019.02 \n",
       "  \n",
       "  \"/>\n",
       "<path clip-path=\"url(#clip130)\" d=\"\n",
       "M1987.85 216.178 L2280.32 216.178 L2280.32 95.2176 L1987.85 95.2176  Z\n",
       "  \" fill=\"#ffffff\" fill-rule=\"evenodd\" fill-opacity=\"1\"/>\n",
       "<polyline clip-path=\"url(#clip130)\" style=\"stroke:#000000; stroke-width:4; stroke-opacity:1; fill:none\" points=\"\n",
       "  1987.85,216.178 2280.32,216.178 2280.32,95.2176 1987.85,95.2176 1987.85,216.178 \n",
       "  \"/>\n",
       "<polyline clip-path=\"url(#clip130)\" style=\"stroke:#009af9; stroke-width:4; stroke-opacity:1; fill:none\" points=\"\n",
       "  2011.99,155.698 2156.86,155.698 \n",
       "  \"/>\n",
       "<path clip-path=\"url(#clip130)\" d=\"M 0 0 M2194.85 175.385 Q2193.05 180.015 2191.33 181.427 Q2189.62 182.839 2186.75 182.839 L2183.35 182.839 L2183.35 179.274 L2185.85 179.274 Q2187.61 179.274 2188.58 178.44 Q2189.55 177.607 2190.73 174.505 L2191.5 172.561 L2181.01 147.052 L2185.52 147.052 L2193.63 167.329 L2201.73 147.052 L2206.24 147.052 L2194.85 175.385 Z\" fill=\"#000000\" fill-rule=\"evenodd\" fill-opacity=\"1\" /><path clip-path=\"url(#clip130)\" d=\"M 0 0 M2212.12 169.042 L2219.76 169.042 L2219.76 142.677 L2211.45 144.343 L2211.45 140.084 L2219.71 138.418 L2224.39 138.418 L2224.39 169.042 L2232.03 169.042 L2232.03 172.978 L2212.12 172.978 L2212.12 169.042 Z\" fill=\"#000000\" fill-rule=\"evenodd\" fill-opacity=\"1\" /></svg>\n"
      ]
     },
     "execution_count": 52,
     "metadata": {},
     "output_type": "execute_result"
    }
   ],
   "source": [
    "forecast_with_lambda!(Z, 0.8 + 0.4im, 0.8 - 0.4im)\n",
    "plot(Z)"
   ]
  },
  {
   "cell_type": "code",
   "execution_count": 57,
   "metadata": {},
   "outputs": [
    {
     "data": {
      "image/svg+xml": [
       "<?xml version=\"1.0\" encoding=\"utf-8\"?>\n",
       "<svg xmlns=\"http://www.w3.org/2000/svg\" xmlns:xlink=\"http://www.w3.org/1999/xlink\" width=\"600\" height=\"400\" viewBox=\"0 0 2400 1600\">\n",
       "<defs>\n",
       "  <clipPath id=\"clip210\">\n",
       "    <rect x=\"0\" y=\"0\" width=\"2400\" height=\"1600\"/>\n",
       "  </clipPath>\n",
       "</defs>\n",
       "<path clip-path=\"url(#clip210)\" d=\"\n",
       "M0 1600 L2400 1600 L2400 0 L0 0  Z\n",
       "  \" fill=\"#ffffff\" fill-rule=\"evenodd\" fill-opacity=\"1\"/>\n",
       "<defs>\n",
       "  <clipPath id=\"clip211\">\n",
       "    <rect x=\"480\" y=\"0\" width=\"1681\" height=\"1600\"/>\n",
       "  </clipPath>\n",
       "</defs>\n",
       "<path clip-path=\"url(#clip210)\" d=\"\n",
       "M147.848 1486.45 L2352.76 1486.45 L2352.76 47.2441 L147.848 47.2441  Z\n",
       "  \" fill=\"#ffffff\" fill-rule=\"evenodd\" fill-opacity=\"1\"/>\n",
       "<defs>\n",
       "  <clipPath id=\"clip212\">\n",
       "    <rect x=\"147\" y=\"47\" width=\"2206\" height=\"1440\"/>\n",
       "  </clipPath>\n",
       "</defs>\n",
       "<polyline clip-path=\"url(#clip212)\" style=\"stroke:#000000; stroke-width:2; stroke-opacity:0.1; fill:none\" points=\"\n",
       "  167.8,1486.45 167.8,47.2441 \n",
       "  \"/>\n",
       "<polyline clip-path=\"url(#clip212)\" style=\"stroke:#000000; stroke-width:2; stroke-opacity:0.1; fill:none\" points=\"\n",
       "  592.311,1486.45 592.311,47.2441 \n",
       "  \"/>\n",
       "<polyline clip-path=\"url(#clip212)\" style=\"stroke:#000000; stroke-width:2; stroke-opacity:0.1; fill:none\" points=\"\n",
       "  1016.82,1486.45 1016.82,47.2441 \n",
       "  \"/>\n",
       "<polyline clip-path=\"url(#clip212)\" style=\"stroke:#000000; stroke-width:2; stroke-opacity:0.1; fill:none\" points=\"\n",
       "  1441.33,1486.45 1441.33,47.2441 \n",
       "  \"/>\n",
       "<polyline clip-path=\"url(#clip212)\" style=\"stroke:#000000; stroke-width:2; stroke-opacity:0.1; fill:none\" points=\"\n",
       "  1865.84,1486.45 1865.84,47.2441 \n",
       "  \"/>\n",
       "<polyline clip-path=\"url(#clip212)\" style=\"stroke:#000000; stroke-width:2; stroke-opacity:0.1; fill:none\" points=\"\n",
       "  2290.35,1486.45 2290.35,47.2441 \n",
       "  \"/>\n",
       "<polyline clip-path=\"url(#clip210)\" style=\"stroke:#000000; stroke-width:4; stroke-opacity:1; fill:none\" points=\"\n",
       "  147.848,1486.45 2352.76,1486.45 \n",
       "  \"/>\n",
       "<polyline clip-path=\"url(#clip210)\" style=\"stroke:#000000; stroke-width:4; stroke-opacity:1; fill:none\" points=\"\n",
       "  167.8,1486.45 167.8,1469.18 \n",
       "  \"/>\n",
       "<polyline clip-path=\"url(#clip210)\" style=\"stroke:#000000; stroke-width:4; stroke-opacity:1; fill:none\" points=\"\n",
       "  592.311,1486.45 592.311,1469.18 \n",
       "  \"/>\n",
       "<polyline clip-path=\"url(#clip210)\" style=\"stroke:#000000; stroke-width:4; stroke-opacity:1; fill:none\" points=\"\n",
       "  1016.82,1486.45 1016.82,1469.18 \n",
       "  \"/>\n",
       "<polyline clip-path=\"url(#clip210)\" style=\"stroke:#000000; stroke-width:4; stroke-opacity:1; fill:none\" points=\"\n",
       "  1441.33,1486.45 1441.33,1469.18 \n",
       "  \"/>\n",
       "<polyline clip-path=\"url(#clip210)\" style=\"stroke:#000000; stroke-width:4; stroke-opacity:1; fill:none\" points=\"\n",
       "  1865.84,1486.45 1865.84,1469.18 \n",
       "  \"/>\n",
       "<polyline clip-path=\"url(#clip210)\" style=\"stroke:#000000; stroke-width:4; stroke-opacity:1; fill:none\" points=\"\n",
       "  2290.35,1486.45 2290.35,1469.18 \n",
       "  \"/>\n",
       "<path clip-path=\"url(#clip210)\" d=\"M 0 0 M167.8 1515.64 Q164.189 1515.64 162.36 1519.2 Q160.555 1522.75 160.555 1529.87 Q160.555 1536.98 162.36 1540.55 Q164.189 1544.09 167.8 1544.09 Q171.435 1544.09 173.24 1540.55 Q175.069 1536.98 175.069 1529.87 Q175.069 1522.75 173.24 1519.2 Q171.435 1515.64 167.8 1515.64 M167.8 1511.93 Q173.61 1511.93 176.666 1516.54 Q179.745 1521.12 179.745 1529.87 Q179.745 1538.6 176.666 1543.21 Q173.61 1547.79 167.8 1547.79 Q161.99 1547.79 158.911 1543.21 Q155.856 1538.6 155.856 1529.87 Q155.856 1521.12 158.911 1516.54 Q161.99 1511.93 167.8 1511.93 Z\" fill=\"#000000\" fill-rule=\"evenodd\" fill-opacity=\"1\" /><path clip-path=\"url(#clip210)\" d=\"M 0 0 M569.186 1543.18 L576.825 1543.18 L576.825 1516.82 L568.515 1518.49 L568.515 1514.23 L576.778 1512.56 L581.454 1512.56 L581.454 1543.18 L589.093 1543.18 L589.093 1547.12 L569.186 1547.12 L569.186 1543.18 Z\" fill=\"#000000\" fill-rule=\"evenodd\" fill-opacity=\"1\" /><path clip-path=\"url(#clip210)\" d=\"M 0 0 M604.163 1515.64 Q600.551 1515.64 598.723 1519.2 Q596.917 1522.75 596.917 1529.87 Q596.917 1536.98 598.723 1540.55 Q600.551 1544.09 604.163 1544.09 Q607.797 1544.09 609.602 1540.55 Q611.431 1536.98 611.431 1529.87 Q611.431 1522.75 609.602 1519.2 Q607.797 1515.64 604.163 1515.64 M604.163 1511.93 Q609.973 1511.93 613.028 1516.54 Q616.107 1521.12 616.107 1529.87 Q616.107 1538.6 613.028 1543.21 Q609.973 1547.79 604.163 1547.79 Q598.352 1547.79 595.274 1543.21 Q592.218 1538.6 592.218 1529.87 Q592.218 1521.12 595.274 1516.54 Q598.352 1511.93 604.163 1511.93 Z\" fill=\"#000000\" fill-rule=\"evenodd\" fill-opacity=\"1\" /><path clip-path=\"url(#clip210)\" d=\"M 0 0 M997.967 1543.18 L1014.29 1543.18 L1014.29 1547.12 L992.342 1547.12 L992.342 1543.18 Q995.004 1540.43 999.588 1535.8 Q1004.19 1531.15 1005.37 1529.81 Q1007.62 1527.28 1008.5 1525.55 Q1009.4 1523.79 1009.4 1522.1 Q1009.4 1519.34 1007.46 1517.61 Q1005.54 1515.87 1002.43 1515.87 Q1000.24 1515.87 997.782 1516.63 Q995.352 1517.4 992.574 1518.95 L992.574 1514.23 Q995.398 1513.09 997.852 1512.51 Q1000.31 1511.93 1002.34 1511.93 Q1007.71 1511.93 1010.91 1514.62 Q1014.1 1517.31 1014.1 1521.8 Q1014.1 1523.93 1013.29 1525.85 Q1012.5 1527.74 1010.4 1530.34 Q1009.82 1531.01 1006.72 1534.23 Q1003.62 1537.42 997.967 1543.18 Z\" fill=\"#000000\" fill-rule=\"evenodd\" fill-opacity=\"1\" /><path clip-path=\"url(#clip210)\" d=\"M 0 0 M1029.36 1515.64 Q1025.74 1515.64 1023.92 1519.2 Q1022.11 1522.75 1022.11 1529.87 Q1022.11 1536.98 1023.92 1540.55 Q1025.74 1544.09 1029.36 1544.09 Q1032.99 1544.09 1034.8 1540.55 Q1036.62 1536.98 1036.62 1529.87 Q1036.62 1522.75 1034.8 1519.2 Q1032.99 1515.64 1029.36 1515.64 M1029.36 1511.93 Q1035.17 1511.93 1038.22 1516.54 Q1041.3 1521.12 1041.3 1529.87 Q1041.3 1538.6 1038.22 1543.21 Q1035.17 1547.79 1029.36 1547.79 Q1023.55 1547.79 1020.47 1543.21 Q1017.41 1538.6 1017.41 1529.87 Q1017.41 1521.12 1020.47 1516.54 Q1023.55 1511.93 1029.36 1511.93 Z\" fill=\"#000000\" fill-rule=\"evenodd\" fill-opacity=\"1\" /><path clip-path=\"url(#clip210)\" d=\"M 0 0 M1432.07 1528.49 Q1435.43 1529.2 1437.3 1531.47 Q1439.2 1533.74 1439.2 1537.07 Q1439.2 1542.19 1435.68 1544.99 Q1432.17 1547.79 1425.68 1547.79 Q1423.51 1547.79 1421.19 1547.35 Q1418.9 1546.93 1416.45 1546.08 L1416.45 1541.56 Q1418.39 1542.7 1420.71 1543.28 Q1423.02 1543.86 1425.54 1543.86 Q1429.94 1543.86 1432.23 1542.12 Q1434.55 1540.38 1434.55 1537.07 Q1434.55 1534.02 1432.4 1532.31 Q1430.27 1530.57 1426.45 1530.57 L1422.42 1530.57 L1422.42 1526.73 L1426.63 1526.73 Q1430.08 1526.73 1431.91 1525.36 Q1433.74 1523.97 1433.74 1521.38 Q1433.74 1518.72 1431.84 1517.31 Q1429.97 1515.87 1426.45 1515.87 Q1424.53 1515.87 1422.33 1516.29 Q1420.13 1516.7 1417.49 1517.58 L1417.49 1513.42 Q1420.15 1512.68 1422.47 1512.31 Q1424.8 1511.93 1426.86 1511.93 Q1432.19 1511.93 1435.29 1514.37 Q1438.39 1516.77 1438.39 1520.89 Q1438.39 1523.76 1436.75 1525.75 Q1435.11 1527.72 1432.07 1528.49 Z\" fill=\"#000000\" fill-rule=\"evenodd\" fill-opacity=\"1\" /><path clip-path=\"url(#clip210)\" d=\"M 0 0 M1454.27 1515.64 Q1450.66 1515.64 1448.83 1519.2 Q1447.03 1522.75 1447.03 1529.87 Q1447.03 1536.98 1448.83 1540.55 Q1450.66 1544.09 1454.27 1544.09 Q1457.91 1544.09 1459.71 1540.55 Q1461.54 1536.98 1461.54 1529.87 Q1461.54 1522.75 1459.71 1519.2 Q1457.91 1515.64 1454.27 1515.64 M1454.27 1511.93 Q1460.08 1511.93 1463.14 1516.54 Q1466.22 1521.12 1466.22 1529.87 Q1466.22 1538.6 1463.14 1543.21 Q1460.08 1547.79 1454.27 1547.79 Q1448.46 1547.79 1445.38 1543.21 Q1442.33 1538.6 1442.33 1529.87 Q1442.33 1521.12 1445.38 1516.54 Q1448.46 1511.93 1454.27 1511.93 Z\" fill=\"#000000\" fill-rule=\"evenodd\" fill-opacity=\"1\" /><path clip-path=\"url(#clip210)\" d=\"M 0 0 M1855.34 1516.63 L1843.54 1535.08 L1855.34 1535.08 L1855.34 1516.63 M1854.12 1512.56 L1860 1512.56 L1860 1535.08 L1864.93 1535.08 L1864.93 1538.97 L1860 1538.97 L1860 1547.12 L1855.34 1547.12 L1855.34 1538.97 L1839.74 1538.97 L1839.74 1534.46 L1854.12 1512.56 Z\" fill=\"#000000\" fill-rule=\"evenodd\" fill-opacity=\"1\" /><path clip-path=\"url(#clip210)\" d=\"M 0 0 M1880 1515.64 Q1876.39 1515.64 1874.56 1519.2 Q1872.75 1522.75 1872.75 1529.87 Q1872.75 1536.98 1874.56 1540.55 Q1876.39 1544.09 1880 1544.09 Q1883.63 1544.09 1885.44 1540.55 Q1887.27 1536.98 1887.27 1529.87 Q1887.27 1522.75 1885.44 1519.2 Q1883.63 1515.64 1880 1515.64 M1880 1511.93 Q1885.81 1511.93 1888.86 1516.54 Q1891.94 1521.12 1891.94 1529.87 Q1891.94 1538.6 1888.86 1543.21 Q1885.81 1547.79 1880 1547.79 Q1874.19 1547.79 1871.11 1543.21 Q1868.05 1538.6 1868.05 1529.87 Q1868.05 1521.12 1871.11 1516.54 Q1874.19 1511.93 1880 1511.93 Z\" fill=\"#000000\" fill-rule=\"evenodd\" fill-opacity=\"1\" /><path clip-path=\"url(#clip210)\" d=\"M 0 0 M2267.12 1512.56 L2285.48 1512.56 L2285.48 1516.5 L2271.41 1516.5 L2271.41 1524.97 Q2272.42 1524.62 2273.44 1524.46 Q2274.46 1524.27 2275.48 1524.27 Q2281.27 1524.27 2284.65 1527.44 Q2288.03 1530.62 2288.03 1536.03 Q2288.03 1541.61 2284.55 1544.71 Q2281.08 1547.79 2274.76 1547.79 Q2272.59 1547.79 2270.32 1547.42 Q2268.07 1547.05 2265.67 1546.31 L2265.67 1541.61 Q2267.75 1542.74 2269.97 1543.3 Q2272.19 1543.86 2274.67 1543.86 Q2278.67 1543.86 2281.01 1541.75 Q2283.35 1539.64 2283.35 1536.03 Q2283.35 1532.42 2281.01 1530.31 Q2278.67 1528.21 2274.67 1528.21 Q2272.8 1528.21 2270.92 1528.62 Q2269.07 1529.04 2267.12 1529.92 L2267.12 1512.56 Z\" fill=\"#000000\" fill-rule=\"evenodd\" fill-opacity=\"1\" /><path clip-path=\"url(#clip210)\" d=\"M 0 0 M2303.1 1515.64 Q2299.48 1515.64 2297.66 1519.2 Q2295.85 1522.75 2295.85 1529.87 Q2295.85 1536.98 2297.66 1540.55 Q2299.48 1544.09 2303.1 1544.09 Q2306.73 1544.09 2308.54 1540.55 Q2310.36 1536.98 2310.36 1529.87 Q2310.36 1522.75 2308.54 1519.2 Q2306.73 1515.64 2303.1 1515.64 M2303.1 1511.93 Q2308.91 1511.93 2311.96 1516.54 Q2315.04 1521.12 2315.04 1529.87 Q2315.04 1538.6 2311.96 1543.21 Q2308.91 1547.79 2303.1 1547.79 Q2297.29 1547.79 2294.21 1543.21 Q2291.15 1538.6 2291.15 1529.87 Q2291.15 1521.12 2294.21 1516.54 Q2297.29 1511.93 2303.1 1511.93 Z\" fill=\"#000000\" fill-rule=\"evenodd\" fill-opacity=\"1\" /><polyline clip-path=\"url(#clip212)\" style=\"stroke:#000000; stroke-width:2; stroke-opacity:0.1; fill:none\" points=\"\n",
       "  147.848,1445.72 2352.76,1445.72 \n",
       "  \"/>\n",
       "<polyline clip-path=\"url(#clip212)\" style=\"stroke:#000000; stroke-width:2; stroke-opacity:0.1; fill:none\" points=\"\n",
       "  147.848,1114.34 2352.76,1114.34 \n",
       "  \"/>\n",
       "<polyline clip-path=\"url(#clip212)\" style=\"stroke:#000000; stroke-width:2; stroke-opacity:0.1; fill:none\" points=\"\n",
       "  147.848,782.964 2352.76,782.964 \n",
       "  \"/>\n",
       "<polyline clip-path=\"url(#clip212)\" style=\"stroke:#000000; stroke-width:2; stroke-opacity:0.1; fill:none\" points=\"\n",
       "  147.848,451.588 2352.76,451.588 \n",
       "  \"/>\n",
       "<polyline clip-path=\"url(#clip212)\" style=\"stroke:#000000; stroke-width:2; stroke-opacity:0.1; fill:none\" points=\"\n",
       "  147.848,120.213 2352.76,120.213 \n",
       "  \"/>\n",
       "<polyline clip-path=\"url(#clip210)\" style=\"stroke:#000000; stroke-width:4; stroke-opacity:1; fill:none\" points=\"\n",
       "  147.848,1486.45 147.848,47.2441 \n",
       "  \"/>\n",
       "<polyline clip-path=\"url(#clip210)\" style=\"stroke:#000000; stroke-width:4; stroke-opacity:1; fill:none\" points=\"\n",
       "  147.848,1445.72 174.307,1445.72 \n",
       "  \"/>\n",
       "<polyline clip-path=\"url(#clip210)\" style=\"stroke:#000000; stroke-width:4; stroke-opacity:1; fill:none\" points=\"\n",
       "  147.848,1114.34 174.307,1114.34 \n",
       "  \"/>\n",
       "<polyline clip-path=\"url(#clip210)\" style=\"stroke:#000000; stroke-width:4; stroke-opacity:1; fill:none\" points=\"\n",
       "  147.848,782.964 174.307,782.964 \n",
       "  \"/>\n",
       "<polyline clip-path=\"url(#clip210)\" style=\"stroke:#000000; stroke-width:4; stroke-opacity:1; fill:none\" points=\"\n",
       "  147.848,451.588 174.307,451.588 \n",
       "  \"/>\n",
       "<polyline clip-path=\"url(#clip210)\" style=\"stroke:#000000; stroke-width:4; stroke-opacity:1; fill:none\" points=\"\n",
       "  147.848,120.213 174.307,120.213 \n",
       "  \"/>\n",
       "<path clip-path=\"url(#clip210)\" d=\"M 0 0 M62.9365 1431.51 Q59.3254 1431.51 57.4967 1435.08 Q55.6912 1438.62 55.6912 1445.75 Q55.6912 1452.86 57.4967 1456.42 Q59.3254 1459.96 62.9365 1459.96 Q66.5707 1459.96 68.3763 1456.42 Q70.205 1452.86 70.205 1445.75 Q70.205 1438.62 68.3763 1435.08 Q66.5707 1431.51 62.9365 1431.51 M62.9365 1427.81 Q68.7467 1427.81 71.8022 1432.42 Q74.8809 1437 74.8809 1445.75 Q74.8809 1454.48 71.8022 1459.08 Q68.7467 1463.67 62.9365 1463.67 Q57.1264 1463.67 54.0477 1459.08 Q50.9921 1454.48 50.9921 1445.75 Q50.9921 1437 54.0477 1432.42 Q57.1264 1427.81 62.9365 1427.81 Z\" fill=\"#000000\" fill-rule=\"evenodd\" fill-opacity=\"1\" /><path clip-path=\"url(#clip210)\" d=\"M 0 0 M79.9503 1457.12 L84.8345 1457.12 L84.8345 1463 L79.9503 1463 L79.9503 1457.12 Z\" fill=\"#000000\" fill-rule=\"evenodd\" fill-opacity=\"1\" /><path clip-path=\"url(#clip210)\" d=\"M 0 0 M99.9039 1431.51 Q96.2928 1431.51 94.4641 1435.08 Q92.6586 1438.62 92.6586 1445.75 Q92.6586 1452.86 94.4641 1456.42 Q96.2928 1459.96 99.9039 1459.96 Q103.538 1459.96 105.344 1456.42 Q107.172 1452.86 107.172 1445.75 Q107.172 1438.62 105.344 1435.08 Q103.538 1431.51 99.9039 1431.51 M99.9039 1427.81 Q105.714 1427.81 108.77 1432.42 Q111.848 1437 111.848 1445.75 Q111.848 1454.48 108.77 1459.08 Q105.714 1463.67 99.9039 1463.67 Q94.0937 1463.67 91.0151 1459.08 Q87.9595 1454.48 87.9595 1445.75 Q87.9595 1437 91.0151 1432.42 Q94.0937 1427.81 99.9039 1427.81 Z\" fill=\"#000000\" fill-rule=\"evenodd\" fill-opacity=\"1\" /><path clip-path=\"url(#clip210)\" d=\"M 0 0 M63.9319 1100.14 Q60.3208 1100.14 58.4921 1103.7 Q56.6865 1107.25 56.6865 1114.37 Q56.6865 1121.48 58.4921 1125.05 Q60.3208 1128.59 63.9319 1128.59 Q67.5661 1128.59 69.3717 1125.05 Q71.2004 1121.48 71.2004 1114.37 Q71.2004 1107.25 69.3717 1103.7 Q67.5661 1100.14 63.9319 1100.14 M63.9319 1096.43 Q69.742 1096.43 72.7976 1101.04 Q75.8763 1105.62 75.8763 1114.37 Q75.8763 1123.1 72.7976 1127.71 Q69.742 1132.29 63.9319 1132.29 Q58.1217 1132.29 55.043 1127.71 Q51.9875 1123.1 51.9875 1114.37 Q51.9875 1105.62 55.043 1101.04 Q58.1217 1096.43 63.9319 1096.43 Z\" fill=\"#000000\" fill-rule=\"evenodd\" fill-opacity=\"1\" /><path clip-path=\"url(#clip210)\" d=\"M 0 0 M80.9457 1125.74 L85.8299 1125.74 L85.8299 1131.62 L80.9457 1131.62 L80.9457 1125.74 Z\" fill=\"#000000\" fill-rule=\"evenodd\" fill-opacity=\"1\" /><path clip-path=\"url(#clip210)\" d=\"M 0 0 M90.9456 1097.06 L109.302 1097.06 L109.302 1101 L95.228 1101 L95.228 1109.47 Q96.2465 1109.12 97.265 1108.96 Q98.2835 1108.77 99.3021 1108.77 Q105.089 1108.77 108.469 1111.94 Q111.848 1115.12 111.848 1120.53 Q111.848 1126.11 108.376 1129.21 Q104.904 1132.29 98.5845 1132.29 Q96.4085 1132.29 94.14 1131.92 Q91.8947 1131.55 89.4873 1130.81 L89.4873 1126.11 Q91.5706 1127.24 93.7928 1127.8 Q96.015 1128.36 98.4919 1128.36 Q102.496 1128.36 104.834 1126.25 Q107.172 1124.14 107.172 1120.53 Q107.172 1116.92 104.834 1114.81 Q102.496 1112.71 98.4919 1112.71 Q96.6169 1112.71 94.7419 1113.12 Q92.89 1113.54 90.9456 1114.42 L90.9456 1097.06 Z\" fill=\"#000000\" fill-rule=\"evenodd\" fill-opacity=\"1\" /><path clip-path=\"url(#clip210)\" d=\"M 0 0 M54.9736 796.309 L62.6124 796.309 L62.6124 769.943 L54.3023 771.61 L54.3023 767.351 L62.5661 765.684 L67.242 765.684 L67.242 796.309 L74.8809 796.309 L74.8809 800.244 L54.9736 800.244 L54.9736 796.309 Z\" fill=\"#000000\" fill-rule=\"evenodd\" fill-opacity=\"1\" /><path clip-path=\"url(#clip210)\" d=\"M 0 0 M79.9503 794.365 L84.8345 794.365 L84.8345 800.244 L79.9503 800.244 L79.9503 794.365 Z\" fill=\"#000000\" fill-rule=\"evenodd\" fill-opacity=\"1\" /><path clip-path=\"url(#clip210)\" d=\"M 0 0 M99.9039 768.763 Q96.2928 768.763 94.4641 772.328 Q92.6586 775.869 92.6586 782.999 Q92.6586 790.105 94.4641 793.67 Q96.2928 797.212 99.9039 797.212 Q103.538 797.212 105.344 793.67 Q107.172 790.105 107.172 782.999 Q107.172 775.869 105.344 772.328 Q103.538 768.763 99.9039 768.763 M99.9039 765.059 Q105.714 765.059 108.77 769.666 Q111.848 774.249 111.848 782.999 Q111.848 791.726 108.77 796.332 Q105.714 800.915 99.9039 800.915 Q94.0937 800.915 91.0151 796.332 Q87.9595 791.726 87.9595 782.999 Q87.9595 774.249 91.0151 769.666 Q94.0937 765.059 99.9039 765.059 Z\" fill=\"#000000\" fill-rule=\"evenodd\" fill-opacity=\"1\" /><path clip-path=\"url(#clip210)\" d=\"M 0 0 M55.969 464.933 L63.6078 464.933 L63.6078 438.568 L55.2977 440.234 L55.2977 435.975 L63.5615 434.308 L68.2374 434.308 L68.2374 464.933 L75.8763 464.933 L75.8763 468.868 L55.969 468.868 L55.969 464.933 Z\" fill=\"#000000\" fill-rule=\"evenodd\" fill-opacity=\"1\" /><path clip-path=\"url(#clip210)\" d=\"M 0 0 M80.9457 462.989 L85.8299 462.989 L85.8299 468.868 L80.9457 468.868 L80.9457 462.989 Z\" fill=\"#000000\" fill-rule=\"evenodd\" fill-opacity=\"1\" /><path clip-path=\"url(#clip210)\" d=\"M 0 0 M90.9456 434.308 L109.302 434.308 L109.302 438.243 L95.228 438.243 L95.228 446.716 Q96.2465 446.368 97.265 446.206 Q98.2835 446.021 99.3021 446.021 Q105.089 446.021 108.469 449.192 Q111.848 452.364 111.848 457.78 Q111.848 463.359 108.376 466.461 Q104.904 469.54 98.5845 469.54 Q96.4085 469.54 94.14 469.169 Q91.8947 468.799 89.4873 468.058 L89.4873 463.359 Q91.5706 464.493 93.7928 465.049 Q96.015 465.604 98.4919 465.604 Q102.496 465.604 104.834 463.498 Q107.172 461.392 107.172 457.78 Q107.172 454.169 104.834 452.063 Q102.496 449.956 98.4919 449.956 Q96.6169 449.956 94.7419 450.373 Q92.89 450.79 90.9456 451.669 L90.9456 434.308 Z\" fill=\"#000000\" fill-rule=\"evenodd\" fill-opacity=\"1\" /><path clip-path=\"url(#clip210)\" d=\"M 0 0 M58.5615 133.557 L74.8809 133.557 L74.8809 137.493 L52.9366 137.493 L52.9366 133.557 Q55.5986 130.803 60.1819 126.173 Q64.7883 121.52 65.9689 120.178 Q68.2143 117.655 69.0939 115.919 Q69.9967 114.159 69.9967 112.47 Q69.9967 109.715 68.0522 107.979 Q66.1309 106.243 63.0291 106.243 Q60.83 106.243 58.3763 107.007 Q55.9458 107.77 53.168 109.321 L53.168 104.599 Q55.9921 103.465 58.4458 102.886 Q60.8995 102.308 62.9365 102.308 Q68.3068 102.308 71.5013 104.993 Q74.6957 107.678 74.6957 112.169 Q74.6957 114.298 73.8855 116.219 Q73.0985 118.118 70.992 120.71 Q70.4133 121.381 67.3115 124.599 Q64.2096 127.793 58.5615 133.557 Z\" fill=\"#000000\" fill-rule=\"evenodd\" fill-opacity=\"1\" /><path clip-path=\"url(#clip210)\" d=\"M 0 0 M79.9503 131.613 L84.8345 131.613 L84.8345 137.493 L79.9503 137.493 L79.9503 131.613 Z\" fill=\"#000000\" fill-rule=\"evenodd\" fill-opacity=\"1\" /><path clip-path=\"url(#clip210)\" d=\"M 0 0 M99.9039 106.011 Q96.2928 106.011 94.4641 109.576 Q92.6586 113.118 92.6586 120.247 Q92.6586 127.354 94.4641 130.918 Q96.2928 134.46 99.9039 134.46 Q103.538 134.46 105.344 130.918 Q107.172 127.354 107.172 120.247 Q107.172 113.118 105.344 109.576 Q103.538 106.011 99.9039 106.011 M99.9039 102.308 Q105.714 102.308 108.77 106.914 Q111.848 111.497 111.848 120.247 Q111.848 128.974 108.77 133.581 Q105.714 138.164 99.9039 138.164 Q94.0937 138.164 91.0151 133.581 Q87.9595 128.974 87.9595 120.247 Q87.9595 111.497 91.0151 106.914 Q94.0937 102.308 99.9039 102.308 Z\" fill=\"#000000\" fill-rule=\"evenodd\" fill-opacity=\"1\" /><polyline clip-path=\"url(#clip212)\" style=\"stroke:#009af9; stroke-width:4; stroke-opacity:1; fill:none\" points=\"\n",
       "  210.251,1445.72 252.702,782.964 295.153,385.313 337.604,173.166 380.056,88.1884 422.507,87.9763 464.958,142.014 507.409,228.611 549.86,332.587 592.311,443.535 \n",
       "  634.762,554.517 677.213,661.094 719.664,760.598 762.115,851.608 804.566,933.55 847.017,1006.42 889.468,1070.58 931.919,1126.6 974.37,1175.18 1016.82,1217.06 \n",
       "  1059.27,1252.99 1101.72,1283.66 1144.17,1309.76 1186.63,1331.88 1229.08,1350.58 1271.53,1366.34 1313.98,1379.6 1356.43,1390.71 1398.88,1400.02 1441.33,1407.8 \n",
       "  1483.78,1414.29 1526.23,1419.7 1568.68,1424.2 1611.14,1427.94 1653.59,1431.04 1696.04,1433.61 1738.49,1435.73 1780.94,1437.49 1823.39,1438.95 1865.84,1440.15 \n",
       "  1908.29,1441.14 1950.74,1441.96 1993.2,1442.63 2035.65,1443.18 2078.1,1443.64 2120.55,1444.01 2163,1444.32 2205.45,1444.57 2247.9,1444.78 2290.35,1444.95 \n",
       "  \n",
       "  \"/>\n",
       "<path clip-path=\"url(#clip210)\" d=\"\n",
       "M1983.25 216.178 L2279.26 216.178 L2279.26 95.2176 L1983.25 95.2176  Z\n",
       "  \" fill=\"#ffffff\" fill-rule=\"evenodd\" fill-opacity=\"1\"/>\n",
       "<polyline clip-path=\"url(#clip210)\" style=\"stroke:#000000; stroke-width:4; stroke-opacity:1; fill:none\" points=\"\n",
       "  1983.25,216.178 2279.26,216.178 2279.26,95.2176 1983.25,95.2176 1983.25,216.178 \n",
       "  \"/>\n",
       "<polyline clip-path=\"url(#clip210)\" style=\"stroke:#009af9; stroke-width:4; stroke-opacity:1; fill:none\" points=\"\n",
       "  2007.75,155.698 2154.74,155.698 \n",
       "  \"/>\n",
       "<path clip-path=\"url(#clip210)\" d=\"M 0 0 M2193.09 175.385 Q2191.28 180.015 2189.57 181.427 Q2187.85 182.839 2184.98 182.839 L2181.58 182.839 L2181.58 179.274 L2184.08 179.274 Q2185.84 179.274 2186.81 178.44 Q2187.78 177.607 2188.96 174.505 L2189.73 172.561 L2179.24 147.052 L2183.76 147.052 L2191.86 167.329 L2199.96 147.052 L2204.47 147.052 L2193.09 175.385 Z\" fill=\"#000000\" fill-rule=\"evenodd\" fill-opacity=\"1\" /><path clip-path=\"url(#clip210)\" d=\"M 0 0 M2210.35 169.042 L2217.99 169.042 L2217.99 142.677 L2209.68 144.343 L2209.68 140.084 L2217.95 138.418 L2222.62 138.418 L2222.62 169.042 L2230.26 169.042 L2230.26 172.978 L2210.35 172.978 L2210.35 169.042 Z\" fill=\"#000000\" fill-rule=\"evenodd\" fill-opacity=\"1\" /></svg>\n"
      ]
     },
     "execution_count": 57,
     "metadata": {},
     "output_type": "execute_result"
    }
   ],
   "source": [
    "forecast_with_lambda!(Z, 0.79+0im, 0.81+0im)\n",
    "plot(Z)"
   ]
  },
  {
   "cell_type": "code",
   "execution_count": null,
   "metadata": {},
   "outputs": [],
   "source": []
  },
  {
   "cell_type": "markdown",
   "metadata": {},
   "source": [
    "### Solution and stability properties\n",
    "Recall \n",
    "$$\n",
    "x_t = \\sum_k c_{k1} \\lambda_k^t.\n",
    "$$\n",
    "\n",
    "Take a linear homogeneous difference equation with order $p$. Let $\\lambda_k$ be a root with multiplicity $m_k$. Then the solution is\n",
    "$$\n",
    "x_t = \\sum_k (c_{k1} + c_{k2}t + ... + c_{km_k}t^{m_k}) \\lambda_k^t.\n",
    "$$\n"
   ]
  },
  {
   "cell_type": "code",
   "execution_count": 58,
   "metadata": {},
   "outputs": [
    {
     "data": {
      "text/plain": [
       "forecast_with_common_root! (generic function with 1 method)"
      ]
     },
     "execution_count": 58,
     "metadata": {},
     "output_type": "execute_result"
    }
   ],
   "source": [
    "function forecast_with_common_root!(x::Vector{Float64}, λ::Real)\n",
    "    # make sure boundary conditions are met\n",
    "    # suppose we start from t = 0, which is at x[1]\n",
    "    c1 = x[0+1]\n",
    "    c2 = x[1+1] / λ - c1\n",
    "    \n",
    "    T = length(x)\n",
    "    for t = 0:T-1\n",
    "        x[t+1] = (c1 + c2*t) * λ^t\n",
    "    end\n",
    "end"
   ]
  },
  {
   "cell_type": "code",
   "execution_count": 59,
   "metadata": {},
   "outputs": [
    {
     "data": {
      "image/svg+xml": [
       "<?xml version=\"1.0\" encoding=\"utf-8\"?>\n",
       "<svg xmlns=\"http://www.w3.org/2000/svg\" xmlns:xlink=\"http://www.w3.org/1999/xlink\" width=\"600\" height=\"400\" viewBox=\"0 0 2400 1600\">\n",
       "<defs>\n",
       "  <clipPath id=\"clip250\">\n",
       "    <rect x=\"0\" y=\"0\" width=\"2400\" height=\"1600\"/>\n",
       "  </clipPath>\n",
       "</defs>\n",
       "<path clip-path=\"url(#clip250)\" d=\"\n",
       "M0 1600 L2400 1600 L2400 0 L0 0  Z\n",
       "  \" fill=\"#ffffff\" fill-rule=\"evenodd\" fill-opacity=\"1\"/>\n",
       "<defs>\n",
       "  <clipPath id=\"clip251\">\n",
       "    <rect x=\"480\" y=\"0\" width=\"1681\" height=\"1600\"/>\n",
       "  </clipPath>\n",
       "</defs>\n",
       "<path clip-path=\"url(#clip250)\" d=\"\n",
       "M147.848 1486.45 L2352.76 1486.45 L2352.76 47.2441 L147.848 47.2441  Z\n",
       "  \" fill=\"#ffffff\" fill-rule=\"evenodd\" fill-opacity=\"1\"/>\n",
       "<defs>\n",
       "  <clipPath id=\"clip252\">\n",
       "    <rect x=\"147\" y=\"47\" width=\"2206\" height=\"1440\"/>\n",
       "  </clipPath>\n",
       "</defs>\n",
       "<polyline clip-path=\"url(#clip252)\" style=\"stroke:#000000; stroke-width:2; stroke-opacity:0.1; fill:none\" points=\"\n",
       "  167.8,1486.45 167.8,47.2441 \n",
       "  \"/>\n",
       "<polyline clip-path=\"url(#clip252)\" style=\"stroke:#000000; stroke-width:2; stroke-opacity:0.1; fill:none\" points=\"\n",
       "  592.311,1486.45 592.311,47.2441 \n",
       "  \"/>\n",
       "<polyline clip-path=\"url(#clip252)\" style=\"stroke:#000000; stroke-width:2; stroke-opacity:0.1; fill:none\" points=\"\n",
       "  1016.82,1486.45 1016.82,47.2441 \n",
       "  \"/>\n",
       "<polyline clip-path=\"url(#clip252)\" style=\"stroke:#000000; stroke-width:2; stroke-opacity:0.1; fill:none\" points=\"\n",
       "  1441.33,1486.45 1441.33,47.2441 \n",
       "  \"/>\n",
       "<polyline clip-path=\"url(#clip252)\" style=\"stroke:#000000; stroke-width:2; stroke-opacity:0.1; fill:none\" points=\"\n",
       "  1865.84,1486.45 1865.84,47.2441 \n",
       "  \"/>\n",
       "<polyline clip-path=\"url(#clip252)\" style=\"stroke:#000000; stroke-width:2; stroke-opacity:0.1; fill:none\" points=\"\n",
       "  2290.35,1486.45 2290.35,47.2441 \n",
       "  \"/>\n",
       "<polyline clip-path=\"url(#clip250)\" style=\"stroke:#000000; stroke-width:4; stroke-opacity:1; fill:none\" points=\"\n",
       "  147.848,1486.45 2352.76,1486.45 \n",
       "  \"/>\n",
       "<polyline clip-path=\"url(#clip250)\" style=\"stroke:#000000; stroke-width:4; stroke-opacity:1; fill:none\" points=\"\n",
       "  167.8,1486.45 167.8,1469.18 \n",
       "  \"/>\n",
       "<polyline clip-path=\"url(#clip250)\" style=\"stroke:#000000; stroke-width:4; stroke-opacity:1; fill:none\" points=\"\n",
       "  592.311,1486.45 592.311,1469.18 \n",
       "  \"/>\n",
       "<polyline clip-path=\"url(#clip250)\" style=\"stroke:#000000; stroke-width:4; stroke-opacity:1; fill:none\" points=\"\n",
       "  1016.82,1486.45 1016.82,1469.18 \n",
       "  \"/>\n",
       "<polyline clip-path=\"url(#clip250)\" style=\"stroke:#000000; stroke-width:4; stroke-opacity:1; fill:none\" points=\"\n",
       "  1441.33,1486.45 1441.33,1469.18 \n",
       "  \"/>\n",
       "<polyline clip-path=\"url(#clip250)\" style=\"stroke:#000000; stroke-width:4; stroke-opacity:1; fill:none\" points=\"\n",
       "  1865.84,1486.45 1865.84,1469.18 \n",
       "  \"/>\n",
       "<polyline clip-path=\"url(#clip250)\" style=\"stroke:#000000; stroke-width:4; stroke-opacity:1; fill:none\" points=\"\n",
       "  2290.35,1486.45 2290.35,1469.18 \n",
       "  \"/>\n",
       "<path clip-path=\"url(#clip250)\" d=\"M 0 0 M167.8 1515.64 Q164.189 1515.64 162.36 1519.2 Q160.555 1522.75 160.555 1529.87 Q160.555 1536.98 162.36 1540.55 Q164.189 1544.09 167.8 1544.09 Q171.435 1544.09 173.24 1540.55 Q175.069 1536.98 175.069 1529.87 Q175.069 1522.75 173.24 1519.2 Q171.435 1515.64 167.8 1515.64 M167.8 1511.93 Q173.61 1511.93 176.666 1516.54 Q179.745 1521.12 179.745 1529.87 Q179.745 1538.6 176.666 1543.21 Q173.61 1547.79 167.8 1547.79 Q161.99 1547.79 158.911 1543.21 Q155.856 1538.6 155.856 1529.87 Q155.856 1521.12 158.911 1516.54 Q161.99 1511.93 167.8 1511.93 Z\" fill=\"#000000\" fill-rule=\"evenodd\" fill-opacity=\"1\" /><path clip-path=\"url(#clip250)\" d=\"M 0 0 M569.186 1543.18 L576.825 1543.18 L576.825 1516.82 L568.515 1518.49 L568.515 1514.23 L576.778 1512.56 L581.454 1512.56 L581.454 1543.18 L589.093 1543.18 L589.093 1547.12 L569.186 1547.12 L569.186 1543.18 Z\" fill=\"#000000\" fill-rule=\"evenodd\" fill-opacity=\"1\" /><path clip-path=\"url(#clip250)\" d=\"M 0 0 M604.163 1515.64 Q600.551 1515.64 598.723 1519.2 Q596.917 1522.75 596.917 1529.87 Q596.917 1536.98 598.723 1540.55 Q600.551 1544.09 604.163 1544.09 Q607.797 1544.09 609.602 1540.55 Q611.431 1536.98 611.431 1529.87 Q611.431 1522.75 609.602 1519.2 Q607.797 1515.64 604.163 1515.64 M604.163 1511.93 Q609.973 1511.93 613.028 1516.54 Q616.107 1521.12 616.107 1529.87 Q616.107 1538.6 613.028 1543.21 Q609.973 1547.79 604.163 1547.79 Q598.352 1547.79 595.274 1543.21 Q592.218 1538.6 592.218 1529.87 Q592.218 1521.12 595.274 1516.54 Q598.352 1511.93 604.163 1511.93 Z\" fill=\"#000000\" fill-rule=\"evenodd\" fill-opacity=\"1\" /><path clip-path=\"url(#clip250)\" d=\"M 0 0 M997.967 1543.18 L1014.29 1543.18 L1014.29 1547.12 L992.342 1547.12 L992.342 1543.18 Q995.004 1540.43 999.588 1535.8 Q1004.19 1531.15 1005.37 1529.81 Q1007.62 1527.28 1008.5 1525.55 Q1009.4 1523.79 1009.4 1522.1 Q1009.4 1519.34 1007.46 1517.61 Q1005.54 1515.87 1002.43 1515.87 Q1000.24 1515.87 997.782 1516.63 Q995.352 1517.4 992.574 1518.95 L992.574 1514.23 Q995.398 1513.09 997.852 1512.51 Q1000.31 1511.93 1002.34 1511.93 Q1007.71 1511.93 1010.91 1514.62 Q1014.1 1517.31 1014.1 1521.8 Q1014.1 1523.93 1013.29 1525.85 Q1012.5 1527.74 1010.4 1530.34 Q1009.82 1531.01 1006.72 1534.23 Q1003.62 1537.42 997.967 1543.18 Z\" fill=\"#000000\" fill-rule=\"evenodd\" fill-opacity=\"1\" /><path clip-path=\"url(#clip250)\" d=\"M 0 0 M1029.36 1515.64 Q1025.74 1515.64 1023.92 1519.2 Q1022.11 1522.75 1022.11 1529.87 Q1022.11 1536.98 1023.92 1540.55 Q1025.74 1544.09 1029.36 1544.09 Q1032.99 1544.09 1034.8 1540.55 Q1036.62 1536.98 1036.62 1529.87 Q1036.62 1522.75 1034.8 1519.2 Q1032.99 1515.64 1029.36 1515.64 M1029.36 1511.93 Q1035.17 1511.93 1038.22 1516.54 Q1041.3 1521.12 1041.3 1529.87 Q1041.3 1538.6 1038.22 1543.21 Q1035.17 1547.79 1029.36 1547.79 Q1023.55 1547.79 1020.47 1543.21 Q1017.41 1538.6 1017.41 1529.87 Q1017.41 1521.12 1020.47 1516.54 Q1023.55 1511.93 1029.36 1511.93 Z\" fill=\"#000000\" fill-rule=\"evenodd\" fill-opacity=\"1\" /><path clip-path=\"url(#clip250)\" d=\"M 0 0 M1432.07 1528.49 Q1435.43 1529.2 1437.3 1531.47 Q1439.2 1533.74 1439.2 1537.07 Q1439.2 1542.19 1435.68 1544.99 Q1432.17 1547.79 1425.68 1547.79 Q1423.51 1547.79 1421.19 1547.35 Q1418.9 1546.93 1416.45 1546.08 L1416.45 1541.56 Q1418.39 1542.7 1420.71 1543.28 Q1423.02 1543.86 1425.54 1543.86 Q1429.94 1543.86 1432.23 1542.12 Q1434.55 1540.38 1434.55 1537.07 Q1434.55 1534.02 1432.4 1532.31 Q1430.27 1530.57 1426.45 1530.57 L1422.42 1530.57 L1422.42 1526.73 L1426.63 1526.73 Q1430.08 1526.73 1431.91 1525.36 Q1433.74 1523.97 1433.74 1521.38 Q1433.74 1518.72 1431.84 1517.31 Q1429.97 1515.87 1426.45 1515.87 Q1424.53 1515.87 1422.33 1516.29 Q1420.13 1516.7 1417.49 1517.58 L1417.49 1513.42 Q1420.15 1512.68 1422.47 1512.31 Q1424.8 1511.93 1426.86 1511.93 Q1432.19 1511.93 1435.29 1514.37 Q1438.39 1516.77 1438.39 1520.89 Q1438.39 1523.76 1436.75 1525.75 Q1435.11 1527.72 1432.07 1528.49 Z\" fill=\"#000000\" fill-rule=\"evenodd\" fill-opacity=\"1\" /><path clip-path=\"url(#clip250)\" d=\"M 0 0 M1454.27 1515.64 Q1450.66 1515.64 1448.83 1519.2 Q1447.03 1522.75 1447.03 1529.87 Q1447.03 1536.98 1448.83 1540.55 Q1450.66 1544.09 1454.27 1544.09 Q1457.91 1544.09 1459.71 1540.55 Q1461.54 1536.98 1461.54 1529.87 Q1461.54 1522.75 1459.71 1519.2 Q1457.91 1515.64 1454.27 1515.64 M1454.27 1511.93 Q1460.08 1511.93 1463.14 1516.54 Q1466.22 1521.12 1466.22 1529.87 Q1466.22 1538.6 1463.14 1543.21 Q1460.08 1547.79 1454.27 1547.79 Q1448.46 1547.79 1445.38 1543.21 Q1442.33 1538.6 1442.33 1529.87 Q1442.33 1521.12 1445.38 1516.54 Q1448.46 1511.93 1454.27 1511.93 Z\" fill=\"#000000\" fill-rule=\"evenodd\" fill-opacity=\"1\" /><path clip-path=\"url(#clip250)\" d=\"M 0 0 M1855.34 1516.63 L1843.54 1535.08 L1855.34 1535.08 L1855.34 1516.63 M1854.12 1512.56 L1860 1512.56 L1860 1535.08 L1864.93 1535.08 L1864.93 1538.97 L1860 1538.97 L1860 1547.12 L1855.34 1547.12 L1855.34 1538.97 L1839.74 1538.97 L1839.74 1534.46 L1854.12 1512.56 Z\" fill=\"#000000\" fill-rule=\"evenodd\" fill-opacity=\"1\" /><path clip-path=\"url(#clip250)\" d=\"M 0 0 M1880 1515.64 Q1876.39 1515.64 1874.56 1519.2 Q1872.75 1522.75 1872.75 1529.87 Q1872.75 1536.98 1874.56 1540.55 Q1876.39 1544.09 1880 1544.09 Q1883.63 1544.09 1885.44 1540.55 Q1887.27 1536.98 1887.27 1529.87 Q1887.27 1522.75 1885.44 1519.2 Q1883.63 1515.64 1880 1515.64 M1880 1511.93 Q1885.81 1511.93 1888.86 1516.54 Q1891.94 1521.12 1891.94 1529.87 Q1891.94 1538.6 1888.86 1543.21 Q1885.81 1547.79 1880 1547.79 Q1874.19 1547.79 1871.11 1543.21 Q1868.05 1538.6 1868.05 1529.87 Q1868.05 1521.12 1871.11 1516.54 Q1874.19 1511.93 1880 1511.93 Z\" fill=\"#000000\" fill-rule=\"evenodd\" fill-opacity=\"1\" /><path clip-path=\"url(#clip250)\" d=\"M 0 0 M2267.12 1512.56 L2285.48 1512.56 L2285.48 1516.5 L2271.41 1516.5 L2271.41 1524.97 Q2272.42 1524.62 2273.44 1524.46 Q2274.46 1524.27 2275.48 1524.27 Q2281.27 1524.27 2284.65 1527.44 Q2288.03 1530.62 2288.03 1536.03 Q2288.03 1541.61 2284.55 1544.71 Q2281.08 1547.79 2274.76 1547.79 Q2272.59 1547.79 2270.32 1547.42 Q2268.07 1547.05 2265.67 1546.31 L2265.67 1541.61 Q2267.75 1542.74 2269.97 1543.3 Q2272.19 1543.86 2274.67 1543.86 Q2278.67 1543.86 2281.01 1541.75 Q2283.35 1539.64 2283.35 1536.03 Q2283.35 1532.42 2281.01 1530.31 Q2278.67 1528.21 2274.67 1528.21 Q2272.8 1528.21 2270.92 1528.62 Q2269.07 1529.04 2267.12 1529.92 L2267.12 1512.56 Z\" fill=\"#000000\" fill-rule=\"evenodd\" fill-opacity=\"1\" /><path clip-path=\"url(#clip250)\" d=\"M 0 0 M2303.1 1515.64 Q2299.48 1515.64 2297.66 1519.2 Q2295.85 1522.75 2295.85 1529.87 Q2295.85 1536.98 2297.66 1540.55 Q2299.48 1544.09 2303.1 1544.09 Q2306.73 1544.09 2308.54 1540.55 Q2310.36 1536.98 2310.36 1529.87 Q2310.36 1522.75 2308.54 1519.2 Q2306.73 1515.64 2303.1 1515.64 M2303.1 1511.93 Q2308.91 1511.93 2311.96 1516.54 Q2315.04 1521.12 2315.04 1529.87 Q2315.04 1538.6 2311.96 1543.21 Q2308.91 1547.79 2303.1 1547.79 Q2297.29 1547.79 2294.21 1543.21 Q2291.15 1538.6 2291.15 1529.87 Q2291.15 1521.12 2294.21 1516.54 Q2297.29 1511.93 2303.1 1511.93 Z\" fill=\"#000000\" fill-rule=\"evenodd\" fill-opacity=\"1\" /><polyline clip-path=\"url(#clip252)\" style=\"stroke:#000000; stroke-width:2; stroke-opacity:0.1; fill:none\" points=\"\n",
       "  147.848,1445.72 2352.76,1445.72 \n",
       "  \"/>\n",
       "<polyline clip-path=\"url(#clip252)\" style=\"stroke:#000000; stroke-width:2; stroke-opacity:0.1; fill:none\" points=\"\n",
       "  147.848,1114.24 2352.76,1114.24 \n",
       "  \"/>\n",
       "<polyline clip-path=\"url(#clip252)\" style=\"stroke:#000000; stroke-width:2; stroke-opacity:0.1; fill:none\" points=\"\n",
       "  147.848,782.757 2352.76,782.757 \n",
       "  \"/>\n",
       "<polyline clip-path=\"url(#clip252)\" style=\"stroke:#000000; stroke-width:2; stroke-opacity:0.1; fill:none\" points=\"\n",
       "  147.848,451.278 2352.76,451.278 \n",
       "  \"/>\n",
       "<polyline clip-path=\"url(#clip252)\" style=\"stroke:#000000; stroke-width:2; stroke-opacity:0.1; fill:none\" points=\"\n",
       "  147.848,119.798 2352.76,119.798 \n",
       "  \"/>\n",
       "<polyline clip-path=\"url(#clip250)\" style=\"stroke:#000000; stroke-width:4; stroke-opacity:1; fill:none\" points=\"\n",
       "  147.848,1486.45 147.848,47.2441 \n",
       "  \"/>\n",
       "<polyline clip-path=\"url(#clip250)\" style=\"stroke:#000000; stroke-width:4; stroke-opacity:1; fill:none\" points=\"\n",
       "  147.848,1445.72 174.307,1445.72 \n",
       "  \"/>\n",
       "<polyline clip-path=\"url(#clip250)\" style=\"stroke:#000000; stroke-width:4; stroke-opacity:1; fill:none\" points=\"\n",
       "  147.848,1114.24 174.307,1114.24 \n",
       "  \"/>\n",
       "<polyline clip-path=\"url(#clip250)\" style=\"stroke:#000000; stroke-width:4; stroke-opacity:1; fill:none\" points=\"\n",
       "  147.848,782.757 174.307,782.757 \n",
       "  \"/>\n",
       "<polyline clip-path=\"url(#clip250)\" style=\"stroke:#000000; stroke-width:4; stroke-opacity:1; fill:none\" points=\"\n",
       "  147.848,451.278 174.307,451.278 \n",
       "  \"/>\n",
       "<polyline clip-path=\"url(#clip250)\" style=\"stroke:#000000; stroke-width:4; stroke-opacity:1; fill:none\" points=\"\n",
       "  147.848,119.798 174.307,119.798 \n",
       "  \"/>\n",
       "<path clip-path=\"url(#clip250)\" d=\"M 0 0 M62.9365 1431.51 Q59.3254 1431.51 57.4967 1435.08 Q55.6912 1438.62 55.6912 1445.75 Q55.6912 1452.86 57.4967 1456.42 Q59.3254 1459.96 62.9365 1459.96 Q66.5707 1459.96 68.3763 1456.42 Q70.205 1452.86 70.205 1445.75 Q70.205 1438.62 68.3763 1435.08 Q66.5707 1431.51 62.9365 1431.51 M62.9365 1427.81 Q68.7467 1427.81 71.8022 1432.42 Q74.8809 1437 74.8809 1445.75 Q74.8809 1454.48 71.8022 1459.08 Q68.7467 1463.67 62.9365 1463.67 Q57.1264 1463.67 54.0477 1459.08 Q50.9921 1454.48 50.9921 1445.75 Q50.9921 1437 54.0477 1432.42 Q57.1264 1427.81 62.9365 1427.81 Z\" fill=\"#000000\" fill-rule=\"evenodd\" fill-opacity=\"1\" /><path clip-path=\"url(#clip250)\" d=\"M 0 0 M79.9503 1457.12 L84.8345 1457.12 L84.8345 1463 L79.9503 1463 L79.9503 1457.12 Z\" fill=\"#000000\" fill-rule=\"evenodd\" fill-opacity=\"1\" /><path clip-path=\"url(#clip250)\" d=\"M 0 0 M99.9039 1431.51 Q96.2928 1431.51 94.4641 1435.08 Q92.6586 1438.62 92.6586 1445.75 Q92.6586 1452.86 94.4641 1456.42 Q96.2928 1459.96 99.9039 1459.96 Q103.538 1459.96 105.344 1456.42 Q107.172 1452.86 107.172 1445.75 Q107.172 1438.62 105.344 1435.08 Q103.538 1431.51 99.9039 1431.51 M99.9039 1427.81 Q105.714 1427.81 108.77 1432.42 Q111.848 1437 111.848 1445.75 Q111.848 1454.48 108.77 1459.08 Q105.714 1463.67 99.9039 1463.67 Q94.0937 1463.67 91.0151 1459.08 Q87.9595 1454.48 87.9595 1445.75 Q87.9595 1437 91.0151 1432.42 Q94.0937 1427.81 99.9039 1427.81 Z\" fill=\"#000000\" fill-rule=\"evenodd\" fill-opacity=\"1\" /><path clip-path=\"url(#clip250)\" d=\"M 0 0 M63.9319 1100.04 Q60.3208 1100.04 58.4921 1103.6 Q56.6865 1107.14 56.6865 1114.27 Q56.6865 1121.38 58.4921 1124.94 Q60.3208 1128.48 63.9319 1128.48 Q67.5661 1128.48 69.3717 1124.94 Q71.2004 1121.38 71.2004 1114.27 Q71.2004 1107.14 69.3717 1103.6 Q67.5661 1100.04 63.9319 1100.04 M63.9319 1096.33 Q69.742 1096.33 72.7976 1100.94 Q75.8763 1105.52 75.8763 1114.27 Q75.8763 1123 72.7976 1127.6 Q69.742 1132.19 63.9319 1132.19 Q58.1217 1132.19 55.043 1127.6 Q51.9875 1123 51.9875 1114.27 Q51.9875 1105.52 55.043 1100.94 Q58.1217 1096.33 63.9319 1096.33 Z\" fill=\"#000000\" fill-rule=\"evenodd\" fill-opacity=\"1\" /><path clip-path=\"url(#clip250)\" d=\"M 0 0 M80.9457 1125.64 L85.8299 1125.64 L85.8299 1131.52 L80.9457 1131.52 L80.9457 1125.64 Z\" fill=\"#000000\" fill-rule=\"evenodd\" fill-opacity=\"1\" /><path clip-path=\"url(#clip250)\" d=\"M 0 0 M90.9456 1096.96 L109.302 1096.96 L109.302 1100.89 L95.228 1100.89 L95.228 1109.36 Q96.2465 1109.02 97.265 1108.85 Q98.2835 1108.67 99.3021 1108.67 Q105.089 1108.67 108.469 1111.84 Q111.848 1115.01 111.848 1120.43 Q111.848 1126.01 108.376 1129.11 Q104.904 1132.19 98.5845 1132.19 Q96.4085 1132.19 94.14 1131.82 Q91.8947 1131.45 89.4873 1130.71 L89.4873 1126.01 Q91.5706 1127.14 93.7928 1127.7 Q96.015 1128.25 98.4919 1128.25 Q102.496 1128.25 104.834 1126.15 Q107.172 1124.04 107.172 1120.43 Q107.172 1116.82 104.834 1114.71 Q102.496 1112.6 98.4919 1112.6 Q96.6169 1112.6 94.7419 1113.02 Q92.89 1113.44 90.9456 1114.32 L90.9456 1096.96 Z\" fill=\"#000000\" fill-rule=\"evenodd\" fill-opacity=\"1\" /><path clip-path=\"url(#clip250)\" d=\"M 0 0 M54.9736 796.102 L62.6124 796.102 L62.6124 769.736 L54.3023 771.403 L54.3023 767.144 L62.5661 765.477 L67.242 765.477 L67.242 796.102 L74.8809 796.102 L74.8809 800.037 L54.9736 800.037 L54.9736 796.102 Z\" fill=\"#000000\" fill-rule=\"evenodd\" fill-opacity=\"1\" /><path clip-path=\"url(#clip250)\" d=\"M 0 0 M79.9503 794.157 L84.8345 794.157 L84.8345 800.037 L79.9503 800.037 L79.9503 794.157 Z\" fill=\"#000000\" fill-rule=\"evenodd\" fill-opacity=\"1\" /><path clip-path=\"url(#clip250)\" d=\"M 0 0 M99.9039 768.556 Q96.2928 768.556 94.4641 772.12 Q92.6586 775.662 92.6586 782.792 Q92.6586 789.898 94.4641 793.463 Q96.2928 797.005 99.9039 797.005 Q103.538 797.005 105.344 793.463 Q107.172 789.898 107.172 782.792 Q107.172 775.662 105.344 772.12 Q103.538 768.556 99.9039 768.556 M99.9039 764.852 Q105.714 764.852 108.77 769.458 Q111.848 774.042 111.848 782.792 Q111.848 791.519 108.77 796.125 Q105.714 800.708 99.9039 800.708 Q94.0937 800.708 91.0151 796.125 Q87.9595 791.519 87.9595 782.792 Q87.9595 774.042 91.0151 769.458 Q94.0937 764.852 99.9039 764.852 Z\" fill=\"#000000\" fill-rule=\"evenodd\" fill-opacity=\"1\" /><path clip-path=\"url(#clip250)\" d=\"M 0 0 M55.969 464.622 L63.6078 464.622 L63.6078 438.257 L55.2977 439.924 L55.2977 435.664 L63.5615 433.998 L68.2374 433.998 L68.2374 464.622 L75.8763 464.622 L75.8763 468.558 L55.969 468.558 L55.969 464.622 Z\" fill=\"#000000\" fill-rule=\"evenodd\" fill-opacity=\"1\" /><path clip-path=\"url(#clip250)\" d=\"M 0 0 M80.9457 462.678 L85.8299 462.678 L85.8299 468.558 L80.9457 468.558 L80.9457 462.678 Z\" fill=\"#000000\" fill-rule=\"evenodd\" fill-opacity=\"1\" /><path clip-path=\"url(#clip250)\" d=\"M 0 0 M90.9456 433.998 L109.302 433.998 L109.302 437.933 L95.228 437.933 L95.228 446.405 Q96.2465 446.058 97.265 445.896 Q98.2835 445.711 99.3021 445.711 Q105.089 445.711 108.469 448.882 Q111.848 452.053 111.848 457.47 Q111.848 463.048 108.376 466.15 Q104.904 469.229 98.5845 469.229 Q96.4085 469.229 94.14 468.859 Q91.8947 468.488 89.4873 467.747 L89.4873 463.048 Q91.5706 464.183 93.7928 464.738 Q96.015 465.294 98.4919 465.294 Q102.496 465.294 104.834 463.187 Q107.172 461.081 107.172 457.47 Q107.172 453.859 104.834 451.752 Q102.496 449.646 98.4919 449.646 Q96.6169 449.646 94.7419 450.062 Q92.89 450.479 90.9456 451.359 L90.9456 433.998 Z\" fill=\"#000000\" fill-rule=\"evenodd\" fill-opacity=\"1\" /><path clip-path=\"url(#clip250)\" d=\"M 0 0 M58.5615 133.143 L74.8809 133.143 L74.8809 137.078 L52.9366 137.078 L52.9366 133.143 Q55.5986 130.389 60.1819 125.759 Q64.7883 121.106 65.9689 119.764 Q68.2143 117.24 69.0939 115.504 Q69.9967 113.745 69.9967 112.055 Q69.9967 109.301 68.0522 107.565 Q66.1309 105.828 63.0291 105.828 Q60.83 105.828 58.3763 106.592 Q55.9458 107.356 53.168 108.907 L53.168 104.185 Q55.9921 103.051 58.4458 102.472 Q60.8995 101.893 62.9365 101.893 Q68.3068 101.893 71.5013 104.578 Q74.6957 107.264 74.6957 111.754 Q74.6957 113.884 73.8855 115.805 Q73.0985 117.703 70.992 120.296 Q70.4133 120.967 67.3115 124.185 Q64.2096 127.379 58.5615 133.143 Z\" fill=\"#000000\" fill-rule=\"evenodd\" fill-opacity=\"1\" /><path clip-path=\"url(#clip250)\" d=\"M 0 0 M79.9503 131.199 L84.8345 131.199 L84.8345 137.078 L79.9503 137.078 L79.9503 131.199 Z\" fill=\"#000000\" fill-rule=\"evenodd\" fill-opacity=\"1\" /><path clip-path=\"url(#clip250)\" d=\"M 0 0 M99.9039 105.597 Q96.2928 105.597 94.4641 109.162 Q92.6586 112.703 92.6586 119.833 Q92.6586 126.939 94.4641 130.504 Q96.2928 134.046 99.9039 134.046 Q103.538 134.046 105.344 130.504 Q107.172 126.939 107.172 119.833 Q107.172 112.703 105.344 109.162 Q103.538 105.597 99.9039 105.597 M99.9039 101.893 Q105.714 101.893 108.77 106.5 Q111.848 111.083 111.848 119.833 Q111.848 128.56 108.77 133.166 Q105.714 137.75 99.9039 137.75 Q94.0937 137.75 91.0151 133.166 Q87.9595 128.56 87.9595 119.833 Q87.9595 111.083 91.0151 106.5 Q94.0937 101.893 99.9039 101.893 Z\" fill=\"#000000\" fill-rule=\"evenodd\" fill-opacity=\"1\" /><polyline clip-path=\"url(#clip252)\" style=\"stroke:#009af9; stroke-width:4; stroke-opacity:1; fill:none\" points=\"\n",
       "  210.251,1445.72 252.702,782.757 295.153,384.982 337.604,172.835 380.056,87.9763 422.507,87.9763 464.958,142.286 507.409,229.181 549.86,333.456 592.311,444.682 \n",
       "  634.762,555.908 677.213,662.685 719.664,762.343 762.115,853.459 804.566,935.464 847.017,1008.36 889.468,1072.5 931.919,1128.49 974.37,1177 1016.82,1218.8 \n",
       "  1059.27,1254.63 1101.72,1285.2 1144.17,1311.19 1186.63,1333.2 1229.08,1351.79 1271.53,1367.45 1313.98,1380.6 1356.43,1391.62 1398.88,1400.83 1441.33,1408.53 \n",
       "  1483.78,1414.94 1526.23,1420.27 1568.68,1424.71 1611.14,1428.38 1653.59,1431.43 1696.04,1433.95 1738.49,1436.03 1780.94,1437.76 1823.39,1439.18 1865.84,1440.35 \n",
       "  1908.29,1441.31 1950.74,1442.1 1993.2,1442.75 2035.65,1443.29 2078.1,1443.73 2120.55,1444.09 2163,1444.39 2205.45,1444.63 2247.9,1444.83 2290.35,1444.99 \n",
       "  \n",
       "  \"/>\n",
       "<path clip-path=\"url(#clip250)\" d=\"\n",
       "M1983.25 216.178 L2279.26 216.178 L2279.26 95.2176 L1983.25 95.2176  Z\n",
       "  \" fill=\"#ffffff\" fill-rule=\"evenodd\" fill-opacity=\"1\"/>\n",
       "<polyline clip-path=\"url(#clip250)\" style=\"stroke:#000000; stroke-width:4; stroke-opacity:1; fill:none\" points=\"\n",
       "  1983.25,216.178 2279.26,216.178 2279.26,95.2176 1983.25,95.2176 1983.25,216.178 \n",
       "  \"/>\n",
       "<polyline clip-path=\"url(#clip250)\" style=\"stroke:#009af9; stroke-width:4; stroke-opacity:1; fill:none\" points=\"\n",
       "  2007.75,155.698 2154.74,155.698 \n",
       "  \"/>\n",
       "<path clip-path=\"url(#clip250)\" d=\"M 0 0 M2193.09 175.385 Q2191.28 180.015 2189.57 181.427 Q2187.85 182.839 2184.98 182.839 L2181.58 182.839 L2181.58 179.274 L2184.08 179.274 Q2185.84 179.274 2186.81 178.44 Q2187.78 177.607 2188.96 174.505 L2189.73 172.561 L2179.24 147.052 L2183.76 147.052 L2191.86 167.329 L2199.96 147.052 L2204.47 147.052 L2193.09 175.385 Z\" fill=\"#000000\" fill-rule=\"evenodd\" fill-opacity=\"1\" /><path clip-path=\"url(#clip250)\" d=\"M 0 0 M2210.35 169.042 L2217.99 169.042 L2217.99 142.677 L2209.68 144.343 L2209.68 140.084 L2217.95 138.418 L2222.62 138.418 L2222.62 169.042 L2230.26 169.042 L2230.26 172.978 L2210.35 172.978 L2210.35 169.042 Z\" fill=\"#000000\" fill-rule=\"evenodd\" fill-opacity=\"1\" /></svg>\n"
      ]
     },
     "execution_count": 59,
     "metadata": {},
     "output_type": "execute_result"
    }
   ],
   "source": [
    "forecast_with_common_root!(Z, 0.8)\n",
    "plot(Z)"
   ]
  },
  {
   "cell_type": "markdown",
   "metadata": {},
   "source": [
    "# Exercise\n",
    "> Write a function that verifies, for a given $\\lambda=\\lambda_1=\\lambda_2$ that the solution of the difference equation is the same as the forecast."
   ]
  },
  {
   "cell_type": "markdown",
   "metadata": {},
   "source": [
    "`forecast_with_common_root!` vs `forecast_with_lambda!`"
   ]
  },
  {
   "cell_type": "code",
   "execution_count": 80,
   "metadata": {},
   "outputs": [
    {
     "data": {
      "text/plain": [
       "compare_forecast_to_solution (generic function with 1 method)"
      ]
     },
     "execution_count": 80,
     "metadata": {},
     "output_type": "execute_result"
    }
   ],
   "source": [
    "function compare_forecast_to_solution(λ::Real)\n",
    "    x = zeros(100)\n",
    "    x[1] = 1.0\n",
    "    \n",
    "    z = copy(x)\n",
    "    \n",
    "    forecast_with_common_root!(x, λ)\n",
    "    forecast_with_lambda!(z, λ+0im, λ+0im)\n",
    "    \n",
    "    return maximum( abs.(z .- x))\n",
    "end"
   ]
  },
  {
   "cell_type": "code",
   "execution_count": 81,
   "metadata": {},
   "outputs": [
    {
     "data": {
      "text/plain": [
       "8.326672684688674e-16"
      ]
     },
     "execution_count": 81,
     "metadata": {},
     "output_type": "execute_result"
    }
   ],
   "source": [
    "compare_forecast_to_solution(0.8)"
   ]
  },
  {
   "cell_type": "code",
   "execution_count": 60,
   "metadata": {},
   "outputs": [
    {
     "data": {
      "text/plain": [
       "2-element Array{Float64,1}:\n",
       " 2.0\n",
       " 0.0"
      ]
     },
     "execution_count": 60,
     "metadata": {},
     "output_type": "execute_result"
    }
   ],
   "source": [
    "# Gotcha: B = A does not create a copy, B will refer to the *same* vector\n",
    "A = zeros(2)\n",
    "B = A\n",
    "B[1] = 2\n",
    "A"
   ]
  },
  {
   "cell_type": "code",
   "execution_count": 61,
   "metadata": {},
   "outputs": [
    {
     "data": {
      "text/plain": [
       "2-element Array{Float64,1}:\n",
       " 0.0\n",
       " 0.0"
      ]
     },
     "execution_count": 61,
     "metadata": {},
     "output_type": "execute_result"
    }
   ],
   "source": [
    "# this way we have to clean copies of the zero vector\n",
    "A = zeros(2)\n",
    "B = zeros(2)\n",
    "B[1] = 2\n",
    "A"
   ]
  },
  {
   "cell_type": "code",
   "execution_count": 66,
   "metadata": {},
   "outputs": [
    {
     "data": {
      "text/plain": [
       "2-element Array{Float64,1}:\n",
       " 0.0\n",
       " 0.0"
      ]
     },
     "execution_count": 66,
     "metadata": {},
     "output_type": "execute_result"
    }
   ],
   "source": [
    "A = zeros(2)\n",
    "B = copy(A)\n",
    "B[1] = 2\n",
    "A"
   ]
  },
  {
   "cell_type": "code",
   "execution_count": 77,
   "metadata": {},
   "outputs": [
    {
     "data": {
      "text/plain": [
       "false"
      ]
     },
     "execution_count": 77,
     "metadata": {},
     "output_type": "execute_result"
    }
   ],
   "source": [
    "# with floating points, numbers need not be exactly equal\n",
    "0.0 ≈ 10^(-23)"
   ]
  },
  {
   "cell_type": "code",
   "execution_count": 82,
   "metadata": {},
   "outputs": [
    {
     "data": {
      "text/plain": [
       "2"
      ]
     },
     "execution_count": 82,
     "metadata": {},
     "output_type": "execute_result"
    }
   ],
   "source": [
    "max(2, 0)"
   ]
  },
  {
   "cell_type": "code",
   "execution_count": 83,
   "metadata": {},
   "outputs": [
    {
     "data": {
      "text/plain": [
       "2"
      ]
     },
     "execution_count": 83,
     "metadata": {},
     "output_type": "execute_result"
    }
   ],
   "source": [
    "maximum([2 0])"
   ]
  },
  {
   "cell_type": "code",
   "execution_count": 87,
   "metadata": {},
   "outputs": [
    {
     "data": {
      "text/plain": [
       "1×2 Array{Int64,2}:\n",
       " 2  1"
      ]
     },
     "execution_count": 87,
     "metadata": {},
     "output_type": "execute_result"
    }
   ],
   "source": [
    "max.([2 0], [1 1])"
   ]
  },
  {
   "cell_type": "markdown",
   "metadata": {},
   "source": [
    "## Two-dimensional linear systems\n",
    "Overview of [Linear Algebra Library](https://docs.julialang.org/en/v1/stdlib/LinearAlgebra/)"
   ]
  },
  {
   "cell_type": "code",
   "execution_count": 94,
   "metadata": {},
   "outputs": [
    {
     "data": {
      "text/plain": [
       "forecast_ndim_AR1! (generic function with 1 method)"
      ]
     },
     "execution_count": 94,
     "metadata": {},
     "output_type": "execute_result"
    }
   ],
   "source": [
    "function forecast_ndim_AR1!(x::Array{Float64, 2}, A::Array{Float64, 2})\n",
    "    _, T = size(x)\n",
    "    for t = 2:T\n",
    "        x[:, t] = A * x[:, t-1]\n",
    "    end\n",
    "end"
   ]
  },
  {
   "cell_type": "code",
   "execution_count": 89,
   "metadata": {},
   "outputs": [
    {
     "data": {
      "text/plain": [
       "(2, 3, 100)"
      ]
     },
     "execution_count": 89,
     "metadata": {},
     "output_type": "execute_result"
    }
   ],
   "source": [
    "size(zeros(2, 3, 100))"
   ]
  },
  {
   "cell_type": "code",
   "execution_count": 97,
   "metadata": {},
   "outputs": [
    {
     "data": {
      "text/plain": [
       "2×100 Array{Float64,2}:\n",
       " 1.0  0.0  0.0  0.0  0.0  0.0  0.0  0.0  …  0.0  0.0  0.0  0.0  0.0  0.0  0.0\n",
       " 1.0  0.0  0.0  0.0  0.0  0.0  0.0  0.0     0.0  0.0  0.0  0.0  0.0  0.0  0.0"
      ]
     },
     "execution_count": 97,
     "metadata": {},
     "output_type": "execute_result"
    }
   ],
   "source": [
    "x = zeros(2, 100)\n",
    "x[:, 1] = ones(2)\n",
    "x"
   ]
  },
  {
   "cell_type": "code",
   "execution_count": 98,
   "metadata": {},
   "outputs": [
    {
     "data": {
      "text/plain": [
       "2×2 Array{Float64,2}:\n",
       " 0.9  -0.1\n",
       " 0.1   0.9"
      ]
     },
     "execution_count": 98,
     "metadata": {},
     "output_type": "execute_result"
    }
   ],
   "source": [
    "A = [0.9 -0.1; 0.1 0.9]"
   ]
  },
  {
   "cell_type": "code",
   "execution_count": 99,
   "metadata": {},
   "outputs": [
    {
     "data": {
      "text/plain": [
       "0.0"
      ]
     },
     "execution_count": 99,
     "metadata": {},
     "output_type": "execute_result"
    }
   ],
   "source": [
    "x[3]"
   ]
  },
  {
   "cell_type": "code",
   "execution_count": 100,
   "metadata": {},
   "outputs": [
    {
     "data": {
      "image/svg+xml": [
       "<?xml version=\"1.0\" encoding=\"utf-8\"?>\n",
       "<svg xmlns=\"http://www.w3.org/2000/svg\" xmlns:xlink=\"http://www.w3.org/1999/xlink\" width=\"600\" height=\"400\" viewBox=\"0 0 2400 1600\">\n",
       "<defs>\n",
       "  <clipPath id=\"clip410\">\n",
       "    <rect x=\"0\" y=\"0\" width=\"2400\" height=\"1600\"/>\n",
       "  </clipPath>\n",
       "</defs>\n",
       "<path clip-path=\"url(#clip410)\" d=\"\n",
       "M0 1600 L2400 1600 L2400 0 L0 0  Z\n",
       "  \" fill=\"#ffffff\" fill-rule=\"evenodd\" fill-opacity=\"1\"/>\n",
       "<defs>\n",
       "  <clipPath id=\"clip411\">\n",
       "    <rect x=\"480\" y=\"0\" width=\"1681\" height=\"1600\"/>\n",
       "  </clipPath>\n",
       "</defs>\n",
       "<path clip-path=\"url(#clip410)\" d=\"\n",
       "M148.01 1486.45 L2352.76 1486.45 L2352.76 47.2441 L148.01 47.2441  Z\n",
       "  \" fill=\"#ffffff\" fill-rule=\"evenodd\" fill-opacity=\"1\"/>\n",
       "<defs>\n",
       "  <clipPath id=\"clip412\">\n",
       "    <rect x=\"148\" y=\"47\" width=\"2206\" height=\"1440\"/>\n",
       "  </clipPath>\n",
       "</defs>\n",
       "<polyline clip-path=\"url(#clip412)\" style=\"stroke:#000000; stroke-width:2; stroke-opacity:0.1; fill:none\" points=\"\n",
       "  189.399,1486.45 189.399,47.2441 \n",
       "  \"/>\n",
       "<polyline clip-path=\"url(#clip412)\" style=\"stroke:#000000; stroke-width:2; stroke-opacity:0.1; fill:none\" points=\"\n",
       "  714.639,1486.45 714.639,47.2441 \n",
       "  \"/>\n",
       "<polyline clip-path=\"url(#clip412)\" style=\"stroke:#000000; stroke-width:2; stroke-opacity:0.1; fill:none\" points=\"\n",
       "  1239.88,1486.45 1239.88,47.2441 \n",
       "  \"/>\n",
       "<polyline clip-path=\"url(#clip412)\" style=\"stroke:#000000; stroke-width:2; stroke-opacity:0.1; fill:none\" points=\"\n",
       "  1765.12,1486.45 1765.12,47.2441 \n",
       "  \"/>\n",
       "<polyline clip-path=\"url(#clip412)\" style=\"stroke:#000000; stroke-width:2; stroke-opacity:0.1; fill:none\" points=\"\n",
       "  2290.36,1486.45 2290.36,47.2441 \n",
       "  \"/>\n",
       "<polyline clip-path=\"url(#clip410)\" style=\"stroke:#000000; stroke-width:4; stroke-opacity:1; fill:none\" points=\"\n",
       "  148.01,1486.45 2352.76,1486.45 \n",
       "  \"/>\n",
       "<polyline clip-path=\"url(#clip410)\" style=\"stroke:#000000; stroke-width:4; stroke-opacity:1; fill:none\" points=\"\n",
       "  189.399,1486.45 189.399,1469.18 \n",
       "  \"/>\n",
       "<polyline clip-path=\"url(#clip410)\" style=\"stroke:#000000; stroke-width:4; stroke-opacity:1; fill:none\" points=\"\n",
       "  714.639,1486.45 714.639,1469.18 \n",
       "  \"/>\n",
       "<polyline clip-path=\"url(#clip410)\" style=\"stroke:#000000; stroke-width:4; stroke-opacity:1; fill:none\" points=\"\n",
       "  1239.88,1486.45 1239.88,1469.18 \n",
       "  \"/>\n",
       "<polyline clip-path=\"url(#clip410)\" style=\"stroke:#000000; stroke-width:4; stroke-opacity:1; fill:none\" points=\"\n",
       "  1765.12,1486.45 1765.12,1469.18 \n",
       "  \"/>\n",
       "<polyline clip-path=\"url(#clip410)\" style=\"stroke:#000000; stroke-width:4; stroke-opacity:1; fill:none\" points=\"\n",
       "  2290.36,1486.45 2290.36,1469.18 \n",
       "  \"/>\n",
       "<path clip-path=\"url(#clip410)\" d=\"M 0 0 M189.399 1515.64 Q185.788 1515.64 183.959 1519.2 Q182.154 1522.75 182.154 1529.87 Q182.154 1536.98 183.959 1540.55 Q185.788 1544.09 189.399 1544.09 Q193.033 1544.09 194.839 1540.55 Q196.668 1536.98 196.668 1529.87 Q196.668 1522.75 194.839 1519.2 Q193.033 1515.64 189.399 1515.64 M189.399 1511.93 Q195.209 1511.93 198.265 1516.54 Q201.344 1521.12 201.344 1529.87 Q201.344 1538.6 198.265 1543.21 Q195.209 1547.79 189.399 1547.79 Q183.589 1547.79 180.51 1543.21 Q177.455 1538.6 177.455 1529.87 Q177.455 1521.12 180.51 1516.54 Q183.589 1511.93 189.399 1511.93 Z\" fill=\"#000000\" fill-rule=\"evenodd\" fill-opacity=\"1\" /><path clip-path=\"url(#clip410)\" d=\"M 0 0 M696.282 1543.18 L712.602 1543.18 L712.602 1547.12 L690.657 1547.12 L690.657 1543.18 Q693.319 1540.43 697.903 1535.8 Q702.509 1531.15 703.69 1529.81 Q705.935 1527.28 706.815 1525.55 Q707.717 1523.79 707.717 1522.1 Q707.717 1519.34 705.773 1517.61 Q703.852 1515.87 700.75 1515.87 Q698.551 1515.87 696.097 1516.63 Q693.667 1517.4 690.889 1518.95 L690.889 1514.23 Q693.713 1513.09 696.167 1512.51 Q698.62 1511.93 700.657 1511.93 Q706.028 1511.93 709.222 1514.62 Q712.417 1517.31 712.417 1521.8 Q712.417 1523.93 711.606 1525.85 Q710.819 1527.74 708.713 1530.34 Q708.134 1531.01 705.032 1534.23 Q701.93 1537.42 696.282 1543.18 Z\" fill=\"#000000\" fill-rule=\"evenodd\" fill-opacity=\"1\" /><path clip-path=\"url(#clip410)\" d=\"M 0 0 M717.717 1512.56 L736.074 1512.56 L736.074 1516.5 L722 1516.5 L722 1524.97 Q723.018 1524.62 724.037 1524.46 Q725.055 1524.27 726.074 1524.27 Q731.861 1524.27 735.24 1527.44 Q738.62 1530.62 738.62 1536.03 Q738.62 1541.61 735.148 1544.71 Q731.676 1547.79 725.356 1547.79 Q723.18 1547.79 720.912 1547.42 Q718.667 1547.05 716.259 1546.31 L716.259 1541.61 Q718.342 1542.74 720.565 1543.3 Q722.787 1543.86 725.264 1543.86 Q729.268 1543.86 731.606 1541.75 Q733.944 1539.64 733.944 1536.03 Q733.944 1532.42 731.606 1530.31 Q729.268 1528.21 725.264 1528.21 Q723.389 1528.21 721.514 1528.62 Q719.662 1529.04 717.717 1529.92 L717.717 1512.56 Z\" fill=\"#000000\" fill-rule=\"evenodd\" fill-opacity=\"1\" /><path clip-path=\"url(#clip410)\" d=\"M 0 0 M1216.65 1512.56 L1235.01 1512.56 L1235.01 1516.5 L1220.93 1516.5 L1220.93 1524.97 Q1221.95 1524.62 1222.97 1524.46 Q1223.99 1524.27 1225.01 1524.27 Q1230.79 1524.27 1234.17 1527.44 Q1237.55 1530.62 1237.55 1536.03 Q1237.55 1541.61 1234.08 1544.71 Q1230.61 1547.79 1224.29 1547.79 Q1222.11 1547.79 1219.84 1547.42 Q1217.6 1547.05 1215.19 1546.31 L1215.19 1541.61 Q1217.27 1542.74 1219.5 1543.3 Q1221.72 1543.86 1224.2 1543.86 Q1228.2 1543.86 1230.54 1541.75 Q1232.88 1539.64 1232.88 1536.03 Q1232.88 1532.42 1230.54 1530.31 Q1228.2 1528.21 1224.2 1528.21 Q1222.32 1528.21 1220.45 1528.62 Q1218.59 1529.04 1216.65 1529.92 L1216.65 1512.56 Z\" fill=\"#000000\" fill-rule=\"evenodd\" fill-opacity=\"1\" /><path clip-path=\"url(#clip410)\" d=\"M 0 0 M1252.62 1515.64 Q1249.01 1515.64 1247.18 1519.2 Q1245.38 1522.75 1245.38 1529.87 Q1245.38 1536.98 1247.18 1540.55 Q1249.01 1544.09 1252.62 1544.09 Q1256.26 1544.09 1258.06 1540.55 Q1259.89 1536.98 1259.89 1529.87 Q1259.89 1522.75 1258.06 1519.2 Q1256.26 1515.64 1252.62 1515.64 M1252.62 1511.93 Q1258.43 1511.93 1261.49 1516.54 Q1264.57 1521.12 1264.57 1529.87 Q1264.57 1538.6 1261.49 1543.21 Q1258.43 1547.79 1252.62 1547.79 Q1246.81 1547.79 1243.73 1543.21 Q1240.68 1538.6 1240.68 1529.87 Q1240.68 1521.12 1243.73 1516.54 Q1246.81 1511.93 1252.62 1511.93 Z\" fill=\"#000000\" fill-rule=\"evenodd\" fill-opacity=\"1\" /><path clip-path=\"url(#clip410)\" d=\"M 0 0 M1741 1512.56 L1763.22 1512.56 L1763.22 1514.55 L1750.67 1547.12 L1745.79 1547.12 L1757.59 1516.5 L1741 1516.5 L1741 1512.56 Z\" fill=\"#000000\" fill-rule=\"evenodd\" fill-opacity=\"1\" /><path clip-path=\"url(#clip410)\" d=\"M 0 0 M1768.34 1512.56 L1786.69 1512.56 L1786.69 1516.5 L1772.62 1516.5 L1772.62 1524.97 Q1773.64 1524.62 1774.65 1524.46 Q1775.67 1524.27 1776.69 1524.27 Q1782.48 1524.27 1785.86 1527.44 Q1789.24 1530.62 1789.24 1536.03 Q1789.24 1541.61 1785.77 1544.71 Q1782.29 1547.79 1775.97 1547.79 Q1773.8 1547.79 1771.53 1547.42 Q1769.28 1547.05 1766.88 1546.31 L1766.88 1541.61 Q1768.96 1542.74 1771.18 1543.3 Q1773.4 1543.86 1775.88 1543.86 Q1779.89 1543.86 1782.22 1541.75 Q1784.56 1539.64 1784.56 1536.03 Q1784.56 1532.42 1782.22 1530.31 Q1779.89 1528.21 1775.88 1528.21 Q1774.01 1528.21 1772.13 1528.62 Q1770.28 1529.04 1768.34 1529.92 L1768.34 1512.56 Z\" fill=\"#000000\" fill-rule=\"evenodd\" fill-opacity=\"1\" /><path clip-path=\"url(#clip410)\" d=\"M 0 0 M2253.73 1543.18 L2261.36 1543.18 L2261.36 1516.82 L2253.05 1518.49 L2253.05 1514.23 L2261.32 1512.56 L2265.99 1512.56 L2265.99 1543.18 L2273.63 1543.18 L2273.63 1547.12 L2253.73 1547.12 L2253.73 1543.18 Z\" fill=\"#000000\" fill-rule=\"evenodd\" fill-opacity=\"1\" /><path clip-path=\"url(#clip410)\" d=\"M 0 0 M2288.7 1515.64 Q2285.09 1515.64 2283.26 1519.2 Q2281.46 1522.75 2281.46 1529.87 Q2281.46 1536.98 2283.26 1540.55 Q2285.09 1544.09 2288.7 1544.09 Q2292.34 1544.09 2294.14 1540.55 Q2295.97 1536.98 2295.97 1529.87 Q2295.97 1522.75 2294.14 1519.2 Q2292.34 1515.64 2288.7 1515.64 M2288.7 1511.93 Q2294.51 1511.93 2297.57 1516.54 Q2300.65 1521.12 2300.65 1529.87 Q2300.65 1538.6 2297.57 1543.21 Q2294.51 1547.79 2288.7 1547.79 Q2282.89 1547.79 2279.81 1543.21 Q2276.76 1538.6 2276.76 1529.87 Q2276.76 1521.12 2279.81 1516.54 Q2282.89 1511.93 2288.7 1511.93 Z\" fill=\"#000000\" fill-rule=\"evenodd\" fill-opacity=\"1\" /><path clip-path=\"url(#clip410)\" d=\"M 0 0 M2315.72 1515.64 Q2312.11 1515.64 2310.28 1519.2 Q2308.47 1522.75 2308.47 1529.87 Q2308.47 1536.98 2310.28 1540.55 Q2312.11 1544.09 2315.72 1544.09 Q2319.35 1544.09 2321.16 1540.55 Q2322.98 1536.98 2322.98 1529.87 Q2322.98 1522.75 2321.16 1519.2 Q2319.35 1515.64 2315.72 1515.64 M2315.72 1511.93 Q2321.53 1511.93 2324.58 1516.54 Q2327.66 1521.12 2327.66 1529.87 Q2327.66 1538.6 2324.58 1543.21 Q2321.53 1547.79 2315.72 1547.79 Q2309.91 1547.79 2306.83 1543.21 Q2303.77 1538.6 2303.77 1529.87 Q2303.77 1521.12 2306.83 1516.54 Q2309.91 1511.93 2315.72 1511.93 Z\" fill=\"#000000\" fill-rule=\"evenodd\" fill-opacity=\"1\" /><polyline clip-path=\"url(#clip412)\" style=\"stroke:#000000; stroke-width:2; stroke-opacity:0.1; fill:none\" points=\"\n",
       "  148.01,1178.6 2352.76,1178.6 \n",
       "  \"/>\n",
       "<polyline clip-path=\"url(#clip412)\" style=\"stroke:#000000; stroke-width:2; stroke-opacity:0.1; fill:none\" points=\"\n",
       "  148.01,851.412 2352.76,851.412 \n",
       "  \"/>\n",
       "<polyline clip-path=\"url(#clip412)\" style=\"stroke:#000000; stroke-width:2; stroke-opacity:0.1; fill:none\" points=\"\n",
       "  148.01,524.225 2352.76,524.225 \n",
       "  \"/>\n",
       "<polyline clip-path=\"url(#clip412)\" style=\"stroke:#000000; stroke-width:2; stroke-opacity:0.1; fill:none\" points=\"\n",
       "  148.01,197.039 2352.76,197.039 \n",
       "  \"/>\n",
       "<polyline clip-path=\"url(#clip410)\" style=\"stroke:#000000; stroke-width:4; stroke-opacity:1; fill:none\" points=\"\n",
       "  148.01,1486.45 148.01,47.2441 \n",
       "  \"/>\n",
       "<polyline clip-path=\"url(#clip410)\" style=\"stroke:#000000; stroke-width:4; stroke-opacity:1; fill:none\" points=\"\n",
       "  148.01,1178.6 174.467,1178.6 \n",
       "  \"/>\n",
       "<polyline clip-path=\"url(#clip410)\" style=\"stroke:#000000; stroke-width:4; stroke-opacity:1; fill:none\" points=\"\n",
       "  148.01,851.412 174.467,851.412 \n",
       "  \"/>\n",
       "<polyline clip-path=\"url(#clip410)\" style=\"stroke:#000000; stroke-width:4; stroke-opacity:1; fill:none\" points=\"\n",
       "  148.01,524.225 174.467,524.225 \n",
       "  \"/>\n",
       "<polyline clip-path=\"url(#clip410)\" style=\"stroke:#000000; stroke-width:4; stroke-opacity:1; fill:none\" points=\"\n",
       "  148.01,197.039 174.467,197.039 \n",
       "  \"/>\n",
       "<path clip-path=\"url(#clip410)\" d=\"M 0 0 M63.0985 1164.4 Q59.4875 1164.4 57.6588 1167.96 Q55.8532 1171.5 55.8532 1178.63 Q55.8532 1185.74 57.6588 1189.31 Q59.4875 1192.85 63.0985 1192.85 Q66.7328 1192.85 68.5383 1189.31 Q70.367 1185.74 70.367 1178.63 Q70.367 1171.5 68.5383 1167.96 Q66.7328 1164.4 63.0985 1164.4 M63.0985 1160.69 Q68.9087 1160.69 71.9642 1165.3 Q75.0429 1169.88 75.0429 1178.63 Q75.0429 1187.36 71.9642 1191.97 Q68.9087 1196.55 63.0985 1196.55 Q57.2884 1196.55 54.2097 1191.97 Q51.1542 1187.36 51.1542 1178.63 Q51.1542 1169.88 54.2097 1165.3 Q57.2884 1160.69 63.0985 1160.69 Z\" fill=\"#000000\" fill-rule=\"evenodd\" fill-opacity=\"1\" /><path clip-path=\"url(#clip410)\" d=\"M 0 0 M80.1123 1190 L84.9966 1190 L84.9966 1195.88 L80.1123 1195.88 L80.1123 1190 Z\" fill=\"#000000\" fill-rule=\"evenodd\" fill-opacity=\"1\" /><path clip-path=\"url(#clip410)\" d=\"M 0 0 M100.066 1164.4 Q96.4548 1164.4 94.6262 1167.96 Q92.8206 1171.5 92.8206 1178.63 Q92.8206 1185.74 94.6262 1189.31 Q96.4548 1192.85 100.066 1192.85 Q103.7 1192.85 105.506 1189.31 Q107.334 1185.74 107.334 1178.63 Q107.334 1171.5 105.506 1167.96 Q103.7 1164.4 100.066 1164.4 M100.066 1160.69 Q105.876 1160.69 108.932 1165.3 Q112.01 1169.88 112.01 1178.63 Q112.01 1187.36 108.932 1191.97 Q105.876 1196.55 100.066 1196.55 Q94.2558 1196.55 91.1771 1191.97 Q88.1216 1187.36 88.1216 1178.63 Q88.1216 1169.88 91.1771 1165.3 Q94.2558 1160.69 100.066 1160.69 Z\" fill=\"#000000\" fill-rule=\"evenodd\" fill-opacity=\"1\" /><path clip-path=\"url(#clip410)\" d=\"M 0 0 M63.7467 837.211 Q60.1356 837.211 58.3069 840.776 Q56.5014 844.317 56.5014 851.447 Q56.5014 858.554 58.3069 862.118 Q60.1356 865.66 63.7467 865.66 Q67.3809 865.66 69.1865 862.118 Q71.0152 858.554 71.0152 851.447 Q71.0152 844.317 69.1865 840.776 Q67.3809 837.211 63.7467 837.211 M63.7467 833.507 Q69.5568 833.507 72.6124 838.114 Q75.6911 842.697 75.6911 851.447 Q75.6911 860.174 72.6124 864.78 Q69.5568 869.364 63.7467 869.364 Q57.9365 869.364 54.8578 864.78 Q51.8023 860.174 51.8023 851.447 Q51.8023 842.697 54.8578 838.114 Q57.9365 833.507 63.7467 833.507 Z\" fill=\"#000000\" fill-rule=\"evenodd\" fill-opacity=\"1\" /><path clip-path=\"url(#clip410)\" d=\"M 0 0 M80.7605 862.813 L85.6447 862.813 L85.6447 868.692 L80.7605 868.692 L80.7605 862.813 Z\" fill=\"#000000\" fill-rule=\"evenodd\" fill-opacity=\"1\" /><path clip-path=\"url(#clip410)\" d=\"M 0 0 M104.881 850.058 Q108.237 850.776 110.112 853.044 Q112.01 855.313 112.01 858.646 Q112.01 863.762 108.492 866.563 Q104.973 869.364 98.4919 869.364 Q96.316 869.364 94.0012 868.924 Q91.7095 868.507 89.2558 867.651 L89.2558 863.137 Q91.2002 864.271 93.515 864.85 Q95.8298 865.428 98.353 865.428 Q102.751 865.428 105.043 863.692 Q107.358 861.956 107.358 858.646 Q107.358 855.591 105.205 853.878 Q103.075 852.142 99.2558 852.142 L95.228 852.142 L95.228 848.299 L99.4409 848.299 Q102.89 848.299 104.719 846.933 Q106.547 845.544 106.547 842.952 Q106.547 840.29 104.649 838.878 Q102.774 837.443 99.2558 837.443 Q97.3345 837.443 95.1354 837.859 Q92.9363 838.276 90.2975 839.155 L90.2975 834.989 Q92.9595 834.248 95.2743 833.878 Q97.6122 833.507 99.6724 833.507 Q104.996 833.507 108.098 835.938 Q111.2 838.345 111.2 842.466 Q111.2 845.336 109.557 847.327 Q107.913 849.294 104.881 850.058 Z\" fill=\"#000000\" fill-rule=\"evenodd\" fill-opacity=\"1\" /><path clip-path=\"url(#clip410)\" d=\"M 0 0 M62.9365 510.024 Q59.3254 510.024 57.4967 513.589 Q55.6912 517.131 55.6912 524.26 Q55.6912 531.367 57.4967 534.931 Q59.3254 538.473 62.9365 538.473 Q66.5707 538.473 68.3763 534.931 Q70.205 531.367 70.205 524.26 Q70.205 517.131 68.3763 513.589 Q66.5707 510.024 62.9365 510.024 M62.9365 506.32 Q68.7467 506.32 71.8022 510.927 Q74.8809 515.51 74.8809 524.26 Q74.8809 532.987 71.8022 537.593 Q68.7467 542.177 62.9365 542.177 Q57.1264 542.177 54.0477 537.593 Q50.9921 532.987 50.9921 524.26 Q50.9921 515.51 54.0477 510.927 Q57.1264 506.32 62.9365 506.32 Z\" fill=\"#000000\" fill-rule=\"evenodd\" fill-opacity=\"1\" /><path clip-path=\"url(#clip410)\" d=\"M 0 0 M79.9503 535.626 L84.8345 535.626 L84.8345 541.505 L79.9503 541.505 L79.9503 535.626 Z\" fill=\"#000000\" fill-rule=\"evenodd\" fill-opacity=\"1\" /><path clip-path=\"url(#clip410)\" d=\"M 0 0 M100.483 522.362 Q97.3345 522.362 95.4826 524.515 Q93.6539 526.668 93.6539 530.418 Q93.6539 534.144 95.4826 536.32 Q97.3345 538.473 100.483 538.473 Q103.631 538.473 105.459 536.32 Q107.311 534.144 107.311 530.418 Q107.311 526.668 105.459 524.515 Q103.631 522.362 100.483 522.362 M109.765 507.709 L109.765 511.969 Q108.006 511.135 106.2 510.695 Q104.418 510.256 102.659 510.256 Q98.0289 510.256 95.5752 513.381 Q93.1447 516.506 92.7975 522.825 Q94.1632 520.811 96.2234 519.746 Q98.2835 518.658 100.76 518.658 Q105.969 518.658 108.978 521.83 Q112.01 524.978 112.01 530.418 Q112.01 535.742 108.862 538.959 Q105.714 542.177 100.483 542.177 Q94.4873 542.177 91.316 537.593 Q88.1447 532.987 88.1447 524.26 Q88.1447 516.066 92.0336 511.205 Q95.9224 506.32 102.473 506.32 Q104.233 506.32 106.015 506.668 Q107.821 507.015 109.765 507.709 Z\" fill=\"#000000\" fill-rule=\"evenodd\" fill-opacity=\"1\" /><path clip-path=\"url(#clip410)\" d=\"M 0 0 M63.2837 182.837 Q59.6726 182.837 57.8439 186.402 Q56.0384 189.944 56.0384 197.073 Q56.0384 204.18 57.8439 207.745 Q59.6726 211.286 63.2837 211.286 Q66.918 211.286 68.7235 207.745 Q70.5522 204.18 70.5522 197.073 Q70.5522 189.944 68.7235 186.402 Q66.918 182.837 63.2837 182.837 M63.2837 179.134 Q69.0939 179.134 72.1494 183.74 Q75.2281 188.323 75.2281 197.073 Q75.2281 205.8 72.1494 210.407 Q69.0939 214.99 63.2837 214.99 Q57.4736 214.99 54.3949 210.407 Q51.3393 205.8 51.3393 197.073 Q51.3393 188.323 54.3949 183.74 Q57.4736 179.134 63.2837 179.134 Z\" fill=\"#000000\" fill-rule=\"evenodd\" fill-opacity=\"1\" /><path clip-path=\"url(#clip410)\" d=\"M 0 0 M80.2975 208.439 L85.1818 208.439 L85.1818 214.319 L80.2975 214.319 L80.2975 208.439 Z\" fill=\"#000000\" fill-rule=\"evenodd\" fill-opacity=\"1\" /><path clip-path=\"url(#clip410)\" d=\"M 0 0 M90.3901 213.601 L90.3901 209.342 Q92.1493 210.175 93.9549 210.615 Q95.7604 211.055 97.4965 211.055 Q102.126 211.055 104.557 207.953 Q107.01 204.828 107.358 198.485 Q106.015 200.476 103.955 201.541 Q101.895 202.606 99.3946 202.606 Q94.2095 202.606 91.1771 199.481 Q88.1679 196.333 88.1679 190.893 Q88.1679 185.569 91.316 182.351 Q94.4641 179.134 99.6956 179.134 Q105.691 179.134 108.839 183.74 Q112.01 188.323 112.01 197.073 Q112.01 205.245 108.121 210.129 Q104.256 214.99 97.7048 214.99 Q95.9456 214.99 94.14 214.643 Q92.3345 214.295 90.3901 213.601 M99.6956 198.948 Q102.844 198.948 104.672 196.796 Q106.524 194.643 106.524 190.893 Q106.524 187.166 104.672 185.013 Q102.844 182.837 99.6956 182.837 Q96.5474 182.837 94.6956 185.013 Q92.8669 187.166 92.8669 190.893 Q92.8669 194.643 94.6956 196.796 Q96.5474 198.948 99.6956 198.948 Z\" fill=\"#000000\" fill-rule=\"evenodd\" fill-opacity=\"1\" /><polyline clip-path=\"url(#clip412)\" style=\"stroke:#009af9; stroke-width:4; stroke-opacity:1; fill:none\" points=\"\n",
       "  210.409,87.9763 231.418,306.101 252.428,502.413 273.438,676.913 294.447,830.036 315.457,962.569 336.466,1075.57 357.476,1170.28 378.485,1248.12 399.495,1310.55 \n",
       "  420.505,1359.11 441.514,1395.32 462.524,1420.67 483.533,1436.62 504.543,1444.54 525.553,1445.72 546.562,1441.34 567.572,1432.49 588.581,1420.16 609.591,1405.22 \n",
       "  630.6,1388.43 651.61,1370.47 672.62,1351.9 693.629,1333.21 714.639,1314.8 735.648,1296.97 756.658,1279.98 777.668,1264.03 798.677,1249.24 819.687,1235.69 \n",
       "  840.696,1223.45 861.706,1212.51 882.715,1202.86 903.725,1194.46 924.735,1187.26 945.744,1181.18 966.754,1176.14 987.763,1172.06 1008.77,1168.85 1029.78,1166.41 \n",
       "  1050.79,1164.65 1071.8,1163.48 1092.81,1162.83 1113.82,1162.61 1134.83,1162.75 1155.84,1163.19 1176.85,1163.85 1197.86,1164.69 1218.87,1165.65 1239.88,1166.7 \n",
       "  1260.89,1167.8 1281.9,1168.92 1302.91,1170.03 1323.92,1171.11 1344.93,1172.15 1365.94,1173.13 1386.95,1174.04 1407.95,1174.88 1428.96,1175.64 1449.97,1176.33 \n",
       "  1470.98,1176.93 1491.99,1177.46 1513,1177.92 1534.01,1178.31 1555.02,1178.64 1576.03,1178.9 1597.04,1179.11 1618.05,1179.28 1639.06,1179.4 1660.07,1179.48 \n",
       "  1681.08,1179.53 1702.09,1179.55 1723.1,1179.55 1744.11,1179.53 1765.12,1179.5 1786.13,1179.45 1807.14,1179.4 1828.15,1179.34 1849.16,1179.27 1870.17,1179.2 \n",
       "  1891.18,1179.14 1912.18,1179.07 1933.19,1179.01 1954.2,1178.95 1975.21,1178.89 1996.22,1178.84 2017.23,1178.79 2038.24,1178.75 2059.25,1178.71 2080.26,1178.68 \n",
       "  2101.27,1178.65 2122.28,1178.63 2143.29,1178.6 2164.3,1178.59 2185.31,1178.57 2206.32,1178.56 2227.33,1178.55 2248.34,1178.55 2269.35,1178.54 2290.36,1178.54 \n",
       "  \n",
       "  \"/>\n",
       "<polyline clip-path=\"url(#clip412)\" style=\"stroke:#e26f46; stroke-width:4; stroke-opacity:1; fill:none\" points=\"\n",
       "  210.409,87.9763 231.418,87.9763 252.428,109.789 273.438,149.051 294.447,201.837 315.457,264.657 336.466,334.448 357.476,408.56 378.485,484.733 399.495,561.071 \n",
       "  420.505,636.02 441.514,708.329 462.524,777.028 483.533,841.392 504.543,900.915 525.553,955.278 546.562,1004.32 567.572,1048.02 588.581,1086.47 609.591,1119.84 \n",
       "  630.6,1148.38 651.61,1172.38 672.62,1192.19 693.629,1208.16 714.639,1220.67 735.648,1230.08 756.658,1236.77 777.668,1241.09 798.677,1243.38 819.687,1243.97 \n",
       "  840.696,1243.14 861.706,1241.17 882.715,1238.31 903.725,1234.76 924.735,1230.73 945.744,1226.39 966.754,1221.86 987.763,1217.29 1008.77,1212.77 1029.78,1208.38 \n",
       "  1050.79,1204.18 1071.8,1200.23 1092.81,1196.55 1113.82,1193.18 1134.83,1190.12 1155.84,1187.39 1176.85,1184.97 1197.86,1182.86 1218.87,1181.04 1239.88,1179.5 \n",
       "  1260.89,1178.22 1281.9,1177.18 1302.91,1176.35 1323.92,1175.72 1344.93,1175.26 1365.94,1174.95 1386.95,1174.77 1407.95,1174.69 1428.96,1174.71 1449.97,1174.81 \n",
       "  1470.98,1174.96 1491.99,1175.15 1513,1175.39 1534.01,1175.64 1555.02,1175.91 1576.03,1176.18 1597.04,1176.45 1618.05,1176.72 1639.06,1176.97 1660.07,1177.22 \n",
       "  1681.08,1177.44 1702.09,1177.65 1723.1,1177.84 1744.11,1178.01 1765.12,1178.16 1786.13,1178.3 1807.14,1178.41 1828.15,1178.51 1849.16,1178.59 1870.17,1178.66 \n",
       "  1891.18,1178.72 1912.18,1178.76 1933.19,1178.79 1954.2,1178.81 1975.21,1178.82 1996.22,1178.83 2017.23,1178.83 2038.24,1178.83 2059.25,1178.82 2080.26,1178.81 \n",
       "  2101.27,1178.8 2122.28,1178.78 2143.29,1178.77 2164.3,1178.75 2185.31,1178.73 2206.32,1178.72 2227.33,1178.7 2248.34,1178.69 2269.35,1178.67 2290.36,1178.66 \n",
       "  \n",
       "  \"/>\n",
       "<path clip-path=\"url(#clip410)\" d=\"\n",
       "M1983.27 276.658 L2279.26 276.658 L2279.26 95.2176 L1983.27 95.2176  Z\n",
       "  \" fill=\"#ffffff\" fill-rule=\"evenodd\" fill-opacity=\"1\"/>\n",
       "<polyline clip-path=\"url(#clip410)\" style=\"stroke:#000000; stroke-width:4; stroke-opacity:1; fill:none\" points=\"\n",
       "  1983.27,276.658 2279.26,276.658 2279.26,95.2176 1983.27,95.2176 1983.27,276.658 \n",
       "  \"/>\n",
       "<polyline clip-path=\"url(#clip410)\" style=\"stroke:#009af9; stroke-width:4; stroke-opacity:1; fill:none\" points=\"\n",
       "  2007.77,155.698 2154.75,155.698 \n",
       "  \"/>\n",
       "<path clip-path=\"url(#clip410)\" d=\"M 0 0 M2193.09 175.385 Q2191.29 180.015 2189.58 181.427 Q2187.86 182.839 2184.99 182.839 L2181.59 182.839 L2181.59 179.274 L2184.09 179.274 Q2185.85 179.274 2186.82 178.44 Q2187.79 177.607 2188.97 174.505 L2189.74 172.561 L2179.25 147.052 L2183.77 147.052 L2191.87 167.329 L2199.97 147.052 L2204.48 147.052 L2193.09 175.385 Z\" fill=\"#000000\" fill-rule=\"evenodd\" fill-opacity=\"1\" /><path clip-path=\"url(#clip410)\" d=\"M 0 0 M2210.36 169.042 L2218 169.042 L2218 142.677 L2209.69 144.343 L2209.69 140.084 L2217.96 138.418 L2222.63 138.418 L2222.63 169.042 L2230.27 169.042 L2230.27 172.978 L2210.36 172.978 L2210.36 169.042 Z\" fill=\"#000000\" fill-rule=\"evenodd\" fill-opacity=\"1\" /><polyline clip-path=\"url(#clip410)\" style=\"stroke:#e26f46; stroke-width:4; stroke-opacity:1; fill:none\" points=\"\n",
       "  2007.77,216.178 2154.75,216.178 \n",
       "  \"/>\n",
       "<path clip-path=\"url(#clip410)\" d=\"M 0 0 M2193.09 235.865 Q2191.29 240.495 2189.58 241.907 Q2187.86 243.319 2184.99 243.319 L2181.59 243.319 L2181.59 239.754 L2184.09 239.754 Q2185.85 239.754 2186.82 238.92 Q2187.79 238.087 2188.97 234.985 L2189.74 233.041 L2179.25 207.532 L2183.77 207.532 L2191.87 227.809 L2199.97 207.532 L2204.48 207.532 L2193.09 235.865 Z\" fill=\"#000000\" fill-rule=\"evenodd\" fill-opacity=\"1\" /><path clip-path=\"url(#clip410)\" d=\"M 0 0 M2213.58 229.522 L2229.9 229.522 L2229.9 233.458 L2207.96 233.458 L2207.96 229.522 Q2210.62 226.768 2215.2 222.138 Q2219.81 217.485 2220.99 216.143 Q2223.23 213.62 2224.11 211.884 Q2225.02 210.124 2225.02 208.435 Q2225.02 205.68 2223.07 203.944 Q2221.15 202.208 2218.05 202.208 Q2215.85 202.208 2213.4 202.972 Q2210.96 203.735 2208.19 205.286 L2208.19 200.564 Q2211.01 199.43 2213.46 198.851 Q2215.92 198.273 2217.96 198.273 Q2223.33 198.273 2226.52 200.958 Q2229.71 203.643 2229.71 208.134 Q2229.71 210.263 2228.9 212.185 Q2228.12 214.083 2226.01 216.675 Q2225.43 217.347 2222.33 220.564 Q2219.23 223.759 2213.58 229.522 Z\" fill=\"#000000\" fill-rule=\"evenodd\" fill-opacity=\"1\" /></svg>\n"
      ]
     },
     "execution_count": 100,
     "metadata": {},
     "output_type": "execute_result"
    }
   ],
   "source": [
    "forecast_ndim_AR1!(x, A)\n",
    "plot(x')"
   ]
  },
  {
   "cell_type": "code",
   "execution_count": 101,
   "metadata": {},
   "outputs": [
    {
     "data": {
      "image/svg+xml": [
       "<?xml version=\"1.0\" encoding=\"utf-8\"?>\n",
       "<svg xmlns=\"http://www.w3.org/2000/svg\" xmlns:xlink=\"http://www.w3.org/1999/xlink\" width=\"600\" height=\"400\" viewBox=\"0 0 2400 1600\">\n",
       "<defs>\n",
       "  <clipPath id=\"clip450\">\n",
       "    <rect x=\"0\" y=\"0\" width=\"2400\" height=\"1600\"/>\n",
       "  </clipPath>\n",
       "</defs>\n",
       "<path clip-path=\"url(#clip450)\" d=\"\n",
       "M0 1600 L2400 1600 L2400 0 L0 0  Z\n",
       "  \" fill=\"#ffffff\" fill-rule=\"evenodd\" fill-opacity=\"1\"/>\n",
       "<defs>\n",
       "  <clipPath id=\"clip451\">\n",
       "    <rect x=\"480\" y=\"0\" width=\"1681\" height=\"1600\"/>\n",
       "  </clipPath>\n",
       "</defs>\n",
       "<path clip-path=\"url(#clip450)\" d=\"\n",
       "M174.862 1486.45 L2352.76 1486.45 L2352.76 47.2441 L174.862 47.2441  Z\n",
       "  \" fill=\"#ffffff\" fill-rule=\"evenodd\" fill-opacity=\"1\"/>\n",
       "<defs>\n",
       "  <clipPath id=\"clip452\">\n",
       "    <rect x=\"174\" y=\"47\" width=\"2179\" height=\"1440\"/>\n",
       "  </clipPath>\n",
       "</defs>\n",
       "<polyline clip-path=\"url(#clip452)\" style=\"stroke:#000000; stroke-width:2; stroke-opacity:0.1; fill:none\" points=\"\n",
       "  640.718,1486.45 640.718,47.2441 \n",
       "  \"/>\n",
       "<polyline clip-path=\"url(#clip452)\" style=\"stroke:#000000; stroke-width:2; stroke-opacity:0.1; fill:none\" points=\"\n",
       "  1135.84,1486.45 1135.84,47.2441 \n",
       "  \"/>\n",
       "<polyline clip-path=\"url(#clip452)\" style=\"stroke:#000000; stroke-width:2; stroke-opacity:0.1; fill:none\" points=\"\n",
       "  1630.96,1486.45 1630.96,47.2441 \n",
       "  \"/>\n",
       "<polyline clip-path=\"url(#clip452)\" style=\"stroke:#000000; stroke-width:2; stroke-opacity:0.1; fill:none\" points=\"\n",
       "  2126.08,1486.45 2126.08,47.2441 \n",
       "  \"/>\n",
       "<polyline clip-path=\"url(#clip450)\" style=\"stroke:#000000; stroke-width:4; stroke-opacity:1; fill:none\" points=\"\n",
       "  174.862,1486.45 2352.76,1486.45 \n",
       "  \"/>\n",
       "<polyline clip-path=\"url(#clip450)\" style=\"stroke:#000000; stroke-width:4; stroke-opacity:1; fill:none\" points=\"\n",
       "  640.718,1486.45 640.718,1469.18 \n",
       "  \"/>\n",
       "<polyline clip-path=\"url(#clip450)\" style=\"stroke:#000000; stroke-width:4; stroke-opacity:1; fill:none\" points=\"\n",
       "  1135.84,1486.45 1135.84,1469.18 \n",
       "  \"/>\n",
       "<polyline clip-path=\"url(#clip450)\" style=\"stroke:#000000; stroke-width:4; stroke-opacity:1; fill:none\" points=\"\n",
       "  1630.96,1486.45 1630.96,1469.18 \n",
       "  \"/>\n",
       "<polyline clip-path=\"url(#clip450)\" style=\"stroke:#000000; stroke-width:4; stroke-opacity:1; fill:none\" points=\"\n",
       "  2126.08,1486.45 2126.08,1469.18 \n",
       "  \"/>\n",
       "<path clip-path=\"url(#clip450)\" d=\"M 0 0 M622.234 1515.64 Q618.623 1515.64 616.794 1519.2 Q614.989 1522.75 614.989 1529.87 Q614.989 1536.98 616.794 1540.55 Q618.623 1544.09 622.234 1544.09 Q625.869 1544.09 627.674 1540.55 Q629.503 1536.98 629.503 1529.87 Q629.503 1522.75 627.674 1519.2 Q625.869 1515.64 622.234 1515.64 M622.234 1511.93 Q628.044 1511.93 631.1 1516.54 Q634.179 1521.12 634.179 1529.87 Q634.179 1538.6 631.1 1543.21 Q628.044 1547.79 622.234 1547.79 Q616.424 1547.79 613.345 1543.21 Q610.29 1538.6 610.29 1529.87 Q610.29 1521.12 613.345 1516.54 Q616.424 1511.93 622.234 1511.93 Z\" fill=\"#000000\" fill-rule=\"evenodd\" fill-opacity=\"1\" /><path clip-path=\"url(#clip450)\" d=\"M 0 0 M639.248 1541.24 L644.132 1541.24 L644.132 1547.12 L639.248 1547.12 L639.248 1541.24 Z\" fill=\"#000000\" fill-rule=\"evenodd\" fill-opacity=\"1\" /><path clip-path=\"url(#clip450)\" d=\"M 0 0 M659.202 1515.64 Q655.591 1515.64 653.762 1519.2 Q651.956 1522.75 651.956 1529.87 Q651.956 1536.98 653.762 1540.55 Q655.591 1544.09 659.202 1544.09 Q662.836 1544.09 664.641 1540.55 Q666.47 1536.98 666.47 1529.87 Q666.47 1522.75 664.641 1519.2 Q662.836 1515.64 659.202 1515.64 M659.202 1511.93 Q665.012 1511.93 668.067 1516.54 Q671.146 1521.12 671.146 1529.87 Q671.146 1538.6 668.067 1543.21 Q665.012 1547.79 659.202 1547.79 Q653.392 1547.79 650.313 1543.21 Q647.257 1538.6 647.257 1529.87 Q647.257 1521.12 650.313 1516.54 Q653.392 1511.93 659.202 1511.93 Z\" fill=\"#000000\" fill-rule=\"evenodd\" fill-opacity=\"1\" /><path clip-path=\"url(#clip450)\" d=\"M 0 0 M1117.68 1515.64 Q1114.07 1515.64 1112.24 1519.2 Q1110.43 1522.75 1110.43 1529.87 Q1110.43 1536.98 1112.24 1540.55 Q1114.07 1544.09 1117.68 1544.09 Q1121.31 1544.09 1123.12 1540.55 Q1124.95 1536.98 1124.95 1529.87 Q1124.95 1522.75 1123.12 1519.2 Q1121.31 1515.64 1117.68 1515.64 M1117.68 1511.93 Q1123.49 1511.93 1126.54 1516.54 Q1129.62 1521.12 1129.62 1529.87 Q1129.62 1538.6 1126.54 1543.21 Q1123.49 1547.79 1117.68 1547.79 Q1111.87 1547.79 1108.79 1543.21 Q1105.73 1538.6 1105.73 1529.87 Q1105.73 1521.12 1108.79 1516.54 Q1111.87 1511.93 1117.68 1511.93 Z\" fill=\"#000000\" fill-rule=\"evenodd\" fill-opacity=\"1\" /><path clip-path=\"url(#clip450)\" d=\"M 0 0 M1134.69 1541.24 L1139.58 1541.24 L1139.58 1547.12 L1134.69 1547.12 L1134.69 1541.24 Z\" fill=\"#000000\" fill-rule=\"evenodd\" fill-opacity=\"1\" /><path clip-path=\"url(#clip450)\" d=\"M 0 0 M1158.81 1528.49 Q1162.17 1529.2 1164.04 1531.47 Q1165.94 1533.74 1165.94 1537.07 Q1165.94 1542.19 1162.42 1544.99 Q1158.9 1547.79 1152.42 1547.79 Q1150.25 1547.79 1147.93 1547.35 Q1145.64 1546.93 1143.19 1546.08 L1143.19 1541.56 Q1145.13 1542.7 1147.45 1543.28 Q1149.76 1543.86 1152.28 1543.86 Q1156.68 1543.86 1158.97 1542.12 Q1161.29 1540.38 1161.29 1537.07 Q1161.29 1534.02 1159.14 1532.31 Q1157.01 1530.57 1153.19 1530.57 L1149.16 1530.57 L1149.16 1526.73 L1153.37 1526.73 Q1156.82 1526.73 1158.65 1525.36 Q1160.48 1523.97 1160.48 1521.38 Q1160.48 1518.72 1158.58 1517.31 Q1156.71 1515.87 1153.19 1515.87 Q1151.27 1515.87 1149.07 1516.29 Q1146.87 1516.7 1144.23 1517.58 L1144.23 1513.42 Q1146.89 1512.68 1149.21 1512.31 Q1151.54 1511.93 1153.6 1511.93 Q1158.93 1511.93 1162.03 1514.37 Q1165.13 1516.77 1165.13 1520.89 Q1165.13 1523.76 1163.49 1525.75 Q1161.84 1527.72 1158.81 1528.49 Z\" fill=\"#000000\" fill-rule=\"evenodd\" fill-opacity=\"1\" /><path clip-path=\"url(#clip450)\" d=\"M 0 0 M1612.39 1515.64 Q1608.78 1515.64 1606.95 1519.2 Q1605.15 1522.75 1605.15 1529.87 Q1605.15 1536.98 1606.95 1540.55 Q1608.78 1544.09 1612.39 1544.09 Q1616.03 1544.09 1617.83 1540.55 Q1619.66 1536.98 1619.66 1529.87 Q1619.66 1522.75 1617.83 1519.2 Q1616.03 1515.64 1612.39 1515.64 M1612.39 1511.93 Q1618.2 1511.93 1621.26 1516.54 Q1624.34 1521.12 1624.34 1529.87 Q1624.34 1538.6 1621.26 1543.21 Q1618.2 1547.79 1612.39 1547.79 Q1606.58 1547.79 1603.5 1543.21 Q1600.45 1538.6 1600.45 1529.87 Q1600.45 1521.12 1603.5 1516.54 Q1606.58 1511.93 1612.39 1511.93 Z\" fill=\"#000000\" fill-rule=\"evenodd\" fill-opacity=\"1\" /><path clip-path=\"url(#clip450)\" d=\"M 0 0 M1629.41 1541.24 L1634.29 1541.24 L1634.29 1547.12 L1629.41 1547.12 L1629.41 1541.24 Z\" fill=\"#000000\" fill-rule=\"evenodd\" fill-opacity=\"1\" /><path clip-path=\"url(#clip450)\" d=\"M 0 0 M1649.94 1527.98 Q1646.79 1527.98 1644.94 1530.13 Q1643.11 1532.28 1643.11 1536.03 Q1643.11 1539.76 1644.94 1541.93 Q1646.79 1544.09 1649.94 1544.09 Q1653.09 1544.09 1654.92 1541.93 Q1656.77 1539.76 1656.77 1536.03 Q1656.77 1532.28 1654.92 1530.13 Q1653.09 1527.98 1649.94 1527.98 M1659.22 1513.32 L1659.22 1517.58 Q1657.46 1516.75 1655.66 1516.31 Q1653.87 1515.87 1652.11 1515.87 Q1647.49 1515.87 1645.03 1519 Q1642.6 1522.12 1642.25 1528.44 Q1643.62 1526.43 1645.68 1525.36 Q1647.74 1524.27 1650.22 1524.27 Q1655.43 1524.27 1658.43 1527.44 Q1661.47 1530.59 1661.47 1536.03 Q1661.47 1541.36 1658.32 1544.57 Q1655.17 1547.79 1649.94 1547.79 Q1643.94 1547.79 1640.77 1543.21 Q1637.6 1538.6 1637.6 1529.87 Q1637.6 1521.68 1641.49 1516.82 Q1645.38 1511.93 1651.93 1511.93 Q1653.69 1511.93 1655.47 1512.28 Q1657.28 1512.63 1659.22 1513.32 Z\" fill=\"#000000\" fill-rule=\"evenodd\" fill-opacity=\"1\" /><path clip-path=\"url(#clip450)\" d=\"M 0 0 M2107.69 1515.64 Q2104.08 1515.64 2102.25 1519.2 Q2100.44 1522.75 2100.44 1529.87 Q2100.44 1536.98 2102.25 1540.55 Q2104.08 1544.09 2107.69 1544.09 Q2111.32 1544.09 2113.13 1540.55 Q2114.95 1536.98 2114.95 1529.87 Q2114.95 1522.75 2113.13 1519.2 Q2111.32 1515.64 2107.69 1515.64 M2107.69 1511.93 Q2113.5 1511.93 2116.55 1516.54 Q2119.63 1521.12 2119.63 1529.87 Q2119.63 1538.6 2116.55 1543.21 Q2113.5 1547.79 2107.69 1547.79 Q2101.88 1547.79 2098.8 1543.21 Q2095.74 1538.6 2095.74 1529.87 Q2095.74 1521.12 2098.8 1516.54 Q2101.88 1511.93 2107.69 1511.93 Z\" fill=\"#000000\" fill-rule=\"evenodd\" fill-opacity=\"1\" /><path clip-path=\"url(#clip450)\" d=\"M 0 0 M2124.7 1541.24 L2129.58 1541.24 L2129.58 1547.12 L2124.7 1547.12 L2124.7 1541.24 Z\" fill=\"#000000\" fill-rule=\"evenodd\" fill-opacity=\"1\" /><path clip-path=\"url(#clip450)\" d=\"M 0 0 M2134.79 1546.4 L2134.79 1542.14 Q2136.55 1542.98 2138.36 1543.42 Q2140.16 1543.86 2141.9 1543.86 Q2146.53 1543.86 2148.96 1540.75 Q2151.41 1537.63 2151.76 1531.29 Q2150.42 1533.28 2148.36 1534.34 Q2146.3 1535.41 2143.8 1535.41 Q2138.61 1535.41 2135.58 1532.28 Q2132.57 1529.13 2132.57 1523.69 Q2132.57 1518.37 2135.72 1515.15 Q2138.87 1511.93 2144.1 1511.93 Q2150.09 1511.93 2153.24 1516.54 Q2156.41 1521.12 2156.41 1529.87 Q2156.41 1538.05 2152.52 1542.93 Q2148.66 1547.79 2142.11 1547.79 Q2140.35 1547.79 2138.54 1547.44 Q2136.74 1547.1 2134.79 1546.4 M2144.1 1531.75 Q2147.25 1531.75 2149.08 1529.6 Q2150.93 1527.44 2150.93 1523.69 Q2150.93 1519.97 2149.08 1517.81 Q2147.25 1515.64 2144.1 1515.64 Q2140.95 1515.64 2139.1 1517.81 Q2137.27 1519.97 2137.27 1523.69 Q2137.27 1527.44 2139.1 1529.6 Q2140.95 1531.75 2144.1 1531.75 Z\" fill=\"#000000\" fill-rule=\"evenodd\" fill-opacity=\"1\" /><polyline clip-path=\"url(#clip452)\" style=\"stroke:#000000; stroke-width:2; stroke-opacity:0.1; fill:none\" points=\"\n",
       "  174.862,1368.94 2352.76,1368.94 \n",
       "  \"/>\n",
       "<polyline clip-path=\"url(#clip452)\" style=\"stroke:#000000; stroke-width:2; stroke-opacity:0.1; fill:none\" points=\"\n",
       "  174.862,1048.7 2352.76,1048.7 \n",
       "  \"/>\n",
       "<polyline clip-path=\"url(#clip452)\" style=\"stroke:#000000; stroke-width:2; stroke-opacity:0.1; fill:none\" points=\"\n",
       "  174.862,728.456 2352.76,728.456 \n",
       "  \"/>\n",
       "<polyline clip-path=\"url(#clip452)\" style=\"stroke:#000000; stroke-width:2; stroke-opacity:0.1; fill:none\" points=\"\n",
       "  174.862,408.216 2352.76,408.216 \n",
       "  \"/>\n",
       "<polyline clip-path=\"url(#clip452)\" style=\"stroke:#000000; stroke-width:2; stroke-opacity:0.1; fill:none\" points=\"\n",
       "  174.862,87.9763 2352.76,87.9763 \n",
       "  \"/>\n",
       "<polyline clip-path=\"url(#clip450)\" style=\"stroke:#000000; stroke-width:4; stroke-opacity:1; fill:none\" points=\"\n",
       "  174.862,1486.45 174.862,47.2441 \n",
       "  \"/>\n",
       "<polyline clip-path=\"url(#clip450)\" style=\"stroke:#000000; stroke-width:4; stroke-opacity:1; fill:none\" points=\"\n",
       "  174.862,1368.94 200.997,1368.94 \n",
       "  \"/>\n",
       "<polyline clip-path=\"url(#clip450)\" style=\"stroke:#000000; stroke-width:4; stroke-opacity:1; fill:none\" points=\"\n",
       "  174.862,1048.7 200.997,1048.7 \n",
       "  \"/>\n",
       "<polyline clip-path=\"url(#clip450)\" style=\"stroke:#000000; stroke-width:4; stroke-opacity:1; fill:none\" points=\"\n",
       "  174.862,728.456 200.997,728.456 \n",
       "  \"/>\n",
       "<polyline clip-path=\"url(#clip450)\" style=\"stroke:#000000; stroke-width:4; stroke-opacity:1; fill:none\" points=\"\n",
       "  174.862,408.216 200.997,408.216 \n",
       "  \"/>\n",
       "<polyline clip-path=\"url(#clip450)\" style=\"stroke:#000000; stroke-width:4; stroke-opacity:1; fill:none\" points=\"\n",
       "  174.862,87.9763 200.997,87.9763 \n",
       "  \"/>\n",
       "<path clip-path=\"url(#clip450)\" d=\"M 0 0 M62.9365 1354.74 Q59.3254 1354.74 57.4967 1358.3 Q55.6912 1361.84 55.6912 1368.97 Q55.6912 1376.08 57.4967 1379.64 Q59.3254 1383.18 62.9365 1383.18 Q66.5707 1383.18 68.3763 1379.64 Q70.205 1376.08 70.205 1368.97 Q70.205 1361.84 68.3763 1358.3 Q66.5707 1354.74 62.9365 1354.74 M62.9365 1351.03 Q68.7467 1351.03 71.8022 1355.64 Q74.8809 1360.22 74.8809 1368.97 Q74.8809 1377.7 71.8022 1382.3 Q68.7467 1386.89 62.9365 1386.89 Q57.1264 1386.89 54.0477 1382.3 Q50.9921 1377.7 50.9921 1368.97 Q50.9921 1360.22 54.0477 1355.64 Q57.1264 1351.03 62.9365 1351.03 Z\" fill=\"#000000\" fill-rule=\"evenodd\" fill-opacity=\"1\" /><path clip-path=\"url(#clip450)\" d=\"M 0 0 M79.9503 1380.34 L84.8345 1380.34 L84.8345 1386.22 L79.9503 1386.22 L79.9503 1380.34 Z\" fill=\"#000000\" fill-rule=\"evenodd\" fill-opacity=\"1\" /><path clip-path=\"url(#clip450)\" d=\"M 0 0 M99.9039 1354.74 Q96.2928 1354.74 94.4641 1358.3 Q92.6586 1361.84 92.6586 1368.97 Q92.6586 1376.08 94.4641 1379.64 Q96.2928 1383.18 99.9039 1383.18 Q103.538 1383.18 105.344 1379.64 Q107.172 1376.08 107.172 1368.97 Q107.172 1361.84 105.344 1358.3 Q103.538 1354.74 99.9039 1354.74 M99.9039 1351.03 Q105.714 1351.03 108.77 1355.64 Q111.848 1360.22 111.848 1368.97 Q111.848 1377.7 108.77 1382.3 Q105.714 1386.89 99.9039 1386.89 Q94.0937 1386.89 91.0151 1382.3 Q87.9595 1377.7 87.9595 1368.97 Q87.9595 1360.22 91.0151 1355.64 Q94.0937 1351.03 99.9039 1351.03 Z\" fill=\"#000000\" fill-rule=\"evenodd\" fill-opacity=\"1\" /><path clip-path=\"url(#clip450)\" d=\"M 0 0 M126.918 1354.74 Q123.307 1354.74 121.478 1358.3 Q119.672 1361.84 119.672 1368.97 Q119.672 1376.08 121.478 1379.64 Q123.307 1383.18 126.918 1383.18 Q130.552 1383.18 132.357 1379.64 Q134.186 1376.08 134.186 1368.97 Q134.186 1361.84 132.357 1358.3 Q130.552 1354.74 126.918 1354.74 M126.918 1351.03 Q132.728 1351.03 135.783 1355.64 Q138.862 1360.22 138.862 1368.97 Q138.862 1377.7 135.783 1382.3 Q132.728 1386.89 126.918 1386.89 Q121.107 1386.89 118.029 1382.3 Q114.973 1377.7 114.973 1368.97 Q114.973 1360.22 118.029 1355.64 Q121.107 1351.03 126.918 1351.03 Z\" fill=\"#000000\" fill-rule=\"evenodd\" fill-opacity=\"1\" /><path clip-path=\"url(#clip450)\" d=\"M 0 0 M65.5291 1034.5 Q61.918 1034.5 60.0893 1038.06 Q58.2838 1041.6 58.2838 1048.73 Q58.2838 1055.84 60.0893 1059.4 Q61.918 1062.94 65.5291 1062.94 Q69.1633 1062.94 70.9689 1059.4 Q72.7976 1055.84 72.7976 1048.73 Q72.7976 1041.6 70.9689 1038.06 Q69.1633 1034.5 65.5291 1034.5 M65.5291 1030.79 Q71.3392 1030.79 74.3948 1035.4 Q77.4735 1039.98 77.4735 1048.73 Q77.4735 1057.46 74.3948 1062.06 Q71.3392 1066.65 65.5291 1066.65 Q59.7189 1066.65 56.6402 1062.06 Q53.5847 1057.46 53.5847 1048.73 Q53.5847 1039.98 56.6402 1035.4 Q59.7189 1030.79 65.5291 1030.79 Z\" fill=\"#000000\" fill-rule=\"evenodd\" fill-opacity=\"1\" /><path clip-path=\"url(#clip450)\" d=\"M 0 0 M82.5429 1060.1 L87.4271 1060.1 L87.4271 1065.98 L82.5429 1065.98 L82.5429 1060.1 Z\" fill=\"#000000\" fill-rule=\"evenodd\" fill-opacity=\"1\" /><path clip-path=\"url(#clip450)\" d=\"M 0 0 M96.5243 1062.04 L112.844 1062.04 L112.844 1065.98 L90.8993 1065.98 L90.8993 1062.04 Q93.5613 1059.29 98.1447 1054.66 Q102.751 1050 103.932 1048.66 Q106.177 1046.14 107.057 1044.4 Q107.959 1042.64 107.959 1040.95 Q107.959 1038.2 106.015 1036.46 Q104.094 1034.73 100.992 1034.73 Q98.7928 1034.73 96.3391 1035.49 Q93.9086 1036.25 91.1308 1037.81 L91.1308 1033.08 Q93.9549 1031.95 96.4085 1031.37 Q98.8622 1030.79 100.899 1030.79 Q106.27 1030.79 109.464 1033.48 Q112.658 1036.16 112.658 1040.65 Q112.658 1042.78 111.848 1044.7 Q111.061 1046.6 108.955 1049.19 Q108.376 1049.87 105.274 1053.08 Q102.172 1056.28 96.5243 1062.04 Z\" fill=\"#000000\" fill-rule=\"evenodd\" fill-opacity=\"1\" /><path clip-path=\"url(#clip450)\" d=\"M 0 0 M117.959 1031.42 L136.316 1031.42 L136.316 1035.35 L122.242 1035.35 L122.242 1043.82 Q123.26 1043.48 124.279 1043.31 Q125.297 1043.13 126.316 1043.13 Q132.103 1043.13 135.482 1046.3 Q138.862 1049.47 138.862 1054.89 Q138.862 1060.47 135.39 1063.57 Q131.918 1066.65 125.598 1066.65 Q123.422 1066.65 121.154 1066.28 Q118.908 1065.91 116.501 1065.17 L116.501 1060.47 Q118.584 1061.6 120.807 1062.16 Q123.029 1062.71 125.506 1062.71 Q129.51 1062.71 131.848 1060.61 Q134.186 1058.5 134.186 1054.89 Q134.186 1051.28 131.848 1049.17 Q129.51 1047.06 125.506 1047.06 Q123.631 1047.06 121.756 1047.48 Q119.904 1047.9 117.959 1048.78 L117.959 1031.42 Z\" fill=\"#000000\" fill-rule=\"evenodd\" fill-opacity=\"1\" /><path clip-path=\"url(#clip450)\" d=\"M 0 0 M63.9319 714.255 Q60.3208 714.255 58.4921 717.82 Q56.6865 721.362 56.6865 728.491 Q56.6865 735.598 58.4921 739.162 Q60.3208 742.704 63.9319 742.704 Q67.5661 742.704 69.3717 739.162 Q71.2004 735.598 71.2004 728.491 Q71.2004 721.362 69.3717 717.82 Q67.5661 714.255 63.9319 714.255 M63.9319 710.551 Q69.742 710.551 72.7976 715.158 Q75.8763 719.741 75.8763 728.491 Q75.8763 737.218 72.7976 741.824 Q69.742 746.408 63.9319 746.408 Q58.1217 746.408 55.043 741.824 Q51.9875 737.218 51.9875 728.491 Q51.9875 719.741 55.043 715.158 Q58.1217 710.551 63.9319 710.551 Z\" fill=\"#000000\" fill-rule=\"evenodd\" fill-opacity=\"1\" /><path clip-path=\"url(#clip450)\" d=\"M 0 0 M80.9457 739.857 L85.8299 739.857 L85.8299 745.736 L80.9457 745.736 L80.9457 739.857 Z\" fill=\"#000000\" fill-rule=\"evenodd\" fill-opacity=\"1\" /><path clip-path=\"url(#clip450)\" d=\"M 0 0 M90.9456 711.176 L109.302 711.176 L109.302 715.112 L95.228 715.112 L95.228 723.584 Q96.2465 723.237 97.265 723.074 Q98.2835 722.889 99.3021 722.889 Q105.089 722.889 108.469 726.061 Q111.848 729.232 111.848 734.648 Q111.848 740.227 108.376 743.329 Q104.904 746.408 98.5845 746.408 Q96.4085 746.408 94.14 746.037 Q91.8947 745.667 89.4873 744.926 L89.4873 740.227 Q91.5706 741.361 93.7928 741.917 Q96.015 742.473 98.4919 742.473 Q102.496 742.473 104.834 740.366 Q107.172 738.26 107.172 734.648 Q107.172 731.037 104.834 728.931 Q102.496 726.824 98.4919 726.824 Q96.6169 726.824 94.7419 727.241 Q92.89 727.658 90.9456 728.537 L90.9456 711.176 Z\" fill=\"#000000\" fill-rule=\"evenodd\" fill-opacity=\"1\" /><path clip-path=\"url(#clip450)\" d=\"M 0 0 M126.918 714.255 Q123.307 714.255 121.478 717.82 Q119.672 721.362 119.672 728.491 Q119.672 735.598 121.478 739.162 Q123.307 742.704 126.918 742.704 Q130.552 742.704 132.357 739.162 Q134.186 735.598 134.186 728.491 Q134.186 721.362 132.357 717.82 Q130.552 714.255 126.918 714.255 M126.918 710.551 Q132.728 710.551 135.783 715.158 Q138.862 719.741 138.862 728.491 Q138.862 737.218 135.783 741.824 Q132.728 746.408 126.918 746.408 Q121.107 746.408 118.029 741.824 Q114.973 737.218 114.973 728.491 Q114.973 719.741 118.029 715.158 Q121.107 710.551 126.918 710.551 Z\" fill=\"#000000\" fill-rule=\"evenodd\" fill-opacity=\"1\" /><path clip-path=\"url(#clip450)\" d=\"M 0 0 M64.8346 394.015 Q61.2236 394.015 59.3949 397.58 Q57.5893 401.121 57.5893 408.251 Q57.5893 415.358 59.3949 418.922 Q61.2236 422.464 64.8346 422.464 Q68.4689 422.464 70.2744 418.922 Q72.1031 415.358 72.1031 408.251 Q72.1031 401.121 70.2744 397.58 Q68.4689 394.015 64.8346 394.015 M64.8346 390.311 Q70.6448 390.311 73.7003 394.918 Q76.779 399.501 76.779 408.251 Q76.779 416.978 73.7003 421.584 Q70.6448 426.168 64.8346 426.168 Q59.0245 426.168 55.9458 421.584 Q52.8903 416.978 52.8903 408.251 Q52.8903 399.501 55.9458 394.918 Q59.0245 390.311 64.8346 390.311 Z\" fill=\"#000000\" fill-rule=\"evenodd\" fill-opacity=\"1\" /><path clip-path=\"url(#clip450)\" d=\"M 0 0 M81.8484 419.617 L86.7327 419.617 L86.7327 425.496 L81.8484 425.496 L81.8484 419.617 Z\" fill=\"#000000\" fill-rule=\"evenodd\" fill-opacity=\"1\" /><path clip-path=\"url(#clip450)\" d=\"M 0 0 M90.6215 390.936 L112.844 390.936 L112.844 392.927 L100.297 425.496 L95.4132 425.496 L107.219 394.872 L90.6215 394.872 L90.6215 390.936 Z\" fill=\"#000000\" fill-rule=\"evenodd\" fill-opacity=\"1\" /><path clip-path=\"url(#clip450)\" d=\"M 0 0 M117.959 390.936 L136.316 390.936 L136.316 394.872 L122.242 394.872 L122.242 403.344 Q123.26 402.996 124.279 402.834 Q125.297 402.649 126.316 402.649 Q132.103 402.649 135.482 405.821 Q138.862 408.992 138.862 414.408 Q138.862 419.987 135.39 423.089 Q131.918 426.168 125.598 426.168 Q123.422 426.168 121.154 425.797 Q118.908 425.427 116.501 424.686 L116.501 419.987 Q118.584 421.121 120.807 421.677 Q123.029 422.232 125.506 422.232 Q129.51 422.232 131.848 420.126 Q134.186 418.02 134.186 414.408 Q134.186 410.797 131.848 408.691 Q129.51 406.584 125.506 406.584 Q123.631 406.584 121.756 407.001 Q119.904 407.418 117.959 408.297 L117.959 390.936 Z\" fill=\"#000000\" fill-rule=\"evenodd\" fill-opacity=\"1\" /><path clip-path=\"url(#clip450)\" d=\"M 0 0 M54.9736 101.321 L62.6124 101.321 L62.6124 74.9555 L54.3023 76.6222 L54.3023 72.3629 L62.5661 70.6963 L67.242 70.6963 L67.242 101.321 L74.8809 101.321 L74.8809 105.256 L54.9736 105.256 L54.9736 101.321 Z\" fill=\"#000000\" fill-rule=\"evenodd\" fill-opacity=\"1\" /><path clip-path=\"url(#clip450)\" d=\"M 0 0 M79.9503 99.3767 L84.8345 99.3767 L84.8345 105.256 L79.9503 105.256 L79.9503 99.3767 Z\" fill=\"#000000\" fill-rule=\"evenodd\" fill-opacity=\"1\" /><path clip-path=\"url(#clip450)\" d=\"M 0 0 M99.9039 73.775 Q96.2928 73.775 94.4641 77.3398 Q92.6586 80.8814 92.6586 88.011 Q92.6586 95.1174 94.4641 98.6822 Q96.2928 102.224 99.9039 102.224 Q103.538 102.224 105.344 98.6822 Q107.172 95.1174 107.172 88.011 Q107.172 80.8814 105.344 77.3398 Q103.538 73.775 99.9039 73.775 M99.9039 70.0713 Q105.714 70.0713 108.77 74.6777 Q111.848 79.261 111.848 88.011 Q111.848 96.7378 108.77 101.344 Q105.714 105.928 99.9039 105.928 Q94.0937 105.928 91.0151 101.344 Q87.9595 96.7378 87.9595 88.011 Q87.9595 79.261 91.0151 74.6777 Q94.0937 70.0713 99.9039 70.0713 Z\" fill=\"#000000\" fill-rule=\"evenodd\" fill-opacity=\"1\" /><path clip-path=\"url(#clip450)\" d=\"M 0 0 M126.918 73.775 Q123.307 73.775 121.478 77.3398 Q119.672 80.8814 119.672 88.011 Q119.672 95.1174 121.478 98.6822 Q123.307 102.224 126.918 102.224 Q130.552 102.224 132.357 98.6822 Q134.186 95.1174 134.186 88.011 Q134.186 80.8814 132.357 77.3398 Q130.552 73.775 126.918 73.775 M126.918 70.0713 Q132.728 70.0713 135.783 74.6777 Q138.862 79.261 138.862 88.011 Q138.862 96.7378 135.783 101.344 Q132.728 105.928 126.918 105.928 Q121.107 105.928 118.029 101.344 Q114.973 96.7378 114.973 88.011 Q114.973 79.261 118.029 74.6777 Q121.107 70.0713 126.918 70.0713 Z\" fill=\"#000000\" fill-rule=\"evenodd\" fill-opacity=\"1\" /><polyline clip-path=\"url(#clip452)\" style=\"stroke:#009af9; stroke-width:4; stroke-opacity:1; fill:none\" points=\"\n",
       "  2291.12,87.9763 1961.04,87.9763 1663.97,113.595 1399.9,159.71 1168.19,221.709 967.629,295.492 796.635,377.463 653.301,464.509 535.515,553.975 441.035,643.637 \n",
       "  367.555,731.665 312.765,816.594 274.396,897.282 250.26,972.88 238.277,1042.79 236.501,1106.64 243.128,1164.24 256.514,1215.57 275.175,1260.73 297.788,1299.92 \n",
       "  323.189,1333.44 350.368,1361.63 378.462,1384.9 406.745,1403.66 434.616,1418.35 461.592,1429.4 487.295,1437.26 511.44,1442.33 533.824,1445.03 554.317,1445.72 \n",
       "  572.85,1444.74 589.404,1442.43 604.004,1439.06 616.711,1434.9 627.61,1430.17 636.81,1425.06 644.432,1419.75 650.608,1414.38 655.474,1409.07 659.17,1403.91 \n",
       "  661.831,1398.98 663.591,1394.34 664.576,1390.02 664.907,1386.06 664.695,1382.47 664.041,1379.26 663.039,1376.42 661.77,1373.94 660.309,1371.8 658.719,1369.99 \n",
       "  657.055,1368.49 655.364,1367.27 653.685,1366.3 652.048,1365.56 650.479,1365.01 648.998,1364.65 647.618,1364.43 646.348,1364.35 645.194,1364.37 644.158,1364.48 \n",
       "  643.24,1364.66 642.437,1364.89 641.743,1365.16 641.155,1365.46 640.663,1365.77 640.261,1366.09 639.941,1366.41 639.693,1366.73 639.511,1367.03 639.386,1367.31 \n",
       "  639.31,1367.58 639.275,1367.82 639.276,1368.05 639.306,1368.25 639.358,1368.43 639.428,1368.58 639.512,1368.72 639.604,1368.83 639.702,1368.93 639.803,1369.01 \n",
       "  639.904,1369.07 640.003,1369.12 640.098,1369.16 640.189,1369.19 640.274,1369.2 640.353,1369.21 640.424,1369.21 640.489,1369.21 640.547,1369.2 640.597,1369.18 \n",
       "  640.641,1369.17 640.679,1369.15 640.71,1369.13 640.737,1369.11 640.758,1369.09 640.774,1369.08 640.786,1369.06 640.795,1369.04 640.801,1369.02 640.804,1369.01 \n",
       "  \n",
       "  \"/>\n",
       "<path clip-path=\"url(#clip450)\" d=\"\n",
       "M1987.15 216.178 L2280.16 216.178 L2280.16 95.2176 L1987.15 95.2176  Z\n",
       "  \" fill=\"#ffffff\" fill-rule=\"evenodd\" fill-opacity=\"1\"/>\n",
       "<polyline clip-path=\"url(#clip450)\" style=\"stroke:#000000; stroke-width:4; stroke-opacity:1; fill:none\" points=\"\n",
       "  1987.15,216.178 2280.16,216.178 2280.16,95.2176 1987.15,95.2176 1987.15,216.178 \n",
       "  \"/>\n",
       "<polyline clip-path=\"url(#clip450)\" style=\"stroke:#009af9; stroke-width:4; stroke-opacity:1; fill:none\" points=\"\n",
       "  2011.35,155.698 2156.54,155.698 \n",
       "  \"/>\n",
       "<path clip-path=\"url(#clip450)\" d=\"M 0 0 M2194.59 175.385 Q2192.78 180.015 2191.07 181.427 Q2189.35 182.839 2186.48 182.839 L2183.08 182.839 L2183.08 179.274 L2185.58 179.274 Q2187.34 179.274 2188.31 178.44 Q2189.29 177.607 2190.47 174.505 L2191.23 172.561 L2180.74 147.052 L2185.26 147.052 L2193.36 167.329 L2201.46 147.052 L2205.97 147.052 L2194.59 175.385 Z\" fill=\"#000000\" fill-rule=\"evenodd\" fill-opacity=\"1\" /><path clip-path=\"url(#clip450)\" d=\"M 0 0 M2211.85 169.042 L2219.49 169.042 L2219.49 142.677 L2211.18 144.343 L2211.18 140.084 L2219.45 138.418 L2224.12 138.418 L2224.12 169.042 L2231.76 169.042 L2231.76 172.978 L2211.85 172.978 L2211.85 169.042 Z\" fill=\"#000000\" fill-rule=\"evenodd\" fill-opacity=\"1\" /></svg>\n"
      ]
     },
     "execution_count": 101,
     "metadata": {},
     "output_type": "execute_result"
    }
   ],
   "source": [
    "plot(x[1,:], x[2,:])"
   ]
  },
  {
   "cell_type": "code",
   "execution_count": 102,
   "metadata": {},
   "outputs": [
    {
     "data": {
      "text/plain": [
       "plot_trajectory (generic function with 1 method)"
      ]
     },
     "execution_count": 102,
     "metadata": {},
     "output_type": "execute_result"
    }
   ],
   "source": [
    "function plot_trajectory(A::Array{Float64, 2})\n",
    "    x = zeros(2, 100)\n",
    "    x[:, 1] = ones(2)\n",
    "    \n",
    "    forecast_ndim_AR1!(x, A)\n",
    "    plot(x[1,:], x[2,:])\n",
    "end"
   ]
  },
  {
   "cell_type": "code",
   "execution_count": 112,
   "metadata": {},
   "outputs": [
    {
     "data": {
      "image/svg+xml": [
       "<?xml version=\"1.0\" encoding=\"utf-8\"?>\n",
       "<svg xmlns=\"http://www.w3.org/2000/svg\" xmlns:xlink=\"http://www.w3.org/1999/xlink\" width=\"600\" height=\"400\" viewBox=\"0 0 2400 1600\">\n",
       "<defs>\n",
       "  <clipPath id=\"clip730\">\n",
       "    <rect x=\"0\" y=\"0\" width=\"2400\" height=\"1600\"/>\n",
       "  </clipPath>\n",
       "</defs>\n",
       "<path clip-path=\"url(#clip730)\" d=\"\n",
       "M0 1600 L2400 1600 L2400 0 L0 0  Z\n",
       "  \" fill=\"#ffffff\" fill-rule=\"evenodd\" fill-opacity=\"1\"/>\n",
       "<defs>\n",
       "  <clipPath id=\"clip731\">\n",
       "    <rect x=\"480\" y=\"0\" width=\"1681\" height=\"1600\"/>\n",
       "  </clipPath>\n",
       "</defs>\n",
       "<path clip-path=\"url(#clip730)\" d=\"\n",
       "M179.654 1486.45 L2352.76 1486.45 L2352.76 47.2441 L179.654 47.2441  Z\n",
       "  \" fill=\"#ffffff\" fill-rule=\"evenodd\" fill-opacity=\"1\"/>\n",
       "<defs>\n",
       "  <clipPath id=\"clip732\">\n",
       "    <rect x=\"179\" y=\"47\" width=\"2174\" height=\"1440\"/>\n",
       "  </clipPath>\n",
       "</defs>\n",
       "<polyline clip-path=\"url(#clip732)\" style=\"stroke:#000000; stroke-width:2; stroke-opacity:0.1; fill:none\" points=\"\n",
       "  412.926,1486.45 412.926,47.2441 \n",
       "  \"/>\n",
       "<polyline clip-path=\"url(#clip732)\" style=\"stroke:#000000; stroke-width:2; stroke-opacity:0.1; fill:none\" points=\"\n",
       "  809.197,1486.45 809.197,47.2441 \n",
       "  \"/>\n",
       "<polyline clip-path=\"url(#clip732)\" style=\"stroke:#000000; stroke-width:2; stroke-opacity:0.1; fill:none\" points=\"\n",
       "  1205.47,1486.45 1205.47,47.2441 \n",
       "  \"/>\n",
       "<polyline clip-path=\"url(#clip732)\" style=\"stroke:#000000; stroke-width:2; stroke-opacity:0.1; fill:none\" points=\"\n",
       "  1601.74,1486.45 1601.74,47.2441 \n",
       "  \"/>\n",
       "<polyline clip-path=\"url(#clip732)\" style=\"stroke:#000000; stroke-width:2; stroke-opacity:0.1; fill:none\" points=\"\n",
       "  1998.01,1486.45 1998.01,47.2441 \n",
       "  \"/>\n",
       "<polyline clip-path=\"url(#clip730)\" style=\"stroke:#000000; stroke-width:4; stroke-opacity:1; fill:none\" points=\"\n",
       "  179.654,1486.45 2352.76,1486.45 \n",
       "  \"/>\n",
       "<polyline clip-path=\"url(#clip730)\" style=\"stroke:#000000; stroke-width:4; stroke-opacity:1; fill:none\" points=\"\n",
       "  412.926,1486.45 412.926,1469.18 \n",
       "  \"/>\n",
       "<polyline clip-path=\"url(#clip730)\" style=\"stroke:#000000; stroke-width:4; stroke-opacity:1; fill:none\" points=\"\n",
       "  809.197,1486.45 809.197,1469.18 \n",
       "  \"/>\n",
       "<polyline clip-path=\"url(#clip730)\" style=\"stroke:#000000; stroke-width:4; stroke-opacity:1; fill:none\" points=\"\n",
       "  1205.47,1486.45 1205.47,1469.18 \n",
       "  \"/>\n",
       "<polyline clip-path=\"url(#clip730)\" style=\"stroke:#000000; stroke-width:4; stroke-opacity:1; fill:none\" points=\"\n",
       "  1601.74,1486.45 1601.74,1469.18 \n",
       "  \"/>\n",
       "<polyline clip-path=\"url(#clip730)\" style=\"stroke:#000000; stroke-width:4; stroke-opacity:1; fill:none\" points=\"\n",
       "  1998.01,1486.45 1998.01,1469.18 \n",
       "  \"/>\n",
       "<path clip-path=\"url(#clip730)\" d=\"M 0 0 M366.71 1530.29 L396.386 1530.29 L396.386 1534.23 L366.71 1534.23 L366.71 1530.29 Z\" fill=\"#000000\" fill-rule=\"evenodd\" fill-opacity=\"1\" /><path clip-path=\"url(#clip730)\" d=\"M 0 0 M402.266 1543.18 L409.905 1543.18 L409.905 1516.82 L401.595 1518.49 L401.595 1514.23 L409.858 1512.56 L414.534 1512.56 L414.534 1543.18 L422.173 1543.18 L422.173 1547.12 L402.266 1547.12 L402.266 1543.18 Z\" fill=\"#000000\" fill-rule=\"evenodd\" fill-opacity=\"1\" /><path clip-path=\"url(#clip730)\" d=\"M 0 0 M427.243 1541.24 L432.127 1541.24 L432.127 1547.12 L427.243 1547.12 L427.243 1541.24 Z\" fill=\"#000000\" fill-rule=\"evenodd\" fill-opacity=\"1\" /><path clip-path=\"url(#clip730)\" d=\"M 0 0 M447.196 1515.64 Q443.585 1515.64 441.756 1519.2 Q439.951 1522.75 439.951 1529.87 Q439.951 1536.98 441.756 1540.55 Q443.585 1544.09 447.196 1544.09 Q450.83 1544.09 452.636 1540.55 Q454.465 1536.98 454.465 1529.87 Q454.465 1522.75 452.636 1519.2 Q450.83 1515.64 447.196 1515.64 M447.196 1511.93 Q453.006 1511.93 456.062 1516.54 Q459.141 1521.12 459.141 1529.87 Q459.141 1538.6 456.062 1543.21 Q453.006 1547.79 447.196 1547.79 Q441.386 1547.79 438.307 1543.21 Q435.252 1538.6 435.252 1529.87 Q435.252 1521.12 438.307 1516.54 Q441.386 1511.93 447.196 1511.93 Z\" fill=\"#000000\" fill-rule=\"evenodd\" fill-opacity=\"1\" /><path clip-path=\"url(#clip730)\" d=\"M 0 0 M762.866 1530.29 L792.542 1530.29 L792.542 1534.23 L762.866 1534.23 L762.866 1530.29 Z\" fill=\"#000000\" fill-rule=\"evenodd\" fill-opacity=\"1\" /><path clip-path=\"url(#clip730)\" d=\"M 0 0 M807.612 1515.64 Q804 1515.64 802.172 1519.2 Q800.366 1522.75 800.366 1529.87 Q800.366 1536.98 802.172 1540.55 Q804 1544.09 807.612 1544.09 Q811.246 1544.09 813.051 1540.55 Q814.88 1536.98 814.88 1529.87 Q814.88 1522.75 813.051 1519.2 Q811.246 1515.64 807.612 1515.64 M807.612 1511.93 Q813.422 1511.93 816.477 1516.54 Q819.556 1521.12 819.556 1529.87 Q819.556 1538.6 816.477 1543.21 Q813.422 1547.79 807.612 1547.79 Q801.801 1547.79 798.723 1543.21 Q795.667 1538.6 795.667 1529.87 Q795.667 1521.12 798.723 1516.54 Q801.801 1511.93 807.612 1511.93 Z\" fill=\"#000000\" fill-rule=\"evenodd\" fill-opacity=\"1\" /><path clip-path=\"url(#clip730)\" d=\"M 0 0 M824.625 1541.24 L829.51 1541.24 L829.51 1547.12 L824.625 1547.12 L824.625 1541.24 Z\" fill=\"#000000\" fill-rule=\"evenodd\" fill-opacity=\"1\" /><path clip-path=\"url(#clip730)\" d=\"M 0 0 M834.625 1512.56 L852.982 1512.56 L852.982 1516.5 L838.908 1516.5 L838.908 1524.97 Q839.926 1524.62 840.945 1524.46 Q841.963 1524.27 842.982 1524.27 Q848.769 1524.27 852.148 1527.44 Q855.528 1530.62 855.528 1536.03 Q855.528 1541.61 852.056 1544.71 Q848.584 1547.79 842.264 1547.79 Q840.088 1547.79 837.82 1547.42 Q835.574 1547.05 833.167 1546.31 L833.167 1541.61 Q835.25 1542.74 837.472 1543.3 Q839.695 1543.86 842.172 1543.86 Q846.176 1543.86 848.514 1541.75 Q850.852 1539.64 850.852 1536.03 Q850.852 1532.42 848.514 1530.31 Q846.176 1528.21 842.172 1528.21 Q840.297 1528.21 838.422 1528.62 Q836.57 1529.04 834.625 1529.92 L834.625 1512.56 Z\" fill=\"#000000\" fill-rule=\"evenodd\" fill-opacity=\"1\" /><path clip-path=\"url(#clip730)\" d=\"M 0 0 M1186.99 1515.64 Q1183.37 1515.64 1181.55 1519.2 Q1179.74 1522.75 1179.74 1529.87 Q1179.74 1536.98 1181.55 1540.55 Q1183.37 1544.09 1186.99 1544.09 Q1190.62 1544.09 1192.42 1540.55 Q1194.25 1536.98 1194.25 1529.87 Q1194.25 1522.75 1192.42 1519.2 Q1190.62 1515.64 1186.99 1515.64 M1186.99 1511.93 Q1192.8 1511.93 1195.85 1516.54 Q1198.93 1521.12 1198.93 1529.87 Q1198.93 1538.6 1195.85 1543.21 Q1192.8 1547.79 1186.99 1547.79 Q1181.17 1547.79 1178.1 1543.21 Q1175.04 1538.6 1175.04 1529.87 Q1175.04 1521.12 1178.1 1516.54 Q1181.17 1511.93 1186.99 1511.93 Z\" fill=\"#000000\" fill-rule=\"evenodd\" fill-opacity=\"1\" /><path clip-path=\"url(#clip730)\" d=\"M 0 0 M1204 1541.24 L1208.88 1541.24 L1208.88 1547.12 L1204 1547.12 L1204 1541.24 Z\" fill=\"#000000\" fill-rule=\"evenodd\" fill-opacity=\"1\" /><path clip-path=\"url(#clip730)\" d=\"M 0 0 M1223.95 1515.64 Q1220.34 1515.64 1218.51 1519.2 Q1216.71 1522.75 1216.71 1529.87 Q1216.71 1536.98 1218.51 1540.55 Q1220.34 1544.09 1223.95 1544.09 Q1227.59 1544.09 1229.39 1540.55 Q1231.22 1536.98 1231.22 1529.87 Q1231.22 1522.75 1229.39 1519.2 Q1227.59 1515.64 1223.95 1515.64 M1223.95 1511.93 Q1229.76 1511.93 1232.82 1516.54 Q1235.9 1521.12 1235.9 1529.87 Q1235.9 1538.6 1232.82 1543.21 Q1229.76 1547.79 1223.95 1547.79 Q1218.14 1547.79 1215.06 1543.21 Q1212.01 1538.6 1212.01 1529.87 Q1212.01 1521.12 1215.06 1516.54 Q1218.14 1511.93 1223.95 1511.93 Z\" fill=\"#000000\" fill-rule=\"evenodd\" fill-opacity=\"1\" /><path clip-path=\"url(#clip730)\" d=\"M 0 0 M1583.75 1515.64 Q1580.14 1515.64 1578.31 1519.2 Q1576.51 1522.75 1576.51 1529.87 Q1576.51 1536.98 1578.31 1540.55 Q1580.14 1544.09 1583.75 1544.09 Q1587.39 1544.09 1589.19 1540.55 Q1591.02 1536.98 1591.02 1529.87 Q1591.02 1522.75 1589.19 1519.2 Q1587.39 1515.64 1583.75 1515.64 M1583.75 1511.93 Q1589.56 1511.93 1592.62 1516.54 Q1595.7 1521.12 1595.7 1529.87 Q1595.7 1538.6 1592.62 1543.21 Q1589.56 1547.79 1583.75 1547.79 Q1577.94 1547.79 1574.87 1543.21 Q1571.81 1538.6 1571.81 1529.87 Q1571.81 1521.12 1574.87 1516.54 Q1577.94 1511.93 1583.75 1511.93 Z\" fill=\"#000000\" fill-rule=\"evenodd\" fill-opacity=\"1\" /><path clip-path=\"url(#clip730)\" d=\"M 0 0 M1600.77 1541.24 L1605.65 1541.24 L1605.65 1547.12 L1600.77 1547.12 L1600.77 1541.24 Z\" fill=\"#000000\" fill-rule=\"evenodd\" fill-opacity=\"1\" /><path clip-path=\"url(#clip730)\" d=\"M 0 0 M1610.77 1512.56 L1629.12 1512.56 L1629.12 1516.5 L1615.05 1516.5 L1615.05 1524.97 Q1616.07 1524.62 1617.09 1524.46 Q1618.11 1524.27 1619.12 1524.27 Q1624.91 1524.27 1628.29 1527.44 Q1631.67 1530.62 1631.67 1536.03 Q1631.67 1541.61 1628.2 1544.71 Q1624.73 1547.79 1618.41 1547.79 Q1616.23 1547.79 1613.96 1547.42 Q1611.72 1547.05 1609.31 1546.31 L1609.31 1541.61 Q1611.39 1542.74 1613.62 1543.3 Q1615.84 1543.86 1618.31 1543.86 Q1622.32 1543.86 1624.66 1541.75 Q1626.99 1539.64 1626.99 1536.03 Q1626.99 1532.42 1624.66 1530.31 Q1622.32 1528.21 1618.31 1528.21 Q1616.44 1528.21 1614.56 1528.62 Q1612.71 1529.04 1610.77 1529.92 L1610.77 1512.56 Z\" fill=\"#000000\" fill-rule=\"evenodd\" fill-opacity=\"1\" /><path clip-path=\"url(#clip730)\" d=\"M 0 0 M1969.91 1543.18 L1977.55 1543.18 L1977.55 1516.82 L1969.24 1518.49 L1969.24 1514.23 L1977.5 1512.56 L1982.18 1512.56 L1982.18 1543.18 L1989.82 1543.18 L1989.82 1547.12 L1969.91 1547.12 L1969.91 1543.18 Z\" fill=\"#000000\" fill-rule=\"evenodd\" fill-opacity=\"1\" /><path clip-path=\"url(#clip730)\" d=\"M 0 0 M1994.89 1541.24 L1999.77 1541.24 L1999.77 1547.12 L1994.89 1547.12 L1994.89 1541.24 Z\" fill=\"#000000\" fill-rule=\"evenodd\" fill-opacity=\"1\" /><path clip-path=\"url(#clip730)\" d=\"M 0 0 M2014.84 1515.64 Q2011.23 1515.64 2009.4 1519.2 Q2007.6 1522.75 2007.6 1529.87 Q2007.6 1536.98 2009.4 1540.55 Q2011.23 1544.09 2014.84 1544.09 Q2018.47 1544.09 2020.28 1540.55 Q2022.11 1536.98 2022.11 1529.87 Q2022.11 1522.75 2020.28 1519.2 Q2018.47 1515.64 2014.84 1515.64 M2014.84 1511.93 Q2020.65 1511.93 2023.71 1516.54 Q2026.79 1521.12 2026.79 1529.87 Q2026.79 1538.6 2023.71 1543.21 Q2020.65 1547.79 2014.84 1547.79 Q2009.03 1547.79 2005.95 1543.21 Q2002.9 1538.6 2002.9 1529.87 Q2002.9 1521.12 2005.95 1516.54 Q2009.03 1511.93 2014.84 1511.93 Z\" fill=\"#000000\" fill-rule=\"evenodd\" fill-opacity=\"1\" /><polyline clip-path=\"url(#clip732)\" style=\"stroke:#000000; stroke-width:2; stroke-opacity:0.1; fill:none\" points=\"\n",
       "  179.654,1291.95 2352.76,1291.95 \n",
       "  \"/>\n",
       "<polyline clip-path=\"url(#clip732)\" style=\"stroke:#000000; stroke-width:2; stroke-opacity:0.1; fill:none\" points=\"\n",
       "  179.654,1013 2352.76,1013 \n",
       "  \"/>\n",
       "<polyline clip-path=\"url(#clip732)\" style=\"stroke:#000000; stroke-width:2; stroke-opacity:0.1; fill:none\" points=\"\n",
       "  179.654,734.053 2352.76,734.053 \n",
       "  \"/>\n",
       "<polyline clip-path=\"url(#clip732)\" style=\"stroke:#000000; stroke-width:2; stroke-opacity:0.1; fill:none\" points=\"\n",
       "  179.654,455.102 2352.76,455.102 \n",
       "  \"/>\n",
       "<polyline clip-path=\"url(#clip732)\" style=\"stroke:#000000; stroke-width:2; stroke-opacity:0.1; fill:none\" points=\"\n",
       "  179.654,176.151 2352.76,176.151 \n",
       "  \"/>\n",
       "<polyline clip-path=\"url(#clip730)\" style=\"stroke:#000000; stroke-width:4; stroke-opacity:1; fill:none\" points=\"\n",
       "  179.654,1486.45 179.654,47.2441 \n",
       "  \"/>\n",
       "<polyline clip-path=\"url(#clip730)\" style=\"stroke:#000000; stroke-width:4; stroke-opacity:1; fill:none\" points=\"\n",
       "  179.654,1291.95 205.731,1291.95 \n",
       "  \"/>\n",
       "<polyline clip-path=\"url(#clip730)\" style=\"stroke:#000000; stroke-width:4; stroke-opacity:1; fill:none\" points=\"\n",
       "  179.654,1013 205.731,1013 \n",
       "  \"/>\n",
       "<polyline clip-path=\"url(#clip730)\" style=\"stroke:#000000; stroke-width:4; stroke-opacity:1; fill:none\" points=\"\n",
       "  179.654,734.053 205.731,734.053 \n",
       "  \"/>\n",
       "<polyline clip-path=\"url(#clip730)\" style=\"stroke:#000000; stroke-width:4; stroke-opacity:1; fill:none\" points=\"\n",
       "  179.654,455.102 205.731,455.102 \n",
       "  \"/>\n",
       "<polyline clip-path=\"url(#clip730)\" style=\"stroke:#000000; stroke-width:4; stroke-opacity:1; fill:none\" points=\"\n",
       "  179.654,176.151 205.731,176.151 \n",
       "  \"/>\n",
       "<path clip-path=\"url(#clip730)\" d=\"M 0 0 M51.2236 1292.41 L80.8994 1292.41 L80.8994 1296.34 L51.2236 1296.34 L51.2236 1292.41 Z\" fill=\"#000000\" fill-rule=\"evenodd\" fill-opacity=\"1\" /><path clip-path=\"url(#clip730)\" d=\"M 0 0 M86.779 1305.3 L94.4178 1305.3 L94.4178 1278.93 L86.1077 1280.6 L86.1077 1276.34 L94.3715 1274.67 L99.0474 1274.67 L99.0474 1305.3 L106.686 1305.3 L106.686 1309.23 L86.779 1309.23 L86.779 1305.3 Z\" fill=\"#000000\" fill-rule=\"evenodd\" fill-opacity=\"1\" /><path clip-path=\"url(#clip730)\" d=\"M 0 0 M111.756 1303.35 L116.64 1303.35 L116.64 1309.23 L111.756 1309.23 L111.756 1303.35 Z\" fill=\"#000000\" fill-rule=\"evenodd\" fill-opacity=\"1\" /><path clip-path=\"url(#clip730)\" d=\"M 0 0 M131.709 1277.75 Q128.098 1277.75 126.27 1281.32 Q124.464 1284.86 124.464 1291.99 Q124.464 1299.1 126.27 1302.66 Q128.098 1306.2 131.709 1306.2 Q135.344 1306.2 137.149 1302.66 Q138.978 1299.1 138.978 1291.99 Q138.978 1284.86 137.149 1281.32 Q135.344 1277.75 131.709 1277.75 M131.709 1274.05 Q137.519 1274.05 140.575 1278.66 Q143.654 1283.24 143.654 1291.99 Q143.654 1300.72 140.575 1305.32 Q137.519 1309.91 131.709 1309.91 Q125.899 1309.91 122.82 1305.32 Q119.765 1300.72 119.765 1291.99 Q119.765 1283.24 122.82 1278.66 Q125.899 1274.05 131.709 1274.05 Z\" fill=\"#000000\" fill-rule=\"evenodd\" fill-opacity=\"1\" /><path clip-path=\"url(#clip730)\" d=\"M 0 0 M50.9921 1013.45 L80.6679 1013.45 L80.6679 1017.39 L50.9921 1017.39 L50.9921 1013.45 Z\" fill=\"#000000\" fill-rule=\"evenodd\" fill-opacity=\"1\" /><path clip-path=\"url(#clip730)\" d=\"M 0 0 M95.7373 998.802 Q92.1262 998.802 90.2975 1002.37 Q88.4919 1005.91 88.4919 1013.04 Q88.4919 1020.14 90.2975 1023.71 Q92.1262 1027.25 95.7373 1027.25 Q99.3715 1027.25 101.177 1023.71 Q103.006 1020.14 103.006 1013.04 Q103.006 1005.91 101.177 1002.37 Q99.3715 998.802 95.7373 998.802 M95.7373 995.098 Q101.547 995.098 104.603 999.705 Q107.682 1004.29 107.682 1013.04 Q107.682 1021.76 104.603 1026.37 Q101.547 1030.95 95.7373 1030.95 Q89.9271 1030.95 86.8484 1026.37 Q83.7929 1021.76 83.7929 1013.04 Q83.7929 1004.29 86.8484 999.705 Q89.9271 995.098 95.7373 995.098 Z\" fill=\"#000000\" fill-rule=\"evenodd\" fill-opacity=\"1\" /><path clip-path=\"url(#clip730)\" d=\"M 0 0 M112.751 1024.4 L117.635 1024.4 L117.635 1030.28 L112.751 1030.28 L112.751 1024.4 Z\" fill=\"#000000\" fill-rule=\"evenodd\" fill-opacity=\"1\" /><path clip-path=\"url(#clip730)\" d=\"M 0 0 M122.751 995.723 L141.107 995.723 L141.107 999.658 L127.033 999.658 L127.033 1008.13 Q128.052 1007.78 129.07 1007.62 Q130.089 1007.44 131.107 1007.44 Q136.894 1007.44 140.274 1010.61 Q143.654 1013.78 143.654 1019.2 Q143.654 1024.77 140.181 1027.88 Q136.709 1030.95 130.39 1030.95 Q128.214 1030.95 125.945 1030.58 Q123.7 1030.21 121.293 1029.47 L121.293 1024.77 Q123.376 1025.91 125.598 1026.46 Q127.82 1027.02 130.297 1027.02 Q134.302 1027.02 136.64 1024.91 Q138.978 1022.81 138.978 1019.2 Q138.978 1015.58 136.64 1013.48 Q134.302 1011.37 130.297 1011.37 Q128.422 1011.37 126.547 1011.79 Q124.695 1012.2 122.751 1013.08 L122.751 995.723 Z\" fill=\"#000000\" fill-rule=\"evenodd\" fill-opacity=\"1\" /><path clip-path=\"url(#clip730)\" d=\"M 0 0 M94.7419 719.851 Q91.1308 719.851 89.3021 723.416 Q87.4966 726.958 87.4966 734.087 Q87.4966 741.194 89.3021 744.758 Q91.1308 748.3 94.7419 748.3 Q98.3761 748.3 100.182 744.758 Q102.01 741.194 102.01 734.087 Q102.01 726.958 100.182 723.416 Q98.3761 719.851 94.7419 719.851 M94.7419 716.148 Q100.552 716.148 103.608 720.754 Q106.686 725.337 106.686 734.087 Q106.686 742.814 103.608 747.421 Q100.552 752.004 94.7419 752.004 Q88.9317 752.004 85.8531 747.421 Q82.7975 742.814 82.7975 734.087 Q82.7975 725.337 85.8531 720.754 Q88.9317 716.148 94.7419 716.148 Z\" fill=\"#000000\" fill-rule=\"evenodd\" fill-opacity=\"1\" /><path clip-path=\"url(#clip730)\" d=\"M 0 0 M111.756 745.453 L116.64 745.453 L116.64 751.333 L111.756 751.333 L111.756 745.453 Z\" fill=\"#000000\" fill-rule=\"evenodd\" fill-opacity=\"1\" /><path clip-path=\"url(#clip730)\" d=\"M 0 0 M131.709 719.851 Q128.098 719.851 126.27 723.416 Q124.464 726.958 124.464 734.087 Q124.464 741.194 126.27 744.758 Q128.098 748.3 131.709 748.3 Q135.344 748.3 137.149 744.758 Q138.978 741.194 138.978 734.087 Q138.978 726.958 137.149 723.416 Q135.344 719.851 131.709 719.851 M131.709 716.148 Q137.519 716.148 140.575 720.754 Q143.654 725.337 143.654 734.087 Q143.654 742.814 140.575 747.421 Q137.519 752.004 131.709 752.004 Q125.899 752.004 122.82 747.421 Q119.765 742.814 119.765 734.087 Q119.765 725.337 122.82 720.754 Q125.899 716.148 131.709 716.148 Z\" fill=\"#000000\" fill-rule=\"evenodd\" fill-opacity=\"1\" /><path clip-path=\"url(#clip730)\" d=\"M 0 0 M95.7373 440.9 Q92.1262 440.9 90.2975 444.465 Q88.4919 448.007 88.4919 455.136 Q88.4919 462.243 90.2975 465.808 Q92.1262 469.349 95.7373 469.349 Q99.3715 469.349 101.177 465.808 Q103.006 462.243 103.006 455.136 Q103.006 448.007 101.177 444.465 Q99.3715 440.9 95.7373 440.9 M95.7373 437.197 Q101.547 437.197 104.603 441.803 Q107.682 446.387 107.682 455.136 Q107.682 463.863 104.603 468.47 Q101.547 473.053 95.7373 473.053 Q89.9271 473.053 86.8484 468.47 Q83.7929 463.863 83.7929 455.136 Q83.7929 446.387 86.8484 441.803 Q89.9271 437.197 95.7373 437.197 Z\" fill=\"#000000\" fill-rule=\"evenodd\" fill-opacity=\"1\" /><path clip-path=\"url(#clip730)\" d=\"M 0 0 M112.751 466.502 L117.635 466.502 L117.635 472.382 L112.751 472.382 L112.751 466.502 Z\" fill=\"#000000\" fill-rule=\"evenodd\" fill-opacity=\"1\" /><path clip-path=\"url(#clip730)\" d=\"M 0 0 M122.751 437.822 L141.107 437.822 L141.107 441.757 L127.033 441.757 L127.033 450.229 Q128.052 449.882 129.07 449.72 Q130.089 449.535 131.107 449.535 Q136.894 449.535 140.274 452.706 Q143.654 455.877 143.654 461.294 Q143.654 466.873 140.181 469.974 Q136.709 473.053 130.39 473.053 Q128.214 473.053 125.945 472.683 Q123.7 472.312 121.293 471.572 L121.293 466.873 Q123.376 468.007 125.598 468.562 Q127.82 469.118 130.297 469.118 Q134.302 469.118 136.64 467.011 Q138.978 464.905 138.978 461.294 Q138.978 457.683 136.64 455.576 Q134.302 453.47 130.297 453.47 Q128.422 453.47 126.547 453.886 Q124.695 454.303 122.751 455.183 L122.751 437.822 Z\" fill=\"#000000\" fill-rule=\"evenodd\" fill-opacity=\"1\" /><path clip-path=\"url(#clip730)\" d=\"M 0 0 M86.779 189.496 L94.4178 189.496 L94.4178 163.13 L86.1077 164.797 L86.1077 160.538 L94.3715 158.871 L99.0474 158.871 L99.0474 189.496 L106.686 189.496 L106.686 193.431 L86.779 193.431 L86.779 189.496 Z\" fill=\"#000000\" fill-rule=\"evenodd\" fill-opacity=\"1\" /><path clip-path=\"url(#clip730)\" d=\"M 0 0 M111.756 187.551 L116.64 187.551 L116.64 193.431 L111.756 193.431 L111.756 187.551 Z\" fill=\"#000000\" fill-rule=\"evenodd\" fill-opacity=\"1\" /><path clip-path=\"url(#clip730)\" d=\"M 0 0 M131.709 161.95 Q128.098 161.95 126.27 165.514 Q124.464 169.056 124.464 176.186 Q124.464 183.292 126.27 186.857 Q128.098 190.399 131.709 190.399 Q135.344 190.399 137.149 186.857 Q138.978 183.292 138.978 176.186 Q138.978 169.056 137.149 165.514 Q135.344 161.95 131.709 161.95 M131.709 158.246 Q137.519 158.246 140.575 162.852 Q143.654 167.436 143.654 176.186 Q143.654 184.912 140.575 189.519 Q137.519 194.102 131.709 194.102 Q125.899 194.102 122.82 189.519 Q119.765 184.912 119.765 176.186 Q119.765 167.436 122.82 162.852 Q125.899 158.246 131.709 158.246 Z\" fill=\"#000000\" fill-rule=\"evenodd\" fill-opacity=\"1\" /><polyline clip-path=\"url(#clip732)\" style=\"stroke:#009af9; stroke-width:4; stroke-opacity:1; fill:none\" points=\"\n",
       "  1998.01,176.151 2235.77,455.102 2291.25,773.106 2160.48,1074.93 1871.28,1309.75 1477.57,1439.66 1049.41,1445.72 660.631,1330.61 376.133,1117.54 241.157,845.67 \n",
       "  274.163,562.982 464.501,317.856 775.094,150.838 1149.53,87.9763 1522.25,136.834 1829.93,285.752 2022.22,506.415 2069.9,759.155 1969.19,1000.05 1741.67,1188.49 \n",
       "  1429.82,1294.03 1089.19,1301.2 778.546,1211.75 549.796,1043.77 439.373,828.175 462.499,603.049 611.236,406.948 856.531,272.337 1153.79,220.256 1450.91,257.083 \n",
       "  1697.39,373.89 1852.86,548.421 1893.6,749.272 1816.14,941.511 1637.19,1092.72 1390.21,1178.41 1119.24,1185.99 871.055,1116.52 687.167,984.11 596.907,813.163 \n",
       "  612.81,633.896 728.988,477.034 922.682,368.57 1158.64,325.493 1395.48,353.163 1592.91,444.754 1718.56,582.778 1753.21,742.378 1693.7,895.775 1552.98,1017.08 \n",
       "  1357.41,1086.63 1141.87,1094.15 943.611,1040.23 795.815,935.883 722.094,800.351 732.759,657.615 823.464,532.155 976.389,444.782 1163.67,409.206 1352.44,429.921 \n",
       "  1510.56,501.717 1612.07,610.856 1641.41,737.664 1595.77,860.055 1485.14,957.353 1330.29,1013.77 1158.86,1020.94 1000.5,979.131 881.735,896.909 821.568,789.468 \n",
       "  828.47,675.829 899.254,575.498 1019.97,505.131 1168.6,475.791 1319.04,491.237 1445.66,547.497 1527.65,633.784 1552.4,734.528 1517.44,832.169 1430.49,910.201 \n",
       "  1307.89,955.947 1171.56,962.598 1045.09,930.197 949.671,865.423 900.602,780.26 904.832,689.796 960.043,609.57 1055.32,552.912 1173.27,528.749 1293.15,540.211 \n",
       "  1394.52,584.283 1460.72,652.494 1481.54,732.523 1454.8,810.411 1386.48,872.982 1289.44,910.058 1181.03,916.1 1080.03,891.013 1003.38,839.996 963.389,772.498 \n",
       "  \n",
       "  \"/>\n",
       "<path clip-path=\"url(#clip730)\" d=\"\n",
       "M1987.85 216.178 L2280.32 216.178 L2280.32 95.2176 L1987.85 95.2176  Z\n",
       "  \" fill=\"#ffffff\" fill-rule=\"evenodd\" fill-opacity=\"1\"/>\n",
       "<polyline clip-path=\"url(#clip730)\" style=\"stroke:#000000; stroke-width:4; stroke-opacity:1; fill:none\" points=\"\n",
       "  1987.85,216.178 2280.32,216.178 2280.32,95.2176 1987.85,95.2176 1987.85,216.178 \n",
       "  \"/>\n",
       "<polyline clip-path=\"url(#clip730)\" style=\"stroke:#009af9; stroke-width:4; stroke-opacity:1; fill:none\" points=\"\n",
       "  2011.99,155.698 2156.86,155.698 \n",
       "  \"/>\n",
       "<path clip-path=\"url(#clip730)\" d=\"M 0 0 M2194.85 175.385 Q2193.05 180.015 2191.33 181.427 Q2189.62 182.839 2186.75 182.839 L2183.35 182.839 L2183.35 179.274 L2185.85 179.274 Q2187.61 179.274 2188.58 178.44 Q2189.55 177.607 2190.73 174.505 L2191.5 172.561 L2181.01 147.052 L2185.52 147.052 L2193.63 167.329 L2201.73 147.052 L2206.24 147.052 L2194.85 175.385 Z\" fill=\"#000000\" fill-rule=\"evenodd\" fill-opacity=\"1\" /><path clip-path=\"url(#clip730)\" d=\"M 0 0 M2212.12 169.042 L2219.76 169.042 L2219.76 142.677 L2211.45 144.343 L2211.45 140.084 L2219.71 138.418 L2224.39 138.418 L2224.39 169.042 L2232.03 169.042 L2232.03 172.978 L2212.12 172.978 L2212.12 169.042 Z\" fill=\"#000000\" fill-rule=\"evenodd\" fill-opacity=\"1\" /></svg>\n"
      ]
     },
     "execution_count": 112,
     "metadata": {},
     "output_type": "execute_result"
    }
   ],
   "source": [
    "plot_trajectory([0.9 0.4; -0.4 0.9])"
   ]
  },
  {
   "cell_type": "code",
   "execution_count": null,
   "metadata": {},
   "outputs": [],
   "source": []
  },
  {
   "cell_type": "markdown",
   "metadata": {},
   "source": [
    "### Every system is first order\n",
    "Suppose\n",
    "$$\n",
    "x_t = a_1 x_{t-1} + a_2 x_{t-2}.\n",
    "$$\n",
    "Stack a vector\n",
    "$$\n",
    "\\mathbf x_t = \\begin{pmatrix}\n",
    "x_t \\\\\n",
    "x_{t-1}\n",
    "\\end{pmatrix}\n",
    "$$\n",
    "$$\n",
    "\\mathbf A =\n",
    "\\begin{bmatrix}\n",
    "a_1 & a_2\\\\\n",
    "1 & 0\n",
    "\\end{bmatrix}\n",
    "$$\n",
    "$$\n",
    "x_t = a_1 x_{t-1} + a_2z_{t-1} = a_1 x_{t-1} + a_2x_{t-2} \n",
    "$$\n",
    "$$\n",
    "z_t = x_{t-1}\n",
    "$$\n",
    "We can write\n",
    "$$\n",
    "\\mathbf x_t =\n",
    "\\mathbf A \\mathbf x_{t-1}\n",
    "$$\n"
   ]
  },
  {
   "cell_type": "code",
   "execution_count": null,
   "metadata": {},
   "outputs": [],
   "source": []
  },
  {
   "cell_type": "markdown",
   "metadata": {},
   "source": [
    "### Eigenvalues and stability properties\n",
    "$$\n",
    "\\mathbf x_t = \n",
    "\\mathbf A \\mathbf x_{t-1}+\\mathbf b\n",
    "$$\n",
    "set $\\mathbf b =0$.\n",
    "$$\n",
    "\\mathbf x_t = \\mathbf A^2 \\mathbf x_{t-2} = \\mathbf A^t \\mathbf x_0\n",
    "$$\n",
    "$$\n",
    "y = X\\beta\n",
    "$$\n",
    "$$\n",
    "\\mathbf x =\n",
    "\\begin{bmatrix}\n",
    "x_{1t} & x_{1t+1} & ...\\\\\n",
    "x_{2t} & x_{2t+1} & ...\n",
    "\\end{bmatrix}\n",
    "$$\n",
    "\n",
    "$A$ has an eigenvalue decomposition\n",
    "$$\n",
    "\\mathbf A = \n",
    "\\mathbf Q\n",
    "\\mathbf \\Lambda\n",
    "\\mathbf Q^{-1}\n",
    "$$\n",
    "$$\n",
    "\\mathbf v_t = \\mathbf Q^{-1} \\mathbf x_t\n",
    "$$\n",
    "$$\n",
    "\\mathbf v_t = \\mathbf\\Lambda \\mathbf v_{t-1}\n",
    "$$"
   ]
  },
  {
   "cell_type": "markdown",
   "metadata": {},
   "source": [
    "Why complex eigenvalues lead to cycles?\n",
    "$l+mi$, another notation\n",
    "$$\n",
    "re^{i\\theta} =\n",
    "r\\left[\n",
    "1 +i\\theta -\\frac12 \\theta^2 - \\frac16 i\\theta^3 + ... \n",
    "\\right]\n",
    "=r\\left[\n",
    "1 - \\frac12 \\theta^2 +...\n",
    "\\right]\n",
    "+ri \\left[\n",
    "\\theta - \\frac16 \\theta^3 + ...\n",
    "\\right]\n",
    "$$\n",
    "Note that for complex conjugates $l\\pm mi$\n",
    "$$\n",
    "r e^{\\pm i\\theta}\n",
    "$$\n",
    "\n",
    "Recall that solution\n",
    "$$\n",
    "x_t = c_1 \\lambda_1^t + c_2 \\lambda_2^t = \n",
    "r^t\\left[\n",
    "c_1 e^{i\\theta t} +\n",
    "c_2 e^{-i \\theta t}\n",
    "\\right] = \n",
    "2 r^t \\cos(\\theta t)\n",
    "$$\n",
    "if $c_1 = c_2 = 1$. (For other values, we will need to combine cosine and sine.)"
   ]
  },
  {
   "cell_type": "code",
   "execution_count": 107,
   "metadata": {},
   "outputs": [
    {
     "data": {
      "text/plain": [
       "2×2 Array{Float64,2}:\n",
       " 0.9  -0.1\n",
       " 0.1   0.9"
      ]
     },
     "execution_count": 107,
     "metadata": {},
     "output_type": "execute_result"
    }
   ],
   "source": [
    "A"
   ]
  },
  {
   "cell_type": "code",
   "execution_count": 108,
   "metadata": {},
   "outputs": [
    {
     "data": {
      "text/plain": [
       "2-element Array{Complex{Float64},1}:\n",
       " 0.9 - 0.1im\n",
       " 0.9 + 0.1im"
      ]
     },
     "execution_count": 108,
     "metadata": {},
     "output_type": "execute_result"
    }
   ],
   "source": [
    "using LinearAlgebra\n",
    "eigvals(A)"
   ]
  },
  {
   "cell_type": "code",
   "execution_count": 109,
   "metadata": {},
   "outputs": [
    {
     "data": {
      "text/plain": [
       "2-element Array{Float64,1}:\n",
       " 1.0\n",
       " 1.0"
      ]
     },
     "execution_count": 109,
     "metadata": {},
     "output_type": "execute_result"
    }
   ],
   "source": [
    "eigvals([1 0; 0 1])"
   ]
  },
  {
   "cell_type": "markdown",
   "metadata": {},
   "source": [
    "## Exercise (algebra)\n",
    "$$\n",
    "\\mathbf A =\n",
    "\\begin{bmatrix}\n",
    "a_1 & a_2\\\\\n",
    "1 & 0\n",
    "\\end{bmatrix}\n",
    "$$\n",
    "\n",
    "> Show that the eigenvalues of the $\\mathbf A$ matrix of the 2-dimensional system are the same as the roots of the characteristic equation of the 2nd-order system.\n",
    "> \n",
    "> *Hint:* If $\\mu_i$ is an eigenvalue of $\\mathbf A$, then $\\text{det}(\\mathbf A - \\mu_i \\mathbf I)=0$. Solve for $\\mu_1$ and $\\mu_2$ and show that $\\mu_1+\\mu_2 = a_1$ and $\\mu_1 \\mu_2 = -a_2$ just like with $\\lambda_1$ and $\\lambda_2$.\n"
   ]
  },
  {
   "cell_type": "markdown",
   "metadata": {},
   "source": [
    "$$\n",
    "\\det (\\mathbf A-\\mu\\mathbf I) = 0\n",
    "$$\n",
    "$$\n",
    "(a_1 - \\mu 1)(0-\\mu1) - a_21 = 0\n",
    "$$\n",
    "$$\n",
    "-(a_1 - \\mu)\\mu - a_2 =0\n",
    "$$\n",
    "$$\n",
    "\\mu = \\frac{a_1 \\pm \\sqrt{a_1^2 + 4a_2}}{2}\n",
    "$$\n",
    "$$\n",
    "\\mu_1+\\mu_2 =\n",
    "a_1\n",
    "$$\n",
    "good!\n",
    "$$\n",
    "\\mu_1\\mu_2 = \\frac14 a_1^2\n",
    "- \\frac14(a_1^2+4a_2) = -a_2\n",
    "$$\n",
    "also good!\n"
   ]
  },
  {
   "cell_type": "markdown",
   "metadata": {},
   "source": [
    "## Stochastic difference equations\n",
    "$$\n",
    "\\mathbf x_{t} = \\mathbf A\n",
    "\\mathbf x_{t-1} + \\mathbf B \\mathbf w_t\n",
    "$$\n",
    "$\\mathbf x$ is $N\\times 1$, $\\mathbf A$ is $N \\times N$, $\\mathbf w$ is $K \\times 1$ and random, $\\mathbf B$ is $N \\times K$\n",
    "\n",
    "$\\mathbf w$ is white noise\n",
    "\n",
    "$\\mathbf w_t$ is independent of $\\mathbf x_{t-s}$ (and $\\mathbf w_{t-s}$) for all $s>0$\n",
    "$$\n",
    "E(w_t) = 0\n",
    "$$\n",
    "$$\n",
    "E(\\mathbf w_t \\mathbf w_t') = \\mathbf I\n",
    "$$\n",
    "Variance of $\\mathbf x_t$ conditional on $t-1$:\n",
    "$$\n",
    "\\text{Var}_{t-1}(\\mathbf x_t) =\n",
    "E_{t-1}(\\mathbf x_t \\mathbf x_t') - \n",
    "E_{t-1}(\\mathbf x_t)E_{t-1}(\\mathbf x_t)'\n",
    "$$\n",
    "$$\n",
    "E_{t-1}(\\mathbf x_t) = \\mathbf A\n",
    "\\mathbf x_{t-1}\n",
    "$$\n",
    "$$\n",
    "\\text{Var}_{t-1}(\\mathbf x_t) = \n",
    "\\mathbf B\n",
    "E(\\mathbf w_t \\mathbf w_t')\n",
    "\\mathbf B' = \\mathbf {BB}'\n",
    "$$\n"
   ]
  },
  {
   "cell_type": "code",
   "execution_count": 121,
   "metadata": {},
   "outputs": [
    {
     "data": {
      "text/plain": [
       "10000-element Array{Float64,1}:\n",
       " 0.28092058313623736\n",
       " 0.7137976491232223\n",
       " 0.05110896816976673\n",
       " 0.7607487540481053\n",
       " 0.9418246125741128\n",
       " 0.22997117288398172\n",
       " 0.5243034549453893\n",
       " 0.13121130057798203\n",
       " 0.18693117120173697\n",
       " 0.7782496576691653\n",
       " 0.4530451006949978\n",
       " 0.7080843382625308\n",
       " 0.9904120857211558\n",
       " ⋮\n",
       " 0.4252815977210178\n",
       " 0.27663301987541744\n",
       " 0.7277238741918237\n",
       " 0.9674717787273561\n",
       " 0.4157182323178048\n",
       " 0.09258614909260454\n",
       " 0.6201973053874936\n",
       " 0.5291140792601545\n",
       " 0.47157397487306385\n",
       " 0.893592542285699\n",
       " 0.4638480342351208\n",
       " 0.8248412238171445"
      ]
     },
     "execution_count": 121,
     "metadata": {},
     "output_type": "execute_result"
    }
   ],
   "source": [
    "using Random\n",
    "w = rand((10000 ))"
   ]
  },
  {
   "cell_type": "code",
   "execution_count": 122,
   "metadata": {},
   "outputs": [
    {
     "data": {
      "image/svg+xml": [
       "<?xml version=\"1.0\" encoding=\"utf-8\"?>\n",
       "<svg xmlns=\"http://www.w3.org/2000/svg\" xmlns:xlink=\"http://www.w3.org/1999/xlink\" width=\"600\" height=\"400\" viewBox=\"0 0 2400 1600\">\n",
       "<defs>\n",
       "  <clipPath id=\"clip850\">\n",
       "    <rect x=\"0\" y=\"0\" width=\"2400\" height=\"1600\"/>\n",
       "  </clipPath>\n",
       "</defs>\n",
       "<path clip-path=\"url(#clip850)\" d=\"\n",
       "M0 1600 L2400 1600 L2400 0 L0 0  Z\n",
       "  \" fill=\"#ffffff\" fill-rule=\"evenodd\" fill-opacity=\"1\"/>\n",
       "<defs>\n",
       "  <clipPath id=\"clip851\">\n",
       "    <rect x=\"480\" y=\"0\" width=\"1681\" height=\"1600\"/>\n",
       "  </clipPath>\n",
       "</defs>\n",
       "<path clip-path=\"url(#clip850)\" d=\"\n",
       "M166.205 1486.45 L2352.76 1486.45 L2352.76 47.2441 L166.205 47.2441  Z\n",
       "  \" fill=\"#ffffff\" fill-rule=\"evenodd\" fill-opacity=\"1\"/>\n",
       "<defs>\n",
       "  <clipPath id=\"clip852\">\n",
       "    <rect x=\"166\" y=\"47\" width=\"2188\" height=\"1440\"/>\n",
       "  </clipPath>\n",
       "</defs>\n",
       "<polyline clip-path=\"url(#clip852)\" style=\"stroke:#000000; stroke-width:2; stroke-opacity:0.1; fill:none\" points=\"\n",
       "  286.469,1486.45 286.469,47.2441 \n",
       "  \"/>\n",
       "<polyline clip-path=\"url(#clip852)\" style=\"stroke:#000000; stroke-width:2; stroke-opacity:0.1; fill:none\" points=\"\n",
       "  772.975,1486.45 772.975,47.2441 \n",
       "  \"/>\n",
       "<polyline clip-path=\"url(#clip852)\" style=\"stroke:#000000; stroke-width:2; stroke-opacity:0.1; fill:none\" points=\"\n",
       "  1259.48,1486.45 1259.48,47.2441 \n",
       "  \"/>\n",
       "<polyline clip-path=\"url(#clip852)\" style=\"stroke:#000000; stroke-width:2; stroke-opacity:0.1; fill:none\" points=\"\n",
       "  1745.99,1486.45 1745.99,47.2441 \n",
       "  \"/>\n",
       "<polyline clip-path=\"url(#clip852)\" style=\"stroke:#000000; stroke-width:2; stroke-opacity:0.1; fill:none\" points=\"\n",
       "  2232.49,1486.45 2232.49,47.2441 \n",
       "  \"/>\n",
       "<polyline clip-path=\"url(#clip850)\" style=\"stroke:#000000; stroke-width:4; stroke-opacity:1; fill:none\" points=\"\n",
       "  166.205,1486.45 2352.76,1486.45 \n",
       "  \"/>\n",
       "<polyline clip-path=\"url(#clip850)\" style=\"stroke:#000000; stroke-width:4; stroke-opacity:1; fill:none\" points=\"\n",
       "  286.469,1486.45 286.469,1469.18 \n",
       "  \"/>\n",
       "<polyline clip-path=\"url(#clip850)\" style=\"stroke:#000000; stroke-width:4; stroke-opacity:1; fill:none\" points=\"\n",
       "  772.975,1486.45 772.975,1469.18 \n",
       "  \"/>\n",
       "<polyline clip-path=\"url(#clip850)\" style=\"stroke:#000000; stroke-width:4; stroke-opacity:1; fill:none\" points=\"\n",
       "  1259.48,1486.45 1259.48,1469.18 \n",
       "  \"/>\n",
       "<polyline clip-path=\"url(#clip850)\" style=\"stroke:#000000; stroke-width:4; stroke-opacity:1; fill:none\" points=\"\n",
       "  1745.99,1486.45 1745.99,1469.18 \n",
       "  \"/>\n",
       "<polyline clip-path=\"url(#clip850)\" style=\"stroke:#000000; stroke-width:4; stroke-opacity:1; fill:none\" points=\"\n",
       "  2232.49,1486.45 2232.49,1469.18 \n",
       "  \"/>\n",
       "<path clip-path=\"url(#clip850)\" d=\"M 0 0 M254.478 1515.64 Q250.867 1515.64 249.039 1519.2 Q247.233 1522.75 247.233 1529.87 Q247.233 1536.98 249.039 1540.55 Q250.867 1544.09 254.478 1544.09 Q258.113 1544.09 259.918 1540.55 Q261.747 1536.98 261.747 1529.87 Q261.747 1522.75 259.918 1519.2 Q258.113 1515.64 254.478 1515.64 M254.478 1511.93 Q260.288 1511.93 263.344 1516.54 Q266.423 1521.12 266.423 1529.87 Q266.423 1538.6 263.344 1543.21 Q260.288 1547.79 254.478 1547.79 Q248.668 1547.79 245.589 1543.21 Q242.534 1538.6 242.534 1529.87 Q242.534 1521.12 245.589 1516.54 Q248.668 1511.93 254.478 1511.93 Z\" fill=\"#000000\" fill-rule=\"evenodd\" fill-opacity=\"1\" /><path clip-path=\"url(#clip850)\" d=\"M 0 0 M271.492 1541.24 L276.376 1541.24 L276.376 1547.12 L271.492 1547.12 L271.492 1541.24 Z\" fill=\"#000000\" fill-rule=\"evenodd\" fill-opacity=\"1\" /><path clip-path=\"url(#clip850)\" d=\"M 0 0 M291.446 1515.64 Q287.835 1515.64 286.006 1519.2 Q284.2 1522.75 284.2 1529.87 Q284.2 1536.98 286.006 1540.55 Q287.835 1544.09 291.446 1544.09 Q295.08 1544.09 296.885 1540.55 Q298.714 1536.98 298.714 1529.87 Q298.714 1522.75 296.885 1519.2 Q295.08 1515.64 291.446 1515.64 M291.446 1511.93 Q297.256 1511.93 300.311 1516.54 Q303.39 1521.12 303.39 1529.87 Q303.39 1538.6 300.311 1543.21 Q297.256 1547.79 291.446 1547.79 Q285.636 1547.79 282.557 1543.21 Q279.501 1538.6 279.501 1529.87 Q279.501 1521.12 282.557 1516.54 Q285.636 1511.93 291.446 1511.93 Z\" fill=\"#000000\" fill-rule=\"evenodd\" fill-opacity=\"1\" /><path clip-path=\"url(#clip850)\" d=\"M 0 0 M318.459 1515.64 Q314.848 1515.64 313.02 1519.2 Q311.214 1522.75 311.214 1529.87 Q311.214 1536.98 313.02 1540.55 Q314.848 1544.09 318.459 1544.09 Q322.094 1544.09 323.899 1540.55 Q325.728 1536.98 325.728 1529.87 Q325.728 1522.75 323.899 1519.2 Q322.094 1515.64 318.459 1515.64 M318.459 1511.93 Q324.27 1511.93 327.325 1516.54 Q330.404 1521.12 330.404 1529.87 Q330.404 1538.6 327.325 1543.21 Q324.27 1547.79 318.459 1547.79 Q312.649 1547.79 309.571 1543.21 Q306.515 1538.6 306.515 1529.87 Q306.515 1521.12 309.571 1516.54 Q312.649 1511.93 318.459 1511.93 Z\" fill=\"#000000\" fill-rule=\"evenodd\" fill-opacity=\"1\" /><path clip-path=\"url(#clip850)\" d=\"M 0 0 M742.28 1515.64 Q738.669 1515.64 736.841 1519.2 Q735.035 1522.75 735.035 1529.87 Q735.035 1536.98 736.841 1540.55 Q738.669 1544.09 742.28 1544.09 Q745.915 1544.09 747.72 1540.55 Q749.549 1536.98 749.549 1529.87 Q749.549 1522.75 747.72 1519.2 Q745.915 1515.64 742.28 1515.64 M742.28 1511.93 Q748.09 1511.93 751.146 1516.54 Q754.225 1521.12 754.225 1529.87 Q754.225 1538.6 751.146 1543.21 Q748.09 1547.79 742.28 1547.79 Q736.47 1547.79 733.391 1543.21 Q730.336 1538.6 730.336 1529.87 Q730.336 1521.12 733.391 1516.54 Q736.47 1511.93 742.28 1511.93 Z\" fill=\"#000000\" fill-rule=\"evenodd\" fill-opacity=\"1\" /><path clip-path=\"url(#clip850)\" d=\"M 0 0 M759.294 1541.24 L764.178 1541.24 L764.178 1547.12 L759.294 1547.12 L759.294 1541.24 Z\" fill=\"#000000\" fill-rule=\"evenodd\" fill-opacity=\"1\" /><path clip-path=\"url(#clip850)\" d=\"M 0 0 M773.276 1543.18 L789.595 1543.18 L789.595 1547.12 L767.651 1547.12 L767.651 1543.18 Q770.313 1540.43 774.896 1535.8 Q779.502 1531.15 780.683 1529.81 Q782.928 1527.28 783.808 1525.55 Q784.711 1523.79 784.711 1522.1 Q784.711 1519.34 782.766 1517.61 Q780.845 1515.87 777.743 1515.87 Q775.544 1515.87 773.09 1516.63 Q770.66 1517.4 767.882 1518.95 L767.882 1514.23 Q770.706 1513.09 773.16 1512.51 Q775.613 1511.93 777.65 1511.93 Q783.021 1511.93 786.215 1514.62 Q789.41 1517.31 789.41 1521.8 Q789.41 1523.93 788.599 1525.85 Q787.812 1527.74 785.706 1530.34 Q785.127 1531.01 782.025 1534.23 Q778.924 1537.42 773.276 1543.18 Z\" fill=\"#000000\" fill-rule=\"evenodd\" fill-opacity=\"1\" /><path clip-path=\"url(#clip850)\" d=\"M 0 0 M794.711 1512.56 L813.067 1512.56 L813.067 1516.5 L798.993 1516.5 L798.993 1524.97 Q800.011 1524.62 801.03 1524.46 Q802.048 1524.27 803.067 1524.27 Q808.854 1524.27 812.234 1527.44 Q815.613 1530.62 815.613 1536.03 Q815.613 1541.61 812.141 1544.71 Q808.669 1547.79 802.349 1547.79 Q800.174 1547.79 797.905 1547.42 Q795.66 1547.05 793.252 1546.31 L793.252 1541.61 Q795.336 1542.74 797.558 1543.3 Q799.78 1543.86 802.257 1543.86 Q806.261 1543.86 808.599 1541.75 Q810.937 1539.64 810.937 1536.03 Q810.937 1532.42 808.599 1530.31 Q806.261 1528.21 802.257 1528.21 Q800.382 1528.21 798.507 1528.62 Q796.655 1529.04 794.711 1529.92 L794.711 1512.56 Z\" fill=\"#000000\" fill-rule=\"evenodd\" fill-opacity=\"1\" /><path clip-path=\"url(#clip850)\" d=\"M 0 0 M1227.99 1515.64 Q1224.38 1515.64 1222.55 1519.2 Q1220.74 1522.75 1220.74 1529.87 Q1220.74 1536.98 1222.55 1540.55 Q1224.38 1544.09 1227.99 1544.09 Q1231.62 1544.09 1233.43 1540.55 Q1235.26 1536.98 1235.26 1529.87 Q1235.26 1522.75 1233.43 1519.2 Q1231.62 1515.64 1227.99 1515.64 M1227.99 1511.93 Q1233.8 1511.93 1236.85 1516.54 Q1239.93 1521.12 1239.93 1529.87 Q1239.93 1538.6 1236.85 1543.21 Q1233.8 1547.79 1227.99 1547.79 Q1222.18 1547.79 1219.1 1543.21 Q1216.04 1538.6 1216.04 1529.87 Q1216.04 1521.12 1219.1 1516.54 Q1222.18 1511.93 1227.99 1511.93 Z\" fill=\"#000000\" fill-rule=\"evenodd\" fill-opacity=\"1\" /><path clip-path=\"url(#clip850)\" d=\"M 0 0 M1245 1541.24 L1249.89 1541.24 L1249.89 1547.12 L1245 1547.12 L1245 1541.24 Z\" fill=\"#000000\" fill-rule=\"evenodd\" fill-opacity=\"1\" /><path clip-path=\"url(#clip850)\" d=\"M 0 0 M1255 1512.56 L1273.36 1512.56 L1273.36 1516.5 L1259.28 1516.5 L1259.28 1524.97 Q1260.3 1524.62 1261.32 1524.46 Q1262.34 1524.27 1263.36 1524.27 Q1269.14 1524.27 1272.52 1527.44 Q1275.9 1530.62 1275.9 1536.03 Q1275.9 1541.61 1272.43 1544.71 Q1268.96 1547.79 1262.64 1547.79 Q1260.46 1547.79 1258.2 1547.42 Q1255.95 1547.05 1253.54 1546.31 L1253.54 1541.61 Q1255.63 1542.74 1257.85 1543.3 Q1260.07 1543.86 1262.55 1543.86 Q1266.55 1543.86 1268.89 1541.75 Q1271.23 1539.64 1271.23 1536.03 Q1271.23 1532.42 1268.89 1530.31 Q1266.55 1528.21 1262.55 1528.21 Q1260.67 1528.21 1258.8 1528.62 Q1256.95 1529.04 1255 1529.92 L1255 1512.56 Z\" fill=\"#000000\" fill-rule=\"evenodd\" fill-opacity=\"1\" /><path clip-path=\"url(#clip850)\" d=\"M 0 0 M1290.97 1515.64 Q1287.36 1515.64 1285.53 1519.2 Q1283.73 1522.75 1283.73 1529.87 Q1283.73 1536.98 1285.53 1540.55 Q1287.36 1544.09 1290.97 1544.09 Q1294.61 1544.09 1296.41 1540.55 Q1298.24 1536.98 1298.24 1529.87 Q1298.24 1522.75 1296.41 1519.2 Q1294.61 1515.64 1290.97 1515.64 M1290.97 1511.93 Q1296.78 1511.93 1299.84 1516.54 Q1302.92 1521.12 1302.92 1529.87 Q1302.92 1538.6 1299.84 1543.21 Q1296.78 1547.79 1290.97 1547.79 Q1285.16 1547.79 1282.08 1543.21 Q1279.03 1538.6 1279.03 1529.87 Q1279.03 1521.12 1282.08 1516.54 Q1285.16 1511.93 1290.97 1511.93 Z\" fill=\"#000000\" fill-rule=\"evenodd\" fill-opacity=\"1\" /><path clip-path=\"url(#clip850)\" d=\"M 0 0 M1714.94 1515.64 Q1711.33 1515.64 1709.5 1519.2 Q1707.7 1522.75 1707.7 1529.87 Q1707.7 1536.98 1709.5 1540.55 Q1711.33 1544.09 1714.94 1544.09 Q1718.58 1544.09 1720.38 1540.55 Q1722.21 1536.98 1722.21 1529.87 Q1722.21 1522.75 1720.38 1519.2 Q1718.58 1515.64 1714.94 1515.64 M1714.94 1511.93 Q1720.75 1511.93 1723.81 1516.54 Q1726.89 1521.12 1726.89 1529.87 Q1726.89 1538.6 1723.81 1543.21 Q1720.75 1547.79 1714.94 1547.79 Q1709.13 1547.79 1706.06 1543.21 Q1703 1538.6 1703 1529.87 Q1703 1521.12 1706.06 1516.54 Q1709.13 1511.93 1714.94 1511.93 Z\" fill=\"#000000\" fill-rule=\"evenodd\" fill-opacity=\"1\" /><path clip-path=\"url(#clip850)\" d=\"M 0 0 M1731.96 1541.24 L1736.84 1541.24 L1736.84 1547.12 L1731.96 1547.12 L1731.96 1541.24 Z\" fill=\"#000000\" fill-rule=\"evenodd\" fill-opacity=\"1\" /><path clip-path=\"url(#clip850)\" d=\"M 0 0 M1740.73 1512.56 L1762.95 1512.56 L1762.95 1514.55 L1750.41 1547.12 L1745.52 1547.12 L1757.33 1516.5 L1740.73 1516.5 L1740.73 1512.56 Z\" fill=\"#000000\" fill-rule=\"evenodd\" fill-opacity=\"1\" /><path clip-path=\"url(#clip850)\" d=\"M 0 0 M1768.07 1512.56 L1786.43 1512.56 L1786.43 1516.5 L1772.35 1516.5 L1772.35 1524.97 Q1773.37 1524.62 1774.39 1524.46 Q1775.41 1524.27 1776.43 1524.27 Q1782.21 1524.27 1785.59 1527.44 Q1788.97 1530.62 1788.97 1536.03 Q1788.97 1541.61 1785.5 1544.71 Q1782.03 1547.79 1775.71 1547.79 Q1773.53 1547.79 1771.26 1547.42 Q1769.02 1547.05 1766.61 1546.31 L1766.61 1541.61 Q1768.69 1542.74 1770.92 1543.3 Q1773.14 1543.86 1775.62 1543.86 Q1779.62 1543.86 1781.96 1541.75 Q1784.3 1539.64 1784.3 1536.03 Q1784.3 1532.42 1781.96 1530.31 Q1779.62 1528.21 1775.62 1528.21 Q1773.74 1528.21 1771.87 1528.62 Q1770.01 1529.04 1768.07 1529.92 L1768.07 1512.56 Z\" fill=\"#000000\" fill-rule=\"evenodd\" fill-opacity=\"1\" /><path clip-path=\"url(#clip850)\" d=\"M 0 0 M2190.88 1543.18 L2198.52 1543.18 L2198.52 1516.82 L2190.21 1518.49 L2190.21 1514.23 L2198.48 1512.56 L2203.15 1512.56 L2203.15 1543.18 L2210.79 1543.18 L2210.79 1547.12 L2190.88 1547.12 L2190.88 1543.18 Z\" fill=\"#000000\" fill-rule=\"evenodd\" fill-opacity=\"1\" /><path clip-path=\"url(#clip850)\" d=\"M 0 0 M2215.86 1541.24 L2220.74 1541.24 L2220.74 1547.12 L2215.86 1547.12 L2215.86 1541.24 Z\" fill=\"#000000\" fill-rule=\"evenodd\" fill-opacity=\"1\" /><path clip-path=\"url(#clip850)\" d=\"M 0 0 M2235.81 1515.64 Q2232.2 1515.64 2230.37 1519.2 Q2228.57 1522.75 2228.57 1529.87 Q2228.57 1536.98 2230.37 1540.55 Q2232.2 1544.09 2235.81 1544.09 Q2239.45 1544.09 2241.25 1540.55 Q2243.08 1536.98 2243.08 1529.87 Q2243.08 1522.75 2241.25 1519.2 Q2239.45 1515.64 2235.81 1515.64 M2235.81 1511.93 Q2241.62 1511.93 2244.68 1516.54 Q2247.76 1521.12 2247.76 1529.87 Q2247.76 1538.6 2244.68 1543.21 Q2241.62 1547.79 2235.81 1547.79 Q2230 1547.79 2226.92 1543.21 Q2223.87 1538.6 2223.87 1529.87 Q2223.87 1521.12 2226.92 1516.54 Q2230 1511.93 2235.81 1511.93 Z\" fill=\"#000000\" fill-rule=\"evenodd\" fill-opacity=\"1\" /><path clip-path=\"url(#clip850)\" d=\"M 0 0 M2262.83 1515.64 Q2259.22 1515.64 2257.39 1519.2 Q2255.58 1522.75 2255.58 1529.87 Q2255.58 1536.98 2257.39 1540.55 Q2259.22 1544.09 2262.83 1544.09 Q2266.46 1544.09 2268.27 1540.55 Q2270.1 1536.98 2270.1 1529.87 Q2270.1 1522.75 2268.27 1519.2 Q2266.46 1515.64 2262.83 1515.64 M2262.83 1511.93 Q2268.64 1511.93 2271.69 1516.54 Q2274.77 1521.12 2274.77 1529.87 Q2274.77 1538.6 2271.69 1543.21 Q2268.64 1547.79 2262.83 1547.79 Q2257.02 1547.79 2253.94 1543.21 Q2250.88 1538.6 2250.88 1529.87 Q2250.88 1521.12 2253.94 1516.54 Q2257.02 1511.93 2262.83 1511.93 Z\" fill=\"#000000\" fill-rule=\"evenodd\" fill-opacity=\"1\" /><polyline clip-path=\"url(#clip852)\" style=\"stroke:#000000; stroke-width:2; stroke-opacity:0.1; fill:none\" points=\"\n",
       "  166.205,1445.72 2352.76,1445.72 \n",
       "  \"/>\n",
       "<polyline clip-path=\"url(#clip852)\" style=\"stroke:#000000; stroke-width:2; stroke-opacity:0.1; fill:none\" points=\"\n",
       "  166.205,1193.82 2352.76,1193.82 \n",
       "  \"/>\n",
       "<polyline clip-path=\"url(#clip852)\" style=\"stroke:#000000; stroke-width:2; stroke-opacity:0.1; fill:none\" points=\"\n",
       "  166.205,941.916 2352.76,941.916 \n",
       "  \"/>\n",
       "<polyline clip-path=\"url(#clip852)\" style=\"stroke:#000000; stroke-width:2; stroke-opacity:0.1; fill:none\" points=\"\n",
       "  166.205,690.017 2352.76,690.017 \n",
       "  \"/>\n",
       "<polyline clip-path=\"url(#clip852)\" style=\"stroke:#000000; stroke-width:2; stroke-opacity:0.1; fill:none\" points=\"\n",
       "  166.205,438.117 2352.76,438.117 \n",
       "  \"/>\n",
       "<polyline clip-path=\"url(#clip852)\" style=\"stroke:#000000; stroke-width:2; stroke-opacity:0.1; fill:none\" points=\"\n",
       "  166.205,186.217 2352.76,186.217 \n",
       "  \"/>\n",
       "<polyline clip-path=\"url(#clip850)\" style=\"stroke:#000000; stroke-width:4; stroke-opacity:1; fill:none\" points=\"\n",
       "  166.205,1486.45 166.205,47.2441 \n",
       "  \"/>\n",
       "<polyline clip-path=\"url(#clip850)\" style=\"stroke:#000000; stroke-width:4; stroke-opacity:1; fill:none\" points=\"\n",
       "  166.205,1445.72 192.443,1445.72 \n",
       "  \"/>\n",
       "<polyline clip-path=\"url(#clip850)\" style=\"stroke:#000000; stroke-width:4; stroke-opacity:1; fill:none\" points=\"\n",
       "  166.205,1193.82 192.443,1193.82 \n",
       "  \"/>\n",
       "<polyline clip-path=\"url(#clip850)\" style=\"stroke:#000000; stroke-width:4; stroke-opacity:1; fill:none\" points=\"\n",
       "  166.205,941.916 192.443,941.916 \n",
       "  \"/>\n",
       "<polyline clip-path=\"url(#clip850)\" style=\"stroke:#000000; stroke-width:4; stroke-opacity:1; fill:none\" points=\"\n",
       "  166.205,690.017 192.443,690.017 \n",
       "  \"/>\n",
       "<polyline clip-path=\"url(#clip850)\" style=\"stroke:#000000; stroke-width:4; stroke-opacity:1; fill:none\" points=\"\n",
       "  166.205,438.117 192.443,438.117 \n",
       "  \"/>\n",
       "<polyline clip-path=\"url(#clip850)\" style=\"stroke:#000000; stroke-width:4; stroke-opacity:1; fill:none\" points=\"\n",
       "  166.205,186.217 192.443,186.217 \n",
       "  \"/>\n",
       "<path clip-path=\"url(#clip850)\" d=\"M 0 0 M118.26 1431.51 Q114.649 1431.51 112.82 1435.08 Q111.015 1438.62 111.015 1445.75 Q111.015 1452.86 112.82 1456.42 Q114.649 1459.96 118.26 1459.96 Q121.895 1459.96 123.7 1456.42 Q125.529 1452.86 125.529 1445.75 Q125.529 1438.62 123.7 1435.08 Q121.895 1431.51 118.26 1431.51 M118.26 1427.81 Q124.07 1427.81 127.126 1432.42 Q130.205 1437 130.205 1445.75 Q130.205 1454.48 127.126 1459.08 Q124.07 1463.67 118.26 1463.67 Q112.45 1463.67 109.371 1459.08 Q106.316 1454.48 106.316 1445.75 Q106.316 1437 109.371 1432.42 Q112.45 1427.81 118.26 1427.81 Z\" fill=\"#000000\" fill-rule=\"evenodd\" fill-opacity=\"1\" /><path clip-path=\"url(#clip850)\" d=\"M 0 0 M56.2699 1207.16 L63.9087 1207.16 L63.9087 1180.8 L55.5986 1182.46 L55.5986 1178.2 L63.8624 1176.54 L68.5383 1176.54 L68.5383 1207.16 L76.1772 1207.16 L76.1772 1211.1 L56.2699 1211.1 L56.2699 1207.16 Z\" fill=\"#000000\" fill-rule=\"evenodd\" fill-opacity=\"1\" /><path clip-path=\"url(#clip850)\" d=\"M 0 0 M91.2465 1179.61 Q87.6354 1179.61 85.8068 1183.18 Q84.0012 1186.72 84.0012 1193.85 Q84.0012 1200.96 85.8068 1204.52 Q87.6354 1208.06 91.2465 1208.06 Q94.8808 1208.06 96.6863 1204.52 Q98.515 1200.96 98.515 1193.85 Q98.515 1186.72 96.6863 1183.18 Q94.8808 1179.61 91.2465 1179.61 M91.2465 1175.91 Q97.0567 1175.91 100.112 1180.52 Q103.191 1185.1 103.191 1193.85 Q103.191 1202.58 100.112 1207.18 Q97.0567 1211.77 91.2465 1211.77 Q85.4364 1211.77 82.3577 1207.18 Q79.3022 1202.58 79.3022 1193.85 Q79.3022 1185.1 82.3577 1180.52 Q85.4364 1175.91 91.2465 1175.91 Z\" fill=\"#000000\" fill-rule=\"evenodd\" fill-opacity=\"1\" /><path clip-path=\"url(#clip850)\" d=\"M 0 0 M118.26 1179.61 Q114.649 1179.61 112.82 1183.18 Q111.015 1186.72 111.015 1193.85 Q111.015 1200.96 112.82 1204.52 Q114.649 1208.06 118.26 1208.06 Q121.895 1208.06 123.7 1204.52 Q125.529 1200.96 125.529 1193.85 Q125.529 1186.72 123.7 1183.18 Q121.895 1179.61 118.26 1179.61 M118.26 1175.91 Q124.07 1175.91 127.126 1180.52 Q130.205 1185.1 130.205 1193.85 Q130.205 1202.58 127.126 1207.18 Q124.07 1211.77 118.26 1211.77 Q112.45 1211.77 109.371 1207.18 Q106.316 1202.58 106.316 1193.85 Q106.316 1185.1 109.371 1180.52 Q112.45 1175.91 118.26 1175.91 Z\" fill=\"#000000\" fill-rule=\"evenodd\" fill-opacity=\"1\" /><path clip-path=\"url(#clip850)\" d=\"M 0 0 M59.8578 955.261 L76.1772 955.261 L76.1772 959.196 L54.2328 959.196 L54.2328 955.261 Q56.8949 952.507 61.4782 947.877 Q66.0846 943.224 67.2652 941.882 Q69.5105 939.358 70.3902 937.622 Q71.2929 935.863 71.2929 934.173 Q71.2929 931.419 69.3485 929.683 Q67.4272 927.946 64.3254 927.946 Q62.1263 927.946 59.6726 928.71 Q57.2421 929.474 54.4643 931.025 L54.4643 926.303 Q57.2884 925.169 59.7421 924.59 Q62.1958 924.011 64.2328 924.011 Q69.6031 924.011 72.7976 926.696 Q75.992 929.382 75.992 933.872 Q75.992 936.002 75.1818 937.923 Q74.3948 939.821 72.2883 942.414 Q71.7096 943.085 68.6078 946.303 Q65.5059 949.497 59.8578 955.261 Z\" fill=\"#000000\" fill-rule=\"evenodd\" fill-opacity=\"1\" /><path clip-path=\"url(#clip850)\" d=\"M 0 0 M91.2465 927.715 Q87.6354 927.715 85.8068 931.28 Q84.0012 934.821 84.0012 941.951 Q84.0012 949.057 85.8068 952.622 Q87.6354 956.164 91.2465 956.164 Q94.8808 956.164 96.6863 952.622 Q98.515 949.057 98.515 941.951 Q98.515 934.821 96.6863 931.28 Q94.8808 927.715 91.2465 927.715 M91.2465 924.011 Q97.0567 924.011 100.112 928.618 Q103.191 933.201 103.191 941.951 Q103.191 950.678 100.112 955.284 Q97.0567 959.868 91.2465 959.868 Q85.4364 959.868 82.3577 955.284 Q79.3022 950.678 79.3022 941.951 Q79.3022 933.201 82.3577 928.618 Q85.4364 924.011 91.2465 924.011 Z\" fill=\"#000000\" fill-rule=\"evenodd\" fill-opacity=\"1\" /><path clip-path=\"url(#clip850)\" d=\"M 0 0 M118.26 927.715 Q114.649 927.715 112.82 931.28 Q111.015 934.821 111.015 941.951 Q111.015 949.057 112.82 952.622 Q114.649 956.164 118.26 956.164 Q121.895 956.164 123.7 952.622 Q125.529 949.057 125.529 941.951 Q125.529 934.821 123.7 931.28 Q121.895 927.715 118.26 927.715 M118.26 924.011 Q124.07 924.011 127.126 928.618 Q130.205 933.201 130.205 941.951 Q130.205 950.678 127.126 955.284 Q124.07 959.868 118.26 959.868 Q112.45 959.868 109.371 955.284 Q106.316 950.678 106.316 941.951 Q106.316 933.201 109.371 928.618 Q112.45 924.011 118.26 924.011 Z\" fill=\"#000000\" fill-rule=\"evenodd\" fill-opacity=\"1\" /><path clip-path=\"url(#clip850)\" d=\"M 0 0 M69.0476 688.662 Q72.404 689.38 74.279 691.649 Q76.1772 693.917 76.1772 697.25 Q76.1772 702.366 72.6587 705.167 Q69.1402 707.968 62.6587 707.968 Q60.4828 707.968 58.168 707.528 Q55.8764 707.111 53.4227 706.255 L53.4227 701.741 Q55.3671 702.875 57.6819 703.454 Q59.9967 704.033 62.5198 704.033 Q66.918 704.033 69.2096 702.297 Q71.5244 700.56 71.5244 697.25 Q71.5244 694.195 69.3717 692.482 Q67.242 690.746 63.4226 690.746 L59.3949 690.746 L59.3949 686.903 L63.6078 686.903 Q67.0569 686.903 68.8855 685.537 Q70.7142 684.149 70.7142 681.556 Q70.7142 678.894 68.8161 677.482 Q66.9411 676.047 63.4226 676.047 Q61.5013 676.047 59.3023 676.463 Q57.1032 676.88 54.4643 677.76 L54.4643 673.593 Q57.1264 672.852 59.4412 672.482 Q61.7791 672.112 63.8393 672.112 Q69.1633 672.112 72.2652 674.542 Q75.367 676.95 75.367 681.07 Q75.367 683.94 73.7235 685.931 Q72.08 687.899 69.0476 688.662 Z\" fill=\"#000000\" fill-rule=\"evenodd\" fill-opacity=\"1\" /><path clip-path=\"url(#clip850)\" d=\"M 0 0 M91.2465 675.815 Q87.6354 675.815 85.8068 679.38 Q84.0012 682.922 84.0012 690.051 Q84.0012 697.158 85.8068 700.723 Q87.6354 704.264 91.2465 704.264 Q94.8808 704.264 96.6863 700.723 Q98.515 697.158 98.515 690.051 Q98.515 682.922 96.6863 679.38 Q94.8808 675.815 91.2465 675.815 M91.2465 672.112 Q97.0567 672.112 100.112 676.718 Q103.191 681.301 103.191 690.051 Q103.191 698.778 100.112 703.385 Q97.0567 707.968 91.2465 707.968 Q85.4364 707.968 82.3577 703.385 Q79.3022 698.778 79.3022 690.051 Q79.3022 681.301 82.3577 676.718 Q85.4364 672.112 91.2465 672.112 Z\" fill=\"#000000\" fill-rule=\"evenodd\" fill-opacity=\"1\" /><path clip-path=\"url(#clip850)\" d=\"M 0 0 M118.26 675.815 Q114.649 675.815 112.82 679.38 Q111.015 682.922 111.015 690.051 Q111.015 697.158 112.82 700.723 Q114.649 704.264 118.26 704.264 Q121.895 704.264 123.7 700.723 Q125.529 697.158 125.529 690.051 Q125.529 682.922 123.7 679.38 Q121.895 675.815 118.26 675.815 M118.26 672.112 Q124.07 672.112 127.126 676.718 Q130.205 681.301 130.205 690.051 Q130.205 698.778 127.126 703.385 Q124.07 707.968 118.26 707.968 Q112.45 707.968 109.371 703.385 Q106.316 698.778 106.316 690.051 Q106.316 681.301 109.371 676.718 Q112.45 672.112 118.26 672.112 Z\" fill=\"#000000\" fill-rule=\"evenodd\" fill-opacity=\"1\" /><path clip-path=\"url(#clip850)\" d=\"M 0 0 M66.5939 424.911 L54.7884 443.36 L66.5939 443.36 L66.5939 424.911 M65.367 420.837 L71.2466 420.837 L71.2466 443.36 L76.1772 443.36 L76.1772 447.249 L71.2466 447.249 L71.2466 455.397 L66.5939 455.397 L66.5939 447.249 L50.9921 447.249 L50.9921 442.735 L65.367 420.837 Z\" fill=\"#000000\" fill-rule=\"evenodd\" fill-opacity=\"1\" /><path clip-path=\"url(#clip850)\" d=\"M 0 0 M91.2465 423.916 Q87.6354 423.916 85.8068 427.48 Q84.0012 431.022 84.0012 438.152 Q84.0012 445.258 85.8068 448.823 Q87.6354 452.364 91.2465 452.364 Q94.8808 452.364 96.6863 448.823 Q98.515 445.258 98.515 438.152 Q98.515 431.022 96.6863 427.48 Q94.8808 423.916 91.2465 423.916 M91.2465 420.212 Q97.0567 420.212 100.112 424.818 Q103.191 429.402 103.191 438.152 Q103.191 446.878 100.112 451.485 Q97.0567 456.068 91.2465 456.068 Q85.4364 456.068 82.3577 451.485 Q79.3022 446.878 79.3022 438.152 Q79.3022 429.402 82.3577 424.818 Q85.4364 420.212 91.2465 420.212 Z\" fill=\"#000000\" fill-rule=\"evenodd\" fill-opacity=\"1\" /><path clip-path=\"url(#clip850)\" d=\"M 0 0 M118.26 423.916 Q114.649 423.916 112.82 427.48 Q111.015 431.022 111.015 438.152 Q111.015 445.258 112.82 448.823 Q114.649 452.364 118.26 452.364 Q121.895 452.364 123.7 448.823 Q125.529 445.258 125.529 438.152 Q125.529 431.022 123.7 427.48 Q121.895 423.916 118.26 423.916 M118.26 420.212 Q124.07 420.212 127.126 424.818 Q130.205 429.402 130.205 438.152 Q130.205 446.878 127.126 451.485 Q124.07 456.068 118.26 456.068 Q112.45 456.068 109.371 451.485 Q106.316 446.878 106.316 438.152 Q106.316 429.402 109.371 424.818 Q112.45 420.212 118.26 420.212 Z\" fill=\"#000000\" fill-rule=\"evenodd\" fill-opacity=\"1\" /><path clip-path=\"url(#clip850)\" d=\"M 0 0 M55.2745 168.937 L73.6309 168.937 L73.6309 172.872 L59.5569 172.872 L59.5569 181.345 Q60.5754 180.997 61.5939 180.835 Q62.6124 180.65 63.6309 180.65 Q69.418 180.65 72.7976 183.821 Q76.1772 186.993 76.1772 192.409 Q76.1772 197.988 72.705 201.09 Q69.2328 204.168 62.9134 204.168 Q60.7374 204.168 58.4689 203.798 Q56.2236 203.428 53.8162 202.687 L53.8162 197.988 Q55.8995 199.122 58.1217 199.678 Q60.3439 200.233 62.8208 200.233 Q66.8254 200.233 69.1633 198.127 Q71.5013 196.02 71.5013 192.409 Q71.5013 188.798 69.1633 186.692 Q66.8254 184.585 62.8208 184.585 Q60.9458 184.585 59.0708 185.002 Q57.2189 185.419 55.2745 186.298 L55.2745 168.937 Z\" fill=\"#000000\" fill-rule=\"evenodd\" fill-opacity=\"1\" /><path clip-path=\"url(#clip850)\" d=\"M 0 0 M91.2465 172.016 Q87.6354 172.016 85.8068 175.581 Q84.0012 179.122 84.0012 186.252 Q84.0012 193.358 85.8068 196.923 Q87.6354 200.465 91.2465 200.465 Q94.8808 200.465 96.6863 196.923 Q98.515 193.358 98.515 186.252 Q98.515 179.122 96.6863 175.581 Q94.8808 172.016 91.2465 172.016 M91.2465 168.312 Q97.0567 168.312 100.112 172.919 Q103.191 177.502 103.191 186.252 Q103.191 194.979 100.112 199.585 Q97.0567 204.168 91.2465 204.168 Q85.4364 204.168 82.3577 199.585 Q79.3022 194.979 79.3022 186.252 Q79.3022 177.502 82.3577 172.919 Q85.4364 168.312 91.2465 168.312 Z\" fill=\"#000000\" fill-rule=\"evenodd\" fill-opacity=\"1\" /><path clip-path=\"url(#clip850)\" d=\"M 0 0 M118.26 172.016 Q114.649 172.016 112.82 175.581 Q111.015 179.122 111.015 186.252 Q111.015 193.358 112.82 196.923 Q114.649 200.465 118.26 200.465 Q121.895 200.465 123.7 196.923 Q125.529 193.358 125.529 186.252 Q125.529 179.122 123.7 175.581 Q121.895 172.016 118.26 172.016 M118.26 168.312 Q124.07 168.312 127.126 172.919 Q130.205 177.502 130.205 186.252 Q130.205 194.979 127.126 199.585 Q124.07 204.168 118.26 204.168 Q112.45 204.168 109.371 199.585 Q106.316 194.979 106.316 186.252 Q106.316 177.502 109.371 172.919 Q112.45 168.312 118.26 168.312 Z\" fill=\"#000000\" fill-rule=\"evenodd\" fill-opacity=\"1\" /><path clip-path=\"url(#clip852)\" d=\"\n",
       "M286.469 188.736 L286.469 1445.72 L383.77 1445.72 L383.77 188.736 L286.469 188.736 L286.469 188.736  Z\n",
       "  \" fill=\"#009af9\" fill-rule=\"evenodd\" fill-opacity=\"1\"/>\n",
       "<polyline clip-path=\"url(#clip852)\" style=\"stroke:#000000; stroke-width:4; stroke-opacity:1; fill:none\" points=\"\n",
       "  286.469,188.736 286.469,1445.72 383.77,1445.72 383.77,188.736 286.469,188.736 \n",
       "  \"/>\n",
       "<path clip-path=\"url(#clip852)\" d=\"\n",
       "M383.77 254.23 L383.77 1445.72 L481.071 1445.72 L481.071 254.23 L383.77 254.23 L383.77 254.23  Z\n",
       "  \" fill=\"#009af9\" fill-rule=\"evenodd\" fill-opacity=\"1\"/>\n",
       "<polyline clip-path=\"url(#clip852)\" style=\"stroke:#000000; stroke-width:4; stroke-opacity:1; fill:none\" points=\"\n",
       "  383.77,254.23 383.77,1445.72 481.071,1445.72 481.071,254.23 383.77,254.23 \n",
       "  \"/>\n",
       "<path clip-path=\"url(#clip852)\" d=\"\n",
       "M481.071 218.964 L481.071 1445.72 L578.372 1445.72 L578.372 218.964 L481.071 218.964 L481.071 218.964  Z\n",
       "  \" fill=\"#009af9\" fill-rule=\"evenodd\" fill-opacity=\"1\"/>\n",
       "<polyline clip-path=\"url(#clip852)\" style=\"stroke:#000000; stroke-width:4; stroke-opacity:1; fill:none\" points=\"\n",
       "  481.071,218.964 481.071,1445.72 578.372,1445.72 578.372,218.964 481.071,218.964 \n",
       "  \"/>\n",
       "<path clip-path=\"url(#clip852)\" d=\"\n",
       "M578.372 163.546 L578.372 1445.72 L675.673 1445.72 L675.673 163.546 L578.372 163.546 L578.372 163.546  Z\n",
       "  \" fill=\"#009af9\" fill-rule=\"evenodd\" fill-opacity=\"1\"/>\n",
       "<polyline clip-path=\"url(#clip852)\" style=\"stroke:#000000; stroke-width:4; stroke-opacity:1; fill:none\" points=\"\n",
       "  578.372,163.546 578.372,1445.72 675.673,1445.72 675.673,163.546 578.372,163.546 \n",
       "  \"/>\n",
       "<path clip-path=\"url(#clip852)\" d=\"\n",
       "M675.673 155.989 L675.673 1445.72 L772.975 1445.72 L772.975 155.989 L675.673 155.989 L675.673 155.989  Z\n",
       "  \" fill=\"#009af9\" fill-rule=\"evenodd\" fill-opacity=\"1\"/>\n",
       "<polyline clip-path=\"url(#clip852)\" style=\"stroke:#000000; stroke-width:4; stroke-opacity:1; fill:none\" points=\"\n",
       "  675.673,155.989 675.673,1445.72 772.975,1445.72 772.975,155.989 675.673,155.989 \n",
       "  \"/>\n",
       "<path clip-path=\"url(#clip852)\" d=\"\n",
       "M772.975 87.9763 L772.975 1445.72 L870.276 1445.72 L870.276 87.9763 L772.975 87.9763 L772.975 87.9763  Z\n",
       "  \" fill=\"#009af9\" fill-rule=\"evenodd\" fill-opacity=\"1\"/>\n",
       "<polyline clip-path=\"url(#clip852)\" style=\"stroke:#000000; stroke-width:4; stroke-opacity:1; fill:none\" points=\"\n",
       "  772.975,87.9763 772.975,1445.72 870.276,1445.72 870.276,87.9763 772.975,87.9763 \n",
       "  \"/>\n",
       "<path clip-path=\"url(#clip852)\" d=\"\n",
       "M870.276 93.0143 L870.276 1445.72 L967.577 1445.72 L967.577 93.0143 L870.276 93.0143 L870.276 93.0143  Z\n",
       "  \" fill=\"#009af9\" fill-rule=\"evenodd\" fill-opacity=\"1\"/>\n",
       "<polyline clip-path=\"url(#clip852)\" style=\"stroke:#000000; stroke-width:4; stroke-opacity:1; fill:none\" points=\"\n",
       "  870.276,93.0143 870.276,1445.72 967.577,1445.72 967.577,93.0143 870.276,93.0143 \n",
       "  \"/>\n",
       "<path clip-path=\"url(#clip852)\" d=\"\n",
       "M967.577 148.432 L967.577 1445.72 L1064.88 1445.72 L1064.88 148.432 L967.577 148.432 L967.577 148.432  Z\n",
       "  \" fill=\"#009af9\" fill-rule=\"evenodd\" fill-opacity=\"1\"/>\n",
       "<polyline clip-path=\"url(#clip852)\" style=\"stroke:#000000; stroke-width:4; stroke-opacity:1; fill:none\" points=\"\n",
       "  967.577,148.432 967.577,1445.72 1064.88,1445.72 1064.88,148.432 967.577,148.432 \n",
       "  \"/>\n",
       "<path clip-path=\"url(#clip852)\" d=\"\n",
       "M1064.88 148.432 L1064.88 1445.72 L1162.18 1445.72 L1162.18 148.432 L1064.88 148.432 L1064.88 148.432  Z\n",
       "  \" fill=\"#009af9\" fill-rule=\"evenodd\" fill-opacity=\"1\"/>\n",
       "<polyline clip-path=\"url(#clip852)\" style=\"stroke:#000000; stroke-width:4; stroke-opacity:1; fill:none\" points=\"\n",
       "  1064.88,148.432 1064.88,1445.72 1162.18,1445.72 1162.18,148.432 1064.88,148.432 \n",
       "  \"/>\n",
       "<path clip-path=\"url(#clip852)\" d=\"\n",
       "M1162.18 224.002 L1162.18 1445.72 L1259.48 1445.72 L1259.48 224.002 L1162.18 224.002 L1162.18 224.002  Z\n",
       "  \" fill=\"#009af9\" fill-rule=\"evenodd\" fill-opacity=\"1\"/>\n",
       "<polyline clip-path=\"url(#clip852)\" style=\"stroke:#000000; stroke-width:4; stroke-opacity:1; fill:none\" points=\"\n",
       "  1162.18,224.002 1162.18,1445.72 1259.48,1445.72 1259.48,224.002 1162.18,224.002 \n",
       "  \"/>\n",
       "<path clip-path=\"url(#clip852)\" d=\"\n",
       "M1259.48 176.141 L1259.48 1445.72 L1356.78 1445.72 L1356.78 176.141 L1259.48 176.141 L1259.48 176.141  Z\n",
       "  \" fill=\"#009af9\" fill-rule=\"evenodd\" fill-opacity=\"1\"/>\n",
       "<polyline clip-path=\"url(#clip852)\" style=\"stroke:#000000; stroke-width:4; stroke-opacity:1; fill:none\" points=\"\n",
       "  1259.48,176.141 1259.48,1445.72 1356.78,1445.72 1356.78,176.141 1259.48,176.141 \n",
       "  \"/>\n",
       "<path clip-path=\"url(#clip852)\" d=\"\n",
       "M1356.78 239.116 L1356.78 1445.72 L1454.08 1445.72 L1454.08 239.116 L1356.78 239.116 L1356.78 239.116  Z\n",
       "  \" fill=\"#009af9\" fill-rule=\"evenodd\" fill-opacity=\"1\"/>\n",
       "<polyline clip-path=\"url(#clip852)\" style=\"stroke:#000000; stroke-width:4; stroke-opacity:1; fill:none\" points=\"\n",
       "  1356.78,239.116 1356.78,1445.72 1454.08,1445.72 1454.08,239.116 1356.78,239.116 \n",
       "  \"/>\n",
       "<path clip-path=\"url(#clip852)\" d=\"\n",
       "M1454.08 226.521 L1454.08 1445.72 L1551.38 1445.72 L1551.38 226.521 L1454.08 226.521 L1454.08 226.521  Z\n",
       "  \" fill=\"#009af9\" fill-rule=\"evenodd\" fill-opacity=\"1\"/>\n",
       "<polyline clip-path=\"url(#clip852)\" style=\"stroke:#000000; stroke-width:4; stroke-opacity:1; fill:none\" points=\"\n",
       "  1454.08,226.521 1454.08,1445.72 1551.38,1445.72 1551.38,226.521 1454.08,226.521 \n",
       "  \"/>\n",
       "<path clip-path=\"url(#clip852)\" d=\"\n",
       "M1551.38 274.382 L1551.38 1445.72 L1648.68 1445.72 L1648.68 274.382 L1551.38 274.382 L1551.38 274.382  Z\n",
       "  \" fill=\"#009af9\" fill-rule=\"evenodd\" fill-opacity=\"1\"/>\n",
       "<polyline clip-path=\"url(#clip852)\" style=\"stroke:#000000; stroke-width:4; stroke-opacity:1; fill:none\" points=\"\n",
       "  1551.38,274.382 1551.38,1445.72 1648.68,1445.72 1648.68,274.382 1551.38,274.382 \n",
       "  \"/>\n",
       "<path clip-path=\"url(#clip852)\" d=\"\n",
       "M1648.68 198.812 L1648.68 1445.72 L1745.99 1445.72 L1745.99 198.812 L1648.68 198.812 L1648.68 198.812  Z\n",
       "  \" fill=\"#009af9\" fill-rule=\"evenodd\" fill-opacity=\"1\"/>\n",
       "<polyline clip-path=\"url(#clip852)\" style=\"stroke:#000000; stroke-width:4; stroke-opacity:1; fill:none\" points=\"\n",
       "  1648.68,198.812 1648.68,1445.72 1745.99,1445.72 1745.99,198.812 1648.68,198.812 \n",
       "  \"/>\n",
       "<path clip-path=\"url(#clip852)\" d=\"\n",
       "M1745.99 203.85 L1745.99 1445.72 L1843.29 1445.72 L1843.29 203.85 L1745.99 203.85 L1745.99 203.85  Z\n",
       "  \" fill=\"#009af9\" fill-rule=\"evenodd\" fill-opacity=\"1\"/>\n",
       "<polyline clip-path=\"url(#clip852)\" style=\"stroke:#000000; stroke-width:4; stroke-opacity:1; fill:none\" points=\"\n",
       "  1745.99,203.85 1745.99,1445.72 1843.29,1445.72 1843.29,203.85 1745.99,203.85 \n",
       "  \"/>\n",
       "<path clip-path=\"url(#clip852)\" d=\"\n",
       "M1843.29 130.799 L1843.29 1445.72 L1940.59 1445.72 L1940.59 130.799 L1843.29 130.799 L1843.29 130.799  Z\n",
       "  \" fill=\"#009af9\" fill-rule=\"evenodd\" fill-opacity=\"1\"/>\n",
       "<polyline clip-path=\"url(#clip852)\" style=\"stroke:#000000; stroke-width:4; stroke-opacity:1; fill:none\" points=\"\n",
       "  1843.29,130.799 1843.29,1445.72 1940.59,1445.72 1940.59,130.799 1843.29,130.799 \n",
       "  \"/>\n",
       "<path clip-path=\"url(#clip852)\" d=\"\n",
       "M1940.59 221.483 L1940.59 1445.72 L2037.89 1445.72 L2037.89 221.483 L1940.59 221.483 L1940.59 221.483  Z\n",
       "  \" fill=\"#009af9\" fill-rule=\"evenodd\" fill-opacity=\"1\"/>\n",
       "<polyline clip-path=\"url(#clip852)\" style=\"stroke:#000000; stroke-width:4; stroke-opacity:1; fill:none\" points=\"\n",
       "  1940.59,221.483 1940.59,1445.72 2037.89,1445.72 2037.89,221.483 1940.59,221.483 \n",
       "  \"/>\n",
       "<path clip-path=\"url(#clip852)\" d=\"\n",
       "M2037.89 163.546 L2037.89 1445.72 L2135.19 1445.72 L2135.19 163.546 L2037.89 163.546 L2037.89 163.546  Z\n",
       "  \" fill=\"#009af9\" fill-rule=\"evenodd\" fill-opacity=\"1\"/>\n",
       "<polyline clip-path=\"url(#clip852)\" style=\"stroke:#000000; stroke-width:4; stroke-opacity:1; fill:none\" points=\"\n",
       "  2037.89,163.546 2037.89,1445.72 2135.19,1445.72 2135.19,163.546 2037.89,163.546 \n",
       "  \"/>\n",
       "<path clip-path=\"url(#clip852)\" d=\"\n",
       "M2135.19 206.369 L2135.19 1445.72 L2232.49 1445.72 L2232.49 206.369 L2135.19 206.369 L2135.19 206.369  Z\n",
       "  \" fill=\"#009af9\" fill-rule=\"evenodd\" fill-opacity=\"1\"/>\n",
       "<polyline clip-path=\"url(#clip852)\" style=\"stroke:#000000; stroke-width:4; stroke-opacity:1; fill:none\" points=\"\n",
       "  2135.19,206.369 2135.19,1445.72 2232.49,1445.72 2232.49,206.369 2135.19,206.369 \n",
       "  \"/>\n",
       "<path clip-path=\"url(#clip850)\" d=\"\n",
       "M1985.9 216.178 L2279.87 216.178 L2279.87 95.2176 L1985.9 95.2176  Z\n",
       "  \" fill=\"#ffffff\" fill-rule=\"evenodd\" fill-opacity=\"1\"/>\n",
       "<polyline clip-path=\"url(#clip850)\" style=\"stroke:#000000; stroke-width:4; stroke-opacity:1; fill:none\" points=\"\n",
       "  1985.9,216.178 2279.87,216.178 2279.87,95.2176 1985.9,95.2176 1985.9,216.178 \n",
       "  \"/>\n",
       "<path clip-path=\"url(#clip850)\" d=\"\n",
       "M2010.2 179.89 L2155.97 179.89 L2155.97 131.506 L2010.2 131.506 L2010.2 179.89  Z\n",
       "  \" fill=\"#009af9\" fill-rule=\"evenodd\" fill-opacity=\"1\"/>\n",
       "<polyline clip-path=\"url(#clip850)\" style=\"stroke:#000000; stroke-width:4; stroke-opacity:1; fill:none\" points=\"\n",
       "  2010.2,179.89 2155.97,179.89 2155.97,131.506 2010.2,131.506 2010.2,179.89 \n",
       "  \"/>\n",
       "<path clip-path=\"url(#clip850)\" d=\"M 0 0 M2194.11 175.385 Q2192.3 180.015 2190.59 181.427 Q2188.87 182.839 2186 182.839 L2182.6 182.839 L2182.6 179.274 L2185.1 179.274 Q2186.86 179.274 2187.83 178.44 Q2188.8 177.607 2189.98 174.505 L2190.75 172.561 L2180.26 147.052 L2184.78 147.052 L2192.88 167.329 L2200.98 147.052 L2205.49 147.052 L2194.11 175.385 Z\" fill=\"#000000\" fill-rule=\"evenodd\" fill-opacity=\"1\" /><path clip-path=\"url(#clip850)\" d=\"M 0 0 M2211.37 169.042 L2219.01 169.042 L2219.01 142.677 L2210.7 144.343 L2210.7 140.084 L2218.97 138.418 L2223.64 138.418 L2223.64 169.042 L2231.28 169.042 L2231.28 172.978 L2211.37 172.978 L2211.37 169.042 Z\" fill=\"#000000\" fill-rule=\"evenodd\" fill-opacity=\"1\" /></svg>\n"
      ]
     },
     "execution_count": 122,
     "metadata": {},
     "output_type": "execute_result"
    }
   ],
   "source": [
    "histogram(w)"
   ]
  },
  {
   "cell_type": "code",
   "execution_count": 119,
   "metadata": {},
   "outputs": [
    {
     "data": {
      "text/plain": [
       "0.3745068651806185"
      ]
     },
     "execution_count": 119,
     "metadata": {},
     "output_type": "execute_result"
    }
   ],
   "source": [
    "rand(100)"
   ]
  },
  {
   "cell_type": "markdown",
   "metadata": {},
   "source": [
    "if $u\\sim F()$ then\n",
    "$$\n",
    "\\Pr(u\\le x) = F(x) = p\n",
    "$$\n",
    "$$\n",
    "F^{-1}(F(x)) = x = F^{-1}(p)\n",
    "$$\n",
    "draw $p$ from $U[0,1]$, then transform $F^{-1}(p)$ to get $x$"
   ]
  },
  {
   "cell_type": "code",
   "execution_count": 139,
   "metadata": {},
   "outputs": [
    {
     "data": {
      "text/plain": [
       "1×500×10 Array{Float64,3}:\n",
       "[:, :, 1] =\n",
       " 0.0  0.0  0.0  0.0  0.0  0.0  0.0  0.0  …  0.0  0.0  0.0  0.0  0.0  0.0  0.0\n",
       "\n",
       "[:, :, 2] =\n",
       " 0.0  0.0  0.0  0.0  0.0  0.0  0.0  0.0  …  0.0  0.0  0.0  0.0  0.0  0.0  0.0\n",
       "\n",
       "[:, :, 3] =\n",
       " 0.0  0.0  0.0  0.0  0.0  0.0  0.0  0.0  …  0.0  0.0  0.0  0.0  0.0  0.0  0.0\n",
       "\n",
       "[:, :, 4] =\n",
       " 0.0  0.0  0.0  0.0  0.0  0.0  0.0  0.0  …  0.0  0.0  0.0  0.0  0.0  0.0  0.0\n",
       "\n",
       "[:, :, 5] =\n",
       " 0.0  0.0  0.0  0.0  0.0  0.0  0.0  0.0  …  0.0  0.0  0.0  0.0  0.0  0.0  0.0\n",
       "\n",
       "[:, :, 6] =\n",
       " 0.0  0.0  0.0  0.0  0.0  0.0  0.0  0.0  …  0.0  0.0  0.0  0.0  0.0  0.0  0.0\n",
       "\n",
       "[:, :, 7] =\n",
       " 0.0  0.0  0.0  0.0  0.0  0.0  0.0  0.0  …  0.0  0.0  0.0  0.0  0.0  0.0  0.0\n",
       "\n",
       "[:, :, 8] =\n",
       " 0.0  0.0  0.0  0.0  0.0  0.0  0.0  0.0  …  0.0  0.0  0.0  0.0  0.0  0.0  0.0\n",
       "\n",
       "[:, :, 9] =\n",
       " 0.0  0.0  0.0  0.0  0.0  0.0  0.0  0.0  …  0.0  0.0  0.0  0.0  0.0  0.0  0.0\n",
       "\n",
       "[:, :, 10] =\n",
       " 0.0  0.0  0.0  0.0  0.0  0.0  0.0  0.0  …  0.0  0.0  0.0  0.0  0.0  0.0  0.0"
      ]
     },
     "execution_count": 139,
     "metadata": {},
     "output_type": "execute_result"
    }
   ],
   "source": [
    "x = zeros(1, 500, 10)"
   ]
  },
  {
   "cell_type": "code",
   "execution_count": 127,
   "metadata": {},
   "outputs": [
    {
     "data": {
      "text/plain": [
       "simulate_AR1! (generic function with 1 method)"
      ]
     },
     "execution_count": 127,
     "metadata": {},
     "output_type": "execute_result"
    }
   ],
   "source": [
    "function simulate_AR1!(x::Array{Float64, 3}, A::Array{Float64, 2}, B::Array{Float64, 2})\n",
    "    N, K = size(B)\n",
    "    N, T, S = size(x)\n",
    "    \n",
    "    w = randn((K, T, S))\n",
    "    \n",
    "    for t = 2:T\n",
    "        x[:, t, :] = A * x[:, t-1, :] + B * w[:, t, :]\n",
    "    end\n",
    "end"
   ]
  },
  {
   "cell_type": "code",
   "execution_count": 124,
   "metadata": {},
   "outputs": [
    {
     "data": {
      "text/plain": [
       "2×3×4 Array{Float64,3}:\n",
       "[:, :, 1] =\n",
       " 0.0  0.0  0.0\n",
       " 0.0  0.0  0.0\n",
       "\n",
       "[:, :, 2] =\n",
       " 0.0  0.0  0.0\n",
       " 0.0  0.0  0.0\n",
       "\n",
       "[:, :, 3] =\n",
       " 0.0  0.0  0.0\n",
       " 0.0  0.0  0.0\n",
       "\n",
       "[:, :, 4] =\n",
       " 0.0  0.0  0.0\n",
       " 0.0  0.0  0.0"
      ]
     },
     "execution_count": 124,
     "metadata": {},
     "output_type": "execute_result"
    }
   ],
   "source": [
    "dim3 = zeros(2, 3, 4)"
   ]
  },
  {
   "cell_type": "code",
   "execution_count": 125,
   "metadata": {},
   "outputs": [
    {
     "data": {
      "text/plain": [
       "2×4 Array{Float64,2}:\n",
       " 0.0  0.0  0.0  0.0\n",
       " 0.0  0.0  0.0  0.0"
      ]
     },
     "execution_count": 125,
     "metadata": {},
     "output_type": "execute_result"
    }
   ],
   "source": [
    "dim3[:, 1, :]"
   ]
  },
  {
   "cell_type": "code",
   "execution_count": 140,
   "metadata": {},
   "outputs": [],
   "source": [
    "simulate_AR1!(x, 0.99*ones(1,1), 1.0*ones(1,1))"
   ]
  },
  {
   "cell_type": "code",
   "execution_count": 130,
   "metadata": {},
   "outputs": [
    {
     "data": {
      "text/plain": [
       "1×1 Array{Float64,2}:\n",
       " 1.0"
      ]
     },
     "execution_count": 130,
     "metadata": {},
     "output_type": "execute_result"
    }
   ],
   "source": [
    "ones(1,1)"
   ]
  },
  {
   "cell_type": "code",
   "execution_count": 134,
   "metadata": {},
   "outputs": [
    {
     "data": {
      "text/plain": [
       "1×100×10 Array{Float64,3}:\n",
       "[:, :, 1] =\n",
       " 0.0  1.94354  2.5378  2.15116  2.54728  …  0.928837  0.476245  0.834059\n",
       "\n",
       "[:, :, 2] =\n",
       " 0.0  -0.405788  -0.818469  -0.983359  …  -1.28086  -2.55781  -3.72764\n",
       "\n",
       "[:, :, 3] =\n",
       " 0.0  0.496916  0.356854  -0.617742  …  -2.97367  -2.66339  -1.49461\n",
       "\n",
       "[:, :, 4] =\n",
       " 0.0  -0.720381  -2.14848  0.19609  …  0.449597  -0.799668  -0.655466\n",
       "\n",
       "[:, :, 5] =\n",
       " 0.0  0.631968  1.73408  0.278869  -1.77065  …  -0.493441  0.541168  2.94493\n",
       "\n",
       "[:, :, 6] =\n",
       " 0.0  0.737119  0.170911  1.41833  …  -0.521484  -0.00632726  -0.892825\n",
       "\n",
       "[:, :, 7] =\n",
       " 0.0  0.597727  0.705607  1.3324  …  4.06086  2.58261  2.20832  1.96473\n",
       "\n",
       "[:, :, 8] =\n",
       " 0.0  1.32238  2.35372  2.27951  2.70374  …  1.80904  1.80871  1.70883\n",
       "\n",
       "[:, :, 9] =\n",
       " 0.0  -0.977148  0.895978  0.0868836  …  2.26573  1.75868  2.74116  3.70391\n",
       "\n",
       "[:, :, 10] =\n",
       " 0.0  -0.722462  -0.389249  -0.656295  …  3.10238  0.821401  1.53183  2.54854"
      ]
     },
     "execution_count": 134,
     "metadata": {},
     "output_type": "execute_result"
    }
   ],
   "source": [
    "x"
   ]
  },
  {
   "cell_type": "code",
   "execution_count": 141,
   "metadata": {},
   "outputs": [
    {
     "data": {
      "image/svg+xml": [
       "<?xml version=\"1.0\" encoding=\"utf-8\"?>\n",
       "<svg xmlns=\"http://www.w3.org/2000/svg\" xmlns:xlink=\"http://www.w3.org/1999/xlink\" width=\"600\" height=\"400\" viewBox=\"0 0 2400 1600\">\n",
       "<defs>\n",
       "  <clipPath id=\"clip010\">\n",
       "    <rect x=\"0\" y=\"0\" width=\"2400\" height=\"1600\"/>\n",
       "  </clipPath>\n",
       "</defs>\n",
       "<path clip-path=\"url(#clip010)\" d=\"\n",
       "M0 1600 L2400 1600 L2400 0 L0 0  Z\n",
       "  \" fill=\"#ffffff\" fill-rule=\"evenodd\" fill-opacity=\"1\"/>\n",
       "<defs>\n",
       "  <clipPath id=\"clip011\">\n",
       "    <rect x=\"480\" y=\"0\" width=\"1681\" height=\"1600\"/>\n",
       "  </clipPath>\n",
       "</defs>\n",
       "<path clip-path=\"url(#clip010)\" d=\"\n",
       "M169.469 1486.45 L2352.76 1486.45 L2352.76 47.2441 L169.469 47.2441  Z\n",
       "  \" fill=\"#ffffff\" fill-rule=\"evenodd\" fill-opacity=\"1\"/>\n",
       "<defs>\n",
       "  <clipPath id=\"clip012\">\n",
       "    <rect x=\"169\" y=\"47\" width=\"2184\" height=\"1440\"/>\n",
       "  </clipPath>\n",
       "</defs>\n",
       "<polyline clip-path=\"url(#clip012)\" style=\"stroke:#000000; stroke-width:2; stroke-opacity:0.1; fill:none\" points=\"\n",
       "  227.132,1486.45 227.132,47.2441 \n",
       "  \"/>\n",
       "<polyline clip-path=\"url(#clip012)\" style=\"stroke:#000000; stroke-width:2; stroke-opacity:0.1; fill:none\" points=\"\n",
       "  639.899,1486.45 639.899,47.2441 \n",
       "  \"/>\n",
       "<polyline clip-path=\"url(#clip012)\" style=\"stroke:#000000; stroke-width:2; stroke-opacity:0.1; fill:none\" points=\"\n",
       "  1052.67,1486.45 1052.67,47.2441 \n",
       "  \"/>\n",
       "<polyline clip-path=\"url(#clip012)\" style=\"stroke:#000000; stroke-width:2; stroke-opacity:0.1; fill:none\" points=\"\n",
       "  1465.43,1486.45 1465.43,47.2441 \n",
       "  \"/>\n",
       "<polyline clip-path=\"url(#clip012)\" style=\"stroke:#000000; stroke-width:2; stroke-opacity:0.1; fill:none\" points=\"\n",
       "  1878.2,1486.45 1878.2,47.2441 \n",
       "  \"/>\n",
       "<polyline clip-path=\"url(#clip012)\" style=\"stroke:#000000; stroke-width:2; stroke-opacity:0.1; fill:none\" points=\"\n",
       "  2290.96,1486.45 2290.96,47.2441 \n",
       "  \"/>\n",
       "<polyline clip-path=\"url(#clip010)\" style=\"stroke:#000000; stroke-width:4; stroke-opacity:1; fill:none\" points=\"\n",
       "  169.469,1486.45 2352.76,1486.45 \n",
       "  \"/>\n",
       "<polyline clip-path=\"url(#clip010)\" style=\"stroke:#000000; stroke-width:4; stroke-opacity:1; fill:none\" points=\"\n",
       "  227.132,1486.45 227.132,1469.18 \n",
       "  \"/>\n",
       "<polyline clip-path=\"url(#clip010)\" style=\"stroke:#000000; stroke-width:4; stroke-opacity:1; fill:none\" points=\"\n",
       "  639.899,1486.45 639.899,1469.18 \n",
       "  \"/>\n",
       "<polyline clip-path=\"url(#clip010)\" style=\"stroke:#000000; stroke-width:4; stroke-opacity:1; fill:none\" points=\"\n",
       "  1052.67,1486.45 1052.67,1469.18 \n",
       "  \"/>\n",
       "<polyline clip-path=\"url(#clip010)\" style=\"stroke:#000000; stroke-width:4; stroke-opacity:1; fill:none\" points=\"\n",
       "  1465.43,1486.45 1465.43,1469.18 \n",
       "  \"/>\n",
       "<polyline clip-path=\"url(#clip010)\" style=\"stroke:#000000; stroke-width:4; stroke-opacity:1; fill:none\" points=\"\n",
       "  1878.2,1486.45 1878.2,1469.18 \n",
       "  \"/>\n",
       "<polyline clip-path=\"url(#clip010)\" style=\"stroke:#000000; stroke-width:4; stroke-opacity:1; fill:none\" points=\"\n",
       "  2290.96,1486.45 2290.96,1469.18 \n",
       "  \"/>\n",
       "<path clip-path=\"url(#clip010)\" d=\"M 0 0 M227.132 1515.64 Q223.521 1515.64 221.692 1519.2 Q219.887 1522.75 219.887 1529.87 Q219.887 1536.98 221.692 1540.55 Q223.521 1544.09 227.132 1544.09 Q230.766 1544.09 232.572 1540.55 Q234.401 1536.98 234.401 1529.87 Q234.401 1522.75 232.572 1519.2 Q230.766 1515.64 227.132 1515.64 M227.132 1511.93 Q232.942 1511.93 235.998 1516.54 Q239.076 1521.12 239.076 1529.87 Q239.076 1538.6 235.998 1543.21 Q232.942 1547.79 227.132 1547.79 Q221.322 1547.79 218.243 1543.21 Q215.188 1538.6 215.188 1529.87 Q215.188 1521.12 218.243 1516.54 Q221.322 1511.93 227.132 1511.93 Z\" fill=\"#000000\" fill-rule=\"evenodd\" fill-opacity=\"1\" /><path clip-path=\"url(#clip010)\" d=\"M 0 0 M603.267 1543.18 L610.906 1543.18 L610.906 1516.82 L602.596 1518.49 L602.596 1514.23 L610.859 1512.56 L615.535 1512.56 L615.535 1543.18 L623.174 1543.18 L623.174 1547.12 L603.267 1547.12 L603.267 1543.18 Z\" fill=\"#000000\" fill-rule=\"evenodd\" fill-opacity=\"1\" /><path clip-path=\"url(#clip010)\" d=\"M 0 0 M638.243 1515.64 Q634.632 1515.64 632.804 1519.2 Q630.998 1522.75 630.998 1529.87 Q630.998 1536.98 632.804 1540.55 Q634.632 1544.09 638.243 1544.09 Q641.878 1544.09 643.683 1540.55 Q645.512 1536.98 645.512 1529.87 Q645.512 1522.75 643.683 1519.2 Q641.878 1515.64 638.243 1515.64 M638.243 1511.93 Q644.054 1511.93 647.109 1516.54 Q650.188 1521.12 650.188 1529.87 Q650.188 1538.6 647.109 1543.21 Q644.054 1547.79 638.243 1547.79 Q632.433 1547.79 629.355 1543.21 Q626.299 1538.6 626.299 1529.87 Q626.299 1521.12 629.355 1516.54 Q632.433 1511.93 638.243 1511.93 Z\" fill=\"#000000\" fill-rule=\"evenodd\" fill-opacity=\"1\" /><path clip-path=\"url(#clip010)\" d=\"M 0 0 M665.257 1515.64 Q661.646 1515.64 659.817 1519.2 Q658.012 1522.75 658.012 1529.87 Q658.012 1536.98 659.817 1540.55 Q661.646 1544.09 665.257 1544.09 Q668.891 1544.09 670.697 1540.55 Q672.526 1536.98 672.526 1529.87 Q672.526 1522.75 670.697 1519.2 Q668.891 1515.64 665.257 1515.64 M665.257 1511.93 Q671.067 1511.93 674.123 1516.54 Q677.202 1521.12 677.202 1529.87 Q677.202 1538.6 674.123 1543.21 Q671.067 1547.79 665.257 1547.79 Q659.447 1547.79 656.368 1543.21 Q653.313 1538.6 653.313 1529.87 Q653.313 1521.12 656.368 1516.54 Q659.447 1511.93 665.257 1511.93 Z\" fill=\"#000000\" fill-rule=\"evenodd\" fill-opacity=\"1\" /><path clip-path=\"url(#clip010)\" d=\"M 0 0 M1020.3 1543.18 L1036.62 1543.18 L1036.62 1547.12 L1014.68 1547.12 L1014.68 1543.18 Q1017.34 1540.43 1021.92 1535.8 Q1026.53 1531.15 1027.71 1529.81 Q1029.96 1527.28 1030.84 1525.55 Q1031.74 1523.79 1031.74 1522.1 Q1031.74 1519.34 1029.79 1517.61 Q1027.87 1515.87 1024.77 1515.87 Q1022.57 1515.87 1020.12 1516.63 Q1017.69 1517.4 1014.91 1518.95 L1014.91 1514.23 Q1017.73 1513.09 1020.19 1512.51 Q1022.64 1511.93 1024.68 1511.93 Q1030.05 1511.93 1033.24 1514.62 Q1036.44 1517.31 1036.44 1521.8 Q1036.44 1523.93 1035.63 1525.85 Q1034.84 1527.74 1032.73 1530.34 Q1032.16 1531.01 1029.05 1534.23 Q1025.95 1537.42 1020.3 1543.18 Z\" fill=\"#000000\" fill-rule=\"evenodd\" fill-opacity=\"1\" /><path clip-path=\"url(#clip010)\" d=\"M 0 0 M1051.69 1515.64 Q1048.08 1515.64 1046.25 1519.2 Q1044.45 1522.75 1044.45 1529.87 Q1044.45 1536.98 1046.25 1540.55 Q1048.08 1544.09 1051.69 1544.09 Q1055.33 1544.09 1057.13 1540.55 Q1058.96 1536.98 1058.96 1529.87 Q1058.96 1522.75 1057.13 1519.2 Q1055.33 1515.64 1051.69 1515.64 M1051.69 1511.93 Q1057.5 1511.93 1060.56 1516.54 Q1063.64 1521.12 1063.64 1529.87 Q1063.64 1538.6 1060.56 1543.21 Q1057.5 1547.79 1051.69 1547.79 Q1045.88 1547.79 1042.8 1543.21 Q1039.75 1538.6 1039.75 1529.87 Q1039.75 1521.12 1042.8 1516.54 Q1045.88 1511.93 1051.69 1511.93 Z\" fill=\"#000000\" fill-rule=\"evenodd\" fill-opacity=\"1\" /><path clip-path=\"url(#clip010)\" d=\"M 0 0 M1078.71 1515.64 Q1075.1 1515.64 1073.27 1519.2 Q1071.46 1522.75 1071.46 1529.87 Q1071.46 1536.98 1073.27 1540.55 Q1075.1 1544.09 1078.71 1544.09 Q1082.34 1544.09 1084.15 1540.55 Q1085.98 1536.98 1085.98 1529.87 Q1085.98 1522.75 1084.15 1519.2 Q1082.34 1515.64 1078.71 1515.64 M1078.71 1511.93 Q1084.52 1511.93 1087.57 1516.54 Q1090.65 1521.12 1090.65 1529.87 Q1090.65 1538.6 1087.57 1543.21 Q1084.52 1547.79 1078.71 1547.79 Q1072.9 1547.79 1069.82 1543.21 Q1066.76 1538.6 1066.76 1529.87 Q1066.76 1521.12 1069.82 1516.54 Q1072.9 1511.93 1078.71 1511.93 Z\" fill=\"#000000\" fill-rule=\"evenodd\" fill-opacity=\"1\" /><path clip-path=\"url(#clip010)\" d=\"M 0 0 M1442.67 1528.49 Q1446.02 1529.2 1447.9 1531.47 Q1449.8 1533.74 1449.8 1537.07 Q1449.8 1542.19 1446.28 1544.99 Q1442.76 1547.79 1436.28 1547.79 Q1434.1 1547.79 1431.79 1547.35 Q1429.49 1546.93 1427.04 1546.08 L1427.04 1541.56 Q1428.99 1542.7 1431.3 1543.28 Q1433.61 1543.86 1436.14 1543.86 Q1440.54 1543.86 1442.83 1542.12 Q1445.14 1540.38 1445.14 1537.07 Q1445.14 1534.02 1442.99 1532.31 Q1440.86 1530.57 1437.04 1530.57 L1433.01 1530.57 L1433.01 1526.73 L1437.23 1526.73 Q1440.67 1526.73 1442.5 1525.36 Q1444.33 1523.97 1444.33 1521.38 Q1444.33 1518.72 1442.43 1517.31 Q1440.56 1515.87 1437.04 1515.87 Q1435.12 1515.87 1432.92 1516.29 Q1430.72 1516.7 1428.08 1517.58 L1428.08 1513.42 Q1430.74 1512.68 1433.06 1512.31 Q1435.4 1511.93 1437.46 1511.93 Q1442.78 1511.93 1445.88 1514.37 Q1448.98 1516.77 1448.98 1520.89 Q1448.98 1523.76 1447.34 1525.75 Q1445.7 1527.72 1442.67 1528.49 Z\" fill=\"#000000\" fill-rule=\"evenodd\" fill-opacity=\"1\" /><path clip-path=\"url(#clip010)\" d=\"M 0 0 M1464.86 1515.64 Q1461.25 1515.64 1459.42 1519.2 Q1457.62 1522.75 1457.62 1529.87 Q1457.62 1536.98 1459.42 1540.55 Q1461.25 1544.09 1464.86 1544.09 Q1468.5 1544.09 1470.3 1540.55 Q1472.13 1536.98 1472.13 1529.87 Q1472.13 1522.75 1470.3 1519.2 Q1468.5 1515.64 1464.86 1515.64 M1464.86 1511.93 Q1470.67 1511.93 1473.73 1516.54 Q1476.81 1521.12 1476.81 1529.87 Q1476.81 1538.6 1473.73 1543.21 Q1470.67 1547.79 1464.86 1547.79 Q1459.05 1547.79 1455.98 1543.21 Q1452.92 1538.6 1452.92 1529.87 Q1452.92 1521.12 1455.98 1516.54 Q1459.05 1511.93 1464.86 1511.93 Z\" fill=\"#000000\" fill-rule=\"evenodd\" fill-opacity=\"1\" /><path clip-path=\"url(#clip010)\" d=\"M 0 0 M1491.88 1515.64 Q1488.27 1515.64 1486.44 1519.2 Q1484.63 1522.75 1484.63 1529.87 Q1484.63 1536.98 1486.44 1540.55 Q1488.27 1544.09 1491.88 1544.09 Q1495.51 1544.09 1497.32 1540.55 Q1499.15 1536.98 1499.15 1529.87 Q1499.15 1522.75 1497.32 1519.2 Q1495.51 1515.64 1491.88 1515.64 M1491.88 1511.93 Q1497.69 1511.93 1500.74 1516.54 Q1503.82 1521.12 1503.82 1529.87 Q1503.82 1538.6 1500.74 1543.21 Q1497.69 1547.79 1491.88 1547.79 Q1486.07 1547.79 1482.99 1543.21 Q1479.93 1538.6 1479.93 1529.87 Q1479.93 1521.12 1482.99 1516.54 Q1486.07 1511.93 1491.88 1511.93 Z\" fill=\"#000000\" fill-rule=\"evenodd\" fill-opacity=\"1\" /><path clip-path=\"url(#clip010)\" d=\"M 0 0 M1854.19 1516.63 L1842.39 1535.08 L1854.19 1535.08 L1854.19 1516.63 M1852.97 1512.56 L1858.85 1512.56 L1858.85 1535.08 L1863.78 1535.08 L1863.78 1538.97 L1858.85 1538.97 L1858.85 1547.12 L1854.19 1547.12 L1854.19 1538.97 L1838.59 1538.97 L1838.59 1534.46 L1852.97 1512.56 Z\" fill=\"#000000\" fill-rule=\"evenodd\" fill-opacity=\"1\" /><path clip-path=\"url(#clip010)\" d=\"M 0 0 M1878.85 1515.64 Q1875.24 1515.64 1873.41 1519.2 Q1871.6 1522.75 1871.6 1529.87 Q1871.6 1536.98 1873.41 1540.55 Q1875.24 1544.09 1878.85 1544.09 Q1882.48 1544.09 1884.29 1540.55 Q1886.11 1536.98 1886.11 1529.87 Q1886.11 1522.75 1884.29 1519.2 Q1882.48 1515.64 1878.85 1515.64 M1878.85 1511.93 Q1884.66 1511.93 1887.71 1516.54 Q1890.79 1521.12 1890.79 1529.87 Q1890.79 1538.6 1887.71 1543.21 Q1884.66 1547.79 1878.85 1547.79 Q1873.04 1547.79 1869.96 1543.21 Q1866.9 1538.6 1866.9 1529.87 Q1866.9 1521.12 1869.96 1516.54 Q1873.04 1511.93 1878.85 1511.93 Z\" fill=\"#000000\" fill-rule=\"evenodd\" fill-opacity=\"1\" /><path clip-path=\"url(#clip010)\" d=\"M 0 0 M1905.86 1515.64 Q1902.25 1515.64 1900.42 1519.2 Q1898.61 1522.75 1898.61 1529.87 Q1898.61 1536.98 1900.42 1540.55 Q1902.25 1544.09 1905.86 1544.09 Q1909.49 1544.09 1911.3 1540.55 Q1913.13 1536.98 1913.13 1529.87 Q1913.13 1522.75 1911.3 1519.2 Q1909.49 1515.64 1905.86 1515.64 M1905.86 1511.93 Q1911.67 1511.93 1914.73 1516.54 Q1917.8 1521.12 1917.8 1529.87 Q1917.8 1538.6 1914.73 1543.21 Q1911.67 1547.79 1905.86 1547.79 Q1900.05 1547.79 1896.97 1543.21 Q1893.92 1538.6 1893.92 1529.87 Q1893.92 1521.12 1896.97 1516.54 Q1900.05 1511.93 1905.86 1511.93 Z\" fill=\"#000000\" fill-rule=\"evenodd\" fill-opacity=\"1\" /><path clip-path=\"url(#clip010)\" d=\"M 0 0 M2254.23 1512.56 L2272.59 1512.56 L2272.59 1516.5 L2258.51 1516.5 L2258.51 1524.97 Q2259.53 1524.62 2260.55 1524.46 Q2261.57 1524.27 2262.59 1524.27 Q2268.37 1524.27 2271.75 1527.44 Q2275.13 1530.62 2275.13 1536.03 Q2275.13 1541.61 2271.66 1544.71 Q2268.19 1547.79 2261.87 1547.79 Q2259.69 1547.79 2257.42 1547.42 Q2255.18 1547.05 2252.77 1546.31 L2252.77 1541.61 Q2254.85 1542.74 2257.08 1543.3 Q2259.3 1543.86 2261.78 1543.86 Q2265.78 1543.86 2268.12 1541.75 Q2270.46 1539.64 2270.46 1536.03 Q2270.46 1532.42 2268.12 1530.31 Q2265.78 1528.21 2261.78 1528.21 Q2259.9 1528.21 2258.03 1528.62 Q2256.17 1529.04 2254.23 1529.92 L2254.23 1512.56 Z\" fill=\"#000000\" fill-rule=\"evenodd\" fill-opacity=\"1\" /><path clip-path=\"url(#clip010)\" d=\"M 0 0 M2290.2 1515.64 Q2286.59 1515.64 2284.76 1519.2 Q2282.96 1522.75 2282.96 1529.87 Q2282.96 1536.98 2284.76 1540.55 Q2286.59 1544.09 2290.2 1544.09 Q2293.84 1544.09 2295.64 1540.55 Q2297.47 1536.98 2297.47 1529.87 Q2297.47 1522.75 2295.64 1519.2 Q2293.84 1515.64 2290.2 1515.64 M2290.2 1511.93 Q2296.01 1511.93 2299.07 1516.54 Q2302.15 1521.12 2302.15 1529.87 Q2302.15 1538.6 2299.07 1543.21 Q2296.01 1547.79 2290.2 1547.79 Q2284.39 1547.79 2281.31 1543.21 Q2278.26 1538.6 2278.26 1529.87 Q2278.26 1521.12 2281.31 1516.54 Q2284.39 1511.93 2290.2 1511.93 Z\" fill=\"#000000\" fill-rule=\"evenodd\" fill-opacity=\"1\" /><path clip-path=\"url(#clip010)\" d=\"M 0 0 M2317.21 1515.64 Q2313.6 1515.64 2311.77 1519.2 Q2309.97 1522.75 2309.97 1529.87 Q2309.97 1536.98 2311.77 1540.55 Q2313.6 1544.09 2317.21 1544.09 Q2320.85 1544.09 2322.65 1540.55 Q2324.48 1536.98 2324.48 1529.87 Q2324.48 1522.75 2322.65 1519.2 Q2320.85 1515.64 2317.21 1515.64 M2317.21 1511.93 Q2323.02 1511.93 2326.08 1516.54 Q2329.16 1521.12 2329.16 1529.87 Q2329.16 1538.6 2326.08 1543.21 Q2323.02 1547.79 2317.21 1547.79 Q2311.4 1547.79 2308.33 1543.21 Q2305.27 1538.6 2305.27 1529.87 Q2305.27 1521.12 2308.33 1516.54 Q2311.4 1511.93 2317.21 1511.93 Z\" fill=\"#000000\" fill-rule=\"evenodd\" fill-opacity=\"1\" /><polyline clip-path=\"url(#clip012)\" style=\"stroke:#000000; stroke-width:2; stroke-opacity:0.1; fill:none\" points=\"\n",
       "  169.469,1340.92 2352.76,1340.92 \n",
       "  \"/>\n",
       "<polyline clip-path=\"url(#clip012)\" style=\"stroke:#000000; stroke-width:2; stroke-opacity:0.1; fill:none\" points=\"\n",
       "  169.469,1147.43 2352.76,1147.43 \n",
       "  \"/>\n",
       "<polyline clip-path=\"url(#clip012)\" style=\"stroke:#000000; stroke-width:2; stroke-opacity:0.1; fill:none\" points=\"\n",
       "  169.469,953.948 2352.76,953.948 \n",
       "  \"/>\n",
       "<polyline clip-path=\"url(#clip012)\" style=\"stroke:#000000; stroke-width:2; stroke-opacity:0.1; fill:none\" points=\"\n",
       "  169.469,760.462 2352.76,760.462 \n",
       "  \"/>\n",
       "<polyline clip-path=\"url(#clip012)\" style=\"stroke:#000000; stroke-width:2; stroke-opacity:0.1; fill:none\" points=\"\n",
       "  169.469,566.977 2352.76,566.977 \n",
       "  \"/>\n",
       "<polyline clip-path=\"url(#clip012)\" style=\"stroke:#000000; stroke-width:2; stroke-opacity:0.1; fill:none\" points=\"\n",
       "  169.469,373.491 2352.76,373.491 \n",
       "  \"/>\n",
       "<polyline clip-path=\"url(#clip012)\" style=\"stroke:#000000; stroke-width:2; stroke-opacity:0.1; fill:none\" points=\"\n",
       "  169.469,180.005 2352.76,180.005 \n",
       "  \"/>\n",
       "<polyline clip-path=\"url(#clip010)\" style=\"stroke:#000000; stroke-width:4; stroke-opacity:1; fill:none\" points=\"\n",
       "  169.469,1486.45 169.469,47.2441 \n",
       "  \"/>\n",
       "<polyline clip-path=\"url(#clip010)\" style=\"stroke:#000000; stroke-width:4; stroke-opacity:1; fill:none\" points=\"\n",
       "  169.469,1340.92 195.668,1340.92 \n",
       "  \"/>\n",
       "<polyline clip-path=\"url(#clip010)\" style=\"stroke:#000000; stroke-width:4; stroke-opacity:1; fill:none\" points=\"\n",
       "  169.469,1147.43 195.668,1147.43 \n",
       "  \"/>\n",
       "<polyline clip-path=\"url(#clip010)\" style=\"stroke:#000000; stroke-width:4; stroke-opacity:1; fill:none\" points=\"\n",
       "  169.469,953.948 195.668,953.948 \n",
       "  \"/>\n",
       "<polyline clip-path=\"url(#clip010)\" style=\"stroke:#000000; stroke-width:4; stroke-opacity:1; fill:none\" points=\"\n",
       "  169.469,760.462 195.668,760.462 \n",
       "  \"/>\n",
       "<polyline clip-path=\"url(#clip010)\" style=\"stroke:#000000; stroke-width:4; stroke-opacity:1; fill:none\" points=\"\n",
       "  169.469,566.977 195.668,566.977 \n",
       "  \"/>\n",
       "<polyline clip-path=\"url(#clip010)\" style=\"stroke:#000000; stroke-width:4; stroke-opacity:1; fill:none\" points=\"\n",
       "  169.469,373.491 195.668,373.491 \n",
       "  \"/>\n",
       "<polyline clip-path=\"url(#clip010)\" style=\"stroke:#000000; stroke-width:4; stroke-opacity:1; fill:none\" points=\"\n",
       "  169.469,180.005 195.668,180.005 \n",
       "  \"/>\n",
       "<path clip-path=\"url(#clip010)\" d=\"M 0 0 M51.9875 1341.37 L81.6633 1341.37 L81.6633 1345.31 L51.9875 1345.31 L51.9875 1341.37 Z\" fill=\"#000000\" fill-rule=\"evenodd\" fill-opacity=\"1\" /><path clip-path=\"url(#clip010)\" d=\"M 0 0 M87.5429 1354.26 L95.1817 1354.26 L95.1817 1327.9 L86.8716 1329.57 L86.8716 1325.31 L95.1354 1323.64 L99.8113 1323.64 L99.8113 1354.26 L107.45 1354.26 L107.45 1358.2 L87.5429 1358.2 L87.5429 1354.26 Z\" fill=\"#000000\" fill-rule=\"evenodd\" fill-opacity=\"1\" /><path clip-path=\"url(#clip010)\" d=\"M 0 0 M112.566 1323.64 L130.922 1323.64 L130.922 1327.57 L116.848 1327.57 L116.848 1336.05 Q117.867 1335.7 118.885 1335.54 Q119.904 1335.35 120.922 1335.35 Q126.709 1335.35 130.089 1338.52 Q133.469 1341.69 133.469 1347.11 Q133.469 1352.69 129.996 1355.79 Q126.524 1358.87 120.205 1358.87 Q118.029 1358.87 115.76 1358.5 Q113.515 1358.13 111.108 1357.39 L111.108 1352.69 Q113.191 1353.82 115.413 1354.38 Q117.635 1354.94 120.112 1354.94 Q124.117 1354.94 126.455 1352.83 Q128.793 1350.72 128.793 1347.11 Q128.793 1343.5 126.455 1341.39 Q124.117 1339.29 120.112 1339.29 Q118.237 1339.29 116.362 1339.7 Q114.51 1340.12 112.566 1341 L112.566 1323.64 Z\" fill=\"#000000\" fill-rule=\"evenodd\" fill-opacity=\"1\" /><path clip-path=\"url(#clip010)\" d=\"M 0 0 M50.9921 1147.88 L80.6679 1147.88 L80.6679 1151.82 L50.9921 1151.82 L50.9921 1147.88 Z\" fill=\"#000000\" fill-rule=\"evenodd\" fill-opacity=\"1\" /><path clip-path=\"url(#clip010)\" d=\"M 0 0 M86.5475 1160.78 L94.1863 1160.78 L94.1863 1134.41 L85.8762 1136.08 L85.8762 1131.82 L94.14 1130.15 L98.8159 1130.15 L98.8159 1160.78 L106.455 1160.78 L106.455 1164.71 L86.5475 1164.71 L86.5475 1160.78 Z\" fill=\"#000000\" fill-rule=\"evenodd\" fill-opacity=\"1\" /><path clip-path=\"url(#clip010)\" d=\"M 0 0 M121.524 1133.23 Q117.913 1133.23 116.084 1136.8 Q114.279 1140.34 114.279 1147.47 Q114.279 1154.57 116.084 1158.14 Q117.913 1161.68 121.524 1161.68 Q125.158 1161.68 126.964 1158.14 Q128.793 1154.57 128.793 1147.47 Q128.793 1140.34 126.964 1136.8 Q125.158 1133.23 121.524 1133.23 M121.524 1129.53 Q127.334 1129.53 130.39 1134.14 Q133.469 1138.72 133.469 1147.47 Q133.469 1156.2 130.39 1160.8 Q127.334 1165.38 121.524 1165.38 Q115.714 1165.38 112.635 1160.8 Q109.58 1156.2 109.58 1147.47 Q109.58 1138.72 112.635 1134.14 Q115.714 1129.53 121.524 1129.53 Z\" fill=\"#000000\" fill-rule=\"evenodd\" fill-opacity=\"1\" /><path clip-path=\"url(#clip010)\" d=\"M 0 0 M77.7744 954.399 L107.45 954.399 L107.45 958.335 L77.7744 958.335 L77.7744 954.399 Z\" fill=\"#000000\" fill-rule=\"evenodd\" fill-opacity=\"1\" /><path clip-path=\"url(#clip010)\" d=\"M 0 0 M112.566 936.668 L130.922 936.668 L130.922 940.603 L116.848 940.603 L116.848 949.075 Q117.867 948.728 118.885 948.566 Q119.904 948.381 120.922 948.381 Q126.709 948.381 130.089 951.552 Q133.469 954.723 133.469 960.14 Q133.469 965.719 129.996 968.821 Q126.524 971.899 120.205 971.899 Q118.029 971.899 115.76 971.529 Q113.515 971.159 111.108 970.418 L111.108 965.719 Q113.191 966.853 115.413 967.409 Q117.635 967.964 120.112 967.964 Q124.117 967.964 126.455 965.858 Q128.793 963.751 128.793 960.14 Q128.793 956.529 126.455 954.423 Q124.117 952.316 120.112 952.316 Q118.237 952.316 116.362 952.733 Q114.51 953.149 112.566 954.029 L112.566 936.668 Z\" fill=\"#000000\" fill-rule=\"evenodd\" fill-opacity=\"1\" /><path clip-path=\"url(#clip010)\" d=\"M 0 0 M121.524 746.261 Q117.913 746.261 116.084 749.826 Q114.279 753.367 114.279 760.497 Q114.279 767.604 116.084 771.168 Q117.913 774.71 121.524 774.71 Q125.158 774.71 126.964 771.168 Q128.793 767.604 128.793 760.497 Q128.793 753.367 126.964 749.826 Q125.158 746.261 121.524 746.261 M121.524 742.557 Q127.334 742.557 130.39 747.164 Q133.469 751.747 133.469 760.497 Q133.469 769.224 130.39 773.83 Q127.334 778.414 121.524 778.414 Q115.714 778.414 112.635 773.83 Q109.58 769.224 109.58 760.497 Q109.58 751.747 112.635 747.164 Q115.714 742.557 121.524 742.557 Z\" fill=\"#000000\" fill-rule=\"evenodd\" fill-opacity=\"1\" /><path clip-path=\"url(#clip010)\" d=\"M 0 0 M112.566 549.697 L130.922 549.697 L130.922 553.632 L116.848 553.632 L116.848 562.104 Q117.867 561.757 118.885 561.595 Q119.904 561.41 120.922 561.41 Q126.709 561.41 130.089 564.581 Q133.469 567.752 133.469 573.169 Q133.469 578.748 129.996 581.849 Q126.524 584.928 120.205 584.928 Q118.029 584.928 115.76 584.558 Q113.515 584.187 111.108 583.447 L111.108 578.748 Q113.191 579.882 115.413 580.437 Q117.635 580.993 120.112 580.993 Q124.117 580.993 126.455 578.886 Q128.793 576.78 128.793 573.169 Q128.793 569.558 126.455 567.451 Q124.117 565.345 120.112 565.345 Q118.237 565.345 116.362 565.761 Q114.51 566.178 112.566 567.058 L112.566 549.697 Z\" fill=\"#000000\" fill-rule=\"evenodd\" fill-opacity=\"1\" /><path clip-path=\"url(#clip010)\" d=\"M 0 0 M86.5475 386.836 L94.1863 386.836 L94.1863 360.47 L85.8762 362.137 L85.8762 357.878 L94.14 356.211 L98.8159 356.211 L98.8159 386.836 L106.455 386.836 L106.455 390.771 L86.5475 390.771 L86.5475 386.836 Z\" fill=\"#000000\" fill-rule=\"evenodd\" fill-opacity=\"1\" /><path clip-path=\"url(#clip010)\" d=\"M 0 0 M121.524 359.29 Q117.913 359.29 116.084 362.855 Q114.279 366.396 114.279 373.526 Q114.279 380.632 116.084 384.197 Q117.913 387.739 121.524 387.739 Q125.158 387.739 126.964 384.197 Q128.793 380.632 128.793 373.526 Q128.793 366.396 126.964 362.855 Q125.158 359.29 121.524 359.29 M121.524 355.586 Q127.334 355.586 130.39 360.193 Q133.469 364.776 133.469 373.526 Q133.469 382.253 130.39 386.859 Q127.334 391.442 121.524 391.442 Q115.714 391.442 112.635 386.859 Q109.58 382.253 109.58 373.526 Q109.58 364.776 112.635 360.193 Q115.714 355.586 121.524 355.586 Z\" fill=\"#000000\" fill-rule=\"evenodd\" fill-opacity=\"1\" /><path clip-path=\"url(#clip010)\" d=\"M 0 0 M87.5429 193.35 L95.1817 193.35 L95.1817 166.985 L86.8716 168.651 L86.8716 164.392 L95.1354 162.725 L99.8113 162.725 L99.8113 193.35 L107.45 193.35 L107.45 197.285 L87.5429 197.285 L87.5429 193.35 Z\" fill=\"#000000\" fill-rule=\"evenodd\" fill-opacity=\"1\" /><path clip-path=\"url(#clip010)\" d=\"M 0 0 M112.566 162.725 L130.922 162.725 L130.922 166.661 L116.848 166.661 L116.848 175.133 Q117.867 174.786 118.885 174.624 Q119.904 174.438 120.922 174.438 Q126.709 174.438 130.089 177.61 Q133.469 180.781 133.469 186.198 Q133.469 191.776 129.996 194.878 Q126.524 197.957 120.205 197.957 Q118.029 197.957 115.76 197.586 Q113.515 197.216 111.108 196.475 L111.108 191.776 Q113.191 192.911 115.413 193.466 Q117.635 194.022 120.112 194.022 Q124.117 194.022 126.455 191.915 Q128.793 189.809 128.793 186.198 Q128.793 182.586 126.455 180.48 Q124.117 178.374 120.112 178.374 Q118.237 178.374 116.362 178.79 Q114.51 179.207 112.566 180.087 L112.566 162.725 Z\" fill=\"#000000\" fill-rule=\"evenodd\" fill-opacity=\"1\" /><polyline clip-path=\"url(#clip012)\" style=\"stroke:#009af9; stroke-width:4; stroke-opacity:1; fill:none\" points=\"\n",
       "  231.26,760.462 235.387,761.108 239.515,742.097 243.643,783.759 247.77,850.156 251.898,885.609 256.026,907.64 260.153,978.795 264.281,1003.37 268.409,1090.02 \n",
       "  272.536,1013.44 276.664,1045.37 280.792,1050.81 284.919,1021.44 289.047,1045.48 293.175,1091.88 297.302,1037.62 301.43,998.834 305.558,976.749 309.685,936.993 \n",
       "  313.813,922.385 317.941,958.366 322.068,969.091 326.196,953.91 330.324,967.479 334.451,952.146 338.579,911.389 342.707,931.392 346.834,936.131 350.962,843.948 \n",
       "  355.09,779.701 359.217,805.658 363.345,768.803 367.473,718.632 371.6,754.213 375.728,777.755 379.856,786.08 383.983,829.247 388.111,778.162 392.239,794.229 \n",
       "  396.366,790.946 400.494,840.189 404.622,829.744 408.749,776.872 412.877,734.505 417.005,774.63 421.132,736.779 425.26,727.975 429.388,708.824 433.515,714.293 \n",
       "  437.643,708.805 441.771,755.393 445.898,761.988 450.026,765.262 454.154,808.261 458.281,745.265 462.409,777.217 466.537,787.067 470.664,811.591 474.792,848.057 \n",
       "  478.92,794.351 483.047,785.979 487.175,814.56 491.303,803.854 495.43,867.486 499.558,880.68 503.686,961.53 507.813,978.336 511.941,1018.36 516.069,1025.63 \n",
       "  520.196,1054.76 524.324,1030.09 528.452,985.898 532.579,969.882 536.707,908.81 540.835,959.284 544.962,970.544 549.09,989.986 553.218,933.039 557.345,905.219 \n",
       "  561.473,923.749 565.601,892.235 569.728,895.796 573.856,845.981 577.984,878.654 582.111,965.976 586.239,946.48 590.367,942.305 594.494,909.729 598.622,892.505 \n",
       "  602.75,924.739 606.877,934.582 611.005,930.351 615.133,942.446 619.26,953.707 623.388,893.854 627.516,858.311 631.643,859.731 635.771,858.635 639.899,868.242 \n",
       "  644.026,911.997 648.154,937.714 652.282,947.511 656.409,969.366 660.537,977.731 664.665,988.16 668.792,995.568 672.92,1054.15 677.048,1071.06 681.175,1009.65 \n",
       "  685.303,1029.16 689.431,1068.34 693.558,1079.19 697.686,1052.04 701.814,980.259 705.941,969.964 710.069,992.975 714.197,965.674 718.324,965.297 722.452,905.735 \n",
       "  726.58,950.819 730.707,949.498 734.835,980.672 738.963,923.435 743.09,882.033 747.218,785.666 751.346,802.722 755.473,799.728 759.601,816.267 763.729,805.801 \n",
       "  767.856,789.627 771.984,737.049 776.112,771.105 780.239,808.327 784.367,835.729 788.495,851.048 792.622,800.974 796.75,848.107 800.878,827.192 805.005,889.415 \n",
       "  809.133,874.91 813.261,888.559 817.388,838.35 821.516,809.289 825.644,845.595 829.771,772.708 833.899,807.893 838.027,818.618 842.154,761.158 846.282,804.278 \n",
       "  850.41,814.043 854.537,775.908 858.665,738.591 862.793,647.787 866.92,711.45 871.048,735.862 875.175,747.744 879.303,730.617 883.431,719.016 887.558,699.619 \n",
       "  891.686,648.808 895.814,635.741 899.941,621.321 904.069,675.819 908.197,612.192 912.324,601.001 916.452,620.844 920.58,688.014 924.707,597.375 928.835,606.328 \n",
       "  932.963,634.725 937.09,608.862 941.218,583.412 945.346,583.779 949.473,622.523 953.601,605.952 957.729,580.709 961.856,592.059 965.984,590.984 970.112,570.325 \n",
       "  974.239,524.461 978.367,530.37 982.495,466.93 986.622,403.132 990.75,413.59 994.878,441.963 999.005,529.883 1003.13,562.184 1007.26,567.202 1011.39,559.359 \n",
       "  1015.52,548.277 1019.64,540.019 1023.77,583.987 1027.9,564.672 1032.03,623.122 1036.15,617.918 1040.28,640.899 1044.41,667.639 1048.54,708.637 1052.67,675.21 \n",
       "  1056.79,662.988 1060.92,632.154 1065.05,626.266 1069.18,601.679 1073.3,612.523 1077.43,649.078 1081.56,620.389 1085.69,634.463 1089.81,590.24 1093.94,637.145 \n",
       "  1098.07,686.547 1102.2,714.121 1106.32,753.35 1110.45,780.355 1114.58,749.469 1118.71,765.93 1122.84,742.894 1126.96,749.066 1131.09,725.544 1135.22,665.113 \n",
       "  1139.35,631.473 1143.47,658.122 1147.6,614.967 1151.73,626.144 1155.86,654.929 1159.98,619.785 1164.11,619.471 1168.24,621.023 1172.37,596.236 1176.5,599.336 \n",
       "  1180.62,544.123 1184.75,524.095 1188.88,512.665 1193.01,483.537 1197.13,565.053 1201.26,590.187 1205.39,671.699 1209.52,651.352 1213.64,721.17 1217.77,775.229 \n",
       "  1221.9,775.515 1226.03,822.127 1230.15,846.071 1234.28,887.986 1238.41,861.948 1242.54,764.688 1246.67,840.613 1250.79,835.408 1254.92,888.951 1259.05,895.309 \n",
       "  1263.18,891.916 1267.3,824.557 1271.43,795.436 1275.56,848.665 1279.69,842.227 1283.81,781.953 1287.94,787.493 1292.07,807.72 1296.2,821.876 1300.33,826.079 \n",
       "  1304.45,745.071 1308.58,800.179 1312.71,856.569 1316.84,756.097 1320.96,775.13 1325.09,794.906 1329.22,789.043 1333.35,786.604 1337.47,815.036 1341.6,814.183 \n",
       "  1345.73,835.122 1349.86,869.144 1353.98,846.099 1358.11,822.357 1362.24,819.254 1366.37,796.915 1370.5,781.044 1374.62,788.436 1378.75,746.61 1382.88,763.041 \n",
       "  1387.01,763.943 1391.13,727.033 1395.26,686.585 1399.39,640.913 1403.52,741.258 1407.64,728.37 1411.77,725.947 1415.9,704.909 1420.03,744.89 1424.16,777.363 \n",
       "  1428.28,732.08 1432.41,814.388 1436.54,828.414 1440.67,851.133 1444.79,881.34 1448.92,851.357 1453.05,870.356 1457.18,823.93 1461.3,816.055 1465.43,819.075 \n",
       "  1469.56,774.639 1473.69,784.133 1477.81,791.367 1481.94,831.034 1486.07,900.177 1490.2,869.033 1494.33,844.321 1498.45,866.877 1502.58,821.912 1506.71,811.965 \n",
       "  1510.84,794.092 1514.96,781.528 1519.09,818.573 1523.22,759.581 1527.35,724.885 1531.47,730.338 1535.6,754.232 1539.73,778.597 1543.86,740.835 1547.98,804.49 \n",
       "  1552.11,851.76 1556.24,825.148 1560.37,859.466 1564.5,836.785 1568.62,783.265 1572.75,797.575 1576.88,865.536 1581.01,849.265 1585.13,837.257 1589.26,846.205 \n",
       "  1593.39,810.811 1597.52,804.672 1601.64,820.741 1605.77,846.117 1609.9,841.943 1614.03,730.252 1618.16,653.866 1622.28,618.848 1626.41,623.422 1630.54,638.814 \n",
       "  1634.67,710.353 1638.79,714.565 1642.92,757.294 1647.05,725.002 1651.18,736.053 1655.3,719.015 1659.43,715.487 1663.56,755.054 1667.69,740.459 1671.81,772.443 \n",
       "  1675.94,772.856 1680.07,768.128 1684.2,794.892 1688.33,760.22 1692.45,696.215 1696.58,665.266 1700.71,651.634 1704.84,645.29 1708.96,658.364 1713.09,657.354 \n",
       "  1717.22,629.469 1721.35,705.993 1725.47,750.166 1729.6,729.718 1733.73,750.273 1737.86,798.867 1741.99,759.965 1746.11,746.419 1750.24,777.083 1754.37,753.507 \n",
       "  1758.5,754.282 1762.62,713.565 1766.75,704.368 1770.88,714.475 1775.01,711.412 1779.13,674.148 1783.26,701.96 1787.39,716.917 1791.52,685.004 1795.64,696.991 \n",
       "  1799.77,740.917 1803.9,733.457 1808.03,775.716 1812.16,825.784 1816.28,866.76 1820.41,873.876 1824.54,835.321 1828.67,834.431 1832.79,823.889 1836.92,769.443 \n",
       "  1841.05,785.678 1845.18,854.954 1849.3,885.793 1853.43,898.191 1857.56,917.806 1861.69,867.77 1865.82,802.395 1869.94,767.485 1874.07,715.318 1878.2,670.624 \n",
       "  1882.33,708.636 1886.45,701.391 1890.58,684.476 1894.71,614.459 1898.84,580.872 1902.96,540.922 1907.09,628.424 1911.22,656.269 1915.35,723.425 1919.47,773.514 \n",
       "  1923.6,827.059 1927.73,804.155 1931.86,788.696 1935.99,754.118 1940.11,784.788 1944.24,725.654 1948.37,752.449 1952.5,730.741 1956.62,759.411 1960.75,815.953 \n",
       "  1964.88,814.312 1969.01,832.567 1973.13,864.061 1977.26,828.5 1981.39,861.286 1985.52,833.444 1989.65,805.12 1993.77,825.605 1997.9,831.594 2002.03,857.315 \n",
       "  2006.16,820.766 2010.28,870.648 2014.41,870.606 2018.54,873.468 2022.67,860.161 2026.79,906.152 2030.92,938.425 2035.05,845.794 2039.18,825.782 2043.3,823.312 \n",
       "  2047.43,843.764 2051.56,768.807 2055.69,713.714 2059.82,656.699 2063.94,652.29 2068.07,703.48 2072.2,721.331 2076.33,628.147 2080.45,593.898 2084.58,600.955 \n",
       "  2088.71,553.17 2092.84,486.886 2096.96,484.252 2101.09,455.956 2105.22,391.682 2109.35,297.502 2113.48,231.429 2117.6,174.225 2121.73,202.381 2125.86,209.265 \n",
       "  2129.99,174.172 2134.11,216.352 2138.24,266.673 2142.37,207.961 2146.5,165.078 2150.62,213.055 2154.75,177.125 2158.88,246.172 2163.01,235.895 2167.13,236.285 \n",
       "  2171.26,239.648 2175.39,171.127 2179.52,150.087 2183.65,221.094 2187.77,299.114 2191.9,298.1 2196.03,327.729 2200.16,355.591 2204.28,427.384 2208.41,394.475 \n",
       "  2212.54,362.043 2216.67,368.196 2220.79,320.929 2224.92,348.267 2229.05,289.888 2233.18,279.786 2237.31,280.234 2241.43,284.807 2245.56,279.045 2249.69,361.5 \n",
       "  2253.82,390.201 2257.94,425.662 2262.07,437.826 2266.2,377.463 2270.33,403.685 2274.45,488.763 2278.58,462.787 2282.71,419.982 2286.84,350.856 2290.96,305.523 \n",
       "  \n",
       "  \"/>\n",
       "<polyline clip-path=\"url(#clip012)\" style=\"stroke:#e26f46; stroke-width:4; stroke-opacity:1; fill:none\" points=\"\n",
       "  231.26,760.462 235.387,788.38 239.515,793.723 243.643,811.559 247.77,825.019 251.898,889.378 256.026,855.132 260.153,794.8 264.281,786.118 268.409,851.02 \n",
       "  272.536,884.574 276.664,903.316 280.792,922.589 284.919,889.059 289.047,923.607 293.175,900.833 297.302,894.576 301.43,962.799 305.558,930.176 309.685,950.252 \n",
       "  313.813,901.164 317.941,910.887 322.068,932.255 326.196,908.586 330.324,925.401 334.451,978.178 338.579,956.607 342.707,991.168 346.834,979.332 350.962,978.034 \n",
       "  355.09,980.764 359.217,1053.44 363.345,1090.16 367.473,1065.21 371.6,980.68 375.728,954.869 379.856,1015.97 383.983,1044.29 388.111,1016.29 392.239,1023.53 \n",
       "  396.366,901.796 400.494,935.585 404.622,981.517 408.749,957.759 412.877,944.607 417.005,922.208 421.132,923.414 425.26,842.16 429.388,859.725 433.515,842.597 \n",
       "  437.643,829.488 441.771,836.792 445.898,805.088 450.026,785.396 454.154,831.563 458.281,802.369 462.409,745.225 466.537,712.34 470.664,702.175 474.792,697.491 \n",
       "  478.92,667.348 483.047,676.678 487.175,691.361 491.303,655.392 495.43,690.956 499.558,693.808 503.686,658.811 507.813,708.913 511.941,689.331 516.069,713.478 \n",
       "  520.196,744.91 524.324,731.238 528.452,725.527 532.579,745.76 536.707,770.617 540.835,760.942 544.962,752.442 549.09,737.872 553.218,785.722 557.345,820.093 \n",
       "  561.473,784.797 565.601,726.755 569.728,770.271 573.856,790.67 577.984,812.861 582.111,831.913 586.239,906.804 590.367,990.672 594.494,989.486 598.622,948.679 \n",
       "  602.75,929.435 606.877,915.105 611.005,983.489 615.133,983.682 619.26,965.376 623.388,1039.68 627.516,1074.35 631.643,1053.88 635.771,1001.49 639.899,999.471 \n",
       "  644.026,1014.78 648.154,1031.6 652.282,1068.84 656.409,1064.01 660.537,1051.62 664.665,1122.69 668.792,1160.97 672.92,1162.95 677.048,1103.95 681.175,1076.6 \n",
       "  685.303,1085.29 689.431,1099.71 693.558,1097.95 697.686,1108.3 701.814,1127.45 705.941,1136.49 710.069,1173.65 714.197,1192.4 718.324,1128.79 722.452,1098.97 \n",
       "  726.58,1094.74 730.707,1042.91 734.835,1023.24 738.963,1056.48 743.09,1013.42 747.218,1010.73 751.346,1031.81 755.473,969.008 759.601,926.341 763.729,909.537 \n",
       "  767.856,945.024 771.984,912.718 776.112,930.203 780.239,891.41 784.367,876.814 788.495,927.228 792.622,855.236 796.75,855.511 800.878,840.835 805.005,873.655 \n",
       "  809.133,841.476 813.261,813.518 817.388,782.836 821.516,752.042 825.644,758.038 829.771,805.919 833.899,771.324 838.027,731.534 842.154,727.922 846.282,665.383 \n",
       "  850.41,692.36 854.537,681.98 858.665,667.807 862.793,626.048 866.92,619.498 871.048,668.047 875.175,710.945 879.303,653.024 883.431,627.235 887.558,678.641 \n",
       "  891.686,738.859 895.814,698.644 899.941,619.706 904.069,651.468 908.197,654.134 912.324,665.866 916.452,697.307 920.58,710.796 924.707,764.906 928.835,755.426 \n",
       "  932.963,793.817 937.09,825.856 941.218,871.848 945.346,922.781 949.473,878.36 953.601,857.532 957.729,855.617 961.856,870.437 965.984,808.061 970.112,818.206 \n",
       "  974.239,759.263 978.367,768.257 982.495,783.373 986.622,763.724 990.75,736.303 994.878,694.268 999.005,691.263 1003.13,730.113 1007.26,735.168 1011.39,725.524 \n",
       "  1015.52,745.625 1019.64,716.465 1023.77,718.689 1027.9,726.03 1032.03,754.951 1036.15,758.17 1040.28,759.084 1044.41,842.534 1048.54,794.685 1052.67,800.011 \n",
       "  1056.79,837.83 1060.92,818.755 1065.05,904.808 1069.18,905.543 1073.3,878.123 1077.43,901.478 1081.56,851.248 1085.69,846.015 1089.81,853.085 1093.94,801.283 \n",
       "  1098.07,800.083 1102.2,797.68 1106.32,851.401 1110.45,862.124 1114.58,854.14 1118.71,916.801 1122.84,878.663 1126.96,904.101 1131.09,913.954 1135.22,986.099 \n",
       "  1139.35,1032.99 1143.47,1019.12 1147.6,1002.77 1151.73,1061.74 1155.86,1037.42 1159.98,1062.8 1164.11,1098.53 1168.24,1150.18 1172.37,1102.5 1176.5,1143.5 \n",
       "  1180.62,1076.39 1184.75,1060.26 1188.88,1037.16 1193.01,1085.91 1197.13,1069.77 1201.26,1018.21 1205.39,997.496 1209.52,993.214 1213.64,1017.83 1217.77,1064.99 \n",
       "  1221.9,997.508 1226.03,1007.57 1230.15,1050.61 1234.28,1011.69 1238.41,1048.1 1242.54,1015.49 1246.67,981.294 1250.79,952.923 1254.92,942.559 1259.05,911.118 \n",
       "  1263.18,874.257 1267.3,881.889 1271.43,870.978 1275.56,877.519 1279.69,801.118 1283.81,841.329 1287.94,851.251 1292.07,820.438 1296.2,848.742 1300.33,823.345 \n",
       "  1304.45,837.45 1308.58,779.541 1312.71,830.362 1316.84,801.791 1320.96,802.815 1325.09,777.094 1329.22,856.92 1333.35,851.706 1337.47,810.921 1341.6,850.842 \n",
       "  1345.73,873.626 1349.86,892.298 1353.98,920.411 1358.11,910.91 1362.24,979.14 1366.37,1059.52 1370.5,1028.07 1374.62,1009.64 1378.75,980.266 1382.88,1002.42 \n",
       "  1387.01,982.155 1391.13,1026.44 1395.26,980.965 1399.39,986.733 1403.52,948.738 1407.64,937.306 1411.77,895.78 1415.9,845.346 1420.03,812.638 1424.16,808.247 \n",
       "  1428.28,850.822 1432.41,931.267 1436.54,949.806 1440.67,979.902 1444.79,986.594 1448.92,989.344 1453.05,988.169 1457.18,921.962 1461.3,885.08 1465.43,865.826 \n",
       "  1469.56,931.992 1473.69,893.876 1477.81,914.324 1481.94,887.13 1486.07,883.632 1490.2,854.229 1494.33,858.47 1498.45,833.524 1502.58,846.976 1506.71,807.66 \n",
       "  1510.84,739.999 1514.96,744.267 1519.09,775.539 1523.22,756.17 1527.35,843.235 1531.47,852.809 1535.6,872.536 1539.73,834.352 1543.86,792.959 1547.98,851.833 \n",
       "  1552.11,866.354 1556.24,917.942 1560.37,959.145 1564.5,939.095 1568.62,941.497 1572.75,967.084 1576.88,886.912 1581.01,863.474 1585.13,829.222 1589.26,819.908 \n",
       "  1593.39,879.57 1597.52,884.191 1601.64,872.14 1605.77,901.531 1609.9,961.551 1614.03,999.693 1618.16,1057.13 1622.28,1076.88 1626.41,1046.45 1630.54,1030.33 \n",
       "  1634.67,989.175 1638.79,958.271 1642.92,966.586 1647.05,931.403 1651.18,963.884 1655.3,980.185 1659.43,1020.88 1663.56,1030.44 1667.69,1042.44 1671.81,1142.99 \n",
       "  1675.94,1139.23 1680.07,1093.25 1684.2,1086.09 1688.33,974.087 1692.45,999.738 1696.58,992.827 1700.71,947.074 1704.84,973.212 1708.96,1009.3 1713.09,1077.63 \n",
       "  1717.22,1078.65 1721.35,1024.98 1725.47,988.227 1729.6,952.848 1733.73,916.89 1737.86,950.048 1741.99,912.383 1746.11,946.605 1750.24,888.727 1754.37,897.334 \n",
       "  1758.5,961.347 1762.62,984.896 1766.75,1022.07 1770.88,1039.52 1775.01,1066.9 1779.13,1136.25 1783.26,1160.3 1787.39,1084.54 1791.52,1103.44 1795.64,1184.26 \n",
       "  1799.77,1161.13 1803.9,1253.28 1808.03,1263.73 1812.16,1194.3 1816.28,1212.85 1820.41,1208.52 1824.54,1163.83 1828.67,1186.14 1832.79,1084.22 1836.92,1118.05 \n",
       "  1841.05,1138.8 1845.18,1162.01 1849.3,1197.08 1853.43,1176.8 1857.56,1150 1861.69,1162.97 1865.82,1194.13 1869.94,1215.33 1874.07,1205.34 1878.2,1188.23 \n",
       "  1882.33,1174.06 1886.45,1172.23 1890.58,1107.77 1894.71,1095.3 1898.84,1126.15 1902.96,1091.83 1907.09,1035.9 1911.22,1043.71 1915.35,1017.82 1919.47,974.354 \n",
       "  1923.6,994.366 1927.73,945.87 1931.86,927.718 1935.99,951.331 1940.11,953.531 1944.24,1047.6 1948.37,1055.44 1952.5,1064.29 1956.62,1068.24 1960.75,1026.29 \n",
       "  1964.88,1095.76 1969.01,1082.23 1973.13,1055.12 1977.26,1095.02 1981.39,1081.28 1985.52,1043.1 1989.65,1094.23 1993.77,1105.62 1997.9,1100.58 2002.03,1100.7 \n",
       "  2006.16,1087.73 2010.28,1029.56 2014.41,1012.11 2018.54,1020.04 2022.67,922.929 2026.79,933.872 2030.92,957.759 2035.05,908.399 2039.18,909.884 2043.3,883.66 \n",
       "  2047.43,824.443 2051.56,857.422 2055.69,918.776 2059.82,962.773 2063.94,971.321 2068.07,977.735 2072.2,1022.33 2076.33,997.128 2080.45,1006.24 2084.58,1009.34 \n",
       "  2088.71,1044.31 2092.84,975.333 2096.96,1000.3 2101.09,1006.68 2105.22,984.129 2109.35,919.036 2113.48,934.38 2117.6,965.169 2121.73,960.279 2125.86,958.928 \n",
       "  2129.99,981.221 2134.11,978.785 2138.24,1031.82 2142.37,1013.89 2146.5,974.945 2150.62,991.185 2154.75,973.305 2158.88,980.551 2163.01,998.348 2167.13,988.136 \n",
       "  2171.26,959.126 2175.39,944.017 2179.52,961.032 2183.65,943.908 2187.77,1010.13 2191.9,1058.99 2196.03,976.393 2200.16,922.232 2204.28,882.806 2208.41,890.942 \n",
       "  2212.54,888.462 2216.67,865.587 2220.79,837.581 2224.92,757.646 2229.05,745.393 2233.18,790.82 2237.31,800.124 2241.43,801.506 2245.56,788.197 2249.69,750.637 \n",
       "  2253.82,806.943 2257.94,689.816 2262.07,742.445 2266.2,720.562 2270.33,694.176 2274.45,688.321 2278.58,701.339 2282.71,738.64 2286.84,763.379 2290.96,827.538 \n",
       "  \n",
       "  \"/>\n",
       "<polyline clip-path=\"url(#clip012)\" style=\"stroke:#3da44d; stroke-width:4; stroke-opacity:1; fill:none\" points=\"\n",
       "  231.26,760.462 235.387,784.239 239.515,732.222 243.643,734.137 247.77,699.832 251.898,696.811 256.026,749.914 260.153,773.226 264.281,759.109 268.409,762.545 \n",
       "  272.536,773.141 276.664,775.026 280.792,716.564 284.919,747.539 289.047,706.927 293.175,713.223 297.302,687.594 301.43,634.942 305.558,672.251 309.685,685.163 \n",
       "  313.813,677.391 317.941,644.363 322.068,640.579 326.196,672.606 330.324,673.582 334.451,617.287 338.579,591.606 342.707,615.777 346.834,598.283 350.962,701.68 \n",
       "  355.09,709.554 359.217,709.981 363.345,723.544 367.473,691.136 371.6,703.191 375.728,687.736 379.856,712.008 383.983,714.216 388.111,747.766 392.239,651.77 \n",
       "  396.366,683.668 400.494,674.481 404.622,678.027 408.749,664.238 412.877,690.539 417.005,748.189 421.132,782.647 425.26,861.513 429.388,851.583 433.515,839.777 \n",
       "  437.643,851.404 441.771,918.456 445.898,902.14 450.026,875.891 454.154,953.762 458.281,989.161 462.409,1012.22 466.537,969.699 470.664,1004.92 474.792,1075.89 \n",
       "  478.92,1073.04 483.047,1060.34 487.175,1071.91 491.303,1076.34 495.43,1039.86 499.558,1042.75 503.686,1042.03 507.813,1019.53 511.941,994.368 516.069,1004.45 \n",
       "  520.196,1011.38 524.324,1041.01 528.452,1051.63 532.579,1036.79 536.707,1012.74 540.835,993.751 544.962,936.313 549.09,938.498 553.218,1023.18 557.345,981.873 \n",
       "  561.473,957.016 565.601,1010.77 569.728,927.33 573.856,930.095 577.984,999.999 582.111,1030.32 586.239,984.545 590.367,999.414 594.494,1016.96 598.622,1116.02 \n",
       "  602.75,1109.29 606.877,1041.02 611.005,1035.3 615.133,1111.34 619.26,1121.29 623.388,1138.16 627.516,1105.5 631.643,1132.13 635.771,1158.39 639.899,1144.33 \n",
       "  644.026,1091.28 648.154,1076.59 652.282,1041.25 656.409,1032.42 660.537,983.927 664.665,996.092 668.792,1008.84 672.92,960.29 677.048,930.128 681.175,943.09 \n",
       "  685.303,947.207 689.431,976.585 693.558,960.466 697.686,961.66 701.814,980.8 705.941,938.614 710.069,984.285 714.197,1009.48 718.324,1041.69 722.452,1057.47 \n",
       "  726.58,1021.65 730.707,1027.69 734.835,1051.78 738.963,1044.28 743.09,1030.15 747.218,1057.51 751.346,1070.99 755.473,1145.05 759.601,1176.75 763.729,1129.64 \n",
       "  767.856,1100.08 771.984,1098.51 776.112,1102.64 780.239,1130.03 784.367,1116.72 788.495,1059.98 792.622,1060.72 796.75,1023.6 800.878,1052.32 805.005,1043.11 \n",
       "  809.133,1090.55 813.261,1130.53 817.388,1140.96 821.516,1187.8 825.644,1186.43 829.771,1254 833.899,1225.36 838.027,1266.62 842.154,1237.54 846.282,1200.44 \n",
       "  850.41,1189.61 854.537,1213.78 858.665,1217.87 862.793,1238.68 866.92,1241.07 871.048,1298.58 875.175,1256.85 879.303,1261.05 883.431,1236.43 887.558,1161.36 \n",
       "  891.686,1135.62 895.814,1100.72 899.941,1115.72 904.069,1119.16 908.197,1143.96 912.324,1114.91 916.452,1114.54 920.58,1160.6 924.707,1134.13 928.835,1119.38 \n",
       "  932.963,1066.65 937.09,1017.75 941.218,1109.72 945.346,1127.65 949.473,1123.45 953.601,1161.94 957.729,1155.82 961.856,1180.8 965.984,1131.69 970.112,1104.29 \n",
       "  974.239,1155.47 978.367,1172.72 982.495,1132.04 986.622,1149.85 990.75,1159.47 994.878,1138.02 999.005,1122.56 1003.13,1097.11 1007.26,1089.07 1011.39,1147.72 \n",
       "  1015.52,1108.34 1019.64,1088.09 1023.77,1016.92 1027.9,1051.66 1032.03,989.149 1036.15,1007.57 1040.28,1062.96 1044.41,1079.74 1048.54,1078.47 1052.67,1079.61 \n",
       "  1056.79,1057.84 1060.92,1037.64 1065.05,1086.48 1069.18,1088.09 1073.3,1076.22 1077.43,1039.32 1081.56,1007.35 1085.69,1021.36 1089.81,1017.98 1093.94,1004.97 \n",
       "  1098.07,1035.84 1102.2,1095.74 1106.32,1081.95 1110.45,1059.22 1114.58,1083.9 1118.71,1059.07 1122.84,1098.65 1126.96,1105.72 1131.09,1167.79 1135.22,1210.86 \n",
       "  1139.35,1168.7 1143.47,1154.39 1147.6,1107.23 1151.73,1035.57 1155.86,1058.19 1159.98,1082.4 1164.11,1040.71 1168.24,1116.99 1172.37,1098.54 1176.5,1031.42 \n",
       "  1180.62,980.434 1184.75,948.874 1188.88,980.497 1193.01,1009.02 1197.13,918.786 1201.26,927.626 1205.39,973.334 1209.52,972.472 1213.64,1011.69 1217.77,1006.42 \n",
       "  1221.9,1041.18 1226.03,1009.92 1230.15,979.073 1234.28,999.129 1238.41,1028.35 1242.54,1044.71 1246.67,1084.63 1250.79,1078.55 1254.92,1100.41 1259.05,1112.35 \n",
       "  1263.18,1090.94 1267.3,1085.97 1271.43,1077.95 1275.56,1143.78 1279.69,1167.85 1283.81,1152.07 1287.94,1115.34 1292.07,1050.13 1296.2,1038.17 1300.33,1077.79 \n",
       "  1304.45,1052.85 1308.58,1022.08 1312.71,1050.07 1316.84,1055.21 1320.96,1144.68 1325.09,1164.97 1329.22,1176.59 1333.35,1138.02 1337.47,1123.55 1341.6,1071.84 \n",
       "  1345.73,1069.35 1349.86,1085.7 1353.98,1040.73 1358.11,1084.28 1362.24,1144.69 1366.37,1161.1 1370.5,1149.89 1374.62,1163.96 1378.75,1173.33 1382.88,1188.63 \n",
       "  1387.01,1140.53 1391.13,1140.49 1395.26,1131.37 1399.39,1091.76 1403.52,1125.09 1407.64,1163.84 1411.77,1198.57 1415.9,1206.01 1420.03,1222.5 1424.16,1232.15 \n",
       "  1428.28,1245.23 1432.41,1281.63 1436.54,1253.54 1440.67,1268.91 1444.79,1269.55 1448.92,1222.94 1453.05,1240.3 1457.18,1273.42 1461.3,1246.38 1465.43,1252.23 \n",
       "  1469.56,1213.6 1473.69,1234.24 1477.81,1221.95 1481.94,1243.8 1486.07,1266.56 1490.2,1219.11 1494.33,1162.38 1498.45,1132.35 1502.58,1003.95 1506.71,951.744 \n",
       "  1510.84,921.021 1514.96,925.057 1519.09,874.027 1523.22,860.608 1527.35,807.437 1531.47,828.527 1535.6,882.065 1539.73,893.294 1543.86,819.109 1547.98,869.353 \n",
       "  1552.11,856.084 1556.24,894.971 1560.37,909.012 1564.5,878.759 1568.62,914.742 1572.75,888.082 1576.88,894.775 1581.01,893.69 1585.13,861.605 1589.26,836.384 \n",
       "  1593.39,835.85 1597.52,834.867 1601.64,871.364 1605.77,898.759 1609.9,893.357 1614.03,858.879 1618.16,796.336 1622.28,762.253 1626.41,794.735 1630.54,855.596 \n",
       "  1634.67,835.274 1638.79,799.089 1642.92,826.664 1647.05,835.502 1651.18,857.053 1655.3,848.553 1659.43,819.648 1663.56,735.992 1667.69,726.115 1671.81,747.784 \n",
       "  1675.94,732.268 1680.07,698.306 1684.2,729.826 1688.33,756.869 1692.45,725.364 1696.58,720.04 1700.71,742.271 1704.84,675.444 1708.96,602.877 1713.09,622.44 \n",
       "  1717.22,588.835 1721.35,642.912 1725.47,588.925 1729.6,557.146 1733.73,535.222 1737.86,526.027 1741.99,500.774 1746.11,524.668 1750.24,526.85 1754.37,561.591 \n",
       "  1758.5,629.322 1762.62,603.519 1766.75,528.653 1770.88,544.268 1775.01,554.738 1779.13,541.345 1783.26,509.293 1787.39,476.838 1791.52,469.629 1795.64,499.992 \n",
       "  1799.77,537.592 1803.9,555.223 1808.03,578.192 1812.16,607.487 1816.28,701.347 1820.41,706.792 1824.54,713.644 1828.67,767.789 1832.79,837.065 1836.92,843.53 \n",
       "  1841.05,792.668 1845.18,795.32 1849.3,758.489 1853.43,769.543 1857.56,733.028 1861.69,774.488 1865.82,815.518 1869.94,772.271 1874.07,752.598 1878.2,799.879 \n",
       "  1882.33,803.492 1886.45,828.742 1890.58,826.065 1894.71,764.756 1898.84,790.769 1902.96,771.887 1907.09,828.615 1911.22,850.981 1915.35,910.22 1919.47,926.435 \n",
       "  1923.6,947.298 1927.73,957.637 1931.86,1016.73 1935.99,1054.38 1940.11,1087.46 1944.24,1129.53 1948.37,1177.26 1952.5,1181.08 1956.62,1214.48 1960.75,1218.11 \n",
       "  1964.88,1248.83 1969.01,1249.92 1973.13,1348.09 1977.26,1386.5 1981.39,1291.16 1985.52,1296.66 1989.65,1264.87 1993.77,1255.37 1997.9,1274.74 2002.03,1251.02 \n",
       "  2006.16,1207.85 2010.28,1188.79 2014.41,1193.46 2018.54,1154.89 2022.67,1134.5 2026.79,1113.21 2030.92,1085.69 2035.05,1076.11 2039.18,1120.77 2043.3,1139.56 \n",
       "  2047.43,1076.06 2051.56,1068.53 2055.69,1046.35 2059.82,1033.51 2063.94,1018.78 2068.07,1062.52 2072.2,976.473 2076.33,1008.71 2080.45,999.632 2084.58,931.946 \n",
       "  2088.71,946.571 2092.84,866.822 2096.96,901.238 2101.09,961.549 2105.22,936.847 2109.35,919.381 2113.48,988.544 2117.6,943.373 2121.73,881.989 2125.86,893.68 \n",
       "  2129.99,919.186 2134.11,858.359 2138.24,863.335 2142.37,822.107 2146.5,855.659 2150.62,857.792 2154.75,823.943 2158.88,783.094 2163.01,822.814 2167.13,754.241 \n",
       "  2171.26,802.821 2175.39,878.603 2179.52,901.721 2183.65,968.742 2187.77,1062.62 2191.9,1079.55 2196.03,1182.97 2200.16,1130.19 2204.28,1150.31 2208.41,1108.84 \n",
       "  2212.54,1140.2 2216.67,1137.06 2220.79,1125.88 2224.92,1045.71 2229.05,1027.82 2233.18,1032.93 2237.31,1046.62 2241.43,996.067 2245.56,1030.01 2249.69,1082.21 \n",
       "  2253.82,1129.48 2257.94,1116.32 2262.07,1091.74 2266.2,1181.97 2270.33,1181.63 2274.45,1105.17 2278.58,1103.33 2282.71,1070.29 2286.84,1026.13 2290.96,1088.04 \n",
       "  \n",
       "  \"/>\n",
       "<polyline clip-path=\"url(#clip012)\" style=\"stroke:#c271d2; stroke-width:4; stroke-opacity:1; fill:none\" points=\"\n",
       "  231.26,760.462 235.387,790.505 239.515,788.52 243.643,752.903 247.77,755.963 251.898,750.264 256.026,796.648 260.153,760.364 264.281,761.582 268.409,798.574 \n",
       "  272.536,831.025 276.664,770.537 280.792,761.075 284.919,762.471 289.047,729.27 293.175,715.231 297.302,736.686 301.43,678.211 305.558,722.375 309.685,649.831 \n",
       "  313.813,648.255 317.941,626.534 322.068,521.372 326.196,521.466 330.324,510.695 334.451,466.803 338.579,467.388 342.707,500.422 346.834,444.038 350.962,459.602 \n",
       "  355.09,508.603 359.217,481.266 363.345,488.118 367.473,491.325 371.6,494.928 375.728,481.993 379.856,470.775 383.983,424.946 388.111,432.537 392.239,479.616 \n",
       "  396.366,529.656 400.494,536.331 404.622,520.149 408.749,531.983 412.877,524.282 417.005,444.044 421.132,394.547 425.26,391.081 429.388,434.273 433.515,470.377 \n",
       "  437.643,458.367 441.771,446.111 445.898,479.816 450.026,530.053 454.154,476.64 458.281,484.232 462.409,473.186 466.537,443.449 470.664,407.668 474.792,448.069 \n",
       "  478.92,453.733 483.047,448.996 487.175,455.894 491.303,469.21 495.43,517.434 499.558,544.219 503.686,508.698 507.813,562.339 511.941,569.676 516.069,573.798 \n",
       "  520.196,565.71 524.324,603.985 528.452,637.244 532.579,553.283 536.707,527.971 540.835,620.793 544.962,641.203 549.09,661.744 553.218,712.877 557.345,671.147 \n",
       "  561.473,720.705 565.601,736.391 569.728,755.795 573.856,755.332 577.984,767.737 582.111,787.131 586.239,795.597 590.367,840.545 594.494,859.574 598.622,867.401 \n",
       "  602.75,913.492 606.877,909.892 611.005,956.244 615.133,1002.58 619.26,1006.82 623.388,973.994 627.516,1008.38 631.643,980.844 635.771,1034.74 639.899,1061.11 \n",
       "  644.026,1075.51 648.154,1077.84 652.282,1089.31 656.409,1055.62 660.537,1006.33 664.665,941.362 668.792,881.27 672.92,843.928 677.048,771.767 681.175,788.164 \n",
       "  685.303,774.681 689.431,743.559 693.558,729.598 697.686,714.011 701.814,761.65 705.941,725.994 710.069,769.465 714.197,758.325 718.324,608.95 722.452,589.213 \n",
       "  726.58,575.822 730.707,629.829 734.835,602.23 738.963,616.854 743.09,619.19 747.218,588.476 751.346,601.11 755.473,565.248 759.601,513.118 763.729,470.344 \n",
       "  767.856,495.891 771.984,434.954 776.112,504.816 780.239,554.148 784.367,521.003 788.495,530.796 792.622,541.476 796.75,628.504 800.878,655.338 805.005,673.415 \n",
       "  809.133,702.385 813.261,685.759 817.388,702.209 821.516,724.526 825.644,741.525 829.771,729.456 833.899,772.03 838.027,739.447 842.154,728.513 846.282,743.114 \n",
       "  850.41,736.243 854.537,733.305 858.665,691.794 862.793,668.134 866.92,666.456 871.048,721.26 875.175,767.886 879.303,716.9 883.431,703.726 887.558,673.862 \n",
       "  891.686,673.984 895.814,601.641 899.941,613.166 904.069,698.322 908.197,668.549 912.324,683.959 916.452,671.954 920.58,685.105 924.707,678.536 928.835,661.553 \n",
       "  932.963,711.717 937.09,648.611 941.218,614.479 945.346,598.253 949.473,651.238 953.601,666.195 957.729,669.292 961.856,617.233 965.984,624.204 970.112,584.462 \n",
       "  974.239,541.136 978.367,574.277 982.495,570.585 986.622,592.198 990.75,623.319 994.878,584.229 999.005,537.492 1003.13,569.988 1007.26,609.547 1011.39,568.755 \n",
       "  1015.52,593.284 1019.64,567.624 1023.77,589.182 1027.9,615.48 1032.03,573.168 1036.15,633.628 1040.28,662.773 1044.41,659.665 1048.54,708.821 1052.67,697.593 \n",
       "  1056.79,708.521 1060.92,786.504 1065.05,713.734 1069.18,726.099 1073.3,825.654 1077.43,866.521 1081.56,851.638 1085.69,875.312 1089.81,843.693 1093.94,822.37 \n",
       "  1098.07,785.586 1102.2,788.167 1106.32,845.63 1110.45,882.589 1114.58,859.302 1118.71,819.805 1122.84,778.598 1126.96,774.686 1131.09,711.175 1135.22,768.71 \n",
       "  1139.35,807.622 1143.47,786.808 1147.6,787.197 1151.73,800.803 1155.86,817.901 1159.98,824.762 1164.11,778.339 1168.24,772.718 1172.37,846.276 1176.5,854.76 \n",
       "  1180.62,964.501 1184.75,1054.34 1188.88,1033.83 1193.01,1004.72 1197.13,968.693 1201.26,1020.14 1205.39,1070.13 1209.52,1103.4 1213.64,1152.13 1217.77,1044.01 \n",
       "  1221.9,1044.66 1226.03,1032.53 1230.15,998.965 1234.28,914.166 1238.41,943.101 1242.54,962.166 1246.67,969.907 1250.79,927.127 1254.92,934.161 1259.05,889.331 \n",
       "  1263.18,850.292 1267.3,807.03 1271.43,821.123 1275.56,810.637 1279.69,731.584 1283.81,691.517 1287.94,669.846 1292.07,682.57 1296.2,718.69 1300.33,771.409 \n",
       "  1304.45,794.074 1308.58,785.48 1312.71,797.125 1316.84,744.999 1320.96,745.252 1325.09,797.805 1329.22,791.076 1333.35,782.055 1337.47,755.934 1341.6,754.544 \n",
       "  1345.73,740.659 1349.86,741.266 1353.98,711.667 1358.11,632.627 1362.24,533.537 1366.37,575.861 1370.5,540.955 1374.62,525.755 1378.75,541.35 1382.88,612.308 \n",
       "  1387.01,639.206 1391.13,608.346 1395.26,668.065 1399.39,624.103 1403.52,629.099 1407.64,567.08 1411.77,539.631 1415.9,527.453 1420.03,496.397 1424.16,426.484 \n",
       "  1428.28,405.88 1432.41,392.148 1436.54,383.205 1440.67,374.496 1444.79,349.979 1448.92,385.981 1453.05,389.611 1457.18,390.446 1461.3,370.337 1465.43,397.565 \n",
       "  1469.56,366.371 1473.69,371.668 1477.81,412.638 1481.94,441.175 1486.07,417.35 1490.2,354.288 1494.33,433.356 1498.45,370.042 1502.58,400.84 1506.71,436.249 \n",
       "  1510.84,469.114 1514.96,477.053 1519.09,463.461 1523.22,452.401 1527.35,569.773 1531.47,606.598 1535.6,604.643 1539.73,614.74 1543.86,574.839 1547.98,591.84 \n",
       "  1552.11,655.814 1556.24,659.185 1560.37,663.967 1564.5,665.714 1568.62,661.02 1572.75,662.653 1576.88,645.135 1581.01,637.309 1585.13,704.031 1589.26,683.232 \n",
       "  1593.39,702.122 1597.52,724.829 1601.64,694.277 1605.77,673.042 1609.9,636.033 1614.03,640.896 1618.16,593.874 1622.28,619.243 1626.41,629.49 1630.54,672.647 \n",
       "  1634.67,715.956 1638.79,684.38 1642.92,705.656 1647.05,682.211 1651.18,645.887 1655.3,616.959 1659.43,641.905 1663.56,717.498 1667.69,748.811 1671.81,691.774 \n",
       "  1675.94,762.025 1680.07,811.059 1684.2,884.587 1688.33,904.622 1692.45,936.972 1696.58,917.352 1700.71,999.708 1704.84,1052.02 1708.96,1017.6 1713.09,1019.74 \n",
       "  1717.22,923.057 1721.35,911.471 1725.47,902.609 1729.6,929.318 1733.73,956.703 1737.86,1035.23 1741.99,1055.68 1746.11,1083.83 1750.24,1153.32 1754.37,1126.87 \n",
       "  1758.5,1063.4 1762.62,1078.45 1766.75,1075.99 1770.88,1082.37 1775.01,1085.51 1779.13,1031.96 1783.26,980.46 1787.39,1004.6 1791.52,956.574 1795.64,896.566 \n",
       "  1799.77,893.557 1803.9,902.713 1808.03,898.306 1812.16,913.988 1816.28,932.02 1820.41,970.346 1824.54,1008.12 1828.67,990.255 1832.79,995.988 1836.92,997.005 \n",
       "  1841.05,933.707 1845.18,884.385 1849.3,810.997 1853.43,735.197 1857.56,786.798 1861.69,807.449 1865.82,744.41 1869.94,789.263 1874.07,826.428 1878.2,836.085 \n",
       "  1882.33,823.313 1886.45,837.076 1890.58,846.834 1894.71,854.595 1898.84,840.271 1902.96,856.248 1907.09,882.293 1911.22,937.822 1915.35,969.987 1919.47,933.407 \n",
       "  1923.6,912.719 1927.73,887.631 1931.86,816.163 1935.99,809.604 1940.11,786.809 1944.24,743.87 1948.37,728.76 1952.5,711.149 1956.62,670.971 1960.75,719.05 \n",
       "  1964.88,650.14 1969.01,651.645 1973.13,585.757 1977.26,515.422 1981.39,514.492 1985.52,503.977 1989.65,494.79 1993.77,504.466 1997.9,477.242 2002.03,498.498 \n",
       "  2006.16,475.736 2010.28,500.812 2014.41,550.366 2018.54,524.267 2022.67,535.294 2026.79,514.094 2030.92,512.097 2035.05,462.022 2039.18,468.629 2043.3,471.778 \n",
       "  2047.43,455.213 2051.56,392.346 2055.69,400.979 2059.82,407.081 2063.94,399.925 2068.07,396.184 2072.2,418.626 2076.33,422.02 2080.45,433.512 2084.58,385.477 \n",
       "  2088.71,358.668 2092.84,337.88 2096.96,367.335 2101.09,365.829 2105.22,456.958 2109.35,370.751 2113.48,418.863 2117.6,424.784 2121.73,434.654 2125.86,507.16 \n",
       "  2129.99,521.104 2134.11,477.744 2138.24,533.8 2142.37,552.304 2146.5,575.078 2150.62,598.657 2154.75,577.379 2158.88,606.251 2163.01,526.75 2167.13,519.028 \n",
       "  2171.26,505.732 2175.39,450.013 2179.52,497.014 2183.65,550.135 2187.77,488.927 2191.9,491.973 2196.03,479.906 2200.16,458.916 2204.28,467.657 2208.41,445.363 \n",
       "  2212.54,448.077 2216.67,385.169 2220.79,455.126 2224.92,505.05 2229.05,534.438 2233.18,511.874 2237.31,422.195 2241.43,444.09 2245.56,489.733 2249.69,507.139 \n",
       "  2253.82,556.253 2257.94,622.55 2262.07,596.998 2266.2,616.36 2270.33,647.529 2274.45,758.515 2278.58,749.354 2282.71,812.366 2286.84,814.559 2290.96,856.718 \n",
       "  \n",
       "  \"/>\n",
       "<polyline clip-path=\"url(#clip012)\" style=\"stroke:#ac8d18; stroke-width:4; stroke-opacity:1; fill:none\" points=\"\n",
       "  231.26,760.462 235.387,757.281 239.515,774.881 243.643,803.862 247.77,829.964 251.898,806.975 256.026,762.357 260.153,751.241 264.281,759.698 268.409,789.955 \n",
       "  272.536,761.636 276.664,717.04 280.792,665.671 284.919,680.531 289.047,671.488 293.175,661.684 297.302,728.188 301.43,733.586 305.558,798.458 309.685,768.737 \n",
       "  313.813,741.985 317.941,730.143 322.068,723.875 326.196,765.416 330.324,726.873 334.451,717.771 338.579,751.029 342.707,655.822 346.834,656.038 350.962,636.284 \n",
       "  355.09,619.083 359.217,603.005 363.345,665.516 367.473,638.847 371.6,597.174 375.728,651.059 379.856,677.782 383.983,699.303 388.111,693.768 392.239,703.207 \n",
       "  396.366,672.786 400.494,689.908 404.622,705.847 408.749,691.22 412.877,706.821 417.005,739.397 421.132,754.481 425.26,779.486 429.388,773.656 433.515,788.482 \n",
       "  437.643,802.541 441.771,717.033 445.898,704.838 450.026,776.715 454.154,769.586 458.281,775.928 462.409,779.784 466.537,758.493 470.664,742.1 474.792,784.142 \n",
       "  478.92,825.64 483.047,825.167 487.175,854.366 491.303,909.163 495.43,921.244 499.558,993.825 503.686,1053.52 507.813,941.048 511.941,907.175 516.069,859.748 \n",
       "  520.196,903.751 524.324,863.598 528.452,896.603 532.579,932.853 536.707,937.863 540.835,964.977 544.962,946.063 549.09,971.857 553.218,973.021 557.345,1031.92 \n",
       "  561.473,1036.39 565.601,1012.99 569.728,973.808 573.856,1005.74 577.984,1015.48 582.111,1002.14 586.239,992.7 590.367,994.816 594.494,1018.29 598.622,988.21 \n",
       "  602.75,1052.33 606.877,1071.56 611.005,1050.28 615.133,1036.3 619.26,1032.41 623.388,1004.25 627.516,956.315 631.643,937.539 635.771,852.35 639.899,828.232 \n",
       "  644.026,846.393 648.154,889.114 652.282,816.548 656.409,870.846 660.537,866.207 664.665,854.101 668.792,914.768 672.92,955.03 677.048,945.814 681.175,970.584 \n",
       "  685.303,980.182 689.431,929.13 693.558,874.263 697.686,891.892 701.814,853.171 705.941,874.13 710.069,845.017 714.197,880.44 718.324,862.818 722.452,837.353 \n",
       "  726.58,830.989 730.707,829.479 734.835,867.147 738.963,929.127 743.09,918.718 747.218,913.229 751.346,882.206 755.473,818.17 759.601,856.769 763.729,919.302 \n",
       "  767.856,901.813 771.984,938.425 776.112,969.547 780.239,861.236 784.367,774.579 788.495,708.435 792.622,746.705 796.75,740.681 800.878,759.869 805.005,724.737 \n",
       "  809.133,724.227 813.261,697.595 817.388,704.441 821.516,619.346 825.644,569.845 829.771,515.855 833.899,475.706 838.027,426.311 842.154,431.452 846.282,411.134 \n",
       "  850.41,406.907 854.537,414.142 858.665,401.114 862.793,380.782 866.92,359.008 871.048,340.29 875.175,336.971 879.303,386.948 883.431,372.749 887.558,333.3 \n",
       "  891.686,417.468 895.814,385.348 899.941,426.619 904.069,429.786 908.197,347.139 912.324,324.488 916.452,292.187 920.58,338.344 924.707,304.965 928.835,287.753 \n",
       "  932.963,220.58 937.09,220.023 941.218,222.338 945.346,181.016 949.473,262.203 953.601,231.54 957.729,245.494 961.856,295.744 965.984,348.198 970.112,356.082 \n",
       "  974.239,319.084 978.367,341.626 982.495,343.111 986.622,312.865 990.75,246.909 994.878,221.36 999.005,227.831 1003.13,152.333 1007.26,127.969 1011.39,115.339 \n",
       "  1015.52,164.207 1019.64,157.077 1023.77,118.817 1027.9,98.0152 1032.03,166.266 1036.15,161.543 1040.28,135.614 1044.41,171.71 1048.54,198.106 1052.67,208.302 \n",
       "  1056.79,204.364 1060.92,234.949 1065.05,231.176 1069.18,187.819 1073.3,139.565 1077.43,161.392 1081.56,180.104 1085.69,153.339 1089.81,178.929 1093.94,166.801 \n",
       "  1098.07,207.97 1102.2,286.379 1106.32,294.34 1110.45,345.368 1114.58,348.603 1118.71,359.821 1122.84,322.847 1126.96,398.952 1131.09,331.7 1135.22,291.129 \n",
       "  1139.35,358.522 1143.47,383.854 1147.6,367.386 1151.73,417.209 1155.86,469.102 1159.98,396.125 1164.11,387.615 1168.24,372.348 1172.37,319.098 1176.5,329.229 \n",
       "  1180.62,331.515 1184.75,306.64 1188.88,291.44 1193.01,292.084 1197.13,290.416 1201.26,324.235 1205.39,341.927 1209.52,400.908 1213.64,386.597 1217.77,396.069 \n",
       "  1221.9,366.687 1226.03,376.311 1230.15,356.314 1234.28,399.781 1238.41,401.537 1242.54,448.63 1246.67,434.434 1250.79,472.535 1254.92,491.527 1259.05,553.443 \n",
       "  1263.18,537.482 1267.3,538.25 1271.43,494.051 1275.56,466.608 1279.69,423.905 1283.81,451.091 1287.94,419.726 1292.07,398.657 1296.2,379.181 1300.33,373.069 \n",
       "  1304.45,432.1 1308.58,452.459 1312.71,456.534 1316.84,460.835 1320.96,416.485 1325.09,446.643 1329.22,407.706 1333.35,408.193 1337.47,483.946 1341.6,501.155 \n",
       "  1345.73,494.331 1349.86,491.394 1353.98,513.179 1358.11,520.713 1362.24,528.063 1366.37,474.96 1370.5,511.748 1374.62,482.191 1378.75,526.432 1382.88,535.146 \n",
       "  1387.01,632.115 1391.13,611.631 1395.26,590.623 1399.39,545.083 1403.52,558.733 1407.64,541.139 1411.77,626.042 1415.9,634.783 1420.03,672.689 1424.16,674.553 \n",
       "  1428.28,731.024 1432.41,769.261 1436.54,777.974 1440.67,802.131 1444.79,752.134 1448.92,806.307 1453.05,816.69 1457.18,855.962 1461.3,786.137 1465.43,771.762 \n",
       "  1469.56,834.625 1473.69,920.31 1477.81,889.151 1481.94,886.757 1486.07,912.744 1490.2,847.734 1494.33,820.461 1498.45,767.055 1502.58,807.501 1506.71,865.411 \n",
       "  1510.84,835.562 1514.96,883.021 1519.09,849.991 1523.22,837.815 1527.35,792.283 1531.47,720.739 1535.6,751.471 1539.73,757.205 1543.86,677.658 1547.98,610.435 \n",
       "  1552.11,648.154 1556.24,643.498 1560.37,638.832 1564.5,711.712 1568.62,728.61 1572.75,697.265 1576.88,609.122 1581.01,581.356 1585.13,626.493 1589.26,668.154 \n",
       "  1593.39,642.701 1597.52,678.072 1601.64,682.786 1605.77,671.904 1609.9,680.356 1614.03,625.06 1618.16,676.793 1622.28,660.983 1626.41,644.5 1630.54,647.07 \n",
       "  1634.67,684.537 1638.79,654.525 1642.92,594.356 1647.05,651.692 1651.18,659.886 1655.3,647.168 1659.43,681.499 1663.56,662.267 1667.69,712.474 1671.81,656.717 \n",
       "  1675.94,647.965 1680.07,658.132 1684.2,708.285 1688.33,703.298 1692.45,752.213 1696.58,713.144 1700.71,670.184 1704.84,648.453 1708.96,628.677 1713.09,677.718 \n",
       "  1717.22,669.758 1721.35,581.597 1725.47,654.371 1729.6,566.625 1733.73,563.175 1737.86,595.578 1741.99,572.984 1746.11,601.297 1750.24,590.247 1754.37,627.971 \n",
       "  1758.5,605.777 1762.62,613.54 1766.75,583.671 1770.88,598.925 1775.01,643.015 1779.13,647.942 1783.26,662.577 1787.39,612.267 1791.52,666.598 1795.64,660.608 \n",
       "  1799.77,657.337 1803.9,678.251 1808.03,740.826 1812.16,698.218 1816.28,725.04 1820.41,751.72 1824.54,714.801 1828.67,718.006 1832.79,697.128 1836.92,692.754 \n",
       "  1841.05,708.708 1845.18,710.003 1849.3,697.024 1853.43,710.189 1857.56,677.957 1861.69,714.237 1865.82,637.477 1869.94,661.378 1874.07,674.026 1878.2,629.248 \n",
       "  1882.33,644.706 1886.45,572.209 1890.58,595.623 1894.71,580.178 1898.84,563.799 1902.96,602.256 1907.09,557.724 1911.22,605.267 1915.35,569.248 1919.47,588.337 \n",
       "  1923.6,620.862 1927.73,560.758 1931.86,522.785 1935.99,500.238 1940.11,492.188 1944.24,562.565 1948.37,559.617 1952.5,393.419 1956.62,374.565 1960.75,426.2 \n",
       "  1964.88,457.514 1969.01,424.372 1973.13,451.349 1977.26,404.958 1981.39,384.809 1985.52,427.007 1989.65,466.116 1993.77,403.483 1997.9,441.726 2002.03,371.716 \n",
       "  2006.16,395.807 2010.28,350.411 2014.41,383.783 2018.54,343.011 2022.67,382.425 2026.79,404.942 2030.92,384.402 2035.05,338.908 2039.18,362.836 2043.3,370.006 \n",
       "  2047.43,409.213 2051.56,436.018 2055.69,440.333 2059.82,410.55 2063.94,459.336 2068.07,420.06 2072.2,445.223 2076.33,429.692 2080.45,471.151 2084.58,501.976 \n",
       "  2088.71,520.851 2092.84,506.437 2096.96,499.851 2101.09,486.035 2105.22,487.386 2109.35,449.582 2113.48,421.32 2117.6,453.923 2121.73,443.737 2125.86,462.906 \n",
       "  2129.99,478.973 2134.11,499.934 2138.24,551.812 2142.37,501.487 2146.5,548.217 2150.62,559.339 2154.75,630.047 2158.88,618.896 2163.01,617.566 2167.13,573.288 \n",
       "  2171.26,612.071 2175.39,631.538 2179.52,676.728 2183.65,619.745 2187.77,616.104 2191.9,529.636 2196.03,539.057 2200.16,541.74 2204.28,628.728 2208.41,608.255 \n",
       "  2212.54,656.199 2216.67,703.416 2220.79,690.698 2224.92,698.762 2229.05,762.054 2233.18,773.349 2237.31,699.899 2241.43,641.736 2245.56,599.697 2249.69,568.597 \n",
       "  2253.82,615.265 2257.94,635.739 2262.07,637.923 2266.2,591.256 2270.33,550.146 2274.45,553.662 2278.58,609.958 2282.71,600.024 2286.84,595.476 2290.96,642.187 \n",
       "  \n",
       "  \"/>\n",
       "<polyline clip-path=\"url(#clip012)\" style=\"stroke:#00a9ad; stroke-width:4; stroke-opacity:1; fill:none\" points=\"\n",
       "  231.26,760.462 235.387,761.407 239.515,778.836 243.643,797.196 247.77,806.844 251.898,802.521 256.026,787.197 260.153,770.716 264.281,730.62 268.409,707.125 \n",
       "  272.536,744.498 276.664,753.072 280.792,728.572 284.919,775.013 289.047,774.838 293.175,718.765 297.302,692.683 301.43,629.05 305.558,614.973 309.685,632.758 \n",
       "  313.813,658.605 317.941,636.554 322.068,659.652 326.196,581.963 330.324,626.679 334.451,586.141 338.579,544.553 342.707,554.935 346.834,640.066 350.962,644.43 \n",
       "  355.09,680.603 359.217,705.866 363.345,759.959 367.473,711.747 371.6,687.239 375.728,721.311 379.856,732.772 383.983,753.933 388.111,715.649 392.239,697.47 \n",
       "  396.366,705.361 400.494,741.732 404.622,826.456 408.749,806.458 412.877,817.109 417.005,810.595 421.132,804.141 425.26,793.115 429.388,729.879 433.515,844.619 \n",
       "  437.643,920.842 441.771,864.49 445.898,902.298 450.026,935.307 454.154,936.107 458.281,906.265 462.409,922.689 466.537,885.033 470.664,870.675 474.792,841.472 \n",
       "  478.92,864.218 483.047,914.96 487.175,907.583 491.303,876.422 495.43,896.16 499.558,913.238 503.686,861.542 507.813,859.279 511.941,849.72 516.069,785.246 \n",
       "  520.196,822.076 524.324,812.47 528.452,747.858 532.579,769.141 536.707,695.148 540.835,697.979 544.962,688.157 549.09,682.319 553.218,733.854 557.345,710.287 \n",
       "  561.473,633.557 565.601,613.562 569.728,621.429 573.856,592.765 577.984,573.818 582.111,644.739 586.239,628.634 590.367,622.859 594.494,669.005 598.622,700.02 \n",
       "  602.75,645.438 606.877,651.258 611.005,671.527 615.133,674.155 619.26,650.954 623.388,659.876 627.516,662.857 631.643,670.424 635.771,630.721 639.899,631.661 \n",
       "  644.026,622.14 648.154,694.303 652.282,649.461 656.409,672.943 660.537,584.241 664.665,585.235 668.792,554.962 672.92,534.541 677.048,569.936 681.175,546.067 \n",
       "  685.303,534.487 689.431,498.997 693.558,517.095 697.686,621.087 701.814,538.928 705.941,524.688 710.069,589.203 714.197,644.326 718.324,687.289 722.452,690.121 \n",
       "  726.58,608.31 730.707,518.18 734.835,511.094 738.963,527.712 743.09,432.211 747.218,548.016 751.346,498.25 755.473,533.229 759.601,551.06 763.729,587.625 \n",
       "  767.856,586.154 771.984,554.325 776.112,505.691 780.239,517.547 784.367,523.878 788.495,480.745 792.622,444.896 796.75,459.143 800.878,442.05 805.005,383.337 \n",
       "  809.133,351.188 813.261,393.13 817.388,400.318 821.516,417.143 825.644,396.195 829.771,439.374 833.899,477.494 838.027,477.799 842.154,403.963 846.282,482.851 \n",
       "  850.41,482.749 854.537,454.676 858.665,488.986 862.793,480.278 866.92,472.879 871.048,475.504 875.175,428.026 879.303,489.154 883.431,469.517 887.558,425.045 \n",
       "  891.686,398.821 895.814,425.225 899.941,478.204 904.069,492.126 908.197,485.928 912.324,456.495 916.452,553.18 920.58,564.264 924.707,525.256 928.835,561.244 \n",
       "  932.963,590.61 937.09,580.588 941.218,523.864 945.346,577.929 949.473,511.761 953.601,610.445 957.729,631.275 961.856,652.778 965.984,652.193 970.112,632.347 \n",
       "  974.239,612.103 978.367,539.729 982.495,539.326 986.622,555.221 990.75,516.483 994.878,424.158 999.005,411.541 1003.13,449.062 1007.26,441.974 1011.39,404.956 \n",
       "  1015.52,442.149 1019.64,466.185 1023.77,487.963 1027.9,427.62 1032.03,481.169 1036.15,490.37 1040.28,439.468 1044.41,409.516 1048.54,467.358 1052.67,457.747 \n",
       "  1056.79,508.448 1060.92,525.514 1065.05,537.827 1069.18,511.988 1073.3,506.646 1077.43,506.13 1081.56,526.038 1085.69,586.168 1089.81,588.139 1093.94,600.849 \n",
       "  1098.07,611.829 1102.2,624.07 1106.32,660.035 1110.45,623.489 1114.58,654.544 1118.71,583.372 1122.84,632.958 1126.96,610.874 1131.09,630.54 1135.22,615.967 \n",
       "  1139.35,593.267 1143.47,622.61 1147.6,631.626 1151.73,594.101 1155.86,627.031 1159.98,628.033 1164.11,597.932 1168.24,601.937 1172.37,576.373 1176.5,609.66 \n",
       "  1180.62,603.796 1184.75,541.683 1188.88,556.524 1193.01,497.162 1197.13,433.078 1201.26,434.419 1205.39,396.561 1209.52,445.301 1213.64,440.924 1217.77,471.836 \n",
       "  1221.9,430.827 1226.03,439.594 1230.15,454.039 1234.28,456.265 1238.41,433.26 1242.54,496.606 1246.67,492.878 1250.79,492.111 1254.92,514.715 1259.05,557.006 \n",
       "  1263.18,558.401 1267.3,531.685 1271.43,502.299 1275.56,479.779 1279.69,508.45 1283.81,507.617 1287.94,553.196 1292.07,550.678 1296.2,561.515 1300.33,507.862 \n",
       "  1304.45,493.627 1308.58,542.805 1312.71,586.264 1316.84,557.865 1320.96,573.568 1325.09,590.377 1329.22,601.937 1333.35,612.094 1337.47,616.744 1341.6,627.009 \n",
       "  1345.73,637.601 1349.86,687.792 1353.98,679.889 1358.11,612.25 1362.24,664.066 1366.37,657.259 1370.5,576.732 1374.62,570.946 1378.75,540.869 1382.88,548.288 \n",
       "  1387.01,592.049 1391.13,509.935 1395.26,493.61 1399.39,451.651 1403.52,453.099 1407.64,480.715 1411.77,504.012 1415.9,516.678 1420.03,579.875 1424.16,629.119 \n",
       "  1428.28,576.27 1432.41,646.261 1436.54,659.76 1440.67,634.369 1444.79,575.687 1448.92,568.042 1453.05,503.294 1457.18,520.582 1461.3,522.4 1465.43,528.258 \n",
       "  1469.56,506.398 1473.69,499.376 1477.81,482.576 1481.94,453.465 1486.07,460.138 1490.2,455.364 1494.33,426.255 1498.45,388.826 1502.58,369.364 1506.71,337.919 \n",
       "  1510.84,334.182 1514.96,288.426 1519.09,336.515 1523.22,380.579 1527.35,362.356 1531.47,270.393 1535.6,259.554 1539.73,265.807 1543.86,281.392 1547.98,218.688 \n",
       "  1552.11,217.319 1556.24,144.237 1560.37,122.445 1564.5,123.225 1568.62,96.1617 1572.75,87.9763 1576.88,126.542 1581.01,143.32 1585.13,189.388 1589.26,261.388 \n",
       "  1593.39,271.551 1597.52,253.441 1601.64,282.093 1605.77,280.39 1609.9,328.338 1614.03,342.842 1618.16,378.744 1622.28,438.603 1626.41,424.4 1630.54,434.501 \n",
       "  1634.67,492.618 1638.79,468.875 1642.92,507.671 1647.05,479.937 1651.18,456.572 1655.3,449.333 1659.43,443.219 1663.56,471.822 1667.69,480.855 1671.81,435.206 \n",
       "  1675.94,451.873 1680.07,446.098 1684.2,382.633 1688.33,465.828 1692.45,422.657 1696.58,384.544 1700.71,409.66 1704.84,365.619 1708.96,345.115 1713.09,406.692 \n",
       "  1717.22,372.212 1721.35,447.494 1725.47,470.139 1729.6,492.298 1733.73,459.217 1737.86,455.793 1741.99,373.577 1746.11,402.711 1750.24,383.296 1754.37,418.76 \n",
       "  1758.5,452.719 1762.62,462.164 1766.75,532.528 1770.88,589.433 1775.01,555.333 1779.13,449.507 1783.26,496.139 1787.39,492.362 1791.52,507.209 1795.64,567.921 \n",
       "  1799.77,627.362 1803.9,652.889 1808.03,571.477 1812.16,517.108 1816.28,527.135 1820.41,504.13 1824.54,508.535 1828.67,501.927 1832.79,477.748 1836.92,573.421 \n",
       "  1841.05,573.705 1845.18,628.962 1849.3,650.266 1853.43,630.795 1857.56,632.42 1861.69,640.576 1865.82,636.922 1869.94,608.396 1874.07,638.788 1878.2,610.798 \n",
       "  1882.33,700.963 1886.45,712.234 1890.58,741.871 1894.71,812.377 1898.84,877.502 1902.96,893.246 1907.09,896.175 1911.22,857.324 1915.35,840.443 1919.47,764.262 \n",
       "  1923.6,742.003 1927.73,693.297 1931.86,724.098 1935.99,744.508 1940.11,746.371 1944.24,745.554 1948.37,760.593 1952.5,751.523 1956.62,728.222 1960.75,690.318 \n",
       "  1964.88,677.73 1969.01,650.582 1973.13,649.025 1977.26,640.664 1981.39,703.958 1985.52,673.633 1989.65,653.263 1993.77,674.555 1997.9,708.75 2002.03,738.967 \n",
       "  2006.16,703.404 2010.28,703.133 2014.41,762.83 2018.54,750.696 2022.67,855.452 2026.79,879.571 2030.92,929.659 2035.05,920.856 2039.18,882.17 2043.3,859.561 \n",
       "  2047.43,851.492 2051.56,834.544 2055.69,821.221 2059.82,819.488 2063.94,822.052 2068.07,816.458 2072.2,804.473 2076.33,814.362 2080.45,835.265 2084.58,795.728 \n",
       "  2088.71,818.498 2092.84,832.212 2096.96,832.8 2101.09,855.666 2105.22,858.923 2109.35,878.887 2113.48,873.453 2117.6,903.091 2121.73,983.041 2125.86,997.237 \n",
       "  2129.99,923.415 2134.11,925.644 2138.24,896.977 2142.37,870.73 2146.5,840.298 2150.62,834.004 2154.75,813.641 2158.88,780.748 2163.01,783.054 2167.13,832.052 \n",
       "  2171.26,853.046 2175.39,796.932 2179.52,808.719 2183.65,822.051 2187.77,830.521 2191.9,875.938 2196.03,882.144 2200.16,858.223 2204.28,884.593 2208.41,923.622 \n",
       "  2212.54,948.186 2216.67,982.287 2220.79,995.955 2224.92,1044.45 2229.05,1103.49 2233.18,1141.28 2237.31,1160.08 2241.43,1213.56 2245.56,1231.49 2249.69,1168.57 \n",
       "  2253.82,1222.06 2257.94,1189.88 2262.07,1122.77 2266.2,1104.1 2270.33,1040.91 2274.45,999.549 2278.58,899.415 2282.71,848.937 2286.84,827.127 2290.96,834.917 \n",
       "  \n",
       "  \"/>\n",
       "<polyline clip-path=\"url(#clip012)\" style=\"stroke:#ed5d92; stroke-width:4; stroke-opacity:1; fill:none\" points=\"\n",
       "  231.26,760.462 235.387,742.807 239.515,761.055 243.643,787.759 247.77,761.006 251.898,743.001 256.026,762.349 260.153,773.979 264.281,794.118 268.409,803.99 \n",
       "  272.536,806.343 276.664,740.003 280.792,721.39 284.919,818.82 289.047,818.273 293.175,888.295 297.302,896.153 301.43,888.791 305.558,875.289 309.685,828.475 \n",
       "  313.813,832.471 317.941,825.057 322.068,779.808 326.196,766.835 330.324,823.388 334.451,804.298 338.579,785.41 342.707,731.841 346.834,707.132 350.962,627.033 \n",
       "  355.09,581.904 359.217,635.268 363.345,683.874 367.473,740.608 371.6,737.384 375.728,698.432 379.856,722.09 383.983,719.033 388.111,675.47 392.239,705.478 \n",
       "  396.366,738.374 400.494,761.027 404.622,724.994 408.749,745.174 412.877,870.629 417.005,904.259 421.132,996.924 425.26,989.615 429.388,1002.15 433.515,1073.15 \n",
       "  437.643,1022.67 441.771,973.647 445.898,907.772 450.026,897.589 454.154,888.754 458.281,933.94 462.409,969.813 466.537,944.803 470.664,974.137 474.792,897.391 \n",
       "  478.92,911.61 483.047,974.413 487.175,972.335 491.303,960.604 495.43,959.855 499.558,976.688 503.686,997.888 507.813,914.368 511.941,918.92 516.069,964.109 \n",
       "  520.196,957.738 524.324,961.838 528.452,961.462 532.579,958.398 536.707,941.461 540.835,937.677 544.962,909.776 549.09,907.71 553.218,925.77 557.345,887.665 \n",
       "  561.473,856.285 565.601,811.326 569.728,840.007 573.856,885.096 577.984,841.037 582.111,899.042 586.239,901.369 590.367,926.766 594.494,935.66 598.622,982.462 \n",
       "  602.75,978.374 606.877,942.724 611.005,892.829 615.133,928.78 619.26,931.644 623.388,967.543 627.516,969.783 631.643,977.771 635.771,987.84 639.899,984.848 \n",
       "  644.026,988.131 648.154,872.899 652.282,897.745 656.409,930.302 660.537,925.829 664.665,894.911 668.792,830.865 672.92,810.828 677.048,817.388 681.175,832.228 \n",
       "  685.303,823.124 689.431,800.431 693.558,734.09 697.686,761.939 701.814,792.998 705.941,844.912 710.069,804.128 714.197,875.103 718.324,832.929 722.452,875.078 \n",
       "  726.58,918.417 730.707,925.682 734.835,972.018 738.963,991.621 743.09,975.921 747.218,1035.13 751.346,1031.91 755.473,1068.3 759.601,1093.26 763.729,1070.6 \n",
       "  767.856,1043.28 771.984,1026.17 776.112,1063.1 780.239,1068.19 784.367,1054.43 788.495,1083.82 792.622,1122.19 796.75,1132.54 800.878,1126.62 805.005,1056.53 \n",
       "  809.133,1125.61 813.261,1108.1 817.388,1148.59 821.516,1166.08 825.644,1179.44 829.771,1212.69 833.899,1191.07 838.027,1173.86 842.154,1199.28 846.282,1159.93 \n",
       "  850.41,1233.52 854.537,1250.17 858.665,1234.8 862.793,1238.24 866.92,1197.62 871.048,1207.31 875.175,1277.35 879.303,1264.08 883.431,1242.74 887.558,1325.21 \n",
       "  891.686,1331.78 895.814,1321.78 899.941,1316.04 904.069,1317.28 908.197,1297.93 912.324,1295.24 916.452,1339.84 920.58,1328.84 924.707,1298.83 928.835,1223.86 \n",
       "  932.963,1129.96 937.09,1126.08 941.218,1098.74 945.346,1115.93 949.473,1150.06 953.601,1196.77 957.729,1193.32 961.856,1145.23 965.984,1080.57 970.112,1035.94 \n",
       "  974.239,1032.76 978.367,1069.36 982.495,991.524 986.622,1006.1 990.75,1000.77 994.878,986.15 999.005,977.673 1003.13,1024.13 1007.26,1049.27 1011.39,974.71 \n",
       "  1015.52,979.751 1019.64,991.768 1023.77,1004.11 1027.9,939.861 1032.03,974.871 1036.15,1009.93 1040.28,1008.83 1044.41,979.889 1048.54,1013.23 1052.67,977.997 \n",
       "  1056.79,969.912 1060.92,993.005 1065.05,1032 1069.18,955.61 1073.3,940.316 1077.43,998.762 1081.56,998.191 1085.69,997.838 1089.81,1040.36 1093.94,986.812 \n",
       "  1098.07,955.816 1102.2,950.801 1106.32,949.868 1110.45,834.532 1114.58,879.624 1118.71,834.291 1122.84,815.023 1126.96,829.759 1131.09,862.049 1135.22,901.784 \n",
       "  1139.35,844.192 1143.47,859.645 1147.6,833.887 1151.73,826.958 1155.86,734.975 1159.98,693.703 1164.11,636.334 1168.24,700.358 1172.37,678.954 1176.5,645.966 \n",
       "  1180.62,626.616 1184.75,575.552 1188.88,509.599 1193.01,486.718 1197.13,525.881 1201.26,504.744 1205.39,543.38 1209.52,550.885 1213.64,579.388 1217.77,531.001 \n",
       "  1221.9,553.198 1226.03,521.805 1230.15,498.469 1234.28,492.805 1238.41,524.149 1242.54,523.531 1246.67,521.682 1250.79,442.64 1254.92,492.342 1259.05,516.976 \n",
       "  1263.18,559.406 1267.3,551.166 1271.43,594.089 1275.56,595.664 1279.69,631.462 1283.81,650.376 1287.94,676.565 1292.07,678.617 1296.2,693.35 1300.33,729.411 \n",
       "  1304.45,776.137 1308.58,779.53 1312.71,749.622 1316.84,731.946 1320.96,699.614 1325.09,680.382 1329.22,740.374 1333.35,760.174 1337.47,722.744 1341.6,709.498 \n",
       "  1345.73,695.844 1349.86,633.757 1353.98,630.379 1358.11,634.221 1362.24,667.523 1366.37,672.153 1370.5,709.602 1374.62,650.064 1378.75,576.611 1382.88,567.628 \n",
       "  1387.01,549.696 1391.13,573.374 1395.26,549.97 1399.39,504.162 1403.52,544.685 1407.64,491.152 1411.77,475.595 1415.9,498.027 1420.03,457.129 1424.16,490.238 \n",
       "  1428.28,545.861 1432.41,550.486 1436.54,553.41 1440.67,540.763 1444.79,536.55 1448.92,507.417 1453.05,523.57 1457.18,493.986 1461.3,568.547 1465.43,627.53 \n",
       "  1469.56,573.394 1473.69,550.836 1477.81,523.784 1481.94,526.619 1486.07,435.437 1490.2,420.19 1494.33,384.549 1498.45,325.319 1502.58,312.457 1506.71,266.243 \n",
       "  1510.84,293.311 1514.96,352.889 1519.09,319.878 1523.22,350.483 1527.35,373.793 1531.47,355.349 1535.6,364.516 1539.73,339.149 1543.86,409.128 1547.98,435.12 \n",
       "  1552.11,448.149 1556.24,462.68 1560.37,456.552 1564.5,494.951 1568.62,475.867 1572.75,461.058 1576.88,507.942 1581.01,497.638 1585.13,528.287 1589.26,559.834 \n",
       "  1593.39,547.655 1597.52,565.451 1601.64,614.055 1605.77,608.021 1609.9,628.736 1614.03,630.577 1618.16,647.148 1622.28,587.742 1626.41,611.811 1630.54,605.609 \n",
       "  1634.67,573.944 1638.79,534.745 1642.92,540.677 1647.05,516.539 1651.18,542.57 1655.3,518.898 1659.43,544.02 1663.56,540.867 1667.69,518.647 1671.81,512.55 \n",
       "  1675.94,496.518 1680.07,544.13 1684.2,584.373 1688.33,571.59 1692.45,593.699 1696.58,613.335 1700.71,587.679 1704.84,594.119 1708.96,590.688 1713.09,563.145 \n",
       "  1717.22,448.422 1721.35,447.492 1725.47,478.243 1729.6,496.05 1733.73,477.034 1737.86,556.422 1741.99,639.87 1746.11,686.967 1750.24,741.817 1754.37,767.161 \n",
       "  1758.5,835.225 1762.62,892.146 1766.75,900.092 1770.88,872.08 1775.01,837.318 1779.13,804.497 1783.26,853.424 1787.39,822.395 1791.52,877.136 1795.64,855.792 \n",
       "  1799.77,806.273 1803.9,737.927 1808.03,714.725 1812.16,764.59 1816.28,710.484 1820.41,717.447 1824.54,688.423 1828.67,640.147 1832.79,626.454 1836.92,607.154 \n",
       "  1841.05,609.636 1845.18,583.829 1849.3,633.864 1853.43,673.046 1857.56,654.775 1861.69,711.299 1865.82,732.018 1869.94,749.592 1874.07,797.492 1878.2,795.932 \n",
       "  1882.33,797.199 1886.45,823.208 1890.58,766.719 1894.71,729.367 1898.84,751.637 1902.96,817.05 1907.09,791.417 1911.22,730.588 1915.35,790.606 1919.47,819.249 \n",
       "  1923.6,781.976 1927.73,717.546 1931.86,742.642 1935.99,714.142 1940.11,709.532 1944.24,708.237 1948.37,676.87 1952.5,614.458 1956.62,615.403 1960.75,652.133 \n",
       "  1964.88,654.758 1969.01,653.972 1973.13,618.157 1977.26,638.401 1981.39,660.28 1985.52,664.867 1989.65,701.396 1993.77,762.076 1997.9,787.423 2002.03,842.667 \n",
       "  2006.16,796.738 2010.28,752.411 2014.41,745.487 2018.54,664.514 2022.67,717.107 2026.79,694.219 2030.92,722.398 2035.05,718.099 2039.18,712.482 2043.3,687.27 \n",
       "  2047.43,607.516 2051.56,655.395 2055.69,607.248 2059.82,593.662 2063.94,579.591 2068.07,565.041 2072.2,582.434 2076.33,542.359 2080.45,515.269 2084.58,530.692 \n",
       "  2088.71,555.895 2092.84,615.62 2096.96,626.042 2101.09,608.075 2105.22,628.523 2109.35,649.036 2113.48,600.812 2117.6,574.958 2121.73,569.63 2125.86,582.604 \n",
       "  2129.99,571.345 2134.11,510.68 2138.24,458.428 2142.37,463.31 2146.5,443.156 2150.62,406.387 2154.75,395.509 2158.88,352.01 2163.01,391.17 2167.13,398.092 \n",
       "  2171.26,397.216 2175.39,407.427 2179.52,394.43 2183.65,418.402 2187.77,412.448 2191.9,455.721 2196.03,480.41 2200.16,565.015 2204.28,475.487 2208.41,457.585 \n",
       "  2212.54,435.34 2216.67,429.888 2220.79,359.486 2224.92,318.721 2229.05,300.701 2233.18,263.266 2237.31,272.602 2241.43,295.806 2245.56,232.482 2249.69,290.982 \n",
       "  2253.82,360.663 2257.94,330.82 2262.07,396.69 2266.2,363.862 2270.33,350.908 2274.45,345.12 2278.58,364.946 2282.71,286.802 2286.84,271.452 2290.96,181.355 \n",
       "  \n",
       "  \"/>\n",
       "<polyline clip-path=\"url(#clip012)\" style=\"stroke:#c68125; stroke-width:4; stroke-opacity:1; fill:none\" points=\"\n",
       "  231.26,760.462 235.387,778.876 239.515,745.887 243.643,782.538 247.77,808.714 251.898,791.158 256.026,754.061 260.153,730.464 264.281,715.805 268.409,727.373 \n",
       "  272.536,666.593 276.664,706.243 280.792,664.395 284.919,705.937 289.047,745.577 293.175,782.437 297.302,879.301 301.43,949.788 305.558,909.306 309.685,953.981 \n",
       "  313.813,978.311 317.941,943.907 322.068,930.519 326.196,953.925 330.324,999.554 334.451,1036.93 338.579,960.968 342.707,912.69 346.834,898.945 350.962,892.018 \n",
       "  355.09,878.676 359.217,901.87 363.345,857.106 367.473,847.565 371.6,852.205 375.728,814.055 379.856,834.919 383.983,866.095 388.111,874.267 392.239,895.277 \n",
       "  396.366,878.568 400.494,861.536 404.622,812.918 408.749,794.213 412.877,778.822 417.005,766.231 421.132,790.387 425.26,839.939 429.388,794.14 433.515,832.326 \n",
       "  437.643,783.184 441.771,798.662 445.898,807.106 450.026,759.669 454.154,751.785 458.281,796.155 462.409,761.488 466.537,696.408 470.664,694.03 474.792,667.129 \n",
       "  478.92,660.786 483.047,654.517 487.175,616.54 491.303,630.948 495.43,611.172 499.558,585.603 503.686,613.385 507.813,618.619 511.941,603.299 516.069,561.788 \n",
       "  520.196,571.249 524.324,562.96 528.452,543.175 532.579,514.837 536.707,553.765 540.835,567.748 544.962,605.209 549.09,609.487 553.218,638.445 557.345,616.262 \n",
       "  561.473,625.369 565.601,623.334 569.728,623.591 573.856,642.128 577.984,604.035 582.111,539.244 586.239,535.847 590.367,584.694 594.494,553.054 598.622,561.111 \n",
       "  602.75,515.243 606.877,490.488 611.005,460.325 615.133,424.42 619.26,456.288 623.388,536.814 627.516,525.568 631.643,450.445 635.771,431.074 639.899,468.21 \n",
       "  644.026,431.659 648.154,362.822 652.282,360.471 656.409,387.29 660.537,439.503 664.665,482.807 668.792,522.408 672.92,466.037 677.048,504.505 681.175,542.912 \n",
       "  685.303,590.954 689.431,654.235 693.558,639.875 697.686,722.856 701.814,727.778 705.941,735.847 710.069,746.231 714.197,749.146 718.324,771.66 722.452,798.638 \n",
       "  726.58,764.195 730.707,747.459 734.835,725.878 738.963,717.621 743.09,671.763 747.218,738.287 751.346,686.282 755.473,645.505 759.601,629.012 763.729,700.005 \n",
       "  767.856,739.783 771.984,756.147 776.112,705.696 780.239,776.691 784.367,863.627 788.495,872.051 792.622,860.818 796.75,849.572 800.878,857.314 805.005,878.572 \n",
       "  809.133,883.261 813.261,873.398 817.388,892.524 821.516,863.094 825.644,827.275 829.771,836.641 833.899,868.622 838.027,856.81 842.154,806.06 846.282,779.038 \n",
       "  850.41,770.449 854.537,744.93 858.665,779.649 862.793,819.798 866.92,798.283 871.048,800.214 875.175,783.914 879.303,747.894 883.431,732.625 887.558,689.522 \n",
       "  891.686,623.016 895.814,666.05 899.941,666.191 904.069,704.393 908.197,645.88 912.324,644.681 916.452,679.19 920.58,732.671 924.707,758.946 928.835,783.858 \n",
       "  932.963,802.665 937.09,774.304 941.218,774.282 945.346,736.561 949.473,738.079 953.601,750.639 957.729,766.541 961.856,735.517 965.984,666.355 970.112,707.627 \n",
       "  974.239,754.724 978.367,807.865 982.495,738.398 986.622,704.568 990.75,686.143 994.878,716.959 999.005,739.779 1003.13,744.56 1007.26,748.56 1011.39,753.895 \n",
       "  1015.52,772.589 1019.64,741.057 1023.77,799.632 1027.9,809.751 1032.03,802.265 1036.15,749.972 1040.28,790.655 1044.41,792.476 1048.54,706.442 1052.67,764.343 \n",
       "  1056.79,794.986 1060.92,912.87 1065.05,951.917 1069.18,1043.58 1073.3,1053.9 1077.43,1024.46 1081.56,1035.96 1085.69,1010.94 1089.81,1056.91 1093.94,1029.46 \n",
       "  1098.07,1019.87 1102.2,997.681 1106.32,998.821 1110.45,1021.03 1114.58,1011.41 1118.71,998.284 1122.84,979.424 1126.96,915.459 1131.09,920.747 1135.22,915.681 \n",
       "  1139.35,946.111 1143.47,924.125 1147.6,936.224 1151.73,894.385 1155.86,830.873 1159.98,867.794 1164.11,825.888 1168.24,768.067 1172.37,792.06 1176.5,794.132 \n",
       "  1180.62,786.779 1184.75,800.118 1188.88,858.89 1193.01,875.174 1197.13,840.193 1201.26,822.869 1205.39,736.407 1209.52,744.848 1213.64,729.205 1217.77,705.258 \n",
       "  1221.9,731.937 1226.03,687.452 1230.15,734.806 1234.28,745.749 1238.41,781.736 1242.54,752.227 1246.67,698.511 1250.79,756.574 1254.92,722.75 1259.05,695.901 \n",
       "  1263.18,750.49 1267.3,760.573 1271.43,819.744 1275.56,855.681 1279.69,823.794 1283.81,789.906 1287.94,767.535 1292.07,809.295 1296.2,781.195 1300.33,740.806 \n",
       "  1304.45,762.783 1308.58,782.198 1312.71,725.214 1316.84,751.949 1320.96,816.718 1325.09,839.596 1329.22,836.593 1333.35,776.77 1337.47,781.879 1341.6,729.986 \n",
       "  1345.73,746.416 1349.86,778.585 1353.98,790.797 1358.11,803.3 1362.24,790.455 1366.37,784.796 1370.5,798.673 1374.62,749.233 1378.75,770.518 1382.88,791.804 \n",
       "  1387.01,734.137 1391.13,723.945 1395.26,678.665 1399.39,701.173 1403.52,704.933 1407.64,693.358 1411.77,748.286 1415.9,779.862 1420.03,793.206 1424.16,802.117 \n",
       "  1428.28,833.449 1432.41,857.522 1436.54,858.089 1440.67,854.079 1444.79,830.046 1448.92,810.766 1453.05,833.701 1457.18,814.435 1461.3,805.34 1465.43,799.185 \n",
       "  1469.56,839.011 1473.69,745.16 1477.81,714.553 1481.94,724.339 1486.07,755.658 1490.2,711.927 1494.33,701.585 1498.45,750.876 1502.58,786.842 1506.71,786.289 \n",
       "  1510.84,800.426 1514.96,830.169 1519.09,881.121 1523.22,913.024 1527.35,923.12 1531.47,910.981 1535.6,913.702 1539.73,909.105 1543.86,947.606 1547.98,972.216 \n",
       "  1552.11,963.108 1556.24,953.071 1560.37,975.373 1564.5,950.556 1568.62,1016.25 1572.75,1006.63 1576.88,905.545 1581.01,946.275 1585.13,959.56 1589.26,1010.05 \n",
       "  1593.39,1025.46 1597.52,1009.17 1601.64,998.612 1605.77,958.759 1609.9,947.997 1614.03,991.755 1618.16,994.057 1622.28,1079.67 1626.41,1038.88 1630.54,1049.45 \n",
       "  1634.67,1073.46 1638.79,1021.7 1642.92,1017.67 1647.05,1028.12 1651.18,1030.82 1655.3,961.446 1659.43,955.476 1663.56,975.983 1667.69,924.672 1671.81,943.607 \n",
       "  1675.94,984.28 1680.07,1009.29 1684.2,949.996 1688.33,932.592 1692.45,970.91 1696.58,919.783 1700.71,965.794 1704.84,1036.28 1708.96,999.83 1713.09,1008.56 \n",
       "  1717.22,1034.25 1721.35,1062.59 1725.47,1043.25 1729.6,999.826 1733.73,993.201 1737.86,1021.84 1741.99,1024.01 1746.11,1047.11 1750.24,1118.3 1754.37,1098.94 \n",
       "  1758.5,1137.02 1762.62,1140.8 1766.75,1156.22 1770.88,1186.72 1775.01,1208.77 1779.13,1229.79 1783.26,1220 1787.39,1206.63 1791.52,1172.85 1795.64,1189.61 \n",
       "  1799.77,1189.98 1803.9,1125.31 1808.03,1101.53 1812.16,1042.61 1816.28,1064.73 1820.41,1037.99 1824.54,1045.81 1828.67,1061.92 1832.79,1032.07 1836.92,1004.02 \n",
       "  1841.05,989.902 1845.18,928.868 1849.3,930.88 1853.43,896.715 1857.56,940.278 1861.69,859.687 1865.82,805.497 1869.94,754.154 1874.07,849.434 1878.2,884.104 \n",
       "  1882.33,807.781 1886.45,807.739 1890.58,833.762 1894.71,888.508 1898.84,889.971 1902.96,933.257 1907.09,1027.16 1911.22,955.188 1915.35,1073.36 1919.47,977.79 \n",
       "  1923.6,894.791 1927.73,914.259 1931.86,889.481 1935.99,844.265 1940.11,874.359 1944.24,891.357 1948.37,873.672 1952.5,830.841 1956.62,799.035 1960.75,782.558 \n",
       "  1964.88,810.399 1969.01,831.401 1973.13,809.419 1977.26,752.293 1981.39,813.268 1985.52,814.903 1989.65,787.979 1993.77,817.688 1997.9,802.783 2002.03,864.588 \n",
       "  2006.16,827.694 2010.28,851.052 2014.41,888.577 2018.54,881.783 2022.67,872.897 2026.79,879.06 2030.92,902.413 2035.05,965.219 2039.18,981.788 2043.3,936.398 \n",
       "  2047.43,931.019 2051.56,977.962 2055.69,968.756 2059.82,1031.37 2063.94,1076.54 2068.07,1070.69 2072.2,1080.07 2076.33,1080.79 2080.45,1071.77 2084.58,1042.37 \n",
       "  2088.71,1014.28 2092.84,1055.96 2096.96,1025.76 2101.09,1024.17 2105.22,1044.82 2109.35,996.049 2113.48,951.613 2117.6,867.607 2121.73,854.138 2125.86,802.351 \n",
       "  2129.99,868.301 2134.11,836.376 2138.24,901.397 2142.37,904.481 2146.5,882.479 2150.62,901.725 2154.75,907.858 2158.88,884.843 2163.01,894.946 2167.13,896.465 \n",
       "  2171.26,922.603 2175.39,882.358 2179.52,873.824 2183.65,870.717 2187.77,865.019 2191.9,839.258 2196.03,830.894 2200.16,782.239 2204.28,775.449 2208.41,797.118 \n",
       "  2212.54,801.491 2216.67,842.596 2220.79,819.739 2224.92,838.139 2229.05,848.346 2233.18,820.293 2237.31,849.161 2241.43,808.513 2245.56,751.725 2249.69,719.647 \n",
       "  2253.82,726.382 2257.94,778.228 2262.07,759.738 2266.2,770.783 2270.33,799.54 2274.45,865.173 2278.58,904.119 2282.71,924.368 2286.84,875.443 2290.96,974.032 \n",
       "  \n",
       "  \"/>\n",
       "<polyline clip-path=\"url(#clip012)\" style=\"stroke:#00a98d; stroke-width:4; stroke-opacity:1; fill:none\" points=\"\n",
       "  231.26,760.462 235.387,738.968 239.515,759.8 243.643,746.698 247.77,777.904 251.898,814.997 256.026,764.827 260.153,743.191 264.281,740.737 268.409,741.512 \n",
       "  272.536,752.024 276.664,786.793 280.792,836.47 284.919,795.59 289.047,771.387 293.175,809.294 297.302,812.666 301.43,794.396 305.558,822.599 309.685,873.67 \n",
       "  313.813,905.265 317.941,920.324 322.068,965.191 326.196,1022.39 330.324,1053.06 334.451,1038.22 338.579,1043.36 342.707,1053.52 346.834,1049.58 350.962,1087.87 \n",
       "  355.09,1130.82 359.217,1102.3 363.345,1005.58 367.473,928.56 371.6,896.642 375.728,934.422 379.856,948.634 383.983,977.466 388.111,942.013 392.239,1005.2 \n",
       "  396.366,995.797 400.494,1027.6 404.622,1006.18 408.749,1067.21 412.877,1055.82 417.005,1066.8 421.132,1086.31 425.26,1014.67 429.388,1014.98 433.515,1032.29 \n",
       "  437.643,1036.74 441.771,1097.35 445.898,1103.64 450.026,1083.98 454.154,1110.4 458.281,1132.67 462.409,1153.64 466.537,1174.77 470.664,1189.81 474.792,1208.62 \n",
       "  478.92,1242.33 483.047,1255.34 487.175,1326.43 491.303,1205.41 495.43,1148.41 499.558,1138.23 503.686,1087.3 507.813,1088.29 511.941,1098.74 516.069,1110.55 \n",
       "  520.196,1132.95 524.324,1169.04 528.452,1119.09 532.579,1117.74 536.707,1105.16 540.835,1112.94 544.962,1096.76 549.09,1174.96 553.218,1216.47 557.345,1248.86 \n",
       "  561.473,1229.57 565.601,1219.13 569.728,1293.35 573.856,1293.43 577.984,1278.11 582.111,1304.68 586.239,1333.16 590.367,1355.42 594.494,1320.01 598.622,1336.41 \n",
       "  602.75,1352.55 606.877,1402.67 611.005,1411.9 615.133,1415.03 619.26,1363.9 623.388,1319.4 627.516,1300.53 631.643,1280.17 635.771,1256.74 639.899,1281.36 \n",
       "  644.026,1251.23 648.154,1227.7 652.282,1218.64 656.409,1226.62 660.537,1214.14 664.665,1205.36 668.792,1218.78 672.92,1210.44 677.048,1274.65 681.175,1219.27 \n",
       "  685.303,1194.36 689.431,1208.13 693.558,1263.74 697.686,1264.43 701.814,1299.67 705.941,1261.81 710.069,1246.03 714.197,1222.59 718.324,1203.15 722.452,1207.87 \n",
       "  726.58,1282.17 730.707,1303.44 734.835,1290.98 738.963,1245.99 743.09,1246.21 747.218,1247.31 751.346,1327.44 755.473,1327.11 759.601,1324.23 763.729,1283.56 \n",
       "  767.856,1271.42 771.984,1246.13 776.112,1273.96 780.239,1273.52 784.367,1306.98 788.495,1329.14 792.622,1365.87 796.75,1404.32 800.878,1372.87 805.005,1352.53 \n",
       "  809.133,1314.24 813.261,1328.77 817.388,1350.49 821.516,1359.34 825.644,1345.69 829.771,1278.97 833.899,1353.89 838.027,1349.59 842.154,1364.96 846.282,1372.53 \n",
       "  850.41,1340.91 854.537,1355.41 858.665,1337.02 862.793,1364.72 866.92,1373.81 871.048,1304.57 875.175,1335.66 879.303,1418.13 883.431,1445.72 887.558,1362.95 \n",
       "  891.686,1334.48 895.814,1281.78 899.941,1276.2 904.069,1291.8 908.197,1293.87 912.324,1256.86 916.452,1289 920.58,1287.39 924.707,1285.43 928.835,1290.66 \n",
       "  932.963,1289.78 937.09,1241.44 941.218,1213.62 945.346,1238.03 949.473,1172.05 953.601,1156.4 957.729,1156.53 961.856,1181.25 965.984,1115.34 970.112,1096.68 \n",
       "  974.239,1096.28 978.367,1066.33 982.495,1101.54 986.622,1050.15 990.75,1039.13 994.878,1037.89 999.005,1065.21 1003.13,1087.86 1007.26,1067.55 1011.39,1002.03 \n",
       "  1015.52,1065.75 1019.64,1047.44 1023.77,1036.5 1027.9,1014.83 1032.03,1007.47 1036.15,970.597 1040.28,920.555 1044.41,945.926 1048.54,942.989 1052.67,937.01 \n",
       "  1056.79,981.723 1060.92,975.679 1065.05,992.949 1069.18,919.736 1073.3,896.498 1077.43,877.403 1081.56,828.879 1085.69,800.23 1089.81,786.604 1093.94,746.931 \n",
       "  1098.07,727.031 1102.2,703.841 1106.32,676.371 1110.45,664.805 1114.58,647.689 1118.71,671.509 1122.84,719.008 1126.96,658.723 1131.09,619.327 1135.22,615.91 \n",
       "  1139.35,668.94 1143.47,661.591 1147.6,675.18 1151.73,612.459 1155.86,658.858 1159.98,584.84 1164.11,624.265 1168.24,582.913 1172.37,632.085 1176.5,671.991 \n",
       "  1180.62,652.658 1184.75,652.5 1188.88,625.31 1193.01,590.509 1197.13,585.507 1201.26,589.495 1205.39,617.708 1209.52,623.018 1213.64,652.413 1217.77,687.406 \n",
       "  1221.9,697.108 1226.03,721.133 1230.15,690.53 1234.28,742.768 1238.41,718.985 1242.54,849.755 1246.67,827.185 1250.79,878.447 1254.92,861.469 1259.05,873.965 \n",
       "  1263.18,814.183 1267.3,744.82 1271.43,739.161 1275.56,719.993 1279.69,681.696 1283.81,656.533 1287.94,647.183 1292.07,602.244 1296.2,529.199 1300.33,473.59 \n",
       "  1304.45,502.243 1308.58,505.572 1312.71,485.603 1316.84,502.491 1320.96,563.292 1325.09,552.167 1329.22,562.571 1333.35,574.697 1337.47,534.621 1341.6,489.057 \n",
       "  1345.73,488.632 1349.86,510.732 1353.98,558.913 1358.11,584.856 1362.24,588.894 1366.37,543.445 1370.5,574.916 1374.62,562.192 1378.75,608.639 1382.88,626.954 \n",
       "  1387.01,654.041 1391.13,646.301 1395.26,673.646 1399.39,762.487 1403.52,775.416 1407.64,754.748 1411.77,777.484 1415.9,757.929 1420.03,734.697 1424.16,703.976 \n",
       "  1428.28,687.282 1432.41,700.966 1436.54,684.582 1440.67,648.197 1444.79,613.249 1448.92,632.566 1453.05,668.366 1457.18,633.622 1461.3,591.313 1465.43,644.729 \n",
       "  1469.56,682.677 1473.69,666.933 1477.81,689.872 1481.94,706.253 1486.07,674.803 1490.2,660.673 1494.33,633.846 1498.45,662.557 1502.58,602.015 1506.71,568.857 \n",
       "  1510.84,583.568 1514.96,665.314 1519.09,699.079 1523.22,678.665 1527.35,657.266 1531.47,649.06 1535.6,654.811 1539.73,680.122 1543.86,640.712 1547.98,657.578 \n",
       "  1552.11,603.366 1556.24,634.259 1560.37,625.844 1564.5,641.668 1568.62,588.559 1572.75,537.355 1576.88,566.958 1581.01,556.583 1585.13,580.612 1589.26,600.75 \n",
       "  1593.39,541.5 1597.52,594.173 1601.64,583.782 1605.77,542.615 1609.9,565.921 1614.03,515.156 1618.16,517.34 1622.28,499.11 1626.41,476.084 1630.54,470.356 \n",
       "  1634.67,395.733 1638.79,386.185 1642.92,354.121 1647.05,374.954 1651.18,360.914 1655.3,334.65 1659.43,380.054 1663.56,445.047 1667.69,408.693 1671.81,435.962 \n",
       "  1675.94,498.576 1680.07,540.05 1684.2,577.027 1688.33,573.053 1692.45,541.567 1696.58,534.608 1700.71,516.971 1704.84,540.101 1708.96,640.306 1713.09,600.118 \n",
       "  1717.22,617.229 1721.35,609.397 1725.47,592.708 1729.6,619.821 1733.73,651.87 1737.86,621.465 1741.99,653.24 1746.11,649.588 1750.24,620.279 1754.37,576.082 \n",
       "  1758.5,558.423 1762.62,515.866 1766.75,517.297 1770.88,590.778 1775.01,561.44 1779.13,575.309 1783.26,537.827 1787.39,472.426 1791.52,449.008 1795.64,507.263 \n",
       "  1799.77,555.258 1803.9,504.117 1808.03,543.737 1812.16,584.614 1816.28,609.498 1820.41,601.122 1824.54,628.922 1828.67,613.084 1832.79,658.278 1836.92,689.468 \n",
       "  1841.05,703.172 1845.18,674.113 1849.3,664.055 1853.43,675.846 1857.56,581.804 1861.69,575.08 1865.82,546.339 1869.94,508.184 1874.07,550.742 1878.2,544.95 \n",
       "  1882.33,564.275 1886.45,574.789 1890.58,580.172 1894.71,536.971 1898.84,556.102 1902.96,611.231 1907.09,570.191 1911.22,615.253 1915.35,632.924 1919.47,650.228 \n",
       "  1923.6,599.521 1927.73,610.207 1931.86,615.795 1935.99,639.887 1940.11,691.876 1944.24,683.116 1948.37,707.756 1952.5,684.178 1956.62,614.863 1960.75,627.459 \n",
       "  1964.88,606.177 1969.01,634.599 1973.13,708.876 1977.26,690.689 1981.39,706.5 1985.52,699.149 1989.65,725.114 1993.77,660.068 1997.9,631.153 2002.03,652.728 \n",
       "  2006.16,684.854 2010.28,734.897 2014.41,736.408 2018.54,826.617 2022.67,845.781 2026.79,871.744 2030.92,872.131 2035.05,916.413 2039.18,926.121 2043.3,972.799 \n",
       "  2047.43,918.406 2051.56,902.564 2055.69,930.558 2059.82,901.643 2063.94,919.326 2068.07,931.357 2072.2,997.676 2076.33,995.46 2080.45,1034.9 2084.58,1026 \n",
       "  2088.71,1041.47 2092.84,1062.47 2096.96,1107.1 2101.09,1115.06 2105.22,1147.34 2109.35,1163.64 2113.48,1142.86 2117.6,1132.62 2121.73,1136.43 2125.86,1118.58 \n",
       "  2129.99,1098.82 2134.11,1059.7 2138.24,1111.06 2142.37,1175.76 2146.5,1152.43 2150.62,1123.78 2154.75,1073.05 2158.88,1049.32 2163.01,1060.23 2167.13,1040.08 \n",
       "  2171.26,1108.75 2175.39,1132.21 2179.52,1134.32 2183.65,1123.65 2187.77,1148.95 2191.9,1115.97 2196.03,1137.16 2200.16,1151.49 2204.28,1158.22 2208.41,1138.06 \n",
       "  2212.54,1131.99 2216.67,1080.39 2220.79,1009.94 2224.92,981.938 2229.05,930.333 2233.18,947.566 2237.31,969.168 2241.43,944.747 2245.56,897.7 2249.69,838.587 \n",
       "  2253.82,796.767 2257.94,729.173 2262.07,747.788 2266.2,778.602 2270.33,778.481 2274.45,816.341 2278.58,821.277 2282.71,802.448 2286.84,779.383 2290.96,750.589 \n",
       "  \n",
       "  \"/>\n",
       "<polyline clip-path=\"url(#clip012)\" style=\"stroke:#8e971d; stroke-width:4; stroke-opacity:1; fill:none\" points=\"\n",
       "  231.26,760.462 235.387,700.669 239.515,744.101 243.643,785.283 247.77,816.599 251.898,776.809 256.026,746.397 260.153,757.488 264.281,695.165 268.409,701.192 \n",
       "  272.536,692.971 276.664,675.887 280.792,697.016 284.919,713.213 289.047,735.182 293.175,765.691 297.302,783.374 301.43,681.333 305.558,697.86 309.685,701.279 \n",
       "  313.813,686.92 317.941,681.065 322.068,692.528 326.196,716.872 330.324,778.729 334.451,765.402 338.579,690.103 342.707,763.829 346.834,671.554 350.962,679.603 \n",
       "  355.09,663.902 359.217,654.85 363.345,720.393 367.473,717.694 371.6,740.884 375.728,694.345 379.856,700.277 383.983,718.047 388.111,726.076 392.239,789.005 \n",
       "  396.366,805.527 400.494,775.74 404.622,755.867 408.749,740.501 412.877,773.352 417.005,781.424 421.132,832.966 425.26,880.895 429.388,909.432 433.515,857.019 \n",
       "  437.643,850.455 441.771,820.763 445.898,801.343 450.026,759.1 454.154,742.656 458.281,704.904 462.409,673.437 466.537,723.398 470.664,738.008 474.792,773.938 \n",
       "  478.92,763.37 483.047,792.852 487.175,857.976 491.303,826.745 495.43,799.685 499.558,832.336 503.686,836.198 507.813,823.289 511.941,829.839 516.069,813.812 \n",
       "  520.196,742.896 524.324,687.553 528.452,675.333 532.579,651.352 536.707,637.549 540.835,645.511 544.962,632.626 549.09,577.442 553.218,592.185 557.345,543.442 \n",
       "  561.473,495.873 565.601,557.879 569.728,577.043 573.856,610.504 577.984,617.154 582.111,656.856 586.239,630.405 590.367,690.555 594.494,668.883 598.622,667.504 \n",
       "  602.75,642.554 606.877,667.999 611.005,656.757 615.133,537.571 619.26,521.502 623.388,547.848 627.516,549.996 631.643,590.925 635.771,606.146 639.899,585.128 \n",
       "  644.026,661.119 648.154,712.563 652.282,706.493 656.409,732.25 660.537,765.365 664.665,753.159 668.792,742.181 672.92,790.348 677.048,802.404 681.175,798.595 \n",
       "  685.303,726.477 689.431,736.797 693.558,663.708 697.686,621.843 701.814,680.4 705.941,715.966 710.069,716.394 714.197,725.479 718.324,784.305 722.452,765.121 \n",
       "  726.58,769.959 730.707,757.806 734.835,726.562 738.963,725.447 743.09,686.968 747.218,758.021 751.346,748.683 755.473,738.937 759.601,781.821 763.729,826.119 \n",
       "  767.856,843.182 771.984,911.06 776.112,886.724 780.239,961.997 784.367,954.168 788.495,904.392 792.622,960.64 796.75,993.331 800.878,1020.38 805.005,969.384 \n",
       "  809.133,982.565 813.261,933.193 817.388,907.908 821.516,901.149 825.644,915.958 829.771,911.708 833.899,935.782 838.027,932.055 842.154,916.565 846.282,957.465 \n",
       "  850.41,902.644 854.537,863.761 858.665,818.649 862.793,825.815 866.92,812.628 871.048,811.549 875.175,768.792 879.303,751.74 883.431,749.965 887.558,774.087 \n",
       "  891.686,709.097 895.814,675.635 899.941,633.089 904.069,635.955 908.197,606.907 912.324,531.278 916.452,557.802 920.58,619.586 924.707,574.712 928.835,538.315 \n",
       "  932.963,530.192 937.09,558.331 941.218,564.07 945.346,581.852 949.473,553.472 953.601,603.96 957.729,557.531 961.856,567.551 965.984,595.049 970.112,606.646 \n",
       "  974.239,609.054 978.367,696.711 982.495,629.215 986.622,603.983 990.75,656.761 994.878,741.034 999.005,746.725 1003.13,766.811 1007.26,789.68 1011.39,746.455 \n",
       "  1015.52,744.01 1019.64,743.019 1023.77,763.048 1027.9,805.913 1032.03,755.337 1036.15,740.365 1040.28,761.385 1044.41,744.148 1048.54,829.208 1052.67,784.544 \n",
       "  1056.79,812.546 1060.92,870.505 1065.05,852.157 1069.18,891.537 1073.3,874.685 1077.43,912.589 1081.56,967.873 1085.69,1017.41 1089.81,1016.44 1093.94,1018.4 \n",
       "  1098.07,1030.56 1102.2,1001.08 1106.32,1025.58 1110.45,993.971 1114.58,1026.32 1118.71,1009.25 1122.84,1013.34 1126.96,991.148 1131.09,1017.05 1135.22,1012.05 \n",
       "  1139.35,928.962 1143.47,975.4 1147.6,1024.91 1151.73,1080.47 1155.86,1121.41 1159.98,1131.03 1164.11,1094.02 1168.24,1060.91 1172.37,1133.56 1176.5,1100.84 \n",
       "  1180.62,1061.16 1184.75,1043.07 1188.88,1094.86 1193.01,1088.66 1197.13,1001.67 1201.26,1039.28 1205.39,1046.53 1209.52,995.446 1213.64,1024.41 1217.77,1019.96 \n",
       "  1221.9,1012.11 1226.03,989.28 1230.15,943.313 1234.28,941.951 1238.41,898.977 1242.54,849.961 1246.67,892.737 1250.79,870.646 1254.92,837.933 1259.05,941.467 \n",
       "  1263.18,943.893 1267.3,964.137 1271.43,948.407 1275.56,907.883 1279.69,881.303 1283.81,851.762 1287.94,819.442 1292.07,882.554 1296.2,884.853 1300.33,913.166 \n",
       "  1304.45,913.525 1308.58,858.551 1312.71,825.971 1316.84,773.396 1320.96,821.754 1325.09,853.684 1329.22,845.396 1333.35,811.302 1337.47,905.883 1341.6,914.696 \n",
       "  1345.73,869.651 1349.86,871.838 1353.98,891.055 1358.11,913.725 1362.24,1017.64 1366.37,1064.47 1370.5,1095.59 1374.62,1083.53 1378.75,1050.12 1382.88,1038.68 \n",
       "  1387.01,1050.27 1391.13,1047.68 1395.26,1040.01 1399.39,994.987 1403.52,1040.91 1407.64,1037.98 1411.77,1014.01 1415.9,977.32 1420.03,978.314 1424.16,973.143 \n",
       "  1428.28,1017.49 1432.41,968.193 1436.54,939.94 1440.67,933.665 1444.79,908.205 1448.92,914.411 1453.05,888.836 1457.18,860.891 1461.3,898.315 1465.43,905.599 \n",
       "  1469.56,929.773 1473.69,958.339 1477.81,959.234 1481.94,924.936 1486.07,817.315 1490.2,779.391 1494.33,746.068 1498.45,725.414 1502.58,711.857 1506.71,725.009 \n",
       "  1510.84,645.549 1514.96,591.262 1519.09,565.875 1523.22,597.512 1527.35,568.303 1531.47,545.716 1535.6,509.288 1539.73,504.402 1543.86,466.78 1547.98,494.235 \n",
       "  1552.11,485.132 1556.24,432.537 1560.37,488.84 1564.5,462.873 1568.62,465.456 1572.75,537.894 1576.88,533.556 1581.01,538.369 1585.13,522.595 1589.26,500.342 \n",
       "  1593.39,498.466 1597.52,462.726 1601.64,468.269 1605.77,505.414 1609.9,506.799 1614.03,485.587 1618.16,495.576 1622.28,556.753 1626.41,613.517 1630.54,608.364 \n",
       "  1634.67,605.401 1638.79,632.625 1642.92,675.88 1647.05,622.227 1651.18,627.851 1655.3,604.816 1659.43,582.096 1663.56,698.188 1667.69,690.147 1671.81,643.076 \n",
       "  1675.94,605.078 1680.07,584.85 1684.2,604.984 1688.33,617.17 1692.45,603.072 1696.58,569.026 1700.71,556.036 1704.84,595.781 1708.96,479.331 1713.09,478.71 \n",
       "  1717.22,501.913 1721.35,487.806 1725.47,483.101 1729.6,491.281 1733.73,559.755 1737.86,571.968 1741.99,621.705 1746.11,572.309 1750.24,609.434 1754.37,654.778 \n",
       "  1758.5,618.71 1762.62,601.969 1766.75,605.12 1770.88,622.956 1775.01,570.153 1779.13,613.117 1783.26,588.689 1787.39,507.599 1791.52,518.815 1795.64,539.506 \n",
       "  1799.77,486.448 1803.9,472.393 1808.03,433.199 1812.16,413.05 1816.28,425.722 1820.41,390.43 1824.54,406.387 1828.67,417.32 1832.79,431.884 1836.92,414.181 \n",
       "  1841.05,429.925 1845.18,392.241 1849.3,368.456 1853.43,378.194 1857.56,386.83 1861.69,419.026 1865.82,371.519 1869.94,329.282 1874.07,305.877 1878.2,303.453 \n",
       "  1882.33,307.931 1886.45,336.467 1890.58,329.238 1894.71,357.871 1898.84,342.885 1902.96,333.686 1907.09,361.81 1911.22,406.172 1915.35,423.155 1919.47,391.035 \n",
       "  1923.6,405.967 1927.73,441.538 1931.86,436.549 1935.99,458.233 1940.11,429.208 1944.24,485.464 1948.37,483.58 1952.5,436.914 1956.62,441.103 1960.75,449.898 \n",
       "  1964.88,456.824 1969.01,465.412 1973.13,449.266 1977.26,441.631 1981.39,469.789 1985.52,451.875 1989.65,439.549 1993.77,447.815 1997.9,455.865 2002.03,445.542 \n",
       "  2006.16,452.591 2010.28,508.503 2014.41,469.018 2018.54,436.757 2022.67,442.934 2026.79,473.438 2030.92,462.119 2035.05,414.585 2039.18,405.406 2043.3,377.77 \n",
       "  2047.43,380.064 2051.56,374.977 2055.69,397.911 2059.82,468.477 2063.94,455.916 2068.07,458.373 2072.2,398.349 2076.33,449.996 2080.45,473.462 2084.58,480.594 \n",
       "  2088.71,417.4 2092.84,485.238 2096.96,452.333 2101.09,350.055 2105.22,383.669 2109.35,351.865 2113.48,360.652 2117.6,313.557 2121.73,302.47 2125.86,245.05 \n",
       "  2129.99,205.11 2134.11,280.869 2138.24,337.321 2142.37,311.775 2146.5,317.601 2150.62,349.727 2154.75,323.273 2158.88,400.718 2163.01,402.287 2167.13,427.269 \n",
       "  2171.26,394.176 2175.39,411.799 2179.52,387.207 2183.65,409.515 2187.77,423.374 2191.9,420.006 2196.03,438.588 2200.16,523.813 2204.28,508.063 2208.41,499.909 \n",
       "  2212.54,536.86 2216.67,558.89 2220.79,586.8 2224.92,633.633 2229.05,576.067 2233.18,600.333 2237.31,510.525 2241.43,445.46 2245.56,407.471 2249.69,457.757 \n",
       "  2253.82,460.289 2257.94,421.066 2262.07,494.7 2266.2,462.851 2270.33,424.19 2274.45,421.337 2278.58,442.796 2282.71,408.847 2286.84,474.306 2290.96,457.112 \n",
       "  \n",
       "  \"/>\n",
       "<path clip-path=\"url(#clip010)\" d=\"\n",
       "M1959.36 760.498 L2279.98 760.498 L2279.98 95.2176 L1959.36 95.2176  Z\n",
       "  \" fill=\"#ffffff\" fill-rule=\"evenodd\" fill-opacity=\"1\"/>\n",
       "<polyline clip-path=\"url(#clip010)\" style=\"stroke:#000000; stroke-width:4; stroke-opacity:1; fill:none\" points=\"\n",
       "  1959.36,760.498 2279.98,760.498 2279.98,95.2176 1959.36,95.2176 1959.36,760.498 \n",
       "  \"/>\n",
       "<polyline clip-path=\"url(#clip010)\" style=\"stroke:#009af9; stroke-width:4; stroke-opacity:1; fill:none\" points=\"\n",
       "  1983.62,155.698 2129.17,155.698 \n",
       "  \"/>\n",
       "<path clip-path=\"url(#clip010)\" d=\"M 0 0 M2167.27 175.385 Q2165.47 180.015 2163.75 181.427 Q2162.04 182.839 2159.17 182.839 L2155.77 182.839 L2155.77 179.274 L2158.27 179.274 Q2160.03 179.274 2161 178.44 Q2161.97 177.607 2163.15 174.505 L2163.92 172.561 L2153.43 147.052 L2157.94 147.052 L2166.05 167.329 L2174.15 147.052 L2178.66 147.052 L2167.27 175.385 Z\" fill=\"#000000\" fill-rule=\"evenodd\" fill-opacity=\"1\" /><path clip-path=\"url(#clip010)\" d=\"M 0 0 M2184.54 169.042 L2192.18 169.042 L2192.18 142.677 L2183.87 144.343 L2183.87 140.084 L2192.13 138.418 L2196.81 138.418 L2196.81 169.042 L2204.45 169.042 L2204.45 172.978 L2184.54 172.978 L2184.54 169.042 Z\" fill=\"#000000\" fill-rule=\"evenodd\" fill-opacity=\"1\" /><polyline clip-path=\"url(#clip010)\" style=\"stroke:#e26f46; stroke-width:4; stroke-opacity:1; fill:none\" points=\"\n",
       "  1983.62,216.178 2129.17,216.178 \n",
       "  \"/>\n",
       "<path clip-path=\"url(#clip010)\" d=\"M 0 0 M2167.27 235.865 Q2165.47 240.495 2163.75 241.907 Q2162.04 243.319 2159.17 243.319 L2155.77 243.319 L2155.77 239.754 L2158.27 239.754 Q2160.03 239.754 2161 238.92 Q2161.97 238.087 2163.15 234.985 L2163.92 233.041 L2153.43 207.532 L2157.94 207.532 L2166.05 227.809 L2174.15 207.532 L2178.66 207.532 L2167.27 235.865 Z\" fill=\"#000000\" fill-rule=\"evenodd\" fill-opacity=\"1\" /><path clip-path=\"url(#clip010)\" d=\"M 0 0 M2187.76 229.522 L2204.08 229.522 L2204.08 233.458 L2182.13 233.458 L2182.13 229.522 Q2184.8 226.768 2189.38 222.138 Q2193.99 217.485 2195.17 216.143 Q2197.41 213.62 2198.29 211.884 Q2199.19 210.124 2199.19 208.435 Q2199.19 205.68 2197.25 203.944 Q2195.33 202.208 2192.23 202.208 Q2190.03 202.208 2187.57 202.972 Q2185.14 203.735 2182.37 205.286 L2182.37 200.564 Q2185.19 199.43 2187.64 198.851 Q2190.1 198.273 2192.13 198.273 Q2197.5 198.273 2200.7 200.958 Q2203.89 203.643 2203.89 208.134 Q2203.89 210.263 2203.08 212.185 Q2202.3 214.083 2200.19 216.675 Q2199.61 217.347 2196.51 220.564 Q2193.41 223.759 2187.76 229.522 Z\" fill=\"#000000\" fill-rule=\"evenodd\" fill-opacity=\"1\" /><polyline clip-path=\"url(#clip010)\" style=\"stroke:#3da44d; stroke-width:4; stroke-opacity:1; fill:none\" points=\"\n",
       "  1983.62,276.658 2129.17,276.658 \n",
       "  \"/>\n",
       "<path clip-path=\"url(#clip010)\" d=\"M 0 0 M2167.27 296.345 Q2165.47 300.975 2163.75 302.387 Q2162.04 303.799 2159.17 303.799 L2155.77 303.799 L2155.77 300.234 L2158.27 300.234 Q2160.03 300.234 2161 299.4 Q2161.97 298.567 2163.15 295.465 L2163.92 293.521 L2153.43 268.012 L2157.94 268.012 L2166.05 288.289 L2174.15 268.012 L2178.66 268.012 L2167.27 296.345 Z\" fill=\"#000000\" fill-rule=\"evenodd\" fill-opacity=\"1\" /><path clip-path=\"url(#clip010)\" d=\"M 0 0 M2197.9 275.303 Q2201.25 276.021 2203.13 278.289 Q2205.03 280.558 2205.03 283.891 Q2205.03 289.007 2201.51 291.808 Q2197.99 294.609 2191.51 294.609 Q2189.33 294.609 2187.02 294.169 Q2184.73 293.752 2182.27 292.896 L2182.27 288.382 Q2184.22 289.516 2186.53 290.095 Q2188.85 290.674 2191.37 290.674 Q2195.77 290.674 2198.06 288.938 Q2200.37 287.201 2200.37 283.891 Q2200.37 280.836 2198.22 279.123 Q2196.09 277.387 2192.27 277.387 L2188.24 277.387 L2188.24 273.544 L2192.46 273.544 Q2195.91 273.544 2197.74 272.178 Q2199.56 270.79 2199.56 268.197 Q2199.56 265.535 2197.67 264.123 Q2195.79 262.688 2192.27 262.688 Q2190.35 262.688 2188.15 263.104 Q2185.95 263.521 2183.31 264.401 L2183.31 260.234 Q2185.98 259.493 2188.29 259.123 Q2190.63 258.753 2192.69 258.753 Q2198.01 258.753 2201.12 261.183 Q2204.22 263.59 2204.22 267.711 Q2204.22 270.581 2202.57 272.572 Q2200.93 274.54 2197.9 275.303 Z\" fill=\"#000000\" fill-rule=\"evenodd\" fill-opacity=\"1\" /><polyline clip-path=\"url(#clip010)\" style=\"stroke:#c271d2; stroke-width:4; stroke-opacity:1; fill:none\" points=\"\n",
       "  1983.62,337.138 2129.17,337.138 \n",
       "  \"/>\n",
       "<path clip-path=\"url(#clip010)\" d=\"M 0 0 M2167.27 356.825 Q2165.47 361.455 2163.75 362.867 Q2162.04 364.279 2159.17 364.279 L2155.77 364.279 L2155.77 360.714 L2158.27 360.714 Q2160.03 360.714 2161 359.88 Q2161.97 359.047 2163.15 355.945 L2163.92 354.001 L2153.43 328.492 L2157.94 328.492 L2166.05 348.769 L2174.15 328.492 L2178.66 328.492 L2167.27 356.825 Z\" fill=\"#000000\" fill-rule=\"evenodd\" fill-opacity=\"1\" /><path clip-path=\"url(#clip010)\" d=\"M 0 0 M2196.58 323.932 L2184.77 342.381 L2196.58 342.381 L2196.58 323.932 M2195.35 319.858 L2201.23 319.858 L2201.23 342.381 L2206.16 342.381 L2206.16 346.269 L2201.23 346.269 L2201.23 354.418 L2196.58 354.418 L2196.58 346.269 L2180.98 346.269 L2180.98 341.756 L2195.35 319.858 Z\" fill=\"#000000\" fill-rule=\"evenodd\" fill-opacity=\"1\" /><polyline clip-path=\"url(#clip010)\" style=\"stroke:#ac8d18; stroke-width:4; stroke-opacity:1; fill:none\" points=\"\n",
       "  1983.62,397.618 2129.17,397.618 \n",
       "  \"/>\n",
       "<path clip-path=\"url(#clip010)\" d=\"M 0 0 M2167.27 417.305 Q2165.47 421.935 2163.75 423.347 Q2162.04 424.759 2159.17 424.759 L2155.77 424.759 L2155.77 421.194 L2158.27 421.194 Q2160.03 421.194 2161 420.36 Q2161.97 419.527 2163.15 416.425 L2163.92 414.481 L2153.43 388.972 L2157.94 388.972 L2166.05 409.249 L2174.15 388.972 L2178.66 388.972 L2167.27 417.305 Z\" fill=\"#000000\" fill-rule=\"evenodd\" fill-opacity=\"1\" /><path clip-path=\"url(#clip010)\" d=\"M 0 0 M2183.78 380.338 L2202.13 380.338 L2202.13 384.273 L2188.06 384.273 L2188.06 392.745 Q2189.08 392.398 2190.1 392.236 Q2191.12 392.05 2192.13 392.05 Q2197.92 392.05 2201.3 395.222 Q2204.68 398.393 2204.68 403.81 Q2204.68 409.388 2201.21 412.49 Q2197.74 415.569 2191.42 415.569 Q2189.24 415.569 2186.97 415.198 Q2184.73 414.828 2182.32 414.087 L2182.32 409.388 Q2184.4 410.523 2186.62 411.078 Q2188.85 411.634 2191.32 411.634 Q2195.33 411.634 2197.67 409.527 Q2200 407.421 2200 403.81 Q2200 400.199 2197.67 398.092 Q2195.33 395.986 2191.32 395.986 Q2189.45 395.986 2187.57 396.402 Q2185.72 396.819 2183.78 397.699 L2183.78 380.338 Z\" fill=\"#000000\" fill-rule=\"evenodd\" fill-opacity=\"1\" /><polyline clip-path=\"url(#clip010)\" style=\"stroke:#00a9ad; stroke-width:4; stroke-opacity:1; fill:none\" points=\"\n",
       "  1983.62,458.098 2129.17,458.098 \n",
       "  \"/>\n",
       "<path clip-path=\"url(#clip010)\" d=\"M 0 0 M2167.27 477.785 Q2165.47 482.415 2163.75 483.827 Q2162.04 485.239 2159.17 485.239 L2155.77 485.239 L2155.77 481.674 L2158.27 481.674 Q2160.03 481.674 2161 480.84 Q2161.97 480.007 2163.15 476.905 L2163.92 474.961 L2153.43 449.452 L2157.94 449.452 L2166.05 469.729 L2174.15 449.452 L2178.66 449.452 L2167.27 477.785 Z\" fill=\"#000000\" fill-rule=\"evenodd\" fill-opacity=\"1\" /><path clip-path=\"url(#clip010)\" d=\"M 0 0 M2194.31 456.234 Q2191.16 456.234 2189.31 458.387 Q2187.48 460.54 2187.48 464.29 Q2187.48 468.016 2189.31 470.192 Q2191.16 472.345 2194.31 472.345 Q2197.46 472.345 2199.29 470.192 Q2201.14 468.016 2201.14 464.29 Q2201.14 460.54 2199.29 458.387 Q2197.46 456.234 2194.31 456.234 M2203.59 441.581 L2203.59 445.841 Q2201.83 445.007 2200.03 444.568 Q2198.24 444.128 2196.49 444.128 Q2191.86 444.128 2189.4 447.253 Q2186.97 450.378 2186.62 456.697 Q2187.99 454.683 2190.05 453.618 Q2192.11 452.53 2194.59 452.53 Q2199.8 452.53 2202.8 455.702 Q2205.84 458.85 2205.84 464.29 Q2205.84 469.614 2202.69 472.831 Q2199.54 476.049 2194.31 476.049 Q2188.31 476.049 2185.14 471.466 Q2181.97 466.859 2181.97 458.132 Q2181.97 449.938 2185.86 445.077 Q2189.75 440.193 2196.3 440.193 Q2198.06 440.193 2199.84 440.54 Q2201.65 440.887 2203.59 441.581 Z\" fill=\"#000000\" fill-rule=\"evenodd\" fill-opacity=\"1\" /><polyline clip-path=\"url(#clip010)\" style=\"stroke:#ed5d92; stroke-width:4; stroke-opacity:1; fill:none\" points=\"\n",
       "  1983.62,518.578 2129.17,518.578 \n",
       "  \"/>\n",
       "<path clip-path=\"url(#clip010)\" d=\"M 0 0 M2167.27 538.265 Q2165.47 542.895 2163.75 544.307 Q2162.04 545.719 2159.17 545.719 L2155.77 545.719 L2155.77 542.154 L2158.27 542.154 Q2160.03 542.154 2161 541.32 Q2161.97 540.487 2163.15 537.385 L2163.92 535.441 L2153.43 509.932 L2157.94 509.932 L2166.05 530.209 L2174.15 509.932 L2178.66 509.932 L2167.27 538.265 Z\" fill=\"#000000\" fill-rule=\"evenodd\" fill-opacity=\"1\" /><path clip-path=\"url(#clip010)\" d=\"M 0 0 M2182.55 501.298 L2204.77 501.298 L2204.77 503.288 L2192.23 535.858 L2187.34 535.858 L2199.15 505.233 L2182.55 505.233 L2182.55 501.298 Z\" fill=\"#000000\" fill-rule=\"evenodd\" fill-opacity=\"1\" /><polyline clip-path=\"url(#clip010)\" style=\"stroke:#c68125; stroke-width:4; stroke-opacity:1; fill:none\" points=\"\n",
       "  1983.62,579.058 2129.17,579.058 \n",
       "  \"/>\n",
       "<path clip-path=\"url(#clip010)\" d=\"M 0 0 M2167.27 598.745 Q2165.47 603.375 2163.75 604.787 Q2162.04 606.199 2159.17 606.199 L2155.77 606.199 L2155.77 602.634 L2158.27 602.634 Q2160.03 602.634 2161 601.8 Q2161.97 600.967 2163.15 597.865 L2163.92 595.921 L2153.43 570.412 L2157.94 570.412 L2166.05 590.689 L2174.15 570.412 L2178.66 570.412 L2167.27 598.745 Z\" fill=\"#000000\" fill-rule=\"evenodd\" fill-opacity=\"1\" /><path clip-path=\"url(#clip010)\" d=\"M 0 0 M2193.73 579.926 Q2190.4 579.926 2188.48 581.708 Q2186.58 583.49 2186.58 586.615 Q2186.58 589.74 2188.48 591.523 Q2190.4 593.305 2193.73 593.305 Q2197.06 593.305 2198.99 591.523 Q2200.91 589.717 2200.91 586.615 Q2200.91 583.49 2198.99 581.708 Q2197.09 579.926 2193.73 579.926 M2189.05 577.935 Q2186.05 577.194 2184.36 575.134 Q2182.69 573.074 2182.69 570.111 Q2182.69 565.967 2185.63 563.56 Q2188.59 561.153 2193.73 561.153 Q2198.89 561.153 2201.83 563.56 Q2204.77 565.967 2204.77 570.111 Q2204.77 573.074 2203.08 575.134 Q2201.42 577.194 2198.43 577.935 Q2201.81 578.722 2203.68 581.014 Q2205.58 583.305 2205.58 586.615 Q2205.58 591.639 2202.5 594.324 Q2199.45 597.009 2193.73 597.009 Q2188.01 597.009 2184.93 594.324 Q2181.88 591.639 2181.88 586.615 Q2181.88 583.305 2183.78 581.014 Q2185.68 578.722 2189.05 577.935 M2187.34 570.551 Q2187.34 573.236 2189.01 574.74 Q2190.7 576.245 2193.73 576.245 Q2196.74 576.245 2198.43 574.74 Q2200.14 573.236 2200.14 570.551 Q2200.14 567.865 2198.43 566.361 Q2196.74 564.856 2193.73 564.856 Q2190.7 564.856 2189.01 566.361 Q2187.34 567.865 2187.34 570.551 Z\" fill=\"#000000\" fill-rule=\"evenodd\" fill-opacity=\"1\" /><polyline clip-path=\"url(#clip010)\" style=\"stroke:#00a98d; stroke-width:4; stroke-opacity:1; fill:none\" points=\"\n",
       "  1983.62,639.538 2129.17,639.538 \n",
       "  \"/>\n",
       "<path clip-path=\"url(#clip010)\" d=\"M 0 0 M2167.27 659.225 Q2165.47 663.855 2163.75 665.267 Q2162.04 666.679 2159.17 666.679 L2155.77 666.679 L2155.77 663.114 L2158.27 663.114 Q2160.03 663.114 2161 662.28 Q2161.97 661.447 2163.15 658.345 L2163.92 656.401 L2153.43 630.892 L2157.94 630.892 L2166.05 651.169 L2174.15 630.892 L2178.66 630.892 L2167.27 659.225 Z\" fill=\"#000000\" fill-rule=\"evenodd\" fill-opacity=\"1\" /><path clip-path=\"url(#clip010)\" d=\"M 0 0 M2183.87 656.1 L2183.87 651.841 Q2185.63 652.674 2187.43 653.114 Q2189.24 653.554 2190.98 653.554 Q2195.61 653.554 2198.04 650.452 Q2200.49 647.327 2200.84 640.984 Q2199.49 642.975 2197.43 644.04 Q2195.37 645.105 2192.87 645.105 Q2187.69 645.105 2184.66 641.98 Q2181.65 638.832 2181.65 633.392 Q2181.65 628.068 2184.8 624.85 Q2187.94 621.633 2193.18 621.633 Q2199.17 621.633 2202.32 626.239 Q2205.49 630.822 2205.49 639.572 Q2205.49 647.744 2201.6 652.628 Q2197.74 657.489 2191.18 657.489 Q2189.43 657.489 2187.62 657.142 Q2185.81 656.794 2183.87 656.1 M2193.18 641.447 Q2196.32 641.447 2198.15 639.294 Q2200 637.142 2200 633.392 Q2200 629.665 2198.15 627.512 Q2196.32 625.336 2193.18 625.336 Q2190.03 625.336 2188.18 627.512 Q2186.35 629.665 2186.35 633.392 Q2186.35 637.142 2188.18 639.294 Q2190.03 641.447 2193.18 641.447 Z\" fill=\"#000000\" fill-rule=\"evenodd\" fill-opacity=\"1\" /><polyline clip-path=\"url(#clip010)\" style=\"stroke:#8e971d; stroke-width:4; stroke-opacity:1; fill:none\" points=\"\n",
       "  1983.62,700.018 2129.17,700.018 \n",
       "  \"/>\n",
       "<path clip-path=\"url(#clip010)\" d=\"M 0 0 M2167.27 719.705 Q2165.47 724.335 2163.75 725.747 Q2162.04 727.159 2159.17 727.159 L2155.77 727.159 L2155.77 723.594 L2158.27 723.594 Q2160.03 723.594 2161 722.76 Q2161.97 721.927 2163.15 718.825 L2163.92 716.881 L2153.43 691.372 L2157.94 691.372 L2166.05 711.649 L2174.15 691.372 L2178.66 691.372 L2167.27 719.705 Z\" fill=\"#000000\" fill-rule=\"evenodd\" fill-opacity=\"1\" /><path clip-path=\"url(#clip010)\" d=\"M 0 0 M2184.54 713.362 L2192.18 713.362 L2192.18 686.997 L2183.87 688.663 L2183.87 684.404 L2192.13 682.738 L2196.81 682.738 L2196.81 713.362 L2204.45 713.362 L2204.45 717.298 L2184.54 717.298 L2184.54 713.362 Z\" fill=\"#000000\" fill-rule=\"evenodd\" fill-opacity=\"1\" /><path clip-path=\"url(#clip010)\" d=\"M 0 0 M2219.52 685.816 Q2215.91 685.816 2214.08 689.381 Q2212.27 692.923 2212.27 700.052 Q2212.27 707.159 2214.08 710.724 Q2215.91 714.265 2219.52 714.265 Q2223.15 714.265 2224.96 710.724 Q2226.79 707.159 2226.79 700.052 Q2226.79 692.923 2224.96 689.381 Q2223.15 685.816 2219.52 685.816 M2219.52 682.113 Q2225.33 682.113 2228.38 686.719 Q2231.46 691.302 2231.46 700.052 Q2231.46 708.779 2228.38 713.386 Q2225.33 717.969 2219.52 717.969 Q2213.71 717.969 2210.63 713.386 Q2207.57 708.779 2207.57 700.052 Q2207.57 691.302 2210.63 686.719 Q2213.71 682.113 2219.52 682.113 Z\" fill=\"#000000\" fill-rule=\"evenodd\" fill-opacity=\"1\" /></svg>\n"
      ]
     },
     "execution_count": 141,
     "metadata": {},
     "output_type": "execute_result"
    }
   ],
   "source": [
    "plot(x[1, :, :])"
   ]
  },
  {
   "cell_type": "code",
   "execution_count": null,
   "metadata": {},
   "outputs": [],
   "source": []
  }
 ],
 "metadata": {
  "kernelspec": {
   "display_name": "Julia 1.4.2",
   "language": "julia",
   "name": "julia-1.4"
  },
  "language_info": {
   "file_extension": ".jl",
   "mimetype": "application/julia",
   "name": "julia",
   "version": "1.4.2"
  }
 },
 "nbformat": 4,
 "nbformat_minor": 4
}

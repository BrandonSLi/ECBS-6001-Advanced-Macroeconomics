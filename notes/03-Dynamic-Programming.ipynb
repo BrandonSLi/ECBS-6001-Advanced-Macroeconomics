{
 "cells": [
  {
   "cell_type": "markdown",
   "metadata": {},
   "source": [
    "# Dynamic Programming\n",
    "## Sequence problem\n",
    "$$\n",
    "\\max_{\\{c_t\\}} \\sum_{t=0}^\\infty \\beta^t u(x_t, c_t) \n",
    "$$\n",
    "subject to \n",
    "$$\n",
    "x_{t+1} = F(x_t, c_t)\n",
    "$$\n",
    "Note assumptions that can be relaxed:\n",
    "- infinite horizon\n",
    "- time-invariant utility\n",
    "- exponential discounting\n",
    "- deterministic law of motion\n",
    "\n",
    "The value of this problem\n",
    "$$\n",
    "V_0(x_0) = \\max_{\\{c_t\\}} \\sum_{t=0}^\\infty \\beta^t u(x_t, c_t). \n",
    "$$\n",
    "\n",
    "## Bellman equation\n",
    "**Recursive problem**:\n",
    "$$\n",
    "V(x_t) = \\max_c u(x_t, c) + \\beta V(x_{t+1})\n",
    "$$\n",
    "subject to law of motion $x_{t+1} = F(x_t, c)$.\n",
    "\n",
    "Note:\n",
    "1. This is a **functional equation**. It has to hold for *all* possible values of $x$.\n",
    "2. Under some conditions, the equation has a unique, strictly concave solution.\n",
    "3. Which is the solution to the sequence problem, $V(x)\\equiv V_0(x)$.\n",
    "## Three solution methods\n",
    "### 1. Guess and verify\n",
    "\"Method of undetermined coefficients\"\n",
    "$$\n",
    "LHS(x) = RHS(x)\n",
    "$$\n",
    "if both are linear, then\n",
    "$$\n",
    "a_1 + b_1x = a_2 +b_2 x \n",
    "$$\n",
    "is true for all $x$ if and only if $a_1=a_2$ and $b_1=b_2$.\n",
    "\n",
    "Additional step: there is a maximization step that also depends on the coefficients.\n",
    "### 2. Value function iteration\n",
    "### 3. Policy function iteration\n",
    "\n",
    "## The cake-eating problem\n",
    "## Linear-quadratic programming"
   ]
  },
  {
   "cell_type": "code",
   "execution_count": null,
   "metadata": {},
   "outputs": [],
   "source": []
  },
  {
   "cell_type": "code",
   "execution_count": null,
   "metadata": {},
   "outputs": [],
   "source": []
  },
  {
   "cell_type": "code",
   "execution_count": null,
   "metadata": {},
   "outputs": [],
   "source": []
  },
  {
   "cell_type": "code",
   "execution_count": null,
   "metadata": {},
   "outputs": [],
   "source": []
  },
  {
   "cell_type": "code",
   "execution_count": null,
   "metadata": {},
   "outputs": [],
   "source": []
  },
  {
   "cell_type": "code",
   "execution_count": null,
   "metadata": {},
   "outputs": [],
   "source": []
  },
  {
   "cell_type": "code",
   "execution_count": null,
   "metadata": {},
   "outputs": [],
   "source": []
  },
  {
   "cell_type": "code",
   "execution_count": null,
   "metadata": {},
   "outputs": [],
   "source": []
  },
  {
   "cell_type": "code",
   "execution_count": null,
   "metadata": {},
   "outputs": [],
   "source": []
  },
  {
   "cell_type": "code",
   "execution_count": null,
   "metadata": {},
   "outputs": [],
   "source": []
  }
 ],
 "metadata": {
  "kernelspec": {
   "display_name": "Julia 1.4.2",
   "language": "julia",
   "name": "julia-1.4"
  },
  "language_info": {
   "file_extension": ".jl",
   "mimetype": "application/julia",
   "name": "julia",
   "version": "1.4.2"
  }
 },
 "nbformat": 4,
 "nbformat_minor": 4
}

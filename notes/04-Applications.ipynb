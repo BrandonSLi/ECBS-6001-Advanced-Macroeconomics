{
 "cells": [
  {
   "cell_type": "markdown",
   "metadata": {},
   "source": [
    "# Applications\n",
    "## First passage times\n",
    "Suppose $N=2$. We start at $S_0=2$ (unemployed). How long does it take to find a job?\n",
    "\n",
    "Suppose you're tossing coins. How many tosses until first head?\n",
    "\n",
    "$T_t$: time left before becoming employed, after having been unemp for $t$ periods. Problem: find $E(T_0)$.\n",
    "$$\n",
    "\\Pr(T_t=1|S_t=2) = P_{21}\n",
    "$$\n",
    "with prob $P_{22}$:\n",
    "$$\n",
    "T_t = 1 + T_{t+1}\n",
    "$$\n",
    "Pretend it is a Bellman\n",
    "$$\n",
    "E(T_t) = 1 + P_{22} E(T_{t+1}) + P_{21}\\cdot 0\n",
    "$$\n",
    "Note that by Markov, $T_t = T_{t+1} = T$\n",
    "$$\n",
    "E(T) = 1 + P_{22} E(T)\n",
    "$$\n",
    "$$\n",
    "E(T) = \\frac {1}\n",
    "\t{1-P_{22}} = 1/P_{21}\n",
    "$$\n"
   ]
  },
  {
   "cell_type": "code",
   "execution_count": 1,
   "metadata": {},
   "outputs": [
    {
     "data": {
      "text/plain": [
       "draw_random_state (generic function with 1 method)"
      ]
     },
     "execution_count": 1,
     "metadata": {},
     "output_type": "execute_result"
    }
   ],
   "source": [
    "using Random\n",
    "function draw_random_state(pmf::Vector{Float64})\n",
    "    prob = pmf ./ sum(pmf, dims=1)\n",
    "    CDF = cumsum(prob, dims=1)\n",
    "    u = rand() # this is uniform random [0,1)\n",
    "    return sum(u .>= CDF) + 1\n",
    "end"
   ]
  },
  {
   "cell_type": "code",
   "execution_count": 3,
   "metadata": {},
   "outputs": [
    {
     "data": {
      "text/plain": [
       "simulate_first_time_to_reach_state (generic function with 1 method)"
      ]
     },
     "execution_count": 3,
     "metadata": {},
     "output_type": "execute_result"
    }
   ],
   "source": [
    "function simulate_first_time_to_reach_state(P::Array{Float64, 2}, start_from::Int64, end_at::Int64)\n",
    "    state = start_from\n",
    "    T = 0\n",
    "    while state != end_at\n",
    "        T = 1 + T\n",
    "        state = draw_random_state(P[state, :])\n",
    "    end\n",
    "    return T\n",
    "end"
   ]
  },
  {
   "cell_type": "code",
   "execution_count": 20,
   "metadata": {},
   "outputs": [
    {
     "data": {
      "text/plain": [
       "6"
      ]
     },
     "execution_count": 20,
     "metadata": {},
     "output_type": "execute_result"
    }
   ],
   "source": [
    "P = [.9 0.05 0.05; 0 0.8 0.2; 32 47 -3]\n",
    "simulate_first_time_to_reach_state(P, 1, 3)"
   ]
  },
  {
   "cell_type": "code",
   "execution_count": 24,
   "metadata": {},
   "outputs": [
    {
     "data": {
      "text/plain": [
       "histogram_of_T (generic function with 1 method)"
      ]
     },
     "execution_count": 24,
     "metadata": {},
     "output_type": "execute_result"
    }
   ],
   "source": [
    "using Plots\n",
    "function histogram_of_T(P::Array{Float64, 2})\n",
    "    N = 1000\n",
    "    T = zeros(N)\n",
    "    for n = 1:N\n",
    "        T[n] = simulate_first_time_to_reach_state(P, 1, size(P, 1))\n",
    "    end\n",
    "    histogram(T)\n",
    "end"
   ]
  },
  {
   "cell_type": "code",
   "execution_count": 25,
   "metadata": {},
   "outputs": [
    {
     "data": {
      "image/svg+xml": [
       "<?xml version=\"1.0\" encoding=\"utf-8\"?>\n",
       "<svg xmlns=\"http://www.w3.org/2000/svg\" xmlns:xlink=\"http://www.w3.org/1999/xlink\" width=\"600\" height=\"400\" viewBox=\"0 0 2400 1600\">\n",
       "<defs>\n",
       "  <clipPath id=\"clip140\">\n",
       "    <rect x=\"0\" y=\"0\" width=\"2400\" height=\"1600\"/>\n",
       "  </clipPath>\n",
       "</defs>\n",
       "<path clip-path=\"url(#clip140)\" d=\"\n",
       "M0 1600 L2400 1600 L2400 0 L0 0  Z\n",
       "  \" fill=\"#ffffff\" fill-rule=\"evenodd\" fill-opacity=\"1\"/>\n",
       "<defs>\n",
       "  <clipPath id=\"clip141\">\n",
       "    <rect x=\"480\" y=\"0\" width=\"1681\" height=\"1600\"/>\n",
       "  </clipPath>\n",
       "</defs>\n",
       "<path clip-path=\"url(#clip140)\" d=\"\n",
       "M162.964 1486.45 L2352.76 1486.45 L2352.76 47.2441 L162.964 47.2441  Z\n",
       "  \" fill=\"#ffffff\" fill-rule=\"evenodd\" fill-opacity=\"1\"/>\n",
       "<defs>\n",
       "  <clipPath id=\"clip142\">\n",
       "    <rect x=\"162\" y=\"47\" width=\"2191\" height=\"1440\"/>\n",
       "  </clipPath>\n",
       "</defs>\n",
       "<polyline clip-path=\"url(#clip142)\" style=\"stroke:#000000; stroke-width:2; stroke-opacity:0.1; fill:none\" points=\"\n",
       "  283.406,1486.45 283.406,47.2441 \n",
       "  \"/>\n",
       "<polyline clip-path=\"url(#clip142)\" style=\"stroke:#000000; stroke-width:2; stroke-opacity:0.1; fill:none\" points=\"\n",
       "  796.277,1486.45 796.277,47.2441 \n",
       "  \"/>\n",
       "<polyline clip-path=\"url(#clip142)\" style=\"stroke:#000000; stroke-width:2; stroke-opacity:0.1; fill:none\" points=\"\n",
       "  1309.15,1486.45 1309.15,47.2441 \n",
       "  \"/>\n",
       "<polyline clip-path=\"url(#clip142)\" style=\"stroke:#000000; stroke-width:2; stroke-opacity:0.1; fill:none\" points=\"\n",
       "  1822.02,1486.45 1822.02,47.2441 \n",
       "  \"/>\n",
       "<polyline clip-path=\"url(#clip142)\" style=\"stroke:#000000; stroke-width:2; stroke-opacity:0.1; fill:none\" points=\"\n",
       "  2334.89,1486.45 2334.89,47.2441 \n",
       "  \"/>\n",
       "<polyline clip-path=\"url(#clip140)\" style=\"stroke:#000000; stroke-width:4; stroke-opacity:1; fill:none\" points=\"\n",
       "  162.964,1486.45 2352.76,1486.45 \n",
       "  \"/>\n",
       "<polyline clip-path=\"url(#clip140)\" style=\"stroke:#000000; stroke-width:4; stroke-opacity:1; fill:none\" points=\"\n",
       "  283.406,1486.45 283.406,1469.18 \n",
       "  \"/>\n",
       "<polyline clip-path=\"url(#clip140)\" style=\"stroke:#000000; stroke-width:4; stroke-opacity:1; fill:none\" points=\"\n",
       "  796.277,1486.45 796.277,1469.18 \n",
       "  \"/>\n",
       "<polyline clip-path=\"url(#clip140)\" style=\"stroke:#000000; stroke-width:4; stroke-opacity:1; fill:none\" points=\"\n",
       "  1309.15,1486.45 1309.15,1469.18 \n",
       "  \"/>\n",
       "<polyline clip-path=\"url(#clip140)\" style=\"stroke:#000000; stroke-width:4; stroke-opacity:1; fill:none\" points=\"\n",
       "  1822.02,1486.45 1822.02,1469.18 \n",
       "  \"/>\n",
       "<polyline clip-path=\"url(#clip140)\" style=\"stroke:#000000; stroke-width:4; stroke-opacity:1; fill:none\" points=\"\n",
       "  2334.89,1486.45 2334.89,1469.18 \n",
       "  \"/>\n",
       "<path clip-path=\"url(#clip140)\" d=\"M 0 0 M283.406 1515.64 Q279.795 1515.64 277.967 1519.2 Q276.161 1522.75 276.161 1529.87 Q276.161 1536.98 277.967 1540.55 Q279.795 1544.09 283.406 1544.09 Q287.041 1544.09 288.846 1540.55 Q290.675 1536.98 290.675 1529.87 Q290.675 1522.75 288.846 1519.2 Q287.041 1515.64 283.406 1515.64 M283.406 1511.93 Q289.217 1511.93 292.272 1516.54 Q295.351 1521.12 295.351 1529.87 Q295.351 1538.6 292.272 1543.21 Q289.217 1547.79 283.406 1547.79 Q277.596 1547.79 274.518 1543.21 Q271.462 1538.6 271.462 1529.87 Q271.462 1521.12 274.518 1516.54 Q277.596 1511.93 283.406 1511.93 Z\" fill=\"#000000\" fill-rule=\"evenodd\" fill-opacity=\"1\" /><path clip-path=\"url(#clip140)\" d=\"M 0 0 M777.92 1543.18 L794.24 1543.18 L794.24 1547.12 L772.295 1547.12 L772.295 1543.18 Q774.957 1540.43 779.541 1535.8 Q784.147 1531.15 785.328 1529.81 Q787.573 1527.28 788.453 1525.55 Q789.355 1523.79 789.355 1522.1 Q789.355 1519.34 787.411 1517.61 Q785.49 1515.87 782.388 1515.87 Q780.189 1515.87 777.735 1516.63 Q775.305 1517.4 772.527 1518.95 L772.527 1514.23 Q775.351 1513.09 777.805 1512.51 Q780.258 1511.93 782.295 1511.93 Q787.666 1511.93 790.86 1514.62 Q794.054 1517.31 794.054 1521.8 Q794.054 1523.93 793.244 1525.85 Q792.457 1527.74 790.351 1530.34 Q789.772 1531.01 786.67 1534.23 Q783.568 1537.42 777.92 1543.18 Z\" fill=\"#000000\" fill-rule=\"evenodd\" fill-opacity=\"1\" /><path clip-path=\"url(#clip140)\" d=\"M 0 0 M799.355 1512.56 L817.712 1512.56 L817.712 1516.5 L803.638 1516.5 L803.638 1524.97 Q804.656 1524.62 805.675 1524.46 Q806.693 1524.27 807.712 1524.27 Q813.499 1524.27 816.878 1527.44 Q820.258 1530.62 820.258 1536.03 Q820.258 1541.61 816.786 1544.71 Q813.314 1547.79 806.994 1547.79 Q804.818 1547.79 802.55 1547.42 Q800.304 1547.05 797.897 1546.31 L797.897 1541.61 Q799.98 1542.74 802.203 1543.3 Q804.425 1543.86 806.902 1543.86 Q810.906 1543.86 813.244 1541.75 Q815.582 1539.64 815.582 1536.03 Q815.582 1532.42 813.244 1530.31 Q810.906 1528.21 806.902 1528.21 Q805.027 1528.21 803.152 1528.62 Q801.3 1529.04 799.355 1529.92 L799.355 1512.56 Z\" fill=\"#000000\" fill-rule=\"evenodd\" fill-opacity=\"1\" /><path clip-path=\"url(#clip140)\" d=\"M 0 0 M1285.92 1512.56 L1304.27 1512.56 L1304.27 1516.5 L1290.2 1516.5 L1290.2 1524.97 Q1291.22 1524.62 1292.24 1524.46 Q1293.26 1524.27 1294.27 1524.27 Q1300.06 1524.27 1303.44 1527.44 Q1306.82 1530.62 1306.82 1536.03 Q1306.82 1541.61 1303.35 1544.71 Q1299.88 1547.79 1293.56 1547.79 Q1291.38 1547.79 1289.11 1547.42 Q1286.87 1547.05 1284.46 1546.31 L1284.46 1541.61 Q1286.54 1542.74 1288.77 1543.3 Q1290.99 1543.86 1293.46 1543.86 Q1297.47 1543.86 1299.81 1541.75 Q1302.14 1539.64 1302.14 1536.03 Q1302.14 1532.42 1299.81 1530.31 Q1297.47 1528.21 1293.46 1528.21 Q1291.59 1528.21 1289.71 1528.62 Q1287.86 1529.04 1285.92 1529.92 L1285.92 1512.56 Z\" fill=\"#000000\" fill-rule=\"evenodd\" fill-opacity=\"1\" /><path clip-path=\"url(#clip140)\" d=\"M 0 0 M1321.89 1515.64 Q1318.28 1515.64 1316.45 1519.2 Q1314.64 1522.75 1314.64 1529.87 Q1314.64 1536.98 1316.45 1540.55 Q1318.28 1544.09 1321.89 1544.09 Q1325.52 1544.09 1327.33 1540.55 Q1329.16 1536.98 1329.16 1529.87 Q1329.16 1522.75 1327.33 1519.2 Q1325.52 1515.64 1321.89 1515.64 M1321.89 1511.93 Q1327.7 1511.93 1330.76 1516.54 Q1333.83 1521.12 1333.83 1529.87 Q1333.83 1538.6 1330.76 1543.21 Q1327.7 1547.79 1321.89 1547.79 Q1316.08 1547.79 1313 1543.21 Q1309.95 1538.6 1309.95 1529.87 Q1309.95 1521.12 1313 1516.54 Q1316.08 1511.93 1321.89 1511.93 Z\" fill=\"#000000\" fill-rule=\"evenodd\" fill-opacity=\"1\" /><path clip-path=\"url(#clip140)\" d=\"M 0 0 M1797.9 1512.56 L1820.12 1512.56 L1820.12 1514.55 L1807.57 1547.12 L1802.69 1547.12 L1814.49 1516.5 L1797.9 1516.5 L1797.9 1512.56 Z\" fill=\"#000000\" fill-rule=\"evenodd\" fill-opacity=\"1\" /><path clip-path=\"url(#clip140)\" d=\"M 0 0 M1825.23 1512.56 L1843.59 1512.56 L1843.59 1516.5 L1829.52 1516.5 L1829.52 1524.97 Q1830.54 1524.62 1831.55 1524.46 Q1832.57 1524.27 1833.59 1524.27 Q1839.38 1524.27 1842.76 1527.44 Q1846.14 1530.62 1846.14 1536.03 Q1846.14 1541.61 1842.67 1544.71 Q1839.19 1547.79 1832.87 1547.79 Q1830.7 1547.79 1828.43 1547.42 Q1826.18 1547.05 1823.78 1546.31 L1823.78 1541.61 Q1825.86 1542.74 1828.08 1543.3 Q1830.3 1543.86 1832.78 1543.86 Q1836.79 1543.86 1839.12 1541.75 Q1841.46 1539.64 1841.46 1536.03 Q1841.46 1532.42 1839.12 1530.31 Q1836.79 1528.21 1832.78 1528.21 Q1830.91 1528.21 1829.03 1528.62 Q1827.18 1529.04 1825.23 1529.92 L1825.23 1512.56 Z\" fill=\"#000000\" fill-rule=\"evenodd\" fill-opacity=\"1\" /><path clip-path=\"url(#clip140)\" d=\"M 0 0 M2298.26 1543.18 L2305.89 1543.18 L2305.89 1516.82 L2297.58 1518.49 L2297.58 1514.23 L2305.85 1512.56 L2310.52 1512.56 L2310.52 1543.18 L2318.16 1543.18 L2318.16 1547.12 L2298.26 1547.12 L2298.26 1543.18 Z\" fill=\"#000000\" fill-rule=\"evenodd\" fill-opacity=\"1\" /><path clip-path=\"url(#clip140)\" d=\"M 0 0 M2333.23 1515.64 Q2329.62 1515.64 2327.79 1519.2 Q2325.99 1522.75 2325.99 1529.87 Q2325.99 1536.98 2327.79 1540.55 Q2329.62 1544.09 2333.23 1544.09 Q2336.87 1544.09 2338.67 1540.55 Q2340.5 1536.98 2340.5 1529.87 Q2340.5 1522.75 2338.67 1519.2 Q2336.87 1515.64 2333.23 1515.64 M2333.23 1511.93 Q2339.04 1511.93 2342.1 1516.54 Q2345.18 1521.12 2345.18 1529.87 Q2345.18 1538.6 2342.1 1543.21 Q2339.04 1547.79 2333.23 1547.79 Q2327.42 1547.79 2324.34 1543.21 Q2321.29 1538.6 2321.29 1529.87 Q2321.29 1521.12 2324.34 1516.54 Q2327.42 1511.93 2333.23 1511.93 Z\" fill=\"#000000\" fill-rule=\"evenodd\" fill-opacity=\"1\" /><path clip-path=\"url(#clip140)\" d=\"M 0 0 M2360.25 1515.64 Q2356.64 1515.64 2354.81 1519.2 Q2353 1522.75 2353 1529.87 Q2353 1536.98 2354.81 1540.55 Q2356.64 1544.09 2360.25 1544.09 Q2363.88 1544.09 2365.69 1540.55 Q2367.51 1536.98 2367.51 1529.87 Q2367.51 1522.75 2365.69 1519.2 Q2363.88 1515.64 2360.25 1515.64 M2360.25 1511.93 Q2366.06 1511.93 2369.11 1516.54 Q2372.19 1521.12 2372.19 1529.87 Q2372.19 1538.6 2369.11 1543.21 Q2366.06 1547.79 2360.25 1547.79 Q2354.44 1547.79 2351.36 1543.21 Q2348.3 1538.6 2348.3 1529.87 Q2348.3 1521.12 2351.36 1516.54 Q2354.44 1511.93 2360.25 1511.93 Z\" fill=\"#000000\" fill-rule=\"evenodd\" fill-opacity=\"1\" /><polyline clip-path=\"url(#clip142)\" style=\"stroke:#000000; stroke-width:2; stroke-opacity:0.1; fill:none\" points=\"\n",
       "  162.964,1445.72 2352.76,1445.72 \n",
       "  \"/>\n",
       "<polyline clip-path=\"url(#clip142)\" style=\"stroke:#000000; stroke-width:2; stroke-opacity:0.1; fill:none\" points=\"\n",
       "  162.964,1179.49 2352.76,1179.49 \n",
       "  \"/>\n",
       "<polyline clip-path=\"url(#clip142)\" style=\"stroke:#000000; stroke-width:2; stroke-opacity:0.1; fill:none\" points=\"\n",
       "  162.964,913.269 2352.76,913.269 \n",
       "  \"/>\n",
       "<polyline clip-path=\"url(#clip142)\" style=\"stroke:#000000; stroke-width:2; stroke-opacity:0.1; fill:none\" points=\"\n",
       "  162.964,647.045 2352.76,647.045 \n",
       "  \"/>\n",
       "<polyline clip-path=\"url(#clip142)\" style=\"stroke:#000000; stroke-width:2; stroke-opacity:0.1; fill:none\" points=\"\n",
       "  162.964,380.822 2352.76,380.822 \n",
       "  \"/>\n",
       "<polyline clip-path=\"url(#clip142)\" style=\"stroke:#000000; stroke-width:2; stroke-opacity:0.1; fill:none\" points=\"\n",
       "  162.964,114.599 2352.76,114.599 \n",
       "  \"/>\n",
       "<polyline clip-path=\"url(#clip140)\" style=\"stroke:#000000; stroke-width:4; stroke-opacity:1; fill:none\" points=\"\n",
       "  162.964,1486.45 162.964,47.2441 \n",
       "  \"/>\n",
       "<polyline clip-path=\"url(#clip140)\" style=\"stroke:#000000; stroke-width:4; stroke-opacity:1; fill:none\" points=\"\n",
       "  162.964,1445.72 189.241,1445.72 \n",
       "  \"/>\n",
       "<polyline clip-path=\"url(#clip140)\" style=\"stroke:#000000; stroke-width:4; stroke-opacity:1; fill:none\" points=\"\n",
       "  162.964,1179.49 189.241,1179.49 \n",
       "  \"/>\n",
       "<polyline clip-path=\"url(#clip140)\" style=\"stroke:#000000; stroke-width:4; stroke-opacity:1; fill:none\" points=\"\n",
       "  162.964,913.269 189.241,913.269 \n",
       "  \"/>\n",
       "<polyline clip-path=\"url(#clip140)\" style=\"stroke:#000000; stroke-width:4; stroke-opacity:1; fill:none\" points=\"\n",
       "  162.964,647.045 189.241,647.045 \n",
       "  \"/>\n",
       "<polyline clip-path=\"url(#clip140)\" style=\"stroke:#000000; stroke-width:4; stroke-opacity:1; fill:none\" points=\"\n",
       "  162.964,380.822 189.241,380.822 \n",
       "  \"/>\n",
       "<polyline clip-path=\"url(#clip140)\" style=\"stroke:#000000; stroke-width:4; stroke-opacity:1; fill:none\" points=\"\n",
       "  162.964,114.599 189.241,114.599 \n",
       "  \"/>\n",
       "<path clip-path=\"url(#clip140)\" d=\"M 0 0 M115.02 1431.51 Q111.408 1431.51 109.58 1435.08 Q107.774 1438.62 107.774 1445.75 Q107.774 1452.86 109.58 1456.42 Q111.408 1459.96 115.02 1459.96 Q118.654 1459.96 120.459 1456.42 Q122.288 1452.86 122.288 1445.75 Q122.288 1438.62 120.459 1435.08 Q118.654 1431.51 115.02 1431.51 M115.02 1427.81 Q120.83 1427.81 123.885 1432.42 Q126.964 1437 126.964 1445.75 Q126.964 1454.48 123.885 1459.08 Q120.83 1463.67 115.02 1463.67 Q109.209 1463.67 106.131 1459.08 Q103.075 1454.48 103.075 1445.75 Q103.075 1437 106.131 1432.42 Q109.209 1427.81 115.02 1427.81 Z\" fill=\"#000000\" fill-rule=\"evenodd\" fill-opacity=\"1\" /><path clip-path=\"url(#clip140)\" d=\"M 0 0 M79.0475 1162.21 L97.4039 1162.21 L97.4039 1166.15 L83.3299 1166.15 L83.3299 1174.62 Q84.3484 1174.27 85.3669 1174.11 Q86.3855 1173.93 87.404 1173.93 Q93.191 1173.93 96.5706 1177.1 Q99.9502 1180.27 99.9502 1185.68 Q99.9502 1191.26 96.478 1194.36 Q93.0058 1197.44 86.6864 1197.44 Q84.5105 1197.44 82.242 1197.07 Q79.9966 1196.7 77.5892 1195.96 L77.5892 1191.26 Q79.6725 1192.4 81.8947 1192.95 Q84.1169 1193.51 86.5938 1193.51 Q90.5984 1193.51 92.9363 1191.4 Q95.2743 1189.3 95.2743 1185.68 Q95.2743 1182.07 92.9363 1179.97 Q90.5984 1177.86 86.5938 1177.86 Q84.7188 1177.86 82.8438 1178.28 Q80.992 1178.69 79.0475 1179.57 L79.0475 1162.21 Z\" fill=\"#000000\" fill-rule=\"evenodd\" fill-opacity=\"1\" /><path clip-path=\"url(#clip140)\" d=\"M 0 0 M115.02 1165.29 Q111.408 1165.29 109.58 1168.86 Q107.774 1172.4 107.774 1179.53 Q107.774 1186.63 109.58 1190.2 Q111.408 1193.74 115.02 1193.74 Q118.654 1193.74 120.459 1190.2 Q122.288 1186.63 122.288 1179.53 Q122.288 1172.4 120.459 1168.86 Q118.654 1165.29 115.02 1165.29 M115.02 1161.59 Q120.83 1161.59 123.885 1166.19 Q126.964 1170.78 126.964 1179.53 Q126.964 1188.25 123.885 1192.86 Q120.83 1197.44 115.02 1197.44 Q109.209 1197.44 106.131 1192.86 Q103.075 1188.25 103.075 1179.53 Q103.075 1170.78 106.131 1166.19 Q109.209 1161.59 115.02 1161.59 Z\" fill=\"#000000\" fill-rule=\"evenodd\" fill-opacity=\"1\" /><path clip-path=\"url(#clip140)\" d=\"M 0 0 M53.0292 926.614 L60.668 926.614 L60.668 900.248 L52.3579 901.915 L52.3579 897.656 L60.6217 895.989 L65.2976 895.989 L65.2976 926.614 L72.9365 926.614 L72.9365 930.549 L53.0292 930.549 L53.0292 926.614 Z\" fill=\"#000000\" fill-rule=\"evenodd\" fill-opacity=\"1\" /><path clip-path=\"url(#clip140)\" d=\"M 0 0 M88.0058 899.068 Q84.3947 899.068 82.566 902.632 Q80.7605 906.174 80.7605 913.304 Q80.7605 920.41 82.566 923.975 Q84.3947 927.516 88.0058 927.516 Q91.6401 927.516 93.4456 923.975 Q95.2743 920.41 95.2743 913.304 Q95.2743 906.174 93.4456 902.632 Q91.6401 899.068 88.0058 899.068 M88.0058 895.364 Q93.816 895.364 96.8715 899.97 Q99.9502 904.554 99.9502 913.304 Q99.9502 922.03 96.8715 926.637 Q93.816 931.22 88.0058 931.22 Q82.1957 931.22 79.117 926.637 Q76.0614 922.03 76.0614 913.304 Q76.0614 904.554 79.117 899.97 Q82.1957 895.364 88.0058 895.364 Z\" fill=\"#000000\" fill-rule=\"evenodd\" fill-opacity=\"1\" /><path clip-path=\"url(#clip140)\" d=\"M 0 0 M115.02 899.068 Q111.408 899.068 109.58 902.632 Q107.774 906.174 107.774 913.304 Q107.774 920.41 109.58 923.975 Q111.408 927.516 115.02 927.516 Q118.654 927.516 120.459 923.975 Q122.288 920.41 122.288 913.304 Q122.288 906.174 120.459 902.632 Q118.654 899.068 115.02 899.068 M115.02 895.364 Q120.83 895.364 123.885 899.97 Q126.964 904.554 126.964 913.304 Q126.964 922.03 123.885 926.637 Q120.83 931.22 115.02 931.22 Q109.209 931.22 106.131 926.637 Q103.075 922.03 103.075 913.304 Q103.075 904.554 106.131 899.97 Q109.209 895.364 115.02 895.364 Z\" fill=\"#000000\" fill-rule=\"evenodd\" fill-opacity=\"1\" /><path clip-path=\"url(#clip140)\" d=\"M 0 0 M54.0245 660.39 L61.6634 660.39 L61.6634 634.025 L53.3532 635.691 L53.3532 631.432 L61.6171 629.765 L66.293 629.765 L66.293 660.39 L73.9318 660.39 L73.9318 664.325 L54.0245 664.325 L54.0245 660.39 Z\" fill=\"#000000\" fill-rule=\"evenodd\" fill-opacity=\"1\" /><path clip-path=\"url(#clip140)\" d=\"M 0 0 M79.0475 629.765 L97.4039 629.765 L97.4039 633.701 L83.3299 633.701 L83.3299 642.173 Q84.3484 641.826 85.3669 641.664 Q86.3855 641.478 87.404 641.478 Q93.191 641.478 96.5706 644.65 Q99.9502 647.821 99.9502 653.238 Q99.9502 658.816 96.478 661.918 Q93.0058 664.997 86.6864 664.997 Q84.5105 664.997 82.242 664.626 Q79.9966 664.256 77.5892 663.515 L77.5892 658.816 Q79.6725 659.95 81.8947 660.506 Q84.1169 661.062 86.5938 661.062 Q90.5984 661.062 92.9363 658.955 Q95.2743 656.849 95.2743 653.238 Q95.2743 649.626 92.9363 647.52 Q90.5984 645.414 86.5938 645.414 Q84.7188 645.414 82.8438 645.83 Q80.992 646.247 79.0475 647.126 L79.0475 629.765 Z\" fill=\"#000000\" fill-rule=\"evenodd\" fill-opacity=\"1\" /><path clip-path=\"url(#clip140)\" d=\"M 0 0 M115.02 632.844 Q111.408 632.844 109.58 636.409 Q107.774 639.951 107.774 647.08 Q107.774 654.187 109.58 657.751 Q111.408 661.293 115.02 661.293 Q118.654 661.293 120.459 657.751 Q122.288 654.187 122.288 647.08 Q122.288 639.951 120.459 636.409 Q118.654 632.844 115.02 632.844 M115.02 629.14 Q120.83 629.14 123.885 633.747 Q126.964 638.33 126.964 647.08 Q126.964 655.807 123.885 660.413 Q120.83 664.997 115.02 664.997 Q109.209 664.997 106.131 660.413 Q103.075 655.807 103.075 647.08 Q103.075 638.33 106.131 633.747 Q109.209 629.14 115.02 629.14 Z\" fill=\"#000000\" fill-rule=\"evenodd\" fill-opacity=\"1\" /><path clip-path=\"url(#clip140)\" d=\"M 0 0 M56.6171 394.167 L72.9365 394.167 L72.9365 398.102 L50.9921 398.102 L50.9921 394.167 Q53.6541 391.412 58.2375 386.783 Q62.8439 382.13 64.0245 380.787 Q66.2698 378.264 67.1494 376.528 Q68.0522 374.769 68.0522 373.079 Q68.0522 370.324 66.1078 368.588 Q64.1865 366.852 61.0847 366.852 Q58.8856 366.852 56.4319 367.616 Q54.0014 368.38 51.2236 369.931 L51.2236 365.209 Q54.0477 364.074 56.5014 363.496 Q58.955 362.917 60.9921 362.917 Q66.3624 362.917 69.5568 365.602 Q72.7513 368.287 72.7513 372.778 Q72.7513 374.908 71.9411 376.829 Q71.1541 378.727 69.0476 381.32 Q68.4689 381.991 65.367 385.209 Q62.2652 388.403 56.6171 394.167 Z\" fill=\"#000000\" fill-rule=\"evenodd\" fill-opacity=\"1\" /><path clip-path=\"url(#clip140)\" d=\"M 0 0 M88.0058 366.621 Q84.3947 366.621 82.566 370.186 Q80.7605 373.727 80.7605 380.857 Q80.7605 387.963 82.566 391.528 Q84.3947 395.07 88.0058 395.07 Q91.6401 395.07 93.4456 391.528 Q95.2743 387.963 95.2743 380.857 Q95.2743 373.727 93.4456 370.186 Q91.6401 366.621 88.0058 366.621 M88.0058 362.917 Q93.816 362.917 96.8715 367.523 Q99.9502 372.107 99.9502 380.857 Q99.9502 389.584 96.8715 394.19 Q93.816 398.773 88.0058 398.773 Q82.1957 398.773 79.117 394.19 Q76.0614 389.584 76.0614 380.857 Q76.0614 372.107 79.117 367.523 Q82.1957 362.917 88.0058 362.917 Z\" fill=\"#000000\" fill-rule=\"evenodd\" fill-opacity=\"1\" /><path clip-path=\"url(#clip140)\" d=\"M 0 0 M115.02 366.621 Q111.408 366.621 109.58 370.186 Q107.774 373.727 107.774 380.857 Q107.774 387.963 109.58 391.528 Q111.408 395.07 115.02 395.07 Q118.654 395.07 120.459 391.528 Q122.288 387.963 122.288 380.857 Q122.288 373.727 120.459 370.186 Q118.654 366.621 115.02 366.621 M115.02 362.917 Q120.83 362.917 123.885 367.523 Q126.964 372.107 126.964 380.857 Q126.964 389.584 123.885 394.19 Q120.83 398.773 115.02 398.773 Q109.209 398.773 106.131 394.19 Q103.075 389.584 103.075 380.857 Q103.075 372.107 106.131 367.523 Q109.209 362.917 115.02 362.917 Z\" fill=\"#000000\" fill-rule=\"evenodd\" fill-opacity=\"1\" /><path clip-path=\"url(#clip140)\" d=\"M 0 0 M57.6125 127.943 L73.9318 127.943 L73.9318 131.879 L51.9875 131.879 L51.9875 127.943 Q54.6495 125.189 59.2328 120.559 Q63.8393 115.906 65.0198 114.564 Q67.2652 112.041 68.1448 110.305 Q69.0476 108.545 69.0476 106.856 Q69.0476 104.101 67.1032 102.365 Q65.1819 100.629 62.08 100.629 Q59.881 100.629 57.4273 101.393 Q54.9967 102.157 52.219 103.707 L52.219 98.9853 Q55.043 97.851 57.4967 97.2723 Q59.9504 96.6936 61.9874 96.6936 Q67.3578 96.6936 70.5522 99.3788 Q73.7466 102.064 73.7466 106.555 Q73.7466 108.684 72.9365 110.606 Q72.1494 112.504 70.0429 115.096 Q69.4642 115.768 66.3624 118.985 Q63.2606 122.18 57.6125 127.943 Z\" fill=\"#000000\" fill-rule=\"evenodd\" fill-opacity=\"1\" /><path clip-path=\"url(#clip140)\" d=\"M 0 0 M79.0475 97.3186 L97.4039 97.3186 L97.4039 101.254 L83.3299 101.254 L83.3299 109.726 Q84.3484 109.379 85.3669 109.217 Q86.3855 109.032 87.404 109.032 Q93.191 109.032 96.5706 112.203 Q99.9502 115.374 99.9502 120.791 Q99.9502 126.369 96.478 129.471 Q93.0058 132.55 86.6864 132.55 Q84.5105 132.55 82.242 132.18 Q79.9966 131.809 77.5892 131.068 L77.5892 126.369 Q79.6725 127.504 81.8947 128.059 Q84.1169 128.615 86.5938 128.615 Q90.5984 128.615 92.9363 126.508 Q95.2743 124.402 95.2743 120.791 Q95.2743 117.18 92.9363 115.073 Q90.5984 112.967 86.5938 112.967 Q84.7188 112.967 82.8438 113.383 Q80.992 113.8 79.0475 114.68 L79.0475 97.3186 Z\" fill=\"#000000\" fill-rule=\"evenodd\" fill-opacity=\"1\" /><path clip-path=\"url(#clip140)\" d=\"M 0 0 M115.02 100.397 Q111.408 100.397 109.58 103.962 Q107.774 107.504 107.774 114.633 Q107.774 121.74 109.58 125.305 Q111.408 128.846 115.02 128.846 Q118.654 128.846 120.459 125.305 Q122.288 121.74 122.288 114.633 Q122.288 107.504 120.459 103.962 Q118.654 100.397 115.02 100.397 M115.02 96.6936 Q120.83 96.6936 123.885 101.3 Q126.964 105.883 126.964 114.633 Q126.964 123.36 123.885 127.967 Q120.83 132.55 115.02 132.55 Q109.209 132.55 106.131 127.967 Q103.075 123.36 103.075 114.633 Q103.075 105.883 106.131 101.3 Q109.209 96.6936 115.02 96.6936 Z\" fill=\"#000000\" fill-rule=\"evenodd\" fill-opacity=\"1\" /><path clip-path=\"url(#clip142)\" d=\"\n",
       "M283.406 327.577 L283.406 1445.72 L385.98 1445.72 L385.98 327.577 L283.406 327.577 L283.406 327.577  Z\n",
       "  \" fill=\"#009af9\" fill-rule=\"evenodd\" fill-opacity=\"1\"/>\n",
       "<polyline clip-path=\"url(#clip142)\" style=\"stroke:#000000; stroke-width:4; stroke-opacity:1; fill:none\" points=\"\n",
       "  283.406,327.577 283.406,1445.72 385.98,1445.72 385.98,327.577 283.406,327.577 \n",
       "  \"/>\n",
       "<path clip-path=\"url(#clip142)\" d=\"\n",
       "M385.98 87.9763 L385.98 1445.72 L488.555 1445.72 L488.555 87.9763 L385.98 87.9763 L385.98 87.9763  Z\n",
       "  \" fill=\"#009af9\" fill-rule=\"evenodd\" fill-opacity=\"1\"/>\n",
       "<polyline clip-path=\"url(#clip142)\" style=\"stroke:#000000; stroke-width:4; stroke-opacity:1; fill:none\" points=\"\n",
       "  385.98,87.9763 385.98,1445.72 488.555,1445.72 488.555,87.9763 385.98,87.9763 \n",
       "  \"/>\n",
       "<path clip-path=\"url(#clip142)\" d=\"\n",
       "M488.555 418.093 L488.555 1445.72 L591.129 1445.72 L591.129 418.093 L488.555 418.093 L488.555 418.093  Z\n",
       "  \" fill=\"#009af9\" fill-rule=\"evenodd\" fill-opacity=\"1\"/>\n",
       "<polyline clip-path=\"url(#clip142)\" style=\"stroke:#000000; stroke-width:4; stroke-opacity:1; fill:none\" points=\"\n",
       "  488.555,418.093 488.555,1445.72 591.129,1445.72 591.129,418.093 488.555,418.093 \n",
       "  \"/>\n",
       "<path clip-path=\"url(#clip142)\" d=\"\n",
       "M591.129 726.912 L591.129 1445.72 L693.703 1445.72 L693.703 726.912 L591.129 726.912 L591.129 726.912  Z\n",
       "  \" fill=\"#009af9\" fill-rule=\"evenodd\" fill-opacity=\"1\"/>\n",
       "<polyline clip-path=\"url(#clip142)\" style=\"stroke:#000000; stroke-width:4; stroke-opacity:1; fill:none\" points=\"\n",
       "  591.129,726.912 591.129,1445.72 693.703,1445.72 693.703,726.912 591.129,726.912 \n",
       "  \"/>\n",
       "<path clip-path=\"url(#clip142)\" d=\"\n",
       "M693.703 1009.11 L693.703 1445.72 L796.277 1445.72 L796.277 1009.11 L693.703 1009.11 L693.703 1009.11  Z\n",
       "  \" fill=\"#009af9\" fill-rule=\"evenodd\" fill-opacity=\"1\"/>\n",
       "<polyline clip-path=\"url(#clip142)\" style=\"stroke:#000000; stroke-width:4; stroke-opacity:1; fill:none\" points=\"\n",
       "  693.703,1009.11 693.703,1445.72 796.277,1445.72 796.277,1009.11 693.703,1009.11 \n",
       "  \"/>\n",
       "<path clip-path=\"url(#clip142)\" d=\"\n",
       "M796.277 1174.17 L796.277 1445.72 L898.851 1445.72 L898.851 1174.17 L796.277 1174.17 L796.277 1174.17  Z\n",
       "  \" fill=\"#009af9\" fill-rule=\"evenodd\" fill-opacity=\"1\"/>\n",
       "<polyline clip-path=\"url(#clip142)\" style=\"stroke:#000000; stroke-width:4; stroke-opacity:1; fill:none\" points=\"\n",
       "  796.277,1174.17 796.277,1445.72 898.851,1445.72 898.851,1174.17 796.277,1174.17 \n",
       "  \"/>\n",
       "<path clip-path=\"url(#clip142)\" d=\"\n",
       "M898.851 1254.03 L898.851 1445.72 L1001.42 1445.72 L1001.42 1254.03 L898.851 1254.03 L898.851 1254.03  Z\n",
       "  \" fill=\"#009af9\" fill-rule=\"evenodd\" fill-opacity=\"1\"/>\n",
       "<polyline clip-path=\"url(#clip142)\" style=\"stroke:#000000; stroke-width:4; stroke-opacity:1; fill:none\" points=\"\n",
       "  898.851,1254.03 898.851,1445.72 1001.42,1445.72 1001.42,1254.03 898.851,1254.03 \n",
       "  \"/>\n",
       "<path clip-path=\"url(#clip142)\" d=\"\n",
       "M1001.42 1344.55 L1001.42 1445.72 L1104 1445.72 L1104 1344.55 L1001.42 1344.55 L1001.42 1344.55  Z\n",
       "  \" fill=\"#009af9\" fill-rule=\"evenodd\" fill-opacity=\"1\"/>\n",
       "<polyline clip-path=\"url(#clip142)\" style=\"stroke:#000000; stroke-width:4; stroke-opacity:1; fill:none\" points=\"\n",
       "  1001.42,1344.55 1001.42,1445.72 1104,1445.72 1104,1344.55 1001.42,1344.55 \n",
       "  \"/>\n",
       "<path clip-path=\"url(#clip142)\" d=\"\n",
       "M1104 1387.15 L1104 1445.72 L1206.57 1445.72 L1206.57 1387.15 L1104 1387.15 L1104 1387.15  Z\n",
       "  \" fill=\"#009af9\" fill-rule=\"evenodd\" fill-opacity=\"1\"/>\n",
       "<polyline clip-path=\"url(#clip142)\" style=\"stroke:#000000; stroke-width:4; stroke-opacity:1; fill:none\" points=\"\n",
       "  1104,1387.15 1104,1445.72 1206.57,1445.72 1206.57,1387.15 1104,1387.15 \n",
       "  \"/>\n",
       "<path clip-path=\"url(#clip142)\" d=\"\n",
       "M1206.57 1424.42 L1206.57 1445.72 L1309.15 1445.72 L1309.15 1424.42 L1206.57 1424.42 L1206.57 1424.42  Z\n",
       "  \" fill=\"#009af9\" fill-rule=\"evenodd\" fill-opacity=\"1\"/>\n",
       "<polyline clip-path=\"url(#clip142)\" style=\"stroke:#000000; stroke-width:4; stroke-opacity:1; fill:none\" points=\"\n",
       "  1206.57,1424.42 1206.57,1445.72 1309.15,1445.72 1309.15,1424.42 1206.57,1424.42 \n",
       "  \"/>\n",
       "<path clip-path=\"url(#clip142)\" d=\"\n",
       "M1309.15 1440.39 L1309.15 1445.72 L1411.72 1445.72 L1411.72 1440.39 L1309.15 1440.39 L1309.15 1440.39  Z\n",
       "  \" fill=\"#009af9\" fill-rule=\"evenodd\" fill-opacity=\"1\"/>\n",
       "<polyline clip-path=\"url(#clip142)\" style=\"stroke:#000000; stroke-width:4; stroke-opacity:1; fill:none\" points=\"\n",
       "  1309.15,1440.39 1309.15,1445.72 1411.72,1445.72 1411.72,1440.39 1309.15,1440.39 \n",
       "  \"/>\n",
       "<path clip-path=\"url(#clip142)\" d=\"\n",
       "M1411.72 1440.39 L1411.72 1445.72 L1514.3 1445.72 L1514.3 1440.39 L1411.72 1440.39 L1411.72 1440.39  Z\n",
       "  \" fill=\"#009af9\" fill-rule=\"evenodd\" fill-opacity=\"1\"/>\n",
       "<polyline clip-path=\"url(#clip142)\" style=\"stroke:#000000; stroke-width:4; stroke-opacity:1; fill:none\" points=\"\n",
       "  1411.72,1440.39 1411.72,1445.72 1514.3,1445.72 1514.3,1440.39 1411.72,1440.39 \n",
       "  \"/>\n",
       "<path clip-path=\"url(#clip142)\" d=\"\n",
       "M1514.3 1445.72 L1514.3 1445.72 L1616.87 1445.72 L1616.87 1445.72 L1514.3 1445.72 L1514.3 1445.72  Z\n",
       "  \" fill=\"#009af9\" fill-rule=\"evenodd\" fill-opacity=\"1\"/>\n",
       "<polyline clip-path=\"url(#clip142)\" style=\"stroke:#000000; stroke-width:4; stroke-opacity:1; fill:none\" points=\"\n",
       "  1514.3,1445.72 1514.3,1445.72 1616.87,1445.72 1514.3,1445.72 \n",
       "  \"/>\n",
       "<path clip-path=\"url(#clip142)\" d=\"\n",
       "M1616.87 1445.72 L1616.87 1445.72 L1719.44 1445.72 L1719.44 1445.72 L1616.87 1445.72 L1616.87 1445.72  Z\n",
       "  \" fill=\"#009af9\" fill-rule=\"evenodd\" fill-opacity=\"1\"/>\n",
       "<polyline clip-path=\"url(#clip142)\" style=\"stroke:#000000; stroke-width:4; stroke-opacity:1; fill:none\" points=\"\n",
       "  1616.87,1445.72 1616.87,1445.72 1719.44,1445.72 1616.87,1445.72 \n",
       "  \"/>\n",
       "<path clip-path=\"url(#clip142)\" d=\"\n",
       "M1719.44 1440.39 L1719.44 1445.72 L1822.02 1445.72 L1822.02 1440.39 L1719.44 1440.39 L1719.44 1440.39  Z\n",
       "  \" fill=\"#009af9\" fill-rule=\"evenodd\" fill-opacity=\"1\"/>\n",
       "<polyline clip-path=\"url(#clip142)\" style=\"stroke:#000000; stroke-width:4; stroke-opacity:1; fill:none\" points=\"\n",
       "  1719.44,1440.39 1719.44,1445.72 1822.02,1445.72 1822.02,1440.39 1719.44,1440.39 \n",
       "  \"/>\n",
       "<path clip-path=\"url(#clip142)\" d=\"\n",
       "M1822.02 1445.72 L1822.02 1445.72 L1924.59 1445.72 L1924.59 1445.72 L1822.02 1445.72 L1822.02 1445.72  Z\n",
       "  \" fill=\"#009af9\" fill-rule=\"evenodd\" fill-opacity=\"1\"/>\n",
       "<polyline clip-path=\"url(#clip142)\" style=\"stroke:#000000; stroke-width:4; stroke-opacity:1; fill:none\" points=\"\n",
       "  1822.02,1445.72 1822.02,1445.72 1924.59,1445.72 1822.02,1445.72 \n",
       "  \"/>\n",
       "<path clip-path=\"url(#clip142)\" d=\"\n",
       "M1924.59 1445.72 L1924.59 1445.72 L2027.17 1445.72 L2027.17 1445.72 L1924.59 1445.72 L1924.59 1445.72  Z\n",
       "  \" fill=\"#009af9\" fill-rule=\"evenodd\" fill-opacity=\"1\"/>\n",
       "<polyline clip-path=\"url(#clip142)\" style=\"stroke:#000000; stroke-width:4; stroke-opacity:1; fill:none\" points=\"\n",
       "  1924.59,1445.72 1924.59,1445.72 2027.17,1445.72 1924.59,1445.72 \n",
       "  \"/>\n",
       "<path clip-path=\"url(#clip142)\" d=\"\n",
       "M2027.17 1445.72 L2027.17 1445.72 L2129.74 1445.72 L2129.74 1445.72 L2027.17 1445.72 L2027.17 1445.72  Z\n",
       "  \" fill=\"#009af9\" fill-rule=\"evenodd\" fill-opacity=\"1\"/>\n",
       "<polyline clip-path=\"url(#clip142)\" style=\"stroke:#000000; stroke-width:4; stroke-opacity:1; fill:none\" points=\"\n",
       "  2027.17,1445.72 2027.17,1445.72 2129.74,1445.72 2027.17,1445.72 \n",
       "  \"/>\n",
       "<path clip-path=\"url(#clip142)\" d=\"\n",
       "M2129.74 1440.39 L2129.74 1445.72 L2232.31 1445.72 L2232.31 1440.39 L2129.74 1440.39 L2129.74 1440.39  Z\n",
       "  \" fill=\"#009af9\" fill-rule=\"evenodd\" fill-opacity=\"1\"/>\n",
       "<polyline clip-path=\"url(#clip142)\" style=\"stroke:#000000; stroke-width:4; stroke-opacity:1; fill:none\" points=\"\n",
       "  2129.74,1440.39 2129.74,1445.72 2232.31,1445.72 2232.31,1440.39 2129.74,1440.39 \n",
       "  \"/>\n",
       "<path clip-path=\"url(#clip140)\" d=\"\n",
       "M1985.43 216.178 L2279.76 216.178 L2279.76 95.2176 L1985.43 95.2176  Z\n",
       "  \" fill=\"#ffffff\" fill-rule=\"evenodd\" fill-opacity=\"1\"/>\n",
       "<polyline clip-path=\"url(#clip140)\" style=\"stroke:#000000; stroke-width:4; stroke-opacity:1; fill:none\" points=\"\n",
       "  1985.43,216.178 2279.76,216.178 2279.76,95.2176 1985.43,95.2176 1985.43,216.178 \n",
       "  \"/>\n",
       "<path clip-path=\"url(#clip140)\" d=\"\n",
       "M2009.77 179.89 L2155.75 179.89 L2155.75 131.506 L2009.77 131.506 L2009.77 179.89  Z\n",
       "  \" fill=\"#009af9\" fill-rule=\"evenodd\" fill-opacity=\"1\"/>\n",
       "<polyline clip-path=\"url(#clip140)\" style=\"stroke:#000000; stroke-width:4; stroke-opacity:1; fill:none\" points=\"\n",
       "  2009.77,179.89 2155.75,179.89 2155.75,131.506 2009.77,131.506 2009.77,179.89 \n",
       "  \"/>\n",
       "<path clip-path=\"url(#clip140)\" d=\"M 0 0 M2193.93 175.385 Q2192.12 180.015 2190.41 181.427 Q2188.69 182.839 2185.82 182.839 L2182.42 182.839 L2182.42 179.274 L2184.92 179.274 Q2186.68 179.274 2187.65 178.44 Q2188.62 177.607 2189.8 174.505 L2190.57 172.561 L2180.08 147.052 L2184.6 147.052 L2192.7 167.329 L2200.8 147.052 L2205.31 147.052 L2193.93 175.385 Z\" fill=\"#000000\" fill-rule=\"evenodd\" fill-opacity=\"1\" /><path clip-path=\"url(#clip140)\" d=\"M 0 0 M2211.19 169.042 L2218.83 169.042 L2218.83 142.677 L2210.52 144.343 L2210.52 140.084 L2218.79 138.418 L2223.46 138.418 L2223.46 169.042 L2231.1 169.042 L2231.1 172.978 L2211.19 172.978 L2211.19 169.042 Z\" fill=\"#000000\" fill-rule=\"evenodd\" fill-opacity=\"1\" /></svg>\n"
      ]
     },
     "execution_count": 25,
     "metadata": {},
     "output_type": "execute_result"
    }
   ],
   "source": [
    "histogram_of_T(P)"
   ]
  },
  {
   "cell_type": "markdown",
   "metadata": {},
   "source": [
    "### With $N>2$\n",
    "$T_i$: expected time to reach $N$ if in state $i$ ($T_N=0$)\n",
    "Bellman\n",
    "$$\n",
    "T_i = 1 + E(T_s)\n",
    "$$\n",
    "$$\n",
    "T_i = 1 + \\sum_{k=1}^N P_{ik}T_k\n",
    "$$\n",
    "$$\n",
    "\\mathbf T = \\mathbf 1 + \\mathbf P \\mathbf T\n",
    "$$\n",
    "with $\\mathbf T$ an $N\\times 1$ vector. $T_n=0$\n",
    "\n",
    "$$\n",
    "\\mathbf T_{-n} = \\mathbf 1 + \\mathbf P_{-n} \n",
    "\\begin{pmatrix}\n",
    "\\mathbf T_{-n}\\\\\n",
    "0\n",
    "\\end{pmatrix}\n",
    "$$\n",
    "with $\\mathbf T_{-n}$ an $(N-1)\\times 1$ vector. and $\\mathbf P_{-n}$ is $(N-1)\\times N$\n",
    "\n",
    "$$\n",
    "(\\mathbf I - \\mathbf P) \\mathbf T = \\mathbf 1\t \n",
    "$$\n"
   ]
  },
  {
   "cell_type": "code",
   "execution_count": 40,
   "metadata": {},
   "outputs": [
    {
     "data": {
      "text/plain": [
       "solve_T_with_Bellman (generic function with 1 method)"
      ]
     },
     "execution_count": 40,
     "metadata": {},
     "output_type": "execute_result"
    }
   ],
   "source": [
    "function solve_T_with_Bellman(P::Array{Float64, 2})\n",
    "    threshold = 0.00001\n",
    "    N = size(P, 1)\n",
    "    T = zeros(N)\n",
    "    old_T = zeros(N)\n",
    "    distance = 999 * threshold\n",
    "    while distance > threshold\n",
    "        T = 1 .+ P * old_T\n",
    "        T[N] = 0\n",
    "        distance = maximum(abs.(T .- old_T))\n",
    "        old_T = T\n",
    "    end\n",
    "    return T\n",
    "end"
   ]
  },
  {
   "cell_type": "code",
   "execution_count": 41,
   "metadata": {},
   "outputs": [
    {
     "data": {
      "text/plain": [
       "3-element Array{Float64,1}:\n",
       " 12.499917968670616\n",
       "  4.999999999964165\n",
       "  0.0"
      ]
     },
     "execution_count": 41,
     "metadata": {},
     "output_type": "execute_result"
    }
   ],
   "source": [
    "T = solve_T_with_Bellman(P)"
   ]
  },
  {
   "cell_type": "code",
   "execution_count": 29,
   "metadata": {},
   "outputs": [
    {
     "data": {
      "text/plain": [
       "3×3 Array{Float64,2}:\n",
       "  0.9   0.05   0.05\n",
       "  0.0   0.8    0.2\n",
       " 32.0  47.0   -3.0"
      ]
     },
     "execution_count": 29,
     "metadata": {},
     "output_type": "execute_result"
    }
   ],
   "source": [
    "P"
   ]
  },
  {
   "cell_type": "markdown",
   "metadata": {},
   "source": [
    "### Coupon collector's problem\n",
    "$K$ different types of coupons. Buy $N$ random ones so that we have at least 1 of each type. $E(N)=?$\n",
    "\n",
    "With Bellman. State $k$: we already have $k$ different types of coupons. \n",
    "\n",
    "$N_k$: expected number of additional coupons to buy after this state.\n",
    "$$\n",
    "N_k = 0 \n",
    "$$\n",
    "for $k=K$\n",
    "$$\n",
    "N_k = 1 + \\frac kK N_k+\\frac{K-k}{K} N_{k+1}\n",
    "$$\n",
    "$$\n",
    "\\frac {K-k}K N_k = \n",
    "1 + \\frac{K-k}K N_{k+1}\n",
    "$$\n",
    "$$\n",
    "N_k = \\frac K{K-k} + N_{k+1}\n",
    "$$\n",
    "Iterate for $k=K-1,...,1$."
   ]
  },
  {
   "cell_type": "markdown",
   "metadata": {},
   "source": [
    "## Long-term unemployment\n",
    "$T+2$ states: $0$ is employment, $t=1,...,T+1$ means person is in month $t$ of unemployment.\n",
    "\n",
    "$w$ wage when employed\n",
    "\n",
    "$b_1$ for $t\\le T$, higher unemployment benefit\n",
    "$b_2<b_1$ when $t>T$\n",
    "\n",
    "$$\n",
    "V_0 = w +\\beta\n",
    "[(1-P_{01})V_0 + P_{01} V_1]\n",
    "$$\n",
    "for $t\\le T$\n",
    "$$\n",
    "V_t = b_1+ \\beta\n",
    "[(1-P_{t0})V_{t+1} + P_{t0} V_0]\n",
    "$$\n",
    "$$\n",
    "V_{T+1} = b_2 + \\beta\n",
    "[(1-P_{T+1,0}) V_{T+1} + P_{T+1,0}V_0]\n",
    "$$\n",
    "Recursive formulation:\n",
    "1. Take a $V_0$\n",
    "2. Use Bellman for $0$ to solve for $V_1$\n",
    "3. Use Bellman for $t=1$ to solve for $V_2$...\n",
    "4. Obtain $V_{T+1}$.\n",
    "5. Use the Bellman for $t=T+1$ to verify that $V_0$ was correct.\n",
    "\n",
    "## Endogenous search\n",
    "$$\n",
    "P_{t0} = 1 - \\exp(-\\lambda e_t)\n",
    "$$\n",
    "effort enter utility linearly\n",
    "$$\n",
    "b_1 - e_t\n",
    "$$\n",
    "\n",
    "$$\n",
    "V_0 = w +\\beta\n",
    "[(1-P_{01})V_0 + P_{01} V_1]\\tag{**}\n",
    "$$\n",
    "for $t\\le T$\n",
    "$$\n",
    "V_t = \\max_{e_t} b_1 - e_t + \n",
    "\\beta\n",
    "[\\exp(-\\lambda e_t)V_{t+1} + (1-\\exp(-\\lambda e_t)) V_0]\n",
    "$$\n",
    "$$\n",
    "V_{T+1} = \\max_{e_{T+1}} b_2 - e_{T+1}\n",
    "$$\n",
    "$$+ \\beta\n",
    "[\\exp(-\\lambda e_{T+1}) V_{T+1} + (1-\\exp(-\\lambda e_{T+1}))V_0]\n",
    "$$\n",
    "FOC\n",
    "$$\n",
    "\\beta\n",
    "[\\lambda \\exp(-\\lambda e_t)(V_0 - V_{t+1})] = 1\n",
    "$$\n",
    "$$\n",
    "\\exp(-\\lambda e_t) = \n",
    "\\frac{1}\n",
    "{\\beta\\lambda (V_0-V_{t+1})}\n",
    "$$\n",
    "$$\n",
    "e_t = \\frac 1\\lambda\n",
    "[\\ln \\beta + \\ln \\lambda + \\ln(V_0-V_{t+1})]\n",
    "\\tag{*}\n",
    "$$\n"
   ]
  },
  {
   "cell_type": "code",
   "execution_count": 24,
   "metadata": {},
   "outputs": [
    {
     "data": {
      "image/svg+xml": [
       "<?xml version=\"1.0\" encoding=\"utf-8\"?>\n",
       "<svg xmlns=\"http://www.w3.org/2000/svg\" xmlns:xlink=\"http://www.w3.org/1999/xlink\" width=\"600\" height=\"400\" viewBox=\"0 0 2400 1600\">\n",
       "<defs>\n",
       "  <clipPath id=\"clip960\">\n",
       "    <rect x=\"0\" y=\"0\" width=\"2400\" height=\"1600\"/>\n",
       "  </clipPath>\n",
       "</defs>\n",
       "<path clip-path=\"url(#clip960)\" d=\"\n",
       "M0 1600 L2400 1600 L2400 0 L0 0  Z\n",
       "  \" fill=\"#ffffff\" fill-rule=\"evenodd\" fill-opacity=\"1\"/>\n",
       "<defs>\n",
       "  <clipPath id=\"clip961\">\n",
       "    <rect x=\"480\" y=\"0\" width=\"1681\" height=\"1600\"/>\n",
       "  </clipPath>\n",
       "</defs>\n",
       "<path clip-path=\"url(#clip960)\" d=\"\n",
       "M174.862 1486.45 L2352.76 1486.45 L2352.76 47.2441 L174.862 47.2441  Z\n",
       "  \" fill=\"#ffffff\" fill-rule=\"evenodd\" fill-opacity=\"1\"/>\n",
       "<defs>\n",
       "  <clipPath id=\"clip962\">\n",
       "    <rect x=\"174\" y=\"47\" width=\"2179\" height=\"1440\"/>\n",
       "  </clipPath>\n",
       "</defs>\n",
       "<polyline clip-path=\"url(#clip962)\" style=\"stroke:#000000; stroke-width:2; stroke-opacity:0.1; fill:none\" points=\"\n",
       "  215.747,1486.45 215.747,47.2441 \n",
       "  \"/>\n",
       "<polyline clip-path=\"url(#clip962)\" style=\"stroke:#000000; stroke-width:2; stroke-opacity:0.1; fill:none\" points=\"\n",
       "  734.589,1486.45 734.589,47.2441 \n",
       "  \"/>\n",
       "<polyline clip-path=\"url(#clip962)\" style=\"stroke:#000000; stroke-width:2; stroke-opacity:0.1; fill:none\" points=\"\n",
       "  1253.43,1486.45 1253.43,47.2441 \n",
       "  \"/>\n",
       "<polyline clip-path=\"url(#clip962)\" style=\"stroke:#000000; stroke-width:2; stroke-opacity:0.1; fill:none\" points=\"\n",
       "  1772.27,1486.45 1772.27,47.2441 \n",
       "  \"/>\n",
       "<polyline clip-path=\"url(#clip962)\" style=\"stroke:#000000; stroke-width:2; stroke-opacity:0.1; fill:none\" points=\"\n",
       "  2291.12,1486.45 2291.12,47.2441 \n",
       "  \"/>\n",
       "<polyline clip-path=\"url(#clip960)\" style=\"stroke:#000000; stroke-width:4; stroke-opacity:1; fill:none\" points=\"\n",
       "  174.862,1486.45 2352.76,1486.45 \n",
       "  \"/>\n",
       "<polyline clip-path=\"url(#clip960)\" style=\"stroke:#000000; stroke-width:4; stroke-opacity:1; fill:none\" points=\"\n",
       "  215.747,1486.45 215.747,1469.18 \n",
       "  \"/>\n",
       "<polyline clip-path=\"url(#clip960)\" style=\"stroke:#000000; stroke-width:4; stroke-opacity:1; fill:none\" points=\"\n",
       "  734.589,1486.45 734.589,1469.18 \n",
       "  \"/>\n",
       "<polyline clip-path=\"url(#clip960)\" style=\"stroke:#000000; stroke-width:4; stroke-opacity:1; fill:none\" points=\"\n",
       "  1253.43,1486.45 1253.43,1469.18 \n",
       "  \"/>\n",
       "<polyline clip-path=\"url(#clip960)\" style=\"stroke:#000000; stroke-width:4; stroke-opacity:1; fill:none\" points=\"\n",
       "  1772.27,1486.45 1772.27,1469.18 \n",
       "  \"/>\n",
       "<polyline clip-path=\"url(#clip960)\" style=\"stroke:#000000; stroke-width:4; stroke-opacity:1; fill:none\" points=\"\n",
       "  2291.12,1486.45 2291.12,1469.18 \n",
       "  \"/>\n",
       "<path clip-path=\"url(#clip960)\" d=\"M 0 0 M215.747 1515.64 Q212.136 1515.64 210.307 1519.2 Q208.501 1522.75 208.501 1529.87 Q208.501 1536.98 210.307 1540.55 Q212.136 1544.09 215.747 1544.09 Q219.381 1544.09 221.187 1540.55 Q223.015 1536.98 223.015 1529.87 Q223.015 1522.75 221.187 1519.2 Q219.381 1515.64 215.747 1515.64 M215.747 1511.93 Q221.557 1511.93 224.613 1516.54 Q227.691 1521.12 227.691 1529.87 Q227.691 1538.6 224.613 1543.21 Q221.557 1547.79 215.747 1547.79 Q209.937 1547.79 206.858 1543.21 Q203.802 1538.6 203.802 1529.87 Q203.802 1521.12 206.858 1516.54 Q209.937 1511.93 215.747 1511.93 Z\" fill=\"#000000\" fill-rule=\"evenodd\" fill-opacity=\"1\" /><path clip-path=\"url(#clip960)\" d=\"M 0 0 M716.233 1543.18 L732.552 1543.18 L732.552 1547.12 L710.608 1547.12 L710.608 1543.18 Q713.27 1540.43 717.853 1535.8 Q722.46 1531.15 723.64 1529.81 Q725.886 1527.28 726.765 1525.55 Q727.668 1523.79 727.668 1522.1 Q727.668 1519.34 725.724 1517.61 Q723.802 1515.87 720.701 1515.87 Q718.502 1515.87 716.048 1516.63 Q713.617 1517.4 710.84 1518.95 L710.84 1514.23 Q713.664 1513.09 716.117 1512.51 Q718.571 1511.93 720.608 1511.93 Q725.978 1511.93 729.173 1514.62 Q732.367 1517.31 732.367 1521.8 Q732.367 1523.93 731.557 1525.85 Q730.77 1527.74 728.664 1530.34 Q728.085 1531.01 724.983 1534.23 Q721.881 1537.42 716.233 1543.18 Z\" fill=\"#000000\" fill-rule=\"evenodd\" fill-opacity=\"1\" /><path clip-path=\"url(#clip960)\" d=\"M 0 0 M737.668 1512.56 L756.025 1512.56 L756.025 1516.5 L741.951 1516.5 L741.951 1524.97 Q742.969 1524.62 743.988 1524.46 Q745.006 1524.27 746.025 1524.27 Q751.812 1524.27 755.191 1527.44 Q758.571 1530.62 758.571 1536.03 Q758.571 1541.61 755.099 1544.71 Q751.626 1547.79 745.307 1547.79 Q743.131 1547.79 740.863 1547.42 Q738.617 1547.05 736.21 1546.31 L736.21 1541.61 Q738.293 1542.74 740.515 1543.3 Q742.738 1543.86 745.214 1543.86 Q749.219 1543.86 751.557 1541.75 Q753.895 1539.64 753.895 1536.03 Q753.895 1532.42 751.557 1530.31 Q749.219 1528.21 745.214 1528.21 Q743.339 1528.21 741.464 1528.62 Q739.613 1529.04 737.668 1529.92 L737.668 1512.56 Z\" fill=\"#000000\" fill-rule=\"evenodd\" fill-opacity=\"1\" /><path clip-path=\"url(#clip960)\" d=\"M 0 0 M1230.2 1512.56 L1248.56 1512.56 L1248.56 1516.5 L1234.49 1516.5 L1234.49 1524.97 Q1235.5 1524.62 1236.52 1524.46 Q1237.54 1524.27 1238.56 1524.27 Q1244.35 1524.27 1247.73 1527.44 Q1251.11 1530.62 1251.11 1536.03 Q1251.11 1541.61 1247.63 1544.71 Q1244.16 1547.79 1237.84 1547.79 Q1235.67 1547.79 1233.4 1547.42 Q1231.15 1547.05 1228.74 1546.31 L1228.74 1541.61 Q1230.83 1542.74 1233.05 1543.3 Q1235.27 1543.86 1237.75 1543.86 Q1241.75 1543.86 1244.09 1541.75 Q1246.43 1539.64 1246.43 1536.03 Q1246.43 1532.42 1244.09 1530.31 Q1241.75 1528.21 1237.75 1528.21 Q1235.87 1528.21 1234 1528.62 Q1232.15 1529.04 1230.2 1529.92 L1230.2 1512.56 Z\" fill=\"#000000\" fill-rule=\"evenodd\" fill-opacity=\"1\" /><path clip-path=\"url(#clip960)\" d=\"M 0 0 M1266.18 1515.64 Q1262.56 1515.64 1260.74 1519.2 Q1258.93 1522.75 1258.93 1529.87 Q1258.93 1536.98 1260.74 1540.55 Q1262.56 1544.09 1266.18 1544.09 Q1269.81 1544.09 1271.61 1540.55 Q1273.44 1536.98 1273.44 1529.87 Q1273.44 1522.75 1271.61 1519.2 Q1269.81 1515.64 1266.18 1515.64 M1266.18 1511.93 Q1271.99 1511.93 1275.04 1516.54 Q1278.12 1521.12 1278.12 1529.87 Q1278.12 1538.6 1275.04 1543.21 Q1271.99 1547.79 1266.18 1547.79 Q1260.36 1547.79 1257.29 1543.21 Q1254.23 1538.6 1254.23 1529.87 Q1254.23 1521.12 1257.29 1516.54 Q1260.36 1511.93 1266.18 1511.93 Z\" fill=\"#000000\" fill-rule=\"evenodd\" fill-opacity=\"1\" /><path clip-path=\"url(#clip960)\" d=\"M 0 0 M1748.15 1512.56 L1770.38 1512.56 L1770.38 1514.55 L1757.83 1547.12 L1752.95 1547.12 L1764.75 1516.5 L1748.15 1516.5 L1748.15 1512.56 Z\" fill=\"#000000\" fill-rule=\"evenodd\" fill-opacity=\"1\" /><path clip-path=\"url(#clip960)\" d=\"M 0 0 M1775.49 1512.56 L1793.85 1512.56 L1793.85 1516.5 L1779.77 1516.5 L1779.77 1524.97 Q1780.79 1524.62 1781.81 1524.46 Q1782.83 1524.27 1783.85 1524.27 Q1789.64 1524.27 1793.02 1527.44 Q1796.39 1530.62 1796.39 1536.03 Q1796.39 1541.61 1792.92 1544.71 Q1789.45 1547.79 1783.13 1547.79 Q1780.96 1547.79 1778.69 1547.42 Q1776.44 1547.05 1774.03 1546.31 L1774.03 1541.61 Q1776.12 1542.74 1778.34 1543.3 Q1780.56 1543.86 1783.04 1543.86 Q1787.04 1543.86 1789.38 1541.75 Q1791.72 1539.64 1791.72 1536.03 Q1791.72 1532.42 1789.38 1530.31 Q1787.04 1528.21 1783.04 1528.21 Q1781.16 1528.21 1779.29 1528.62 Q1777.44 1529.04 1775.49 1529.92 L1775.49 1512.56 Z\" fill=\"#000000\" fill-rule=\"evenodd\" fill-opacity=\"1\" /><path clip-path=\"url(#clip960)\" d=\"M 0 0 M2254.49 1543.18 L2262.12 1543.18 L2262.12 1516.82 L2253.81 1518.49 L2253.81 1514.23 L2262.08 1512.56 L2266.75 1512.56 L2266.75 1543.18 L2274.39 1543.18 L2274.39 1547.12 L2254.49 1547.12 L2254.49 1543.18 Z\" fill=\"#000000\" fill-rule=\"evenodd\" fill-opacity=\"1\" /><path clip-path=\"url(#clip960)\" d=\"M 0 0 M2289.46 1515.64 Q2285.85 1515.64 2284.02 1519.2 Q2282.22 1522.75 2282.22 1529.87 Q2282.22 1536.98 2284.02 1540.55 Q2285.85 1544.09 2289.46 1544.09 Q2293.1 1544.09 2294.9 1540.55 Q2296.73 1536.98 2296.73 1529.87 Q2296.73 1522.75 2294.9 1519.2 Q2293.1 1515.64 2289.46 1515.64 M2289.46 1511.93 Q2295.27 1511.93 2298.33 1516.54 Q2301.41 1521.12 2301.41 1529.87 Q2301.41 1538.6 2298.33 1543.21 Q2295.27 1547.79 2289.46 1547.79 Q2283.65 1547.79 2280.57 1543.21 Q2277.52 1538.6 2277.52 1529.87 Q2277.52 1521.12 2280.57 1516.54 Q2283.65 1511.93 2289.46 1511.93 Z\" fill=\"#000000\" fill-rule=\"evenodd\" fill-opacity=\"1\" /><path clip-path=\"url(#clip960)\" d=\"M 0 0 M2316.48 1515.64 Q2312.86 1515.64 2311.04 1519.2 Q2309.23 1522.75 2309.23 1529.87 Q2309.23 1536.98 2311.04 1540.55 Q2312.86 1544.09 2316.48 1544.09 Q2320.11 1544.09 2321.92 1540.55 Q2323.74 1536.98 2323.74 1529.87 Q2323.74 1522.75 2321.92 1519.2 Q2320.11 1515.64 2316.48 1515.64 M2316.48 1511.93 Q2322.29 1511.93 2325.34 1516.54 Q2328.42 1521.12 2328.42 1529.87 Q2328.42 1538.6 2325.34 1543.21 Q2322.29 1547.79 2316.48 1547.79 Q2310.67 1547.79 2307.59 1543.21 Q2304.53 1538.6 2304.53 1529.87 Q2304.53 1521.12 2307.59 1516.54 Q2310.67 1511.93 2316.48 1511.93 Z\" fill=\"#000000\" fill-rule=\"evenodd\" fill-opacity=\"1\" /><polyline clip-path=\"url(#clip962)\" style=\"stroke:#000000; stroke-width:2; stroke-opacity:0.1; fill:none\" points=\"\n",
       "  174.862,1445.72 2352.76,1445.72 \n",
       "  \"/>\n",
       "<polyline clip-path=\"url(#clip962)\" style=\"stroke:#000000; stroke-width:2; stroke-opacity:0.1; fill:none\" points=\"\n",
       "  174.862,1106.28 2352.76,1106.28 \n",
       "  \"/>\n",
       "<polyline clip-path=\"url(#clip962)\" style=\"stroke:#000000; stroke-width:2; stroke-opacity:0.1; fill:none\" points=\"\n",
       "  174.862,766.846 2352.76,766.846 \n",
       "  \"/>\n",
       "<polyline clip-path=\"url(#clip962)\" style=\"stroke:#000000; stroke-width:2; stroke-opacity:0.1; fill:none\" points=\"\n",
       "  174.862,427.411 2352.76,427.411 \n",
       "  \"/>\n",
       "<polyline clip-path=\"url(#clip962)\" style=\"stroke:#000000; stroke-width:2; stroke-opacity:0.1; fill:none\" points=\"\n",
       "  174.862,87.9763 2352.76,87.9763 \n",
       "  \"/>\n",
       "<polyline clip-path=\"url(#clip960)\" style=\"stroke:#000000; stroke-width:4; stroke-opacity:1; fill:none\" points=\"\n",
       "  174.862,1486.45 174.862,47.2441 \n",
       "  \"/>\n",
       "<polyline clip-path=\"url(#clip960)\" style=\"stroke:#000000; stroke-width:4; stroke-opacity:1; fill:none\" points=\"\n",
       "  174.862,1445.72 200.997,1445.72 \n",
       "  \"/>\n",
       "<polyline clip-path=\"url(#clip960)\" style=\"stroke:#000000; stroke-width:4; stroke-opacity:1; fill:none\" points=\"\n",
       "  174.862,1106.28 200.997,1106.28 \n",
       "  \"/>\n",
       "<polyline clip-path=\"url(#clip960)\" style=\"stroke:#000000; stroke-width:4; stroke-opacity:1; fill:none\" points=\"\n",
       "  174.862,766.846 200.997,766.846 \n",
       "  \"/>\n",
       "<polyline clip-path=\"url(#clip960)\" style=\"stroke:#000000; stroke-width:4; stroke-opacity:1; fill:none\" points=\"\n",
       "  174.862,427.411 200.997,427.411 \n",
       "  \"/>\n",
       "<polyline clip-path=\"url(#clip960)\" style=\"stroke:#000000; stroke-width:4; stroke-opacity:1; fill:none\" points=\"\n",
       "  174.862,87.9763 200.997,87.9763 \n",
       "  \"/>\n",
       "<path clip-path=\"url(#clip960)\" d=\"M 0 0 M62.9365 1431.51 Q59.3254 1431.51 57.4967 1435.08 Q55.6912 1438.62 55.6912 1445.75 Q55.6912 1452.86 57.4967 1456.42 Q59.3254 1459.96 62.9365 1459.96 Q66.5707 1459.96 68.3763 1456.42 Q70.205 1452.86 70.205 1445.75 Q70.205 1438.62 68.3763 1435.08 Q66.5707 1431.51 62.9365 1431.51 M62.9365 1427.81 Q68.7467 1427.81 71.8022 1432.42 Q74.8809 1437 74.8809 1445.75 Q74.8809 1454.48 71.8022 1459.08 Q68.7467 1463.67 62.9365 1463.67 Q57.1264 1463.67 54.0477 1459.08 Q50.9921 1454.48 50.9921 1445.75 Q50.9921 1437 54.0477 1432.42 Q57.1264 1427.81 62.9365 1427.81 Z\" fill=\"#000000\" fill-rule=\"evenodd\" fill-opacity=\"1\" /><path clip-path=\"url(#clip960)\" d=\"M 0 0 M79.9503 1457.12 L84.8345 1457.12 L84.8345 1463 L79.9503 1463 L79.9503 1457.12 Z\" fill=\"#000000\" fill-rule=\"evenodd\" fill-opacity=\"1\" /><path clip-path=\"url(#clip960)\" d=\"M 0 0 M99.9039 1431.51 Q96.2928 1431.51 94.4641 1435.08 Q92.6586 1438.62 92.6586 1445.75 Q92.6586 1452.86 94.4641 1456.42 Q96.2928 1459.96 99.9039 1459.96 Q103.538 1459.96 105.344 1456.42 Q107.172 1452.86 107.172 1445.75 Q107.172 1438.62 105.344 1435.08 Q103.538 1431.51 99.9039 1431.51 M99.9039 1427.81 Q105.714 1427.81 108.77 1432.42 Q111.848 1437 111.848 1445.75 Q111.848 1454.48 108.77 1459.08 Q105.714 1463.67 99.9039 1463.67 Q94.0937 1463.67 91.0151 1459.08 Q87.9595 1454.48 87.9595 1445.75 Q87.9595 1437 91.0151 1432.42 Q94.0937 1427.81 99.9039 1427.81 Z\" fill=\"#000000\" fill-rule=\"evenodd\" fill-opacity=\"1\" /><path clip-path=\"url(#clip960)\" d=\"M 0 0 M126.918 1431.51 Q123.307 1431.51 121.478 1435.08 Q119.672 1438.62 119.672 1445.75 Q119.672 1452.86 121.478 1456.42 Q123.307 1459.96 126.918 1459.96 Q130.552 1459.96 132.357 1456.42 Q134.186 1452.86 134.186 1445.75 Q134.186 1438.62 132.357 1435.08 Q130.552 1431.51 126.918 1431.51 M126.918 1427.81 Q132.728 1427.81 135.783 1432.42 Q138.862 1437 138.862 1445.75 Q138.862 1454.48 135.783 1459.08 Q132.728 1463.67 126.918 1463.67 Q121.107 1463.67 118.029 1459.08 Q114.973 1454.48 114.973 1445.75 Q114.973 1437 118.029 1432.42 Q121.107 1427.81 126.918 1427.81 Z\" fill=\"#000000\" fill-rule=\"evenodd\" fill-opacity=\"1\" /><path clip-path=\"url(#clip960)\" d=\"M 0 0 M65.5291 1092.08 Q61.918 1092.08 60.0893 1095.64 Q58.2838 1099.19 58.2838 1106.32 Q58.2838 1113.42 60.0893 1116.99 Q61.918 1120.53 65.5291 1120.53 Q69.1633 1120.53 70.9689 1116.99 Q72.7976 1113.42 72.7976 1106.32 Q72.7976 1099.19 70.9689 1095.64 Q69.1633 1092.08 65.5291 1092.08 M65.5291 1088.38 Q71.3392 1088.38 74.3948 1092.98 Q77.4735 1097.57 77.4735 1106.32 Q77.4735 1115.04 74.3948 1119.65 Q71.3392 1124.23 65.5291 1124.23 Q59.7189 1124.23 56.6402 1119.65 Q53.5847 1115.04 53.5847 1106.32 Q53.5847 1097.57 56.6402 1092.98 Q59.7189 1088.38 65.5291 1088.38 Z\" fill=\"#000000\" fill-rule=\"evenodd\" fill-opacity=\"1\" /><path clip-path=\"url(#clip960)\" d=\"M 0 0 M82.5429 1117.68 L87.4271 1117.68 L87.4271 1123.56 L82.5429 1123.56 L82.5429 1117.68 Z\" fill=\"#000000\" fill-rule=\"evenodd\" fill-opacity=\"1\" /><path clip-path=\"url(#clip960)\" d=\"M 0 0 M96.5243 1119.63 L112.844 1119.63 L112.844 1123.56 L90.8993 1123.56 L90.8993 1119.63 Q93.5613 1116.87 98.1447 1112.24 Q102.751 1107.59 103.932 1106.25 Q106.177 1103.72 107.057 1101.99 Q107.959 1100.23 107.959 1098.54 Q107.959 1095.78 106.015 1094.05 Q104.094 1092.31 100.992 1092.31 Q98.7928 1092.31 96.3391 1093.07 Q93.9086 1093.84 91.1308 1095.39 L91.1308 1090.67 Q93.9549 1089.53 96.4085 1088.95 Q98.8622 1088.38 100.899 1088.38 Q106.27 1088.38 109.464 1091.06 Q112.658 1093.75 112.658 1098.24 Q112.658 1100.37 111.848 1102.29 Q111.061 1104.19 108.955 1106.78 Q108.376 1107.45 105.274 1110.67 Q102.172 1113.86 96.5243 1119.63 Z\" fill=\"#000000\" fill-rule=\"evenodd\" fill-opacity=\"1\" /><path clip-path=\"url(#clip960)\" d=\"M 0 0 M117.959 1089 L136.316 1089 L136.316 1092.94 L122.242 1092.94 L122.242 1101.41 Q123.26 1101.06 124.279 1100.9 Q125.297 1100.71 126.316 1100.71 Q132.103 1100.71 135.482 1103.89 Q138.862 1107.06 138.862 1112.47 Q138.862 1118.05 135.39 1121.15 Q131.918 1124.23 125.598 1124.23 Q123.422 1124.23 121.154 1123.86 Q118.908 1123.49 116.501 1122.75 L116.501 1118.05 Q118.584 1119.19 120.807 1119.74 Q123.029 1120.3 125.506 1120.3 Q129.51 1120.3 131.848 1118.19 Q134.186 1116.08 134.186 1112.47 Q134.186 1108.86 131.848 1106.76 Q129.51 1104.65 125.506 1104.65 Q123.631 1104.65 121.756 1105.07 Q119.904 1105.48 117.959 1106.36 L117.959 1089 Z\" fill=\"#000000\" fill-rule=\"evenodd\" fill-opacity=\"1\" /><path clip-path=\"url(#clip960)\" d=\"M 0 0 M63.9319 752.645 Q60.3208 752.645 58.4921 756.209 Q56.6865 759.751 56.6865 766.881 Q56.6865 773.987 58.4921 777.552 Q60.3208 781.094 63.9319 781.094 Q67.5661 781.094 69.3717 777.552 Q71.2004 773.987 71.2004 766.881 Q71.2004 759.751 69.3717 756.209 Q67.5661 752.645 63.9319 752.645 M63.9319 748.941 Q69.742 748.941 72.7976 753.547 Q75.8763 758.131 75.8763 766.881 Q75.8763 775.608 72.7976 780.214 Q69.742 784.797 63.9319 784.797 Q58.1217 784.797 55.043 780.214 Q51.9875 775.608 51.9875 766.881 Q51.9875 758.131 55.043 753.547 Q58.1217 748.941 63.9319 748.941 Z\" fill=\"#000000\" fill-rule=\"evenodd\" fill-opacity=\"1\" /><path clip-path=\"url(#clip960)\" d=\"M 0 0 M80.9457 778.246 L85.8299 778.246 L85.8299 784.126 L80.9457 784.126 L80.9457 778.246 Z\" fill=\"#000000\" fill-rule=\"evenodd\" fill-opacity=\"1\" /><path clip-path=\"url(#clip960)\" d=\"M 0 0 M90.9456 749.566 L109.302 749.566 L109.302 753.501 L95.228 753.501 L95.228 761.973 Q96.2465 761.626 97.265 761.464 Q98.2835 761.279 99.3021 761.279 Q105.089 761.279 108.469 764.45 Q111.848 767.621 111.848 773.038 Q111.848 778.617 108.376 781.719 Q104.904 784.797 98.5845 784.797 Q96.4085 784.797 94.14 784.427 Q91.8947 784.057 89.4873 783.316 L89.4873 778.617 Q91.5706 779.751 93.7928 780.307 Q96.015 780.862 98.4919 780.862 Q102.496 780.862 104.834 778.756 Q107.172 776.649 107.172 773.038 Q107.172 769.427 104.834 767.321 Q102.496 765.214 98.4919 765.214 Q96.6169 765.214 94.7419 765.631 Q92.89 766.047 90.9456 766.927 L90.9456 749.566 Z\" fill=\"#000000\" fill-rule=\"evenodd\" fill-opacity=\"1\" /><path clip-path=\"url(#clip960)\" d=\"M 0 0 M126.918 752.645 Q123.307 752.645 121.478 756.209 Q119.672 759.751 119.672 766.881 Q119.672 773.987 121.478 777.552 Q123.307 781.094 126.918 781.094 Q130.552 781.094 132.357 777.552 Q134.186 773.987 134.186 766.881 Q134.186 759.751 132.357 756.209 Q130.552 752.645 126.918 752.645 M126.918 748.941 Q132.728 748.941 135.783 753.547 Q138.862 758.131 138.862 766.881 Q138.862 775.608 135.783 780.214 Q132.728 784.797 126.918 784.797 Q121.107 784.797 118.029 780.214 Q114.973 775.608 114.973 766.881 Q114.973 758.131 118.029 753.547 Q121.107 748.941 126.918 748.941 Z\" fill=\"#000000\" fill-rule=\"evenodd\" fill-opacity=\"1\" /><path clip-path=\"url(#clip960)\" d=\"M 0 0 M64.8346 413.21 Q61.2236 413.21 59.3949 416.775 Q57.5893 420.316 57.5893 427.446 Q57.5893 434.552 59.3949 438.117 Q61.2236 441.659 64.8346 441.659 Q68.4689 441.659 70.2744 438.117 Q72.1031 434.552 72.1031 427.446 Q72.1031 420.316 70.2744 416.775 Q68.4689 413.21 64.8346 413.21 M64.8346 409.506 Q70.6448 409.506 73.7003 414.113 Q76.779 418.696 76.779 427.446 Q76.779 436.173 73.7003 440.779 Q70.6448 445.362 64.8346 445.362 Q59.0245 445.362 55.9458 440.779 Q52.8903 436.173 52.8903 427.446 Q52.8903 418.696 55.9458 414.113 Q59.0245 409.506 64.8346 409.506 Z\" fill=\"#000000\" fill-rule=\"evenodd\" fill-opacity=\"1\" /><path clip-path=\"url(#clip960)\" d=\"M 0 0 M81.8484 438.812 L86.7327 438.812 L86.7327 444.691 L81.8484 444.691 L81.8484 438.812 Z\" fill=\"#000000\" fill-rule=\"evenodd\" fill-opacity=\"1\" /><path clip-path=\"url(#clip960)\" d=\"M 0 0 M90.6215 410.131 L112.844 410.131 L112.844 412.122 L100.297 444.691 L95.4132 444.691 L107.219 414.066 L90.6215 414.066 L90.6215 410.131 Z\" fill=\"#000000\" fill-rule=\"evenodd\" fill-opacity=\"1\" /><path clip-path=\"url(#clip960)\" d=\"M 0 0 M117.959 410.131 L136.316 410.131 L136.316 414.066 L122.242 414.066 L122.242 422.538 Q123.26 422.191 124.279 422.029 Q125.297 421.844 126.316 421.844 Q132.103 421.844 135.482 425.015 Q138.862 428.187 138.862 433.603 Q138.862 439.182 135.39 442.284 Q131.918 445.362 125.598 445.362 Q123.422 445.362 121.154 444.992 Q118.908 444.622 116.501 443.881 L116.501 439.182 Q118.584 440.316 120.807 440.872 Q123.029 441.427 125.506 441.427 Q129.51 441.427 131.848 439.321 Q134.186 437.214 134.186 433.603 Q134.186 429.992 131.848 427.886 Q129.51 425.779 125.506 425.779 Q123.631 425.779 121.756 426.196 Q119.904 426.613 117.959 427.492 L117.959 410.131 Z\" fill=\"#000000\" fill-rule=\"evenodd\" fill-opacity=\"1\" /><path clip-path=\"url(#clip960)\" d=\"M 0 0 M54.9736 101.321 L62.6124 101.321 L62.6124 74.9555 L54.3023 76.6222 L54.3023 72.3629 L62.5661 70.6963 L67.242 70.6963 L67.242 101.321 L74.8809 101.321 L74.8809 105.256 L54.9736 105.256 L54.9736 101.321 Z\" fill=\"#000000\" fill-rule=\"evenodd\" fill-opacity=\"1\" /><path clip-path=\"url(#clip960)\" d=\"M 0 0 M79.9503 99.3767 L84.8345 99.3767 L84.8345 105.256 L79.9503 105.256 L79.9503 99.3767 Z\" fill=\"#000000\" fill-rule=\"evenodd\" fill-opacity=\"1\" /><path clip-path=\"url(#clip960)\" d=\"M 0 0 M99.9039 73.775 Q96.2928 73.775 94.4641 77.3398 Q92.6586 80.8814 92.6586 88.011 Q92.6586 95.1174 94.4641 98.6822 Q96.2928 102.224 99.9039 102.224 Q103.538 102.224 105.344 98.6822 Q107.172 95.1174 107.172 88.011 Q107.172 80.8814 105.344 77.3398 Q103.538 73.775 99.9039 73.775 M99.9039 70.0713 Q105.714 70.0713 108.77 74.6777 Q111.848 79.261 111.848 88.011 Q111.848 96.7378 108.77 101.344 Q105.714 105.928 99.9039 105.928 Q94.0937 105.928 91.0151 101.344 Q87.9595 96.7378 87.9595 88.011 Q87.9595 79.261 91.0151 74.6777 Q94.0937 70.0713 99.9039 70.0713 Z\" fill=\"#000000\" fill-rule=\"evenodd\" fill-opacity=\"1\" /><path clip-path=\"url(#clip960)\" d=\"M 0 0 M126.918 73.775 Q123.307 73.775 121.478 77.3398 Q119.672 80.8814 119.672 88.011 Q119.672 95.1174 121.478 98.6822 Q123.307 102.224 126.918 102.224 Q130.552 102.224 132.357 98.6822 Q134.186 95.1174 134.186 88.011 Q134.186 80.8814 132.357 77.3398 Q130.552 73.775 126.918 73.775 M126.918 70.0713 Q132.728 70.0713 135.783 74.6777 Q138.862 79.261 138.862 88.011 Q138.862 96.7378 135.783 101.344 Q132.728 105.928 126.918 105.928 Q121.107 105.928 118.029 101.344 Q114.973 96.7378 114.973 88.011 Q114.973 79.261 118.029 74.6777 Q121.107 70.0713 126.918 70.0713 Z\" fill=\"#000000\" fill-rule=\"evenodd\" fill-opacity=\"1\" /><polyline clip-path=\"url(#clip962)\" style=\"stroke:#009af9; stroke-width:4; stroke-opacity:1; fill:none\" points=\"\n",
       "  236.501,1445.72 257.254,1093.81 278.008,833.119 298.762,639.992 319.515,496.92 340.269,390.929 361.023,312.409 381.776,254.24 402.53,211.148 423.284,179.224 \n",
       "  444.038,155.574 464.791,138.054 485.545,125.075 506.299,115.46 527.052,108.336 547.806,103.059 568.56,99.1501 589.314,96.2541 610.067,94.1086 630.821,92.5192 \n",
       "  651.575,91.3418 672.328,90.4695 693.082,89.8233 713.836,89.3446 734.589,88.9899 755.343,88.7272 776.097,88.5326 796.851,88.3884 817.604,88.2816 838.358,88.2025 \n",
       "  859.112,88.1438 879.865,88.1004 900.619,88.0682 921.373,88.0444 942.127,88.0267 962.88,88.0137 983.634,88.004 1004.39,87.9968 1025.14,87.9915 1045.9,87.9875 \n",
       "  1066.65,87.9846 1087.4,87.9825 1108.16,87.9809 1128.91,87.9797 1149.66,87.9788 1170.42,87.9781 1191.17,87.9777 1211.92,87.9773 1232.68,87.977 1253.43,87.9768 \n",
       "  1274.19,87.9767 1294.94,87.9766 1315.69,87.9765 1336.45,87.9764 1357.2,87.9764 1377.95,87.9764 1398.71,87.9763 1419.46,87.9763 1440.22,87.9763 1460.97,87.9763 \n",
       "  1481.72,87.9763 1502.48,87.9763 1523.23,87.9763 1543.98,87.9763 1564.74,87.9763 1585.49,87.9763 1606.25,87.9763 1627,87.9763 1647.75,87.9763 1668.51,87.9763 \n",
       "  1689.26,87.9763 1710.01,87.9763 1730.77,87.9763 1751.52,87.9763 1772.27,87.9763 1793.03,87.9763 1813.78,87.9763 1834.54,87.9763 1855.29,87.9763 1876.04,87.9763 \n",
       "  1896.8,87.9763 1917.55,87.9763 1938.3,87.9763 1959.06,87.9763 1979.81,87.9763 2000.57,87.9763 2021.32,87.9763 2042.07,87.9763 2062.83,87.9763 2083.58,87.9763 \n",
       "  2104.33,87.9763 2125.09,87.9763 2145.84,87.9763 2166.6,87.9763 2187.35,87.9763 2208.1,87.9763 2228.86,87.9763 2249.61,87.9763 2270.36,87.9763 2291.12,87.9763 \n",
       "  \n",
       "  \"/>\n",
       "<path clip-path=\"url(#clip960)\" d=\"\n",
       "M1987.15 216.178 L2280.16 216.178 L2280.16 95.2176 L1987.15 95.2176  Z\n",
       "  \" fill=\"#ffffff\" fill-rule=\"evenodd\" fill-opacity=\"1\"/>\n",
       "<polyline clip-path=\"url(#clip960)\" style=\"stroke:#000000; stroke-width:4; stroke-opacity:1; fill:none\" points=\"\n",
       "  1987.15,216.178 2280.16,216.178 2280.16,95.2176 1987.15,95.2176 1987.15,216.178 \n",
       "  \"/>\n",
       "<polyline clip-path=\"url(#clip960)\" style=\"stroke:#009af9; stroke-width:4; stroke-opacity:1; fill:none\" points=\"\n",
       "  2011.35,155.698 2156.54,155.698 \n",
       "  \"/>\n",
       "<path clip-path=\"url(#clip960)\" d=\"M 0 0 M2194.59 175.385 Q2192.78 180.015 2191.07 181.427 Q2189.35 182.839 2186.48 182.839 L2183.08 182.839 L2183.08 179.274 L2185.58 179.274 Q2187.34 179.274 2188.31 178.44 Q2189.29 177.607 2190.47 174.505 L2191.23 172.561 L2180.74 147.052 L2185.26 147.052 L2193.36 167.329 L2201.46 147.052 L2205.97 147.052 L2194.59 175.385 Z\" fill=\"#000000\" fill-rule=\"evenodd\" fill-opacity=\"1\" /><path clip-path=\"url(#clip960)\" d=\"M 0 0 M2211.85 169.042 L2219.49 169.042 L2219.49 142.677 L2211.18 144.343 L2211.18 140.084 L2219.45 138.418 L2224.12 138.418 L2224.12 169.042 L2231.76 169.042 L2231.76 172.978 L2211.85 172.978 L2211.85 169.042 Z\" fill=\"#000000\" fill-rule=\"evenodd\" fill-opacity=\"1\" /></svg>\n"
      ]
     },
     "execution_count": 24,
     "metadata": {},
     "output_type": "execute_result"
    }
   ],
   "source": [
    "using Plots\n",
    "function draw_exponential(lambda::Real)\n",
    "    N = 100\n",
    "    y = zeros(N)\n",
    "    for n = 1:N\n",
    "        y[n] = 1 - exp(-lambda * (n-1))\n",
    "    end\n",
    "    plot(y)\n",
    "end\n",
    "draw_exponential(0.3)"
   ]
  },
  {
   "cell_type": "code",
   "execution_count": 27,
   "metadata": {},
   "outputs": [
    {
     "data": {
      "text/plain": [
       "iterate_value_function (generic function with 2 methods)"
      ]
     },
     "execution_count": 27,
     "metadata": {},
     "output_type": "execute_result"
    }
   ],
   "source": [
    "function iterate_value_function(V::Array{Float64,1}, w::Float64, b1::Float64, b2::Float64, β::Float64, λ::Float64, μ::Float64)\n",
    "    T = length(V) - 2\n",
    "    new_V = similar(V)\n",
    "    effort = similar(V)\n",
    "    # what if changing in place\n",
    "    \n",
    "    # unlike in eq (**), denote employment state with T+2 (as opposed to 0, which is not a valid julia index)\n",
    "    new_V[T+2] = w + β*((1-μ)*V[T+2] + μ*V[1])\n",
    "    effort[T+2] = 0.0\n",
    "    # for every other state, use same index t as in formula\n",
    "    for t = 1:T\n",
    "        effort[t] = max(0, 1/λ*(log(β) + log(λ) + log(V[T+2]-V[t+1])))\n",
    "        prob_find_job = 1 - exp(-λ*effort[t])\n",
    "        # i had a mistake before, not subtracting effort from current payoff\n",
    "        new_V[t] = b1 - effort[t] + β*(prob_find_job*V[T+2] + (1-prob_find_job)*V[t+1])\n",
    "    end\n",
    "    # long-term unemployed\n",
    "    effort[T+1] = max(0, 1/λ*(log(β) + log(λ) + log(V[T+2]-V[T+1])))\n",
    "    prob_find_job = 1 - exp(-λ*effort[T+1])\n",
    "    new_V[T+1] = b2 -effort[T+1] + β*(prob_find_job*V[T+2] + (1-prob_find_job)*V[T+1])\n",
    "    return new_V, effort\n",
    "end"
   ]
  },
  {
   "cell_type": "code",
   "execution_count": 4,
   "metadata": {},
   "outputs": [
    {
     "data": {
      "text/plain": [
       "2×2 Array{Float64,2}:\n",
       " 0.0  0.0\n",
       " 0.0  0.0"
      ]
     },
     "execution_count": 4,
     "metadata": {},
     "output_type": "execute_result"
    }
   ],
   "source": [
    "A = [1 2; 3 4]\n",
    "B = similar(A)\n",
    "C = zeros(size(A))"
   ]
  },
  {
   "cell_type": "code",
   "execution_count": 30,
   "metadata": {},
   "outputs": [
    {
     "name": "stdout",
     "output_type": "stream",
     "text": [
      "[92.53214467991339, 92.29219883155308, 92.03080485319687, 91.74389594734241, 91.42638070281691, 91.07179362384062, 90.67179362384063, 128.47457120836833]\n",
      "[0.07411163723458536, 0.08075259855286099, 0.08793298018985762, 0.09574969617158036, 0.10432220053100494, 0.11379957607534141, 0.11379957607534141, 0.0]\n"
     ]
    }
   ],
   "source": [
    "V = zeros(8)\n",
    "effort = similar(V)\n",
    "λ = 0.03\n",
    "for k = 1:200000\n",
    "    new_V, effort = iterate_value_function(V, 1.0, 0.6, 0.2, 0.995, λ, 0.01)\n",
    "    V = new_V\n",
    "end\n",
    "println(V)\n",
    "println(1 .- exp.(-λ*effort))"
   ]
  },
  {
   "cell_type": "code",
   "execution_count": 6,
   "metadata": {},
   "outputs": [
    {
     "data": {
      "text/plain": [
       "0.05823546641575128"
      ]
     },
     "execution_count": 6,
     "metadata": {},
     "output_type": "execute_result"
    }
   ],
   "source": [
    "1-exp(-0.6*0.1)"
   ]
  },
  {
   "cell_type": "code",
   "execution_count": null,
   "metadata": {},
   "outputs": [],
   "source": []
  },
  {
   "cell_type": "code",
   "execution_count": null,
   "metadata": {},
   "outputs": [],
   "source": []
  },
  {
   "cell_type": "code",
   "execution_count": null,
   "metadata": {},
   "outputs": [],
   "source": []
  }
 ],
 "metadata": {
  "kernelspec": {
   "display_name": "Julia 1.4.2",
   "language": "julia",
   "name": "julia-1.4"
  },
  "language_info": {
   "file_extension": ".jl",
   "mimetype": "application/julia",
   "name": "julia",
   "version": "1.4.2"
  }
 },
 "nbformat": 4,
 "nbformat_minor": 4
}

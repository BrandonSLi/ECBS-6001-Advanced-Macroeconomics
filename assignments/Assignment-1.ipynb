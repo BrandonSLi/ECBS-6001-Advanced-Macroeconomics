{
 "cells": [
  {
   "cell_type": "markdown",
   "metadata": {},
   "source": [
    "# Assignment 1\n",
    "## The SIR model of epidemiology\n",
    "\n",
    "We are studying the spread of a virus. Each person can be in one of three states: S (susceptible), I (infective), R (removed). The virus is spread by infective people if they meet with someone susceptible. Those removed from the model (because of immunity) can no longer get the virus.\n",
    "\n",
    "We model the process of infections in a large population using a daily Markov chain. Because population is large, probabilities of being in a state are the same as the fraction of people being in that state. So we can use the Markov chain not only to forecast the probabilities of one individual, but the shares of population infected.\n",
    "\n",
    "* \"Removed\" is an absorbing state, once people get there, they can no longer becone susceptible or infective.\n",
    "* The probability of an infective person getting cured (and hence becoming removed) is a constant $\\mu$ each day. With probability $1-\\mu$ they remain infective.\n",
    "* The probability of a susceptive person becoming infective depends on the fraction of people already infective. If this fraction is denoted $\\pi_{It}$, then S people will become I with probability $\\lambda \\pi_{It}$ each day."
   ]
  },
  {
   "cell_type": "markdown",
   "metadata": {},
   "source": [
    "### 1. Write down the transition matrix governing this Markov chain"
   ]
  },
  {
   "cell_type": "markdown",
   "metadata": {},
   "source": []
  },
  {
   "cell_type": "markdown",
   "metadata": {},
   "source": [
    "### 2. Show that in the steady state, the share of infective people is zero"
   ]
  },
  {
   "cell_type": "markdown",
   "metadata": {},
   "source": []
  },
  {
   "cell_type": "markdown",
   "metadata": {},
   "source": [
    "### 3. Show that if $\\lambda/\\mu < 1$, the share of infective people is monotonically decreasing"
   ]
  },
  {
   "cell_type": "markdown",
   "metadata": {},
   "source": []
  },
  {
   "cell_type": "markdown",
   "metadata": {},
   "source": [
    "### 4. Show that, if $\\lambda/\\mu > 1$, the share of infective people reaches its peak when the share of *susceptible* people equals $\\mu/\\lambda$"
   ]
  },
  {
   "cell_type": "markdown",
   "metadata": {},
   "source": []
  },
  {
   "cell_type": "markdown",
   "metadata": {},
   "source": [
    "### 5. Write a Julia function that forecasts the Markov chain from a given starting value"
   ]
  },
  {
   "cell_type": "code",
   "execution_count": null,
   "metadata": {},
   "outputs": [],
   "source": []
  },
  {
   "cell_type": "markdown",
   "metadata": {},
   "source": [
    "### 6. Plot the time series of the share of infective people for $\\mu=0.1$, $\\lambda=0.25$ and $\\pi_{I0}=0.01$, $\\pi_{S0} = 0.99$."
   ]
  },
  {
   "cell_type": "code",
   "execution_count": null,
   "metadata": {},
   "outputs": [],
   "source": []
  },
  {
   "cell_type": "markdown",
   "metadata": {},
   "source": [
    "### 7. Write a function that plots the peak of the share of infective people against $\\lambda$ for a given $\\mu=0.1$ and $\\pi_{I0}=0.01$. Discuss what you learn."
   ]
  },
  {
   "cell_type": "code",
   "execution_count": null,
   "metadata": {},
   "outputs": [],
   "source": []
  },
  {
   "cell_type": "code",
   "execution_count": null,
   "metadata": {},
   "outputs": [],
   "source": []
  }
 ],
 "metadata": {
  "kernelspec": {
   "display_name": "Julia 1.4.2",
   "language": "julia",
   "name": "julia-1.4"
  },
  "language_info": {
   "file_extension": ".jl",
   "mimetype": "application/julia",
   "name": "julia",
   "version": "1.4.2"
  }
 },
 "nbformat": 4,
 "nbformat_minor": 4
}

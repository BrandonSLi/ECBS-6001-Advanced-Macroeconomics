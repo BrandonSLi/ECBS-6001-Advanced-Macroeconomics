{
 "cells": [
  {
   "cell_type": "markdown",
   "metadata": {},
   "source": [
    "# Assignment 2\n",
    "## Long-term unemployment with random duration\n",
    "Take the model of unemployment discussed in class, with $b_1>b_2$ benefits being higher for short-term unemployed. Workers are fired with probability $\\mu$ each month, in which case they become short-term unemployed, eligible for benefit $b_1$.\n",
    "\n",
    "This higher benefit is not until a fixed period. Rather, unemployed lose their eligibility with probability $\\tau$ each month. After losing their benefit, they receive $b_2$ each month until they find a job. (There is no way to go back to the higher benefit.)\n",
    "\n",
    "Search technology is such that with $e$ effort the person finds a job with probability $1-\\exp(-\\lambda e)$ for $\\lambda>0$. Efforts incur a linear disutility, that is, an unemployed with benefit $b$ exerting search effort $e$ receives per-period utility $b-e$."
   ]
  },
  {
   "cell_type": "markdown",
   "metadata": {},
   "source": [
    "### 1. What are the states in this problem? Write down the transition matrix for this Markov chain."
   ]
  },
  {
   "cell_type": "code",
   "execution_count": null,
   "metadata": {},
   "outputs": [],
   "source": []
  },
  {
   "cell_type": "markdown",
   "metadata": {},
   "source": [
    "### 2. Write down the Bellman equation for each of the states. Interpret the economic meanings of each term."
   ]
  },
  {
   "cell_type": "code",
   "execution_count": null,
   "metadata": {},
   "outputs": [],
   "source": []
  },
  {
   "cell_type": "markdown",
   "metadata": {},
   "source": [
    "### 3. Show that unemployed who have already lost their eligibility for higher benefits search harder."
   ]
  },
  {
   "cell_type": "code",
   "execution_count": null,
   "metadata": {},
   "outputs": [],
   "source": []
  },
  {
   "cell_type": "markdown",
   "metadata": {},
   "source": [
    "### 4. Numerically compute the solution of the model (value and policy, also job-finding probability) for $\\mu=0.01$, $\\lambda=0.03$, $\\tau=0.15$ and $\\beta=0.995$. You can use either value function iteration or policy function iteration."
   ]
  },
  {
   "cell_type": "code",
   "execution_count": null,
   "metadata": {},
   "outputs": [],
   "source": []
  },
  {
   "cell_type": "code",
   "execution_count": null,
   "metadata": {},
   "outputs": [],
   "source": []
  },
  {
   "cell_type": "code",
   "execution_count": null,
   "metadata": {},
   "outputs": [],
   "source": []
  },
  {
   "cell_type": "code",
   "execution_count": null,
   "metadata": {},
   "outputs": [],
   "source": []
  }
 ],
 "metadata": {
  "kernelspec": {
   "display_name": "Julia 1.4.2",
   "language": "julia",
   "name": "julia-1.4"
  },
  "language_info": {
   "file_extension": ".jl",
   "mimetype": "application/julia",
   "name": "julia",
   "version": "1.4.2"
  }
 },
 "nbformat": 4,
 "nbformat_minor": 4
}

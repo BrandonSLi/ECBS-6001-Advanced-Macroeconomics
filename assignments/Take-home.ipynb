{
 "cells": [
  {
   "cell_type": "markdown",
   "metadata": {},
   "source": [
    "# Take-home problem\n",
    "## The Klette-Kortum model of innovation\n",
    "You will be working with the Klette-Kortum model of firm innovation.\n",
    "> Klette, Tor, and Samuel Kortum. 2004. “Innovating Firms and Aggregate Innovation.” The Journal of Political Economy 112 (5): 986–1018.\n",
    "\n",
    "Feel free to look at that paper for guidance (it is one my favorite economics papers ever), but the equations may not be directly applicable as their model is in continuous time.\n",
    "\n",
    "Firms enter a discrete number of markets, making profit $\\pi$ in each. If a firm is present in $n$ markets, its flow profits are $n\\pi$.\n",
    "\n",
    "Firms innovate to enter new markets. They spend $I$ amount on innovation. The output of innovation is\n",
    "$$\n",
    "\\lambda = A n^\\alpha I^{1-\\alpha},\n",
    "$$\n",
    "meaning that they can get a new market with probability $\\lambda$. (We assume that $A$ is small enough that $\\lambda<1$.)\n",
    "\n",
    "However, markets are also \"stolen\" from firms by other competitors. This happens, for **each market**, with probability $\\mu$. (In general equilibrium, there will be a link between $\\lambda$ and $\\mu$, because another firm's success is my failure, but we disregard that link in this problem.) To approximate, we say that the probability of losing exactly 1 market is $n\\mu$ and you can never lose two markets at the same time. "
   ]
  },
  {
   "cell_type": "markdown",
   "metadata": {},
   "source": [
    "### 1. What are the state and decision variables in this problem?"
   ]
  },
  {
   "cell_type": "code",
   "execution_count": null,
   "metadata": {},
   "outputs": [],
   "source": []
  },
  {
   "cell_type": "markdown",
   "metadata": {},
   "source": [
    "### 2. Write down the Bellman equation of firms that maximize expected profits and discount the future at the rate $\\beta$."
   ]
  },
  {
   "cell_type": "code",
   "execution_count": null,
   "metadata": {},
   "outputs": [],
   "source": []
  },
  {
   "cell_type": "markdown",
   "metadata": {},
   "source": [
    "### 3. Write down the optimality condition for innovation. Hint: guess that the value function is linear in the state variable."
   ]
  },
  {
   "cell_type": "code",
   "execution_count": null,
   "metadata": {},
   "outputs": [],
   "source": []
  },
  {
   "cell_type": "markdown",
   "metadata": {},
   "source": [
    "### 4. Using a constant $\\lambda$ and $\\mu$, write down the transition matrix for the Markov chain and find its steady-state distribution. Under what conditions does it exist?"
   ]
  },
  {
   "cell_type": "code",
   "execution_count": null,
   "metadata": {},
   "outputs": [],
   "source": []
  },
  {
   "cell_type": "markdown",
   "metadata": {},
   "source": [
    "### 5. Using either value function iteration or policy function iteration, computationally solve the Bellman equation (together  with the equation characterizing optimal policy). Make sure to enforce parameter restrictions so that your equations and probabilities make sense."
   ]
  },
  {
   "cell_type": "code",
   "execution_count": null,
   "metadata": {},
   "outputs": [],
   "source": []
  },
  {
   "cell_type": "markdown",
   "metadata": {},
   "source": [
    "### 6. For a choice of parameter values, plot the stationary distribution of the state variable. Show how it changes if innovation becomes more productive ($A$ goes up)."
   ]
  },
  {
   "cell_type": "code",
   "execution_count": null,
   "metadata": {},
   "outputs": [],
   "source": []
  }
 ],
 "metadata": {
  "kernelspec": {
   "display_name": "Julia 1.4.2",
   "language": "julia",
   "name": "julia-1.4"
  },
  "language_info": {
   "file_extension": ".jl",
   "mimetype": "application/julia",
   "name": "julia",
   "version": "1.4.2"
  }
 },
 "nbformat": 4,
 "nbformat_minor": 4
}
